{
 "cells": [
  {
   "cell_type": "code",
   "execution_count": null,
   "metadata": {},
   "outputs": [],
   "source": []
  },
  {
   "cell_type": "markdown",
   "metadata": {},
   "source": [
    "# [43. 字符串相乘](https://leetcode.cn/problems/multiply-strings)\n",
    "\n",
    "[English Version](/solution/0000-0099/0043.Multiply%20Strings/README_EN.md)\n",
    "\n",
    "## 题目描述\n",
    "\n",
    "<!-- 这里写题目描述 -->\n",
    "\n",
    "<p>给定两个以字符串形式表示的非负整数&nbsp;<code>num1</code>&nbsp;和&nbsp;<code>num2</code>，返回&nbsp;<code>num1</code>&nbsp;和&nbsp;<code>num2</code>&nbsp;的乘积，它们的乘积也表示为字符串形式。</p>\n",
    "\n",
    "<p><strong>注意：</strong>不能使用任何内置的 BigInteger 库或直接将输入转换为整数。</p>\n",
    "\n",
    "<p>&nbsp;</p>\n",
    "\n",
    "<p><strong>示例 1:</strong></p>\n",
    "\n",
    "<pre>\n",
    "<strong>输入:</strong> num1 = \"2\", num2 = \"3\"\n",
    "<strong>输出:</strong> \"6\"</pre>\n",
    "\n",
    "<p><strong>示例&nbsp;2:</strong></p>\n",
    "\n",
    "<pre>\n",
    "<strong>输入:</strong> num1 = \"123\", num2 = \"456\"\n",
    "<strong>输出:</strong> \"56088\"</pre>\n",
    "\n",
    "<p>&nbsp;</p>\n",
    "\n",
    "<p><strong>提示：</strong></p>\n",
    "\n",
    "<ul>\n",
    "\t<li><code>1 &lt;= num1.length, num2.length &lt;= 200</code></li>\n",
    "\t<li><code>num1</code>&nbsp;和 <code>num2</code>&nbsp;只能由数字组成。</li>\n",
    "\t<li><code>num1</code>&nbsp;和 <code>num2</code>&nbsp;都不包含任何前导零，除了数字0本身。</li>\n",
    "</ul>\n",
    "\n",
    "## 解法\n",
    "\n",
    "<!-- 这里可写通用的实现逻辑 -->\n",
    "\n",
    "<!-- tabs:start -->\n",
    "\n",
    "### **Python3**\n",
    "\n",
    "<!-- 这里可写当前语言的特殊实现逻辑 -->\n",
    "```"
   ]
  },
  {
   "cell_type": "markdown",
   "metadata": {},
   "source": [
    "  81\n",
    " 81"
   ]
  },
  {
   "cell_type": "code",
   "execution_count": 6,
   "metadata": {},
   "outputs": [
    {
     "name": "stdout",
     "output_type": "stream",
     "text": [
      "968\n",
      "9801\n",
      "0\n"
     ]
    }
   ],
   "source": [
    "class Solution:\n",
    "    def multiply(self, num1: str, num2: str) -> str:#非负数\n",
    "        def bit_multiply(b:int,num:str,offset:int):\n",
    "            j,index=len(num)-1,0\n",
    "            while j>=0:#逐位相加\n",
    "                res[offset+index]+=b*int(num[j])#这里最好把累加搞定了因为你不知道最后累加到几位数 81+9\n",
    "                carry,res[offset+index]=divmod(res[offset+index],10)#注意这里要搞一个carry，因为前一位不一定为0\n",
    "                res[offset+index+1]+=carry\n",
    "                index+=1\n",
    "                j-=1\n",
    "        res=[0]*(len(num1)+len(num2))\n",
    "        i,offset=len(num1)-1,0\n",
    "        while i>=0:#逐位相乘\n",
    "            bit_multiply(int(num1[i]),num2,offset)\n",
    "            i-=1\n",
    "            offset+=1\n",
    "        while len(res)!=1 and res[-1]==0:#防止出现0000\n",
    "            res.pop()\n",
    "        return ''.join(str(i) for i in res[::-1])\n",
    "            \n",
    "        \n",
    "if __name__==\"__main__\":\n",
    "    solution=Solution()\n",
    "    print(solution.multiply(\"88\",\"11\"))#968\n",
    "    print(solution.multiply(\"99\",\"99\"))#\n",
    "    print(solution.multiply(\"9912\",\"0\"))#\n",
    "    "
   ]
  }
 ],
 "metadata": {
  "kernelspec": {
   "display_name": "Python 3.9.12 ('base')",
   "language": "python",
   "name": "python3"
  },
  "language_info": {
   "codemirror_mode": {
    "name": "ipython",
    "version": 3
   },
   "file_extension": ".py",
   "mimetype": "text/x-python",
   "name": "python",
   "nbconvert_exporter": "python",
   "pygments_lexer": "ipython3",
   "version": "3.9.12"
  },
  "orig_nbformat": 4,
  "vscode": {
   "interpreter": {
    "hash": "7b93ae2ddedcfb4b7ddebf80c8c7984044339b2e43f10e14b9461f3e640893f2"
   }
  }
 },
 "nbformat": 4,
 "nbformat_minor": 2
}
