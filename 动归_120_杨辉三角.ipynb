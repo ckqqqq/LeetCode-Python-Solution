{
 "cells": [
  {
   "cell_type": "code",
   "execution_count": 4,
   "metadata": {},
   "outputs": [
    {
     "name": "stdout",
     "output_type": "stream",
     "text": [
      "[[2, inf, inf, inf], [inf, inf, inf, inf], [inf, inf, inf, inf], [inf, inf, inf, inf]]\n",
      "11\n",
      "[[-10]]\n",
      "-10\n"
     ]
    }
   ],
   "source": [
    "from typing import List\n",
    "#fn[x][y]=min(ti[x-1][y-1],tri[x][y])+self\n",
    "class Solution:\n",
    "    def minimumTotal(self, triangle: List[List[int]]) -> int:\n",
    "        if len(triangle)==0:\n",
    "            return 0\n",
    "        \n",
    "        dp=[[float('inf')]*len(triangle[-1]) for _ in range(len(triangle))]#如果是找最小值就请赋值到最大\n",
    "        dp[0][0]=triangle[0][0]\n",
    "        print(dp)\n",
    "        for x in range(1,len(triangle)):\n",
    "            for y in range(0,x+1):\n",
    "                if y==0:\n",
    "                    dp[x][0]=dp[x-1][0]+triangle[x][y]\n",
    "                else:\n",
    "                    dp[x][y]=min(dp[x-1][y-1],dp[x-1][y])+triangle[x][y]\n",
    "        ans=10000#如果是找最小值就请赋值到最大\n",
    "        for num in dp[-1]:#别选错了是dp数组不是 triangle\n",
    "            ans=min(ans,num)\n",
    "        return ans\n",
    "if __name__==\"__main__\":\n",
    "    solution=Solution()\n",
    "    print(solution.minimumTotal([[2],[3,4],[6,5,7],[4,1,8,3]]))\n",
    "    print(solution.minimumTotal([[-10]]))\n",
    "    "
   ]
  },
  {
   "cell_type": "markdown",
   "metadata": {},
   "source": [
    "代码优化，由于本题题目给了一个数组，有因为原有数组的大小和dp数组基本相同，所以可以通过在原有数组上直接修改"
   ]
  },
  {
   "cell_type": "markdown",
   "metadata": {},
   "source": [
    "2\n",
    "3 4\n",
    "6 5 7\n",
    "4 1 8 3\n",
    "逆向推导（不需要特判）"
   ]
  },
  {
   "cell_type": "code",
   "execution_count": 6,
   "metadata": {},
   "outputs": [
    {
     "name": "stdout",
     "output_type": "stream",
     "text": [
      "3\n",
      "-10\n"
     ]
    }
   ],
   "source": [
    "### 超棒的优化方式，既然正向推导需要if进行特判\n",
    "### 为何不尝试逆向推导？加法可具有交换性\n",
    "from typing import List\n",
    "#fn[x][y]=min(ti[x-1][y-1],tri[x][y])+self\n",
    "class Solution:\n",
    "    def minimumTotal(self, triangle: List[List[int]]) -> int:\n",
    "        for x in range(len(triangle)-1-1,-1,-1):#从倒数第二行开始到第0行\n",
    "            for y in range(x+1):#遍历这一行\n",
    "                #逆向选取min值\n",
    "                triangle[x][y]+=min(triangle[x+1][y],triangle[x+1][y+1])\n",
    "        return triangle[0][0]\n",
    "\n",
    "if __name__==\"__main__\":\n",
    "    solution=Solution()\n",
    "    print(solution.minimumTotal([[2],[3,4],[6,5,7],[4,1,8,3]]))\n",
    "    print(solution.minimumTotal([[-10]]))\n",
    "    "
   ]
  },
  {
   "cell_type": "markdown",
   "metadata": {},
   "source": []
  }
 ],
 "metadata": {
  "kernelspec": {
   "display_name": "Python 3.8.13 ('py38')",
   "language": "python",
   "name": "python3"
  },
  "language_info": {
   "codemirror_mode": {
    "name": "ipython",
    "version": 3
   },
   "file_extension": ".py",
   "mimetype": "text/x-python",
   "name": "python",
   "nbconvert_exporter": "python",
   "pygments_lexer": "ipython3",
   "version": "3.8.13"
  },
  "orig_nbformat": 4,
  "vscode": {
   "interpreter": {
    "hash": "76c3c49e318b7c885b43daef0aa3cfe4eb22ade01aff18419595a86661fada18"
   }
  }
 },
 "nbformat": 4,
 "nbformat_minor": 2
}
