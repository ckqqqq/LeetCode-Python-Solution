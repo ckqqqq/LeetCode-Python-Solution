{
 "cells": [
  {
   "cell_type": "code",
   "execution_count": null,
   "metadata": {},
   "outputs": [],
   "source": [
    "#斐波那契问题\n",
    "class Solution:\n",
    "    def climbStairs(self, n: int) -> int:\n",
    "        fn=[1,1,1]\n",
    "        for _ in range(1,n):\n",
    "            fn[2]=fn[1]+fn[0]\n",
    "            fn[1],fn[0]=fn[2],fn[1]# 这个交换是python相比其他语言最得天独厚的优势\n",
    "        return fn[2]"
   ]
  }
 ],
 "metadata": {
  "language_info": {
   "name": "python"
  },
  "orig_nbformat": 4
 },
 "nbformat": 4,
 "nbformat_minor": 2
}
