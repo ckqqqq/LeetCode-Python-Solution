{
 "cells": [
  {
   "cell_type": "code",
   "execution_count": 5,
   "metadata": {},
   "outputs": [
    {
     "name": "stdout",
     "output_type": "stream",
     "text": [
      "4\n",
      "2.5\n",
      "2\n"
     ]
    }
   ],
   "source": [
    "class Solution:\n",
    "    def mySqrt(self, x: int) -> int:\n",
    "        def fun1(a:float,h:int):\n",
    "            return a*a-h\n",
    "        def fun2(a:float):\n",
    "            return 2*a\n",
    "        x0=x\n",
    "        while fun1(x0,x)>=0.01:\n",
    "            print(x0)\n",
    "            x1=x0-fun1(x0,x)/fun2(x0)\n",
    "            x0=x1\n",
    "        return x0\n",
    "if __name__==\"__main__\":\n",
    "    solution=Solution()\n",
    "    print(solution.mySqrt(4))\n",
    "            "
   ]
  },
  {
   "cell_type": "markdown",
   "metadata": {},
   "source": [
    "##\n",
    "y=x^2\n",
    "y=2x\n",
    "2=x1-x2\n"
   ]
  }
 ],
 "metadata": {
  "kernelspec": {
   "display_name": "Python 3.8.13 ('py38')",
   "language": "python",
   "name": "python3"
  },
  "language_info": {
   "codemirror_mode": {
    "name": "ipython",
    "version": 3
   },
   "file_extension": ".py",
   "mimetype": "text/x-python",
   "name": "python",
   "nbconvert_exporter": "python",
   "pygments_lexer": "ipython3",
   "version": "3.8.13"
  },
  "orig_nbformat": 4,
  "vscode": {
   "interpreter": {
    "hash": "76c3c49e318b7c885b43daef0aa3cfe4eb22ade01aff18419595a86661fada18"
   }
  }
 },
 "nbformat": 4,
 "nbformat_minor": 2
}
