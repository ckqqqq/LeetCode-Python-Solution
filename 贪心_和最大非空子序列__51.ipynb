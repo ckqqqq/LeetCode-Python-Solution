{
 "cells": [
  {
   "cell_type": "code",
   "execution_count": null,
   "metadata": {},
   "outputs": [],
   "source": [
    "class Solution:\n",
    "    def maxSubArray(self, nums: List[int]) -> int:# 由于题目为非空子序列\n",
    "        res=-2**40# 如果答案为负数\n",
    "        cur=0\n",
    "        hasPos=False\n",
    "        for val in nums:\n",
    "            if cur<0: # 细节一，这里可以防止答案为负数\n",
    "                cur=0 # 这里容易将=写成==\n",
    "            cur+=val# 防止\n",
    "            res=max(res,cur)\n",
    "        return res\n"
   ]
  }
 ],
 "metadata": {
  "kernelspec": {
   "display_name": "base",
   "language": "python",
   "name": "python3"
  },
  "language_info": {
   "name": "python",
   "version": "3.9.12 (main, Apr  4 2022, 05:22:27) [MSC v.1916 64 bit (AMD64)]"
  },
  "orig_nbformat": 4,
  "vscode": {
   "interpreter": {
    "hash": "7b93ae2ddedcfb4b7ddebf80c8c7984044339b2e43f10e14b9461f3e640893f2"
   }
  }
 },
 "nbformat": 4,
 "nbformat_minor": 2
}
