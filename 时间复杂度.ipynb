{
 "cells": [
  {
   "cell_type": "markdown",
   "metadata": {},
   "source": [
    "''''\n",
    "注意，我们专注于平均情况。列表列表是迄今为止 Python 中最重要的数据结构之一。可以将列表用作堆栈（添加的最后一项是第一个输出）或队列（添加的第一个项目是第一个输出）。列表是有序且可变的集合，而且可以随意更新列表。\n",
    "列表常见操作的时间复杂度：\n",
    "插入：O(1) \n",
    "获取：O(n) \n",
    "删除：O(n)\n",
    "迭代：O(n)\n",
    "取长度：O(1)\n",
    "集合\n",
    "集合也是 Python 中使用最广泛的数据集合之一。python集合本质上是一个无序的集合。集合不允许重复，因此集合中的每个项目都是唯一的。集合支持并集、差集、集合的交集等多种数学运算。集合常见操作的时间复杂度： \n",
    "集合是否有元素：O(1)  \n",
    "求集合B与A的差： O(nA)O(n_A)O(n_A)   \n",
    "集合A和B的交集： O(min(nA,nB))O(min(n_A, n_B))O(min(n_A, n_B))   \n",
    "集合A和B的并集： O(nA+nB)O(n_A+n_B)O(n_A+n_B)  \n",
    "字典最后，分享下字典这一数据结构。字典是一个键值对集合。键在字典中是唯一的，以防止项目冲突。这是一个非常有用的特性。字典由键索引，其中键可以是字符串、数字甚至是带有字符串、数字或元组的元组。我们可以对字典执行许多操作，例如存储键的值，或基于键检索项目，或遍历元素等。字典常见操作的时间复杂度：\n",
    "获取元素：O(1)\n",
    "更新元素：O(1)\n",
    "删除元素：O(1)\n",
    "遍历字典：O(n)\n",
    "'''"
   ]
  },
  {
   "cell_type": "markdown",
   "metadata": {},
   "source": [
    "# map\n",
    "在java中 \n",
    "map和unorder_map类似，都是字典\n",
    "只不过后者允许null\n",
    "在python中map是一个函数\n",
    "···\n",
    "def square(x) :         # 计算平方数\n",
    "     return x ** 2\n",
    "map(square, [1,2,3,4,5])    # 计算列表各个元素的平方\n",
    "<map object at 0x100d3d550>     # 返回迭代器\n",
    "list(map(square, [1,2,3,4,5]))   # 使用 list() 转换为列表\n",
    "[1, 4, 9, 16, 25]\n",
    "list(map(lambda x: x ** 2, [1, 2, 3, 4, 5]))   # 使用 lambda 匿名函数\n",
    "[1, 4, 9, 16, 25]\n",
    "···\n",
    "\n",
    "# queue\n"
   ]
  },
  {
   "cell_type": "code",
   "execution_count": 1,
   "metadata": {},
   "outputs": [
    {
     "name": "stdout",
     "output_type": "stream",
     "text": [
      "1\n"
     ]
    }
   ],
   "source": [
    "from queue import Queue\n",
    "que=Queue()\n",
    "que.put(1)\n",
    "print(que.get())"
   ]
  },
  {
   "cell_type": "markdown",
   "metadata": {},
   "source": []
  },
  {
   "cell_type": "markdown",
   "metadata": {},
   "source": [
    "# python中各个容器的时间复杂度\n",
    "链接：https://www.zhihu.com/question/24909670/answer/2238473087\n"
   ]
  },
  {
   "cell_type": "markdown",
   "metadata": {},
   "source": [
    "# python中容器相互转化\n",
    "\n",
    "# 序列->元祖 ,\n",
    "tuple()\n",
    "```python\n",
    "list1 = [10, 20, 30, 40, 50]\n",
    "set1 = {100, 200, 300, 400, 500}\n",
    "print(tuple(list1))\n",
    "# (10, 20, 30, 40, 50)\n",
    "print(tuple(set1))\n",
    "# (100, 200, 300, 400, 500)\n",
    "```\n",
    "#序列->列表  []\n",
    "```python\n",
    "set1 = {100, 200, 300, 400, 500}\n",
    "tuple1 = ('a', 'b', 'c', 'd', 'e')\n",
    "\n",
    "print(list(tuple1))\n",
    "# ['a', 'b', 'c', 'd', 'e']\n",
    "\n",
    "print(list(set1))\n",
    "[100, 200, 300, 400, 500]\n",
    "``` \n",
    "# 序列->集合\n",
    "```python \n",
    "list1 = [10, 20, 30, 40, 50, 50]\n",
    "tuple1 = ('a', 'b', 'c', 'd', 'e')\n",
    "\n",
    "print(set(list1))\n",
    "# {40, 10, 50, 20, 30}\n",
    "# 汇合有去重性能，所以把反复的50去掉了\n",
    "\n",
    "print(set(tuple1))\n",
    "# {'c', 'd', 'e', 'a', 'b'}\n",
    "```"
   ]
  },
  {
   "cell_type": "markdown",
   "metadata": {},
   "source": [
    "#List切片"
   ]
  },
  {
   "cell_type": "code",
   "execution_count": 3,
   "metadata": {},
   "outputs": [
    {
     "name": "stdout",
     "output_type": "stream",
     "text": [
      "[1, 2]\n",
      "[1, 2, 3]\n",
      "[]\n"
     ]
    }
   ],
   "source": [
    "li=[1,2,3]\n",
    "print(li[:2])#不包含切片所在索引\n",
    "print(li[:3])#不包含切片所在索引\n",
    "print(li[:0])\n"
   ]
  }
 ],
 "metadata": {
  "kernelspec": {
   "display_name": "Python 3.9.12 ('base')",
   "language": "python",
   "name": "python3"
  },
  "language_info": {
   "codemirror_mode": {
    "name": "ipython",
    "version": 3
   },
   "file_extension": ".py",
   "mimetype": "text/x-python",
   "name": "python",
   "nbconvert_exporter": "python",
   "pygments_lexer": "ipython3",
   "version": "3.9.12 (main, Apr  4 2022, 05:22:27) [MSC v.1916 64 bit (AMD64)]"
  },
  "orig_nbformat": 4,
  "vscode": {
   "interpreter": {
    "hash": "7b93ae2ddedcfb4b7ddebf80c8c7984044339b2e43f10e14b9461f3e640893f2"
   }
  }
 },
 "nbformat": 4,
 "nbformat_minor": 2
}
