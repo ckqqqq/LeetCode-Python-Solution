{
 "cells": [
  {
   "attachments": {},
   "cell_type": "markdown",
   "metadata": {},
   "source": [
    "# top1的方法，其关键就是提前停止,r\n",
    "# 关键语句')'*right\n"
   ]
  },
  {
   "cell_type": "code",
   "execution_count": null,
   "metadata": {},
   "outputs": [],
   "source": [
    "\n",
    "class Solution:\n",
    "    def generateParenthesis(self, n: int) -> List[str]:\n",
    "        left = n\n",
    "        right = 0\n",
    "        ans =[]\n",
    "        def dfs(left,right,string,ans):\n",
    "            if left == 0:\n",
    "                string += ')'*right ## 这里是加速的关键，提前成倍加上右边，减去枝\n",
    "                ans.append(string)\n",
    "                return\n",
    "            if left >0:\n",
    "                dfs(left-1,right+1,string+'(',ans)\n",
    "            \n",
    "            if right >0:\n",
    "                dfs(left, right-1,string+')',ans)\n",
    "            if left<0: \n",
    "                print(\"直接舍弃\")\n",
    "        dfs(left,right,'',ans)\n",
    "        return ans"
   ]
  },
  {
   "attachments": {},
   "cell_type": "markdown",
   "metadata": {},
   "source": [
    "## 重写 其实很简单，不用栈，直接减枝就行"
   ]
  },
  {
   "cell_type": "code",
   "execution_count": 2,
   "metadata": {},
   "outputs": [
    {
     "name": "stdout",
     "output_type": "stream",
     "text": [
      "['(())', '()()']\n"
     ]
    }
   ],
   "source": [
    "\n",
    "from typing import List\n",
    "from typing import Optional\n",
    "from queue import Queue\n",
    "from collections import deque\n",
    "class Solution:\n",
    "    def generateParenthesis(self, n: int) -> List[str]:\n",
    "        res=[]\n",
    "        def dfs(ans:str,stack:int):\n",
    "            if stack<0 or len(ans)>2*n:\n",
    "                return \n",
    "            if len(ans)==2*n and stack==0:\n",
    "                res.append(ans)\n",
    "                return \n",
    "            dfs(ans+\"(\",stack+1)\n",
    "            dfs(ans+\")\",stack-1)\n",
    "        dfs(\"\",0)\n",
    "        return res  \n",
    "solution=Solution()\n",
    "print(solution.generateParenthesis(2))\n",
    "        "
   ]
  },
  {
   "attachments": {},
   "cell_type": "markdown",
   "metadata": {},
   "source": [
    "###　https://leetcode.cn/problems/generate-parentheses/solution/zui-jian-dan-yi-dong-de-dong-tai-gui-hua-bu-lun-da/\n",
    "## 動態規劃解法的关键在于,成对取值\n",
    "()()\n",
    "(())\n"
   ]
  },
  {
   "cell_type": "code",
   "execution_count": 15,
   "metadata": {},
   "outputs": [
    {
     "name": "stdout",
     "output_type": "stream",
     "text": [
      "[[''], ['()'], ['()()', '(())'], ['()()()', '()(())', '(())()', '(()())', '((()))']]\n"
     ]
    }
   ],
   "source": [
    "#动态规划\n",
    "from typing import List\n",
    "from typing import Optional\n",
    "from queue import Queue\n",
    "from collections import deque\n",
    "class Solution:\n",
    "    def generateParenthesis(self, n: int) -> List[str]:\n",
    "        dp=[[\"\"],[\"()\"]]\n",
    "        # dp[2]=[\"()()\",\"(())\"]\n",
    "        if n<2:\n",
    "            return dp[n]\n",
    "        for i in range(2,n+1):\n",
    "            total_i=[]\n",
    "            rema=i-1\n",
    "            for p in range(0,rema+1):# 0 1\n",
    "                q=rema-p\n",
    "                for type_p in dp[p]:\n",
    "                    for type_q in dp[q]:\n",
    "                        combine=\"(\"+type_p+\")\"+type_q\n",
    "                        total_i.append(combine)\n",
    "            dp.append(total_i)\n",
    "        return dp[-1]\n",
    "            \n",
    "solution=Solution()\n",
    "print(solution.generateParenthesis(3))\n",
    "        "
   ]
  },
  {
   "cell_type": "markdown",
   "metadata": {},
   "source": []
  },
  {
   "cell_type": "code",
   "execution_count": null,
   "metadata": {},
   "outputs": [],
   "source": [
    "Generate Parentheses\n",
    "Category\tDifficulty\tLikes\tDislikes\n",
    "algorithms\tMedium (71.35%)\t14896\t562\n",
    "Tags\n",
    "Companies\n",
    "Given n pairs of parentheses, write a function to generate all combinations of well-formed parentheses.\n",
    "\n",
    " \n",
    "\n",
    "Example 1:\n",
    "\n",
    "Input: n = 3\n",
    "Output: [\"((()))\",\"(()())\",\"(())()\",\"()(())\",\"()()()\"]\n",
    "Example 2:\n",
    "\n",
    "Input: n = 1\n",
    "Output: [\"()\"]\n",
    " \n",
    "\n",
    "Constraints:\n",
    "\n",
    "1 <= n <= 8\n",
    "Discussion | Solution"
   ]
  },
  {
   "cell_type": "code",
   "execution_count": 1,
   "metadata": {},
   "outputs": [
    {
     "name": "stdout",
     "output_type": "stream",
     "text": [
      " \n",
      "( (\n",
      "(( ((\n",
      "((( (((\n",
      "(((( ((((\n",
      "((((( (((((\n",
      "(((() (((\n",
      "((() ((\n",
      "((()( (((\n",
      "((()) (\n",
      "(() (\n",
      "(()( ((\n",
      "(()(( (((\n",
      "(()() (\n",
      "(()) \n",
      "(())( (\n",
      "() \n",
      "()( (\n",
      "()(( ((\n",
      "()((( (((\n",
      "()(() (\n",
      "()() \n",
      "()()( (\n",
      "['((()))', '(()())', '(())()', '()(())', '()()()']\n"
     ]
    }
   ],
   "source": [
    "#\n",
    "# @lc app=leetcode id=22 lang=python3\n",
    "#\n",
    "# [22] Generate Parentheses\n",
    "#\n",
    "\n",
    "# @lc code=start\n",
    "from typing import List\n",
    "class Solution:\n",
    "    def generateParenthesis(self, n: int) -> List[str]:\n",
    "        ans=[]\n",
    "        def dfs(stri:str,stac:str):#错误一str为保留字\n",
    "            if len(stri)>=2*n :#错误二：将dfs的停止条件同答案的相同条件\n",
    "                if len(stac)==0:\n",
    "                    ans.append(stri)\n",
    "                return \n",
    "            print(stri,stac)\n",
    "            dfs(stri+\"(\",stac+\"(\")\n",
    "            if stac!=\"\" and stac[-1]==\"(\":\n",
    "                dfs(stri+\")\",stac[0:-1]) #这里不能用join否则会崩溃\n",
    "        dfs(\"\",\"\")\n",
    "        return ans\n",
    "if __name__==\"__main__\":\n",
    "    solution=Solution()\n",
    "    print(solution.generateParenthesis(3))\n",
    "# @lc code=end"
   ]
  },
  {
   "cell_type": "code",
   "execution_count": 1,
   "metadata": {},
   "outputs": [
    {
     "name": "stdout",
     "output_type": "stream",
     "text": [
      "a\n"
     ]
    }
   ],
   "source": [
    "print(\"a\")"
   ]
  },
  {
   "cell_type": "code",
   "execution_count": 4,
   "metadata": {},
   "outputs": [
    {
     "name": "stdout",
     "output_type": "stream",
     "text": [
      "fiiifiiif\n",
      "iii\n"
     ]
    }
   ],
   "source": [
    "print(\"iii\".join(\"fff\"))\n",
    "print(\"\".join(\"iii\"))"
   ]
  }
 ],
 "metadata": {
  "kernelspec": {
   "display_name": "Python 3.8.13 ('py38')",
   "language": "python",
   "name": "python3"
  },
  "language_info": {
   "codemirror_mode": {
    "name": "ipython",
    "version": 3
   },
   "file_extension": ".py",
   "mimetype": "text/x-python",
   "name": "python",
   "nbconvert_exporter": "python",
   "pygments_lexer": "ipython3",
   "version": "3.8.13"
  },
  "orig_nbformat": 4,
  "vscode": {
   "interpreter": {
    "hash": "76c3c49e318b7c885b43daef0aa3cfe4eb22ade01aff18419595a86661fada18"
   }
  }
 },
 "nbformat": 4,
 "nbformat_minor": 2
}
