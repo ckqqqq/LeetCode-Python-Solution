{
 "cells": [
  {
   "cell_type": "code",
   "execution_count": null,
   "metadata": {},
   "outputs": [],
   "source": [
    "Generate Parentheses\n",
    "Category\tDifficulty\tLikes\tDislikes\n",
    "algorithms\tMedium (71.35%)\t14896\t562\n",
    "Tags\n",
    "Companies\n",
    "Given n pairs of parentheses, write a function to generate all combinations of well-formed parentheses.\n",
    "\n",
    " \n",
    "\n",
    "Example 1:\n",
    "\n",
    "Input: n = 3\n",
    "Output: [\"((()))\",\"(()())\",\"(())()\",\"()(())\",\"()()()\"]\n",
    "Example 2:\n",
    "\n",
    "Input: n = 1\n",
    "Output: [\"()\"]\n",
    " \n",
    "\n",
    "Constraints:\n",
    "\n",
    "1 <= n <= 8\n",
    "Discussion | Solution"
   ]
  },
  {
   "cell_type": "code",
   "execution_count": 1,
   "metadata": {},
   "outputs": [
    {
     "name": "stdout",
     "output_type": "stream",
     "text": [
      " \n",
      "( (\n",
      "(( ((\n",
      "((( (((\n",
      "(((( ((((\n",
      "((((( (((((\n",
      "(((() (((\n",
      "((() ((\n",
      "((()( (((\n",
      "((()) (\n",
      "(() (\n",
      "(()( ((\n",
      "(()(( (((\n",
      "(()() (\n",
      "(()) \n",
      "(())( (\n",
      "() \n",
      "()( (\n",
      "()(( ((\n",
      "()((( (((\n",
      "()(() (\n",
      "()() \n",
      "()()( (\n",
      "['((()))', '(()())', '(())()', '()(())', '()()()']\n"
     ]
    }
   ],
   "source": [
    "#\n",
    "# @lc app=leetcode id=22 lang=python3\n",
    "#\n",
    "# [22] Generate Parentheses\n",
    "#\n",
    "\n",
    "# @lc code=start\n",
    "from typing import List\n",
    "class Solution:\n",
    "    def generateParenthesis(self, n: int) -> List[str]:\n",
    "        ans=[]\n",
    "        def dfs(stri:str,stac:str):#错误一str为保留字\n",
    "            if len(stri)>=2*n :#错误二：将dfs的停止条件同答案的相同条件\n",
    "                if len(stac)==0:\n",
    "                    ans.append(stri)\n",
    "                return \n",
    "            print(stri,stac)\n",
    "            dfs(stri+\"(\",stac+\"(\")\n",
    "            if stac!=\"\" and stac[-1]==\"(\":\n",
    "                dfs(stri+\")\",stac[0:-1]) #这里不能用join否则会崩溃\n",
    "        dfs(\"\",\"\")\n",
    "        return ans\n",
    "if __name__==\"__main__\":\n",
    "    solution=Solution()\n",
    "    print(solution.generateParenthesis(3))\n",
    "# @lc code=end"
   ]
  },
  {
   "cell_type": "code",
   "execution_count": 1,
   "metadata": {},
   "outputs": [
    {
     "name": "stdout",
     "output_type": "stream",
     "text": [
      "a\n"
     ]
    }
   ],
   "source": [
    "print(\"a\")"
   ]
  },
  {
   "cell_type": "code",
   "execution_count": 4,
   "metadata": {},
   "outputs": [
    {
     "name": "stdout",
     "output_type": "stream",
     "text": [
      "fiiifiiif\n",
      "iii\n"
     ]
    }
   ],
   "source": [
    "print(\"iii\".join(\"fff\"))\n",
    "print(\"\".join(\"iii\"))"
   ]
  }
 ],
 "metadata": {
  "kernelspec": {
   "display_name": "Python 3.8.13 ('py38')",
   "language": "python",
   "name": "python3"
  },
  "language_info": {
   "codemirror_mode": {
    "name": "ipython",
    "version": 3
   },
   "file_extension": ".py",
   "mimetype": "text/x-python",
   "name": "python",
   "nbconvert_exporter": "python",
   "pygments_lexer": "ipython3",
   "version": "3.8.13"
  },
  "orig_nbformat": 4,
  "vscode": {
   "interpreter": {
    "hash": "76c3c49e318b7c885b43daef0aa3cfe4eb22ade01aff18419595a86661fada18"
   }
  }
 },
 "nbformat": 4,
 "nbformat_minor": 2
}
