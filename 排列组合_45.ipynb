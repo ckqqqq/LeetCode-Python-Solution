{
 "cells": [
  {
   "cell_type": "code",
   "execution_count": null,
   "metadata": {},
   "outputs": [],
   "source": [
    "46. Permutations\n",
    "Medium\n",
    "14.4K\n",
    "243\n",
    "Companies\n",
    "Given an array nums of distinct integers, return all the possible permutations. You can return the answer in any order.\n",
    "\n",
    " \n",
    "\n",
    "Example 1:\n",
    "\n",
    "Input: nums = [1,2,3]\n",
    "Output: [[1,2,3],[1,3,2],[2,1,3],[2,3,1],[3,1,2],[3,2,1]]\n",
    "Example 2:\n",
    "\n",
    "Input: nums = [0,1]\n",
    "Output: [[0,1],[1,0]]\n",
    "Example 3:\n",
    "\n",
    "Input: nums = [1]\n",
    "Output: [[1]]\n",
    " \n",
    "\n",
    "Constraints:\n",
    "\n",
    "1 <= nums.length <= 6\n",
    "-10 <= nums[i] <= 10\n",
    "All the integers of nums are unique.\n",
    "Accepted\n",
    "1.5M\n",
    "Submissions\n",
    "2M\n",
    "Acceptance Rate\n",
    "75.3%\n",
    "Seen this question in a real interview before?\n",
    "1/4"
   ]
  },
  {
   "cell_type": "code",
   "execution_count": null,
   "metadata": {},
   "outputs": [],
   "source": [
    "[1 2 3]\n",
    " 2 1 3\n",
    " 3 1 2\n",
    " 1 3 2\n",
    " 2 3 1"
   ]
  },
  {
   "cell_type": "code",
   "execution_count": 1,
   "metadata": {},
   "outputs": [
    {
     "name": "stdout",
     "output_type": "stream",
     "text": [
      "[1, 2, 3]\n",
      "[2, 1, 3]\n",
      "[3, 1, 2]\n",
      "[1, 3, 2]\n",
      "[2, 3, 1]\n",
      "[3, 2, 1]\n",
      "顺序直接逆转不行\n",
      "None\n"
     ]
    }
   ],
   "source": [
    "# n! 时间复杂度的排列组合\n",
    "from typing import List\n",
    "class Solution:\n",
    "    def permute(self, nums: List[int]) -> List[List[int]]:\n",
    "        def swap_(i,j):\n",
    "            nums[i],nums[j]=nums[j],nums[i]\n",
    "        def dfs_permute(nums,cur_len):\n",
    "            if cur_len==1: \n",
    "                print(nums)#重点当len==2调动参数时候就可以打印了\n",
    "                return            \n",
    "            for i in range(0,cur_len-1):\n",
    "                dfs_permute(nums,cur_len-1)\n",
    "                if cur_len%2==0:\n",
    "                    swap_(i,cur_len-1)\n",
    "                elif cur_len%2==1:\n",
    "                    swap_(0,cur_len-1)\n",
    "            dfs_permute(nums,cur_len-1)\n",
    "        dfs_permute(nums,len(nums))\n",
    "        print(\"顺序直接逆转不行\")\n",
    "solution=Solution()\n",
    "print(solution.permute([1,2,3]))                          "
   ]
  },
  {
   "cell_type": "code",
   "execution_count": 3,
   "metadata": {},
   "outputs": [
    {
     "name": "stdout",
     "output_type": "stream",
     "text": [
      "[1, 2, 3, 4]\n",
      "[1, 2, 4, 3]\n",
      "[1, 3, 4, 2]\n",
      "[1, 3, 2, 4]\n",
      "[1, 4, 2, 3]\n",
      "[1, 4, 3, 2]\n",
      "[2, 4, 3, 1]\n",
      "[2, 4, 1, 3]\n",
      "[2, 3, 1, 4]\n",
      "[2, 3, 4, 1]\n",
      "[2, 1, 4, 3]\n",
      "[2, 1, 3, 4]\n",
      "[3, 1, 2, 4]\n",
      "[3, 1, 4, 2]\n",
      "[3, 2, 4, 1]\n",
      "[3, 2, 1, 4]\n",
      "[3, 4, 1, 2]\n",
      "[3, 4, 2, 1]\n",
      "[4, 3, 2, 1]\n",
      "[4, 3, 1, 2]\n",
      "[4, 2, 1, 3]\n",
      "[4, 2, 3, 1]\n",
      "[4, 1, 3, 2]\n",
      "[4, 1, 2, 3]\n",
      "None\n"
     ]
    }
   ],
   "source": [
    "# n! 时间复杂度的排列组合\n",
    "from typing import List\n",
    "class Solution:\n",
    "    # 顺序这样搞比较复杂\n",
    "    def permute(self, nums: List[int]) -> List[List[int]]:\n",
    "        def swap_(i,j):\n",
    "            nums[i],nums[j]=nums[j],nums[i]\n",
    "        def dfs_permute(nums,start): # start是那个每次不移动来交换的位置\n",
    "            cur_len=len(nums)-start\n",
    "            if cur_len==1:\n",
    "                print(nums)# 每次swap前调用一次\n",
    "                return\n",
    "            for i in range(len(nums)-1,start,-1):# 循环顺序很重要 从后往前\n",
    "                # print(i,cur_len)\n",
    "                dfs_permute(nums,start+1)\n",
    "                if cur_len%2==1:\n",
    "                    swap_(start,len(nums)-1)# 注意如果在递归函数中使用了start请不要再出现0\n",
    "                else:# 用start代替0\n",
    "                    swap_(start,i)\n",
    "            dfs_permute(nums,start+1) # 明显不是字典序\n",
    "        dfs_permute(nums,0)\n",
    "solution=Solution()\n",
    "print(solution.permute([1,2,3,4]))                          "
   ]
  },
  {
   "cell_type": "code",
   "execution_count": 7,
   "metadata": {},
   "outputs": [
    {
     "name": "stdout",
     "output_type": "stream",
     "text": [
      "[[1, 2, 3, 4], [1, 2, 4, 3], [1, 3, 2, 4], [1, 3, 4, 2], [1, 4, 3, 2], [1, 4, 2, 3], [2, 1, 3, 4], [2, 1, 4, 3], [2, 3, 1, 4], [2, 3, 4, 1], [2, 4, 3, 1], [2, 4, 1, 3], [3, 2, 1, 4], [3, 2, 4, 1], [3, 1, 2, 4], [3, 1, 4, 2], [3, 4, 1, 2], [3, 4, 2, 1], [4, 2, 3, 1], [4, 2, 1, 3], [4, 3, 2, 1], [4, 3, 1, 2], [4, 1, 3, 2], [4, 1, 2, 3]]\n"
     ]
    }
   ],
   "source": [
    "from typing import List\n",
    "class Solution:\n",
    "    #Notes: think about [1,2,3] -- the method generates all permutation\n",
    "    # After adding 4, put 1,2,3,4 at the begining, and then generates all possible\n",
    "    # permutation, which has been done by the method -- (induction, prove n is true, then prove n+1)\n",
    "    # Newly added -- assume we have nums[1:] contains all permutation, by the backtrack function, nums[:] will also have all permutation\n",
    "    def permute(self, nums: List[int]) -> List[List[int]]:\n",
    "        def backtrack(first ):\n",
    "            if first == n:\n",
    "                # print(nums)  \n",
    "                output.append(nums[:])\n",
    "            for i in range(first, n):\n",
    "                if i!=first:\n",
    "                    nums[first], nums[i] = nums[i], nums[first] # 如果是奇数 会先交换自己 所以下一轮打印的是原来的\n",
    "                backtrack(first + 1)#进入下一轮\n",
    "                if i!=first:\n",
    "                    nums[first], nums[i] = nums[i], nums[first]\n",
    "        \n",
    "        n = len(nums)\n",
    "        output = []\n",
    "        backtrack(first=0)\n",
    "        return output\n",
    "solution=Solution()\n",
    "print(solution.permute([1,2,3,4]))"
   ]
  },
  {
   "cell_type": "code",
   "execution_count": 27,
   "metadata": {},
   "outputs": [
    {
     "name": "stdout",
     "output_type": "stream",
     "text": [
      "3 4\n",
      "3 3\n",
      "3 2\n",
      "[1, 1, 1, 2]\n",
      "[1, 1, 2, 1]\n",
      "2 3\n",
      "3 2\n",
      "[1, 1, 2, 1]\n",
      "[1, 1, 1, 2]\n",
      "2 4\n",
      "3 3\n",
      "3 2\n",
      "[2, 1, 1, 1]\n",
      "2 3\n",
      "3 2\n",
      "[2, 1, 1, 1]\n",
      "1 4\n",
      "3 3\n",
      "3 2\n",
      "[1, 1, 2, 1]\n",
      "[1, 1, 1, 2]\n",
      "2 3\n",
      "3 2\n",
      "[1, 2, 1, 1]\n",
      "3 2\n",
      "[1, 1, 1, 2]\n",
      "[1, 1, 2, 1]\n",
      "None\n"
     ]
    }
   ],
   "source": [
    "# n! 时间复杂度的排列组合\n",
    "from typing import List\n",
    "class Solution:\n",
    "    # 顺序这样搞比较复杂\n",
    "    def permute(self, nums: List[int]) -> List[List[int]]:\n",
    "        def swap_(i,j):\n",
    "            if nums[i]==nums[j]:\n",
    "                return False\n",
    "            nums[i],nums[j]=nums[j],nums[i]\n",
    "            return True\n",
    "        def dfs_permute(nums,start): # start是那个每次不移动来交换的位置\n",
    "            cur_len=len(nums)-start\n",
    "            if cur_len==1:\n",
    "                print(nums)# 每次swap前调用一次\n",
    "                return\n",
    "            flag=True\n",
    "            for i in range(len(nums)-1,start,-1):# 循环顺序很重要 从后往前\n",
    "                print(i,cur_len)\n",
    "                # if i+1<len(nums)and nums[i]==nums[i+1]:\n",
    "                #    continue \n",
    "                if flag :\n",
    "                    dfs_permute(nums,start+1)\n",
    "                else:\n",
    "                    flag=True\n",
    "                    continue\n",
    "                if cur_len%2==1:\n",
    "                    flag=swap_(start,len(nums)-1)# 注意如果在递归函数中使用了start请不要再出现0\n",
    "                else:# 用start代替0\n",
    "                    flag=swap_(start,i)\n",
    "            if flag :\n",
    "                dfs_permute(nums,start+1)\n",
    "        dfs_permute(nums,0)\n",
    "solution=Solution()\n",
    "print(solution.permute([1,1,1,2]))                          "
   ]
  }
 ],
 "metadata": {
  "kernelspec": {
   "display_name": "base",
   "language": "python",
   "name": "python3"
  },
  "language_info": {
   "codemirror_mode": {
    "name": "ipython",
    "version": 3
   },
   "file_extension": ".py",
   "mimetype": "text/x-python",
   "name": "python",
   "nbconvert_exporter": "python",
   "pygments_lexer": "ipython3",
   "version": "3.9.12"
  },
  "orig_nbformat": 4,
  "vscode": {
   "interpreter": {
    "hash": "7b93ae2ddedcfb4b7ddebf80c8c7984044339b2e43f10e14b9461f3e640893f2"
   }
  }
 },
 "nbformat": 4,
 "nbformat_minor": 2
}
