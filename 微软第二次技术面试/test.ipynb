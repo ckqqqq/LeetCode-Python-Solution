{
 "cells": [
  {
   "cell_type": "code",
   "execution_count": null,
   "metadata": {},
   "outputs": [],
   "source": [
    "# node \n",
    "## \n",
    "\n",
    "class node:\n",
    "    def __init__(self,n=None,val=0):\n",
    "        self.next=n\n",
    "        self.val=val\n",
    "\n",
    "def solution(h):\n",
    "    head=h\n",
    "    prev=None\n",
    "    pastVal=set()\n",
    "    while head.next!=None:\n",
    "        if head.val not in pastVal:\n",
    "            pastVal.add(head.val)\n",
    "            prev=head\n",
    "        else:# head 重复\n",
    "            if prev:\n",
    "                prev.next=head.next\n",
    "                #prev不变,删除head\n",
    "            else:\n",
    "                h=head.next\n",
    "            # prev 为空     \n",
    "        head=head.next\n",
    "    return h\n",
    "    \n",
    "        \n",
    "       "
   ]
  },
  {
   "cell_type": "code",
   "execution_count": null,
   "metadata": {},
   "outputs": [],
   "source": []
  }
 ],
 "metadata": {
  "language_info": {
   "name": "python"
  }
 },
 "nbformat": 4,
 "nbformat_minor": 2
}
