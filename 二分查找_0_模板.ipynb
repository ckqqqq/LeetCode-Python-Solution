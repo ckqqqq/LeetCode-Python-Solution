{
 "cells": [
  {
   "cell_type": "markdown",
   "metadata": {},
   "source": []
  },
  {
   "cell_type": "markdown",
   "metadata": {},
   "source": [
    "## 解法\n",
    "\n",
    "<!-- 这里可写通用的实现逻辑 -->\n",
    "\n",
    "**方法一：二分查找**\n",
    "\n",
    "二分枚举速度值，找到满足条件的最小速度。\n",
    "\n",
    "以下是二分查找的两个通用模板：\n",
    "\n",
    "模板 1：\n",
    "\n",
    "\n",
    "二分查找我一共分为三种形式，分别是“寻找一个数的二分查找”，“寻找左侧边界的二分查找”，“寻找右侧边界的二分查找”"
   ]
  },
  {
   "cell_type": "code",
   "execution_count": 15,
   "metadata": {},
   "outputs": [],
   "source": [
    "import plotly.io as pio\n",
    "pio.renderers.default = 'iframe_connected'"
   ]
  },
  {
   "cell_type": "markdown",
   "metadata": {},
   "source": [
    "### 注:下文中的所有代码全部统一为\n",
    "```python\n",
    "while left<=right \n",
    "```\n",
    "的形式，因为这样便于记忆\n",
    "#### 概括\n",
    "无论是找数\\左边界\\右边界\n",
    "初值都为left=0 right=len-1\n",
    "区别在于第三个if\n",
    "```python\n",
    "    #找数\n",
    "    elif arr[mid]==target:\n",
    "        return mid\n",
    "```\n",
    "```python\n",
    "    #左边界\n",
    "    elif arr[mid]==target:\n",
    "        right=mid-1\n",
    "        #ans为left\n",
    "```\n",
    "```python\n",
    "    #右边界\n",
    "    elif arr[mid]==target:\n",
    "        left=mid+1\n",
    "        #ans为left\n",
    "```\n",
    "总结：所有的ans为一个索引，该索引确保在该索引处插入值整个数组的顺序不改变"
   ]
  },
  {
   "cell_type": "code",
   "execution_count": 32,
   "metadata": {},
   "outputs": [
    {
     "name": "stdout",
     "output_type": "stream",
     "text": [
      "4\n",
      "你好\n"
     ]
    }
   ],
   "source": [
    "# #寻找一个数的二分查找，输入一个有序数组和数，一个返回一个数组索引，不存在返回-1\n",
    "# class Solution(object):\n",
    "#     def binary_search_1(self, int_array: List[int], num: int) -> int:\n",
    "#         # left,right=0,len(int_array)-1\n",
    "        \n",
    "#         return 1\n",
    "from typing import List\n",
    "class Solution(object):\n",
    "    def binary_search_1(self, arr: List[int], target: int):\n",
    "        left,right=0,len(arr)-1\n",
    "        while left<=right:#这种情况下不怕right/left出界\n",
    "            mid=left+((right-left)>>1)#python中注意的几个坑，比如记得使用地板除法(//)，如果使用位移运算会出错\n",
    "            # print(mid,left,right)\n",
    "            if target<arr[mid]:\n",
    "                right=mid-1\n",
    "            elif arr[mid]<target:\n",
    "                left=mid+1\n",
    "            elif target==arr[mid]:\n",
    "                return mid#或者 arr[mid]\n",
    "        #结束状态left>right\n",
    "        if left>len(arr)-1 or right<0:\n",
    "            return -1\n",
    "        return 10086\n",
    "            #大于或者小于\n",
    "        \n",
    "if __name__=='__main__':\n",
    "    int_array=[1,2,2,2,3]\n",
    "    class_solution=Solution()\n",
    "    print(class_solution.binary_search_1(int_array,3))\n",
    "    print(\"你好\")"
   ]
  },
  {
   "cell_type": "code",
   "execution_count": 31,
   "metadata": {},
   "outputs": [
    {
     "name": "stdout",
     "output_type": "stream",
     "text": [
      "3.5\n",
      "3\n",
      "3\n",
      "2\n",
      "3\n",
      "3\n",
      "0\n",
      "负数 -1\n",
      "负数 -1\n",
      "负数 -1\n",
      "负数 -1\n"
     ]
    }
   ],
   "source": [
    "print((3+4)/2)#python 除法，结果为小数\n",
    "print((3+4)>>1)#位运算，优先级低于加法，位运算等于地板除2\n",
    "print((3+4)//2)#地板除法，优先级高于加法\n",
    "print(3+(4-3)>>1)\n",
    "print(3+((4-3)>>1))#如果使用位运算记得加上括号，位运算优先级比加法底\n",
    "print(3+(4-3)//2)\n",
    "print((4-3) >> 1)\n",
    "print(\"负数\",((-1)>>1))\n",
    "print(\"负数\",((-2)>>1))\n",
    "print(\"负数\",((-4)>>1000))\n",
    "print(\"负数\",-1//2)"
   ]
  },
  {
   "cell_type": "code",
   "execution_count": 3,
   "metadata": {},
   "outputs": [
    {
     "name": "stdout",
     "output_type": "stream",
     "text": [
      "1\n",
      "4\n",
      "1\n",
      "1\n",
      "0\n"
     ]
    }
   ],
   "source": [
    "from typing import List\n",
    "class Solution(object):\n",
    "    def binary_search_2(self,arr:List,target):\n",
    "        left,right=0,len(arr)-1\n",
    "        #判断技巧，因为是找左边界，所以答案最小为0，最大为right，所以left可以加right不能减少\n",
    "        while left<=right:\n",
    "            mid=left+((right-left)>>1)\n",
    "            if arr[mid]<target:\n",
    "                left=mid+1\n",
    "            elif target<arr[mid]:\n",
    "                right=mid-1#注意是mid，主要防止在【4】3的情况下right出界\n",
    "            elif target==arr[mid]:\n",
    "                right=mid-1\n",
    "        #此时right<left,而left是一个第一个大于等于target的数所在下标,left可能==len数组\n",
    "        return left#返回的left等于插入的位置\n",
    "        ###\n",
    "        if left==len(arr):##数组中没有比target大的\n",
    "            # return -1#或者返回target\n",
    "            return len(arr)\n",
    "        elif arr[left]==target:#第一个等于target的数所在下标\n",
    "            return left\n",
    "        elif arr[left]>target:#第一个大于target的数所在下标\n",
    "            return left\n",
    "\n",
    "if __name__==\"__main__\":\n",
    "    int_array=[1,2,2,2,4]\n",
    "    solution=Solution()\n",
    "    print(solution.binary_search_2(int_array,2))\n",
    "    print(solution.binary_search_2(int_array,3))\n",
    "    print(solution.binary_search_2([1,3],3))\n",
    "    print(solution.binary_search_2([1],3))\n",
    "    print(solution.binary_search_2([4],3))\n",
    "    \n",
    "    "
   ]
  },
  {
   "cell_type": "markdown",
   "metadata": {},
   "source": [
    "## 右侧边界等于target的最后一个数和大于"
   ]
  },
  {
   "cell_type": "code",
   "execution_count": 5,
   "metadata": {},
   "outputs": [
    {
     "name": "stdout",
     "output_type": "stream",
     "text": [
      "1\n",
      "4\n",
      "1\n",
      "0\n"
     ]
    }
   ],
   "source": [
    "from typing import List\n",
    "class Solution(object):\n",
    "    def binary_search_3(self,arr:List,target:int)->int:\n",
    "        left,right=0,len(arr)-1\n",
    "        #右边界【1,2,2,4】\n",
    "        #右边界小于等于某个数的下标所以ans=left指针范围为【-1，len-1】\n",
    "        while left<=right:\n",
    "            mid=left+((right-left+1)>>1)#注意这里有改，要偏向于大的那边\n",
    "            if arr[mid]<target:\n",
    "                left=mid+1\n",
    "            elif arr[mid]>target:\n",
    "                right=mid-1\n",
    "            elif arr[mid]==target:\n",
    "                right=mid-1\n",
    "        return left#这里的left类似于\n",
    "if __name__==\"__main__\":\n",
    "    int_array=[1,2,2,2,4]\n",
    "    solution=Solution()\n",
    "    print(solution.binary_search_3(int_array,2))\n",
    "    print(solution.binary_search_3(int_array,3))\n",
    "    print(solution.binary_search_3([1],3))\n",
    "    print(solution.binary_search_3([4],3))\n",
    "    \n",
    "    "
   ]
  }
 ],
 "metadata": {
  "kernelspec": {
   "display_name": "Python 3.9.12 ('base')",
   "language": "python",
   "name": "python3"
  },
  "language_info": {
   "codemirror_mode": {
    "name": "ipython",
    "version": 3
   },
   "file_extension": ".py",
   "mimetype": "text/x-python",
   "name": "python",
   "nbconvert_exporter": "python",
   "pygments_lexer": "ipython3",
   "version": "3.9.12 (main, Apr  4 2022, 05:22:27) [MSC v.1916 64 bit (AMD64)]"
  },
  "orig_nbformat": 4,
  "vscode": {
   "interpreter": {
    "hash": "7b93ae2ddedcfb4b7ddebf80c8c7984044339b2e43f10e14b9461f3e640893f2"
   }
  }
 },
 "nbformat": 4,
 "nbformat_minor": 2
}
