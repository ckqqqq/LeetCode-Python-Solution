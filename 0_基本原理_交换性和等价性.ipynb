{
 "cells": [
  {
   "cell_type": "code",
   "execution_count": null,
   "metadata": {},
   "outputs": [],
   "source": [
    "具有交换性的题：\n",
    "## 二维网格中的单词搜索，从word[0]和word[-1]的减枝特点\n",
    "## 加法问题 比如杨辉三角\n",
    "具有等价性的题目\n",
    "## 比如N皇后问题其中撇和na"
   ]
  }
 ],
 "metadata": {
  "language_info": {
   "name": "python"
  },
  "orig_nbformat": 4
 },
 "nbformat": 4,
 "nbformat_minor": 2
}
