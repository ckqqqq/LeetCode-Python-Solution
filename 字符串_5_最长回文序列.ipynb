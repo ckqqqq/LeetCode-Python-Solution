{
 "cells": [
  {
   "cell_type": "code",
   "execution_count": 26,
   "metadata": {},
   "outputs": [
    {
     "name": "stdout",
     "output_type": "stream",
     "text": [
      "ccc\n",
      "abcdcba\n",
      "a\n",
      "bccb\n"
     ]
    }
   ],
   "source": [
    "# 自己的解法 修改第二版 92 89\n",
    "# 教训 \n",
    "# 1 明明第一轮就能挑出最长的，能一次循环搞定就不要第二轮\n",
    "# 2 字符串切分s[x:y+1]\n",
    "# 3 mini 打字打成mimi\n",
    "# 4 记得看最优解，以后回文字符串遍历右边边界，能够快一倍多\n",
    "class Solution:\n",
    "    def longestPalindrome(self, s: str) -> str:\n",
    "        #\n",
    "        if s==s[::-1]:\n",
    "            return s\n",
    "        # 加了这一个特判之后，时间变成了99 空间变成了51\n",
    "        LEN=len(s)\n",
    "        ans=(0,0)\n",
    "        mini=0\n",
    "        for i in range(2*LEN):\n",
    "            if i%2==0:\n",
    "                x=i//2-1\n",
    "                y=x+2\n",
    "            else:\n",
    "                x=i//2\n",
    "                y=x+1\n",
    "            while x>=0 and y<LEN and s[x]==s[y]:\n",
    "                x,y=x-1,y+1\n",
    "            x,y=x+1,y-1\n",
    "            if y-x>mini:\n",
    "                ans=(x,y)\n",
    "                mini=y-x\n",
    "        return s[ans[0]:ans[1]+1]\n",
    "if __name__==\"__main__\":\n",
    "    solution=Solution()     \n",
    "    print(solution.longestPalindrome(\"ccc\"))\n",
    "    print(solution.longestPalindrome(\"abcdcba\"))\n",
    "    print(solution.longestPalindrome(\"abcd\"))\n",
    "    print(solution.longestPalindrome(\"abccbe\"))"
   ]
  },
  {
   "cell_type": "code",
   "execution_count": null,
   "metadata": {},
   "outputs": [],
   "source": [
    "mini mini\n",
    " mini mini mini mini mini mini mini mini mini mini  min \n",
    " maxi maxi maxi maxi maxi maxi maxi maxi maxi maxi maxi\n",
    " maxi maxi maxi maxi maxi maxi maxi maxi mini mini \n",
    " maxi maxi mini "
   ]
  },
  {
   "attachments": {},
   "cell_type": "markdown",
   "metadata": {},
   "source": [
    "![](.\\image\\回文字符串.png)"
   ]
  },
  {
   "attachments": {},
   "cell_type": "markdown",
   "metadata": {},
   "source": [
    "新回文每次比旧的回文"
   ]
  },
  {
   "cell_type": "code",
   "execution_count": 1,
   "metadata": {},
   "outputs": [],
   "source": [
    "# 时间复杂度为 O(N方)但是，这个方法使用了很多技巧使得每一轮比较都从上一轮的最大开始，针对右边界做循环\n",
    "# 这个方法的美中不足就是python的切片 更方便，但是更慢\n",
    "class Solution:\n",
    "    def longestPalindrome(self, s: str) -> str:\n",
    "        if s == s[::-1]: \n",
    "            return s# 提升速度最大的特判\n",
    "        \n",
    "        start, size = 0, 1\n",
    "        for i in range(1, len(s)):\n",
    "            l= i - size # 这个size是当前的最大回文字符\n",
    "            r=i+1# 同时这个人确保了右边边界不变，从2开始\n",
    "            # size 是上一轮最大的大小，size用于控制每轮的开始长度和最后答案，由于循环依赖的是右边界，所以\n",
    "            s1, s2 = s[r-size-2:r], s[r-size-1:r]#s1 s2分别是偶数字符串和奇数字符串\n",
    "            # 长度应该是 1+size 和size\n",
    "            if l - 1 >= 0 and s1 == s1[::-1]:# 这里可以写循环，写循环能够提前退出，更快，当然python例外\n",
    "                start, size = l - 1, size + 2\n",
    "            elif s2 == s2[::-1]:# 直接倒转\n",
    "                start, size = l, size + 1\n",
    "                \n",
    "        return s[start:start+size]\n",
    "    # 最快的答案 ，比我快一倍"
   ]
  },
  {
   "cell_type": "code",
   "execution_count": 2,
   "metadata": {},
   "outputs": [
    {
     "name": "stdout",
     "output_type": "stream",
     "text": [
      "b\n"
     ]
    }
   ],
   "source": [
    "s=\"abcd\"\n",
    "print(s[1:2])"
   ]
  },
  {
   "cell_type": "code",
   "execution_count": 4,
   "metadata": {},
   "outputs": [
    {
     "name": "stdout",
     "output_type": "stream",
     "text": [
      "2\n"
     ]
    }
   ],
   "source": [
    "ans=[(1,2)]\n",
    "print(ans[0][1])"
   ]
  }
 ],
 "metadata": {
  "kernelspec": {
   "display_name": "base",
   "language": "python",
   "name": "python3"
  },
  "language_info": {
   "codemirror_mode": {
    "name": "ipython",
    "version": 3
   },
   "file_extension": ".py",
   "mimetype": "text/x-python",
   "name": "python",
   "nbconvert_exporter": "python",
   "pygments_lexer": "ipython3",
   "version": "3.9.12 (main, Apr  4 2022, 05:22:27) [MSC v.1916 64 bit (AMD64)]"
  },
  "orig_nbformat": 4,
  "vscode": {
   "interpreter": {
    "hash": "7b93ae2ddedcfb4b7ddebf80c8c7984044339b2e43f10e14b9461f3e640893f2"
   }
  }
 },
 "nbformat": 4,
 "nbformat_minor": 2
}
