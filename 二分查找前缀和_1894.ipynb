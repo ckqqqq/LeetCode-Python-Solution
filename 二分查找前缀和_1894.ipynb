{
 "cells": [
  {
   "cell_type": "markdown",
   "metadata": {},
   "source": [
    "# [1894. 找到需要补充粉笔的学生编号](https://leetcode.cn/problems/find-the-student-that-will-replace-the-chalk)\n",
    "\n",
    "[English Version](/solution/1800-1899/1894.Find%20the%20Student%20that%20Will%20Replace%20the%20Chalk/README_EN.md)\n",
    "\n",
    "## 题目描述\n",
    "\n",
    "<!-- 这里写题目描述 -->\n",
    "\n",
    "<p>一个班级里有 <code>n</code> 个学生，编号为 <code>0</code> 到 <code>n - 1</code> 。每个学生会依次回答问题，编号为 <code>0</code> 的学生先回答，然后是编号为 <code>1</code> 的学生，以此类推，直到编号为 <code>n - 1</code> 的学生，然后老师会重复这个过程，重新从编号为 <code>0</code> 的学生开始回答问题。</p>\n",
    "\n",
    "<p>给你一个长度为 <code>n</code> 且下标从 <code>0</code> 开始的整数数组 <code>chalk</code> 和一个整数 <code>k</code> 。一开始粉笔盒里总共有 <code>k</code> 支粉笔。当编号为 <code>i</code> 的学生回答问题时，他会消耗 <code>chalk[i]</code> 支粉笔。如果剩余粉笔数量 <strong>严格小于</strong> <code>chalk[i]</code> ，那么学生 <code>i</code> 需要 <strong>补充</strong> 粉笔。</p>\n",
    "\n",
    "<p>请你返回需要 <strong>补充</strong> 粉笔的学生 <strong>编号</strong> 。</p>\n",
    "\n",
    "<p> </p>\n",
    "\n",
    "<p><strong>示例 1：</strong></p>\n",
    "\n",
    "<pre><b>输入：</b>chalk = [5,1,5], k = 22\n",
    "<b>输出：</b>0\n",
    "<strong>解释：</strong>学生消耗粉笔情况如下：\n",
    "- 编号为 0 的学生使用 5 支粉笔，然后 k = 17 。\n",
    "- 编号为 1 的学生使用 1 支粉笔，然后 k = 16 。\n",
    "- 编号为 2 的学生使用 5 支粉笔，然后 k = 11 。\n",
    "- 编号为 0 的学生使用 5 支粉笔，然后 k = 6 。\n",
    "- 编号为 1 的学生使用 1 支粉笔，然后 k = 5 。\n",
    "- 编号为 2 的学生使用 5 支粉笔，然后 k = 0 。\n",
    "编号为 0 的学生没有足够的粉笔，所以他需要补充粉笔。</pre>\n",
    "\n",
    "<p><strong>示例 2：</strong></p>\n",
    "\n",
    "<pre><b>输入：</b>chalk = [3,4,1,2], k = 25\n",
    "<b>输出：</b>1\n",
    "<b>解释：</b>学生消耗粉笔情况如下：\n",
    "- 编号为 0 的学生使用 3 支粉笔，然后 k = 22 。\n",
    "- 编号为 1 的学生使用 4 支粉笔，然后 k = 18 。\n",
    "- 编号为 2 的学生使用 1 支粉笔，然后 k = 17 。\n",
    "- 编号为 3 的学生使用 2 支粉笔，然后 k = 15 。\n",
    "- 编号为 0 的学生使用 3 支粉笔，然后 k = 12 。\n",
    "- 编号为 1 的学生使用 4 支粉笔，然后 k = 8 。\n",
    "- 编号为 2 的学生使用 1 支粉笔，然后 k = 7 。\n",
    "- 编号为 3 的学生使用 2 支粉笔，然后 k = 5 。\n",
    "- 编号为 0 的学生使用 3 支粉笔，然后 k = 2 。\n",
    "编号为 1 的学生没有足够的粉笔，所以他需要补充粉笔。\n",
    "</pre>\n",
    "\n",
    "<p> </p>\n",
    "\n",
    "<p><strong>提示：</strong></p>\n",
    "\n",
    "<ul>\n",
    "\t<li><code>chalk.length == n</code></li>\n",
    "\t<li><code>1 &lt;= n &lt;= 10<sup>5</sup></code></li>\n",
    "\t<li><code>1 &lt;= chalk[i] &lt;= 10<sup>5</sup></code></li>\n",
    "\t<li><code>1 &lt;= k &lt;= 10<sup>9</sup></code></li>\n",
    "</ul>\n",
    "\n",
    "## 解法"
   ]
  },
  {
   "cell_type": "code",
   "execution_count": null,
   "metadata": {},
   "outputs": [],
   "source": [
    "import bisect\n",
    "#注意是bisect不是biselct\n",
    "int_array=[1,2,2,3,5,6]\n",
    "print(bisect.bisect_left(int_array,2))#选择左边界\n",
    "print(bisect.bisect_right(int_array,2))#选择右边界的索引加一位\n",
    "print(bisect.bisect_right(int_array,2))#选择大于他的第一个数\n",
    "\n",
    "\n"
   ]
  },
  {
   "cell_type": "code",
   "execution_count": 3,
   "metadata": {},
   "outputs": [
    {
     "name": "stdout",
     "output_type": "stream",
     "text": [
      "4\n",
      "4\n",
      "4\n"
     ]
    }
   ],
   "source": [
    "import bisect\n",
    "#注意是bisect不是biselct\n",
    "int_array=[1,2,2,3,5,6]\n",
    "print(bisect.bisect_left(int_array,4))#选择大于他的第一个数\n",
    "print(bisect.bisect_right(int_array,4))#始终选择大于他的第一个数\n",
    "print(bisect.bisect_right(int_array,4))#始终选择大于他的第一个数\n",
    "\n",
    "\n"
   ]
  },
  {
   "cell_type": "code",
   "execution_count": null,
   "metadata": {},
   "outputs": [],
   "source": [
    "class Solution:\n",
    "    def chalkReplacer(self, chalk: List[int], k: int) -> int:\n",
    "        s = list(accumulate(chalk))#python生成前缀和\n",
    "        k %= s[-1]\n",
    "        return bisect_right(s, k)#二分选择 始终选择大于他的第一个数#换粉笔的"
   ]
  },
  {
   "cell_type": "markdown",
   "metadata": {},
   "source": [
    "### 库函数介绍\n",
    "biselect和biselect_right相同\n"
   ]
  },
  {
   "cell_type": "markdown",
   "metadata": {},
   "source": [
    "## 这道题属于强行用二分的做法因为前缀和\n",
    "前缀和时间复杂度O（n），二分是O（log），加起来还是O（N）有点离谱"
   ]
  }
 ],
 "metadata": {
  "kernelspec": {
   "display_name": "Python 3.9.12 ('base')",
   "language": "python",
   "name": "python3"
  },
  "language_info": {
   "codemirror_mode": {
    "name": "ipython",
    "version": 3
   },
   "file_extension": ".py",
   "mimetype": "text/x-python",
   "name": "python",
   "nbconvert_exporter": "python",
   "pygments_lexer": "ipython3",
   "version": "3.9.12"
  },
  "orig_nbformat": 4,
  "vscode": {
   "interpreter": {
    "hash": "7b93ae2ddedcfb4b7ddebf80c8c7984044339b2e43f10e14b9461f3e640893f2"
   }
  }
 },
 "nbformat": 4,
 "nbformat_minor": 2
}
