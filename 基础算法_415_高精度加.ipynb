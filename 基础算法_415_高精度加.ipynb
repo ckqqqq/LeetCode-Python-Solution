{
 "cells": [
  {
   "cell_type": "code",
   "execution_count": null,
   "metadata": {},
   "outputs": [],
   "source": []
  },
  {
   "cell_type": "markdown",
   "metadata": {},
   "source": [
    "# [415. 字符串相加](https://leetcode.cn/problems/add-strings)\n",
    "\n",
    "[English Version](/solution/0400-0499/0415.Add%20Strings/README_EN.md)\n",
    "\n",
    "## 题目描述\n",
    "\n",
    "<!-- 这里写题目描述 -->\n",
    "\n",
    "<p>给定两个字符串形式的非负整数&nbsp;<code>num1</code> 和<code>num2</code>&nbsp;，计算它们的和并同样以字符串形式返回。</p>\n",
    "\n",
    "<p>你不能使用任何內建的用于处理大整数的库（比如 <code>BigInteger</code>），&nbsp;也不能直接将输入的字符串转换为整数形式。</p>\n",
    "\n",
    "<p>&nbsp;</p>\n",
    "\n",
    "<p><strong>示例 1：</strong></p>\n",
    "\n",
    "<pre>\n",
    "<strong>输入：</strong>num1 = \"11\", num2 = \"123\"\n",
    "<strong>输出：</strong>\"134\"\n",
    "</pre>\n",
    "\n",
    "<p><strong>示例 2：</strong></p>\n",
    "\n",
    "<pre>\n",
    "<strong>输入：</strong>num1 = \"456\", num2 = \"77\"\n",
    "<strong>输出：</strong>\"533\"\n",
    "</pre>\n",
    "\n",
    "<p><strong>示例 3：</strong></p>\n",
    "\n",
    "<pre>\n",
    "<strong>输入：</strong>num1 = \"0\", num2 = \"0\"\n",
    "<strong>输出：</strong>\"0\"\n",
    "</pre>\n",
    "\n",
    "<p>&nbsp;</p>\n",
    "\n",
    "<p>&nbsp;</p>\n",
    "\n",
    "<p><strong>提示：</strong></p>\n",
    "\n",
    "<ul>\n",
    "\t<li><code>1 &lt;= num1.length, num2.length &lt;= 10<sup>4</sup></code></li>\n",
    "\t<li><code>num1</code> 和<code>num2</code> 都只包含数字&nbsp;<code>0-9</code></li>\n",
    "\t<li><code>num1</code> 和<code>num2</code> 都不包含任何前导零</li>\n",
    "</ul>\n",
    "\n",
    "## 解法\n",
    "\n",
    "<!-- 这里可写通用的实现逻辑 -->\n",
    "\n",
    "<!-- tabs:start -->\n",
    "\n",
    "### **Python3**\n",
    "\n",
    "<!-- 这里可写当前语言的特殊实现逻辑 -->\n",
    "\n",
    "```python\n",
    "class Solution:\n",
    "    def addStrings(self, num1: str, num2: str) -> str:\n",
    "        i, j, carry = len(num1) - 1, len(num2) - 1, 0\n",
    "        ans = []\n",
    "        while i >= 0 or j >= 0 or carry:\n",
    "            carry += (0 if i < 0 else int(num1[i])) + (0 if j < 0 else int(num2[j]))\n",
    "            carry, v = divmod(carry, 10)\n",
    "            ans.append(str(v))\n",
    "            i, j = i - 1, j - 1\n",
    "        return ''.join(ans[::-1])\n",
    "```\n"
   ]
  },
  {
   "cell_type": "code",
   "execution_count": 9,
   "metadata": {},
   "outputs": [
    {
     "name": "stdout",
     "output_type": "stream",
     "text": [
      "1000\n",
      "1000\n"
     ]
    }
   ],
   "source": [
    "# import Math\n",
    "class Solution:\n",
    "    def addStrings(self, num1: str, num2: str) -> str:\n",
    "        i,j=len(num1)-1,len(num2)-1\n",
    "        res=[0]*(max(len(num1),len(num2))+1)\n",
    "        carry=0\n",
    "        index=0\n",
    "        while i>=0 or j>=0 or carry:#carry代表进位\n",
    "            # carry+=num1[i]+num2[j]#先这样写\n",
    "            carry+=(0 if i<0 else int(num1[i])) +(0 if j<0 else int(num2[j]))#三元运算真好用！,注意加等于 \n",
    "            carry,v=divmod(carry,10)#余数和商\n",
    "            res[index]=v\n",
    "            index+=1\n",
    "            i-=1\n",
    "            j-=1\n",
    "        if res[-1]==0:\n",
    "            res.pop()\n",
    "        return ''.join([str(i) for i in res[::-1]])\n",
    "        \n",
    "if __name__==\"__main__\":\n",
    "    solution=Solution()\n",
    "    print(solution.addStrings(\"122\",\"878\"))\n",
    "    print(solution.addStrings(\"22\",\"978\"))"
   ]
  }
 ],
 "metadata": {
  "kernelspec": {
   "display_name": "Python 3.9.12 ('base')",
   "language": "python",
   "name": "python3"
  },
  "language_info": {
   "codemirror_mode": {
    "name": "ipython",
    "version": 3
   },
   "file_extension": ".py",
   "mimetype": "text/x-python",
   "name": "python",
   "nbconvert_exporter": "python",
   "pygments_lexer": "ipython3",
   "version": "3.9.12"
  },
  "orig_nbformat": 4,
  "vscode": {
   "interpreter": {
    "hash": "7b93ae2ddedcfb4b7ddebf80c8c7984044339b2e43f10e14b9461f3e640893f2"
   }
  }
 },
 "nbformat": 4,
 "nbformat_minor": 2
}
