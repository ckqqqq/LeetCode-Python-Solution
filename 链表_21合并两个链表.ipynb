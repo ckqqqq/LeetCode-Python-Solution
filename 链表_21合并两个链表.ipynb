{
 "cells": [
  {
   "cell_type": "code",
   "execution_count": null,
   "metadata": {},
   "outputs": [],
   "source": [
    "# Definition for singly-linked list.\n",
    "# class ListNode:\n",
    "#     def __init__(self, val=0, next=None):\n",
    "#         self.val = val\n",
    "#         self.next = next\n",
    "class Solution:\n",
    "    def mergeTwoLists(self, list1: Optional[ListNode], list2: Optional[ListNode]) -> Optional[ListNode]:\n",
    "        head=ListNode()\n",
    "        prev=head\n",
    "        while list1!=None and list2!=None: \n",
    "            if list1.val<list2.val:\n",
    "                prev.next=list1\n",
    "                list1=list1.next\n",
    "            else:\n",
    "                prev.next=list2\n",
    "                list2=list2.next\n",
    "            prev=prev.next#prev不为None\n",
    "        prev.next=list2 if list1==None else list2\n",
    "        return head.next"
   ]
  },
  {
   "cell_type": "code",
   "execution_count": null,
   "metadata": {},
   "outputs": [],
   "source": [
    "# Definition for singly-linked list.\n",
    "# class ListNode:\n",
    "#     def __init__(self, val=0, next=None):\n",
    "#         self.val = val\n",
    "#         self.next = next\n",
    "# 这个方法才是最快捷的\n",
    "class Solution:\n",
    "    def mergeTwoLists(self, list1: Optional[ListNode], list2: Optional[ListNode]) -> Optional[ListNode]:   \n",
    "        def dfs(link1,link2):\n",
    "            if not link1 or not link2:\n",
    "                return link1 if link1 else link2#返回非空      \n",
    "            if link1.val<link2.val:\n",
    "                cur=link1 # 注册当前\n",
    "                cur.next=dfs(link1.next,link2)# 不确定的情况下少用三元运算符\n",
    "            else:\n",
    "                cur=link2\n",
    "                cur.next=dfs(link1,link2.next)\n",
    "            return cur\n",
    "        return dfs(list1,list2)\n",
    "            "
   ]
  }
 ],
 "metadata": {
  "kernelspec": {
   "display_name": "base",
   "language": "python",
   "name": "python3"
  },
  "language_info": {
   "name": "python",
   "version": "3.9.12 (main, Apr  4 2022, 05:22:27) [MSC v.1916 64 bit (AMD64)]"
  },
  "orig_nbformat": 4,
  "vscode": {
   "interpreter": {
    "hash": "7b93ae2ddedcfb4b7ddebf80c8c7984044339b2e43f10e14b9461f3e640893f2"
   }
  }
 },
 "nbformat": 4,
 "nbformat_minor": 2
}
