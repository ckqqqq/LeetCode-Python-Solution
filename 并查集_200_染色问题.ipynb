{
 "cells": [
  {
   "cell_type": "code",
   "execution_count": 1,
   "metadata": {},
   "outputs": [
    {
     "ename": "SyntaxError",
     "evalue": "invalid syntax (377466562.py, line 2)",
     "output_type": "error",
     "traceback": [
      "\u001b[1;36m  Input \u001b[1;32mIn [1]\u001b[1;36m\u001b[0m\n\u001b[1;33m    [\"1\",,\"0\",\"1\",\"1\"]\u001b[0m\n\u001b[1;37m         ^\u001b[0m\n\u001b[1;31mSyntaxError\u001b[0m\u001b[1;31m:\u001b[0m invalid syntax\n"
     ]
    }
   ],
   "source": [
    "##一个妄图通过循环快速通关的方法（错的），原因就是循环有方向性和局限性\n",
    "[\"1\",,\"0\",\"1\",\"1\"]\n",
    "[\"0\",\"0\",\"1\",\"0\"]\n",
    "[\"1\",\"1\",\"1\",\"1\"]\n",
    "from typing import List\n",
    "class Solution:\n",
    "    def numIslands(self, grid: List[List[str]]) -> int:\n",
    "        d_x=[0,0,-1,1]\n",
    "        d_y=[-1,1,0,0]\n",
    "        count=1\n",
    "        for x in range(len(grid)):\n",
    "            for y in range(len(grid[0])):\n",
    "                grid[x][y]=int(grid[x][y])\n",
    "        for x in range(len(grid)):\n",
    "            for y in range(len(grid[0])):\n",
    "                if grid[x][y]==1:\n",
    "                    for i in range(4):\n",
    "                        n_x=x+d_x[i]\n",
    "                        n_y=y+d_y[i]\n",
    "                        if 0<=n_x<len(grid) and 0<=n_y<len(grid[0]):\n",
    "                            grid[x][y]=max(grid[x][y],grid[n_x][n_y])\n",
    "                    if grid[x][y]==1:\n",
    "                        count+=1\n",
    "                        grid[x][y]=count\n",
    "                        print(x,y)\n",
    "        return count-1\n",
    "        \n",
    "if __name__=='__main__':\n",
    "    solution=Solution()\n",
    "    print(solution.numIslands([[\"1\",\"1\",\"1\"],[\"0\",\"1\",\"0\"],[\"1\",\"1\",\"1\"]]))\n",
    "    print(solution.numIslands([\n",
    "  [\"1\",\"1\",\"0\",\"0\",\"0\"],\n",
    "  [\"1\",\"1\",\"0\",\"0\",\"0\"],\n",
    "  [\"0\",\"0\",\"1\",\"0\",\"0\"],\n",
    "  [\"0\",\"0\",\"0\",\"1\",\"1\"]\n",
    "]))\n",
    "    "
   ]
  },
  {
   "cell_type": "code",
   "execution_count": 2,
   "metadata": {},
   "outputs": [
    {
     "name": "stdout",
     "output_type": "stream",
     "text": [
      "7\n",
      "7\n"
     ]
    }
   ],
   "source": [
    "##正解之一-DFS\n",
    "from typing import List\n",
    "class Solution:\n",
    "    def numIslands(self, grid: List[List[str]]) -> int:\n",
    "        d_x=[0,0,-1,1]\n",
    "        d_y=[-1,1,0,0]\n",
    "        count=1\n",
    "        def dfs(x,y):\n",
    "            if 0<x<len(grid) and 0<y<len(grid[0]) and grid[x][y]==\"1\":\n",
    "                grid[x][y]=str(count)\n",
    "                for i in range(4):\n",
    "                    n_x=x+d_x[i]\n",
    "                    n_y=y+d_y[i]\n",
    "        for x in range(len(grid)):\n",
    "            for y in range(len(grid[0])):\n",
    "                if grid[x][y]==\"1\":\n",
    "                    count+=1\n",
    "                    dfs\n",
    "        return count-1\n",
    "        \n",
    "if __name__=='__main__':\n",
    "    solution=Solution()\n",
    "    print(solution.numIslands([[\"1\",\"1\",\"1\"],[\"0\",\"1\",\"0\"],[\"1\",\"1\",\"1\"]]))\n",
    "    print(solution.numIslands([\n",
    "  [\"1\",\"1\",\"0\",\"0\",\"0\"],\n",
    "  [\"1\",\"1\",\"0\",\"0\",\"0\"],\n",
    "  [\"0\",\"0\",\"1\",\"0\",\"0\"],\n",
    "  [\"0\",\"0\",\"0\",\"1\",\"1\"]\n",
    "]))\n",
    "    "
   ]
  },
  {
   "cell_type": "code",
   "execution_count": 7,
   "metadata": {},
   "outputs": [
    {
     "name": "stdout",
     "output_type": "stream",
     "text": [
      "False\n"
     ]
    }
   ],
   "source": [
    "print(100.2 in range(10,10000))"
   ]
  },
  {
   "cell_type": "code",
   "execution_count": 8,
   "metadata": {},
   "outputs": [
    {
     "name": "stdout",
     "output_type": "stream",
     "text": [
      "True\n"
     ]
    }
   ],
   "source": [
    "print(10<100.2<1000)\n"
   ]
  },
  {
   "cell_type": "code",
   "execution_count": null,
   "metadata": {},
   "outputs": [],
   "source": [
    "[[\"1\",\"1\",\"1\"],\n",
    " [\"0\",\"1\",\"0\"],\n",
    " [\"1\",\"1\",\"1\"]]"
   ]
  }
 ],
 "metadata": {
  "kernelspec": {
   "display_name": "Python 3.8.13 ('py38')",
   "language": "python",
   "name": "python3"
  },
  "language_info": {
   "codemirror_mode": {
    "name": "ipython",
    "version": 3
   },
   "file_extension": ".py",
   "mimetype": "text/x-python",
   "name": "python",
   "nbconvert_exporter": "python",
   "pygments_lexer": "ipython3",
   "version": "3.8.13 | packaged by conda-forge | (default, Mar 25 2022, 05:59:00) [MSC v.1929 64 bit (AMD64)]"
  },
  "orig_nbformat": 4,
  "vscode": {
   "interpreter": {
    "hash": "76c3c49e318b7c885b43daef0aa3cfe4eb22ade01aff18419595a86661fada18"
   }
  }
 },
 "nbformat": 4,
 "nbformat_minor": 2
}
