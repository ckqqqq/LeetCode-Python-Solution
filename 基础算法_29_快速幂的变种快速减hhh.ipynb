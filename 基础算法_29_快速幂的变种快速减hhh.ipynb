{
 "cells": [
  {
   "cell_type": "code",
   "execution_count": null,
   "metadata": {},
   "outputs": [],
   "source": []
  },
  {
   "attachments": {},
   "cell_type": "markdown",
   "metadata": {},
   "source": [
    "29. Divide Two Integers\n",
    "Medium\n",
    "3.8K\n",
    "12.5K\n",
    "Companies\n",
    "Given two integers dividend and divisor, divide two integers without using multiplication, division, and mod operator.\n",
    "\n",
    "The integer division should truncate toward zero, which means losing its fractional part. For example, 8.345 would be truncated to 8, and -2.7335 would be truncated to -2.\n",
    "\n",
    "Return the quotient after dividing dividend by divisor.\n",
    "\n",
    "Note: Assume we are dealing with an environment that could only store integers within the 32-bit signed integer range: [−231, 231 − 1]. For this problem, if the quotient is strictly greater than 231 - 1, then return 231 - 1, and if the quotient is strictly less than -231, then return -231.\n",
    "\n",
    " \n",
    "\n",
    "Example 1:\n",
    "\n",
    "Input: dividend = 10, divisor = 3\n",
    "Output: 3\n",
    "Explanation: 10/3 = 3.33333.. which is truncated to 3.\n",
    "Example 2:\n",
    "\n",
    "Input: dividend = 7, divisor = -3\n",
    "Output: -2\n",
    "Explanation: 7/-3 = -2.33333.. which is truncated to -2.\n",
    " \n",
    "\n",
    "Constraints:\n",
    "\n",
    "-231 <= dividend, divisor <= 231 - 1\n",
    "divisor != 0\n",
    "Accepted\n",
    "570.9K\n",
    "Submissions\n",
    "3.3M\n",
    "Acceptance Rate\n",
    "17.3%"
   ]
  },
  {
   "cell_type": "code",
   "execution_count": 1,
   "metadata": {},
   "outputs": [
    {
     "name": "stdout",
     "output_type": "stream",
     "text": [
      "2.3333333333333335\n"
     ]
    }
   ],
   "source": [
    "print(-7/-3)"
   ]
  },
  {
   "cell_type": "code",
   "execution_count": null,
   "metadata": {},
   "outputs": [],
   "source": [
    "class Solution:\n",
    "    def divide(self, dividend: int, divisor: int) -> int:\n",
    "        if dividend==0:\n",
    "            return 0\n",
    "        #辗转相除法\n",
    "        flag=0\n",
    "        if dividend<0:\n",
    "            flag+=1\n",
    "        if divisor<0:\n",
    "            flag+=1\n",
    "        dividend,divisor=abs(dividend),abs(divisor)\n",
    "        ans=0\n",
    "        if divisor==1:\n",
    "            ans=dividend\n",
    "        else:# 快速减（hhhh）\n",
    "            while divisor<=dividend :\n",
    "                pow_div,mul=divisor,1\n",
    "                while pow_div<=dividend:# 注意这里两边要一致\n",
    "                    dividend=dividend-pow_div\n",
    "                    ans+=mul\n",
    "                    mul=mul<<1\n",
    "                    pow_div=pow_div<<1\n",
    "        if flag==1:\n",
    "            return -ans if -ans>=-(1<<31) else -(1<<31)\n",
    "        else:\n",
    "            return ans if ans<=(1<<31)-1 else (1<<31)-1"
   ]
  },
  {
   "cell_type": "code",
   "execution_count": null,
   "metadata": {},
   "outputs": [],
   "source": [
    "class Solution:\n",
    "    def divide(self, dividend: int, divisor: int) -> int:\n",
    "        a=dividend;b=divisor\n",
    "        af=0;bf=0\n",
    "        if(a<0):af=1\n",
    "        if(b<0):bf=1\n",
    "        a=abs(a);b=abs(b)\n",
    "        res=len(range(0,a-b+1,b))\n",
    "        if(af==bf):\n",
    "            if(a==2147483648 and b==1):\n",
    "                return(2147483647)\n",
    "            return(res)   \n",
    "        else:\n",
    "            return(-res)\n",
    "        # ans=0\n",
    "        # for i in range(31,-1,-1):\n",
    "        #     if((b<<i)<=a):\n",
    "        #         a-=(b<<i)\n",
    "        #         ans+=1<<i   \n",
    "                             \n",
    "        # if((af==1 and bf==0) or (af==0 and bf==1)):\n",
    "        #     return(-ans)\n",
    "        # if(ans==2147483648):\n",
    "        #     return(ans-1)    \n",
    "        # return(ans)        "
   ]
  }
 ],
 "metadata": {
  "kernelspec": {
   "display_name": "base",
   "language": "python",
   "name": "python3"
  },
  "language_info": {
   "codemirror_mode": {
    "name": "ipython",
    "version": 3
   },
   "file_extension": ".py",
   "mimetype": "text/x-python",
   "name": "python",
   "nbconvert_exporter": "python",
   "pygments_lexer": "ipython3",
   "version": "3.9.12"
  },
  "orig_nbformat": 4,
  "vscode": {
   "interpreter": {
    "hash": "7b93ae2ddedcfb4b7ddebf80c8c7984044339b2e43f10e14b9461f3e640893f2"
   }
  }
 },
 "nbformat": 4,
 "nbformat_minor": 2
}
