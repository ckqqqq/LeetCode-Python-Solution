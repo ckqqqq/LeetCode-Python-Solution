{
 "cells": [
  {
   "cell_type": "code",
   "execution_count": null,
   "metadata": {},
   "outputs": [],
   "source": []
  },
  {
   "attachments": {},
   "cell_type": "markdown",
   "metadata": {},
   "source": [
    "30. Substring with Concatenation of All Words\n",
    "Hard\n",
    "509\n",
    "30\n",
    "Companies\n",
    "You are given a string s and an array of strings words. All the strings of words are of the same length.\n",
    "# 确实没有对s的特别多的描写 我感觉我的可能有问题\n",
    "A concatenated substring in s is a substring that contains all the strings of any permutation of words concatenated.\n",
    "\n",
    "For example, if words = [\"ab\",\"cd\",\"ef\"], then \"abcdef\", \"abefcd\", \"cdabef\", \"cdefab\", \"efabcd\", and \"efcdab\" are all concatenated strings. \"acdbef\" is not a concatenated substring because it is not the concatenation of any permutation of words.\n",
    "Return the starting indices of all the concatenated substrings in s. You can return the answer in any order.\n",
    "\n",
    " \n",
    "\n",
    "Example 1:\n",
    "\n",
    "Input: s = \"barfoothefoobarman\", words = [\"foo\",\"bar\"]\n",
    "Output: [0,9]\n",
    "Explanation: Since words.length == 2 and words[i].length == 3, the concatenated substring has to be of length 6.\n",
    "The substring starting at 0 is \"barfoo\". It is the concatenation of [\"bar\",\"foo\"] which is a permutation of words.\n",
    "The substring starting at 9 is \"foobar\". It is the concatenation of [\"foo\",\"bar\"] which is a permutation of words.\n",
    "The output order does not matter. Returning [9,0] is fine too.\n",
    "Example 2:\n",
    "\n",
    "Input: s = \"wordgoodgoodgoodbestword\", words = [\"word\",\"good\",\"best\",\"word\"]\n",
    "Output: []\n",
    "Explanation: Since words.length == 4 and words[i].length == 4, the concatenated substring has to be of length 16.\n",
    "There is no substring of length 16 is s that is equal to the concatenation of any permutation of words.\n",
    "We return an empty array.\n",
    "Example 3:\n",
    "\n",
    "Input: s = \"barfoofoobarthefoobarman\", words = [\"bar\",\"foo\",\"the\"]\n",
    "Output: [6,9,12]\n",
    "Explanation: Since words.length == 3 and words[i].length == 3, the concatenated substring has to be of length 9.\n",
    "The substring starting at 6 is \"foobarthe\". It is the concatenation of [\"foo\",\"bar\",\"the\"] which is a permutation of words.\n",
    "The substring starting at 9 is \"barthefoo\". It is the concatenation of [\"bar\",\"the\",\"foo\"] which is a permutation of words.\n",
    "The substring starting at 12 is \"thefoobar\". It is the concatenation of [\"the\",\"foo\",\"bar\"] which is a permutation of words.\n",
    " \n",
    "\n",
    "Constraints:\n",
    "\n",
    "1 <= s.length <= 104\n",
    "1 <= words.length <= 5000\n",
    "1 <= words[i].length <= 30\n",
    "s and words[i] consist of lowercase English letters.\n",
    "Accepted\n",
    "330.8K\n",
    "Submissions\n",
    "1.1M\n",
    "Acceptance Rate\n",
    "31.0%"
   ]
  },
  {
   "cell_type": "code",
   "execution_count": 2,
   "metadata": {},
   "outputs": [
    {
     "name": "stdout",
     "output_type": "stream",
     "text": [
      "[13]\n"
     ]
    }
   ],
   "source": [
    "class Solution:\n",
    "    def findSubstring(self, s: str, words: List[str]) -> List[int]:\n",
    "        size = len(s)\n",
    "        word_size = len(words[0])\n",
    "        num_words = len(words)\n",
    "        res = []\n",
    "        freq = {}\n",
    "        for word in words:\n",
    "            if word not in freq:\n",
    "                freq[word] = 1\n",
    "            else:\n",
    "                freq[word] += 1\n",
    "        for i in range(word_size):# 优化1\n",
    "            temp = {}\n",
    "            cnt = 0\n",
    "            start = i\n",
    "            for j in range(i, size - word_size + 1, word_size):\n",
    "                cur = s[j:j + word_size]\n",
    "                if cur in freq:\n",
    "                    if cur not in temp:\n",
    "                        temp[cur] = 1\n",
    "                    else:\n",
    "                        temp[cur] += 1\n",
    "                    cnt += 1\n",
    "                    while temp[cur] > freq[cur]:\n",
    "                        temp[s[start:start + word_size]] -= 1\n",
    "                        cnt -= 1\n",
    "                        start += word_size\n",
    "                    if cnt == num_words:\n",
    "                        res.append(start)\n",
    "                else:\n",
    "                    temp = {}#快快快\n",
    "                    cnt = 0\n",
    "                    start = j + word_size\n",
    "        return res\n",
    "solution=Solution()\n",
    "print(solution.findSubstring(\"lingmindraboofooowingdingbarrwingmonkeypoundcake\",[\"fooo\",\"barr\",\"wing\",\"ding\",\"wing\"]))\n",
    "    "
   ]
  },
  {
   "cell_type": "code",
   "execution_count": 1,
   "metadata": {},
   "outputs": [
    {
     "name": "stdout",
     "output_type": "stream",
     "text": [
      "[]\n",
      "[0]\n",
      "[]\n",
      "[6, 9, 12]\n"
     ]
    }
   ],
   "source": [
    "# 我感觉我写的有点冗余 没过\n",
    "from typing import List\n",
    "class Solution:\n",
    "    def findSubstring(self, s: str, words: List[str]) -> List[int]:\n",
    "        if len(words)==0:\n",
    "            return []\n",
    "        SLEN,WLEN=len(s),len(words)\n",
    "        step=len(words[0])\n",
    "        win_dict={}\n",
    "        word_dict={}\n",
    "        for word in words:\n",
    "            if word not in word_dict:\n",
    "                word_dict[word]=1# 注意这里 如果出现了word（已经出现了一次） 那么其出现次数要从1开始\n",
    "                win_dict[word]=0# 而窗口词典则从0开始\n",
    "            else:\n",
    "                word_dict[word]+=1\n",
    "        left,right=0,0\n",
    "        result=[]\n",
    "        while right+step<=SLEN:\n",
    "            while right-left<SLEN*step and right+step<=SLEN:\n",
    "                new_word=s[right:right+step]\n",
    "                if  new_word not in word_dict:\n",
    "                    while left<right:#消除旧的相\n",
    "                        win_dict[s[left:left+step]]-=1\n",
    "                        left+=step\n",
    "                    left,right=right+step,right+step#跨越新的相\n",
    "                    continue\n",
    "                else:\n",
    "                    win_dict[new_word]+=1\n",
    "                    while win_dict[new_word]>word_dict[new_word]:#消除冗余\n",
    "                        win_dict[s[left:left+step]]-=1\n",
    "                        left+=step\n",
    "                    left,right=left,right+step\n",
    "                if right-left==WLEN*step:#已经消除冗余了而且长度对上\n",
    "                    result.append(left)\n",
    "        return result\n",
    "solution=Solution()\n",
    "print(solution.findSubstring(\"lingmindraboofooowingdingbarrwingmonkeypoundcake\",[\"fooo\",\"barr\",\"wing\",\"ding\",\"wing\"]))\n",
    "print(solution.findSubstring(\"barfoothefoo1barman\",words = [\"foo\",\"bar\"]))# 这种是不是有问题\n",
    "print(solution.findSubstring(\"wordgoodgoodgoodbestword\", words = [\"word\",\"good\",\"best\",\"word\"]))\n",
    "print(solution.findSubstring(s = \"barfoofoobarthefoobarman\", words = [\"bar\",\"foo\",\"the\"]))\n",
    "        "
   ]
  },
  {
   "cell_type": "code",
   "execution_count": 14,
   "metadata": {},
   "outputs": [
    {
     "name": "stdout",
     "output_type": "stream",
     "text": [
      "{'abc': 0, 'bcd': 2, 'efg': 0}\n"
     ]
    }
   ],
   "source": [
    "test_dict={\"abc\":1,\"bcd\":2}\n",
    "test_dict[\"abc\"]-=1\n",
    "test_dict[\"efg\"]=0\n",
    "print(test_dict)"
   ]
  },
  {
   "cell_type": "code",
   "execution_count": 2,
   "metadata": {},
   "outputs": [
    {
     "name": "stdout",
     "output_type": "stream",
     "text": [
      "aaa\n"
     ]
    }
   ],
   "source": [
    "print(\"aaa\")"
   ]
  }
 ],
 "metadata": {
  "kernelspec": {
   "display_name": "base",
   "language": "python",
   "name": "python3"
  },
  "language_info": {
   "codemirror_mode": {
    "name": "ipython",
    "version": 3
   },
   "file_extension": ".py",
   "mimetype": "text/x-python",
   "name": "python",
   "nbconvert_exporter": "python",
   "pygments_lexer": "ipython3",
   "version": "3.9.12"
  },
  "orig_nbformat": 4,
  "vscode": {
   "interpreter": {
    "hash": "7b93ae2ddedcfb4b7ddebf80c8c7984044339b2e43f10e14b9461f3e640893f2"
   }
  }
 },
 "nbformat": 4,
 "nbformat_minor": 2
}
