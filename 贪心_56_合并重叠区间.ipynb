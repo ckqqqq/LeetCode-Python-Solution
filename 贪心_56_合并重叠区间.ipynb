{
 "cells": [
  {
   "cell_type": "code",
   "execution_count": null,
   "metadata": {},
   "outputs": [],
   "source": []
  },
  {
   "attachments": {},
   "cell_type": "markdown",
   "metadata": {},
   "source": [
    "56. Merge Intervals\n",
    "Medium\n",
    "17.8K\n",
    "615\n",
    "Companies\n",
    "Given an array of intervals where intervals[i] = [starti, endi], merge all overlapping intervals, and return an array of the non-overlapping intervals that cover all the intervals in the input.\n",
    "\n",
    " \n",
    "\n",
    "Example 1:\n",
    "\n",
    "Input: intervals = [[1,3],[2,6],[8,10],[15,18]]\n",
    "Output: [[1,6],[8,10],[15,18]]\n",
    "Explanation: Since intervals [1,3] and [2,6] overlap, merge them into [1,6].\n",
    "Example 2:\n",
    "\n",
    "Input: intervals = [[1,4],[4,5]]\n",
    "Output: [[1,5]]\n",
    "Explanation: Intervals [1,4] and [4,5] are considered overlapping.\n",
    " \n",
    "\n",
    "Constraints:\n",
    "\n",
    "1 <= intervals.length <= 104\n",
    "intervals[i].length == 2\n",
    "0 <= starti <= endi <= 104"
   ]
  },
  {
   "cell_type": "code",
   "execution_count": null,
   "metadata": {},
   "outputs": [],
   "source": [
    "# from typing import List\n",
    "class Solution:\n",
    "    def merge(self, intervals: List[List[int]]) -> List[List[int]]:\n",
    "        intervals.sort(key=lambda x:x[0])# lambda (argument):(expression)\n",
    "        res=[intervals[0]]\n",
    "        for i in range(1,len(intervals)):\n",
    "            # 如果答案[-1]位的[end]标识>当前[start]标识\n",
    "            if res[-1][-1]>=intervals[i][0]:# intervals>=res[i][0]\n",
    "                res[-1][-1]=max(intervals[i][-1],res[-1][-1])# 取最大的值\n",
    "            else:\n",
    "                res.append(intervals[i])\n",
    "        return res\n",
    "                \n",
    "        "
   ]
  },
  {
   "cell_type": "code",
   "execution_count": null,
   "metadata": {},
   "outputs": [],
   "source": [
    "# 正解\n",
    "# #\n",
    "# 1 <= intervals.length <= 104\n",
    "# intervals[i].length == 2\n",
    "# 0 <= starti <= endi <= 104\n",
    "class Solution:\n",
    "    def merge(self, intervals: List[List[int]]) -> List[List[int]]:\n",
    "        intervals.sort(key=lambda x:x[0])\n",
    "        a=[intervals[0]]\n",
    "        for i in intervals[1::]:\n",
    "            x=a[-1][-1]\n",
    "            if x>=i[0]:\n",
    "                a[-1][-1]=max(x,i[1])\n",
    "            else:\n",
    "                a.append(i)\n",
    "        return a\n",
    "        "
   ]
  },
  {
   "cell_type": "code",
   "execution_count": 24,
   "metadata": {},
   "outputs": [
    {
     "name": "stdout",
     "output_type": "stream",
     "text": [
      "[[0, 0], [2, 4], [5, 5]]\n"
     ]
    }
   ],
   "source": [
    "from collections import defaultdict\n",
    "from typing import List\n",
    "# import queue\n",
    "import itertools\n",
    "class Solution:\n",
    "    def merge(self, intervals: List[List[int]]) -> List[List[int]]:\n",
    "        result=[]\n",
    "        predict=defaultdict(int)\n",
    "        ghost=defaultdict(int)\n",
    "        for lis in intervals:\n",
    "            predict[lis[0]]+=1\n",
    "            predict[lis[-1]]+=-1\n",
    "            if lis[0]==lis[-1]:\n",
    "                ghost[lis[0]]=0\n",
    "        flatten =list(itertools.chain.from_iterable(intervals))\n",
    "        flatten.sort()\n",
    "        cur=0\n",
    "        for i,val in enumerate(flatten):\n",
    "            if i>0 and flatten[i]==flatten[i-1]:\n",
    "                continue\n",
    "            cur+=predict[val]\n",
    "            if cur>0 and cur-predict[val]==0: #从小变大\n",
    "                result.append([val])\n",
    "            elif cur==0 and cur-predict[val]>0:# 从大变小\n",
    "                result[-1].append(val)\n",
    "            elif val in ghost and cur==0:# 一直为0\n",
    "                result.append([val,val])\n",
    "        return result    \n",
    "solution=Solution()\n",
    "print(solution.merge( [[2,3],[5,5],[2,2],[3,4],[3,4],[0,0]]))                     "
   ]
  },
  {
   "cell_type": "code",
   "execution_count": 14,
   "metadata": {},
   "outputs": [
    {
     "name": "stdout",
     "output_type": "stream",
     "text": [
      "dict_keys([1, 0])\n"
     ]
    }
   ],
   "source": [
    "predict=defaultdict(int)\n",
    "predict[1]=0\n",
    "predict[0]=1\n",
    "print(predict.keys())"
   ]
  },
  {
   "cell_type": "code",
   "execution_count": 2,
   "metadata": {},
   "outputs": [
    {
     "ename": "SyntaxError",
     "evalue": "invalid syntax (1789090670.py, line 2)",
     "output_type": "error",
     "traceback": [
      "\u001b[1;36m  Input \u001b[1;32mIn [2]\u001b[1;36m\u001b[0m\n\u001b[1;33m    print([**intervals])\u001b[0m\n\u001b[1;37m           ^\u001b[0m\n\u001b[1;31mSyntaxError\u001b[0m\u001b[1;31m:\u001b[0m invalid syntax\n"
     ]
    }
   ],
   "source": [
    "intervals=[[1,2],[3,4]]\n",
    "print([*intervals])"
   ]
  }
 ],
 "metadata": {
  "kernelspec": {
   "display_name": "base",
   "language": "python",
   "name": "python3"
  },
  "language_info": {
   "codemirror_mode": {
    "name": "ipython",
    "version": 3
   },
   "file_extension": ".py",
   "mimetype": "text/x-python",
   "name": "python",
   "nbconvert_exporter": "python",
   "pygments_lexer": "ipython3",
   "version": "3.9.12 (main, Apr  4 2022, 05:22:27) [MSC v.1916 64 bit (AMD64)]"
  },
  "orig_nbformat": 4,
  "vscode": {
   "interpreter": {
    "hash": "7b93ae2ddedcfb4b7ddebf80c8c7984044339b2e43f10e14b9461f3e640893f2"
   }
  }
 },
 "nbformat": 4,
 "nbformat_minor": 2
}
