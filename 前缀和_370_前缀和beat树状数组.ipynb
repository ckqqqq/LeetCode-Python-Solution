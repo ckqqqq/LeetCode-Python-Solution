{
 "cells": [
  {
   "attachments": {},
   "cell_type": "markdown",
   "metadata": {},
   "source": [
    "# [370. 区间加法](https://leetcode.cn/problems/range-addition)\n",
    "\n",
    "[English Version](/solution/0300-0399/0370.Range%20Addition/README_EN.md)\n",
    "\n",
    "## 题目描述\n",
    "\n",
    "<!-- 这里写题目描述 -->\n",
    "\n",
    "<p>假设你有一个长度为&nbsp;<em><strong>n</strong></em>&nbsp;的数组，初始情况下所有的数字均为&nbsp;<strong>0</strong>，你将会被给出&nbsp;<em><strong>k</strong></em>​​​​​​<em>​</em> 个更新的操作。</p>\n",
    "\n",
    "<p>其中，每个操作会被表示为一个三元组：<strong>[startIndex, endIndex, inc]</strong>，你需要将子数组&nbsp;<strong>A[startIndex ... endIndex]</strong>（包括 startIndex 和 endIndex）增加&nbsp;<strong>inc</strong>。</p>\n",
    "\n",
    "<p>请你返回&nbsp;<strong><em>k</em></strong>&nbsp;次操作后的数组。</p>\n",
    "\n",
    "<p><strong>示例:</strong></p>\n",
    "\n",
    "<pre><strong>输入: </strong>length = 5, updates = [[1,3,2],[2,4,3],[0,2,-2]]\n",
    "<strong>输出: </strong>[-2,0,3,5,3]\n",
    "</pre>\n",
    "\n",
    "<p><strong>解释:</strong></p>\n",
    "\n",
    "<pre>初始状态:\n",
    "[0,0,0,0,0]\n",
    "\n",
    "进行了操作 [1,3,2] 后的状态:\n",
    "[0,2,2,2,0]\n",
    "\n",
    "进行了操作 [2,4,3] 后的状态:\n",
    "[0,2,5,5,3]\n",
    "\n",
    "进行了操作 [0,2,-2] 后的状态:\n",
    "[-2,0,3,5,3]\n",
    "</pre>\n",
    "\n",
    "## 解法\n",
    "\n",
    "<!-- 这里可写通用的实现逻辑 -->\n",
    "\n",
    "**方法一：前缀和**\n",
    "\n",
    "设 d 为前缀和。\n",
    "\n",
    "给区间 [l, r] 中的每一个数加上 c，即 `d[l] += c, d[r + 1] -= c`。\n",
    "\n",
    "对 d 求前缀和，即可得到操作后的数组。\n",
    "\n",
    "时间复杂度 O(n)。\n",
    "\n",
    "**方法二：树状数组 + 差分思想**\n",
    "\n",
    "时间复杂度 O(nlogn)。\n",
    "\n",
    "树状数组，也称作“二叉索引树”（Binary Indexed Tree）或 Fenwick 树。 它可以高效地实现如下两个操作：\n",
    "\n",
    "1. **单点更新** `update(x, delta)`： 把序列 x 位置的数加上一个值 delta；\n",
    "1. **前缀和查询** `query(x)`：查询序列 `[1,...x]` 区间的区间和，即位置 x 的前缀和。\n",
    "\n",
    "这两个操作的时间复杂度均为 `O(log n)`。\n",
    "\n",
    "注意，其实差分数组更快，这提示我们有时候，区域加减法不一定都要树状数组，单纯的前缀和思想就像\n"
   ]
  },
  {
   "cell_type": "code",
   "execution_count": 7,
   "metadata": {},
   "outputs": [
    {
     "name": "stdout",
     "output_type": "stream",
     "text": [
      "[0, 2, 0, 0, -2, 0]\n",
      "[0, 2, 2, 2, 0]\n",
      "[-2, 2, 3, 2, -2, -3]\n",
      "[-2, 0, 3, 5, 3]\n"
     ]
    }
   ],
   "source": [
    "from typing import List\n",
    "class Solution:\n",
    "    def getModifiedArray(self, length: int, updates: List[List[int]]) -> List[int]:\n",
    "        #差分数组 差分数组其实更快\n",
    "        dif_arr=[0]*(length+1)\n",
    "        for start,end,value in updates:#这里注意，本身可以将list切片！\n",
    "            dif_arr[start]=value\n",
    "            dif_arr[end+1]=-value# 就是一起一落\n",
    "        s=[0]*(length+1+1)\n",
    "        print(dif_arr)\n",
    "        for i in range(length):\n",
    "            s[i+1]=s[i]+dif_arr[i]\n",
    "        return s[1:-1]\n",
    "        \n",
    "if __name__==\"__main__\":\n",
    "    solution=Solution()\n",
    "    print(solution.getModifiedArray(5,[[1,3,2]]))\n",
    "    \n",
    "    print(solution.getModifiedArray(5,[[1,3,2],[2,4,3],[0,2,-2]]))"
   ]
  },
  {
   "cell_type": "code",
   "execution_count": null,
   "metadata": {},
   "outputs": [],
   "source": [
    "10 \n",
    "01+01\n",
    "10"
   ]
  },
  {
   "cell_type": "markdown",
   "metadata": {},
   "source": [
    "\n",
    "<!-- tabs:start -->\n",
    "\n",
    "### **Python3**\n",
    "\n",
    "<!-- 这里可写当前语言的特殊实现逻辑 -->\n",
    "\n",
    "差分数组：\n",
    "\n",
    "```python\n",
    "\n",
    "\n",
    "class Solution:\n",
    "    def getModifiedArray(self, length: int, updates: List[List[int]]) -> List[int]:\n",
    "        delta = [0] * length\n",
    "        for start, end, inc in updates:\n",
    "            delta[start] += inc\n",
    "            if end + 1 < length:\n",
    "                delta[end + 1] -= inc\n",
    "        return list(accumulate(delta))\n",
    "```\n"
   ]
  },
  {
   "cell_type": "code",
   "execution_count": 6,
   "metadata": {},
   "outputs": [
    {
     "name": "stdout",
     "output_type": "stream",
     "text": [
      "[0, 2, 2, 2, 0]\n",
      "[-2, 0, 3, 5, 3]\n"
     ]
    }
   ],
   "source": [
    "from typing import List\n",
    "\n",
    "class BinaryIndexedTree:\n",
    "    def __init__(self, n):\n",
    "        self.n = n\n",
    "        self.c = [0] * (n + 1)\n",
    "\n",
    "    @staticmethod\n",
    "    def lowbit(x):#取得最后一位的一（子节点+lowbit==父节点 父节点-lowbit==子节点）\n",
    "        return x & -x\n",
    "\n",
    "    def update(self, x, delta):#将BIT覆盖的区间包含A[i]的值加上delta\n",
    "        while x <= self.n:\n",
    "            self.c[x] += delta\n",
    "            x += BinaryIndexedTree.lowbit(x)#不需要类和实例化直接调用即可,更快\n",
    "\n",
    "    def query(self, x):#求前缀和\n",
    "        s = 0\n",
    "        while x:\n",
    "            s += self.c[x]\n",
    "            x -= BinaryIndexedTree.lowbit(x)#\n",
    "        return s\n",
    "\n",
    "\n",
    "class Solution:\n",
    "    def getModifiedArray(self, length: int, updates: List[List[int]]) -> List[int]:\n",
    "        tree = BinaryIndexedTree(length)\n",
    "        for start, end, inc in updates:#nlogn\n",
    "            tree.update(start + 1, inc)\n",
    "            tree.update(end + 2, -inc)\n",
    "        return [tree.query(i + 1) for i in range(length)]#获得前缀数组\n",
    "if __name__==\"__main__\":\n",
    "    solution=Solution()\n",
    "    print(solution.getModifiedArray(5,[[1,3,2]]))\n",
    "    \n",
    "    print(solution.getModifiedArray(5,[[1,3,2],[2,4,3],[0,2,-2]]))"
   ]
  },
  {
   "cell_type": "code",
   "execution_count": null,
   "metadata": {},
   "outputs": [],
   "source": []
  },
  {
   "cell_type": "markdown",
   "metadata": {},
   "source": [
    "定义一个lowbit函数，返回参数转为二进制后,最后一个1的位置所代表的数值。\n",
    "\n",
    "例如，lowbit(34)的返回值将是2；而lowbit(12)返回4；lowbit(8)返回8。\n",
    "\n",
    "将34转为二进制为(0010 0010)2。这里的“最后一个1”指的是从{\\displaystyle 2^{0}}2^{0}位往前数，见到的第一个1，也就是{\\displaystyle 2^{1}}2^{1}位上的1。\n",
    "\n",
    "程序上，(~i + 1) & i表明了最后一位1的值。\n",
    "\n",
    "仍然以34为例，~(0010 0010)的结果是1101 1101（221），加1后为1101 1110（222），把0010 0010与1101 1110作AND，得0000 0010（2）。\n",
    "\n",
    "lowbit的一个简便求法:（C++）"
   ]
  },
  {
   "cell_type": "markdown",
   "metadata": {},
   "source": []
  }
 ],
 "metadata": {
  "kernelspec": {
   "display_name": "Python 3.9.12 ('base')",
   "language": "python",
   "name": "python3"
  },
  "language_info": {
   "codemirror_mode": {
    "name": "ipython",
    "version": 3
   },
   "file_extension": ".py",
   "mimetype": "text/x-python",
   "name": "python",
   "nbconvert_exporter": "python",
   "pygments_lexer": "ipython3",
   "version": "3.9.12 (main, Apr  4 2022, 05:22:27) [MSC v.1916 64 bit (AMD64)]"
  },
  "orig_nbformat": 4,
  "vscode": {
   "interpreter": {
    "hash": "7b93ae2ddedcfb4b7ddebf80c8c7984044339b2e43f10e14b9461f3e640893f2"
   }
  }
 },
 "nbformat": 4,
 "nbformat_minor": 2
}
