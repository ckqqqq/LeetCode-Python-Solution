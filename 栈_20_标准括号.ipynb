{
 "cells": [
  {
   "attachments": {},
   "cell_type": "markdown",
   "metadata": {},
   "source": [
    "20. Valid Parentheses\n",
    "Easy\n",
    "17.5K\n",
    "947\n",
    "Companies\n",
    "Given a string s containing just the characters '(', ')', '{', '}', '[' and ']', determine if the input string is valid.\n",
    "\n",
    "An input string is valid if:\n",
    "\n",
    "Open brackets must be closed by the same type of brackets.\n",
    "Open brackets must be closed in the correct order.\n",
    "Every close bracket has a corresponding open bracket of the same type.\n",
    " \n",
    "\n",
    "Example 1:\n",
    "\n",
    "Input: s = \"()\"\n",
    "Output: true\n",
    "Example 2:\n",
    "\n",
    "Input: s = \"()[]{}\"\n",
    "Output: true\n",
    "Example 3:\n",
    "\n",
    "Input: s = \"(]\"\n",
    "Output: false\n",
    " \n",
    "\n",
    "Constraints:\n",
    "\n",
    "1 <= s.length <= 104\n",
    "s consists of parentheses only '()[]{}'."
   ]
  },
  {
   "cell_type": "code",
   "execution_count": null,
   "metadata": {},
   "outputs": [],
   "source": [
    "class Solution:\n",
    "    def isValid(self, s: str) -> bool:\n",
    "        stack=[]\n",
    "        left=[\"(\",\"[\",\"{\"]\n",
    "        right=[\")\",\"]\",\"}\"]\n",
    "        r2l=dict(zip(right,left))\n",
    "        for ch in s:\n",
    "            if ch in left:\n",
    "                stack.append(ch)\n",
    "            else:\n",
    "                if len(stack)!=0 and stack[-1]==r2l[ch]:# 注意这个特判，要特别小心数组越界的问题\n",
    "                    stack.pop()\n",
    "                else:\n",
    "                    return False\n",
    "        return len(stack)==0"
   ]
  },
  {
   "cell_type": "code",
   "execution_count": null,
   "metadata": {},
   "outputs": [],
   "source": [
    "class Solution:\n",
    "    def isValid(self, s: str) -> bool:\n",
    "        dict1 = {'(':')', '[':']', '{':'}'}# 直接这样子定义字典\n",
    "        temp = []\n",
    "        for i in s:\n",
    "            if i in dict1:\n",
    "                temp.append(i)\n",
    "            elif len(temp) == 0 or dict1[temp.pop()] != i:\n",
    "                return False\n",
    "        return len(temp) == 0"
   ]
  }
 ],
 "metadata": {
  "language_info": {
   "name": "python"
  },
  "orig_nbformat": 4
 },
 "nbformat": 4,
 "nbformat_minor": 2
}
