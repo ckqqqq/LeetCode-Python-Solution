{
 "cells": [
  {
   "cell_type": "code",
   "execution_count": null,
   "metadata": {},
   "outputs": [],
   "source": []
  },
  {
   "attachments": {},
   "cell_type": "markdown",
   "metadata": {},
   "source": [
    "正确\n",
    "```python\n",
    "while left<=right:\n",
    "    mid=(right+left)//2 \n",
    "    # print(left,right,mid)\n",
    "    if check(mid)==True:# 时间太大,剩余时间太多 # 找到路径了\n",
    "        right=mid-1\n",
    "    elif check(mid)==False:#时间太小，无法返回\n",
    "        left=mid+1      \n",
    "return left+startTime%2\n",
    "```\n",
    "错误\n",
    "```python\n",
    "while left<=right:\n",
    "    mid=(right+left)//2 \n",
    "    # print(left,right,mid)\n",
    "    if check(mid):# 时间太大,剩余时间太多 # 找到路径了\n",
    "        right=mid-1\n",
    "    elif check(mid):#时间太小，无法返回\n",
    "        left=mid+1      \n",
    "return left+startTime%2\n",
    "```"
   ]
  },
  {
   "attachments": {},
   "cell_type": "markdown",
   "metadata": {},
   "source": [
    "正确\n",
    "```python\n",
    "## 正确\n",
    "```\n",
    "错误\n",
    "```python\n",
    "##错误\n",
    "```"
   ]
  },
  {
   "attachments": {},
   "cell_type": "markdown",
   "metadata": {},
   "source": [
    "正确\n",
    "```python\n",
    "## 正确\n",
    "```\n",
    "错误\n",
    "```python\n",
    "##错误\n",
    "```"
   ]
  },
  {
   "attachments": {},
   "cell_type": "markdown",
   "metadata": {},
   "source": [
    "正确\n",
    "```python\n",
    "## 正确\n",
    "```\n",
    "错误\n",
    "```python\n",
    "##错误\n",
    "```"
   ]
  },
  {
   "attachments": {},
   "cell_type": "markdown",
   "metadata": {},
   "source": [
    "正确\n",
    "```python\n",
    "## 正确\n",
    "```\n",
    "错误\n",
    "```python\n",
    "##错误\n",
    "```"
   ]
  },
  {
   "attachments": {},
   "cell_type": "markdown",
   "metadata": {},
   "source": [
    "正确\n",
    "```python\n",
    "## 正确\n",
    "```\n",
    "错误\n",
    "```python\n",
    "##错误\n",
    "```"
   ]
  }
 ],
 "metadata": {
  "kernelspec": {
   "display_name": "base",
   "language": "python",
   "name": "python3"
  },
  "language_info": {
   "name": "python",
   "version": "3.9.12"
  },
  "orig_nbformat": 4,
  "vscode": {
   "interpreter": {
    "hash": "7b93ae2ddedcfb4b7ddebf80c8c7984044339b2e43f10e14b9461f3e640893f2"
   }
  }
 },
 "nbformat": 4,
 "nbformat_minor": 2
}
