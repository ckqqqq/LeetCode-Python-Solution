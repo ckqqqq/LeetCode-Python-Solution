{
 "cells": [
  {
   "cell_type": "code",
   "execution_count": 2,
   "metadata": {},
   "outputs": [
    {
     "name": "stdout",
     "output_type": "stream",
     "text": [
      "4\n",
      "-1\n",
      "-1\n",
      "10\n",
      "4\n",
      "5\n",
      "1\n"
     ]
    }
   ],
   "source": [
    "from typing import List\n",
    "class Solution():\n",
    "    def search(self,nums:List[int],target:int):# 忘记加self\n",
    "        left,right=0,len(nums)-1\n",
    "        while left<=right:\n",
    "            mid=(right+left)//2#left+(right-left)>>1\n",
    "            if nums[mid]>target:\n",
    "                if nums[mid]<=nums[-1] or target>=nums[0]:# 错误 直接比较了right 而不是nuns【right】\n",
    "                    right=mid-1\n",
    "                else:#\n",
    "                    left=mid+1\n",
    "            elif nums[mid]<target:   \n",
    "                if nums[mid]>=nums[0] or target<=nums[-1]:# 比较两个端点比较好\n",
    "                    left=mid+1\n",
    "                else:#右边\n",
    "                    right=mid-1\n",
    "            elif nums[mid]==target:\n",
    "                return mid # find\n",
    "        return -1 # nothing left\n",
    "solution=Solution()\n",
    "print(solution.search([4,5,6,7,0,1,2],0))\n",
    "print(solution.search([4,5,6,7,0,1,2],3))\n",
    "print(solution.search([1],0))\n",
    "print(solution.search([7,8,9,10,11,12,0,1,2,3,4,5,6],4))\n",
    "print(solution.search([7,8,9,10,11,12,0,1,2,3,4,5,6],11))\n",
    "print(solution.search([7,8,9,10,11,12,0,1,2,3,4,5,6],12))\n",
    "print(solution.search([7,8,9,10,11,12,0,1,2,3,4,5,6],8))\n",
    "\n"
   ]
  }
 ],
 "metadata": {
  "kernelspec": {
   "display_name": "base",
   "language": "python",
   "name": "python3"
  },
  "language_info": {
   "codemirror_mode": {
    "name": "ipython",
    "version": 3
   },
   "file_extension": ".py",
   "mimetype": "text/x-python",
   "name": "python",
   "nbconvert_exporter": "python",
   "pygments_lexer": "ipython3",
   "version": "3.9.12"
  },
  "orig_nbformat": 4,
  "vscode": {
   "interpreter": {
    "hash": "7b93ae2ddedcfb4b7ddebf80c8c7984044339b2e43f10e14b9461f3e640893f2"
   }
  }
 },
 "nbformat": 4,
 "nbformat_minor": 2
}
