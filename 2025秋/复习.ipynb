{
 "cells": [
  {
   "cell_type": "code",
   "execution_count": null,
   "metadata": {},
   "outputs": [],
   "source": [
    "import torch\n",
    "import einops\n",
    "from einops import rearrange  # 修复拼写错误\n",
    "from torch import Linear\n",
    "\n",
    "class MHA(torch.nn.Module):\n",
    "    def __init__(self,hs,heads):\n",
    "        super().__init__()\n",
    "        self.q_l=Linear(hs,hs)\n",
    "        self.k_l=Linear(hs,hs)\n",
    "        self.v_l=Linear(hs,hs)\n",
    "        self.o_l=Linear(hs,hs)\n",
    "        self.head_dim=hs//heads\n",
    "        self.heads=heads\n",
    "    \n",
    "    def forward(self,x,mask=None):\n",
    "        q=self.q_l(x)\n",
    "        k=self.k_l(x)\n",
    "        v=self.v_l(x)\n",
    "        q=rearrange(q,\"b seq_len (head h_dim) -> b head seq_len h_dim\")  # 修复拼写错误\n",
    "        k=rearrange(k,\"b seq_len (head h_dim) -> b head seq_len h_dim\")  # 修复拼写错误\n",
    "        v=rearrange(v,\"b seq_len (head h_dim) -> b head seq_len h_dim\")  # 修复拼写错误\n",
    "        attention_score=torch.matmul(q,k.transpose(-1,-2))/torch.sqrt(self.head_dim)  # 修复方法名\n",
    "        # b head s s\n",
    "        if mask is not None:  # 修复条件判断\n",
    "            attention_score.masked_fill_(mask==0,float('-inf'))  # 修复方法名\n",
    "        attention_prob=torch.softmax(attention_score, dim=-1)  # 建议添加维度参数\n",
    "        # 对最后一个维度进行处理\n",
    "        out=torch.matmul(attention_prob,v)  # 修复方法名\n",
    "        # b head s h_dim\n",
    "        out=rearrange(out,\"b head seq_len head_dim -> b seq_len (head head_dim)\")  # 修复拼写错误\n",
    "        out=self.o_l(out)\n",
    "        return out"
   ]
  }
 ],
 "metadata": {
  "kernelspec": {
   "display_name": "videochat-r1",
   "language": "python",
   "name": "python3"
  },
  "language_info": {
   "name": "python",
   "version": "3.11.12"
  }
 },
 "nbformat": 4,
 "nbformat_minor": 2
}
