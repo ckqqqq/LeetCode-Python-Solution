{
 "cells": [
  {
   "cell_type": "code",
   "execution_count": 25,
   "metadata": {},
   "outputs": [
    {
     "name": "stdout",
     "output_type": "stream",
     "text": [
      "-1\n",
      "4\n",
      "0\n"
     ]
    }
   ],
   "source": [
    "from typing import List \n",
    "class Solution:\n",
    "    def coinChange(self, coins: List[int], amount: int) -> int:\n",
    "        # dp=[float('inf')]*(amount+1)\n",
    "        dp={}\n",
    "        \n",
    "        def dp_memo(num:int):\n",
    "            if num==0:\n",
    "                return 0\n",
    "            elif num<0:\n",
    "                return float('inf')\n",
    "            elif num in dp:\n",
    "                return dp[num]\n",
    "            nowcoin=float('inf')\n",
    "            for coin in coins:\n",
    "                lastcoin=dp_memo(num-coin)\n",
    "                nowcoin=min(nowcoin,lastcoin+1)#用一块硬币\n",
    "            if nowcoin!=float('inf'):\n",
    "                dp[num]=nowcoin\n",
    "            return nowcoin\n",
    "        ans=dp_memo(amount)\n",
    "        return -1 if ans==float('inf') else ans #在python中无穷大加一还是无穷大\n",
    "if __name__==\"__main__\":\n",
    "    solution=Solution()\n",
    "    # print(solution.coinChange([186,419,83,408],6249))\n",
    "    print(solution.coinChange([3],2))\n",
    "    print(solution.coinChange([1,2,3],11))\n",
    "    print(solution.coinChange([1],0))\n",
    "    "
   ]
  },
  {
   "cell_type": "code",
   "execution_count": 47,
   "metadata": {},
   "outputs": [
    {
     "name": "stdout",
     "output_type": "stream",
     "text": [
      "26\n",
      "-1\n",
      "4\n",
      "0\n"
     ]
    }
   ],
   "source": [
    "#经过优化的\n",
    "from typing import List \n",
    "class Solution:\n",
    "    def coinChange(self, coins: List[int], amount: int) -> int:\n",
    "        # dp=[float('inf')]*(amount+1)\n",
    "        dp={}\n",
    "        coins=sorted(coins,reverse=True)\n",
    "        # print(coins)#list不可以用XX.sort那个是干啥的我不知道\n",
    "        def dp_memo(num:int):\n",
    "            if num==0:\n",
    "                return 0\n",
    "            elif num<coins[-1]:\n",
    "                return -1\n",
    "            elif num in dp:\n",
    "                return dp[num]\n",
    "            for coin in coins:\n",
    "                lastcoin=dp_memo(num-coin)\n",
    "                if lastcoin!=-1:\n",
    "                    dp[num]=lastcoin+1\n",
    "                    return lastcoin+1\n",
    "            return -1\n",
    "        ans=dp_memo(amount)\n",
    "        return  ans #在python中无穷大加一还是无穷大\n",
    "if __name__==\"__main__\":\n",
    "    solution=Solution()\n",
    "    print(solution.coinChange([186,419,83,408],6249))\n",
    "    # [186,419,83,408]6249\n",
    "    print(solution.coinChange([3],2))\n",
    "    print(solution.coinChange([1,2,3],11))\n",
    "    print(solution.coinChange([1],0))\n",
    "    "
   ]
  },
  {
   "cell_type": "code",
   "execution_count": 1,
   "metadata": {},
   "outputs": [
    {
     "name": "stdout",
     "output_type": "stream",
     "text": [
      "inf\n",
      "True\n",
      "True\n"
     ]
    }
   ],
   "source": [
    "print(float('inf')+10)\n",
    "print(float('inf')==float('inf')+1)\n",
    "print(float('inf')==float('inf')+100000)"
   ]
  },
  {
   "cell_type": "code",
   "execution_count": 4,
   "metadata": {},
   "outputs": [
    {
     "name": "stdout",
     "output_type": "stream",
     "text": [
      "20\n",
      "inf\n",
      "4\n",
      "0\n"
     ]
    }
   ],
   "source": [
    "#AC了的快速代码\n",
    "#经过优化的\n",
    "from typing import List \n",
    "class Solution:\n",
    "    def coinChange(self, coins: List[int], amount: int) -> int:\n",
    "        # dp=[float('inf')]*(amount+1)\n",
    "        dp=[float('inf')]*(amount+1)\n",
    "        dp[0]=0\n",
    "        coins=sorted(coins,reverse=True)\n",
    "        for i in range(0,amount+1):\n",
    "            for coin in coins:\n",
    "                if i-coin>=0:\n",
    "                    dp[i]=min(dp[i],dp[i-coin]+1)\n",
    "        return  -1 if float('inf')==dp[amount] else dp[amount]#在python中无穷大加一还是无穷大\n",
    "if __name__==\"__main__\":\n",
    "    solution=Solution()\n",
    "    print(solution.coinChange([186,419,83,408],6249))\n",
    "    # [186,419,83,408]6249\n",
    "    print(solution.coinChange([3],2))\n",
    "    print(solution.coinChange([1,2,3],11))\n",
    "    print(solution.coinChange([1],0))\n",
    "    "
   ]
  }
 ],
 "metadata": {
  "kernelspec": {
   "display_name": "Python 3.8.13 ('py38')",
   "language": "python",
   "name": "python3"
  },
  "language_info": {
   "codemirror_mode": {
    "name": "ipython",
    "version": 3
   },
   "file_extension": ".py",
   "mimetype": "text/x-python",
   "name": "python",
   "nbconvert_exporter": "python",
   "pygments_lexer": "ipython3",
   "version": "3.8.13"
  },
  "orig_nbformat": 4,
  "vscode": {
   "interpreter": {
    "hash": "76c3c49e318b7c885b43daef0aa3cfe4eb22ade01aff18419595a86661fada18"
   }
  }
 },
 "nbformat": 4,
 "nbformat_minor": 2
}
