{
 "cells": [
  {
   "cell_type": "markdown",
   "metadata": {},
   "source": [
    "# 912. 排序数组\n",
    "English Version\n",
    "\n",
    "## 题目描述\n",
    "给你一个整数数组 nums，请你将该数组升序排列。\n",
    "\n",
    " \n",
    "\n",
    "### 示例 1：\n",
    "\n",
    "输入：nums = [5,2,3,1]\n",
    "输出：[1,2,3,5]\n",
    "示例 2：\n",
    "\n",
    "输入：nums = [5,1,1,2,0,0]\n",
    "输出：[0,0,1,1,2,5]\n",
    " \n",
    "\n",
    "### 提示：\n",
    "\n",
    "1 <= nums.length <= 5 * 104\n",
    "-5 * 104 <= nums[i] <= 5 * 104\n",
    "## 解法\n",
    "方法一：快速排序\n",
    "\n",
    "方法二：归并排序\n",
    "\n",
    "以上两种方法时间复杂度均为 O(nlogn)。"
   ]
  },
  {
   "cell_type": "markdown",
   "metadata": {},
   "source": [
    "[5,2,1,3]\n",
    " i     j\n",
    " \n",
    " 3 2 1 3\n",
    " i     j\n",
    " 3 2 1 3\n",
    "   i   j\n",
    " 3 2 1 3\n",
    "     i j\n",
    " 3 2 1 5\n",
    "\n",
    " 3 2 1\n",
    " i   j\n",
    " 1 2 1\n",
    "   i j\n",
    " 1 2 2\n",
    "   ij"
   ]
  },
  {
   "cell_type": "code",
   "execution_count": null,
   "metadata": {},
   "outputs": [],
   "source": [
    "### 快速排序 \n",
    "## 时间O(nlog)额外空间O(1)\n",
    "5 8 1 3\n",
    "i     J\n",
    "3 8 1 3\n",
    "  i   j\n",
    "3 8 1 8\n",
    "  i j\n",
    "3 1 5"
   ]
  },
  {
   "cell_type": "code",
   "execution_count": 16,
   "metadata": {},
   "outputs": [
    {
     "name": "stdout",
     "output_type": "stream",
     "text": [
      "[1, 3, 5, 8]\n",
      "[1, 1, 3, 3, 4, 5, 8]\n"
     ]
    }
   ],
   "source": [
    "#python中的引用和递归\n",
    "#归并排序\n",
    "from typing import List\n",
    "class Solution:\n",
    "    def sortArray(self, nums: List[int]) -> List[int]:\n",
    "        def merge_sort(nums:List[int],extra_nums:List[int],left:int,right:int):\n",
    "            if right<=left:\n",
    "                return\n",
    "            elif right>left:\n",
    "                mid=((left+right)>>1)\n",
    "                merge_sort(nums,extra_nums,left,mid)\n",
    "                merge_sort(nums,extra_nums,mid+1,right)\n",
    "                index,i,j=left,left,mid+1\n",
    "                while i!=mid+1 and j!=right+1:\n",
    "                    if nums[i]<nums[j]:\n",
    "                        extra_nums[index]=nums[i]\n",
    "                        i+=1\n",
    "                        index+=1\n",
    "                    elif nums[i]>=nums[j]:\n",
    "                        extra_nums[index]=nums[j]\n",
    "                        j+=1\n",
    "                        index+=1\n",
    "                while i!= mid+1:\n",
    "                    extra_nums[index]=nums[i]\n",
    "                    i+=1\n",
    "                    index+=1\n",
    "                # while  j!=right+1:#如果使用这个循环下面那个whilei!=j要改成i!=right+1\n",
    "                #     extra_nums[index]=nums[j]\n",
    "                #     j+=1\n",
    "                #     index+=1\n",
    "                i=left  \n",
    "                while i!=j:#小技巧，如果不要第二个循环的话\n",
    "                    nums[i]=extra_nums[i]    \n",
    "                    i+=1  \n",
    "        merge_sort(nums,[10086]*len(nums),0,len(nums)-1)\n",
    "        return nums\n",
    "        # quick_sort(nums,0,len(nums)-1)#两种写法都行\n",
    "            \n",
    "if __name__==\"__main__\":\n",
    "    solution=Solution()\n",
    "    print(solution.sortArray([5,8,1,3]))\n",
    "    print(solution.sortArray([5,8,1,3,1,4,3]))"
   ]
  },
  {
   "cell_type": "code",
   "execution_count": 1,
   "metadata": {},
   "outputs": [
    {
     "name": "stdout",
     "output_type": "stream",
     "text": [
      "[1]\n"
     ]
    }
   ],
   "source": [
    "#测试python中的“传引用”\n",
    "from typing import List\n",
    "class Solution:\n",
    "    def sortArray(self, nums: List[int]) -> List[int]:\n",
    "        def quick_sort(nums:List[int]):\n",
    "            nums[0]=1\n",
    "        quick_sort(nums)\n",
    "        return nums\n",
    "if __name__==\"__main__\":\n",
    "    solution=Solution()\n",
    "    print(solution.sortArray([0]))\n",
    "    \n",
    "    "
   ]
  },
  {
   "cell_type": "markdown",
   "metadata": {},
   "source": []
  }
 ],
 "metadata": {
  "kernelspec": {
   "display_name": "Python 3.9.12 ('base')",
   "language": "python",
   "name": "python3"
  },
  "language_info": {
   "codemirror_mode": {
    "name": "ipython",
    "version": 3
   },
   "file_extension": ".py",
   "mimetype": "text/x-python",
   "name": "python",
   "nbconvert_exporter": "python",
   "pygments_lexer": "ipython3",
   "version": "3.9.12"
  },
  "orig_nbformat": 4,
  "vscode": {
   "interpreter": {
    "hash": "7b93ae2ddedcfb4b7ddebf80c8c7984044339b2e43f10e14b9461f3e640893f2"
   }
  }
 },
 "nbformat": 4,
 "nbformat_minor": 2
}
