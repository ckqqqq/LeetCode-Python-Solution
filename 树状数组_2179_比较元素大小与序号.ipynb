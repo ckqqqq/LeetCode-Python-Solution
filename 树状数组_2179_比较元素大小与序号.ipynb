{
 "cells": [
  {
   "cell_type": "markdown",
   "metadata": {},
   "source": [
    "# [2179. 统计数组中好三元组数目](https://leetcode.cn/problems/count-good-triplets-in-an-array)\n",
    "\n",
    "[English Version](/solution/2100-2199/2179.Count%20Good%20Triplets%20in%20an%20Array/README_EN.md)\n",
    "\n",
    "## 题目描述\n",
    "\n",
    "<!-- 这里写题目描述 -->\n",
    "\n",
    "<p>给你两个下标从 <strong>0</strong>&nbsp;开始且长度为 <code>n</code>&nbsp;的整数数组&nbsp;<code>nums1</code>&nbsp;和&nbsp;<code>nums2</code>&nbsp;，两者都是&nbsp;<code>[0, 1, ..., n - 1]</code>&nbsp;的&nbsp;<strong>排列</strong>&nbsp;。</p>\n",
    "\n",
    "<p><strong>好三元组&nbsp;</strong>指的是&nbsp;<code>3</code>&nbsp;个&nbsp;<strong>互不相同</strong>&nbsp;的值，且它们在数组&nbsp;<code>nums1</code> 和&nbsp;<code>nums2</code>&nbsp;中出现顺序保持一致。换句话说，如果我们将&nbsp;<code>pos1<sub>v</sub></code> 记为值&nbsp;<code>v</code>&nbsp;在&nbsp;<code>nums1</code>&nbsp;中出现的位置，<code>pos2<sub>v</sub></code>&nbsp;为值&nbsp;<code>v</code>&nbsp;在&nbsp;<code>nums2</code>&nbsp;中的位置，那么一个好三元组定义为&nbsp;<code>0 &lt;= x, y, z &lt;= n - 1</code>&nbsp;，且&nbsp;<code>pos1<sub>x</sub> &lt; pos1<sub>y</sub> &lt; pos1<sub>z</sub></code> 和&nbsp;<code>pos2<sub>x</sub> &lt; pos2<sub>y</sub> &lt; pos2<sub>z</sub></code>&nbsp;都成立的&nbsp;<code>(x, y, z)</code>&nbsp;。</p>\n",
    "#### 审题注意从零开始而且长度为N\n",
    "<p>请你返回好三元组的 <strong>总数目</strong>&nbsp;。</p>\n",
    "\n",
    "<p>&nbsp;</p>\n",
    "0 1 2 3\n",
    "1 10 11 100  \n",
    "     1\n",
    "1    1\n",
    "   1 1\t\n",
    "        1\n",
    "<p><strong>示例 1：</strong></p>\n",
    "\n",
    "<pre><b>输入：</b>nums1 = [2,0,1,3], nums2 = [0,1,2,3]\n",
    "<b>输出：</b>1\n",
    "<b>解释：</b>\n",
    "总共有 4 个三元组 (x,y,z) 满足 pos1<sub>x</sub> &lt; pos1<sub>y</sub> &lt; pos1<sub>z&nbsp;</sub>，分别是 (2,0,1) ，(2,0,3) ，(2,1,3) 和 (0,1,3) 。\n",
    "这些三元组中，只有 (0,1,3) 满足 pos2<sub>x</sub> &lt; pos2<sub>y</sub> &lt; pos2<sub>z</sub>&nbsp;。所以只有 1 个好三元组。\n",
    "</pre>\n",
    "\n",
    "<p><strong>示例 2：</strong></p>\n",
    "\n",
    "<pre><b>输入：</b>nums1 = [4,0,1,3,2], nums2 = [4,1,0,2,3]\n",
    "<b>输出：</b>4\n",
    "<b>解释：</b>总共有 4 个好三元组 (4,0,3) ，(4,0,2) ，(4,1,3) 和 (4,1,2) 。\n",
    "</pre>\n",
    "\n",
    "<p>&nbsp;</p>\n",
    "\n",
    "<p><strong>提示：</strong></p>\n",
    "\n",
    "<ul>\n",
    "\t<li><code>n == nums1.length == nums2.length</code></li>\n",
    "\t<li><code>3 &lt;= n &lt;= 10<sup>5</sup></code></li>\n",
    "\t<li><code>0 &lt;= nums1[i], nums2[i] &lt;= n - 1</code></li>\n",
    "\t<li><code>nums1</code>&nbsp;和&nbsp;<code>nums2</code>&nbsp;是&nbsp;<code>[0, 1, ..., n - 1]</code> 的排列。</li>\n",
    "</ul>\n",
    "\n",
    "## 解法\n",
    "\n",
    "<!-- 这里可写通用的实现逻辑 -->\n",
    "\n",
    "对于本题，我们先用 pos 记录每个数在 nums2 中的位置，然后依次对 nums1 中的每个元素进行处理。\n",
    "\n",
    "考虑**以当前数字作为三元组中间数字**的好三元组的数目。第一个数字需要是之前已经遍历过的，并且在 nums2 中的位置比当前数字更靠前的；第三个数字需要是当前还没有遍历过的，并且在 nums2 中的位置比当前数字更靠后的。\n",
    "\n",
    "以 `nums1 = [4,0,1,3,2], nums2 = [4,1,0,2,3]`为例，考虑我们的遍历过程：\n",
    "\n",
    "1. 首先处理 4，此时 nums2 中出现情况为 `[4,X,X,X,X]`，4 之前有值的个数是 0，4 之后没有值的个数有 4 个。因此以 4 为中间数字能形成 0 个好三元组。\n",
    "1. 接下来是 0，此时 nums2 中出现情况为 `[4,X,0,X,X]`，0 之前有值的个数是 1，0 之后没有值的个数有 2 个。因此以 0 为中间数字能形成 2 个好三元组。\n",
    "1. 接下来是 1，此时 nums2 中出现情况为 `[4,1,0,X,X]`，1 之前有值的个数是 1，0 之后没有值的个数有 2 个。因此以 1 为中间数字能形成 2 个好三元组。\n",
    "1. ...\n",
    "1. 最后是 2，此时 nums2 中出现情况为 `[4,1,0,2,3]`，2 之前有值的个数是 4，2 之后没有值的个数是 0。因此以 2 为中间数字能形成 0 个好三元组。\n",
    "\n",
    "我们可以用**树状数组**或**线段树**这两种数据结构来更新 nums2 中各个位置数字的出现情况，快速算出每个数字左侧 1 的个数，以及右侧 0 的个数。\n",
    "\n",
    "**数据结构 1：树状数组**\n",
    "\n",
    "树状数组，也称作“二叉索引树”（Binary Indexed Tree）或 Fenwick 树。 它可以高效地实现如下两个操作：\n",
    "\n",
    "1. **单点更新** `update(x, delta)`： 把序列 x 位置的数加上一个值 delta；\n",
    "1. **前缀和查询** `query(x)`：查询序列 `[1,...x]` 区间的区间和，即位置 x 的前缀和。\n",
    "\n",
    "这两个操作的时间复杂度均为 `O(log n)`。\n",
    "\n",
    "**数据结构 2：线段树**\n",
    "\n",
    "线段树将整个区间分割为多个不连续的子区间，子区间的数量不超过 `log(width)`。更新某个元素的值，只需要更新 `log(width)` 个区间，并且这些区间都包含在一个包含该元素的大区间内。\n",
    "\n",
    "-   线段树的每个节点代表一个区间；\n",
    "-   线段树具有唯一的根节点，代表的区间是整个统计范围，如 `[1, N]`；\n",
    "-   线段树的每个叶子节点代表一个长度为 1 的元区间 `[x, x]`；\n",
    "-   对于每个内部节点 `[l, r]`，它的左儿子是 `[l, mid]`，右儿子是 `[mid + 1, r]`, 其中 `mid = ⌊(l + r) / 2⌋` (即向下取整)。\n",
    "\n",
    "> 本题 Python3 线段树代码 TLE。\n",
    "\n",
    "<!-- tabs:start -->\n",
    "\n",
    "### **Python3**\n",
    "\n",
    "<!-- 这里可写当前语言的特殊实现逻辑 -->\n",
    "\n"
   ]
  },
  {
   "cell_type": "code",
   "execution_count": 1,
   "metadata": {},
   "outputs": [
    {
     "name": "stdout",
     "output_type": "stream",
     "text": [
      "我本是显赫世家的奥特曼，却被诡计多端的怪兽所害！奥特曼家族弃我重生一世，今天肯德基疯狂星期四！谁请我吃？\n"
     ]
    }
   ],
   "source": [
    "print(\"\\u6211\\u672c\\u662f\\u663e\\u8d6b\\u4e16\\u5bb6\\u7684\\u5965\\u7279\\u66fc\\uff0c\\u5374\\u88ab\\u8be1\\u8ba1\\u591a\\u7aef\\u7684\\u602a\\u517d\\u6240\\u5bb3\\uff01\\u5965\\u7279\\u66fc\\u5bb6\\u65cf\\u5f03\\u6211\\u91cd\\u751f\\u4e00\\u4e16\\uff0c\\u4eca\\u5929\\u80af\\u5fb7\\u57fa\\u75af\\u72c2\\u661f\\u671f\\u56db\\uff01\\u8c01\\u8bf7\\u6211\\u5403\\uff1f\")"
   ]
  },
  {
   "cell_type": "code",
   "execution_count": 5,
   "metadata": {},
   "outputs": [
    {
     "name": "stdout",
     "output_type": "stream",
     "text": [
      "b'\\\\u6211\\\\u672c\\\\u662f\\\\u5e05\\\\u6c14\\\\u7684\\\\u602a\\\\u517d\\\\uff0c\\\\u5374\\\\u88ab\\\\u8be1\\\\u8ba1\\\\u591a\\\\u7aef\\\\u7684\\\\u5965\\\\u7279\\\\u66fc\\\\u5e26\\\\u4e86\\\\u7eff\\\\u5e3d\\\\uff01\\\\u602a\\\\u517d\\\\u5bb6\\\\u65cf\\\\u5f03\\\\u6211\\\\u91cd\\\\u751f\\\\u4e00\\\\u4e16\\\\uff0c\\\\u4eca\\\\u5929\\\\u80af\\\\u5fb7\\\\u57fa\\\\u75af\\\\u72c2\\\\u661f\\\\u671f\\\\u56db\\\\uff01\\\\u8c01\\\\u8bf7\\\\u6211\\\\u5403\\\\uff1f'\n"
     ]
    }
   ],
   "source": [
    "print(\"我本是帅气的怪兽，却被诡计多端的奥特曼带了绿帽！怪兽家族弃我重生一世，今天肯德基疯狂星期四！谁请我吃？\".encode(\"unicode_escape\"))"
   ]
  },
  {
   "cell_type": "code",
   "execution_count": 9,
   "metadata": {},
   "outputs": [
    {
     "name": "stdout",
     "output_type": "stream",
     "text": [
      "我不戴绿帽\n",
      "我是铠甲勇士\n"
     ]
    }
   ],
   "source": [
    "print(\"\\u6211\\u4e0d\\u6234\\u7eff\\u5e3d\")\n",
    "print(\"\\u6211\\u662f\\u94e0\\u7532\\u52c7\\u58eb\")\n"
   ]
  },
  {
   "cell_type": "code",
   "execution_count": 8,
   "metadata": {},
   "outputs": [
    {
     "name": "stdout",
     "output_type": "stream",
     "text": [
      "b'\\\\u4f60\\\\u662f\\\\u4e0d\\\\u662f\\\\u5965\\\\u7279\\\\u66fc'\n"
     ]
    }
   ],
   "source": [
    "print(\"你是不是奥特曼\".encode(\"unicode_escape\"))"
   ]
  },
  {
   "cell_type": "code",
   "execution_count": 12,
   "metadata": {},
   "outputs": [
    {
     "name": "stdout",
     "output_type": "stream",
     "text": [
      "{0: 1, 1: 2, 2: 3, 3: 4} 1\n",
      "[3, 1, 2, 4]\n",
      "1\n",
      "{4: 1, 1: 2, 0: 3, 2: 4, 3: 5} 3\n",
      "[1, 3, 2, 5, 4]\n",
      "4\n"
     ]
    }
   ],
   "source": [
    "from typing import List\n",
    "class BinaryIndexTree:\n",
    "    def __init__(self,nums:List[int]):\n",
    "        self.BIT=[0]*(len(nums)+1)\n",
    "        self.length=len(nums)+1\n",
    "    @staticmethod\n",
    "    def lowbit(index:int):\n",
    "        return index&-index\n",
    "    def update(self,index:int,val:int):\n",
    "        while index<self.length:\n",
    "            self.BIT[index]+=val\n",
    "            index+=BinaryIndexTree.lowbit(index)\n",
    "    def prefixSum(self,index:int)->int:\n",
    "        ans=0\n",
    "        while index>0:\n",
    "            ans+=self.BIT[index]\n",
    "            index-=BinaryIndexTree.lowbit(index)\n",
    "        return ans\n",
    "class Solution:\n",
    "    def goodTriplets(self, nums1: List[int], nums2: List[int]) -> int:\n",
    "        binaryIndexTree=BinaryIndexTree(nums1)\n",
    "        n=len(nums1)\n",
    "        #如果假设当前数为中间数,前面比他小的和后面比他大的,取最小值\n",
    "        num2pos={num:index for index,num in enumerate(nums2,1)}\n",
    "        print(num2pos,num2pos[0])\n",
    "        nums=[num2pos[num1] for num1 in nums1]\n",
    "        print(nums)\n",
    "        res=0\n",
    "        for num in nums:\n",
    "            before=binaryIndexTree.prefixSum(num-1)#之前有值的个数,在前面代表比当前这个数小(num2),同时已填入代表num1中在该数在前面\n",
    "            after=(n-num)-(binaryIndexTree.prefixSum(n)-binaryIndexTree.prefixSum(num))# 后面没有值的个数,后面代表比当前序号大(num2序号),如果后面没有值代表后面的数排序在其后面(num1序号)\n",
    "            ans=before*after\n",
    "            res+=ans\n",
    "            binaryIndexTree.update(num,1)\n",
    "        #本次线段树的意义即在于比较一个数的\n",
    "        return res\n",
    "        \n",
    "if __name__==\"__main__\":\n",
    "    solution=Solution()\n",
    "    print(solution.goodTriplets([2,0,1,3],[0,1,2,3]))\n",
    "    print(solution.goodTriplets([4,0,1,3,2],[4,1,0,2,3]))#就转化为了一个数组[1, 3, 2, 5, 4]\n",
    "    \n",
    "    \n",
    "    "
   ]
  },
  {
   "cell_type": "markdown",
   "metadata": {},
   "source": [
    "  X X X X X\n",
    "0 1 X X X X 0 \n",
    "0 1 x 1 X X 2 \n",
    "  1 1 1 X X 2\n",
    "  1 1 1 x 1 0\n",
    "  1 1 1 1 1 0\n",
    "  1 2 3 4\n",
    "\n"
   ]
  },
  {
   "cell_type": "markdown",
   "metadata": {},
   "source": [
    "#### 总结\n",
    "####### 树状数组的作用\n",
    "1 同时比较比该数小的数和比该数大的数和比该数序号小的数和比该数序号大的数\n",
    "####### 两个数组比较次序\n",
    "比如num1中的数在num2中的次序为 [1, 3, 2, 5, 4]\n",
    "[4,0,1,3,2],[4,1,0,2,3]\n",
    "[1, 3, 2, 5, 4]\n",
    "同时此数组也反应了原来的数在num1中的次序"
   ]
  },
  {
   "cell_type": "markdown",
   "metadata": {},
   "source": [
    "树状数组：\n",
    "\n",
    "```python\n",
    "class BinaryIndexedTree:\n",
    "    def __init__(self, n):\n",
    "        self.n = n\n",
    "        self.c = [0] * (n + 1)\n",
    "\n",
    "    @staticmethod\n",
    "    def lowbit(x):\n",
    "        return x & -x\n",
    "\n",
    "    def update(self, x, delta):\n",
    "        while x <= self.n:\n",
    "            self.c[x] += delta\n",
    "            x += BinaryIndexedTree.lowbit(x)\n",
    "\n",
    "    def query(self, x):\n",
    "        s = 0\n",
    "        while x > 0:\n",
    "            s += self.c[x]\n",
    "            x -= BinaryIndexedTree.lowbit(x)\n",
    "        return s\n",
    "\n",
    "\n",
    "class Solution:\n",
    "    def goodTriplets(self, nums1: List[int], nums2: List[int]) -> int:\n",
    "        pos = {v: i for i, v in enumerate(nums2, 1)}\n",
    "        ans = 0\n",
    "        n = len(nums1)\n",
    "        tree = BinaryIndexedTree(n)\n",
    "        for num in nums1:\n",
    "            p = pos[num]\n",
    "            left = tree.query(p)\n",
    "            right = n - p - (tree.query(n) - tree.query(p))\n",
    "            ans += left * right\n",
    "            tree.update(p, 1)\n",
    "        return ans\n",
    "```"
   ]
  }
 ],
 "metadata": {
  "kernelspec": {
   "display_name": "Python 3.8.13 ('py38')",
   "language": "python",
   "name": "python3"
  },
  "language_info": {
   "codemirror_mode": {
    "name": "ipython",
    "version": 3
   },
   "file_extension": ".py",
   "mimetype": "text/x-python",
   "name": "python",
   "nbconvert_exporter": "python",
   "pygments_lexer": "ipython3",
   "version": "3.8.13"
  },
  "orig_nbformat": 4,
  "vscode": {
   "interpreter": {
    "hash": "76c3c49e318b7c885b43daef0aa3cfe4eb22ade01aff18419595a86661fada18"
   }
  }
 },
 "nbformat": 4,
 "nbformat_minor": 2
}
