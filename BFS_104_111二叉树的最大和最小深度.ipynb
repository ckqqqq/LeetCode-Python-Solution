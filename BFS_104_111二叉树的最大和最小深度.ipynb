{
 "cells": [
  {
   "cell_type": "code",
   "execution_count": 1,
   "metadata": {},
   "outputs": [],
   "source": [
    "from typing import List\n",
    "from typing import Optional\n",
    "from queue import Queue\n",
    "class TreeNode:\n",
    "    def __init__(self, val=0, left=None, right=None):\n",
    "        self.val = val\n",
    "        self.left = left\n",
    "        self.right = right\n",
    "class Solution:\n",
    "    def minDepth(self, root: Optional[TreeNode]) -> int:\n",
    "        if root==None:\n",
    "            return 0\n",
    "        que=Queue()\n",
    "        dep=Queue()\n",
    "        que.put(root)\n",
    "        dep.put(1)\n",
    "        ans=0\n",
    "        while que.empty()==False:\n",
    "            curNode=que.get()\n",
    "            curDepth=dep.get()\n",
    "            if None==curNode.left and None==curNode.right:\n",
    "                 ans=curDepth+1\n",
    "                 break\n",
    "            if curNode.right:\n",
    "                que.put(root.right)\n",
    "                dep.put(curDepth+1)\n",
    "            if curNode.left:\n",
    "                que.put(root.left)\n",
    "                dep.put(curDepth+1)\n",
    "            \n",
    "        return ans\n",
    "                \n",
    "        "
   ]
  },
  {
   "cell_type": "code",
   "execution_count": null,
   "metadata": {},
   "outputs": [],
   "source": [
    "from typing import List\n",
    "from typing import Optional\n",
    "from queue import Queue\n",
    "class TreeNode:\n",
    "    def __init__(self, val=0, left=None, right=None):\n",
    "        self.val = val\n",
    "        self.left = left\n",
    "        self.right = right\n",
    "class Solution:\n",
    "    def maxDepth_func(self, root: Optional[TreeNode]) -> int:\n",
    "        if root==None:\n",
    "            return 0\n",
    "        maxDepth=1\n",
    "        def dfs(node:TreeNode,depth:int):\n",
    "            if node==None:\n",
    "                return \n",
    "            dfs(node.left,depth+1)\n",
    "            dfs(node.right,depth+1)\n",
    "            maxDepth=max(depth,maxDepth)\n",
    "        dfs(root,1)\n",
    "        return maxDepth\n",
    "        "
   ]
  }
 ],
 "metadata": {
  "kernelspec": {
   "display_name": "Python 3.8.13 ('py38')",
   "language": "python",
   "name": "python3"
  },
  "language_info": {
   "codemirror_mode": {
    "name": "ipython",
    "version": 3
   },
   "file_extension": ".py",
   "mimetype": "text/x-python",
   "name": "python",
   "nbconvert_exporter": "python",
   "pygments_lexer": "ipython3",
   "version": "3.8.13"
  },
  "orig_nbformat": 4,
  "vscode": {
   "interpreter": {
    "hash": "76c3c49e318b7c885b43daef0aa3cfe4eb22ade01aff18419595a86661fada18"
   }
  }
 },
 "nbformat": 4,
 "nbformat_minor": 2
}
