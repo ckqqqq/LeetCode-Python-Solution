{
 "cells": [
  {
   "cell_type": "code",
   "execution_count": null,
   "metadata": {},
   "outputs": [],
   "source": [
    "ChatGPT太牛逼了，你可以让他把前面的代码打出来"
   ]
  },
  {
   "attachments": {},
   "cell_type": "markdown",
   "metadata": {},
   "source": [
    "queue.PriorityQueue 和 heapq 模块都实现了优先队列(priority queue)的功能，但是它们有一些重要的区别。\n",
    "\n",
    "queue.PriorityQueue 是 Python 标准库中的一个线程安全的优先队列实现。它使用了类似于 C++ STL 中的 priority_queue 的实现，在多线程环境下可以很好的工作。\n",
    "\n",
    "heapq 模块是 Python 标准库中的一个堆队列(heap queue)实现。它是一个纯 Python 实现，不是线程安全的。它提供了一些函数来操作堆，如heappush,heappop，和heapify。可以用在任何场景\n",
    "\n",
    "如果你需要在多线程环境下使用优先队列，应该使用 queue.PriorityQueue。如果你只需要在单线程环境下使用优先队列，那么使用 heapq 模块将会更简单。"
   ]
  },
  {
   "cell_type": "code",
   "execution_count": 16,
   "metadata": {},
   "outputs": [
    {
     "name": "stdout",
     "output_type": "stream",
     "text": [
      "(1, 2)\n",
      "(2, 1)\n"
     ]
    }
   ],
   "source": [
    "import queue\n",
    "test_que=queue.PriorityQueue()\n",
    "test_que.put((2,1))#注意这个元祖，前面那个才是优先级\n",
    "test_que.put((1,2))# 注意这是个元祖\n",
    "while test_que.qsize()!=0:\n",
    "    wholething=test_que.get()\n",
    "    print(wholething)"
   ]
  },
  {
   "cell_type": "code",
   "execution_count": 7,
   "metadata": {},
   "outputs": [
    {
     "name": "stdout",
     "output_type": "stream",
     "text": [
      "(5, 'five')\n",
      "(10, 'ten')\n",
      "(20, 'twenty')\n",
      "True\n",
      "0\n"
     ]
    },
    {
     "ename": "TypeError",
     "evalue": "__init__() got an unexpected keyword argument 'cmp'",
     "output_type": "error",
     "traceback": [
      "\u001b[1;31m---------------------------------------------------------------------------\u001b[0m",
      "\u001b[1;31mTypeError\u001b[0m                                 Traceback (most recent call last)",
      "\u001b[1;32md:\\Code\\Python\\Leetcode\\0_python(重要)中优先队列的两种实现方式.ipynb Cell 3\u001b[0m in \u001b[0;36m<cell line: 24>\u001b[1;34m()\u001b[0m\n\u001b[0;32m     <a href='vscode-notebook-cell:/d%3A/Code/Python/Leetcode/0_python%28%E9%87%8D%E8%A6%81%29%E4%B8%AD%E4%BC%98%E5%85%88%E9%98%9F%E5%88%97%E7%9A%84%E4%B8%A4%E7%A7%8D%E5%AE%9E%E7%8E%B0%E6%96%B9%E5%BC%8F.ipynb#W3sZmlsZQ%3D%3D?line=21'>22</a>\u001b[0m     \u001b[39mreturn\u001b[39;00m y[\u001b[39m0\u001b[39m]\u001b[39m-\u001b[39mx[\u001b[39m0\u001b[39m]\n\u001b[0;32m     <a href='vscode-notebook-cell:/d%3A/Code/Python/Leetcode/0_python%28%E9%87%8D%E8%A6%81%29%E4%B8%AD%E4%BC%98%E5%85%88%E9%98%9F%E5%88%97%E7%9A%84%E4%B8%A4%E7%A7%8D%E5%AE%9E%E7%8E%B0%E6%96%B9%E5%BC%8F.ipynb#W3sZmlsZQ%3D%3D?line=22'>23</a>\u001b[0m \u001b[39m#另一种创建优先队列的方法\u001b[39;00m\n\u001b[1;32m---> <a href='vscode-notebook-cell:/d%3A/Code/Python/Leetcode/0_python%28%E9%87%8D%E8%A6%81%29%E4%B8%AD%E4%BC%98%E5%85%88%E9%98%9F%E5%88%97%E7%9A%84%E4%B8%A4%E7%A7%8D%E5%AE%9E%E7%8E%B0%E6%96%B9%E5%BC%8F.ipynb#W3sZmlsZQ%3D%3D?line=23'>24</a>\u001b[0m pq \u001b[39m=\u001b[39m queue\u001b[39m.\u001b[39;49mPriorityQueue(cmp\u001b[39m=\u001b[39;49mcmp)\n\u001b[0;32m     <a href='vscode-notebook-cell:/d%3A/Code/Python/Leetcode/0_python%28%E9%87%8D%E8%A6%81%29%E4%B8%AD%E4%BC%98%E5%85%88%E9%98%9F%E5%88%97%E7%9A%84%E4%B8%A4%E7%A7%8D%E5%AE%9E%E7%8E%B0%E6%96%B9%E5%BC%8F.ipynb#W3sZmlsZQ%3D%3D?line=24'>25</a>\u001b[0m pq\u001b[39m.\u001b[39mput((\u001b[39m5\u001b[39m, \u001b[39m'\u001b[39m\u001b[39mfive\u001b[39m\u001b[39m'\u001b[39m))\n\u001b[0;32m     <a href='vscode-notebook-cell:/d%3A/Code/Python/Leetcode/0_python%28%E9%87%8D%E8%A6%81%29%E4%B8%AD%E4%BC%98%E5%85%88%E9%98%9F%E5%88%97%E7%9A%84%E4%B8%A4%E7%A7%8D%E5%AE%9E%E7%8E%B0%E6%96%B9%E5%BC%8F.ipynb#W3sZmlsZQ%3D%3D?line=25'>26</a>\u001b[0m pq\u001b[39m.\u001b[39mput((\u001b[39m10\u001b[39m, \u001b[39m'\u001b[39m\u001b[39mten\u001b[39m\u001b[39m'\u001b[39m))\n",
      "\u001b[1;31mTypeError\u001b[0m: __init__() got an unexpected keyword argument 'cmp'"
     ]
    }
   ],
   "source": [
    "# 先看chatGPT生成的代码\n",
    "# 创建一个优先队列对象 \n",
    "import queue\n",
    "pq = queue.PriorityQueue()\n",
    "\n",
    "#往优先队列中加入元素\n",
    "pq.put((10, 'ten'))\n",
    "pq.put((5, 'five'))\n",
    "pq.put((20, 'twenty'))\n",
    "\n",
    "#从队列中取出元素\n",
    "print(pq.get())  #  (5, 'five')\n",
    "print(pq.get())  #  (10, 'ten')\n",
    "print(pq.get())  #  (20, 'twenty')\n",
    "pq.get\n",
    "#判断队列是否为空\n",
    "print(pq.empty())  # True\n",
    "\n",
    "#返回队列中元素的个数\n",
    "print(pq.qsize())  # 0\n",
    "# def cmp(x,y):\n",
    "#     return y[0]-x[0]\n",
    "# #另一种创建优先队列的方法\n",
    "pq = queue.PriorityQueue(cmp)\n",
    "pq.put((5, 'five'))# 注意这些都是元祖！！！\n",
    "pq.put((10, 'ten'))\n",
    "pq.put((20, 'twenty'))\n",
    "\n",
    "#使用 while 循环遍历队列\n",
    "while not pq.empty():\n",
    "    priority,val=pq.get()\n",
    "    print(\"优先级:{priority},元素{val}\")\n",
    "    \n",
    "    pq.task_done()\n",
    "pq.join()\n"
   ]
  },
  {
   "cell_type": "code",
   "execution_count": 15,
   "metadata": {},
   "outputs": [
    {
     "name": "stdout",
     "output_type": "stream",
     "text": [
      "New job: Mid-level job 5\n",
      "New job: Low-level job 10\n",
      "New job: Important job 1\n",
      "Processing job Low-level job 10\n",
      "Processing job Mid-level job 5\n",
      "Processing job Important job 1\n"
     ]
    }
   ],
   "source": [
    "from queue import PriorityQueue\n",
    "class Job(object):\n",
    "    def __init__(self, priority, description):\n",
    "        self.priority = priority\n",
    "        self.description = description\n",
    "        print('New job:', description,priority)\n",
    "        return\n",
    " \n",
    "    def __lt__(self, other):\n",
    "        return self.priority > other.priority\n",
    "q2 = PriorityQueue()\n",
    "q2.put(Job(5, 'Mid-level job'))\n",
    "q2.put(Job(10, 'Low-level job'))\n",
    "q2.put(Job(1, 'Important job')) #数字越小，优先级越高\n",
    "while not q2.empty():\n",
    "    next_job = q2.get() #可根据优先级取序列\n",
    "    print('Processing job', next_job.description,next_job.priority)\n"
   ]
  },
  {
   "cell_type": "code",
   "execution_count": 11,
   "metadata": {},
   "outputs": [
    {
     "name": "stdout",
     "output_type": "stream",
     "text": [
      "New job: Mid-level job\n",
      "New job: Low-level job\n"
     ]
    },
    {
     "ename": "TypeError",
     "evalue": "'<' not supported between instances of 'Job' and 'Job'",
     "output_type": "error",
     "traceback": [
      "\u001b[1;31m---------------------------------------------------------------------------\u001b[0m",
      "\u001b[1;31mTypeError\u001b[0m                                 Traceback (most recent call last)",
      "\u001b[1;32md:\\Code\\Python\\Leetcode\\0_python(重要)中优先队列的两种实现方式.ipynb Cell 5\u001b[0m in \u001b[0;36m<cell line: 18>\u001b[1;34m()\u001b[0m\n\u001b[0;32m     <a href='vscode-notebook-cell:/d%3A/Code/Python/Leetcode/0_python%28%E9%87%8D%E8%A6%81%29%E4%B8%AD%E4%BC%98%E5%85%88%E9%98%9F%E5%88%97%E7%9A%84%E4%B8%A4%E7%A7%8D%E5%AE%9E%E7%8E%B0%E6%96%B9%E5%BC%8F.ipynb#X12sZmlsZQ%3D%3D?line=14'>15</a>\u001b[0m q2 \u001b[39m=\u001b[39m PriorityQueue()\n\u001b[0;32m     <a href='vscode-notebook-cell:/d%3A/Code/Python/Leetcode/0_python%28%E9%87%8D%E8%A6%81%29%E4%B8%AD%E4%BC%98%E5%85%88%E9%98%9F%E5%88%97%E7%9A%84%E4%B8%A4%E7%A7%8D%E5%AE%9E%E7%8E%B0%E6%96%B9%E5%BC%8F.ipynb#X12sZmlsZQ%3D%3D?line=16'>17</a>\u001b[0m q2\u001b[39m.\u001b[39mput(Job(\u001b[39m5\u001b[39m, \u001b[39m'\u001b[39m\u001b[39mMid-level job\u001b[39m\u001b[39m'\u001b[39m))\n\u001b[1;32m---> <a href='vscode-notebook-cell:/d%3A/Code/Python/Leetcode/0_python%28%E9%87%8D%E8%A6%81%29%E4%B8%AD%E4%BC%98%E5%85%88%E9%98%9F%E5%88%97%E7%9A%84%E4%B8%A4%E7%A7%8D%E5%AE%9E%E7%8E%B0%E6%96%B9%E5%BC%8F.ipynb#X12sZmlsZQ%3D%3D?line=17'>18</a>\u001b[0m q2\u001b[39m.\u001b[39;49mput(Job(\u001b[39m10\u001b[39;49m, \u001b[39m'\u001b[39;49m\u001b[39mLow-level job\u001b[39;49m\u001b[39m'\u001b[39;49m))\n\u001b[0;32m     <a href='vscode-notebook-cell:/d%3A/Code/Python/Leetcode/0_python%28%E9%87%8D%E8%A6%81%29%E4%B8%AD%E4%BC%98%E5%85%88%E9%98%9F%E5%88%97%E7%9A%84%E4%B8%A4%E7%A7%8D%E5%AE%9E%E7%8E%B0%E6%96%B9%E5%BC%8F.ipynb#X12sZmlsZQ%3D%3D?line=18'>19</a>\u001b[0m q2\u001b[39m.\u001b[39mput(Job(\u001b[39m1\u001b[39m, \u001b[39m'\u001b[39m\u001b[39mImportant job\u001b[39m\u001b[39m'\u001b[39m)) \u001b[39m#数字越小，优先级越高\u001b[39;00m\n\u001b[0;32m     <a href='vscode-notebook-cell:/d%3A/Code/Python/Leetcode/0_python%28%E9%87%8D%E8%A6%81%29%E4%B8%AD%E4%BC%98%E5%85%88%E9%98%9F%E5%88%97%E7%9A%84%E4%B8%A4%E7%A7%8D%E5%AE%9E%E7%8E%B0%E6%96%B9%E5%BC%8F.ipynb#X12sZmlsZQ%3D%3D?line=20'>21</a>\u001b[0m \u001b[39mwhile\u001b[39;00m \u001b[39mnot\u001b[39;00m q2\u001b[39m.\u001b[39mempty():\n",
      "File \u001b[1;32md:\\TOOL\\Anaconda\\Anaconda_root\\lib\\queue.py:150\u001b[0m, in \u001b[0;36mQueue.put\u001b[1;34m(self, item, block, timeout)\u001b[0m\n\u001b[0;32m    148\u001b[0m                 \u001b[39mraise\u001b[39;00m Full\n\u001b[0;32m    149\u001b[0m             \u001b[39mself\u001b[39m\u001b[39m.\u001b[39mnot_full\u001b[39m.\u001b[39mwait(remaining)\n\u001b[1;32m--> 150\u001b[0m \u001b[39mself\u001b[39;49m\u001b[39m.\u001b[39;49m_put(item)\n\u001b[0;32m    151\u001b[0m \u001b[39mself\u001b[39m\u001b[39m.\u001b[39munfinished_tasks \u001b[39m+\u001b[39m\u001b[39m=\u001b[39m \u001b[39m1\u001b[39m\n\u001b[0;32m    152\u001b[0m \u001b[39mself\u001b[39m\u001b[39m.\u001b[39mnot_empty\u001b[39m.\u001b[39mnotify()\n",
      "File \u001b[1;32md:\\TOOL\\Anaconda\\Anaconda_root\\lib\\queue.py:236\u001b[0m, in \u001b[0;36mPriorityQueue._put\u001b[1;34m(self, item)\u001b[0m\n\u001b[0;32m    235\u001b[0m \u001b[39mdef\u001b[39;00m \u001b[39m_put\u001b[39m(\u001b[39mself\u001b[39m, item):\n\u001b[1;32m--> 236\u001b[0m     heappush(\u001b[39mself\u001b[39;49m\u001b[39m.\u001b[39;49mqueue, item)\n",
      "\u001b[1;31mTypeError\u001b[0m: '<' not supported between instances of 'Job' and 'Job'"
     ]
    }
   ],
   "source": [
    "from queue import PriorityQueue\n",
    "class Job(object):\n",
    "    def __init__(self, priority, description):\n",
    "        self.priority = priority\n",
    "        self.description = description\n",
    "        print('New job:', description)\n",
    "        return\n",
    "    def __cmp__(self, other):\n",
    "        在python中，重载__it__或者重载__gt__是更加推荐的做法！！！！\n",
    "q2 = PriorityQueue()\n",
    " \n",
    "q2.put(Job(5, 'Mid-level job'))\n",
    "q2.put(Job(10, 'Low-level job'))\n",
    "q2.put(Job(1, 'Important job')) #数字越小，优先级越高\n",
    " \n",
    "while not q2.empty():\n",
    "    next_job = q2.get() #可根据优先级取序列\n",
    "    print('Processing job', next_job.description)\n"
   ]
  },
  {
   "cell_type": "code",
   "execution_count": null,
   "metadata": {},
   "outputs": [],
   "source": []
  },
  {
   "attachments": {},
   "cell_type": "markdown",
   "metadata": {},
   "source": [
    "queue.PriorityQueue 是 Python 标准库中的一个线程安全的优先队列实现，可以使用它来实现一个多线程环境下的优先队列。\n",
    "\n",
    "首先，你需要导入 queue 模块，如下所示：\n",
    "```\n",
    "Copy code\n",
    "import queue\n",
    "```\n",
    "然后你可以使用 queue.PriorityQueue() 来创建一个优先队列对象。默认情况下，队列中的元素是按照 FIFO（先进先出）的顺序排列的，你可以传递一个可选的关键字参数 cmp 或 key 来更改排序顺序。\n",
    "```\n",
    "Copy code\n",
    "pq = queue.PriorityQueue()\n",
    "```\n",
    "然后，你可以使用 put() 方法来往优先队列中插入元素，它接收两个参数：需要插入队列的元素和元素的优先级。元素优先级越小，越先出队列。\n",
    "```\n",
    "Copy code\n",
    "pq.put((10, 'ten'))\n",
    "pq.put((5, 'five'))\n",
    "pq.put((20, 'twenty'))\n",
    "```\n",
    "如果你希望优先级越大的元素先出队列，就可以传递一个自定义的 cmp 函数，将其作为参数传给 PriorityQueue。\n",
    "```\n",
    "Copy code\n",
    "pq = queue.PriorityQueue(cmp=lambda x, y: y[0] - x[0])\n",
    "\n",
    "```\n",
    "**这里其实有问题，CHATGPT搞错了，看前面**\n",
    "\n",
    "然后你可以使用 get() 方法来从队列中取出元素。\n",
    "```\n",
    "Copy code\n",
    "print(pq.get())  #  (5, 'five')\n",
    "print(pq.get())  #  (10, 'ten')\n",
    "print(pq.get())  #  (20, 'twenty')\n",
    "```\n",
    "还有一些还有一些其他有用的方法，如 empty() 和 qsize()，可以用来判断队列是否为空和队列中元素的个数。\n",
    "```\n",
    "empty() 返回队列是否为空\n",
    "qsize() 返回队列中元素的个数\n",
    "Copy code\n",
    "print(pq.empty())  # True\n",
    "print(pq.qsize())  # 0\n",
    "```\n",
    "另外，队列对象也有一个 task_done() 方法可以用来标记一个任务已经完成。在调用 join() 方法之前，队列中的所有任务都必须已经标记为已完成。\n",
    "```\n",
    "Copy code\n",
    "pq.put((5, 'five'))\n",
    "pq.put((10, 'ten'))\n",
    "pq.put((20, 'twenty'))\n",
    "\n",
    "while not pq.empty():\n",
    "    print(pq.get())\n",
    "    pq.task_done()\n",
    "    \n",
    "pq.join()\n",
    "```\n",
    "需要注意的是，在队列中的元素要支持比较操作,也就是要能比较元素的大小，或者提供一个可调用的函数。"
   ]
  },
  {
   "attachments": {},
   "cell_type": "markdown",
   "metadata": {},
   "source": [
    "\n",
    "### 能否在不pop()的情况下获得最小值？\n",
    "\n",
    "queue.PriorityQueue 不能在不执行 get() 方法的情况下获取队列中的元素值。\n",
    "\n",
    "get() 方法是从队列中取出并返回优先级最高的元素。如果队列为空，则阻塞，直到队列中有元素可供取出。\n",
    "\n",
    "如果你需要在不改变队列中元素的顺序的情况下访问队列中的元素，可以考虑使用其它数据结构来存储队列中的元素，如列表，并在此基础上手动维护优先级。\n",
    "\n",
    "比如队列中已有一些元素,你可以将队列转换为列表，然后使用列表的索引访问元素，这样会在不pop元素的情况下获取队列中的元素值。\n",
    "```\n",
    "Copy code\n",
    "pq = queue.PriorityQueue()\n",
    "pq.put((5, 'five'))\n",
    "pq.put((10, 'ten'))\n",
    "pq.put((20, 'twenty'))\n",
    "\n",
    "pq_list = list(pq.queue)\n",
    "print(pq_list[1]) # (10, 'ten')\n",
    "```\n",
    "需要注意的是使用queue.queue.queue这个私有的属性获取的列表并不能保证顺序，如果需要保证顺序，应该自己维护一个列表."
   ]
  }
 ],
 "metadata": {
  "kernelspec": {
   "display_name": "base",
   "language": "python",
   "name": "python3"
  },
  "language_info": {
   "codemirror_mode": {
    "name": "ipython",
    "version": 3
   },
   "file_extension": ".py",
   "mimetype": "text/x-python",
   "name": "python",
   "nbconvert_exporter": "python",
   "pygments_lexer": "ipython3",
   "version": "3.9.12 (main, Apr  4 2022, 05:22:27) [MSC v.1916 64 bit (AMD64)]"
  },
  "orig_nbformat": 4,
  "vscode": {
   "interpreter": {
    "hash": "7b93ae2ddedcfb4b7ddebf80c8c7984044339b2e43f10e14b9461f3e640893f2"
   }
  }
 },
 "nbformat": 4,
 "nbformat_minor": 2
}
