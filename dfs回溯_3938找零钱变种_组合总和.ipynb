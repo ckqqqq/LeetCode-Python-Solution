{
 "cells": [
  {
   "cell_type": "code",
   "execution_count": null,
   "metadata": {},
   "outputs": [],
   "source": [
    "# 这道题搞啦半天 主要原因是\n",
    "1 回溯框架不熟\n",
    "2 "
   ]
  },
  {
   "cell_type": "code",
   "execution_count": null,
   "metadata": {},
   "outputs": [],
   "source": [
    "# 带路径的回溯框架\n",
    "class Solution():\n",
    "    def backtrace(self,candidates,target,start):\n",
    "        if 满足结束条件:\n",
    "            result.add(path)\n",
    "            return \n",
    "        #\n",
    "        for 选择 in range(start,len):# 如果从start开始 考虑重复选择 \n",
    "                if i>start or nums[i]==num[i-1]:# 防止同层重复的技巧 这一步很关键 一定要是大于start而不是大于\n",
    "                    continue \n",
    "            路径.add(选择)\n",
    "            将给选择从选择列表去除\n",
    "            backtrack(index+1,result+路径) #递归调用#如果允许重复 就index+1 否则index \n",
    "            # 撤销选择\n",
    "            路径.remove(选择)\n",
    "            将给选择加入选择列表           "
   ]
  },
  {
   "cell_type": "code",
   "execution_count": null,
   "metadata": {},
   "outputs": [],
   "source": [
    "for index in range(start,len(candidates)):\n",
    "    if index>start and candidates[index]==candidates[index-1]: # 这一步很关键 一定要是大于start\n",
    "        # 如果是index>start那么就是同层不重复\n",
    "        continue\n",
    "    # print(index)\n",
    "    dfs(index+1,remain-candidates[index],path+[candidates[index]])\n",
    "    # 记得在这里+1而不是start 否则 start==0会有问题"
   ]
  },
  {
   "cell_type": "code",
   "execution_count": null,
   "metadata": {},
   "outputs": [],
   "source": [
    "for index in range(start,len(candidates)):\n",
    "    if index>0 and candidates[index]==candidates[index-1]: # 这一步很关键 一定要是大于start\n",
    "        #如果是index>0那么就是同值不重复\n",
    "        continue\n",
    "    # print(index)\n",
    "    dfs(index+1,remain-candidates[index],path+[candidates[index]])\n",
    "    # 记得在这里+1而不是start 否则 start==0会有问题"
   ]
  },
  {
   "attachments": {},
   "cell_type": "markdown",
   "metadata": {},
   "source": [
    "![Screenshot 2023-01-23 154240.png](image\\回溯避免同层重复.png)"
   ]
  },
  {
   "cell_type": "code",
   "execution_count": 3,
   "metadata": {},
   "outputs": [
    {
     "name": "stdout",
     "output_type": "stream",
     "text": [
      "[[1, 1, 1, 1, 1, 1, 1], [1, 1, 1, 1, 1, 2], [1, 1, 1, 1, 3], [1, 1, 1, 2, 2], [1, 1, 2, 3], [1, 1, 5], [1, 2, 2, 2], [1, 3, 3], [2, 2, 3], [2, 5]]\n"
     ]
    }
   ],
   "source": [
    "# for in range(start,XX) \n",
    "# 考虑多次重复使用同一种零钱的情况 重复回溯\n",
    "class Solution():\n",
    "    # DFS\n",
    "    def combination(self,candidates,target):\n",
    "        def dfs(start,remain,path):\n",
    "            if remain<=0:\n",
    "                if remain==0:\n",
    "                    result.append(path)\n",
    "                return \n",
    "            for index in range(start,len(candidates)):\n",
    "                dfs(index,remain-candidates[index],path+[candidates[index]])\n",
    "        result=[]\n",
    "        dfs(0,target,[])\n",
    "        return result\n",
    "solution=Solution()\n",
    "print(solution.combination([1,2,3,5],7))"
   ]
  },
  {
   "cell_type": "code",
   "execution_count": 4,
   "metadata": {},
   "outputs": [
    {
     "name": "stdout",
     "output_type": "stream",
     "text": [
      "3\n",
      "3\n",
      "1\n",
      "3\n",
      "[[1, 1, 5], [2, 5]]\n",
      "1\n",
      "[[1, 1, 6], [1, 2, 5], [1, 7], [2, 6]]\n"
     ]
    }
   ],
   "source": [
    "# 不考虑多次重复使用同一种零钱的情况 去除同层重复回溯\n",
    "# 允许 3,3 在结果中多次出现 但是不许不同位置的3在同一位置出现\n",
    "# for in range(start,XX) \n",
    "# 考虑多次重复使用同一种零钱的情况 重复回溯\n",
    "class Solution():\n",
    "    # DFS\n",
    "    def combination(self,candidates,target):\n",
    "        candidates.sort()# 这一步很关键\n",
    "        def dfs(start,remain,path):\n",
    "            if remain<=0:\n",
    "                if remain==0:\n",
    "                    result.append(path)\n",
    "                return \n",
    "            for index in range(start,len(candidates)):\n",
    "                if index>start and candidates[index]==candidates[index-1]: # 这一步很关键 一定要是大于start\n",
    "                    print(index)\n",
    "                    continue\n",
    "                # print(index)\n",
    "                dfs(index+1,remain-candidates[index],path+[candidates[index]])\n",
    "                # 记得在这里+1而不是start 否则 start==0会有问题\n",
    "        result=[]\n",
    "        dfs(0,target,[])\n",
    "        return result\n",
    "solution=Solution()\n",
    "print(solution.combination([1,2,5,2,1],7))\n",
    "print(solution.combination([10,1,2,7,6,1,5],8))"
   ]
  },
  {
   "cell_type": "code",
   "execution_count": 2,
   "metadata": {},
   "outputs": [],
   "source": [
    "from typing import List\n",
    "class Solution:\n",
    "    def combinationSum(self, candidates: List[int], target: int) -> List[List[int]]:\n",
    "        dp = [[] for _ in range(target+1)]\n",
    "        dp[0] = [[]]\n",
    "        for num in candidates:\n",
    "            for i in range(1, target+1):\n",
    "                if i-num >= 0:\n",
    "                    for pre in dp[i-num]:\n",
    "                        dp[i].append(pre+[num])\n",
    "        return dp[-1]"
   ]
  },
  {
   "attachments": {},
   "cell_type": "markdown",
   "metadata": {},
   "source": [
    "\n",
    "Input: candidates = [10,1,2,7,6,1,5], target = 8\n",
    "[1,1,2,5,6,7]\n",
    "Output: \n",
    "[\n",
    "[1,1,6],\n",
    "[1,2,5],\n",
    "[1,7],\n",
    "[2,6]\n",
    "]\n",
    "Example 2:\n",
    "\n",
    "Input: candidates = [2,5,2,1,2], target = 5\n",
    "Output: \n",
    "[\n",
    "[1,2,2],\n",
    "[5]\n",
    "]"
   ]
  },
  {
   "cell_type": "code",
   "execution_count": 4,
   "metadata": {},
   "outputs": [
    {
     "name": "stdout",
     "output_type": "stream",
     "text": [
      "[[2, 6], [1, 2, 5]]\n"
     ]
    }
   ],
   "source": [
    "class Solution():\n",
    "    # DFS\n",
    "    def combination(self,candidates,target):\n",
    "        result=[]\n",
    "        nums=[]\n",
    "        for i in candidates:\n",
    "            if i <=target:\n",
    "                nums.append(i)\n",
    "        nums=list(set(nums))\n",
    "        # print(nums)\n",
    "        def backTrace(index,remain,path):\n",
    "            # print(start,path)\n",
    "            if index==len(nums):\n",
    "                return\n",
    "            if remain<=0:\n",
    "                if remain==0:\n",
    "                    result.append(path.copy())\n",
    "                return\n",
    "            for index in range(start,len(nums)):\n",
    "                path.append(nums[index])\n",
    "                backTrace(index+1,remain-nums[index],path)\n",
    "                path.pop()\n",
    "        backTrace(0,target,[])\n",
    "        return result\n",
    "solution=Solution()\n",
    "print(solution.combination([10,1,2,7,6,1,5],8))"
   ]
  },
  {
   "cell_type": "code",
   "execution_count": 2,
   "metadata": {},
   "outputs": [
    {
     "name": "stdout",
     "output_type": "stream",
     "text": [
      "[[2, 5]]\n"
     ]
    }
   ],
   "source": [
    "class Solution():\n",
    "    # DFS\n",
    "    def combination(self,candidates,target):\n",
    "        result=[]\n",
    "        def backTrace(start,remain,path):\n",
    "            if remain<=0:\n",
    "                if remain==0:\n",
    "                    result.append(path.copy())\n",
    "                return\n",
    "            for index in range(start,len(candidates)):#错误的\n",
    "                path.append(candidates[index])\n",
    "                backTrace(index,remain-candidates[index],path)\n",
    "                path.pop()\n",
    "        backTrace(0,target,[])\n",
    "        return result\n",
    "solution=Solution()\n",
    "print(solution.combination([1,2,3,5],7))"
   ]
  },
  {
   "cell_type": "code",
   "execution_count": 4,
   "metadata": {},
   "outputs": [
    {
     "name": "stdout",
     "output_type": "stream",
     "text": [
      "[1, 1, 2]\n",
      "[[], 1, 1, 2]\n"
     ]
    }
   ],
   "source": [
    "print([]+[1]+[1,2])\n",
    "print([[]]+[1]+[1,2])"
   ]
  },
  {
   "cell_type": "code",
   "execution_count": 2,
   "metadata": {},
   "outputs": [
    {
     "name": "stdout",
     "output_type": "stream",
     "text": [
      "2 [[2]]\n",
      "1 []\n",
      "4 [[2, 2]]\n",
      "3 [[3]]\n",
      "6 [[2, 2, 2], [3, 3]]\n",
      "5 [[3, 2], [2, 3], [5]]\n",
      "8 [[2, 2, 2, 2], [3, 3, 2], [3, 2, 3], [2, 3, 3], [5, 3], [3, 5]]\n",
      "[[2, 2, 2, 2], [3, 3, 2], [3, 2, 3], [2, 3, 3], [5, 3], [3, 5]]\n"
     ]
    }
   ],
   "source": [
    "# 错误的答案\n",
    "\n",
    "from collections import defaultdict\n",
    "class Solution():\n",
    "    def combination(self,candidates,target):\n",
    "        # 筛掉比他大的\n",
    "        nums=[]# 空间换时间\n",
    "        for candi in candidates:\n",
    "            if candi<=target:\n",
    "                nums.append(candi)\n",
    "        memo=defaultdict(int)\n",
    "        final_result=[]\n",
    "        def dfs(remain):\n",
    "            if remain==0:\n",
    "                return 1,[[]]\n",
    "            if remain<0:\n",
    "                return 0,[]\n",
    "            if remain in memo:\n",
    "                return memo[remain]\n",
    "            ans,ans_lists=0,[]\n",
    "            for val in nums:\n",
    "                tmp_ans,tmp_lists=dfs(remain-val)\n",
    "                if tmp_ans!=0:\n",
    "                    ans+=tmp_ans\n",
    "                    for tmp_list in tmp_lists:\n",
    "                        tmp_list=tmp_list.copy()\n",
    "                        tmp_list.append(val)\n",
    "                        ans_lists.append(tmp_list)\n",
    "            memo[remain]=ans,ans_lists\n",
    "            print(remain,ans_lists)\n",
    "            return memo[remain]\n",
    "        ans,ans_lists=dfs(target)\n",
    "        return ans_lists\n",
    "solution=Solution()\n",
    "print(solution.combination([2,3,5],8))\n",
    "# Input: candidates = [2,3,5], target = 8\n",
    "# Output: [[2,2,2,2],[2,3,3],[3,5]] \n",
    "# [[2],[]] [[]]\n",
    "# 2 2    2 1 1\n",
    "                        "
   ]
  },
  {
   "cell_type": "code",
   "execution_count": 29,
   "metadata": {},
   "outputs": [
    {
     "name": "stdout",
     "output_type": "stream",
     "text": [
      "i 8 0\n",
      "i 8 1\n",
      "i 8 2\n",
      "i 3 2\n",
      "[]\n",
      "i 5 1\n",
      "i 5 2\n",
      "i 0 2\n",
      "[]\n",
      "i 2 1\n",
      "i 2 2\n",
      "[]\n",
      "[]\n",
      "i 6 0\n",
      "i 6 1\n",
      "i 6 2\n",
      "i 1 2\n",
      "[]\n",
      "i 3 1\n",
      "i 3 2\n",
      "[]\n",
      "i 0 1\n",
      "[]\n",
      "i 4 0\n",
      "i 4 1\n",
      "i 4 2\n",
      "[]\n",
      "i 1 1\n",
      "i 1 2\n",
      "[]\n",
      "[]\n",
      "i 2 0\n",
      "i 0 0\n",
      "[]\n",
      "[]\n"
     ]
    }
   ],
   "source": []
  },
  {
   "cell_type": "code",
   "execution_count": 16,
   "metadata": {},
   "outputs": [
    {
     "name": "stdout",
     "output_type": "stream",
     "text": [
      "[[1, 1], [2, 1]]\n"
     ]
    }
   ],
   "source": [
    "test_list=[[1],[2]]\n",
    "for i in test_list:\n",
    "    i.append(1)\n",
    "print(test_list)"
   ]
  },
  {
   "cell_type": "code",
   "execution_count": 13,
   "metadata": {},
   "outputs": [
    {
     "name": "stdout",
     "output_type": "stream",
     "text": [
      "[1, 2, 3, 4, 1, 2]\n"
     ]
    }
   ],
   "source": [
    "a=[1,2,3,4]\n",
    "b=[1,2]\n",
    "a.extend(b)\n",
    "print(a)\n",
    "# a.append(b)\n",
    "# print(a)"
   ]
  },
  {
   "cell_type": "code",
   "execution_count": null,
   "metadata": {},
   "outputs": [],
   "source": [
    "[[2,2,2,2],[2,3,3],[3,5]] "
   ]
  },
  {
   "cell_type": "code",
   "execution_count": 6,
   "metadata": {},
   "outputs": [
    {
     "name": "stdout",
     "output_type": "stream",
     "text": [
      "[[], 2, 3, 4] False\n"
     ]
    }
   ],
   "source": [
    "a=[1,2,3,4]\n",
    "a[0]=[]\n",
    "print(a,a[0]==0)"
   ]
  },
  {
   "attachments": {},
   "cell_type": "markdown",
   "metadata": {},
   "source": [
    "![image/38题找零钱.png](image/38题找零钱.png)"
   ]
  },
  {
   "cell_type": "code",
   "execution_count": 7,
   "metadata": {},
   "outputs": [
    {
     "name": "stderr",
     "output_type": "stream",
     "text": [
      "'[]' �����ڲ����ⲿ���Ҳ���ǿ����еĳ���\n",
      "���������ļ���\n"
     ]
    }
   ],
   "source": [
    "from collections import defaultdict\n",
    "class Solution():\n",
    "    def combination(self,candidates,target):\n",
    "        nums=[]\n",
    "        for num in candidates:\n",
    "            if num<=target:\n",
    "                nums.append(num)    \n",
    "        dp=[[[] for _ in range(len(nums)+1)]for _ in range(target+1)]\n",
    "        for x in range(1,len(dp)):\n",
    "            for y in range(1,len(dp[0])):\n",
    "                if y-nums[x]<0:\n",
    "                    dp[x][y]=dp[x][y-1]\n",
    "                elif y-nums[x]==0:\n",
    "                    dp[x][y]=dp[x][y-1]+1\n",
    "                else:#list\n",
    "                    dp[x][y]=dp[][]\n",
    "                "
   ]
  },
  {
   "cell_type": "code",
   "execution_count": null,
   "metadata": {},
   "outputs": [],
   "source": []
  }
 ],
 "metadata": {
  "kernelspec": {
   "display_name": "base",
   "language": "python",
   "name": "python3"
  },
  "language_info": {
   "codemirror_mode": {
    "name": "ipython",
    "version": 3
   },
   "file_extension": ".py",
   "mimetype": "text/x-python",
   "name": "python",
   "nbconvert_exporter": "python",
   "pygments_lexer": "ipython3",
   "version": "3.9.12"
  },
  "orig_nbformat": 4,
  "vscode": {
   "interpreter": {
    "hash": "7b93ae2ddedcfb4b7ddebf80c8c7984044339b2e43f10e14b9461f3e640893f2"
   }
  }
 },
 "nbformat": 4,
 "nbformat_minor": 2
}
