{
 "cells": [
  {
   "cell_type": "markdown",
   "metadata": {},
   "source": [
    "# [304. 二维区域和检索 - 矩阵不可变](https://leetcode.cn/problems/range-sum-query-2d-immutable)\n",
    "\n",
    "[English Version](/solution/0300-0399/0304.Range%20Sum%20Query%202D%20-%20Immutable/README_EN.md)\n",
    "\n",
    "## 题目描述\n",
    "\n",
    "<!-- 这里写题目描述 -->\n",
    "\n",
    "<p><big><small>给定一个二维矩阵 <code>matrix</code>，</small></big>以下类型的多个请求：</p>\n",
    "\n",
    "<ul>\n",
    "\t<li><big><small>计算其子矩形范围内元素的总和，该子矩阵的 <strong>左上角</strong> 为 <code>(row1,&nbsp;col1)</code> ，<strong>右下角</strong> 为 <code>(row2,&nbsp;col2)</code> 。</small></big></li>\n",
    "</ul>\n",
    "\n",
    "<p>实现 <code>NumMatrix</code> 类：</p>\n",
    "\n",
    "<ul>\n",
    "\t<li><code>NumMatrix(int[][] matrix)</code>&nbsp;给定整数矩阵 <code>matrix</code> 进行初始化</li>\n",
    "\t<li><code>int sumRegion(int row1, int col1, int row2, int col2)</code>&nbsp;返回<big><small> <strong>左上角</strong></small></big><big><small> <code>(row1,&nbsp;col1)</code>&nbsp;、<strong>右下角</strong>&nbsp;<code>(row2,&nbsp;col2)</code></small></big> 所描述的子矩阵的元素 <strong>总和</strong> 。</li>\n",
    "</ul>\n",
    "\n",
    "<p>&nbsp;</p>\n",
    "\n",
    "<p><strong>示例 1：</strong></p>\n",
    "\n",
    "<p><img src=\"https://fastly.jsdelivr.net/gh/doocs/leetcode@main/solution/0300-0399/0304.Range%20Sum%20Query%202D%20-%20Immutable/images/1626332422-wUpUHT-image.png\" style=\"width: 200px;\" /></p>\n",
    "\n",
    "<pre>\n",
    "<strong>输入:</strong> \n",
    "[\"NumMatrix\",\"sumRegion\",\"sumRegion\",\"sumRegion\"]\n",
    "[[[[3,0,1,4,2],[5,6,3,2,1],[1,2,0,1,5],[4,1,0,1,7],[1,0,3,0,5]]],[2,1,4,3],[1,1,2,2],[1,2,2,4]]\n",
    "<strong>输出:</strong> \n",
    "[null, 8, 11, 12]\n",
    "\n",
    "<strong>解释:</strong>\n",
    "NumMatrix numMatrix = new NumMatrix([[3,0,1,4,2],[5,6,3,2,1],[1,2,0,1,5],[4,1,0,1,7],[1,0,3,0,5]]);\n",
    "numMatrix.sumRegion(2, 1, 4, 3); // return 8 (红色矩形框的元素总和)\n",
    "numMatrix.sumRegion(1, 1, 2, 2); // return 11 (绿色矩形框的元素总和)\n",
    "numMatrix.sumRegion(1, 2, 2, 4); // return 12 (蓝色矩形框的元素总和)\n",
    "</pre>\n",
    "\n",
    "<p>&nbsp;</p>\n",
    "\n",
    "<p><strong>提示：</strong></p>\n",
    "\n",
    "<ul>\n",
    "\t<li><code>m == matrix.length</code></li>\n",
    "\t<li><code>n == matrix[i].length</code></li>\n",
    "\t<li><code>1 &lt;= m,&nbsp;n &lt;=&nbsp;200</code><meta charset=\"UTF-8\" /></li>\n",
    "\t<li><code>-10<sup>5</sup>&nbsp;&lt;= matrix[i][j] &lt;= 10<sup>5</sup></code></li>\n",
    "\t<li><code>0 &lt;= row1 &lt;= row2 &lt; m</code></li>\n",
    "\t<li><code>0 &lt;= col1 &lt;= col2 &lt; n</code></li>\n",
    "\t<li><meta charset=\"UTF-8\" />最多调用 <code>10<sup>4</sup></code> 次&nbsp;<code>sumRegion</code> 方法</li>\n",
    "</ul>\n",
    "\n",
    "## 解法\n",
    "\n",
    "<!-- 这里可写通用的实现逻辑 -->\n",
    "\n",
    "**方法一：二维前缀和**\n",
    "\n",
    "`s[i + 1][j + 1]` 表示第 i 行第 j 列左上部分所有元素之和，其中 i, j 下标从 0 开始。\n",
    "\n",
    "则 `s[i + 1][j + 1] = s[i + 1][j] + s[i][j + 1] - s[i][j] + nums[i][j]`。\n",
    "\n",
    "以 (x1, y1) 为左上角，(x2, y2) 为右下角的子矩阵和 `sub = s[x2 + 1][y2 + 1] - s[x2 + 1][y1] - s[x1][y2 + 1] + s[x1][y1]`。\n",
    "\n",
    "<!-- tabs:start -->\n",
    "\n",
    "### **Python3**\n",
    "\n",
    "<!-- 这里可写当前语言的特殊实现逻辑 -->\n",
    "\n",
    "```python\n",
    "class NumMatrix:\n",
    "\n",
    "    def __init__(self, matrix: List[List[int]]):\n",
    "        m, n = len(matrix), len(matrix[0])\n",
    "        self.s = [[0] * (n + 1) for _ in range(m + 1)]\n",
    "        for i, row in enumerate(matrix):\n",
    "            for j, v in enumerate(row):\n",
    "                self.s[i + 1][j + 1] = self.s[i][j + 1] + self.s[i + 1][j] - self.s[i][j] + v\n",
    "\n",
    "\n",
    "    def sumRegion(self, row1: int, col1: int, row2: int, col2: int) -> int:\n",
    "        return self.s[row2 + 1][col2 + 1] - self.s[row2 + 1][col1] - self.s[row1][col2 + 1] + self.s[row1][col1]\n",
    "\n",
    "\n",
    "# Your NumMatrix object will be instantiated and called as such:\n",
    "# obj = NumMatrix(matrix)\n",
    "# param_1 = obj.sumRegion(row1,col1,row2,col2)\n",
    "```\n"
   ]
  },
  {
   "cell_type": "markdown",
   "metadata": {},
   "source": [
    "### 最好根据图分析\n",
    "S[i+1][j+1]=S[i][j+1]+s[i+1][j]+num[i]j]"
   ]
  },
  {
   "cell_type": "code",
   "execution_count": 3,
   "metadata": {},
   "outputs": [
    {
     "name": "stdout",
     "output_type": "stream",
     "text": [
      "0 [3, 0, 1, 4, 2]\n",
      "1 [5, 6, 3, 2, 1]\n",
      "2 [1, 2, 0, 1, 5]\n",
      "3 [4, 1, 0, 1, 7]\n",
      "4 [1, 0, 3, 0, 5]\n"
     ]
    }
   ],
   "source": [
    "if __name__==\"__main__\":\n",
    "    td_list=[[3,0,1,4,2],[5,6,3,2,1],[1,2,0,1,5],[4,1,0,1,7],[1,0,3,0,5]]\n",
    "    for index,value in enumerate(td_list):\n",
    "        print(index,value)\n",
    "             \n",
    "    "
   ]
  },
  {
   "cell_type": "markdown",
   "metadata": {},
   "source": [
    "### 注意col2和row2的+1\n",
    "注意注意+1很重要，两者其实是逆运算！S[x][y]对应s[x-1][y-1]的信息"
   ]
  },
  {
   "cell_type": "code",
   "execution_count": null,
   "metadata": {},
   "outputs": [],
   "source": [
    "from typing import List\n",
    "class NumMatrix:\n",
    "\n",
    "    def __init__(self, matrix: List[List[int]]):\n",
    "        row,col=len(matrix),len(matrix[0])\n",
    "        self.s=[[0]*(col+1) for i in range(0,row+1)]\n",
    "        for x,row_list in enumerate(matrix):\n",
    "            for y,value in enumerate(row_list):\n",
    "                self.s[x+1][y+1]=self.s[x+1][y]+self.s[x][y+1]-self.s[x][y]+value\n",
    "\n",
    "    def sumRegion(self, row1: int, col1: int, row2: int, col2: int) -> int:\n",
    "        return self.s[row2+1][col2+1]-self.s[row1][col2+1]-self.s[row2+1][col1]+self.s[row1][col1]\n",
    "\n",
    "\n",
    "\n",
    "# Your NumMatrix object will be instantiated and called as such:\n",
    "# obj = NumMatrix(matrix)\n",
    "# param_1 = obj.sumRegion(row1,col1,row2,col2)"
   ]
  }
 ],
 "metadata": {
  "kernelspec": {
   "display_name": "Python 3.9.12 ('base')",
   "language": "python",
   "name": "python3"
  },
  "language_info": {
   "codemirror_mode": {
    "name": "ipython",
    "version": 3
   },
   "file_extension": ".py",
   "mimetype": "text/x-python",
   "name": "python",
   "nbconvert_exporter": "python",
   "pygments_lexer": "ipython3",
   "version": "3.9.12"
  },
  "orig_nbformat": 4,
  "vscode": {
   "interpreter": {
    "hash": "7b93ae2ddedcfb4b7ddebf80c8c7984044339b2e43f10e14b9461f3e640893f2"
   }
  }
 },
 "nbformat": 4,
 "nbformat_minor": 2
}
