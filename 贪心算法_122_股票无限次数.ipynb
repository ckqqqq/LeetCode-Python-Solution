{
 "cells": [
  {
   "cell_type": "markdown",
   "metadata": {},
   "source": []
  },
  {
   "cell_type": "code",
   "execution_count": 5,
   "metadata": {},
   "outputs": [
    {
     "name": "stdout",
     "output_type": "stream",
     "text": [
      "7\n",
      "4\n",
      "0\n",
      "0\n",
      "3\n"
     ]
    }
   ],
   "source": [
    "from typing import List\n",
    "class Solution:\n",
    "    def maxProfit(self, prices: List[int]) -> int:\n",
    "        if len(prices)<=0:\n",
    "            return 0\n",
    "        ans=0\n",
    "        for i in range(0,len(prices)-1):\n",
    "            if prices[i]<prices[i+1]:\n",
    "                ans+=prices[i+1]-prices[i]\n",
    "        return ans\n",
    "                \n",
    "                \n",
    "if __name__==\"__main__\":\n",
    "    solution=Solution()\n",
    "    print(solution.maxProfit([7,1,5,3,6,4]))\n",
    "    print(solution.maxProfit([1,2,3,4,5]))\n",
    "    print(solution.maxProfit([7,6,4,3,1]))\n",
    "    print(solution.maxProfit([7]))\n",
    "    print(solution.maxProfit([1,4]))\n",
    "    \n",
    "    "
   ]
  }
 ],
 "metadata": {
  "kernelspec": {
   "display_name": "Python 3.8.13 ('py38')",
   "language": "python",
   "name": "python3"
  },
  "language_info": {
   "codemirror_mode": {
    "name": "ipython",
    "version": 3
   },
   "file_extension": ".py",
   "mimetype": "text/x-python",
   "name": "python",
   "nbconvert_exporter": "python",
   "pygments_lexer": "ipython3",
   "version": "3.8.13 | packaged by conda-forge | (default, Mar 25 2022, 05:59:00) [MSC v.1929 64 bit (AMD64)]"
  },
  "orig_nbformat": 4,
  "vscode": {
   "interpreter": {
    "hash": "76c3c49e318b7c885b43daef0aa3cfe4eb22ade01aff18419595a86661fada18"
   }
  }
 },
 "nbformat": 4,
 "nbformat_minor": 2
}
