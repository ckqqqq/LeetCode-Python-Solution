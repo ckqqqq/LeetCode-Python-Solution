{
 "cells": [
  {
   "cell_type": "code",
   "execution_count": null,
   "metadata": {},
   "outputs": [],
   "source": []
  },
  {
   "cell_type": "code",
   "execution_count": null,
   "metadata": {},
   "outputs": [],
   "source": []
  },
  {
   "attachments": {},
   "cell_type": "markdown",
   "metadata": {},
   "source": [
    "44. Wildcard Matching\n",
    "Hard\n",
    "6.4K\n",
    "268\n",
    "Companies\n",
    "Given an input string (s) and a pattern (p), implement wildcard pattern matching with support for '?' and '*' where:\n",
    "\n",
    "'?' Matches any single character.\n",
    "'*' Matches any sequence of characters (including the empty sequence).\n",
    "The matching should cover the entire input string (not partial).\n",
    "\n",
    " \n",
    "\n",
    "Example 1:\n",
    "\n",
    "Input: s = \"aa\", p = \"a\"\n",
    "Output: false\n",
    "Explanation: \"a\" does not match the entire string \"aa\".\n",
    "Example 2:\n",
    "\n",
    "Input: s = \"aa\", p = \"*\"\n",
    "Output: true\n",
    "Explanation: '*' matches any sequence.\n",
    "Example 3:\n",
    "\n",
    "Input: s = \"cb\", p = \"?a\"\n",
    "Output: false\n",
    "Explanation: '?' matches 'c', but the second letter is 'a', which does not match 'b'.\n",
    " "
   ]
  },
  {
   "cell_type": "code",
   "execution_count": 9,
   "metadata": {},
   "outputs": [
    {
     "name": "stdout",
     "output_type": "stream",
     "text": [
      "True\n"
     ]
    }
   ],
   "source": [
    "class Solution:\n",
    "    def isMatch(self, s: str, p: str) -> bool:\n",
    "        if s==p:\n",
    "            return True\n",
    "        if len(p)==0:\n",
    "            return False\n",
    "        dp=[[False for _ in range(len(s)+1)]for _ in range(len(p)+1)]\n",
    "        dp[0][0]=True\n",
    "        # x-p y -s\n",
    "        for x in range(1,len(p)+1):\n",
    "            x_i=x-1\n",
    "            if p[x_i]==\"*\":\n",
    "                dp[x][0]|=dp[x-1][0]\n",
    "            else:\n",
    "                break\n",
    "        for x in range(1,len(p)+1):\n",
    "            for y in range(1,len(s)+1):\n",
    "                x_i,y_i=x-1,y-1 # x-p y-s\n",
    "                if p[x_i]==\"*\":\n",
    "                    dp[x][y]|=dp[x-1][y]|dp[x][y-1]\n",
    "                elif p[x_i]==\"?\" or s[y_i]==p[x_i]:# s 和p 也就是那个nums数组要注意区分\n",
    "                    dp[x][y]|=dp[x-1][y-1]\n",
    "                # elif s[y_i]!=p[x_i]:\n",
    "                #     dp[x][y]=False\n",
    "                # else:\n",
    "                #     assert True,\"???前缀和_307_树状数组 - 副本.ipynb\"\n",
    "        # print(dp)\n",
    "        return dp[len(p)][len(s)]\n",
    "solution=Solution()\n",
    "print(solution.isMatch(\"adceb\",\"*a*b\"))"
   ]
  },
  {
   "attachments": {},
   "cell_type": "markdown",
   "metadata": {},
   "source": [
    "\"aaaaaaaaaaaaaaaaaaaaaaaaaaaaaaaaaaaaaaaaaaaaaaaaaaaaaaaaaaaaaaaaaaaaaaaaaaaaaaaaaaaaaaaaaaaaaaaaaaaaaaaaaaaaaaaaaaaaaaaaaaaaaaaaaaaaaaaaaaaaaaaaaaaaaaaaaaaaaaaaaaaaaaaaaaaaaaaaaaaaaaaaaaaaaaaaaaaaaaaaaaaaaaaaaaaaaaaaaaaaaaaaaaaaaaaaaaaaaaaaaaaaaaaaaaaaaaaaaaaaaaaaaaaaaaaaaaaaaaaaaaaaaaaaaaaaaaaaaaaaaaaaaaaaaaaaaaaaaaaaaaaaaaaaaaaaaaaaaaaaaaaaaaaaaaaaaaaaaaaaaaaaaaaaaaaaaaaaaaaaaaaaaaaaaaaaaaaaaaaaaaaaaaaaaaaaaaaaaaaaaaaaaaaaaaaaaaaaaaaaaaaaaaaaaaaaaaaaaaaaaaaaaaaaaaaaaaaaaaaaaaaaaaaaaaaaaaaaaaaaaaaaaaaaaaaaaaaaaaaaaaaaaaaaaaaaaaaaaaaaaaaaaaaaaaaaaaaaaaaaaaaaaaaaaaaaaaaaaaaaaaaaaaaaaaaaaaaaaaaaaaaaaaaaaaaaaaaaaaaaaaaaaaaaaaaaaaaaaaaaaaaaaaaaaaaaaaaaaaaaaaaaaaaaaaaaaaaaaaaaaaaaaaaaaaaaaaaaaaaaaaaaaaaaaaaaaaaaaaaaaaaaaaaaaaaaaaaaaaaaaaaaaaaaaaaaaaaaaaaaaaaaaaaaaaaaaaaaaaaaaaaaaaaaaaaaaaaaaaaaaaaaaaaaaaaaaaaaaaaaaaaaaaaaaaaaaaaaaaaaaaaaaaaaaaaaaaaaaaaaaaaaaaaaaaaaaaaaaaaaaaaaaaaaaaaaaaaaaaaaaaaaaaaaaaaaaaaaaaaaaaaaaaaaaaaaaaaaaaaaaaaaaaaaaaaaaaaaaaaaaaaaaaaaaaaaaaaaaaaaaaaaaaaaaaaaaaaaaaaaaaaaaaaaaaaaaaaaaaaaaaaa\"\n",
    "# 竟然TLE了\n",
    "p =\n",
    "\"*aaaaaaaaaaaaaaaaaaaaaaaaaaaaaaaaaaaaaaaaaaaaaaaaaaaaaaaaaaaaaaaaaaaaaaaaaaaaaaaaaaaaaaaaaaaaaaaaaaaaaaaaaaaaaaaaaaaaaaaaaaaaaaaaaaaaaaaaaaaaaaaaaaaaaaaaaaaaaaaaaaaaaaaaaaaaaaaaaaaaaaaaaaaaaaaaaaaaaaaaaaaaaaaaaaaaaaaaaaaaaaaaaaaaaaaaaaaaaaaaaaaaaaaaaaaaaaaaaaaaaaaaaaaaaaaaaaaaaaaaaaaaaaaaaaaaaaaaaaaaaaaaaaaaaaaaaaaaaaaaaaaaaaaaaaaaaaaaaaaaaaaaaaaaaaaaaaaaaaaaaaaaaaaaaaaaaaaaaaaaaaaaaaaaaaaaaaaaaaaaaaaaaaaaaaaaaaaaaaaaaaaaaaaaaaaaaaaaaaaaaaaaaaaaaaaaaaaaaaaaaaaaaaaaaaaaaaaaaaaaaaaaaaaaaaaaaaaaaaaaaaaaaaaaaaaaaaaaaaaaaaaaaaaaaaaaaaaaaaaaaaaaaaaaaaaaaaaaaaaaaaaaaaaaaaaaaaaaaaaaaaaaaaaaaaaaaaaaaaaaaaaaaaaaaaaaaaaaaaaaaaaaaaaaaaaaaaaaaaaaaaaaaaaaaaaaaaaaaaaaaaaaaaaaaaaaaaaaaaaaaaaaaaaaaaaaaaaaaaaaaaaaaaaaaaaaaaaaaaaaaaaaaaaaaaaaaaaaaaaaaaaaaaaaaaaaaaaaaaaaaaaaaaaaaaaaaaaaaaaaaaaaaaaaaaaaaaaaaaaaaaaaaaaaaaaaaaaaaaaaaaaaaaaaaaaaaaaaaaaaaaaaaaaaaaaaaaaaaaaaaaaaaaaaaaaaaaaaaaaaaaaaaaaaaaaaaaaaaaaaaaaaaaaaaaaaaaaaaaaaaaaaaaaaaaaaaaaaaaaaaaaaaaaaaaaaaaaaaaaaaaaaaaaaaaaaaaaaaaaaaaaaaaaaaaaaaaaaaaaaaaaaaaaaaaaaaaaaaaaaaaaaa*\""
   ]
  },
  {
   "cell_type": "code",
   "execution_count": null,
   "metadata": {},
   "outputs": [],
   "source": [
    "# 一个超快的贪心 只需要O（n）的时间复杂度\n",
    "class Solution:\n",
    "    def isMatch(self, s: str, p: str) -> bool:\n",
    "        # Initialize the pointers for the input string and the pattern\n",
    "        i = 0\n",
    "        j = 0\n",
    "    \n",
    "        # Initialize the pointers for the last character matched and the last\n",
    "        # '*' encountered in the pattern\n",
    "        # aaab\n",
    "        # a*bc\n",
    "        last_match = 0 # i对s\n",
    "        star = -1 #\n",
    "    \n",
    "        # Loop through the input string and the pattern\n",
    "        while i < len(s):\n",
    "            # Check if the current characters in the input string and the pattern\n",
    "            # match, or if the pattern character is a '?'\n",
    "            if j < len(p) and (s[i] == p[j] or p[j] == '?'):\n",
    "                # Move the pointers for the input string and the pattern forward\n",
    "                i += 1\n",
    "                j += 1\n",
    "            # Check if the current pattern character is a '*'\n",
    "            elif j < len(p) and p[j] == '*':\n",
    "                # Store the current positions of the pointers for the input string\n",
    "                # and the pattern\n",
    "                last_match = i # 记录最近一次 s的匹配位置\n",
    "                star = j #记录*的位置\n",
    "                # Move the pointer for the pattern forward\n",
    "                j += 1# 优先选择不调用\"*\"匹配\n",
    "            # If none of the above conditions are met, check if we have encountered\n",
    "            # a '*' in the pattern previously\n",
    "            elif star != -1:# 如果不匹配\n",
    "                # Move the pointer for the pattern back to the last '*'\n",
    "                j = star + 1# 调用\"*\"来匹配\n",
    "                # Move the pointer for the input string to the next character\n",
    "                # after the last character matched\n",
    "                i = last_match + 1\n",
    "                # Move the pointer for the last character matched forward\n",
    "                last_match += 1\n",
    "            # If none of the above conditions are met, the input string and the\n",
    "            # pattern do not match\n",
    "            else:# 比如字符不匹配 ，前面没有*（star==-1）\n",
    "                return False\n",
    "    \n",
    "        # Loop through the remaining characters in the pattern and check if they\n",
    "        # are all '*' characters\n",
    "        while j < len(p) and p[j] == '*':# 如果j后面全是*\n",
    "            j += 1\n",
    "    \n",
    "        # Return True if all the characters in the pattern have been processed,\n",
    "        # False otherwise\n",
    "        return j == len(p)\n",
    "    "
   ]
  },
  {
   "cell_type": "code",
   "execution_count": 2,
   "metadata": {},
   "outputs": [
    {
     "name": "stdout",
     "output_type": "stream",
     "text": [
      "False True\n"
     ]
    }
   ],
   "source": [
    "a=True\n",
    "b=False\n",
    "b&=a\n",
    "a|=b\n",
    "print(b,a)"
   ]
  }
 ],
 "metadata": {
  "kernelspec": {
   "display_name": "base",
   "language": "python",
   "name": "python3"
  },
  "language_info": {
   "codemirror_mode": {
    "name": "ipython",
    "version": 3
   },
   "file_extension": ".py",
   "mimetype": "text/x-python",
   "name": "python",
   "nbconvert_exporter": "python",
   "pygments_lexer": "ipython3",
   "version": "3.9.12"
  },
  "orig_nbformat": 4,
  "vscode": {
   "interpreter": {
    "hash": "7b93ae2ddedcfb4b7ddebf80c8c7984044339b2e43f10e14b9461f3e640893f2"
   }
  }
 },
 "nbformat": 4,
 "nbformat_minor": 2
}
