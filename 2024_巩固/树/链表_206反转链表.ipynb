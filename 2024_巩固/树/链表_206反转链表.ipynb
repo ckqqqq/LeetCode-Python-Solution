{
 "cells": [
  {
   "cell_type": "markdown",
   "metadata": {},
   "source": [
    "## 说实话，这道题错的挺多的，其一是链表的当前指针命名为cur，其次是不要追求花里胡哨，最后是while的判断条件要注意\n",
    "## 在测试的时候还有一个点就是最后返回的链表的头是原代码的哪个变量"
   ]
  },
  {
   "cell_type": "code",
   "execution_count": null,
   "metadata": {},
   "outputs": [],
   "source": [
    "class node:\n",
    "    def __init__(self,n=None,val=0):\n",
    "        self.next=None\n",
    "        self.val=0\n",
    "## \n",
    "def solution(head):\n",
    "    cur=head\n",
    "    while cur!=None:\n",
    "        tmp=cur.next\n",
    "        cur.next=prev\n",
    "        prev=cur\n",
    "        cur=tmp\n",
    "    return head\n",
    "\n",
    "        \n",
    "        "
   ]
  }
 ],
 "metadata": {
  "language_info": {
   "name": "python"
  }
 },
 "nbformat": 4,
 "nbformat_minor": 2
}
