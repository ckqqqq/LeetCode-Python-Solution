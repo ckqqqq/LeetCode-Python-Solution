{
 "cells": [
  {
   "cell_type": "code",
   "execution_count": null,
   "metadata": {},
   "outputs": [],
   "source": [
    "class node:\n",
    "    def __init__(self,next=None,val=0):\n",
    "        self.next=next\n",
    "        self.val=val\n",
    "def solution(head1,head2):\n",
    "    empty_head=node()\n",
    "    cur=empty_head\n",
    "    while head1 and head2:\n",
    "        if head1.val<head2.val:\n",
    "            cur.next=head1\n",
    "            cur=cur.next\n",
    "            head1=head1.next\n",
    "        else:\n",
    "            cur.next=head2\n",
    "            cur=cur.next\n",
    "            head2=head2.next\n",
    "    if head1==None:\n",
    "        cur.next=head2\n",
    "    else:#head2==None\n",
    "        cur.next=head1\n",
    "    return empty_head.next\n"
   ]
  }
 ],
 "metadata": {
  "language_info": {
   "name": "python"
  }
 },
 "nbformat": 4,
 "nbformat_minor": 2
}
