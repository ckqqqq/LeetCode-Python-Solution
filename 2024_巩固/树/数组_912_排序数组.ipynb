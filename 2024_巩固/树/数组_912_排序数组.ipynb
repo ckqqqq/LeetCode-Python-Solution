{
 "cells": [
  {
   "cell_type": "code",
   "execution_count": 3,
   "metadata": {},
   "outputs": [],
   "source": [
    "a=[1]\n",
    "b=[2,3]\n",
    "a,b=b,a\n"
   ]
  },
  {
   "cell_type": "code",
   "execution_count": 4,
   "metadata": {},
   "outputs": [
    {
     "data": {
      "text/plain": [
       "([2, 3], [1])"
      ]
     },
     "execution_count": 4,
     "metadata": {},
     "output_type": "execute_result"
    }
   ],
   "source": [
    "a,b"
   ]
  },
  {
   "cell_type": "markdown",
   "metadata": {},
   "source": [
    "注意是i和j进行交换,在快排中中间数的序号在第一个while循环是i在第二二while循环是j"
   ]
  },
  {
   "cell_type": "code",
   "execution_count": null,
   "metadata": {},
   "outputs": [],
   "source": [
    "## \n",
    "def solution(nums):\n",
    "    def qsort(arr,left,right):\n",
    "        if left+1>=right:\n",
    "            return \n",
    "        # 原地交换\n",
    "        # 最后情况是left=right\n",
    "        left_b,right_b=left,right\n",
    "        # 左右边界\n",
    "        while left<right:\n",
    "            # 此时的中间值为left\n",
    "            while left<right and arr[left]<=arr[right]:\n",
    "                right-=1\n",
    "            arr[left],arr[right]=arr[right],arr[left]\n",
    "            # 此时的中间值换到了right\n",
    "            while left<right and arr[left]<=arr[right]:\n",
    "                left+=1\n",
    "            arr[left],arr[right]=arr[right],arr[left]\n",
    "            # 此时的中间值为left\n",
    "        # 最后left=right=中间值  \n",
    "        idx=left\n",
    "        qsort(nums,left_b,idx-1)\n",
    "        qsort(nums,idx+1,right_b) \n",
    "    qsort(nums,0,len(nums)-1)\n",
    "    return nums"
   ]
  }
 ],
 "metadata": {
  "kernelspec": {
   "display_name": "py38",
   "language": "python",
   "name": "python3"
  },
  "language_info": {
   "codemirror_mode": {
    "name": "ipython",
    "version": 3
   },
   "file_extension": ".py",
   "mimetype": "text/x-python",
   "name": "python",
   "nbconvert_exporter": "python",
   "pygments_lexer": "ipython3",
   "version": "3.8.13"
  }
 },
 "nbformat": 4,
 "nbformat_minor": 2
}
