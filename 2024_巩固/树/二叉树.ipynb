{
 "cells": [
  {
   "cell_type": "markdown",
   "metadata": {},
   "source": [
    "问题，一是如果面试官要求写节点Node的实现，二是往往是主程序之类的"
   ]
  },
  {
   "cell_type": "code",
   "execution_count": null,
   "metadata": {},
   "outputs": [],
   "source": [
    "class Node():\n",
    "    def __init__(self,val=0,left=None,right=None):\n",
    "        self.val=val\n",
    "        self.left=left\n",
    "        self.right==right\n",
    "        \n",
    "def inorder(root:Node):\n",
    "    if root==None:\n",
    "        return\n",
    "    inorder(root.left)\n",
    "    print(root.val)\n",
    "    inorder(root.right)\n",
    "# 用时八分钟，不过注意的要点是把题目写出来比什么命名之类的都重要\n",
    "    "
   ]
  },
  {
   "cell_type": "markdown",
   "metadata": {},
   "source": [
    "155 最小栈 \n",
    "https://leetcode.cn/problems/min-stack/solutions/\n"
   ]
  },
  {
   "cell_type": "code",
   "execution_count": null,
   "metadata": {},
   "outputs": [],
   "source": [
    "知识强化，使用python中的列表去模拟各种数据结构\n",
    "l.pop()# 删除最后一个元素\n",
    "l.del(序号) #删除第一个元素或者某个下标对应的元素\n",
    "l.append()# list 天然的就是一个栈\n"
   ]
  },
  {
   "cell_type": "code",
   "execution_count": null,
   "metadata": {},
   "outputs": [],
   "source": [
    "知识强化，在python中 copy 和deepcopy的区别\n",
    "l.copy()拷贝原始对象的元素和内部对象的引用\n",
    "l.deepcopy()拷贝原始对象的元素和递归拷贝内部对象的所有内容"
   ]
  },
  {
   "cell_type": "code",
   "execution_count": null,
   "metadata": {},
   "outputs": [],
   "source": [
    "知识强化"
   ]
  },
  {
   "cell_type": "code",
   "execution_count": 1,
   "metadata": {},
   "outputs": [],
   "source": [
    "https://leetcode.cn/problems/min-stack/description/ 中等题，不会做，实现一个栈， 最简单的方法就是使用python的字典模拟链表，使用链表将最小值有序传递"
   ]
  },
  {
   "cell_type": "code",
   "execution_count": null,
   "metadata": {},
   "outputs": [],
   "source": [
    "## 讨巧的方法，使用字典在python中去模拟Node和链表 其特点为一对多"
   ]
  },
  {
   "cell_type": "code",
   "execution_count": null,
   "metadata": {},
   "outputs": [],
   "source": [
    "### 请问栈有什么特点，栈的特点是栈的底部是无法接触的（不可触），事实上可以用链表来模拟栈，链表的头知道下一个元素，那么栈的顶部也知道栈的次顶的元素，那么 头就是栈顶,但是链表本身是可以不断更新头的"
   ]
  },
  {
   "cell_type": "code",
   "execution_count": null,
   "metadata": {},
   "outputs": [],
   "source": [
    "\n",
    "class minStack():\n",
    "    def __init__(self):\n",
    "        self.head=None\n",
    "        # self.tail=cur\n",
    "    def push(self,val):\n",
    "        if self.head==None:\n",
    "            new_node={'val':val,'min':val,'next':self.head}\n",
    "        else:\n",
    "            new_node={'val':val,'min':min(self.head['min'],val),'next':self.head}\n",
    "    def pop(self):\n",
    "        if self.head:\n",
    "            self.head=self.head['next']\n",
    "        else:\n",
    "            print(\"空\")\n",
    "    def top(self):\n",
    "        return self.head['val']\n",
    "    def getMin(self):\n",
    "        return self.head['min']\n",
    "\n",
    "### 非常优雅的用列表模拟的树"
   ]
  },
  {
   "cell_type": "code",
   "execution_count": null,
   "metadata": {},
   "outputs": [],
   "source": [
    "\n",
    "# def near_ans(t,r,a,b):\n",
    "    "
   ]
  },
  {
   "cell_type": "code",
   "execution_count": null,
   "metadata": {},
   "outputs": [],
   "source": [
    "class node():\n",
    "    def __init__(self):\n",
    "        self.left=None\n",
    "        self.right=None\n",
    "        self.val=None\n",
    "def test(root,p,q):\n",
    "    def dfs(r):\n",
    "        if r==None:\n",
    "            return None\n",
    "        if p.val==r.val or p.val==r.val:\n",
    "            return r\n",
    "        left_res=dfs(r.left)\n",
    "        right_res=dfs(r.right)\n",
    "        if left_res and right_res:\n",
    "            return r\n",
    "        if left_res:\n",
    "            return left_res\n",
    "        elif right_res:\n",
    "            return right_res\n"
   ]
  },
  {
   "cell_type": "code",
   "execution_count": null,
   "metadata": {},
   "outputs": [],
   "source": [
    "#找二叉搜索树中右子树最左的节点和左子树最右的节点都不需要用prev，用一个while循环就行"
   ]
  },
  {
   "cell_type": "code",
   "execution_count": null,
   "metadata": {},
   "outputs": [],
   "source": [
    "class Node:\n",
    "    def __init__(self,val=0,left=None,right=None):\n",
    "        self.val=val\n",
    "        self.left=left\n",
    "        self.right=right\n",
    "def test(root,key):\n",
    "    def concat_right(ltree,rtree):# \n",
    "        rTreeLeft=rtree\n",
    "        while rTreeLeft.left!=None:# 返回右子树中最左边的 节点\n",
    "            rTreeLeft=rTreeLeft.left\n",
    "        rTreeLeft.left=ltree\n",
    "        return rtree\n",
    "    def bst_dfs(r):#返回新根\n",
    "        if r==None:\n",
    "            return None\n",
    "        r.left=bst_dfs(r.left)\n",
    "        if r.val==key:\n",
    "            if r.left==None and r.right==None:\n",
    "                return None\n",
    "            if r.left==None:\n",
    "                return r.right\n",
    "            if r.right==None:\n",
    "                return r.left\n",
    "            else:\n",
    "                return concat_right(r.left,r.right)\n",
    "        r.right=bst_dfs(r.right)\n",
    "        return r # original\n",
    "    return bst_dfs(root)\n",
    "\n",
    "    # dfs"
   ]
  },
  {
   "cell_type": "markdown",
   "metadata": {},
   "source": [
    "## 10分钟"
   ]
  },
  {
   "cell_type": "code",
   "execution_count": null,
   "metadata": {},
   "outputs": [],
   "source": [
    "class Solution:\n",
    "    def maxSum(root):\n",
    "        global res # 注意在python 中应用非变量的全局函数时需要在函数内外都声明global\n",
    "        res=root.val\n",
    "        def post_dfs(r):# return a or b\n",
    "            if r==None:\n",
    "                return 0\n",
    "            global res\n",
    "            a=post_dfs(r.left)\n",
    "            b=post_dfs(r.right)\n",
    "            x=r.val\n",
    "            new_max=max(a+x,b+x,x)#单线\n",
    "            res=max(new_max,res,a+b+x)# 折线\n",
    "            return new_max\n",
    "        post_dfs(root)\n",
    "        return res"
   ]
  },
  {
   "cell_type": "code",
   "execution_count": null,
   "metadata": {},
   "outputs": [],
   "source": [
    "### 序列化和反序列化这道题用BFS层序遍历的方法可以秒杀，而且重要的是这种序列化方法最为直观"
   ]
  },
  {
   "cell_type": "code",
   "execution_count": null,
   "metadata": {},
   "outputs": [],
   "source": [
    "## https://codetop.cc/home \n"
   ]
  },
  {
   "cell_type": "code",
   "execution_count": null,
   "metadata": {},
   "outputs": [],
   "source": []
  }
 ],
 "metadata": {
  "kernelspec": {
   "display_name": "py38",
   "language": "python",
   "name": "python3"
  },
  "language_info": {
   "codemirror_mode": {
    "name": "ipython",
    "version": 3
   },
   "file_extension": ".py",
   "mimetype": "text/x-python",
   "name": "python",
   "nbconvert_exporter": "python",
   "pygments_lexer": "ipython3",
   "version": "3.8.13"
  }
 },
 "nbformat": 4,
 "nbformat_minor": 2
}
