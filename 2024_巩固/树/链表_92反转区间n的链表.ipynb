{
 "cells": [
  {
   "cell_type": "markdown",
   "metadata": {},
   "source": [
    "# 这道题的关键还是在于特殊情况，这道题的特殊情况在于 left==1"
   ]
  },
  {
   "cell_type": "code",
   "execution_count": null,
   "metadata": {},
   "outputs": [],
   "source": [
    "class ListNode:\n",
    "    def __init__(self,val=0,next=None):\n",
    "        self.val=val\n",
    "        self.next=next\n",
    "def solution(head,left,right):\n",
    "    if head==None:\n",
    "        return head\n",
    "    cnt=1\n",
    "    empty_head=ListNode()# 这里的这个 empty head 就是为了防止left==1的情况\n",
    "    empty_head.next=head\n",
    "    cur,prev=head,empty_head\n",
    "    \n",
    "    while cnt!=left and cur!=None:\n",
    "        prev=cur\n",
    "        cur=cur.next\n",
    "        cnt+=1    \n",
    "    # cnt 就是 left\n",
    "    def reverse(head,rng):# 返回head tail\n",
    "        cur=head\n",
    "        prev=None\n",
    "        cnt=1\n",
    "        tmp=None\n",
    "        ## 翻转链表要一个一个地换，切忌不能操之过急\n",
    "        while cnt<=rng and cur!=None:\n",
    "            tmp=cur.next\n",
    "            cur.next=prev\n",
    "            prev=cur\n",
    "            cur=tmp\n",
    "            cnt+=1\n",
    "        # 返回 head tail\n",
    "        return prev,head,tmp\n",
    "    ## head,tail,next node\n",
    "    new_head,new_tail,next_node=reverse(cur,right-left+1)\n",
    "    prev.next=new_head\n",
    "    if new_tail:\n",
    "        new_tail.next=next_node\n",
    "    return empty_head.next # 按理来说是 head ,如果left==1那就是 new_head\n",
    "    # reverse(cur,right-left+1)"
   ]
  }
 ],
 "metadata": {
  "language_info": {
   "name": "python"
  }
 },
 "nbformat": 4,
 "nbformat_minor": 2
}
