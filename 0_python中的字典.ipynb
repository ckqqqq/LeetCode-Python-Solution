{
 "cells": [
  {
   "cell_type": "code",
   "execution_count": 8,
   "metadata": {},
   "outputs": [
    {
     "name": "stdout",
     "output_type": "stream",
     "text": [
      "defaultdict(<class 'collections.deque'>, {'1': deque([1])})\n",
      "defaultdict(<class 'collections.deque'>, {'1': deque([])})\n",
      "True\n",
      "0\n"
     ]
    }
   ],
   "source": [
    "# defaultdict的强大，可以在字典中默认元素为队列\n",
    "from collections import defaultdict, deque\n",
    "dic=defaultdict(deque)\n",
    "dic[\"1\"].append(1)\n",
    "print(dic)\n",
    "dic[\"1\"].popleft()\n",
    "print(dic)\n",
    "print(\"1\" in dic)\n",
    "print(len(dic[\"1\"]))"
   ]
  }
 ],
 "metadata": {
  "kernelspec": {
   "display_name": "base",
   "language": "python",
   "name": "python3"
  },
  "language_info": {
   "codemirror_mode": {
    "name": "ipython",
    "version": 3
   },
   "file_extension": ".py",
   "mimetype": "text/x-python",
   "name": "python",
   "nbconvert_exporter": "python",
   "pygments_lexer": "ipython3",
   "version": "3.9.12 (main, Apr  4 2022, 05:22:27) [MSC v.1916 64 bit (AMD64)]"
  },
  "orig_nbformat": 4,
  "vscode": {
   "interpreter": {
    "hash": "7b93ae2ddedcfb4b7ddebf80c8c7984044339b2e43f10e14b9461f3e640893f2"
   }
  }
 },
 "nbformat": 4,
 "nbformat_minor": 2
}
