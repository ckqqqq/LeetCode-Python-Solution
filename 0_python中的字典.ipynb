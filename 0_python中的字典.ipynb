{
 "cells": [
  {
   "cell_type": "code",
   "execution_count": 8,
   "metadata": {},
   "outputs": [
    {
     "name": "stdout",
     "output_type": "stream",
     "text": [
      "defaultdict(<class 'collections.deque'>, {'1': deque([1])})\n",
      "defaultdict(<class 'collections.deque'>, {'1': deque([])})\n",
      "True\n",
      "0\n"
     ]
    }
   ],
   "source": [
    "# defaultdict的强大，可以在字典中默认元素为队列\n",
    "from collections import defaultdict, deque\n",
    "dic=defaultdict(deque)\n",
    "dic[\"1\"].append(1)\n",
    "print(dic)\n",
    "dic[\"1\"].popleft()\n",
    "print(dic)\n",
    "print(\"1\" in dic)\n",
    "print(len(dic[\"1\"]))"
   ]
  },
  {
   "cell_type": "code",
   "execution_count": null,
   "metadata": {},
   "outputs": [],
   "source": [
    "可以使用 Python 的 collections 模块中的 Counter 类来更简洁地统计词频，示例如下：\n",
    "\n",
    "Copy code\n",
    "from collections import Counter\n",
    "\n",
    "freq = Counter(words)\n",
    "这样就可以得到一个字典，其中键是单词，值是单词出现次数。"
   ]
  },
  {
   "attachments": {},
   "cell_type": "markdown",
   "metadata": {},
   "source": [
    "或者更简洁一点，可以使用 defaultdict，示例如下\n",
    "这样就能在不存在的键访问时默认值为0。\n",
    "是可以的，可以使用字典的 get 方法，示例如下："
   ]
  },
  {
   "cell_type": "code",
   "execution_count": null,
   "metadata": {},
   "outputs": [],
   "source": [
    "from collections import defaultdict\n",
    "freq = defaultdict(int)\n",
    "for word in words:\n",
    "    freq[word] += 1"
   ]
  },
  {
   "attachments": {},
   "cell_type": "markdown",
   "metadata": {},
   "source": [
    "或者使用get\n",
    "这样就可以在一行代码中实现词频统计，不需要使用 if 语句。"
   ]
  },
  {
   "cell_type": "code",
   "execution_count": null,
   "metadata": {},
   "outputs": [],
   "source": [
    "freq = {}\n",
    "for word in words:\n",
    "    freq[word] = freq.get(word, 0) + 1"
   ]
  }
 ],
 "metadata": {
  "kernelspec": {
   "display_name": "base",
   "language": "python",
   "name": "python3"
  },
  "language_info": {
   "codemirror_mode": {
    "name": "ipython",
    "version": 3
   },
   "file_extension": ".py",
   "mimetype": "text/x-python",
   "name": "python",
   "nbconvert_exporter": "python",
   "pygments_lexer": "ipython3",
   "version": "3.9.12 (main, Apr  4 2022, 05:22:27) [MSC v.1916 64 bit (AMD64)]"
  },
  "orig_nbformat": 4,
  "vscode": {
   "interpreter": {
    "hash": "7b93ae2ddedcfb4b7ddebf80c8c7984044339b2e43f10e14b9461f3e640893f2"
   }
  }
 },
 "nbformat": 4,
 "nbformat_minor": 2
}
