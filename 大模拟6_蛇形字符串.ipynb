{
 "cells": [
  {
   "attachments": {},
   "cell_type": "markdown",
   "metadata": {},
   "source": [
    "### 题目描述\n",
    "\n",
    "给定一个字符串，和一个整数n，将它排列成一个n行的蛇形返回。\n",
    "\n",
    "### 示例\n",
    "\n",
    "```\n",
    "P   A   H   N\n",
    "A P L S I I G\n",
    "Y   I   R\n",
    "And then read line by line: \"PAHNAPLSIIGYIR\"\n",
    "\n",
    "Write the code that will take a string and make this conversion given a number of rows:\n",
    "\n",
    "string convert(string s, int numRows);\n",
    "Example 1:\n",
    "\n",
    "Input: s = \"PAYPALISHIRING\", numRows = 3\n",
    "Output: \"PAHNAPLSIIGYIR\"\n",
    "Example 2:\n",
    "\n",
    "Input: s = \"PAYPALISHIRING\", numRows = 4\n",
    "Output: \"PINALSIGYAHRPI\"\n",
    "Explanation:\n",
    "\n",
    "P     I    N\n",
    "A   L S  I G\n",
    "Y A   H R\n",
    "P     I\n",
    "```\n",
    "\n",
    "给定字符串和蛇形排列占据的行数，要求返回重新排列后的串"
   ]
  },
  {
   "cell_type": "code",
   "execution_count": 7,
   "metadata": {},
   "outputs": [
    {
     "name": "stdout",
     "output_type": "stream",
     "text": [
      "PAHNAPLSIIGYIR\n",
      "PINALSIGYAHRPI\n"
     ]
    }
   ],
   "source": [
    "# 其实搞复杂了，不需要按照间隔遍历,只需要 \n",
    "class Solution:\n",
    "    def convert(self, s: str, numRows: int) -> str:\n",
    "        LEN=len(s)\n",
    "        cur_row=0\n",
    "        delta=-1# 注意 0% 任何数==0\n",
    "        ans=[\"\" for _ in range(numRows)]\n",
    "        for i in range(LEN):\n",
    "            # print(cur_row,s[i])\n",
    "            ans[cur_row]=ans[cur_row]+s[i]\n",
    "            if i%(numRows-1)==0:\n",
    "                delta*=-1\n",
    "            cur_row+=delta\n",
    "        # print(ans)\n",
    "        return \"\".join(ans)\n",
    "solution=Solution()\n",
    "print(solution.convert(s = \"PAYPALISHIRING\", numRows = 3))\n",
    "#  = \"PAYPALISHIRING\", numRows = 4\n",
    "print(solution.convert(s = \"PAYPALISHIRING\", numRows = 4))\n",
    "        "
   ]
  },
  {
   "cell_type": "code",
   "execution_count": null,
   "metadata": {},
   "outputs": [],
   "source": [
    "# 最快速的正解，其实差不多zigzag -锯齿的\n",
    "class Solution:\n",
    "    def convert(self, s: str, numRows: int) -> str:\n",
    "        if numRows == 1 or numRows >= len(s):\n",
    "            return s\n",
    "        \n",
    "        zigzag = [\"\" for x in range(numRows)]\n",
    "        row, step = 0, 1\n",
    "        \n",
    "        for crct in s:\n",
    "            zigzag[row] += crct\n",
    "            \n",
    "            if row == 0:\n",
    "               step = 1\n",
    "            elif row == numRows - 1:\n",
    "               step = -1\n",
    "            \n",
    "            row += step\n",
    "            \n",
    "        return \"\".join(zigzag)\n",
    "    "
   ]
  },
  {
   "cell_type": "code",
   "execution_count": 10,
   "metadata": {},
   "outputs": [
    {
     "name": "stdout",
     "output_type": "stream",
     "text": [
      "0.0 0 0\n"
     ]
    }
   ],
   "source": [
    "print(0/2,0%2,0//2)"
   ]
  }
 ],
 "metadata": {
  "kernelspec": {
   "display_name": "base",
   "language": "python",
   "name": "python3"
  },
  "language_info": {
   "codemirror_mode": {
    "name": "ipython",
    "version": 3
   },
   "file_extension": ".py",
   "mimetype": "text/x-python",
   "name": "python",
   "nbconvert_exporter": "python",
   "pygments_lexer": "ipython3",
   "version": "3.9.12 (main, Apr  4 2022, 05:22:27) [MSC v.1916 64 bit (AMD64)]"
  },
  "orig_nbformat": 4,
  "vscode": {
   "interpreter": {
    "hash": "7b93ae2ddedcfb4b7ddebf80c8c7984044339b2e43f10e14b9461f3e640893f2"
   }
  }
 },
 "nbformat": 4,
 "nbformat_minor": 2
}
