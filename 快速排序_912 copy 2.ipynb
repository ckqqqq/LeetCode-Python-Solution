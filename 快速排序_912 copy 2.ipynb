{
 "cells": [
  {
   "cell_type": "markdown",
   "metadata": {},
   "source": [
    "# 912. 排序数组\n",
    "English Version\n",
    "\n",
    "## 题目描述\n",
    "给你一个整数数组 nums，请你将该数组升序排列。\n",
    "\n",
    " \n",
    "\n",
    "### 示例 1：\n",
    "\n",
    "输入：nums = [5,2,3,1]\n",
    "输出：[1,2,3,5]\n",
    "示例 2：\n",
    "\n",
    "输入：nums = [5,1,1,2,0,0]\n",
    "输出：[0,0,1,1,2,5]\n",
    " \n",
    "\n",
    "### 提示：\n",
    "\n",
    "1 <= nums.length <= 5 * 104\n",
    "-5 * 104 <= nums[i] <= 5 * 104\n",
    "## 解法\n",
    "方法一：快速排序\n",
    "\n",
    "方法二：归并排序\n",
    "\n",
    "以上两种方法时间复杂度均为 O(nlogn)。"
   ]
  },
  {
   "cell_type": "markdown",
   "metadata": {},
   "source": [
    "[5,2,1,3]\n",
    " i     j\n",
    " \n",
    " 3 2 1 3\n",
    " i     j\n",
    " 3 2 1 3\n",
    "   i   j\n",
    " 3 2 1 3\n",
    "     i j\n",
    " 3 2 1 5\n",
    "\n",
    " 3 2 1\n",
    " i   j\n",
    " 1 2 1\n",
    "   i j\n",
    " 1 2 2\n",
    "   ij"
   ]
  },
  {
   "cell_type": "code",
   "execution_count": null,
   "metadata": {},
   "outputs": [],
   "source": [
    "### 快速排序 \n",
    "## 时间O(nlog)额外空间O(1)\n",
    "5 8 3 2 1\n",
    "\n",
    "1 8 3 2 1\n",
    "\n",
    "1 8 3 2 8\n",
    "\n",
    "1 2 3 2 8\n",
    "i指针后移\n",
    "1 2 3 2 8\n",
    "i指针后移\n",
    "\n"
   ]
  },
  {
   "cell_type": "code",
   "execution_count": 3,
   "metadata": {},
   "outputs": [
    {
     "name": "stdout",
     "output_type": "stream",
     "text": [
      "0 3 [5, 8, 1, 3]\n",
      "1 3 [3, 8, 1, 3] 5\n",
      "1 2 [3, 8, 1, 8]\n",
      "2 2 [3, 1, 1, 8] 5\n",
      "[3, 1, 5, 8] 2\n",
      "0 1 [3, 1, 5, 8]\n",
      "1 1 [1, 1, 5, 8] 3\n",
      "[1, 3, 5, 8] 1\n",
      "None\n",
      "0 3 [5, 2, 3, 1]\n",
      "1 3 [1, 2, 3, 1] 5\n",
      "[1, 2, 3, 5] 3\n",
      "0 2 [1, 2, 3, 5]\n",
      "0 0 [1, 2, 3, 5] 1\n",
      "[1, 2, 3, 5] 0\n",
      "1 2 [1, 2, 3, 5]\n",
      "1 1 [1, 2, 3, 5] 2\n",
      "[1, 2, 3, 5] 1\n",
      "None\n",
      "0 4 [1, 0, 0, 8, 5]\n",
      "1 2 [0, 0, 0, 8, 5] 1\n",
      "[0, 0, 1, 8, 5] 2\n",
      "0 1 [0, 0, 1, 8, 5]\n",
      "1 1 [0, 0, 1, 8, 5] 0\n",
      "[0, 0, 1, 8, 5] 1\n",
      "3 4 [0, 0, 1, 8, 5]\n",
      "4 4 [0, 0, 1, 5, 5] 8\n",
      "[0, 0, 1, 5, 8] 4\n",
      "None\n"
     ]
    }
   ],
   "source": [
    "#python中的引用和递归\n",
    "#快速排序\n",
    "from typing import List\n",
    "class Solution:\n",
    "    def sortnumsay(self, nums: List[int]) -> List[int]:\n",
    "\n",
    "        def partition(nums, low, high):\n",
    "            pivot = nums[low]                                        # 选取最左边为pivot\n",
    "\n",
    "            left, right = low, high     # 双指针\n",
    "            while left < right:\n",
    "                \n",
    "                while left<right and nums[right] >= pivot:          # 找到右边第一个<pivot的元素\n",
    "                    right -= 1\n",
    "                nums[left] = nums[right]                             # 并将其移动到left处\n",
    "                \n",
    "                while left<right and nums[left] <= pivot:           # 找到左边第一个>pivot的元素\n",
    "                    left += 1\n",
    "                nums[right] = nums[left]                             # 并将其移动到right处\n",
    "            \n",
    "            nums[left] = pivot           # pivot放置到中间left=right处\n",
    "            return left\n",
    "        \n",
    "        def randomPartition(nums, low, high):\n",
    "            pivot_idx = (low+high)//2                   # 随机选择pivot\n",
    "            nums[low], nums[pivot_idx] = nums[pivot_idx], nums[low]     # pivot放置到最左边\n",
    "            return partition(nums, low, high)                        # 调用partition函数\n",
    "\n",
    "        def quickSort(nums, low, high):\n",
    "            if low >= high:             # 递归结束\n",
    "                return  \n",
    "            # mid = partition(nums, low, high)       # 以mid为分割点【非随机选择pivot】\n",
    "            mid = randomPartition(nums, low, high)   # 以mid为分割点【随机选择pivot】\n",
    "            quickSort(nums, low, mid-1)              # 递归对mid两侧元素进行排序\n",
    "            quickSort(nums, mid+1, high)\n",
    "        \n",
    "\n",
    "        quickSort(nums, 0, len(nums)-1)             # 调用快排函数对nums进行排序\n",
    "        return nums\n",
    "            \n",
    "if __name__==\"__main__\":\n",
    "    solution=Solution()\n",
    "    print(solution.sortnumsay([5,8,1,3]))\n",
    "    print(solution.sortnumsay([5,2,3,1]))\n",
    "    print(solution.sortnumsay([1,0,0,8,5]))\n",
    "                    \n",
    "    \n",
    "    "
   ]
  },
  {
   "cell_type": "code",
   "execution_count": 1,
   "metadata": {},
   "outputs": [
    {
     "name": "stdout",
     "output_type": "stream",
     "text": [
      "[1]\n"
     ]
    }
   ],
   "source": [
    "#测试python中的“传引用”\n",
    "from typing import List\n",
    "class Solution:\n",
    "    def sortnumsay(self, nums: List[int]) -> List[int]:\n",
    "        def quick_sort(nums:List[int]):\n",
    "            nums[0]=1\n",
    "        quick_sort(nums)\n",
    "        return nums\n",
    "if __name__==\"__main__\":\n",
    "    solution=Solution()\n",
    "    print(solution.sortnumsay([0]))\n",
    "    \n",
    "    "
   ]
  },
  {
   "cell_type": "code",
   "execution_count": 3,
   "metadata": {},
   "outputs": [
    {
     "name": "stdout",
     "output_type": "stream",
     "text": [
      "[1, 2, 3, 5, 8]\n"
     ]
    }
   ],
   "source": [
    "#1200ms\n",
    "import random\n",
    "from typing import List\n",
    "class Solution:\n",
    "    def sortnumsay(self, nums: List[int]) -> List[int]:\n",
    "        def quick_sort(nums,left,right):\n",
    "            if right<=left:#易错点一：容易写成==，造成i=1 right=1 i=i+1\n",
    "                #ps能用大于等于就别用等于\n",
    "                return \n",
    "            i,j=left,right\n",
    "            #交换第i个\n",
    "            r_index=random.randint(left,right)\n",
    "            nums[left],nums[r_index]=nums[r_index],nums[left]\n",
    "            standard_num=nums[left]\n",
    "            while i<j:\n",
    "                #比他小的还在他的后面，放到前面\n",
    "                while standard_num<nums[j] and i<j:#注意有 与\n",
    "                    j-=1\n",
    "                nums[i]=nums[j]\n",
    "                #比他大的还在其前面\n",
    "                while standard_num>=nums[i] and i<j:\n",
    "                    i+=1\n",
    "                nums[j]=nums[i]\n",
    "            nums[i]=standard_num\n",
    "            quick_sort(nums,left,i-1)\n",
    "            quick_sort(nums,i+1,right)\n",
    "        quick_sort(nums,0,len(nums)-1)#记得也要传引用\n",
    "        # quick_sort(nums,0,len(nums)-1)#两种写法都行\n",
    "        return nums\n",
    "if __name__==\"__main__\":\n",
    "    solution=Solution()\n",
    "    print(solution.sortnumsay([5,8,1,2,3]))"
   ]
  },
  {
   "cell_type": "code",
   "execution_count": null,
   "metadata": {},
   "outputs": [],
   "source": [
    "\n",
    "\n"
   ]
  },
  {
   "cell_type": "markdown",
   "metadata": {},
   "source": []
  }
 ],
 "metadata": {
  "kernelspec": {
   "display_name": "Python 3.9.12 ('base')",
   "language": "python",
   "name": "python3"
  },
  "language_info": {
   "codemirror_mode": {
    "name": "ipython",
    "version": 3
   },
   "file_extension": ".py",
   "mimetype": "text/x-python",
   "name": "python",
   "nbconvert_exporter": "python",
   "pygments_lexer": "ipython3",
   "version": "3.9.12"
  },
  "orig_nbformat": 4,
  "vscode": {
   "interpreter": {
    "hash": "7b93ae2ddedcfb4b7ddebf80c8c7984044339b2e43f10e14b9461f3e640893f2"
   }
  }
 },
 "nbformat": 4,
 "nbformat_minor": 2
}
