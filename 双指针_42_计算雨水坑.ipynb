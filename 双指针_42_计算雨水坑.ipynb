{
 "cells": [
  {
   "cell_type": "code",
   "execution_count": null,
   "metadata": {},
   "outputs": [],
   "source": []
  },
  {
   "attachments": {},
   "cell_type": "markdown",
   "metadata": {},
   "source": [
    "1/4\n",
    "11. Container With Most Water\n",
    "Medium\n",
    "22.4K\n",
    "1.2K\n",
    "Companies\n",
    "You are given an integer array height of length n. There are n vertical lines drawn such that the two endpoints of the ith line are (i, 0) and (i, height[i]).\n",
    "\n",
    "Find two lines that together with the x-axis form a container, such that the container contains the most water.\n",
    "\n",
    "Return the maximum amount of water a container can store.\n",
    "\n",
    "Notice that you may not slant the container.\n",
    "\n",
    " \n",
    "\n",
    "Example 1:\n",
    "\n",
    "\n",
    "Input: height = [1,8,6,2,5,4,8,3,7]\n",
    "Output: 49\n",
    "Explanation: The above vertical lines are represented by array [1,8,6,2,5,4,8,3,7]. In this case, the max area of water (blue section) the container can contain is 49.\n",
    "Example 2:\n",
    "\n",
    "Input: height = [1,1]\n",
    "Output: 1\n",
    " \n",
    "\n",
    "Constraints:\n",
    "\n",
    "n == height.length\n",
    "2 <= n <= 105\n",
    "0 <= height[i] <= 104\n",
    "Accepted\n",
    "1.9M\n",
    "Submissions\n",
    "3.6M\n",
    "Acceptance Rate\n",
    "54.2%"
   ]
  },
  {
   "attachments": {},
   "cell_type": "markdown",
   "metadata": {},
   "source": [
    "![.\\双指针_42_计算雨水坑.png](.\\双指针_42_计算雨水坑.png)\n",
    "\n",
    "\n"
   ]
  },
  {
   "cell_type": "code",
   "execution_count": 10,
   "metadata": {},
   "outputs": [
    {
     "name": "stdout",
     "output_type": "stream",
     "text": [
      "6\n",
      "9\n",
      "1\n",
      "1\n"
     ]
    }
   ],
   "source": [
    "from typing import List# 罚时两次\n",
    "class Solution:\n",
    "    def trap(self, height: List[int]) -> int:\n",
    "        left,right=0,len(height)-1\n",
    "        lmax,rmax=height[left],height[right]\n",
    "        result=0\n",
    "        while left<=right: #一开始就要尽可能多的设置参数，然后模拟起跑的情况和到达终点的情况万无一失才提交\n",
    "            while left<=right and lmax<=rmax:\n",
    "                if height[left]>lmax:\n",
    "                    lmax=height[left]\n",
    "                elif height[left]<lmax:\n",
    "                    result+=lmax-height[left]\n",
    "                left+=1\n",
    "            while left<=right and rmax<=lmax:\n",
    "                if height[right]>rmax:\n",
    "                    rmax=height[right]\n",
    "                elif height[right]<rmax:\n",
    "                    result+=rmax-height[right]\n",
    "                right-=1\n",
    "        return result\n",
    "solution=Solution()\n",
    "print(solution.trap([0,1,0,2,1,0,1,3,2,1,2,1]))           \n",
    "print(solution.trap([4,2,0,3,2,5]))   \n",
    "print(solution.trap([1,0,1]))  \n",
    "print(solution.trap([4,2,3]))      "
   ]
  },
  {
   "attachments": {},
   "cell_type": "markdown",
   "metadata": {},
   "source": []
  },
  {
   "attachments": {},
   "cell_type": "markdown",
   "metadata": {},
   "source": [
    "\n"
   ]
  }
 ],
 "metadata": {
  "kernelspec": {
   "display_name": "base",
   "language": "python",
   "name": "python3"
  },
  "language_info": {
   "codemirror_mode": {
    "name": "ipython",
    "version": 3
   },
   "file_extension": ".py",
   "mimetype": "text/x-python",
   "name": "python",
   "nbconvert_exporter": "python",
   "pygments_lexer": "ipython3",
   "version": "3.9.12"
  },
  "orig_nbformat": 4,
  "vscode": {
   "interpreter": {
    "hash": "7b93ae2ddedcfb4b7ddebf80c8c7984044339b2e43f10e14b9461f3e640893f2"
   }
  }
 },
 "nbformat": 4,
 "nbformat_minor": 2
}
