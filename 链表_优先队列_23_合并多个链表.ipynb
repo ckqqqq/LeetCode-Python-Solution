{
 "cells": [
  {
   "attachments": {},
   "cell_type": "markdown",
   "metadata": {},
   "source": [
    "23. Merge k Sorted Lists\n",
    "Hard\n",
    "15.2K\n",
    "573\n",
    "Companies\n",
    "You are given an array of k linked-lists lists, each linked-list is sorted in ascending order.\n",
    "\n",
    "Merge all the linked-lists into one sorted linked-list and return it.\n",
    "\n",
    " \n",
    "\n",
    "Example 1:\n",
    "\n",
    "Input: lists = [[1,4,5],[1,3,4],[2,6]]\n",
    "Output: [1,1,2,3,4,4,5,6]\n",
    "Explanation: The linked-lists are:\n",
    "[\n",
    "  1->4->5,\n",
    "  1->3->4,\n",
    "  2->6\n",
    "]\n",
    "merging them into one sorted list:\n",
    "1->1->2->3->4->4->5->6\n",
    "Example 2:\n",
    "\n",
    "Input: lists = []\n",
    "Output: []\n",
    "Example 3:\n",
    "\n",
    "Input: lists = [[]]\n",
    "Output: []\n",
    " \n",
    "\n",
    "Constraints:\n",
    "\n",
    "k == lists.length\n",
    "0 <= k <= 104\n",
    "0 <= lists[i].length <= 500\n",
    "-104 <= lists[i][j] <= 104\n",
    "lists[i] is sorted in ascending order.\n",
    "The sum of lists[i].length will not exceed 104.\n",
    "Accepted\n",
    "1.5M\n",
    "Submissions\n",
    "3.1M\n",
    "Acceptance Rate\n",
    "48.7%"
   ]
  },
  {
   "cell_type": "code",
   "execution_count": null,
   "metadata": {},
   "outputs": [],
   "source": [
    "#又简单又好写的标准正解 空间也是O（1）\n",
    "# 原理就是归并排序,改天再写写\n",
    "# Definition for singly-linked list.\n",
    "# class ListNode:\n",
    "#     def __init__(self, val=0, next=None):\n",
    "#         self.val = val\n",
    "#         self.next = next\n",
    "class Solution(object):\n",
    "    def mergeKLists(self, lists):\n",
    "        if not lists:\n",
    "            return None\n",
    "        if len(lists) == 1:\n",
    "            return lists[0]\n",
    "        mid = len(lists) // 2\n",
    "        l, r = self.mergeKLists(lists[:mid]), self.mergeKLists(lists[mid:])\n",
    "        return self.merge(l, r)\n",
    "    \n",
    "    def merge(self, l, r):\n",
    "        dummy = p = ListNode()\n",
    "        while l and r:\n",
    "            if l.val < r.val:\n",
    "                p.next = l\n",
    "                l = l.next\n",
    "            else:\n",
    "                p.next = r\n",
    "                r = r.next\n",
    "            p = p.next\n",
    "        p.next = l or r\n",
    "        return dummy.next\n"
   ]
  },
  {
   "cell_type": "code",
   "execution_count": null,
   "metadata": {},
   "outputs": [],
   "source": [
    "# 8777 # 记录一下\n",
    "#调试了半天，花了很长时间\n",
    "# Definition for singly-linked list.\n",
    "# class ListNode:\n",
    "#     def __init__(self, val=0, next=None):\n",
    "#self.val = val\n",
    "#         self.next = next\n",
    "#\n",
    "import queue\n",
    "from typing import List\n",
    "class Solution:\n",
    "    def mergeKLists(self, lists: List[Optional[ListNode]]) -> Optional[ListNode]:\n",
    "        infinity=2**40\n",
    "        if len(lists)==0:\n",
    "            return []\n",
    "        else:\n",
    "            # spacial judge\n",
    "            # pri_queue=heapq.heapify([])\n",
    "            pri_que=queue.PriorityQueue()\n",
    "            result=ListNode(10086,None)\n",
    "            prev=result\n",
    "            for id,head in enumerate(lists):# initial\n",
    "                if head !=None:\n",
    "                    pri_que.put((head.val,id))\n",
    "                    \n",
    "            while pri_que.qsize()!=0:\n",
    "                print(pri_que.qsize())\n",
    "                _,id=pri_que.get()#取出队列中最小的 val是当前最小的点\n",
    "                head=lists[id]#取出这个点,这个点一定非空 (not empty)\n",
    "                if head==None:# 这李优化问题\n",
    "                    print(\"logic\")\n",
    "                    return None\n",
    "                prev.next=head#加入答案\n",
    "                prev=head\n",
    "                head=head.next# 后移\n",
    "                if pri_que.qsize()!=0:# find the current smallest val in queue\n",
    "                    cur_smal,cur_id=pri_que.get()\n",
    "                    pri_que.put((cur_smal,cur_id))\n",
    "                else:\n",
    "                    cur_smal=infinity\n",
    "                while head!=None and head.val<=cur_smal: # compare following node\n",
    "                    prev.next=head\n",
    "                    head.next=head\n",
    "                lists[id]=head # 重要一步\n",
    "                if head!=None:\n",
    "                    pri_que.put((head.val,id))\n",
    "            return [prev.next]\n",
    "# 加拿大！！\n",
    "        "
   ]
  },
  {
   "attachments": {},
   "cell_type": "markdown",
   "metadata": {},
   "source": [
    "按理说 我的方法其实和最优方法时间复杂度都是一样的 都是O（k+n*logk）但是我选择了同样时间复杂度里面代码复杂的那个，导致花了很多时间，你要记住，同样级别的时间复杂度优先选择代码最少的"
   ]
  },
  {
   "cell_type": "code",
   "execution_count": 2,
   "metadata": {},
   "outputs": [
    {
     "ename": "NameError",
     "evalue": "name 'Optional' is not defined",
     "output_type": "error",
     "traceback": [
      "\u001b[1;31m---------------------------------------------------------------------------\u001b[0m",
      "\u001b[1;31mNameError\u001b[0m                                 Traceback (most recent call last)",
      "\u001b[1;32md:\\Code\\Python\\Leetcode\\链表_优先队列_23_合并多个链表.ipynb Cell 4\u001b[0m in \u001b[0;36m<cell line: 4>\u001b[1;34m()\u001b[0m\n\u001b[0;32m      <a href='vscode-notebook-cell:/d%3A/Code/Python/Leetcode/%E9%93%BE%E8%A1%A8_%E4%BC%98%E5%85%88%E9%98%9F%E5%88%97_23_%E5%90%88%E5%B9%B6%E5%A4%9A%E4%B8%AA%E9%93%BE%E8%A1%A8.ipynb#W3sZmlsZQ%3D%3D?line=1'>2</a>\u001b[0m \u001b[39mimport\u001b[39;00m \u001b[39mqueue\u001b[39;00m\n\u001b[0;32m      <a href='vscode-notebook-cell:/d%3A/Code/Python/Leetcode/%E9%93%BE%E8%A1%A8_%E4%BC%98%E5%85%88%E9%98%9F%E5%88%97_23_%E5%90%88%E5%B9%B6%E5%A4%9A%E4%B8%AA%E9%93%BE%E8%A1%A8.ipynb#W3sZmlsZQ%3D%3D?line=2'>3</a>\u001b[0m \u001b[39mfrom\u001b[39;00m \u001b[39mtyping\u001b[39;00m \u001b[39mimport\u001b[39;00m List\n\u001b[1;32m----> <a href='vscode-notebook-cell:/d%3A/Code/Python/Leetcode/%E9%93%BE%E8%A1%A8_%E4%BC%98%E5%85%88%E9%98%9F%E5%88%97_23_%E5%90%88%E5%B9%B6%E5%A4%9A%E4%B8%AA%E9%93%BE%E8%A1%A8.ipynb#W3sZmlsZQ%3D%3D?line=3'>4</a>\u001b[0m \u001b[39mclass\u001b[39;00m \u001b[39mSolution\u001b[39;00m:\n\u001b[0;32m      <a href='vscode-notebook-cell:/d%3A/Code/Python/Leetcode/%E9%93%BE%E8%A1%A8_%E4%BC%98%E5%85%88%E9%98%9F%E5%88%97_23_%E5%90%88%E5%B9%B6%E5%A4%9A%E4%B8%AA%E9%93%BE%E8%A1%A8.ipynb#W3sZmlsZQ%3D%3D?line=4'>5</a>\u001b[0m     \u001b[39mdef\u001b[39;00m \u001b[39mmergeKLists\u001b[39m(\u001b[39mself\u001b[39m, lists: List[Optional[ListNode]]) \u001b[39m-\u001b[39m\u001b[39m>\u001b[39m Optional[ListNode]:\n\u001b[0;32m      <a href='vscode-notebook-cell:/d%3A/Code/Python/Leetcode/%E9%93%BE%E8%A1%A8_%E4%BC%98%E5%85%88%E9%98%9F%E5%88%97_23_%E5%90%88%E5%B9%B6%E5%A4%9A%E4%B8%AA%E9%93%BE%E8%A1%A8.ipynb#W3sZmlsZQ%3D%3D?line=5'>6</a>\u001b[0m         pri_que\u001b[39m=\u001b[39mqueue\u001b[39m.\u001b[39mPriorityQueue()\n",
      "\u001b[1;32md:\\Code\\Python\\Leetcode\\链表_优先队列_23_合并多个链表.ipynb Cell 4\u001b[0m in \u001b[0;36mSolution\u001b[1;34m()\u001b[0m\n\u001b[0;32m      <a href='vscode-notebook-cell:/d%3A/Code/Python/Leetcode/%E9%93%BE%E8%A1%A8_%E4%BC%98%E5%85%88%E9%98%9F%E5%88%97_23_%E5%90%88%E5%B9%B6%E5%A4%9A%E4%B8%AA%E9%93%BE%E8%A1%A8.ipynb#W3sZmlsZQ%3D%3D?line=3'>4</a>\u001b[0m \u001b[39mclass\u001b[39;00m \u001b[39mSolution\u001b[39;00m:\n\u001b[1;32m----> <a href='vscode-notebook-cell:/d%3A/Code/Python/Leetcode/%E9%93%BE%E8%A1%A8_%E4%BC%98%E5%85%88%E9%98%9F%E5%88%97_23_%E5%90%88%E5%B9%B6%E5%A4%9A%E4%B8%AA%E9%93%BE%E8%A1%A8.ipynb#W3sZmlsZQ%3D%3D?line=4'>5</a>\u001b[0m     \u001b[39mdef\u001b[39;00m \u001b[39mmergeKLists\u001b[39m(\u001b[39mself\u001b[39m, lists: List[Optional[ListNode]]) \u001b[39m-\u001b[39m\u001b[39m>\u001b[39m Optional[ListNode]:\n\u001b[0;32m      <a href='vscode-notebook-cell:/d%3A/Code/Python/Leetcode/%E9%93%BE%E8%A1%A8_%E4%BC%98%E5%85%88%E9%98%9F%E5%88%97_23_%E5%90%88%E5%B9%B6%E5%A4%9A%E4%B8%AA%E9%93%BE%E8%A1%A8.ipynb#W3sZmlsZQ%3D%3D?line=5'>6</a>\u001b[0m         pri_que\u001b[39m=\u001b[39mqueue\u001b[39m.\u001b[39mPriorityQueue()\n\u001b[0;32m      <a href='vscode-notebook-cell:/d%3A/Code/Python/Leetcode/%E9%93%BE%E8%A1%A8_%E4%BC%98%E5%85%88%E9%98%9F%E5%88%97_23_%E5%90%88%E5%B9%B6%E5%A4%9A%E4%B8%AA%E9%93%BE%E8%A1%A8.ipynb#W3sZmlsZQ%3D%3D?line=6'>7</a>\u001b[0m         \u001b[39mfor\u001b[39;00m idx,head \u001b[39min\u001b[39;00m \u001b[39menumerate\u001b[39m(lists):\n",
      "\u001b[1;31mNameError\u001b[0m: name 'Optional' is not defined"
     ]
    }
   ],
   "source": [
    "# 修改过后的代码\n",
    "import queue\n",
    "from typing import List\n",
    "class Solution:\n",
    "    def mergeKLists(self, lists: List[Optional[ListNode]]) -> Optional[ListNode]:\n",
    "        pri_que=queue.PriorityQueue()\n",
    "        for idx,head in enumerate(lists):\n",
    "            if head!=None:\n",
    "                pri_que.put((head.val,idx))\n",
    "        res=ListNode(10086,None)\n",
    "        prev=res\n",
    "        while pri_que.qsize()!=0:\n",
    "            val,idx=pri_que.get()\n",
    "            assert not lists[idx],\"logic problem {}\".format(idx)\n",
    "            prev.next=lists[idx]\n",
    "            prev=prev.next\n",
    "            print(type(lists[idx]))\n",
    "            lists[idx]=lists[idx].next\n",
    "            while lists[idx]!=None and val==lists[idx].val:\n",
    "                # add into res and \n",
    "                lists[idx]=lists[idx].next\n",
    "                prev=list[idx]\n",
    "                # prev.next=lists[idx] prev=prev.next\n",
    "            if lists[idx]!=None:\n",
    "                pri_que.put((lists[idx].val,idx)) # add begger next node\n",
    "        return res.next"
   ]
  },
  {
   "cell_type": "code",
   "execution_count": 4,
   "metadata": {},
   "outputs": [
    {
     "ename": "AssertionError",
     "evalue": "x must be greater than 0, but got -5",
     "output_type": "error",
     "traceback": [
      "\u001b[1;31m---------------------------------------------------------------------------\u001b[0m",
      "\u001b[1;31mAssertionError\u001b[0m                            Traceback (most recent call last)",
      "\u001b[1;32md:\\Code\\Python\\Leetcode\\链表_优先队列_23_合并多个链表.ipynb Cell 5\u001b[0m in \u001b[0;36m<cell line: 2>\u001b[1;34m()\u001b[0m\n\u001b[0;32m      <a href='vscode-notebook-cell:/d%3A/Code/Python/Leetcode/%E9%93%BE%E8%A1%A8_%E4%BC%98%E5%85%88%E9%98%9F%E5%88%97_23_%E5%90%88%E5%B9%B6%E5%A4%9A%E4%B8%AA%E9%93%BE%E8%A1%A8.ipynb#X10sZmlsZQ%3D%3D?line=0'>1</a>\u001b[0m x \u001b[39m=\u001b[39m \u001b[39m-\u001b[39m\u001b[39m5\u001b[39m\n\u001b[1;32m----> <a href='vscode-notebook-cell:/d%3A/Code/Python/Leetcode/%E9%93%BE%E8%A1%A8_%E4%BC%98%E5%85%88%E9%98%9F%E5%88%97_23_%E5%90%88%E5%B9%B6%E5%A4%9A%E4%B8%AA%E9%93%BE%E8%A1%A8.ipynb#X10sZmlsZQ%3D%3D?line=1'>2</a>\u001b[0m \u001b[39massert\u001b[39;00m x \u001b[39m>\u001b[39m \u001b[39m0\u001b[39m, \u001b[39mf\u001b[39m\u001b[39m\"\u001b[39m\u001b[39mx must be greater than 0, but got \u001b[39m\u001b[39m{\u001b[39;00mx\u001b[39m}\u001b[39;00m\u001b[39m\"\u001b[39m\n",
      "\u001b[1;31mAssertionError\u001b[0m: x must be greater than 0, but got -5"
     ]
    }
   ],
   "source": [
    "x = -5\n",
    "assert x > 0, f\"x must be greater than 0, but got {x}\"\n"
   ]
  },
  {
   "attachments": {},
   "cell_type": "markdown",
   "metadata": {},
   "source": [
    "import queue\n"
   ]
  },
  {
   "cell_type": "code",
   "execution_count": 11,
   "metadata": {},
   "outputs": [
    {
     "name": "stdout",
     "output_type": "stream",
     "text": [
      "(1, 2)\n",
      "(2, 1)\n"
     ]
    }
   ],
   "source": [
    "import queue\n",
    "test_que=queue.PriorityQueue()\n",
    "test_que.put((2,1))#注意这个元祖，前面那个才是优先级\n",
    "test_que.put((1,2))# 注意这是个元祖\n",
    "while test_que.qsize()!=0:\n",
    "    wholething=test_que.get()\n",
    "    print(wholething)"
   ]
  },
  {
   "cell_type": "code",
   "execution_count": 3,
   "metadata": {},
   "outputs": [
    {
     "name": "stdout",
     "output_type": "stream",
     "text": [
      "(0, 1)\n",
      "(1, 0)\n",
      "(1, 1)\n"
     ]
    }
   ],
   "source": [
    "import heapq\n",
    "test_que=[]\n",
    "heapq.heapify(test_que)\n",
    "heapq.heappush(test_que,(0,1))\n",
    "heapq.heappush(test_que,(1,1))\n",
    "heapq.heappush(test_que,(1,0))\n",
    "while len(test_que)!=0:\n",
    "    print(heapq.heappop(test_que)) "
   ]
  }
 ],
 "metadata": {
  "kernelspec": {
   "display_name": "base",
   "language": "python",
   "name": "python3"
  },
  "language_info": {
   "codemirror_mode": {
    "name": "ipython",
    "version": 3
   },
   "file_extension": ".py",
   "mimetype": "text/x-python",
   "name": "python",
   "nbconvert_exporter": "python",
   "pygments_lexer": "ipython3",
   "version": "3.9.12"
  },
  "orig_nbformat": 4,
  "vscode": {
   "interpreter": {
    "hash": "7b93ae2ddedcfb4b7ddebf80c8c7984044339b2e43f10e14b9461f3e640893f2"
   }
  }
 },
 "nbformat": 4,
 "nbformat_minor": 2
}
