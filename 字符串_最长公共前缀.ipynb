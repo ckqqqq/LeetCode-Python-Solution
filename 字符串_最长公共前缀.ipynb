{
 "cells": [
  {
   "attachments": {},
   "cell_type": "markdown",
   "metadata": {},
   "source": [
    "14. Longest Common Prefix\n",
    "Easy\n",
    "12.1K\n",
    "3.6K\n",
    "Companies\n",
    "Write a function to find the longest common prefix string amongst an array of strings.\n",
    "\n",
    "If there is no common prefix, return an empty string \"\".\n",
    "\n",
    " \n",
    "\n",
    "Example 1:\n",
    "\n",
    "Input: strs = [\"flower\",\"flow\",\"flight\"]\n",
    "Output: \"fl\"\n",
    "Example 2:\n",
    "\n",
    "Input: strs = [\"dog\",\"racecar\",\"car\"]\n",
    "Output: \"\"\n",
    "Explanation: There is no common prefix among the input strings.\n",
    " \n",
    "\n",
    "Constraints:\n",
    "\n",
    "1 <= strs.length <= 200\n",
    "0 <= strs[i].length <= 200\n",
    "strs[i] consists of only lowercase English letters."
   ]
  },
  {
   "cell_type": "code",
   "execution_count": 15,
   "metadata": {},
   "outputs": [
    {
     "name": "stdout",
     "output_type": "stream",
     "text": [
      "s i {'a'} ('a', 'a', 'a')\n",
      "s i {'b', 'e', 'h'} ('b', 'e', 'h')\n",
      "a\n"
     ]
    }
   ],
   "source": [
    "# 我自己的解法比较简单，先看官方的解法一，分组打包（python真方便）\n",
    "from typing import List\n",
    "class Solution:\n",
    "    def longestCommonPrefix(self, strs: List[str]) -> str:\n",
    "        res = \"\"\n",
    "\n",
    "        for i in list(zip(*strs)):\n",
    "            s = set(i)# 将多个相同位置的字符元祖去重\n",
    "            print(\"s i\",s,i)\n",
    "            if len(s) == 1:\n",
    "                res += s.pop()\n",
    "            else:\n",
    "                break\n",
    "                \n",
    "        return res\n",
    "solution=Solution()\n",
    "print(solution.longestCommonPrefix(['abc', 'aef', 'ahi']))"
   ]
  },
  {
   "attachments": {},
   "cell_type": "markdown",
   "metadata": {},
   "source": [
    "list(zip(*strs)) 这个*是这么意思呢，整个代码又是什么意思呢？\n",
    "## ChatGPT\n",
    "在 Python 中，* 在函数调用中被用作分配关键字参数（例如：*args 和 **kwargs）或将一个可迭代对象分解为单独的元素。\n",
    "***str就是拆分字符串的每个元素**\n",
    "\n",
    "在这种情况下，* 将用于将字符串列表 strs 中的每个字符串分解为单独的元素，然后将它们传递给 zip 函数。\n",
    "\n",
    "例如，假设 strs 的值为 ['abc', 'def', 'ghi']，则调用 list(zip(*strs)) 等效于调用 list(zip('abc', 'def', 'ghi'))，它将返回以下列表：\n",
    "\n",
    "[('a', 'd', 'g'), ('b', 'e', 'h'), ('c', 'f', 'i')]\n",
    "\n",
    "代码的整体意思是遍历输入的字符串列表中的每个位置的字符，如果所有字符都相同，则将其添加到结果字符串中，否则终止循环并返回结果字符串。\n",
    "```\n",
    "print(list(zip(*strs)),list(zip(strs)))\n",
    "[('a', 'a', 'a'), ('b', 'e', 'h'), ('c', 'f', 'i')] [('abc',), ('aef',), ('ahi',)]\n",
    "```\n",
    "**zip则是打包多个大小相等的元祖**\n",
    "\n",
    "zip 函数用于将多个可迭代对象中的元素打包成一个个元组，然后返回由这些元组组成的对象，这被称为“压缩”。\n",
    "例如，假设你有两个列表：\n",
    "\n",
    "names = ['Alice', 'Bob', 'Charlie']\n",
    "ages = [25, 30, 35]\n",
    "\n",
    "可以使用 zip 函数将它们“压缩”到一起：\n",
    "\n",
    "zipped = zip(names, ages)\n",
    "\n",
    "此时，zipped 是一个可迭代的对象，它包含以下元组：\n",
    "\n",
    "[('Alice', 25), ('Bob', 30), ('Charlie', 35)]"
   ]
  },
  {
   "cell_type": "code",
   "execution_count": 19,
   "metadata": {},
   "outputs": [
    {
     "name": "stdout",
     "output_type": "stream",
     "text": [
      "zip是打包函数，用于将多个元祖合并 [('a', 'a', 'a'), ('b', 'e', 'h'), ('c', 'f', 'i')] *str代表拆分元素中的元祖 abc aef ahi ['abc', 'aef', 'ahi']\n",
      "[('a', 'a', 'a'), ('b', 'e', 'h'), ('c', 'f', 'i')] [('abc',), ('aef',), ('ahi',)]\n",
      "遍历i ('a', 'a', 'a') {'a'}\n",
      "遍历i ('b', 'e', 'h') {'b', 'e', 'h'}\n",
      "遍历i ('c', 'f', 'i') {'c', 'i', 'f'}\n"
     ]
    }
   ],
   "source": [
    "strs=['abc', 'aef', 'ahi']\n",
    "print(\"zip是打包函数，用于将多个元祖合并\",list(zip(*strs)),\"*str代表拆分元素中的元祖\",*strs,strs)\n",
    "list(zip('abc', 'def', 'ghi'))\n",
    "\n",
    "for i in list(zip(*strs)):\n",
    "    s = set(i)\n",
    "    print(\"遍历i\",i,set(i))"
   ]
  },
  {
   "cell_type": "code",
   "execution_count": null,
   "metadata": {},
   "outputs": [],
   "source": [
    "# 官方解法二\n",
    "class Solution:\n",
    "    def longestCommonPrefix(self, strs: List[str]) -> str:\n",
    "        pre = strs[0]\n",
    "        for i in strs:\n",
    "            while not i.startswith(pre):# 使用字符串对比 最坏时间复杂度高，但是由于调用了python的api...\n",
    "                #O（n*len(pre)*len(pre））# 对比\n",
    "                pre = pre[:-1]\n",
    "\n",
    "        return pre"
   ]
  },
  {
   "cell_type": "code",
   "execution_count": null,
   "metadata": {},
   "outputs": [],
   "source": [
    "# 官方解法三  排序+从小开始\n",
    "class Solution:\n",
    "    def longestCommonPrefix(self, strs: List[str]) -> str:\n",
    "        min_word = sorted(strs, key=len)[0]# 先排序从小的开始# ps这里可以去换成时间复杂度更低的\n",
    "        #它首先使用 Python 的 sorted 函数将字符串列表按长度排序，并取最短的字符串。然后使用 for 循环迭代最短的字符串的每个字符\n",
    "        prefix = ''\n",
    "        for idx, val in enumerate(min_word):# 还是用这个迭代比较好\n",
    "            for j in strs: \n",
    "                if j[idx] != val: \n",
    "                    return(prefix)\n",
    "            prefix+=val\n",
    "        return(prefix)"
   ]
  }
 ],
 "metadata": {
  "kernelspec": {
   "display_name": "base",
   "language": "python",
   "name": "python3"
  },
  "language_info": {
   "codemirror_mode": {
    "name": "ipython",
    "version": 3
   },
   "file_extension": ".py",
   "mimetype": "text/x-python",
   "name": "python",
   "nbconvert_exporter": "python",
   "pygments_lexer": "ipython3",
   "version": "3.9.12"
  },
  "orig_nbformat": 4,
  "vscode": {
   "interpreter": {
    "hash": "7b93ae2ddedcfb4b7ddebf80c8c7984044339b2e43f10e14b9461f3e640893f2"
   }
  }
 },
 "nbformat": 4,
 "nbformat_minor": 2
}
