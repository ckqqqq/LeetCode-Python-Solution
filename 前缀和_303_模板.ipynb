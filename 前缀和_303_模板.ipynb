{
 "cells": [
  {
   "cell_type": "markdown",
   "metadata": {},
   "source": [
    "### 为什么需要前缀和?\n",
    "#### 原因一:将非负数组转为递增数组\n",
    "#### 原因二:O（1）级别定位(i,j)索引之间的元素和（O（n）级别的空间复杂度）\n",
    "#### 原因三:查分数组的前缀和就是平顶山数组，见第370题\n",
    "#### 原因四:树状数组"
   ]
  },
  {
   "cell_type": "markdown",
   "metadata": {},
   "source": [
    "# [303. 区域和检索 - 数组不可变](https://leetcode.cn/problems/range-sum-query-immutable)\n",
    "\n",
    "[English Version](/solution/0300-0399/0303.Range%20Sum%20Query%20-%20Immutable/README_EN.md)\n",
    "\n",
    "## 题目描述\n",
    "\n",
    "<!-- 这里写题目描述 -->\n",
    "\n",
    "<p>给定一个整数数组 &nbsp;<code>nums</code>，处理以下类型的多个查询:</p>\n",
    "\n",
    "<ol>\n",
    "\t<li>计算索引&nbsp;<code>left</code>&nbsp;和&nbsp;<code>right</code>&nbsp;（包含 <code>left</code> 和 <code>right</code>）之间的 <code>nums</code> 元素的 <strong>和</strong> ，其中&nbsp;<code>left &lt;= right</code></li>\n",
    "</ol>\n",
    "\n",
    "<p>实现 <code>NumArray</code> 类：</p>\n",
    "\n",
    "<ul>\n",
    "\t<li><code>NumArray(int[] nums)</code> 使用数组 <code>nums</code> 初始化对象</li>\n",
    "\t<li><code>int sumRange(int i, int j)</code> 返回数组 <code>nums</code>&nbsp;中索引&nbsp;<code>left</code>&nbsp;和&nbsp;<code>right</code>&nbsp;之间的元素的 <strong>总和</strong> ，包含&nbsp;<code>left</code>&nbsp;和&nbsp;<code>right</code>&nbsp;两点（也就是&nbsp;<code>nums[left] + nums[left + 1] + ... + nums[right]</code>&nbsp;)</li>\n",
    "</ul>\n",
    "\n",
    "<p>&nbsp;</p>\n",
    "\n",
    "<p><strong>示例 1：</strong></p>\n",
    "\n",
    "<pre>\n",
    "<strong>输入：</strong>\n",
    "[\"NumArray\", \"sumRange\", \"sumRange\", \"sumRange\"]\n",
    "[[[-2, 0, 3, -5, 2, -1]], [0, 2], [2, 5], [0, 5]]\n",
    "<strong>输出：\n",
    "</strong>[null, 1, -1, -3]\n",
    "\n",
    "<strong>解释：</strong>\n",
    "NumArray numArray = new NumArray([-2, 0, 3, -5, 2, -1]);\n",
    "numArray.sumRange(0, 2); // return 1 ((-2) + 0 + 3)\n",
    "numArray.sumRange(2, 5); // return -1 (3 + (-5) + 2 + (-1)) \n",
    "numArray.sumRange(0, 5); // return -3 ((-2) + 0 + 3 + (-5) + 2 + (-1))\n",
    "</pre>\n",
    "\n",
    "<p>&nbsp;</p>\n",
    "\n",
    "<p><strong>提示：</strong></p>\n",
    "\n",
    "<ul>\n",
    "\t<li><code>1 &lt;= nums.length &lt;= 10<sup>4</sup></code></li>\n",
    "\t<li><code>-10<sup>5</sup>&nbsp;&lt;= nums[i] &lt;=&nbsp;10<sup>5</sup></code></li>\n",
    "\t<li><code>0 &lt;= i &lt;= j &lt; nums.length</code></li>\n",
    "\t<li>最多调用 <code>10<sup>4</sup></code> 次 <code>sumRange</code><strong> </strong>方法</li>\n",
    "</ul>\n",
    "\n",
    "## 解法\n",
    "\n",
    "<!-- 这里可写通用的实现逻辑 -->\n",
    "\n",
    "**方法一：前缀和**\n",
    "\n",
    "前缀和计算公式：`s[i + 1] = s[i] + nums[i]`。\n",
    "\n",
    "<!-- tabs:start -->"
   ]
  },
  {
   "cell_type": "code",
   "execution_count": null,
   "metadata": {},
   "outputs": [],
   "source": [
    "# [303. 区域和检索 - 数组不可变](https://leetcode.cn/problems/range-sum-query-immutable)\n",
    "\n",
    "[English Version](/solution/0300-0399/0303.Range%20Sum%20Query%20-%20Immutable/README_EN.md)\n",
    "\n",
    "## 题目描述\n",
    "\n",
    "<!-- 这里写题目描述 -->\n",
    "\n",
    "<p>给定一个整数数组 &nbsp;<code>nums</code>，处理以下类型的多个查询:</p>\n",
    "\n",
    "<ol>\n",
    "\t<li>计算索引&nbsp;<code>left</code>&nbsp;和&nbsp;<code>right</code>&nbsp;（包含 <code>left</code> 和 <code>right</code>）之间的 <code>nums</code> 元素的 <strong>和</strong> ，其中&nbsp;<code>left &lt;= right</code></li>\n",
    "\t<li><code>int sumRange(int i, int j)</code> 返回数组 <code>nums</code>&nbsp;中索引&nbsp;<code>left</code>&nbsp;和&nbsp;<code>right</code>&nbsp;之间的元素的 <strong>总和</strong> ，包含&nbsp;<code>left</code>&nbsp;和&nbsp;<code>right</code>&nbsp;两点（也就是&nbsp;<code>nums[left] + nums[left + 1] + ... + nums[right]</code>&nbsp;)</li>\n",
    "</ul>\n",
    "\n",
    "<p>&nbsp;</p>\n",
    "\n",
    "<p><strong>示例 1：</strong></p>\n",
    "\n",
    "<pre>\n",
    "<strong>输入：</strong>\n",
    "[\"NumArray\", \"sumRange\", \"sumRange\", \"sumRange\"]\n",
    "[[[-2, 0, 3, -5, 2, -1]], [0, 2], [2, 5], [0, 5]]\n",
    "<strong>输出：\n",
    "</strong>[null, 1, -1, -3]\n",
    "\n",
    "<strong>解释：</strong>\n",
    "NumArray numArray = new NumArray([-2, 0, 3, -5, 2, -1]);\n",
    "numArray.sumRange(0, 2); // return 1 ((-2) + 0 + 3)\n",
    "numArray.sumRange(2, 5); // return -1 (3 + (-5) + 2 + (-1)) \n",
    "numArray.sumRange(0, 5); // return -3 ((-2) + 0 + 3 + (-5) + 2 + (-1))\n",
    "</pre>\n",
    "\n",
    "<p>&nbsp;</p>\n",
    "\n",
    "<p><strong>提示：</strong></p>\n",
    "\n",
    "<ul>\n",
    "\t<li><code>1 &lt;= nums.length &lt;= 10<sup>4</sup></code></li>\n",
    "\t<li><code>-10<sup>5</sup>&nbsp;&lt;= nums[i] &lt;=&nbsp;10<sup>5</sup></code></li>\n",
    "\t<li><code>0 &lt;= i &lt;= j &lt; nums.length</code></li>\n",
    "\t<li>最多调用 <code>10<sup>4</sup></code> 次 <code>sumRange</code><strong> </strong>方法</li>\n",
    "</ul>\n",
    "\n",
    "## 解法\n",
    "\n",
    "<!-- 这里可写通用的实现逻辑 -->\n",
    "\n",
    "**方法一：前缀和**\n",
    "\n",
    "前缀和计算公式：`s[i + 1] = s[i] + nums[i]`。\n",
    "\n",
    "<!-- tabs:start -->\n",
    "\n",
    "### **Python3**\n",
    "\n",
    "<!-- 这里可写当前语言的特殊实现逻辑 -->\n",
    "\n",
    "```python\n",
    "class NumArray:\n",
    "\n",
    "    def __init__(self, nums: List[int]):\n",
    "        self.s = [0] + list(accumulate(nums))\n",
    "\n",
    "    def sumRange(self, left: int, right: int) -> int:\n",
    "        return self.s[right + 1] - self.s[left]\n",
    "\n",
    "\n",
    "# Your NumArray object will be instantiated and called as such:\n",
    "# obj = NumArray(nums)\n",
    "# param_1 = obj.sumRange(left,right)\n",
    "```\n",
    "\n",
    "### **Java**\n",
    "\n"
   ]
  },
  {
   "cell_type": "markdown",
   "metadata": {},
   "source": [
    "### self.s\n",
    "类中自带的函数和变量\n",
    "### accumulate()获得前缀和"
   ]
  },
  {
   "cell_type": "markdown",
   "metadata": {},
   "source": []
  },
  {
   "cell_type": "code",
   "execution_count": 2,
   "metadata": {},
   "outputs": [
    {
     "name": "stdout",
     "output_type": "stream",
     "text": [
      "[1, 3, 7]\n"
     ]
    }
   ],
   "source": [
    "import itertools\n",
    "#引入一个迭代器库\n",
    "#其中的itertools.accumulate就是生成前缀和\n",
    "if __name__==\"__main__\":\n",
    "    print(list(itertools.accumulate([1,2,4])))"
   ]
  },
  {
   "cell_type": "code",
   "execution_count": null,
   "metadata": {},
   "outputs": [],
   "source": [
    "#代码中"
   ]
  },
  {
   "cell_type": "code",
   "execution_count": 4,
   "metadata": {},
   "outputs": [
    {
     "name": "stdout",
     "output_type": "stream",
     "text": [
      "-2\n"
     ]
    }
   ],
   "source": [
    "from typing import List\n",
    "class NumArray:\n",
    "\n",
    "    def __init__(self, nums: List[int]):\n",
    "        #python的累加函数\n",
    "        self.s=[0]+list(itertools.accumulate(nums))#加0是是因为num[0]=S[0+1]-S[0]\n",
    "\n",
    "    def sumRange(self, left: int, right: int) -> int:\n",
    "        return self.s[right+1]-self.s[left]\n",
    "    \n",
    "if __name__==\"__main__\":\n",
    "    numArray=NumArray([-2, 0, 3, -5, 2, -1])\n",
    "    print(numArray.sumRange(0,0))"
   ]
  },
  {
   "cell_type": "code",
   "execution_count": 2,
   "metadata": {},
   "outputs": [
    {
     "name": "stdout",
     "output_type": "stream",
     "text": [
      "-2\n",
      "-2\n"
     ]
    }
   ],
   "source": [
    "#完整版的树状数组模板\n",
    "from typing import List\n",
    "class NumArray:\n",
    "    def __init__(self, nums: List[int]):#build\n",
    "        self.length=len(nums)+1\n",
    "        pre,self.BIT=[0]*(len(nums)+1),[0]*(len(nums)+1)#pre用到O(n)空间\n",
    "        for i in range(0,len(nums)):\n",
    "            pre[i+1]=pre[i]+nums[i]\n",
    "            self.BIT[i+1]=pre[i+1]-pre[i+1-NumArray.lowbit(i+1)]\n",
    "    @staticmethod\n",
    "    def lowbit(x:int):\n",
    "        return x&-x\n",
    "\n",
    "    def update(self, index: int, val: int) -> None:\n",
    "        while index<self.length:\n",
    "            self.BIT[index]+=val\n",
    "            index+=NumArray.lowbit(index)    \n",
    "    def preSum(self,index:int):\n",
    "        ans=0\n",
    "        while index>0:\n",
    "            ans+=self.BIT[index]\n",
    "            index-=NumArray.lowbit(index)   \n",
    "        return ans \n",
    "    def sumRange(self, left: int, right: int) -> int:\n",
    "        return self.preSum(right+1)-self.preSum(left)\n",
    "    \n",
    "if __name__==\"__main__\":\n",
    "    numArray=NumArray([-2, 0, 3, -5, 2, -1])\n",
    "    print(numArray.sumRange(0,0))\n",
    "    print(numArray.sumRange(0,0))    "
   ]
  }
 ],
 "metadata": {
  "kernelspec": {
   "display_name": "Python 3.9.12 ('base')",
   "language": "python",
   "name": "python3"
  },
  "language_info": {
   "codemirror_mode": {
    "name": "ipython",
    "version": 3
   },
   "file_extension": ".py",
   "mimetype": "text/x-python",
   "name": "python",
   "nbconvert_exporter": "python",
   "pygments_lexer": "ipython3",
   "version": "3.9.12"
  },
  "orig_nbformat": 4,
  "vscode": {
   "interpreter": {
    "hash": "7b93ae2ddedcfb4b7ddebf80c8c7984044339b2e43f10e14b9461f3e640893f2"
   }
  }
 },
 "nbformat": 4,
 "nbformat_minor": 2
}
