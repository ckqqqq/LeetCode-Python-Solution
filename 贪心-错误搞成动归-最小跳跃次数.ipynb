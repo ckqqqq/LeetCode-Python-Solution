{
 "cells": [
  {
   "attachments": {},
   "cell_type": "markdown",
   "metadata": {},
   "source": [
    "45. Jump Game II\n",
    "Medium\n",
    "10.6K\n",
    "369\n",
    "Companies\n",
    "You are given a 0-indexed array of integers nums of length n. You are initially positioned at nums[0].\n",
    "\n",
    "Each element nums[i] represents the maximum length of a forward jump from index i. In other words, if you are at nums[i], you can jump to any nums[i + j] where:\n",
    "\n",
    "0 <= j <= nums[i] and\n",
    "i + j < n\n",
    "Return the minimum number of jumps to reach nums[n - 1]. The test cases are generated such that you can reach nums[n - 1].\n",
    "\n",
    " \n",
    "\n",
    "Example 1:\n",
    "\n",
    "Input: nums = [2,3,1,1,4]\n",
    "Output: 2\n",
    "Explanation: The minimum number of jumps to reach the last index is 2. Jump 1 step from index 0 to 1, then 3 steps to the last index.\n",
    "Example 2:\n",
    "\n",
    "Input: nums = [2,3,0,1,4]\n",
    "Output: 2"
   ]
  },
  {
   "cell_type": "code",
   "execution_count": null,
   "metadata": {},
   "outputs": [],
   "source": [
    "# 这道题和洛谷一个开车存油问题很像\n",
    "class Solution:\n",
    "    def jump(self, nums: List[int]) -> int:#凡是一维数组都要思考能不能一次遍历解决问题\n",
    "        result=0\n",
    "        cur=0\n",
    "        max_next_jump=-10086\n",
    "        for i in range(0,len(nums)):\n",
    "            if i==len(nums)-1:#到达\n",
    "                return result\n",
    "            max_next_jump=max(nums[i],max_next_jump)#存油\n",
    "            if cur==0:#能量耗尽\n",
    "                result+=1\n",
    "                cur=max_next_jump\n",
    "                max_next_jump=-10086\n",
    "                cur-=1#前进\n",
    "                continue\n",
    "            cur-=1#前进耗油\n",
    "            max_next_jump-=1# 距离加油站漏油\n",
    "        return result"
   ]
  },
  {
   "cell_type": "code",
   "execution_count": null,
   "metadata": {},
   "outputs": [],
   "source": [
    "# 第55题变种\n",
    "class Solution:\n",
    "    def canJump(self, nums: List[int]) -> bool:\n",
    "        cur=nums[0]\n",
    "        for i,val in enumerate(nums):\n",
    "            cur=max(cur,val)\n",
    "            if cur==0:\n",
    "                return False\n",
    "            cur-=1\n",
    "        return True"
   ]
  },
  {
   "cell_type": "code",
   "execution_count": 11,
   "metadata": {},
   "outputs": [
    {
     "name": "stdout",
     "output_type": "stream",
     "text": [
      "2\n",
      "2\n",
      "2\n"
     ]
    }
   ],
   "source": [
    "from typing import List\n",
    "class Solution:\n",
    "    def jump(self, nums: List[int]) -> int:\n",
    "        infinity=2**40\n",
    "        dp=[infinity for _ in range(len(nums))]\n",
    "        dp[0]=0\n",
    "        for i in range(len(nums)):\n",
    "            for j in range(i+1,min(nums[i]+i+1,len(nums))):# 区分 i和j的含义\n",
    "                if j<=nums[i]+i:\n",
    "                    dp[j]=min(dp[i]+1,dp[j])\n",
    "        assert dp[-1]!=infinity,\"题目说一定有答案\"\n",
    "        return dp[-1]\n",
    "solution=Solution()\n",
    "print(solution.jump([2,3,0,1,4]))\n",
    "print(solution.jump([2,3,0,1,4]))\n",
    "print(solution.jump([2,1,3,4,1,0]))"
   ]
  },
  {
   "cell_type": "code",
   "execution_count": null,
   "metadata": {},
   "outputs": [],
   "source": [
    "+"
   ]
  }
 ],
 "metadata": {
  "kernelspec": {
   "display_name": "base",
   "language": "python",
   "name": "python3"
  },
  "language_info": {
   "codemirror_mode": {
    "name": "ipython",
    "version": 3
   },
   "file_extension": ".py",
   "mimetype": "text/x-python",
   "name": "python",
   "nbconvert_exporter": "python",
   "pygments_lexer": "ipython3",
   "version": "3.9.12"
  },
  "orig_nbformat": 4,
  "vscode": {
   "interpreter": {
    "hash": "7b93ae2ddedcfb4b7ddebf80c8c7984044339b2e43f10e14b9461f3e640893f2"
   }
  }
 },
 "nbformat": 4,
 "nbformat_minor": 2
}
