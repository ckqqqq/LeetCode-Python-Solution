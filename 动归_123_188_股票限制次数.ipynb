{
 "cells": [
  {
   "cell_type": "markdown",
   "metadata": {},
   "source": [
    "ps:这道题不能相当然的认为是贪心，可见md文档有解释，即两次限制的最优解不一定包含一次限制的最优解，不能根据递增序列判断是买是卖"
   ]
  },
  {
   "cell_type": "markdown",
   "metadata": {},
   "source": [
    "from distutils.command.build_py import build_py\n",
    "\n",
    "\n",
    "又由于有次数的限制所以从前的 \n",
    "sell buy 单数组就不管用了，至少要二维数组,又由于可以只买一次或者不买（可以浪费一次买的机会）\n",
    "buy\n",
    "buy[0][0]\n",
    "sell\n",
    "sell[0][1]\n",
    "dp方程推导\n",
    "sell[0][0]=0\n",
    "sell[1][1]=max(sell[0][1],buy[0][0]+price[1])\n",
    "buy[i][j]=max(buy[i-1][j],sell[i-1][j]+prices[i])\n",
    "\n",
    "\n"
   ]
  },
  {
   "cell_type": "code",
   "execution_count": 4,
   "metadata": {},
   "outputs": [
    {
     "name": "stdout",
     "output_type": "stream",
     "text": [
      "6\n"
     ]
    }
   ],
   "source": [
    "from typing import List\n",
    "class Solution:\n",
    "    def maxProfit(self, prices: List[int]) -> int:\n",
    "        if len(prices)<=1:\n",
    "            return 0\n",
    "        sell=[[0]*3 for _ in range(len(prices))]\n",
    "        buy=[[0]*3 for _ in range(len(prices))]\n",
    "        # buy[0][1]=-1*prices[0]#\n",
    "        #i表示第几天，j表示当前花费的机会()\n",
    "        for i in range(0,len(prices)):\n",
    "            for j in range(1,3):\n",
    "                if i==0 and j!=0:\n",
    "                    buy[0][j]=-1*prices[0]#第一天有股票在手的价格是恒定的，可以浪费机会\n",
    "                    sell[0][j]=0#第一天，不能卖出\n",
    "                else:\n",
    "                    buy[i][j]=max(buy[i-1][j],sell[i-1][j-1]-prices[i])#买一次的情况\n",
    "                    sell[i][j]=max(sell[i-1][j],buy[i-1][j]+prices[i])#j代表买/卖过多少次股票\n",
    "        ans=sell[0][-1]\n",
    "        for i in range(0,len(prices)):\n",
    "            ans=max(ans,sell[i][-1])\n",
    "        return ans\n",
    "if __name__==\"__main__\":\n",
    "    solution=Solution()\n",
    "    print(solution.maxProfit([3,3,5,0,0,3,1,4]))"
   ]
  },
  {
   "cell_type": "code",
   "execution_count": 9,
   "metadata": {},
   "outputs": [
    {
     "name": "stdout",
     "output_type": "stream",
     "text": [
      "6\n"
     ]
    }
   ],
   "source": [
    "## 状态压缩以及k次limit限制\n",
    "from typing import List\n",
    "class Solution:\n",
    "    def maxProfit(self, prices: List[int],limit:int) -> int:\n",
    "        if len(prices)<=1:\n",
    "            return 0\n",
    "        sell=[[0]*(limit+1) for _ in range(0,2)]\n",
    "        buy=[[0]*(limit+1) for _ in range(0,2)]\n",
    "        # buy[0][1]=-1*prices[0]#\n",
    "        #i表示第几天，j表示当前花费的机会()\n",
    "        ans=0\n",
    "        for i in range(0,len(prices)):\n",
    "            for j in range(1,(limit+1)):\n",
    "                if i==0 and j!=0:\n",
    "                    buy[1][j]=-1*prices[0]#在写状态压缩的时候记得这一点，不要让初始值被覆盖了\n",
    "                    sell[1][j]=0#第一天，不能卖出\n",
    "                else:\n",
    "                    buy[1][j]=max(buy[0][j],sell[0][j-1]-prices[i])#买一次的情况\n",
    "                    sell[1][j]=max(sell[0][j],buy[0][j]+prices[i])#j代表买/卖过多少次股票\n",
    "            for j in range(1+limit):\n",
    "                buy[0][j]=buy[1][j]#状态压缩\n",
    "                sell[0][j]=sell[1][j]\n",
    "            ans=max(ans,sell[1][-1])#记得这个-1\n",
    "        return ans\n",
    "if __name__==\"__main__\":\n",
    "    solution=Solution()\n",
    "    print(solution.maxProfit([3,3,5,0,0,3,1,4],2))\n",
    "    "
   ]
  },
  {
   "cell_type": "markdown",
   "metadata": {},
   "source": [
    "## 如何变得更快\n",
    "如果把if判断换成max和min会更快一些"
   ]
  },
  {
   "cell_type": "markdown",
   "metadata": {},
   "source": []
  },
  {
   "cell_type": "markdown",
   "metadata": {},
   "source": [
    "### 状态压缩的时候不要让初始值被覆盖了\n",
    "ps\n",
    "像这种从左上和左下推导右下的遍历，比较难使用O(1)的时间复杂度，关键就是要提前存储一个空间（比较难）\n",
    "当然如果limit为小常数的话当然可以（比如123题）\n",
    "x\n",
    "y z\n"
   ]
  },
  {
   "cell_type": "code",
   "execution_count": null,
   "metadata": {},
   "outputs": [],
   "source": [
    "## 针对这道题一种比较快的解法\n",
    "from typing import List\n",
    "class Solution:\n",
    "    def maxProfit(self, prices):\n",
    "        if not prices:\n",
    "            return 0\n",
    "\n",
    "        # forward traversal, profits record the max profit \n",
    "        # by the ith day, this is the first transaction\n",
    "        profits = []\n",
    "        max_profit = 0\n",
    "        current_min = prices[0]\n",
    "        for price in prices:\n",
    "            current_min = min(current_min, price)\n",
    "            max_profit = max(max_profit, price - current_min)\n",
    "            profits.append(max_profit)\n",
    "\n",
    "        # backward traversal, max_profit records the max profit\n",
    "        # after the ith day, this is the second transaction \n",
    "        total_max = 0    \n",
    "        max_profit = 0\n",
    "        current_max = prices[-1]\n",
    "        for i in range(len(prices) - 1, -1, -1):\n",
    "            current_max = max(current_max, prices[i])\n",
    "            max_profit = max(max_profit, current_max - prices[i])\n",
    "            total_max = max(total_max, max_profit + profits[i])\n",
    "\n",
    "        return total_max"
   ]
  }
 ],
 "metadata": {
  "kernelspec": {
   "display_name": "Python 3.8.13 ('py38')",
   "language": "python",
   "name": "python3"
  },
  "language_info": {
   "codemirror_mode": {
    "name": "ipython",
    "version": 3
   },
   "file_extension": ".py",
   "mimetype": "text/x-python",
   "name": "python",
   "nbconvert_exporter": "python",
   "pygments_lexer": "ipython3",
   "version": "3.8.13 | packaged by conda-forge | (default, Mar 25 2022, 05:59:00) [MSC v.1929 64 bit (AMD64)]"
  },
  "orig_nbformat": 4,
  "vscode": {
   "interpreter": {
    "hash": "76c3c49e318b7c885b43daef0aa3cfe4eb22ade01aff18419595a86661fada18"
   }
  }
 },
 "nbformat": 4,
 "nbformat_minor": 2
}
