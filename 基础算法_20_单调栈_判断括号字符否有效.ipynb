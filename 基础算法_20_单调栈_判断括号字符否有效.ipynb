{
 "cells": [
  {
   "cell_type": "code",
   "execution_count": null,
   "metadata": {},
   "outputs": [],
   "source": [
    "from inspect import stack\n",
    "class Solution:\n",
    "    def isValid(self, s: str) -> bool:\n",
    "        pair=[[\"(\",\")\"],[\"[\"\"]\"],[\"{\",\"}\"]]\n",
    "        stack=[]\n",
    "        for c in s:\n",
    "            for t in pair:\n",
    "                if c==t[0]:\n",
    "                    stack.append(c)\n",
    "                elif c==t[1]:\n",
    "                    if stack[-1]==t[0]:#fix\n",
    "                        stack.pop()\n",
    "                    else:\n",
    "                        return False\n",
    "        return True\n",
    "if __name__==\"__main__\":\n",
    "    solution=Solution()\n",
    "    solution.isValid()"
   ]
  },
  {
   "cell_type": "code",
   "execution_count": null,
   "metadata": {},
   "outputs": [],
   "source": []
  },
  {
   "cell_type": "markdown",
   "metadata": {},
   "source": []
  }
 ],
 "metadata": {
  "kernelspec": {
   "display_name": "Python 3.8.13 ('py38')",
   "language": "python",
   "name": "python3"
  },
  "language_info": {
   "name": "python",
   "version": "3.8.13"
  },
  "orig_nbformat": 4,
  "vscode": {
   "interpreter": {
    "hash": "76c3c49e318b7c885b43daef0aa3cfe4eb22ade01aff18419595a86661fada18"
   }
  }
 },
 "nbformat": 4,
 "nbformat_minor": 2
}
