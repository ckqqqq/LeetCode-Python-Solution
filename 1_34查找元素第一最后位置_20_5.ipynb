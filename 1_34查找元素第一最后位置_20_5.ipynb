{
 "cells": [
  {
   "cell_type": "code",
   "execution_count": null,
   "metadata": {},
   "outputs": [],
   "source": [
    "\n",
    "class Solution:\n",
    "    def searchRange(self, nums: List[int], target: int) -> List[int]:\n",
    "        if len(nums)==0:\n",
    "            return [-1,-1]\n",
    "        def biright_search():\n",
    "            ll,rr=0,len(nums)-1\n",
    "            while ll<=rr:\n",
    "                mid=rr+(rr-ll)>>1\n",
    "                if nums[mid]<target:\n",
    "                    ll=mid+1\n",
    "                elif nums[mid]>target:\n",
    "                    rr=mid-1\n",
    "                else:#=\n",
    "                    ll=mid+1\n",
    "            if rr==-1: return -1\n",
    "            return rr if nums[rr]==target else -1\n",
    "        def bileft_search():\n",
    "            ll,rr=0,len(nums)-1\n",
    "            while ll<=rr:\n",
    "                mid=rr+(rr-ll)>>1\n",
    "                if nums[mid]<target:\n",
    "                    ll=mid+1\n",
    "                elif nums[mid]>target:\n",
    "                    rr=mid-1\n",
    "                else:#=\n",
    "                    rr=mid-1\n",
    "            if ll==len(nums): return -1# 第二次bug\n",
    "            return ll if nums[ll]==target else -1\n",
    "        return [bileft_search(),biright_search()]# 第一次bug"
   ]
  },
  {
   "cell_type": "code",
   "execution_count": null,
   "metadata": {},
   "outputs": [],
   "source": [
    "分析 尝试过两次提交，第一次left right写反了，第二次没有考虑ll/rr出界的情况\n"
   ]
  }
 ],
 "metadata": {
  "language_info": {
   "name": "python"
  },
  "orig_nbformat": 4
 },
 "nbformat": 4,
 "nbformat_minor": 2
}
