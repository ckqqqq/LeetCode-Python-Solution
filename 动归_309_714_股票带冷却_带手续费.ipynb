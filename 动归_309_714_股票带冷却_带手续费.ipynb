{
 "cells": [
  {
   "cell_type": "code",
   "execution_count": null,
   "metadata": {},
   "outputs": [],
   "source": [
    "[1,2,3]\n",
    "[0,0,0]\n",
    "\n",
    "[0,0,2]\n",
    "#你只能持有一个股票 [0]是当前没有持股 [1]是当前持股\n",
    "公式\n",
    "dp[i][0]=max(dp[i-1][0],dp[i-1][1]+price[i-1])#卖出\n",
    "dp[i][1]=max(dp[i-1][1],dp[i-1-冷却期][0]-price[i-1])买入\n",
    "如果兩天前卖了导致的可以，那么现在可以买了\n",
    "如果两天前没卖，一天前的空手价格就等于两天前空手的价格就是dp[i-1][0]=dp[i-2][0]，实际还是dp[i-1][0]\n",
    "换一种说法,从没有冷静期到有冷静期，买入受限，\n",
    "#dp[i][1]=max(dp[i-1][1],dp[i-1][0]-price[i-1])买入\n",
    "我们无法确定dp[i-1][0]这个结果是\n",
    "1 dp[i-1-1][1]+price[i-1-1]（前天卖出-不合法）\n",
    "2 还是dp[i-1-1][0]（前天没股票摆烂-合法）\n",
    "既然无法确定昨天合不合法，昨天只能由前天的两个结果推导出，为何我们不直接用前天的那个合法结果？\n",
    "\n",
    "#冷却期間\n",
    "dp[i][2]=dp[i-1][1]+price[i-1]#前一天賣出了\n",
    "卖或者卖\n",
    "\n",
    "1 2 3 4 9"
   ]
  },
  {
   "cell_type": "markdown",
   "metadata": {},
   "source": [
    "给定⼀个整数数组，其中第 i 个元素代表了第 i 天的股票价格 。\n",
    "设计⼀个算法计算出最⼤利润。在满⾜以下约束条件下，你可以尽可能地完成更多的交易（多次买卖⼀⽀股票）:\n",
    "你不能同时参与多笔交易（你必须在再次购买前出售掉之前的股票）。\n",
    "卖出股票后，你⽆法在第⼆天买⼊股票 (即冷冻期为 1 天)\n",
    "\n",
    "\n",
    "1,2,3\n",
    "\n",
    "buy\n",
    "-1 -1\n",
    "sell\n",
    "0 1\n",
    "大概的动归流程是这样：\n",
    "由于动归的本质就是要遍历所有的子情况，所以要遍历所有的买和买的情况，\n",
    "本题的核心为，如果你当天要卖出股票，卖出的价格恒定，所以在确保有股票的基础上，你当前的负债越低越好\n",
    "buy数组里面始终要保持你手上持有股票，其状态由sell数组和buy[i-1]数组推倒出来,buy数组的值是越高越好（负债越少越好，反正我有股票可以卖）\n",
    "sell数组里面则是始终保持你手上不持有股票，其状态由buy数组和sell[i-1]数组推导出来，同时buy[i]由sell[i-1-cooldown]推导，你可能要问如果i-1当天没买股票会怎么样？\n",
    "如果i-1当天没卖股票，事实上sell[i-1]不可能比sell[i-1-cooldown]高\n",
    "#### 具体案例\n",
    "股票\n",
    "1 2 3 0 2\n",
    "buy数组 buy[i]=max(buy[i-1],sell[i-2]-price[i])#冷却期为1天\n",
    "-1 -1 -1 1 1\n",
    "sell数组 sell[i]=max(buy[i-1]+price[i],sell[i-1])\n",
    "0  1 2 2 2 3"
   ]
  },
  {
   "cell_type": "code",
   "execution_count": 3,
   "metadata": {},
   "outputs": [
    {
     "name": "stdout",
     "output_type": "stream",
     "text": [
      "3\n"
     ]
    }
   ],
   "source": [
    "## 买卖股票带冷却\n",
    "from typing import List\n",
    "class Solution:\n",
    "    def maxProfit(self, prices: List[int]) -> int:\n",
    "        buy=[0]*len(prices)\n",
    "        sell=[0]*len(prices)\n",
    "        buy[0]=-prices[0]#注意这个负号\n",
    "        cooldown=1\n",
    "        for i in range(1,len(prices)):\n",
    "            if i>cooldown:#可以交易\n",
    "                buy[i]=max(buy[i-1],sell[i-1-cooldown]-prices[i])\n",
    "            elif i<=cooldown:#不能交易\n",
    "                buy[i]=max(buy[i-1],0-prices[i])\n",
    "            sell[i]=max(buy[i-1]+prices[i],sell[i-1])\n",
    "        return sell[-1]\n",
    "        \n",
    "if __name__==\"__main__\":\n",
    "    solution=Solution()\n",
    "    print(solution.maxProfit([1,2,3,0,2]))"
   ]
  },
  {
   "cell_type": "code",
   "execution_count": null,
   "metadata": {},
   "outputs": [],
   "source": [
    "## 买卖股票带手续费\n",
    "from typing import List\n",
    "class Solution:\n",
    "    def maxProfit(self, prices: List[int], fee: int) -> int:    \n",
    "        buy=[0]*len(prices)\n",
    "        sell=[0]*len(prices)\n",
    "        buy[0]=-1*prices[0]#这个-1很重要\n",
    "        for i in range(1,len(prices)):\n",
    "            buy[i]=max(buy[i-1],sell[i-1]-prices[i])\n",
    "            sell[i]=max(sell[i-1],buy[i-1]+prices[i]-fee)\n",
    "        return sell[-1]\n",
    "if __name__==\"__main__\":\n",
    "    solution=Solution()\n",
    "    print(solution.maxProfit([1,2,3,0,2]))"
   ]
  },
  {
   "cell_type": "code",
   "execution_count": 2,
   "metadata": {},
   "outputs": [
    {
     "ename": "TypeError",
     "evalue": "bad operand type for unary -: 'list'",
     "output_type": "error",
     "traceback": [
      "\u001b[1;31m---------------------------------------------------------------------------\u001b[0m",
      "\u001b[1;31mTypeError\u001b[0m                                 Traceback (most recent call last)",
      "\u001b[1;32md:\\Code\\Python\\Leetcode\\动归_309_714_股票带冷却_带手续费.ipynb Cell 5\u001b[0m in \u001b[0;36m<cell line: 12>\u001b[1;34m()\u001b[0m\n\u001b[0;32m     <a href='vscode-notebook-cell:/d%3A/Code/Python/Leetcode/%E5%8A%A8%E5%BD%92_309_714_%E8%82%A1%E7%A5%A8%E5%B8%A6%E5%86%B7%E5%8D%B4_%E5%B8%A6%E6%89%8B%E7%BB%AD%E8%B4%B9.ipynb#W6sZmlsZQ%3D%3D?line=11'>12</a>\u001b[0m \u001b[39mif\u001b[39;00m \u001b[39m__name__\u001b[39m\u001b[39m==\u001b[39m\u001b[39m\"\u001b[39m\u001b[39m__main__\u001b[39m\u001b[39m\"\u001b[39m:\n\u001b[0;32m     <a href='vscode-notebook-cell:/d%3A/Code/Python/Leetcode/%E5%8A%A8%E5%BD%92_309_714_%E8%82%A1%E7%A5%A8%E5%B8%A6%E5%86%B7%E5%8D%B4_%E5%B8%A6%E6%89%8B%E7%BB%AD%E8%B4%B9.ipynb#W6sZmlsZQ%3D%3D?line=12'>13</a>\u001b[0m     solution\u001b[39m=\u001b[39mSolution()\n\u001b[1;32m---> <a href='vscode-notebook-cell:/d%3A/Code/Python/Leetcode/%E5%8A%A8%E5%BD%92_309_714_%E8%82%A1%E7%A5%A8%E5%B8%A6%E5%86%B7%E5%8D%B4_%E5%B8%A6%E6%89%8B%E7%BB%AD%E8%B4%B9.ipynb#W6sZmlsZQ%3D%3D?line=13'>14</a>\u001b[0m     \u001b[39mprint\u001b[39m(solution\u001b[39m.\u001b[39;49mmaxProfit([\u001b[39m1\u001b[39;49m,\u001b[39m2\u001b[39;49m,\u001b[39m3\u001b[39;49m,\u001b[39m0\u001b[39;49m,\u001b[39m2\u001b[39;49m],\u001b[39m2\u001b[39;49m))\n",
      "\u001b[1;32md:\\Code\\Python\\Leetcode\\动归_309_714_股票带冷却_带手续费.ipynb Cell 5\u001b[0m in \u001b[0;36mSolution.maxProfit\u001b[1;34m(self, prices, fee)\u001b[0m\n\u001b[0;32m      <a href='vscode-notebook-cell:/d%3A/Code/Python/Leetcode/%E5%8A%A8%E5%BD%92_309_714_%E8%82%A1%E7%A5%A8%E5%B8%A6%E5%86%B7%E5%8D%B4_%E5%B8%A6%E6%89%8B%E7%BB%AD%E8%B4%B9.ipynb#W6sZmlsZQ%3D%3D?line=3'>4</a>\u001b[0m \u001b[39mdef\u001b[39;00m \u001b[39mmaxProfit\u001b[39m(\u001b[39mself\u001b[39m, prices: List[\u001b[39mint\u001b[39m], fee: \u001b[39mint\u001b[39m) \u001b[39m-\u001b[39m\u001b[39m>\u001b[39m \u001b[39mint\u001b[39m:    \n\u001b[1;32m----> <a href='vscode-notebook-cell:/d%3A/Code/Python/Leetcode/%E5%8A%A8%E5%BD%92_309_714_%E8%82%A1%E7%A5%A8%E5%B8%A6%E5%86%B7%E5%8D%B4_%E5%B8%A6%E6%89%8B%E7%BB%AD%E8%B4%B9.ipynb#W6sZmlsZQ%3D%3D?line=4'>5</a>\u001b[0m     buy\u001b[39m=\u001b[39m[\u001b[39m-\u001b[39;49mprices,\u001b[39m0\u001b[39m]\n\u001b[0;32m      <a href='vscode-notebook-cell:/d%3A/Code/Python/Leetcode/%E5%8A%A8%E5%BD%92_309_714_%E8%82%A1%E7%A5%A8%E5%B8%A6%E5%86%B7%E5%8D%B4_%E5%B8%A6%E6%89%8B%E7%BB%AD%E8%B4%B9.ipynb#W6sZmlsZQ%3D%3D?line=5'>6</a>\u001b[0m     sell\u001b[39m=\u001b[39m[\u001b[39m0\u001b[39m,\u001b[39m0\u001b[39m]\n\u001b[0;32m      <a href='vscode-notebook-cell:/d%3A/Code/Python/Leetcode/%E5%8A%A8%E5%BD%92_309_714_%E8%82%A1%E7%A5%A8%E5%B8%A6%E5%86%B7%E5%8D%B4_%E5%B8%A6%E6%89%8B%E7%BB%AD%E8%B4%B9.ipynb#W6sZmlsZQ%3D%3D?line=6'>7</a>\u001b[0m     \u001b[39mfor\u001b[39;00m i \u001b[39min\u001b[39;00m \u001b[39mrange\u001b[39m(\u001b[39m1\u001b[39m,\u001b[39mlen\u001b[39m(prices)):\n",
      "\u001b[1;31mTypeError\u001b[0m: bad operand type for unary -: 'list'"
     ]
    }
   ],
   "source": [
    "## 买卖股票带手续费 -状态压缩\n",
    "from typing import List\n",
    "class Solution:\n",
    "    def maxProfit(self, prices: List[int], fee: int) -> int: \n",
    "        if len(prices)<=1:\n",
    "            return 0   \n",
    "        buy=[-prices[0],0]\n",
    "        sell=[0,0]\n",
    "        for i in range(1,len(prices)):\n",
    "            buy[1]=max(buy[0],sell[0]-prices[i])\n",
    "            sell[1]=max(sell[0],buy[0]+prices[i]-fee)\n",
    "            buy[0],sell[0]=buy[1],sell[1]\n",
    "        return sell[0]\n",
    "if __name__==\"__main__\":\n",
    "    solution=Solution()\n",
    "    print(solution.maxProfit([1,2,3,0,2],2))"
   ]
  },
  {
   "cell_type": "markdown",
   "metadata": {},
   "source": [
    "#这种带手续费的也一样，由于我们不能预知未来选取最优策略，所以必须用动归\n",
    "又由于你的状态只有在每天买和买，所以用两个二维数组陈列就行，基本结构同冷却时间那几道题\n",
    "由于是一次买卖收一次手续费（所以理论上我一直不卖就没有手续费）\n",
    "同样也是，买的价格越低越好"
   ]
  },
  {
   "cell_type": "code",
   "execution_count": null,
   "metadata": {},
   "outputs": [],
   "source": [
    "class Solution:\n",
    "    def maxProfit(self, prices: List[int], fee: int) -> int:\n",
    "\n"
   ]
  }
 ],
 "metadata": {
  "kernelspec": {
   "display_name": "Python 3.8.13 ('py38')",
   "language": "python",
   "name": "python3"
  },
  "language_info": {
   "codemirror_mode": {
    "name": "ipython",
    "version": 3
   },
   "file_extension": ".py",
   "mimetype": "text/x-python",
   "name": "python",
   "nbconvert_exporter": "python",
   "pygments_lexer": "ipython3",
   "version": "3.8.13"
  },
  "orig_nbformat": 4,
  "vscode": {
   "interpreter": {
    "hash": "76c3c49e318b7c885b43daef0aa3cfe4eb22ade01aff18419595a86661fada18"
   }
  }
 },
 "nbformat": 4,
 "nbformat_minor": 2
}
