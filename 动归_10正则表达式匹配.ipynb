{
 "cells": [
  {
   "attachments": {},
   "cell_type": "markdown",
   "metadata": {},
   "source": [
    "10. Regular Expression Matching\n",
    "Hard\n",
    "9.9K\n",
    "1.6K\n",
    "Companies\n",
    "Given an input string s and a pattern p, implement regular expression matching with support for '.' and '*' where:\n",
    "\n",
    "'.' Matches any single character.​​​​\n",
    "'*' Matches zero or more of the preceding element.\n",
    "The matching should cover the entire input string (not partial).\n",
    "\n",
    " \n",
    "\n",
    "Example 1:\n",
    "\n",
    "Input: s = \"aa\", p = \"a\"\n",
    "Output: false\n",
    "Explanation: \"a\" does not match the entire string \"aa\".\n",
    "Example 2:\n",
    "\n",
    "Input: s = \"aa\", p = \"a*\"\n",
    "Output: true\n",
    "Explanation: '*' means zero or more of the preceding element, 'a'. Therefore, by repeating 'a' once, it becomes \"aa\".\n",
    "Example 3:\n",
    "\n",
    "Input: s = \"ab\", p = \".*\"\n",
    "Output: true\n",
    "Explanation: \".*\" means \"zero or more (*) of any character (.)\".\n",
    " \n",
    "\n",
    "Constraints:\n",
    "\n",
    "1 <= s.length <= 20\n",
    "1 <= p.length <= 30\n",
    "s contains only lowercase English letters.\n",
    "p contains only lowercase English letters, '.', and '*'.\n",
    "It is guaranteed for each appearance of the character '*', there will be a previous valid character to match."
   ]
  },
  {
   "cell_type": "code",
   "execution_count": 45,
   "metadata": {},
   "outputs": [
    {
     "name": "stdout",
     "output_type": "stream",
     "text": [
      "True\n",
      "True\n",
      "False\n",
      "True\n"
     ]
    }
   ],
   "source": [
    "#尝试使用DP解决\n",
    "# 其实，使用DP解决也不是不行，主要是要明确DP[i][j]的值\n",
    "# 什么是DP，DP是线性推导的，在一般情况下DP[LEN1][LEN2]就是最终的值\n",
    "# 所以一定要明确DP[i][j]的含义，举一个中等复杂的例子\n",
    "# 如果为字符 ：DP[i][j]=DP[i-1][j-1]\n",
    "# 如果为* ：DP[i][j]=max(DP[i][j-2],DP[i][j-1],DP[i-1][j])#分别为不匹配*,匹配1次,匹配n次\n",
    "# 同时上面那个式子需要if判断，不匹配*，不需要判断a*，匹配1次不需要，匹配n次需要判断b*\n",
    "# 总而言之，DP[i][j] 代表的历史意义是s[0:i] p[0:j]是否匹配，右下角就是结果‘\n",
    "# 实践中碰到的问题\n",
    "# 1 后面是行前面是列 dp=[[0 for _ in range(LEN2+1)] for _ in range(LEN1+1)]\n",
    "# 2 dp[LEN1][LEN2] 注意更新之后的右下角\n",
    "# 3 第33行 dp[x][y]=max(dp[x][y],dp[x][y-1],dp[x][y-2])# 匹配1次 跳过通配符\n",
    "# 这里不能加上else ，前面那个if是特判\n",
    "# 尝试用dfs解决,证明不行\n",
    "class Solution:\n",
    "    def isMatch(self, s: str, p: str) -> bool:\n",
    "        if s==p:\n",
    "            return True\n",
    "        LEN1,LEN2=len(s),len(p)\n",
    "        dp=[[0 for _ in range(LEN2+1)] for _ in range(LEN1+1)]\n",
    "        dp[0][0]=1# 空字符串相等\n",
    "        for y in range(1,LEN2+1):# 防止 一开始p就出现通配符\n",
    "            j=y-1\n",
    "            if p[j]==\"*\":\n",
    "                dp[0][y]=max(dp[0][y-2],dp[0][y])\n",
    "        for x in range(1,LEN1+1):\n",
    "            for y in range(1,LEN2+1):\n",
    "                i,j=x-1,y-1#i,j为str中的位置 # 这样写比较好\n",
    "                if p[j]!=\"*\":# 字符之类的\n",
    "                    if s[i]==p[j] or p[j]==\".\":#匹配\n",
    "                        # print(dp,x,y)\n",
    "                        dp[x][y]=dp[x-1][y-1]\n",
    "                    # else: dp[x][y]=0\n",
    "                elif p[j]==\"*\":# 通配符\n",
    "                    if s[i]==p[j-1] or p[j-1]==\".\":#匹配通配符之前的字符\n",
    "                        dp[x][y]=max(dp[x][y],dp[x-1][y])#匹配n次\n",
    "                    #不匹配 注意特判没有else！！！！！\n",
    "                    dp[x][y]=max(dp[x][y],dp[x][y-1],dp[x][y-2])# 匹配1次 跳过通配符\n",
    "        # print(dp)\n",
    "        return dp[LEN1][LEN2]==1\n",
    "if __name__==\"__main__\":\n",
    "    solution=Solution()\n",
    "    print(solution.isMatch(\"aab\",\"c*a*b*\"))\n",
    "    print(solution.isMatch(\"abdeaaa\",\".*a\"))\n",
    "    print(solution.isMatch(\"aaa\",\"acb*a*\"))\n",
    "    print(solution.isMatch(\"aaac\",\"ab*a*c\"))\n"
   ]
  },
  {
   "cell_type": "code",
   "execution_count": 35,
   "metadata": {},
   "outputs": [
    {
     "name": "stdout",
     "output_type": "stream",
     "text": [
      "True\n",
      "False\n",
      "False\n"
     ]
    }
   ],
   "source": [
    "# 尝试用dfs解决,证明不行\n",
    "class Solution:\n",
    "    def isMatch(self, s: str, p: str) -> bool:\n",
    "        LEN1,LEN2=len(s),len(p)\n",
    "        def compare(i,j):\n",
    "            if i==LEN1 and j==LEN2:\n",
    "                return True\n",
    "            elif i==LEN1 or j==LEN2:\n",
    "                return False\n",
    "            else:# 两边都没到头\n",
    "                if  j+1<LEN2 and p[j+1]==\"*\":\n",
    "                    if compare(i,j+2):# 整体跳过那个正则\n",
    "                        return True\n",
    "                if s[i]==p[j] or p[j]==\".\":# 字符匹配\n",
    "                    if compare(i+1,j+1):# 整体跳过\n",
    "                        return True\n",
    "                elif p[j]==\"*\":#正则匹配\n",
    "                    if p[j-1]==\".\" or s[i]==p[j-1]:# 正则\n",
    "                        if compare(i,j+1) or compare(i+1,j) or compare(i+1,j+1):\n",
    "                            # 选择匹配或者不匹配\n",
    "                            return True\n",
    "\n",
    "                return False\n",
    "        return compare(0,0)\n",
    "if __name__==\"__main__\":\n",
    "    solution=Solution()\n",
    "    print(solution.isMatch(\"abdeaaa\",\".*a\"))\n",
    "    print(solution.isMatch(\"aaa\",\"acb*a*\"))\n",
    "    print(solution.isMatch(\"aaca\",\"ab*a*c*a\"))"
   ]
  },
  {
   "cell_type": "code",
   "execution_count": null,
   "metadata": {},
   "outputs": [],
   "source": [
    "# 尝试用dfs解决\n",
    "class Solution:\n",
    "    def isMatch(self, s: str, p: str) -> bool:\n",
    "        LEN1,LEN2=len(s),len(p)\n",
    "        def compare(i,j):\n",
    "\n",
    "        return compare(0,0)\n",
    "if __name__==\"__main__\":\n",
    "    solution=Solution()\n",
    "    print(solution.isMatch(\"abdeaaa\",\".*a\"))\n",
    "    print(solution.isMatch(\"aaa\",\"acb*a*\"))\n",
    "    print(solution.isMatch(\"aaca\",\"ab*a*c*a\"))"
   ]
  }
 ],
 "metadata": {
  "kernelspec": {
   "display_name": "base",
   "language": "python",
   "name": "python3"
  },
  "language_info": {
   "codemirror_mode": {
    "name": "ipython",
    "version": 3
   },
   "file_extension": ".py",
   "mimetype": "text/x-python",
   "name": "python",
   "nbconvert_exporter": "python",
   "pygments_lexer": "ipython3",
   "version": "3.9.12 (main, Apr  4 2022, 05:22:27) [MSC v.1916 64 bit (AMD64)]"
  },
  "orig_nbformat": 4,
  "vscode": {
   "interpreter": {
    "hash": "7b93ae2ddedcfb4b7ddebf80c8c7984044339b2e43f10e14b9461f3e640893f2"
   }
  }
 },
 "nbformat": 4,
 "nbformat_minor": 2
}
