{
 "cells": [
  {
   "attachments": {},
   "cell_type": "markdown",
   "metadata": {},
   "source": [
    "41. First Missing Positive\n",
    "Hard\n",
    "13K\n",
    "1.5K\n",
    "Companies\n",
    "Given an unsorted integer array nums, return the smallest missing positive integer.\n",
    "\n",
    "You must implement an algorithm that runs in O(n) time and uses constant extra space.\n",
    "\n",
    " \n",
    "\n",
    "Example 1:\n",
    "\n",
    "Input: nums = [1,2,0]\n",
    "Output: 3\n",
    "Explanation: The numbers in the range [1,2] are all in the array.\n",
    "Example 2:\n",
    "\n",
    "Input: nums = [3,4,-1,1]\n",
    "Output: 2\n",
    "Explanation: 1 is in the array but 2 is missing.\n",
    "Example 3:\n",
    "\n",
    "Input: nums = [7,8,9,11,12]\n",
    "Output: 1\n",
    "Explanation: The smallest positive integer 1 is missing.\n",
    " \n",
    "\n",
    "Constraints:\n",
    "\n",
    "1 <= nums.length <= 105\n",
    "-231 <= nums[i] <= 231 - 1\n",
    "Accepted\n",
    "826.2K\n",
    "Submissions\n",
    "2.3M\n",
    "Acceptance Rate\n",
    "36.6%\n",
    "Seen this question in a real interview before?\n",
    "1/4\n",
    "Yes\n",
    "No"
   ]
  },
  {
   "cell_type": "code",
   "execution_count": 3,
   "metadata": {},
   "outputs": [
    {
     "name": "stdout",
     "output_type": "stream",
     "text": [
      "2\n"
     ]
    }
   ],
   "source": [
    "from typing import List\n",
    "class Solution:\n",
    "    \n",
    "    def firstMissingPositive(self, nums: List[int]) -> int:\n",
    "        def swap_(i,j):\n",
    "            nums[i],nums[j]=nums[j],nums[i]\n",
    "        # 原地哈希  哈希规则为 x+1放置于nums[x]的位置\n",
    "        # nums[x]=x+1\n",
    "        LEN=len(nums)\n",
    "        for i in range(LEN):\n",
    "            if nums[i]<1 or nums[i]>LEN:\n",
    "                nums[i]=-1\n",
    "        for i in range(LEN):\n",
    "            while nums[i]!=-1 and nums[i]!=i+1 and nums[i]!=nums[nums[i]-1]:\n",
    "                # print(nums[i],i)\n",
    "                swap_(i,nums[i]-1)\n",
    "        for i in range(LEN):\n",
    "            if nums[i]!=i+1:\n",
    "                return i+1\n",
    "        return LEN+1\n",
    "solution=Solution()\n",
    "print(solution.firstMissingPositive([3,4,-1,1]))"
   ]
  },
  {
   "cell_type": "code",
   "execution_count": null,
   "metadata": {},
   "outputs": [],
   "source": [
    "# 如果没有空间限制 最快的方法\n",
    "class Solution:\n",
    "    def firstMissingPositive(self, nums: List[int]) -> int:\n",
    "        new = set(nums)\n",
    "        i = 1\n",
    "        while i in new:\n",
    "            i += 1\n",
    "        return i"
   ]
  }
 ],
 "metadata": {
  "kernelspec": {
   "display_name": "base",
   "language": "python",
   "name": "python3"
  },
  "language_info": {
   "codemirror_mode": {
    "name": "ipython",
    "version": 3
   },
   "file_extension": ".py",
   "mimetype": "text/x-python",
   "name": "python",
   "nbconvert_exporter": "python",
   "pygments_lexer": "ipython3",
   "version": "3.9.12 (main, Apr  4 2022, 05:22:27) [MSC v.1916 64 bit (AMD64)]"
  },
  "orig_nbformat": 4,
  "vscode": {
   "interpreter": {
    "hash": "7b93ae2ddedcfb4b7ddebf80c8c7984044339b2e43f10e14b9461f3e640893f2"
   }
  }
 },
 "nbformat": 4,
 "nbformat_minor": 2
}
