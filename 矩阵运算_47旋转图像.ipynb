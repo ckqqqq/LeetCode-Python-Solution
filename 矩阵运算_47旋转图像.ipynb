{
 "cells": [
  {
   "attachments": {},
   "cell_type": "markdown",
   "metadata": {},
   "source": [
    "https://leetcode.com/problems/rotate-image/"
   ]
  },
  {
   "cell_type": "code",
   "execution_count": 22,
   "metadata": {},
   "outputs": [
    {
     "name": "stdout",
     "output_type": "stream",
     "text": [
      "[[1, 2, 3], [4, 5, 6], [7, 8, 9]] 2 1\n",
      "[[7, 4, 1], [8, 5, 2], [9, 6, 3]]\n",
      "None\n",
      "[[5, 1, 9, 11], [2, 4, 8, 10], [13, 3, 6, 7], [15, 14, 12, 16]] 2 2\n",
      "[[15, 13, 2, 5], [14, 3, 4, 1], [12, 6, 8, 9], [16, 7, 10, 11]]\n",
      "None\n"
     ]
    }
   ],
   "source": [
    "from typing import List \n",
    "class Solution:\n",
    "    def rotate(self, matrix: List[List[int]]) -> None:\n",
    "        def transit(x,y):\n",
    "            old_val=matrix[x][y]\n",
    "            for _ in range(4):\n",
    "                x,y=y,len(matrix)-1-x\n",
    "                tmp=matrix[x][y]\n",
    "                matrix[x][y]=old_val\n",
    "                old_val=tmp\n",
    "                # print(x,y)\n",
    "        mid_x=(len(matrix)+1)//2\n",
    "        mid_y=(len(matrix[0]))//2# 细节\n",
    "        # (len(matrix)+1)//2#####括號\n",
    "        # (len(matrix[0]+1)//2###括号 绝对不能因为前面太长忘记后面\n",
    "        # transit(0,1)\n",
    "        # print(matrix,mid_x,mid_y)\n",
    "        for x in range(0,mid_x):\n",
    "            for y in range(0,mid_y):\n",
    "                transit(x,y)\n",
    "        # print(matrix)\n",
    "        \n",
    "        \"\"\"\n",
    "        Do not return anything, modify matrix in-place instead.\n",
    "        \"\"\"\n",
    "solution=Solution()\n",
    "print(solution.rotate( [[1,2,3],[4,5,6],[7,8,9]]))\n",
    "print(solution.rotate( [[5,1,9,11],[2,4,8,10],[13,3,6,7],[15,14,12,16]]))"
   ]
  },
  {
   "cell_type": "code",
   "execution_count": 30,
   "metadata": {},
   "outputs": [
    {
     "name": "stdout",
     "output_type": "stream",
     "text": [
      "*re [7, 8, 9] [4, 5, 6] [1, 2, 3] <list_reverseiterator object at 0x000001D05C65B5B0> [[1, 2, 3], [4, 5, 6], [7, 8, 9]]\n",
      "(7, 4, 1) 0\n",
      "(8, 5, 2) 1\n",
      "(9, 6, 3) 2\n",
      "None\n",
      "*re [15, 14, 12, 16] [13, 3, 6, 7] [2, 4, 8, 10] [5, 1, 9, 11] <list_reverseiterator object at 0x000001D05C65BCD0> [[5, 1, 9, 11], [2, 4, 8, 10], [13, 3, 6, 7], [15, 14, 12, 16]]\n",
      "(15, 13, 2, 5) 0\n",
      "(14, 3, 4, 1) 1\n",
      "(12, 6, 8, 9) 2\n",
      "(16, 7, 10, 11) 3\n",
      "None\n"
     ]
    }
   ],
   "source": [
    "class Solution:\n",
    "    def rotate(self, matrix: List[List[int]]) -> None:\n",
    "        print(\"*re\",*reversed(matrix),reversed(matrix),matrix)#*的含义为遍历迭代器\n",
    "        for j, i in enumerate(zip(*reversed(matrix))):# 倒转列 转换列为行\n",
    "            matrix[j] = list(i)\n",
    "            print(i,j)\n",
    "            \n",
    "solution=Solution()\n",
    "print(solution.rotate( [[1,2,3],[4,5,6],[7,8,9]]))\n",
    "print(solution.rotate( [[5,1,9,11],[2,4,8,10],[13,3,6,7],[15,14,12,16]]))"
   ]
  }
 ],
 "metadata": {
  "kernelspec": {
   "display_name": "base",
   "language": "python",
   "name": "python3"
  },
  "language_info": {
   "codemirror_mode": {
    "name": "ipython",
    "version": 3
   },
   "file_extension": ".py",
   "mimetype": "text/x-python",
   "name": "python",
   "nbconvert_exporter": "python",
   "pygments_lexer": "ipython3",
   "version": "3.9.12 (main, Apr  4 2022, 05:22:27) [MSC v.1916 64 bit (AMD64)]"
  },
  "orig_nbformat": 4,
  "vscode": {
   "interpreter": {
    "hash": "7b93ae2ddedcfb4b7ddebf80c8c7984044339b2e43f10e14b9461f3e640893f2"
   }
  }
 },
 "nbformat": 4,
 "nbformat_minor": 2
}
