{
 "cells": [
  {
   "cell_type": "code",
   "execution_count": null,
   "metadata": {},
   "outputs": [],
   "source": []
  },
  {
   "cell_type": "code",
   "execution_count": 12,
   "metadata": {},
   "outputs": [
    {
     "name": "stdout",
     "output_type": "stream",
     "text": [
      "[0, 1, 0, 0, 2, 10, 4, 40, 92, 352, 724, 2680, 14200]\n"
     ]
    }
   ],
   "source": [
    "#n皇后问题最快的方法其实是暴力打表法\n",
    "#n皇后问题\n",
    "#\n",
    "class Solution:\n",
    "    def totalNQueens(self, n: int) -> int:\n",
    "        if n<=0:\n",
    "            return 0\n",
    "        self.count=0\n",
    "        def dfsNQueen(row,col,pie,na)->int:\n",
    "            if row>=n:\n",
    "                self.count+=1\n",
    "                print(\"解：位运算不具备可复原性\",bin(col),bin(pie),bin(na))\n",
    "                return\n",
    "            #找0的位置\n",
    "            bit=(~(col|na|pie)&((1<<n)-1))#10000-1111 col=1110 na=\n",
    "            while bit>0:\n",
    "                # print(bin(bit))\n",
    "                one_bit=bit&-bit#获得最后一个一\n",
    "                print(row,bin(pie),bin(na))\n",
    "                dfsNQueen(row+1,col|one_bit,(pie|one_bit)<<1,(na|one_bit)>>1)#pie i+j na i-j\n",
    "                bit=bit&bit-1#去除最后一个1\n",
    "        dfsNQueen(0,0,0,0)\n",
    "        return self.count\n",
    "if __name__==\"__main__\":\n",
    "    solution=Solution()\n",
    "    print(solution.totalNQueens(4))\n",
    "    #这种位运算不具备可复原性"
   ]
  },
  {
   "cell_type": "code",
   "execution_count": 13,
   "metadata": {},
   "outputs": [
    {
     "name": "stdout",
     "output_type": "stream",
     "text": [
      "[['Q']]\n"
     ]
    }
   ],
   "source": [
    "#n皇后问题最快的方法其实是暴力打表法\n",
    "#n皇后问题\n",
    "#\n",
    "#n皇后问题最快的方法其实是暴力打表法\n",
    "#n皇后问题\n",
    "#\n",
    "import copy\n",
    "class Solution:\n",
    "    def totalNQueens(self, n: int) -> int:\n",
    "        if n<=0:\n",
    "            return []\n",
    "        self.count=0\n",
    "        board=[[\".\"]*n for _ in range(n)]\n",
    "        ans=[]\n",
    "        # print(board)\n",
    "        def getBit(bitNum)->int:\n",
    "            count=0\n",
    "            # print(bin(bitNum))\n",
    "            while bitNum>0:\n",
    "                bitNum=bitNum>>1\n",
    "                count+=1\n",
    "            # print(count)\n",
    "            return count-1\n",
    "        def dfsNQueen(row,col,pie,na,board)->int:\n",
    "            if row>=n:\n",
    "                self.count+=1\n",
    "                ans.append(copy.deepcopy(board))\n",
    "                # print(board)\n",
    "                return\n",
    "            #找0的位置\n",
    "            bit=(~(col|na|pie)&((1<<n)-1))#10000-1111 col=1110 na=\n",
    "            while bit>0:\n",
    "                # print(bin(bit))\n",
    "                one_bit=bit&-bit#获得最后一个一\n",
    "                # print(\"row\",row)\n",
    "                board[row][getBit(one_bit)]=\"Q\"\n",
    "                dfsNQueen(row+1,col|one_bit,(pie|one_bit)<<1,(na|one_bit)>>1,board)#pie i+j na i-j\n",
    "                board[row][getBit(one_bit)]=\".\"\n",
    "                bit=bit&bit-1#去除最后一个1\n",
    "        dfsNQueen(0,0,0,0,board)\n",
    "        # print(ans[0][0])\n",
    "        for i in range(len(ans)):\n",
    "            for j in range(len(ans[0])):\n",
    "                ans[i][j]=''.join(ans[i][j])\n",
    "        return ans\n",
    "if __name__==\"__main__\":\n",
    "    solution=Solution()\n",
    "    print(solution.totalNQueens(4))\n",
    "    #这种位运算不具备可复原性"
   ]
  },
  {
   "cell_type": "code",
   "execution_count": null,
   "metadata": {},
   "outputs": [],
   "source": [
    "https://www.zhihu.com/question/268502123"
   ]
  },
  {
   "cell_type": "code",
   "execution_count": 56,
   "metadata": {},
   "outputs": [
    {
     "ename": "TypeError",
     "evalue": "'str' object does not support item assignment",
     "output_type": "error",
     "traceback": [
      "\u001b[1;31m---------------------------------------------------------------------------\u001b[0m",
      "\u001b[1;31mTypeError\u001b[0m                                 Traceback (most recent call last)",
      "\u001b[1;32md:\\Code\\Python\\Leetcode\\位运算_52_N皇后问题.ipynb Cell 4\u001b[0m in \u001b[0;36m<cell line: 2>\u001b[1;34m()\u001b[0m\n\u001b[0;32m      <a href='vscode-notebook-cell:/d%3A/Code/Python/Leetcode/%E4%BD%8D%E8%BF%90%E7%AE%97_52_N%E7%9A%87%E5%90%8E%E9%97%AE%E9%A2%98.ipynb#X11sZmlsZQ%3D%3D?line=0'>1</a>\u001b[0m board\u001b[39m=\u001b[39m[[\u001b[39m\"\u001b[39m\u001b[39m.\u001b[39m\u001b[39m\"\u001b[39m\u001b[39m*\u001b[39m\u001b[39m4\u001b[39m] \u001b[39mfor\u001b[39;00m _ \u001b[39min\u001b[39;00m \u001b[39mrange\u001b[39m(\u001b[39m4\u001b[39m)]\n\u001b[1;32m----> <a href='vscode-notebook-cell:/d%3A/Code/Python/Leetcode/%E4%BD%8D%E8%BF%90%E7%AE%97_52_N%E7%9A%87%E5%90%8E%E9%97%AE%E9%A2%98.ipynb#X11sZmlsZQ%3D%3D?line=1'>2</a>\u001b[0m board[\u001b[39m0\u001b[39;49m][\u001b[39m0\u001b[39;49m][\u001b[39m0\u001b[39;49m]\u001b[39m=\u001b[39m\u001b[39m\"\u001b[39m\u001b[39mQ\u001b[39m\u001b[39m\"\u001b[39m\n",
      "\u001b[1;31mTypeError\u001b[0m: 'str' object does not support item assignment"
     ]
    }
   ],
   "source": [
    "board=[[\".\"*4] for _ in range(4)]\n",
    "board[0][0][0]=\"Q\""
   ]
  },
  {
   "cell_type": "code",
   "execution_count": null,
   "metadata": {},
   "outputs": [],
   "source": [
    "# 0001&1111\n",
    "bit&-bit#获得最后一个一\n",
    "# 0001&1111=0001\n",
    "bit&bit-1#去除最后一个一\n",
    "#0101&0100=0100"
   ]
  },
  {
   "cell_type": "code",
   "execution_count": null,
   "metadata": {},
   "outputs": [],
   "source": [
    "#撇和捺的编码\n",
    "# \n",
    "撇：   i+j   row+col\n",
    "j<<\n",
    "捺:    i-j   row-col\n",
    "  0123\n",
    "0\".Q..\",\n",
    "1\"...Q\",\n",
    "2\"Q...\",\n",
    "3\"..Q.\",\n",
    "撇：\n",
    "00001\n",
    "000011\n",
    "捺\n",
    "00001\n",
    "00001&"
   ]
  },
  {
   "cell_type": "code",
   "execution_count": null,
   "metadata": {},
   "outputs": [],
   "source": [
    "#撇\n",
    "0010\n",
    "000000&0010=\n",
    "0010\n"
   ]
  },
  {
   "cell_type": "markdown",
   "metadata": {},
   "source": [
    "000"
   ]
  },
  {
   "cell_type": "code",
   "execution_count": null,
   "metadata": {},
   "outputs": [],
   "source": []
  }
 ],
 "metadata": {
  "kernelspec": {
   "display_name": "Python 3.8.13 ('py38')",
   "language": "python",
   "name": "python3"
  },
  "language_info": {
   "codemirror_mode": {
    "name": "ipython",
    "version": 3
   },
   "file_extension": ".py",
   "mimetype": "text/x-python",
   "name": "python",
   "nbconvert_exporter": "python",
   "pygments_lexer": "ipython3",
   "version": "3.8.13"
  },
  "orig_nbformat": 4,
  "vscode": {
   "interpreter": {
    "hash": "76c3c49e318b7c885b43daef0aa3cfe4eb22ade01aff18419595a86661fada18"
   }
  }
 },
 "nbformat": 4,
 "nbformat_minor": 2
}
