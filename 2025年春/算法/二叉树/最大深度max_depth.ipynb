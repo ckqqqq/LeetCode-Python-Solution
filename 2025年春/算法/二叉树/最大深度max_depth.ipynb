{
 "cells": [
  {
   "cell_type": "code",
   "execution_count": null,
   "metadata": {},
   "outputs": [],
   "source": [
    "class Solution(object):\n",
    "    def maxDepth(self, root):\n",
    "        \"\"\"\n",
    "        :type root: Optional[TreeNode]\n",
    "        :rtype: int\n",
    "        \"\"\"\n",
    "        def dfs_max_depth(root):\n",
    "            if root==None:\n",
    "                return 0\n",
    "            return max(dfs_max_depth(root.left)+1,dfs_max_depth(root.right)+1)\n",
    "        return dfs_max_depth(root)\n",
    "        \n",
    "        "
   ]
  }
 ],
 "metadata": {
  "kernelspec": {
   "display_name": "py38",
   "language": "python",
   "name": "python3"
  },
  "language_info": {
   "name": "python",
   "version": "3.8.13"
  }
 },
 "nbformat": 4,
 "nbformat_minor": 2
}
