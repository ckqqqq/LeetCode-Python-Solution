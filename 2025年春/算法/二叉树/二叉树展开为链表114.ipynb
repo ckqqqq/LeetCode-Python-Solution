{
 "cells": [
  {
   "cell_type": "code",
   "execution_count": null,
   "metadata": {},
   "outputs": [],
   "source": [
    "# Definition for a binary tree node.\n",
    "class TreeNode(object):\n",
    "    def __init__(self, val=0, left=None, right=None):\n",
    "        self.val = val\n",
    "        self.left = left\n",
    "        self.right = right\n",
    "class Solution(object):\n",
    "    prev=TreeNode(0)\n",
    "    def flatten(self, root):\n",
    "        \"\"\"\n",
    "        :type root: Optional[TreeNode]\n",
    "        :rtype: None Do not return anything, modify root in-place instead.\n",
    "        \"\"\"\n",
    "        def dfs_to_chain(r):\n",
    "            if r==None:\n",
    "                return None\n",
    "            tmp=r.right\n",
    "            self.prev.right=r\n",
    "            self.prev.left=None# 这个代码最大的点就是要对左边子树赋值为None\n",
    "            self.prev=r\n",
    "            dfs_to_chain(r.left)\n",
    "            dfs_to_chain(tmp)\n",
    "            \n",
    "        dfs_to_chain(root)\n",
    "        return root"
   ]
  }
 ],
 "metadata": {
  "kernelspec": {
   "display_name": "py38",
   "language": "python",
   "name": "python3"
  },
  "language_info": {
   "name": "python",
   "version": "3.8.13"
  }
 },
 "nbformat": 4,
 "nbformat_minor": 2
}
