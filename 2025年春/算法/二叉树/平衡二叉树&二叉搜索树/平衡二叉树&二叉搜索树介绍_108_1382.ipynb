{
 "cells": [
  {
   "cell_type": "code",
   "execution_count": null,
   "metadata": {
    "vscode": {
     "languageId": "plaintext"
    }
   },
   "outputs": [],
   "source": [
    "# 平衡二叉树的本质就是左边子树的内容比右边的所有内容小，根是分界点,然后中序遍历是顺序，左右两个子树的高度差小于一\n"
   ]
  },
  {
   "cell_type": "code",
   "execution_count": null,
   "metadata": {
    "vscode": {
     "languageId": "plaintext"
    }
   },
   "outputs": [],
   "source": [
    "## 108很经典的一道题，将一个顺序数组转成BST,其实将左右两个子树的元素搞平衡就行\n"
   ]
  },
  {
   "cell_type": "code",
   "execution_count": null,
   "metadata": {},
   "outputs": [],
   "source": [
    "# Definition for a binary tree node.\n",
    "class TreeNode(object):\n",
    "    def __init__(self, val=0, left=None, right=None):\n",
    "        self.val = val\n",
    "        self.left = left\n",
    "        self.right = right\n",
    "class Solution(object):\n",
    "    def sortedArrayToBST(self, nums):\n",
    "        \"\"\"\n",
    "        :type nums: List[int]\n",
    "        :rtype: Optional[TreeNode]\n",
    "        \"\"\"\n",
    "        def dfs_mid(left,right):\n",
    "            if left>right:\n",
    "                return None\n",
    "            mid=(left+right)//2\n",
    "            root=TreeNode(nums[mid])\n",
    "            root.left=dfs_mid(left,mid-1)\n",
    "            root.right=dfs_mid(mid+1,right)\n",
    "            return root\n",
    "        root=dfs_mid(0,len(nums)-1)\n",
    "        return root\n",
    "        \n",
    "          \n",
    "          "
   ]
  },
  {
   "cell_type": "markdown",
   "metadata": {},
   "source": [
    "## 98 同样很经典的题 验证一棵树是不是二叉搜索树\n"
   ]
  },
  {
   "cell_type": "code",
   "execution_count": null,
   "metadata": {},
   "outputs": [],
   "source": [
    "# Definition for a binary tree node.\n",
    "# class TreeNode(object):\n",
    "#     def __init__(self, val=0, left=None, right=None):\n",
    "#         self.val = val\n",
    "#         self.left = left\n",
    "#         self.right = right\n",
    "class Solution(object):\n",
    "    def isValidBST(self, root):\n",
    "        \"\"\"\n",
    "        :type root: Optional[TreeNode]\n",
    "        :rtype: bool\n",
    "        \"\"\"  \n",
    "        # global prev #这是一个预先声明的全局变量\n",
    "        prev_val=-10291384721983421394\n",
    "        def bst_dfs(r):\n",
    "            # global prev\n",
    "            if r==None:\n",
    "                return True\n",
    "            is_left=bst_dfs(r.left)\n",
    "            if prev_val>=r.val or is_left==False: # 这里有一个熔断机制\n",
    "                return False\n",
    "            else:\n",
    "                prev_val=r.val\n",
    "            is_right=bst_dfs(r.right)\n",
    "            return is_left and is_right\n",
    "        return bst_dfs(root)            \n",
    "            \n",
    "            \n",
    "            "
   ]
  },
  {
   "cell_type": "code",
   "execution_count": null,
   "metadata": {},
   "outputs": [],
   "source": []
  }
 ],
 "metadata": {
  "language_info": {
   "name": "python"
  }
 },
 "nbformat": 4,
 "nbformat_minor": 2
}
