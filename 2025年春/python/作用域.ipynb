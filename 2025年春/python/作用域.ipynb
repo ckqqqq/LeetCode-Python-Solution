{
 "cells": [
  {
   "cell_type": "code",
   "execution_count": null,
   "metadata": {},
   "outputs": [],
   "source": [
    "单纯读没事"
   ]
  },
  {
   "cell_type": "code",
   "execution_count": 4,
   "metadata": {},
   "outputs": [
    {
     "name": "stdout",
     "output_type": "stream",
     "text": [
      "1\n"
     ]
    }
   ],
   "source": [
    "def a():\n",
    "    j=1\n",
    "    def b():\n",
    "        print(j)\n",
    "    return b()\n",
    "a()"
   ]
  },
  {
   "cell_type": "markdown",
   "metadata": {},
   "source": [
    "Python 中变量的作用域遵循 LEGB（Local → Enclosing → Global → Built-in）规则。当你在函数内部使用一个变量，如果该变量在函数内部没有赋值过，Python 会尝试从外部作用域（例如 a() 中的作用域）查找该变量。但一旦你在函数内部给变量赋值（即 j = 11），Python 就会把它当做一个局部变量，尝试在函数内部查找。\n",
    "\n",
    "由于在 b() 函数中没有给 j 赋过值，Python 会认为它是一个局部变量，在访问 j 时会出现错误，因为它无法从 b() 的局部作用域找到该变量。"
   ]
  },
  {
   "cell_type": "code",
   "execution_count": null,
   "metadata": {},
   "outputs": [
    {
     "ename": "UnboundLocalError",
     "evalue": "local variable 'j' referenced before assignment",
     "output_type": "error",
     "traceback": [
      "\u001b[1;31m---------------------------------------------------------------------------\u001b[0m",
      "\u001b[1;31mUnboundLocalError\u001b[0m                         Traceback (most recent call last)",
      "Input \u001b[1;32mIn [5]\u001b[0m, in \u001b[0;36m<cell line: 9>\u001b[1;34m()\u001b[0m\n\u001b[0;32m      7\u001b[0m         \u001b[38;5;28mprint\u001b[39m(j)\n\u001b[0;32m      8\u001b[0m     \u001b[38;5;28;01mreturn\u001b[39;00m b()\n\u001b[1;32m----> 9\u001b[0m \u001b[43ma\u001b[49m\u001b[43m(\u001b[49m\u001b[43m)\u001b[49m\n",
      "Input \u001b[1;32mIn [5]\u001b[0m, in \u001b[0;36ma\u001b[1;34m()\u001b[0m\n\u001b[0;32m      6\u001b[0m         j\u001b[38;5;241m=\u001b[39m\u001b[38;5;241m11\u001b[39m\n\u001b[0;32m      7\u001b[0m     \u001b[38;5;28mprint\u001b[39m(j)\n\u001b[1;32m----> 8\u001b[0m \u001b[38;5;28;01mreturn\u001b[39;00m \u001b[43mb\u001b[49m\u001b[43m(\u001b[49m\u001b[43m)\u001b[49m\n",
      "Input \u001b[1;32mIn [5]\u001b[0m, in \u001b[0;36ma.<locals>.b\u001b[1;34m()\u001b[0m\n\u001b[0;32m      3\u001b[0m \u001b[38;5;28;01mdef\u001b[39;00m \u001b[38;5;21mb\u001b[39m():\n\u001b[0;32m      4\u001b[0m     c\u001b[38;5;241m=\u001b[39m\u001b[38;5;241m2\u001b[39m\n\u001b[1;32m----> 5\u001b[0m     \u001b[38;5;28;01mif\u001b[39;00m \u001b[43mj\u001b[49m\u001b[38;5;241m<\u001b[39mc:\n\u001b[0;32m      6\u001b[0m         j\u001b[38;5;241m=\u001b[39m\u001b[38;5;241m11\u001b[39m\n\u001b[0;32m      7\u001b[0m     \u001b[38;5;28mprint\u001b[39m(j)\n",
      "\u001b[1;31mUnboundLocalError\u001b[0m: local variable 'j' referenced before assignment"
     ]
    }
   ],
   "source": [
    "def a():\n",
    "    j=1\n",
    "    def b():\n",
    "        c=2\n",
    "        if j<c: # 此处的j由于被读写了，所以会在这里就报错\n",
    "            j=11\n",
    "        print(j)\n",
    "    return b()\n",
    "a()"
   ]
  },
  {
   "cell_type": "markdown",
   "metadata": {},
   "source": [
    "所以推荐self中使用类变量，而不是global"
   ]
  },
  {
   "cell_type": "code",
   "execution_count": null,
   "metadata": {},
   "outputs": [],
   "source": [
    "#\n",
    "class Solution(object):\n",
    "    prev_val=-10291384721983421394\n",
    "    def isValidBST(self, root):\n",
    "        \"\"\"\n",
    "        :type root: Optional[TreeNode]\n",
    "        :rtype: bool\n",
    "        \"\"\"  \n",
    "        # global prev #这是一个预先声明的全局变量\n",
    "        \n",
    "        def bst_dfs(r):\n",
    "            # global prev\n",
    "            if r==None:\n",
    "                return True\n",
    "            is_left=bst_dfs(r.left)\n",
    "            if self.prev_val>=r.val or is_left==False: # 这里有一个熔断机制\n",
    "                return False\n",
    "            else:\n",
    "                self.prev_val=r.val\n",
    "            is_right=bst_dfs(r.right)\n",
    "            return is_left and is_right\n",
    "        return bst_dfs(root)        "
   ]
  },
  {
   "cell_type": "code",
   "execution_count": null,
   "metadata": {},
   "outputs": [],
   "source": [
    "如果你使用 global prev，prev 的作用域是全局的，即整个 Python 文件中的所有函数都可以访问它，但这通常不是最推荐的做法，因为它增加了代码的耦合性，难以维护。"
   ]
  }
 ],
 "metadata": {
  "kernelspec": {
   "display_name": "py38",
   "language": "python",
   "name": "python3"
  },
  "language_info": {
   "codemirror_mode": {
    "name": "ipython",
    "version": 3
   },
   "file_extension": ".py",
   "mimetype": "text/x-python",
   "name": "python",
   "nbconvert_exporter": "python",
   "pygments_lexer": "ipython3",
   "version": "3.8.13"
  }
 },
 "nbformat": 4,
 "nbformat_minor": 2
}
