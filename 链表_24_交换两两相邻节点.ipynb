{
 "cells": [
  {
   "attachments": {},
   "cell_type": "markdown",
   "metadata": {},
   "source": [
    "24. Swap Nodes in Pairs\n",
    "Medium\n",
    "8.9K\n",
    "348\n",
    "Companies\n",
    "Given a linked list, swap every two adjacent nodes and return its head. You must solve the problem without modifying the values in the list's nodes (i.e., only nodes themselves may be changed.)\n",
    "\n",
    " \n",
    "\n",
    "Example 1:\n",
    "\n",
    "\n",
    "Input: head = [1,2,3,4]\n",
    "Output: [2,1,4,3]\n",
    "Example 2:\n",
    "\n",
    "Input: head = []\n",
    "Output: []\n",
    "Example 3:\n",
    "\n",
    "Input: head = [1]\n",
    "Output: [1]\n",
    " \n",
    "\n",
    "Constraints:\n",
    "\n",
    "The number of nodes in the list is in the range [0, 100].\n",
    "0 <= Node.val <= 100"
   ]
  },
  {
   "cell_type": "code",
   "execution_count": null,
   "metadata": {},
   "outputs": [],
   "source": [
    "# 24ms hhhh\n",
    "class Solution:\n",
    "    def swapPairs(self, head: Optional[ListNode]) -> Optional[ListNode]:\n",
    "        if head is None or head.next is None:\n",
    "            return head\n",
    "        first_node = head\n",
    "        second_node = head.next\n",
    "        \n",
    "        first_node.next = self.swapPairs(second_node.next)\n",
    "        \n",
    "        second_node.next = first_node\n",
    "        \n",
    "        return second_node\n",
    "    \n",
    "    # 1->2->3->4"
   ]
  },
  {
   "cell_type": "code",
   "execution_count": null,
   "metadata": {},
   "outputs": [],
   "source": [
    "# Definition for singly-linked list.\n",
    "# class ListNode:\n",
    "#     def __init__(self, val=0, next=None):\n",
    "#         self.val = val\n",
    "#         self.next = next\n",
    "class Solution:\n",
    "    def swapPairs(self, head: Optional[ListNode]) -> Optional[ListNode]:# 从后往前\n",
    "        cur=head\n",
    "        realhead=ListNode(10086,head)\n",
    "        prev=realhead\n",
    "        later=None\n",
    "        while cur!=None and cur.next!=None:\n",
    "            later=cur.next.next\n",
    "            cur.next.next=cur\n",
    "            prev.next=cur.next\n",
    "            cur.next=later\n",
    "            prev=cur\n",
    "            cur=later\n",
    "        return realhead.next"
   ]
  }
 ],
 "metadata": {
  "language_info": {
   "name": "python"
  },
  "orig_nbformat": 4
 },
 "nbformat": 4,
 "nbformat_minor": 2
}
