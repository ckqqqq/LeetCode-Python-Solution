{
 "cells": [
  {
   "cell_type": "code",
   "execution_count": 2,
   "metadata": {},
   "outputs": [
    {
     "name": "stdout",
     "output_type": "stream",
     "text": [
      "2\n",
      "1\n",
      "4\n"
     ]
    }
   ],
   "source": [
    "from typing import List\n",
    "class Solution:\n",
    "    def searchRange(self, nums: List[int], target: int) -> List[int]:\n",
    "        left,right=0,len(nums)-1\n",
    "        while left<=right:\n",
    "            mid=(right+left)//2\n",
    "            if nums[mid]>target:\n",
    "                right=mid-1\n",
    "            elif nums[mid]<target:\n",
    "                left=mid+1\n",
    "            elif nums[mid]==target:\n",
    "                return mid\n",
    "        return left\n",
    "solution=Solution()\n",
    "print(solution.searchRange([1,3,5,6],5))\n",
    "print(solution.searchRange([1,3,5,6],2))\n",
    "print(solution.searchRange([1,3,5,6],7))"
   ]
  }
 ],
 "metadata": {
  "kernelspec": {
   "display_name": "base",
   "language": "python",
   "name": "python3"
  },
  "language_info": {
   "codemirror_mode": {
    "name": "ipython",
    "version": 3
   },
   "file_extension": ".py",
   "mimetype": "text/x-python",
   "name": "python",
   "nbconvert_exporter": "python",
   "pygments_lexer": "ipython3",
   "version": "3.9.12"
  },
  "orig_nbformat": 4,
  "vscode": {
   "interpreter": {
    "hash": "7b93ae2ddedcfb4b7ddebf80c8c7984044339b2e43f10e14b9461f3e640893f2"
   }
  }
 },
 "nbformat": 4,
 "nbformat_minor": 2
}
