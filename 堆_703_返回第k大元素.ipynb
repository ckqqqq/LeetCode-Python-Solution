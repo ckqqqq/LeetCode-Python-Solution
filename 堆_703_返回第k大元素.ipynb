{
 "cells": [
  {
   "cell_type": "markdown",
   "metadata": {},
   "source": [
    "703. Kth Largest Element in a Stream\n",
    "Easy\n",
    "\n",
    "3330\n",
    "\n",
    "1930\n",
    "\n",
    "Add to List\n",
    "\n",
    "Share\n",
    "Design a class to find the kth largest element in a stream. Note that it is the kth largest element in the sorted order, not the kth distinct element.\n",
    "\n",
    "Implement KthLargest class:\n",
    "\n",
    "KthLargest(int k, int[] nums) Initializes the object with the integer k and the stream of integers nums.\n",
    "int add(int val) Appends the integer val to the stream and returns the element representing the kth largest element in the stream.\n",
    " \n",
    "\n",
    "Example 1:\n",
    "\n",
    "Input\n",
    "[\"KthLargest\", \"add\", \"add\", \"add\", \"add\", \"add\"]\n",
    "[[3, [4, 5, 8, 2]], [3], [5], [10], [9], [4]]\n",
    "Output\n",
    "[null, 4, 5, 5, 8, 8]\n",
    "\n",
    "Explanation\n",
    "KthLargest kthLargest = new KthLargest(3, [4, 5, 8, 2]);\n",
    "kthLargest.add(3);   // return 4\n",
    "kthLargest.add(5);   // return 5\n",
    "kthLargest.add(10);  // return 5\n",
    "kthLargest.add(9);   // return 8\n",
    "kthLargest.add(4);   // return 8"
   ]
  },
  {
   "cell_type": "markdown",
   "metadata": {},
   "source": [
    "#### python 中的堆\n",
    "\n"
   ]
  },
  {
   "cell_type": "code",
   "execution_count": 4,
   "metadata": {},
   "outputs": [
    {
     "name": "stdout",
     "output_type": "stream",
     "text": [
      "The created heap is :  [1, 3, 9, 7, 5]\n",
      "[1, 3, 8, 7, 5, 9]\n",
      "The 3 largest numbers in list are : [9, 8, 7]\n",
      "The 3 smallest numbers in list are : [1, 3, 5]\n"
     ]
    }
   ],
   "source": [
    "# importing \"heapq\" to implement heap queue\n",
    "import heapq\n",
    " #import heapq\n",
    "# initializing list\n",
    "li = [5, 7, 9, 1, 3]\n",
    " \n",
    "# using heapify to convert list into heap\n",
    "heapq.heapify(li)\n",
    "# printing created heap\n",
    "print (\"The created heap is : \",(list(li)))\n",
    "heapq.heappush(li,8)\n",
    "print(list(li))\n",
    "print(\"The 3 largest numbers in list are : \", end=\"\")\n",
    "print(heapq.nlargest(3, li))\n",
    " \n",
    "# using nsmallest to print 3 smallest numbers\n",
    "# prints 1, 3 and 4\n",
    "print(\"The 3 smallest numbers in list are : \", end=\"\")\n",
    "print(heapq.nsmallest(3, li))"
   ]
  },
  {
   "cell_type": "code",
   "execution_count": 23,
   "metadata": {},
   "outputs": [
    {
     "name": "stdout",
     "output_type": "stream",
     "text": [
      "[]\n",
      "None\n",
      "0\n",
      "[1, 2, 9, 6]\n",
      "6\n"
     ]
    }
   ],
   "source": [
    "#重新做 -主要是熟悉heapq的用法\n",
    "import heapq\n",
    "aaaa=[0,6,9,2]\n",
    "print(-1*aaaa)\n",
    "heapq.heapify(aaaa)\n",
    "print(heapq.heappush(aaaa,1))\n",
    "print(heapq.heappop(aaaa))\n",
    "print(aaaa)\n",
    "print(aaaa[3])"
   ]
  },
  {
   "cell_type": "markdown",
   "metadata": {},
   "source": [
    "    1\n",
    "  3  5 \n",
    "8 7  9\n",
    "arr[i] <= arr[2i+1] && arr[i] <= arr[2i+2]\n",
    "https://www.geeksforgeeks.org/heap-queue-or-heapq-in-python/"
   ]
  },
  {
   "cell_type": "markdown",
   "metadata": {},
   "source": [
    "#python中只有小顶堆没有大顶堆\n",
    "获取方法\n",
    "逆序输出\n",
    "负数 -1 全部加符负号"
   ]
  },
  {
   "cell_type": "code",
   "execution_count": 10,
   "metadata": {},
   "outputs": [
    {
     "name": "stdout",
     "output_type": "stream",
     "text": [
      "4\n",
      "5\n",
      "5\n",
      "8\n",
      "8\n"
     ]
    }
   ],
   "source": [
    "from typing import List\n",
    "import heapq\n",
    "class KthLargest:\n",
    "    def __init__(self,k:int,nums:List[int]):#初始化数组\n",
    "        self.heap=nums\n",
    "        heapq.heapify(self.heap)\n",
    "        self.k=k\n",
    "        \n",
    "    def add(self,val:int)->int:#添加数据流\n",
    "        heapq.heappush(self.heap,val)# 传入一个heapify的数组，对其进行操作\n",
    "        while len(self.heap)>self.k:\n",
    "            heapq.heappop(self.heap)\n",
    "        return self.heap[0]\n",
    "#返回数据流中的k大元素\n",
    "if __name__==\"__main__\":\n",
    "    kthLargest=KthLargest(3, [4, 5, 8, 2])\n",
    "    print(kthLargest.add(3))\n",
    "    print(kthLargest.add(5))\n",
    "    print(kthLargest.add(10))\n",
    "    print(kthLargest.add(9))\n",
    "    print(kthLargest.add(4))\n",
    "\n"
   ]
  }
 ],
 "metadata": {
  "kernelspec": {
   "display_name": "Python 3.8.13 ('py38')",
   "language": "python",
   "name": "python3"
  },
  "language_info": {
   "codemirror_mode": {
    "name": "ipython",
    "version": 3
   },
   "file_extension": ".py",
   "mimetype": "text/x-python",
   "name": "python",
   "nbconvert_exporter": "python",
   "pygments_lexer": "ipython3",
   "version": "3.8.13"
  },
  "orig_nbformat": 4,
  "vscode": {
   "interpreter": {
    "hash": "76c3c49e318b7c885b43daef0aa3cfe4eb22ade01aff18419595a86661fada18"
   }
  }
 },
 "nbformat": 4,
 "nbformat_minor": 2
}
