{
 "cells": [
  {
   "attachments": {},
   "cell_type": "markdown",
   "metadata": {},
   "source": [
    "## 题目描述\n",
    "\n",
    "判断一个整数是否是回文数。回文数是指正序（从左向右）和倒序（从右向左）读都是一样的整数。\n",
    "\n",
    "**示例 1:**\n",
    "\n",
    "```\n",
    "输入: 121\n",
    "输出: true\n",
    "```\n",
    "\n",
    "**示例 2:**\n",
    "\n",
    "```\n",
    "输入: -121\n",
    "输出: false\n",
    "解释: 从左向右读, 为 -121 。 从右向左读, 为 121- 。因此它不是一个回文数。\n",
    "```\n",
    "\n",
    "**示例 3:**\n",
    "\n",
    "```\n",
    "输入: 10\n",
    "输出: false\n",
    "解释: 从右向左读, 为 01 。因此它不是一个回文数。\n",
    "```\n",
    "\n",
    "**进阶:**\n",
    "\n",
    "你能不将整数转为字符串来解决这个问题吗？"
   ]
  },
  {
   "cell_type": "code",
   "execution_count": 1,
   "metadata": {},
   "outputs": [],
   "source": [
    "class Solution(object):\n",
    "    def isPalindrome(self, x: int) -> bool:\n",
    "        x = str(x)\n",
    "        if (x == x[::-1]):# python中的字符串操作能够显示负数\n",
    "            return True\n",
    "        return False   \n",
    "solution=Solution()\n",
    "print(solution.isPalindrome(-121))\n",
    "print(solution.isPalindrome(121))  \n",
    "print(solution.isPalindrome(1210))  \n",
    "  "
   ]
  },
  {
   "cell_type": "code",
   "execution_count": 13,
   "metadata": {},
   "outputs": [
    {
     "name": "stdout",
     "output_type": "stream",
     "text": [
      "01 -1\n",
      "1\n",
      "1\n"
     ]
    }
   ],
   "source": [
    "#\n",
    "print(str(10)[::-1],str(00-1))\n",
    "print(10//10)\n",
    "def getWe(x,we):\n",
    "    remain=x%10**(we+1)\n",
    "    ans=remain//10**we\n",
    "    return ans\n",
    "print(getWe(120,2))"
   ]
  },
  {
   "cell_type": "code",
   "execution_count": 21,
   "metadata": {},
   "outputs": [
    {
     "name": "stdout",
     "output_type": "stream",
     "text": [
      "False\n",
      "1 0\n",
      "False\n",
      "2 0\n",
      "True\n",
      "3 0\n",
      "False\n",
      "4 0\n",
      "3 1\n",
      "True\n",
      "4 0\n",
      "3 1\n",
      "False\n"
     ]
    }
   ],
   "source": [
    "class Solution(object):\n",
    "    def div10_(self,x):\n",
    "        ans=0\n",
    "        while x!=0:\n",
    "            x=x//10\n",
    "            ans+=1\n",
    "        return ans-1\n",
    "    def getWe(self,x,we):\n",
    "        \n",
    "        remain=x%10**(we+1)\n",
    "        return remain//(10**we)\n",
    "    def isPalindrome(self, x: int) -> bool:        \n",
    "        if x<0:\n",
    "            return False\n",
    "        left,right=self.div10_(x),0\n",
    "        while left>right:\n",
    "            print(left,right)\n",
    "            if self.getWe(x,left)!=self.getWe(x,right):\n",
    "                return False\n",
    "            left,right=left-1,right+1\n",
    "        return True   \n",
    "solution=Solution()\n",
    "print(solution.isPalindrome(-121))\n",
    "print(solution.isPalindrome(10))\n",
    "print(solution.isPalindrome(121))  \n",
    "print(solution.isPalindrome(1210))\n",
    "print(solution.isPalindrome(12021)) \n",
    "print(solution.isPalindrome(11001)) \n",
    "  "
   ]
  },
  {
   "cell_type": "code",
   "execution_count": null,
   "metadata": {},
   "outputs": [],
   "source": []
  },
  {
   "cell_type": "code",
   "execution_count": 14,
   "metadata": {},
   "outputs": [
    {
     "name": "stdout",
     "output_type": "stream",
     "text": [
      "4\n"
     ]
    }
   ],
   "source": [
    "def getWe(x,we):\n",
    "    remain=x%10**(we+1)\n",
    "    return remain//(10**we)\n",
    "print(getWe(12345681,4))\n"
   ]
  },
  {
   "cell_type": "code",
   "execution_count": null,
   "metadata": {},
   "outputs": [],
   "source": [
    "# 官方正解\n",
    "class Solution:\n",
    "    def isPalindrome(self, x: int) -> bool:\n",
    "        if x < 0 or (x % 10 == 0 and x != 0):\n",
    "            return False\n",
    "        reverse = 0# 大意就是翻转，将后面几位放到前面，同时x变小，比我的方法更好\n",
    "        while (x > reverse):\n",
    "            reverse = reverse * 10 + x % 10\n",
    "            x = x // 10\n",
    "        return x == reverse or x == reverse // 10\n",
    "solution=Solution()\n",
    "print(solution.isPalindrome(-121))\n",
    "print(solution.isPalindrome(10))\n",
    "print(solution.isPalindrome(121))  \n",
    "print(solution.isPalindrome(1210))\n",
    "print(solution.isPalindrome(12021)) \n",
    "print(solution.isPalindrome(11001)) "
   ]
  },
  {
   "cell_type": "code",
   "execution_count": 2,
   "metadata": {},
   "outputs": [
    {
     "name": "stdout",
     "output_type": "stream",
     "text": [
      "2147483648 2147483648\n"
     ]
    }
   ],
   "source": [
    "print(1<<31,2**31)"
   ]
  }
 ],
 "metadata": {
  "kernelspec": {
   "display_name": "base",
   "language": "python",
   "name": "python3"
  },
  "language_info": {
   "codemirror_mode": {
    "name": "ipython",
    "version": 3
   },
   "file_extension": ".py",
   "mimetype": "text/x-python",
   "name": "python",
   "nbconvert_exporter": "python",
   "pygments_lexer": "ipython3",
   "version": "3.9.12"
  },
  "orig_nbformat": 4,
  "vscode": {
   "interpreter": {
    "hash": "7b93ae2ddedcfb4b7ddebf80c8c7984044339b2e43f10e14b9461f3e640893f2"
   }
  }
 },
 "nbformat": 4,
 "nbformat_minor": 2
}
