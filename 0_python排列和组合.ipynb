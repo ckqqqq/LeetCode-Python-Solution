{
 "cells": [
  {
   "attachments": {},
   "cell_type": "markdown",
   "metadata": {},
   "source": [
    "**打印出特定的数比如$C_{5}^{3}$**\n"
   ]
  },
  {
   "cell_type": "code",
   "execution_count": 4,
   "metadata": {},
   "outputs": [
    {
     "name": "stdout",
     "output_type": "stream",
     "text": [
      "10\n"
     ]
    }
   ],
   "source": [
    "# 方法1 Pascal triangle\n",
    "def pascal_triangle(n, k):\n",
    "    if k == 0 or k == n:\n",
    "        return 1\n",
    "    return pascal_triangle(n - 1, k - 1) + pascal_triangle(n - 1, k)\n",
    "print(pascal_triangle(5, 3)) # 输出 10\n"
   ]
  },
  {
   "attachments": {},
   "cell_type": "markdown",
   "metadata": {},
   "source": [
    "$$C(n,k) = n! / (k! * (n-k)!)$$\n",
    "\n",
    "$$\\frac{(n-1)*(n-2)...(n-k+1)}{(k-1)*...*1}+\\frac{(n-1)*(n-2)...(n-k+1)*(n-k)}{k*...*1}$$\n",
    "\n",
    "左边乘上k \n",
    "\n",
    "$$=\\frac{(n-1)*(n-2)...(n-k+1)[(n-k)+(k)]}{k*...*1}$$"
   ]
  },
  {
   "cell_type": "code",
   "execution_count": 20,
   "metadata": {},
   "outputs": [
    {
     "name": "stdout",
     "output_type": "stream",
     "text": [
      "35\n",
      "1\n"
     ]
    }
   ],
   "source": [
    "#方法二 ：隔板法\n",
    "def combination(n, k):\n",
    "    if n-k<k:\n",
    "        k=n-k\n",
    "    res = 1\n",
    "    for i in range(0,k):\n",
    "        assert res*(n-i)%(i+1)==0,f\"无法整除{res} {i+1}\"\n",
    "        res = res * (n - i) // (i + 1)# 这里可以换成整除\n",
    "    return res\n",
    "print(combination(7, 3)) # 输出 10\n",
    "print(combination(7,0))\n",
    "# 7*6*5*4//1*2*3"
   ]
  },
  {
   "attachments": {},
   "cell_type": "markdown",
   "metadata": {},
   "source": [
    "$$\\frac{n*(n-1)*...*(n-k+1)}{k*(k-1)*...*1} = 累乘\\frac{(n-i)*...}{i}"
   ]
  },
  {
   "attachments": {},
   "cell_type": "markdown",
   "metadata": {},
   "source": [
    "**陈列固定的组合的组合数**\n",
    "可以使用全排列算法，如 Heap's Algorithm 或者 Johnson-Trotter Algorithm来实现。时间复杂度为O(n!)\n",
    "以下是 Python 实现的 Heap's Algorithm 算法：(简单)"
   ]
  },
  {
   "cell_type": "code",
   "execution_count": null,
   "metadata": {},
   "outputs": [],
   "source": [
    "# 最终的方法！ 牢记！！！！！！！！！！！\n",
    "class Solution:\n",
    "    def permuteUnique(self,nums):\n",
    "        LEN=len(nums)\n",
    "        result=[]\n",
    "        def permute_unique(nums,start):\n",
    "            if start==LEN-1:\n",
    "                print(nums)\n",
    "                result.append(nums[:])\n",
    "                return \n",
    "            for i in range(start,LEN):\n",
    "                if i>start and nums[i]==nums[start]:# 这一步去除值重复\n",
    "                    continue\n",
    "                nums[i],nums[start]=nums[start],nums[i]\n",
    "                permute_unique(nums,start+1)\n",
    "                nums[i],nums[start]=nums[start],nums[i]\n",
    "        permute_unique(nums,0)\n",
    "        return result\n",
    "solution=Solution()\n",
    "print(solution.permuteUnique([1,1,2,1]))"
   ]
  },
  {
   "cell_type": "code",
   "execution_count": 21,
   "metadata": {},
   "outputs": [
    {
     "name": "stdout",
     "output_type": "stream",
     "text": [
      "[1, 2, 3, 4]\n",
      "[2, 1, 3, 4]\n",
      "[3, 1, 2, 4]\n",
      "[1, 3, 2, 4]\n",
      "[2, 3, 1, 4]\n",
      "[3, 2, 1, 4]\n",
      "[4, 2, 1, 3]\n",
      "[2, 4, 1, 3]\n",
      "[1, 4, 2, 3]\n",
      "[4, 1, 2, 3]\n",
      "[2, 1, 4, 3]\n",
      "[1, 2, 4, 3]\n",
      "[1, 3, 4, 2]\n",
      "[3, 1, 4, 2]\n",
      "[4, 1, 3, 2]\n",
      "[1, 4, 3, 2]\n",
      "[3, 4, 1, 2]\n",
      "[4, 3, 1, 2]\n",
      "[4, 3, 2, 1]\n",
      "[3, 4, 2, 1]\n",
      "[2, 4, 3, 1]\n",
      "[4, 2, 3, 1]\n",
      "[3, 2, 4, 1]\n",
      "[2, 3, 4, 1]\n"
     ]
    }
   ],
   "source": [
    "# 堆算法遍历\n",
    "# 这个算法的技巧就是环环相扣，从n=2 3 4 慢慢推导\n",
    "def heap_permutation(data, n):\n",
    "    if n == 1:\n",
    "        print(data)\n",
    "        return\n",
    "    for i in range(0,n - 1):# 只循环n-1次 比如n=2 只循环一次\n",
    "        heap_permutation(data, n - 1)# 不动data[n] 移动其前面的n-1个数\n",
    "        if n % 2 == 0:# 如果n是偶数，交换第i位和最后一位\n",
    "            data[i], data[n-1] = data[n-1], data[i]\n",
    "        else:# 如果n是奇数 ,交换第0位置和最后一位\n",
    "            data[0], data[n-1] = data[n-1], data[0]\n",
    "    heap_permutation(data, n - 1)\n",
    "data = [1, 2, 3,4]\n",
    "heap_permutation(data, len(data))\n",
    "#需要注意的是这个算法需要大量计算，如果序列长度较大时可能会导致计算资源紧张。"
   ]
  },
  {
   "cell_type": "code",
   "execution_count": 1,
   "metadata": {},
   "outputs": [
    {
     "name": "stdout",
     "output_type": "stream",
     "text": [
      "[1, 1, 3]\n",
      "[1, 1, 3]\n",
      "[3, 1, 1]\n",
      "[1, 3, 1]\n",
      "[1, 3, 1]\n",
      "[3, 1, 1]\n"
     ]
    }
   ],
   "source": [
    "''''Johnson-Trotter Algorithm 是一种更为高效的全排列算法，它生成全排列时不会产生重复排列。缺点是实现相对复杂，需要维护额外的状态信息。'''\n",
    "def swap(arr, i, j):\n",
    "    temp = arr[i]\n",
    "    arr[i] = arr[j]\n",
    "    arr[j] = temp\n",
    "\n",
    "def permute(arr, n, direction, position):\n",
    "    if n == 1:\n",
    "        print(arr)\n",
    "        return\n",
    "    for i in range(n):\n",
    "        permute(arr, n - 1, direction, position)\n",
    "        if (n % 2 == 0):\n",
    "            swap(arr, i, n - 1)\n",
    "        else:\n",
    "            swap(arr, position[n - 1], n - 1)\n",
    "    position[n - 1] += direction[n - 1]\n",
    "\n",
    "def generate_permutations(arr):\n",
    "    n = len(arr)\n",
    "    direction = [-1] * n\n",
    "    position = [0] * n\n",
    "    permute(arr, n, direction, position)\n",
    "\n",
    "data = [1, 1, 3]\n",
    "generate_permutations(data)\n",
    "# 这里要小心\n"
   ]
  },
  {
   "attachments": {},
   "cell_type": "markdown",
   "metadata": {},
   "source": [
    "[1, 2, 3, 4] 1 2\n",
    "[2, 1, 3, 4] 2 3 [0] [n-1](n==3)\n",
    "[3, 1, 2, 4] 3 1\n",
    "[1, 3, 2, 4] 1 2 [0] [n-1]\n",
    "[2, 3, 1, 4] 2 3 \n",
    "[3, 2, 1, 4] 3 4 (偶数) [i] [n-1] (n==4)\n",
    "[4, 2, 1, 3] 4 2\n",
    "[2, 4, 1, 3]\n",
    "[1, 4, 2, 3] 1 4\n",
    "[4, 1, 2, 3]\n",
    "[2, 1, 4, 3] 2 1\n",
    "[1, 2, 4, 3] 2 3 (偶数) [i] [n-1] (n==4)\n",
    "[1, 3, 4, 2] \n",
    "[3, 1, 4, 2]\n",
    "[4, 1, 3, 2]\n",
    "[1, 4, 3, 2]\n",
    "[3, 4, 1, 2]\n",
    "[4, 3, 1, 2] 记得循环结束还需要一次递归 1,2 [i] [n-1](n==4)\n",
    "[4, 3, 2, 1]\n",
    "[3, 4, 2, 1]\n",
    "[2, 4, 3, 1]\n",
    "[4, 2, 3, 1]\n",
    "[3, 2, 4, 1]\n",
    "[2, 3, 4, 1]\n",
    "2 是偶数  交换一次\n",
    "3 是奇数  因为2已经交换了 只需要操作0就行\n",
    "4 是偶数  需要多次遍历，\n",
    "                      而1 2 3 变成了3 2 1 所以i=0挑选3 \n",
    "                        4 2 1 变成了1 2 4 所以i=1挑选2\n",
    "                        1 3 4 变成了4 3 1 所以i=3挑选1 #我们可以看到1的位置在经过偶数次变换后位置不变\n",
    "                                                      # 所以在下一轮奇数循环 "
   ]
  }
 ],
 "metadata": {
  "kernelspec": {
   "display_name": "base",
   "language": "python",
   "name": "python3"
  },
  "language_info": {
   "codemirror_mode": {
    "name": "ipython",
    "version": 3
   },
   "file_extension": ".py",
   "mimetype": "text/x-python",
   "name": "python",
   "nbconvert_exporter": "python",
   "pygments_lexer": "ipython3",
   "version": "3.9.12"
  },
  "orig_nbformat": 4,
  "vscode": {
   "interpreter": {
    "hash": "7b93ae2ddedcfb4b7ddebf80c8c7984044339b2e43f10e14b9461f3e640893f2"
   }
  }
 },
 "nbformat": 4,
 "nbformat_minor": 2
}
