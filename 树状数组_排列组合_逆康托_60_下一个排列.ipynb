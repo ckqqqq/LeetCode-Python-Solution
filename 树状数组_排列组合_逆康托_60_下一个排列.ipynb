{
 "cells": [
  {
   "attachments": {},
   "cell_type": "markdown",
   "metadata": {},
   "source": [
    "60. Permutation Sequence\n",
    "Hard\n",
    "5.2K\n",
    "429\n",
    "Companies\n",
    "The set [1, 2, 3, ..., n] contains a total of n! unique permutations.\n",
    "\n",
    "By listing and labeling all of the permutations in order, we get the following sequence for n = 3:\n",
    "\n",
    "\"123\"\n",
    "\"132\"\n",
    "\"213\"\n",
    "\"231\"\n",
    "\"312\"\n",
    "\"321\"\n",
    "Given n and k, return the kth permutation sequence.\n",
    "\n",
    " \n",
    "\n",
    "Example 1:\n",
    "\n",
    "Input: n = 3, k = 3\n",
    "Output: \"213\"\n",
    "Example 2:\n",
    "\n",
    "Input: n = 4, k = 9\n",
    "Output: \"2314\"\n",
    "Example 3:\n",
    "\n",
    "Input: n = 3, k = 1\n",
    "Output: \"123\"\n",
    " \n",
    "\n",
    "Constraints:\n",
    "\n",
    "1 <= n <= 9\n",
    "1 <= k <= n!\n",
    "Accepted\n",
    "313.8K\n",
    "Submissions\n",
    "711K\n",
    "Acceptance Rate\n",
    "44.1%\n",
    "Seen this question in a real interview before?\n",
    "1/4\n",
    "Yes\n",
    "No"
   ]
  },
  {
   "cell_type": "code",
   "execution_count": 10,
   "metadata": {},
   "outputs": [
    {
     "name": "stdout",
     "output_type": "stream",
     "text": [
      "25341\n",
      "2314\n",
      "123\n",
      "213\n",
      "1\n"
     ]
    }
   ],
   "source": [
    "# 正解 ：逆康拖展开\n",
    "class BITree:\n",
    "    #本树的所有值都是从一开始\n",
    "    def __init__(self,LEN:int):\n",
    "        self.c=[0]*(LEN+1)\n",
    "        self.len=LEN+1\n",
    "        beg=1\n",
    "        while beg<LEN:\n",
    "            beg=beg*2\n",
    "        self.beg=beg//2\n",
    "        # self.logn=logn-1# 如 4 2（1）    \n",
    "    @staticmethod\n",
    "    def lowbit(x):\n",
    "        return x&-x\n",
    "    def update(self,idx:int,delta):# \n",
    "        while idx<self.len:\n",
    "            self.c[idx]+=delta\n",
    "            idx+=self.lowbit(idx)\n",
    "            \n",
    "    def getSum(self,idx:int):\n",
    "        ans=0\n",
    "        while idx>0:\n",
    "            ans+=self.c[idx]\n",
    "            idx-=self.lowbit(idx)\n",
    "        return ans\n",
    "    def kth(self,k:int):\n",
    "        # 根据OI-wiki的说法 C[i]所管理的区间为a[i-lowbit(i)+1,i]\n",
    "        #https://oi-wiki.org/ds/fenwick/#__comments\n",
    "        # 第k个\n",
    "        i=self.beg# 1<<x 定位到比LEN小的那2^logn数\n",
    "        res=0\n",
    "        while i!=0:\n",
    "            if res+i<self.len and self.c[i+res]<k:\n",
    "                k-=self.c[i+res]\n",
    "                res+=i\n",
    "            i=i>>1\n",
    "        return res+1#从1开始坐标系\n",
    "        \n",
    "class Solution:\n",
    "    def getPermutation(self, n: int, k: int) -> str:\n",
    "        res=\"\"\n",
    "        fractor=[1]*(n)\n",
    "        fractor[0]=1\n",
    "        for i in range(1,n):\n",
    "            fractor[i]=i*fractor[i-1]\n",
    "        k=k-1\n",
    "        bitree=BITree(n)\n",
    "        for i in range(1,n+1):\n",
    "            bitree.update(i,1)\n",
    "        for i in range(n-1,-1,-1):\n",
    "            rank=k//fractor[i]+1\n",
    "            k=k%fractor[i]\n",
    "            cur_num=bitree.kth(rank)\n",
    "            bitree.update(cur_num,-1)\n",
    "            res+=str(cur_num)\n",
    "        return res\n",
    "solution=Solution()\n",
    "print(solution.getPermutation(5,46))\n",
    "print(solution.getPermutation(4,9))\n",
    "print(solution.getPermutation(3,1))\n",
    "print(solution.getPermutation(3,3))\n",
    "print(solution.getPermutation(1,1))\n",
    "\n",
    "        # 康拖展开 \n",
    "        # k-1==比当前这个数小的数\n",
    "        # n!=3!\n",
    "        # 第一位 div=3!/3=2!"
   ]
  },
  {
   "cell_type": "code",
   "execution_count": null,
   "metadata": {},
   "outputs": [],
   "source": [
    "# O(n^2)的方法\n",
    "import math\n",
    "class Solution:\n",
    "    def getPermutation(self, n: int, k: int) -> str:\n",
    "        # 1 2 3 4\n",
    "        # 1 2 4 3\n",
    "        # 1 3 2 4\n",
    "        # 1 3 4 2\n",
    "        # 1 4 2 3\n",
    "        # 1 4 3 2\n",
    "        # 2 1 3 4\n",
    "        # 2 1 4 3\n",
    "        # 2 3 1 4\n",
    "        numbers = list(range(1, n+1))\n",
    "        permutation = ''\n",
    "        k-=1\n",
    "        \n",
    "        while n>0:\n",
    "            n-=1\n",
    "            index, k =divmod(k, math.factorial(n))\n",
    "            permutation += str(numbers[index])\n",
    "            numbers.remove(numbers[index])\n",
    "\n",
    "        return permutation\n",
    "    "
   ]
  },
  {
   "cell_type": "code",
   "execution_count": 11,
   "metadata": {},
   "outputs": [
    {
     "name": "stdout",
     "output_type": "stream",
     "text": [
      "1.584962500721156\n"
     ]
    }
   ],
   "source": [
    "# print(log2(1))\n",
    "import math\n",
    "print(math.log2(3))\n"
   ]
  },
  {
   "cell_type": "code",
   "execution_count": 7,
   "metadata": {},
   "outputs": [
    {
     "name": "stdout",
     "output_type": "stream",
     "text": [
      "9 -10\n",
      "8 -9\n",
      "7 -8\n",
      "6 -7\n",
      "5 -6\n",
      "4 -5\n",
      "3 -4\n",
      "2 -3\n",
      "1 -2\n",
      "0 -1\n",
      "-1 0\n"
     ]
    }
   ],
   "source": [
    "i=10\n",
    "while ~i:# ~i相当于i>-1\n",
    "    i-=1\n",
    "    print(i,~i)"
   ]
  },
  {
   "cell_type": "code",
   "execution_count": 5,
   "metadata": {},
   "outputs": [
    {
     "name": "stdout",
     "output_type": "stream",
     "text": [
      "1\n"
     ]
    }
   ],
   "source": [
    "# 正解 ：逆康拖展开\n",
    "class BITree:\n",
    "    def __init__(self,LEN:int):\n",
    "        self.c=[0]*(LEN+1)\n",
    "        self.len=LEN+1\n",
    "    @staticmethod\n",
    "    def lowbit(x):\n",
    "        return x&-x\n",
    "    def update(self,idx:int,delta:int):\n",
    "        while idx<self.len:\n",
    "            self.c[idx]+=delta\n",
    "            idx+=self.lowbit(idx)\n",
    "            \n",
    "    def getSum(self,idx:int):\n",
    "        ans=0\n",
    "        while idx>0:\n",
    "            ans+=self.c[idx]\n",
    "            idx-=self.lowbit(idx)\n",
    "        return ans\n",
    "bitree=BITree(3)\n",
    "bitree.update(3,1)\n",
    "print(bitree.getSum(3))"
   ]
  },
  {
   "attachments": {},
   "cell_type": "markdown",
   "metadata": {},
   "source": [
    "![字典序排列](./image/字典序排列.png)"
   ]
  },
  {
   "cell_type": "code",
   "execution_count": 18,
   "metadata": {},
   "outputs": [
    {
     "name": "stdout",
     "output_type": "stream",
     "text": [
      "[1, 2, 3] [1, 3, 2] 3\n",
      "[1, 3, 2] [2, 1, 3] 3\n",
      "[2, 1, 3] [2, 3, 1] 3\n",
      "[2, 3, 1] [3, 1, 2] 3\n",
      "[3, 1, 2] [3, 2, 1] 3\n",
      "[3, 2, 1] [] 0\n",
      "[[1, 2, 3], [1, 3, 2], [2, 1, 3], [2, 3, 1], [3, 1, 2], [3, 2, 1]]\n"
     ]
    }
   ],
   "source": [
    "# 10!10 *\n",
    "#1 <= k <= n!\n",
    "from typing import List\n",
    "class Solution:\n",
    "   def permuteUnique2(self, nums: List[int]) -> List[List[int]]:\n",
    "        res = []\n",
    "        def next(nums): # k的取值会为 1，2，3，4，5\n",
    "            k = len(nums) - 1\n",
    "            # 从后往前，获得第一个k 突然下降的值，比如3\n",
    "            # 1 2 3 4 k会定位4 k-1 为3\n",
    "            while k > 0 and nums[k] <= nums[k-1]: \n",
    "                k -= 1\n",
    "            # 找到第一个左边比右边小的a\n",
    "            if k == 0: # 如果k==0，则说明已经遍历完所有可能的全排列，返回空列表\n",
    "                return []\n",
    "            j = k\n",
    "            # 或得第一个 比这个突然下降的值还小一点的值\n",
    "            # j+1会定位4 \n",
    "            # 从右边向左边找到第一个比a大的数\n",
    "            while j < len(nums) - 1 and nums[j+1] > nums[k-1]:\n",
    "                j += 1\n",
    "            nums[j], nums[k-1] = nums[k-1], nums[j] #交换 nums[j] 和 nums[k-1] 以生成下一个全排列\n",
    "            lst = nums[k:]# 翻转后面那一段\n",
    "            # print(lst)\n",
    "            lst.reverse()# O(n)\n",
    "            nums[k:] = lst #将 nums[k:] 翻转，以生成字典序最小的下一个全排列\n",
    "            return nums\n",
    "        nums.sort() # 对 nums 排序\n",
    "        while len(nums) != 0:\n",
    "            lst = nums[:]\n",
    "            res.append(lst)\n",
    "            nums = next(nums)\n",
    "            print(lst,nums,len(nums))\n",
    "        return res\n",
    "solution=Solution()\n",
    "print(solution.permuteUnique2([1,2,3]))"
   ]
  },
  {
   "cell_type": "code",
   "execution_count": null,
   "metadata": {},
   "outputs": [],
   "source": []
  },
  {
   "cell_type": "code",
   "execution_count": 58,
   "metadata": {},
   "outputs": [
    {
     "name": "stdout",
     "output_type": "stream",
     "text": [
      "['1', '2', '3']\n",
      "['1', '3', '2']\n",
      "['2', '1', '3']\n",
      "['2', '3', '1']\n",
      "['3', '2', '1']\n",
      "321\n"
     ]
    }
   ],
   "source": [
    "# 10!10 *\n",
    "#1 <= k <= n!\n",
    "class Solution:\n",
    "    def getPermutation(self, n: int, k: int) -> str:\n",
    "        nums=[str(i) for i in range(1,n+1)]\n",
    "        cnt=0\n",
    "        def dfs_permutate(nums,start:int):\n",
    "            nonlocal cnt\n",
    "            if start==len(nums)-1:\n",
    "                print(nums)\n",
    "                cnt+=1\n",
    "                return cnt==k \n",
    "            for i in range(start,n):\n",
    "                nums[i],nums[start]=nums[start],nums[i]\n",
    "                if dfs_permutate(nums,start+1):\n",
    "                    return True\n",
    "                nums[i],nums[start]=nums[start],nums[i]\n",
    "            return False\n",
    "        dfs_permutate(nums,0)\n",
    "        return \"\".join(nums)\n",
    "solution=Solution()\n",
    "print(solution.getPermutation(3,5))"
   ]
  },
  {
   "cell_type": "code",
   "execution_count": null,
   "metadata": {},
   "outputs": [],
   "source": [
    "class Solution:\n",
    "    def permuteUnique(self, nums: List[int]) -> List[List[int]]:\n",
    "        def backtrack(first = 0):\n",
    "            if first == n:\n",
    "                output.append(nums[:])\n",
    "            for i in range(first, n):\n",
    "                if i > first and nums[i] == nums[first]:\n",
    "                    continue\n",
    "                nums[first], nums[i] = nums[i], nums[first]\n",
    "                backtrack(first + 1)\n",
    "                nums[first], nums[i] = nums[i], nums[first]\n",
    "                \n",
    "        n = len(nums)\n",
    "        output = []\n",
    "        nums.sort()\n",
    "        backtrack()\n",
    "        return output\n",
    "这个算法是一种回溯算法，其中使用了一个backtrack函数来生成全排列，并在生成每一个全排列之前进行去重，从而保证了输出的是字典序的全排列。\n",
    "\n",
    "\n",
    "\n",
    "\n",
    "keqi.chen_@outlook.com\n",
    "如果输入为[1,2,3]output的结果是啥\n",
    "如果输入为[1,2,3]，那么输出的结果应该是：[[1, 2, 3], [1, 3, 2], [2, 1, 3], [2, 3, 1], [3, 1, 2], [3, 2, 1]]。这是一组全排列。\n",
    "\n",
    "\n",
    "\n",
    "\n"
   ]
  },
  {
   "cell_type": "code",
   "execution_count": 49,
   "metadata": {},
   "outputs": [
    {
     "name": "stdout",
     "output_type": "stream",
     "text": [
      "[[1, 2, 3], [1, 3, 2], [2, 1, 3], [2, 3, 1], [3, 1, 2], [3, 2, 1]]\n",
      "[[1, 2, 3], [2, 1, 3], [3, 1, 2], [1, 3, 2], [2, 3, 1], [3, 2, 1]]\n"
     ]
    }
   ],
   "source": [
    "from typing import List\n",
    "\n",
    "\n",
    "class Solution:\n",
    "    def permuteUnique2(self, nums: List[int]) -> List[List[int]]:\n",
    "        res = []\n",
    "        def next(nums):\n",
    "            k = len(nums) - 1\n",
    "            # 获得第一个k 递增的值 \n",
    "            while k > 0 and nums[k] <= nums[k-1]: \n",
    "                k -= 1\n",
    "            \n",
    "            if k == 0: # 如果k==0，则说明已经遍历完所有可能的全排列，返回空列表\n",
    "                return []\n",
    "            j = k\n",
    "            # \n",
    "            while j < len(nums) - 1 and nums[j+1] > nums[k-1]:\n",
    "                j += 1\n",
    "            nums[j], nums[k-1] = nums[k-1], nums[j] #交换 nums[j] 和 nums[k-1] 以生成下一个全排列\n",
    "            lst = nums[k:]\n",
    "            lst.reverse()# O(n)\n",
    "            nums[k:] = lst #将 nums[k:] 翻转，以生成字典序最小的下一个全排列\n",
    "            return nums\n",
    "        nums.sort() # 对 nums 排序\n",
    "        while len(nums) > 0:\n",
    "            lst = nums[:]\n",
    "            res.append(lst)\n",
    "            nums = next(nums)\n",
    "        return res\n",
    "    def generate_permutations(nums:List[int]):\n",
    "        n = len(nums)\n",
    "        permutations = []\n",
    "        def generate(n, nums):\n",
    "            if n == 1:\n",
    "                permutations.append(nums[:])\n",
    "            for i in range(n):\n",
    "                generate(n - 1, nums)\n",
    "                if n % 2 == 0:\n",
    "                    nums[i], nums[n-1] = nums[n-1], nums[i]\n",
    "                else:\n",
    "                    nums[0], nums[n-1] = nums[n-1], nums[0]\n",
    "        generate(n, nums)\n",
    "        return permutations\n",
    "\n",
    "solution=Solution()\n",
    "print(solution.permuteUnique2([1,2,3]))\n",
    "print(solution.generate_permutations([1,2,3]))\n"
   ]
  },
  {
   "cell_type": "code",
   "execution_count": 50,
   "metadata": {},
   "outputs": [
    {
     "name": "stdout",
     "output_type": "stream",
     "text": [
      "[1, 2, 3]\n",
      "[2, 1, 3]\n",
      "[3, 2, 1]\n",
      "[2, 3, 1]\n",
      "[3, 1, 2]\n",
      "[1, 3, 2]\n"
     ]
    }
   ],
   "source": [
    "def heap_permutation(arr, size, n):\n",
    "    if (size == 1):\n",
    "        print(arr)\n",
    "    for i in range(size):\n",
    "        heap_permutation(arr, size-1, n)\n",
    "        if size & 1:\n",
    "            arr[i], arr[size-1] = arr[size-1], arr[i]\n",
    "        else:\n",
    "            arr[0], arr[size-1] = arr[size-1], arr[0]\n",
    "\n",
    "arr = [1, 2, 3]\n",
    "heap_permutation(arr, len(arr), len(arr))"
   ]
  },
  {
   "cell_type": "code",
   "execution_count": 61,
   "metadata": {},
   "outputs": [
    {
     "name": "stdout",
     "output_type": "stream",
     "text": [
      "[[1, 2, 3], [1, 3, 2], [2, 1, 3], [2, 3, 1], [3, 2, 1], [3, 1, 2]]\n"
     ]
    }
   ],
   "source": [
    "\n",
    "def permuteUnique( nums: List[int]) -> List[List[int]]:\n",
    "    def backtrack(first = 0):\n",
    "        if first == n:\n",
    "            output.append(nums[:])\n",
    "        for i in range(first, n):\n",
    "            if i > first and nums[i] == nums[first]:\n",
    "                continue\n",
    "            nums[first], nums[i] = nums[i], nums[first]\n",
    "            backtrack(first + 1)\n",
    "            nums[first], nums[i] = nums[i], nums[first]\n",
    "            \n",
    "    n = len(nums)\n",
    "    output = []\n",
    "    nums.sort()\n",
    "    backtrack()\n",
    "    return output\n",
    "print(permuteUnique(nums=[1,2,3]))\n"
   ]
  },
  {
   "cell_type": "code",
   "execution_count": 51,
   "metadata": {},
   "outputs": [
    {
     "name": "stdout",
     "output_type": "stream",
     "text": [
      "[[0, 0, 1], [0, 0, 1]]\n"
     ]
    }
   ],
   "source": [
    "def sjt(n):\n",
    "    def generate(n, p, d):\n",
    "        if n == len(p):\n",
    "            yield p\n",
    "        else:\n",
    "            for i in range(n):\n",
    "                p[n], d[n] = i, -d[n]\n",
    "                for g in generate(n+1, p, d):\n",
    "                    yield g\n",
    "                p[n], d[n] = i, -d[n]\n",
    "\n",
    "    p = [i for i in range(n)]\n",
    "    d = [-1 for i in range(n)]\n",
    "    return list(generate(1, p, d))\n",
    "\n",
    "print(sjt(3))\n"
   ]
  },
  {
   "cell_type": "code",
   "execution_count": 55,
   "metadata": {},
   "outputs": [
    {
     "name": "stdout",
     "output_type": "stream",
     "text": [
      "[[1, 2, 3], [1, 3, 2], [2, 1, 3], [2, 3, 1], [3, 1, 2], [3, 2, 1]]\n",
      "[[1, 1, 2], [1, 2, 1]]\n"
     ]
    }
   ],
   "source": [
    "def generate_permutations(arr):\n",
    "    n = len(arr)\n",
    "    res = []\n",
    "    def backtrack(curr_arr, direction, used):\n",
    "        if len(curr_arr) == n:\n",
    "            res.append(list(curr_arr))\n",
    "            return\n",
    "        for i in range(n):\n",
    "            if used[i]:\n",
    "                continue\n",
    "            if i > 0 and arr[i-1] == arr[i] and direction[i-1] == 1:\n",
    "                continue\n",
    "            if i < n-1 and arr[i] == arr[i+1] and direction[i+1] == -1:\n",
    "                continue\n",
    "            curr_arr.append(arr[i])\n",
    "            used[i] = True\n",
    "            backtrack(curr_arr, direction, used)\n",
    "            curr_arr.pop()\n",
    "            used[i] = False\n",
    "            direction[i] *= -1\n",
    "    backtrack([], [1]*n, [False]*n)\n",
    "    return res\n",
    "print(generate_permutations([1,2,3]))\n",
    "print(generate_permutations([1,1,2]))\n",
    "# print(generate_permutations([1,2,2,2]))"
   ]
  },
  {
   "cell_type": "code",
   "execution_count": 40,
   "metadata": {},
   "outputs": [
    {
     "name": "stdout",
     "output_type": "stream",
     "text": [
      "['1', '2', '3']\n",
      "['1', '3', '2']\n",
      "['2', '1', '3']\n",
      "['2', '3', '1']\n",
      "['3', '2', '1']\n",
      "['3', '1', '2']\n",
      "123\n"
     ]
    }
   ],
   "source": [
    "# 10!10 *\n",
    "#1 <= k <= n!\n",
    "class Solution:\n",
    "    def getPermutation(self, n: int, k: int) -> str:\n",
    "        nums=[str(i) for i in range(1,n+1)]\n",
    "        def dfs_permutate(nums,start:int):\n",
    "            if start==len(nums)-1:\n",
    "                print(nums)\n",
    "                \n",
    "                return \n",
    "            for i in range(start,n):\n",
    "                nums[i],nums[start]=nums[start],nums[i]\n",
    "                dfs_permutate(nums,start+1)\n",
    "                nums[i],nums[start]=nums[start],nums[i]\n",
    "            return False\n",
    "        dfs_permutate(nums,0)\n",
    "        return \"\".join(nums)\n",
    "solution=Solution()\n",
    "print(solution.getPermutation(3,5))"
   ]
  },
  {
   "cell_type": "code",
   "execution_count": 17,
   "metadata": {},
   "outputs": [
    {
     "name": "stdout",
     "output_type": "stream",
     "text": [
      "['3', '2', '1']\n"
     ]
    }
   ],
   "source": [
    "nums=['1', '2', '3']\n",
    "nums[0],nums[2]=nums[2],nums[0]\n",
    "print(nums)"
   ]
  },
  {
   "cell_type": "code",
   "execution_count": 25,
   "metadata": {},
   "outputs": [
    {
     "name": "stdout",
     "output_type": "stream",
     "text": [
      "一定要记得排序 ['1', '2', '3']\n",
      "['1', '2', '3']\n",
      "['1', '3', '2']\n",
      "['2', '1', '3']\n",
      "['2', '3', '1']\n",
      "['3', '2', '1']\n",
      "['3', '1', '2']\n",
      "[]\n"
     ]
    }
   ],
   "source": [
    "class Solution:\n",
    "    def permuteUnique(self,n): # 这个算法由于\n",
    "        nums=[str(i) for i in range(1,n+1) ]\n",
    "        LEN=len(nums)\n",
    "        result=[]\n",
    "        def permute_unique(nums,start):\n",
    "            if start==LEN-1:\n",
    "                print(nums)\n",
    "                # result.append(nums[:])\n",
    "                return \n",
    "            for i in range(start,LEN):\n",
    "                nums[i],nums[start]=nums[start],nums[i]\n",
    "                permute_unique(nums,start+1)\n",
    "                nums[i],nums[start]=nums[start],nums[i]\n",
    "        nums.sort()\n",
    "        print(\"一定要记得排序\",nums)\n",
    "        permute_unique(nums,0)\n",
    "        return result\n",
    "solution=Solution()\n",
    "print(solution.permuteUnique(3))"
   ]
  }
 ],
 "metadata": {
  "kernelspec": {
   "display_name": "base",
   "language": "python",
   "name": "python3"
  },
  "language_info": {
   "codemirror_mode": {
    "name": "ipython",
    "version": 3
   },
   "file_extension": ".py",
   "mimetype": "text/x-python",
   "name": "python",
   "nbconvert_exporter": "python",
   "pygments_lexer": "ipython3",
   "version": "3.9.12"
  },
  "orig_nbformat": 4,
  "vscode": {
   "interpreter": {
    "hash": "7b93ae2ddedcfb4b7ddebf80c8c7984044339b2e43f10e14b9461f3e640893f2"
   }
  }
 },
 "nbformat": 4,
 "nbformat_minor": 2
}
