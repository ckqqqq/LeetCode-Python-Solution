{
 "cells": [
  {
   "attachments": {},
   "cell_type": "markdown",
   "metadata": {},
   "source": [
    "### 题目解析\n",
    "这道题我由于对二维数组的前缀和不熟而推导了好久，\n"
   ]
  },
  {
   "cell_type": "code",
   "execution_count": null,
   "metadata": {},
   "outputs": [],
   "source": [
    "# 数组区间加 暴力解法超時\n",
    "class Solution:\n",
    "    def rangeAddQueries(self, n: int, queries: List[List[int]]) -> List[List[int]]:\n",
    "        mat=[[0 for _ in range(n)] for _ in range(n)]\n",
    "        for i,j,ii,jj in queries:\n",
    "            for x in range(i,ii+1):\n",
    "                for y in range(j,jj+1):\n",
    "                    mat[x][y]+=1\n",
    "        return mat\n"
   ]
  },
  {
   "cell_type": "code",
   "execution_count": 9,
   "metadata": {},
   "outputs": [
    {
     "name": "stdout",
     "output_type": "stream",
     "text": [
      "[[1, 1, 0], [1, 2, 1], [0, 1, 1]]\n"
     ]
    }
   ],
   "source": [
    "# 分类 二维数组的前缀和\n",
    "from typing import List\n",
    "# 数组区间加 前綴和解法 事件复杂度 O(N^2+LEN（q）)\n",
    "class Solution:\n",
    "    def rangeAddQueries(self, n: int, queries: List[List[int]]) -> List[List[int]]:\n",
    "        mat=[[0 for _ in range(n)] for _ in range(n)]\n",
    "        dp=[[0 for _ in range(n+1)]for _ in range(n+1)]\n",
    "        # 最后记得倒序打印\n",
    "        for i,j,ii,jj in queries:\n",
    "            dp[ii][jj]+=1\n",
    "            if i>0 and j>0:\n",
    "                dp[i-1][j-1]+=1\n",
    "            if i>0:\n",
    "                dp[i-1][jj]+=-1\n",
    "            if j>0:\n",
    "                dp[ii][j-1]+=-1\n",
    "        for x in range(n-1,-1,-1):\n",
    "            row_dp_sum=0\n",
    "            for y in range(n-1,-1,-1):\n",
    "                row_dp_sum+=dp[x][y]\n",
    "                dp[x][y]=dp[x+1][y]+row_dp_sum\n",
    "                mat[x][y]=dp[x][y]\n",
    "        return mat\n",
    "solution=Solution()\n",
    "print(solution.rangeAddQueries(3,[[1,1,2,2],[0,0,1,1]]))"
   ]
  }
 ],
 "metadata": {
  "kernelspec": {
   "display_name": "base",
   "language": "python",
   "name": "python3"
  },
  "language_info": {
   "codemirror_mode": {
    "name": "ipython",
    "version": 3
   },
   "file_extension": ".py",
   "mimetype": "text/x-python",
   "name": "python",
   "nbconvert_exporter": "python",
   "pygments_lexer": "ipython3",
   "version": "3.9.12"
  },
  "orig_nbformat": 4,
  "vscode": {
   "interpreter": {
    "hash": "7b93ae2ddedcfb4b7ddebf80c8c7984044339b2e43f10e14b9461f3e640893f2"
   }
  }
 },
 "nbformat": 4,
 "nbformat_minor": 2
}
