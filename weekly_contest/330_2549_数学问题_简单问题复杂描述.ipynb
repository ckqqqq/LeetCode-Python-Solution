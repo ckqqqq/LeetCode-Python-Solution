{
 "cells": [
  {
   "cell_type": "code",
   "execution_count": null,
   "metadata": {},
   "outputs": [],
   "source": []
  },
  {
   "attachments": {},
   "cell_type": "markdown",
   "metadata": {},
   "source": [
    "2549. Count Distinct Numbers on Board\n",
    "User Accepted:11393\n",
    "User Tried:12026\n",
    "Total Accepted:12014\n",
    "Total Submissions:21736\n",
    "Difficulty:Easy\n",
    "You are given a positive integer n, that is initially placed on a board. Every day, for 109 days, you perform the following procedure:\n",
    "\n",
    "For each number x present on the board, find all numbers 1 <= i <= n such that x % i == 1.\n",
    "Then, place those numbers on the board.\n",
    "Return the number of distinct integers present on the board after 109 days have elapsed.\n",
    "\n",
    "Note:\n",
    "\n",
    "Once a number is placed on the board, it will remain on it until the end.\n",
    "% stands for the modulo operation. For example, 14 % 3 is 2.\n",
    " \n",
    "\n",
    "Example 1:\n",
    "\n",
    "Input: n = 5\n",
    "Output: 4\n",
    "Explanation: Initially, 5 is present on the board. \n",
    "The next day, 2 and 4 will be added since 5 % 2 == 1 and 5 % 4 == 1. \n",
    "After that day, 3 will be added to the board because 4 % 3 == 1. \n",
    "At the end of a billion days, the distinct numbers on the board will be 2, 3, 4, and 5. \n",
    "Example 2:\n",
    "\n",
    "Input: n = 3\n",
    "Output: 2\n",
    "Explanation: \n",
    "Since 3 % 2 == 1, 2 will be added to the board. \n",
    "After a billion days, the only two distinct numbers on the board are 2 and 3. \n",
    " \n",
    "\n",
    "Constraints:"
   ]
  },
  {
   "attachments": {},
   "cell_type": "markdown",
   "metadata": {},
   "source": [
    "### 这道题最不应该的点是这道题很简单，不应该罚时，以后简单题要测一下其边界值，比如1"
   ]
  },
  {
   "cell_type": "code",
   "execution_count": null,
   "metadata": {},
   "outputs": [],
   "source": [
    "class Solution:\n",
    "    def distinctIntegers(self, n: int) -> int:\n",
    "        if n==1:\n",
    "            return 1\n",
    "        else:\n",
    "            return n-1"
   ]
  }
 ],
 "metadata": {
  "kernelspec": {
   "display_name": "base",
   "language": "python",
   "name": "python3"
  },
  "language_info": {
   "name": "python",
   "version": "3.9.12"
  },
  "orig_nbformat": 4,
  "vscode": {
   "interpreter": {
    "hash": "7b93ae2ddedcfb4b7ddebf80c8c7984044339b2e43f10e14b9461f3e640893f2"
   }
  }
 },
 "nbformat": 4,
 "nbformat_minor": 2
}
