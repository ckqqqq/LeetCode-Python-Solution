{
 "cells": [
  {
   "cell_type": "code",
   "execution_count": null,
   "metadata": {},
   "outputs": [],
   "source": []
  },
  {
   "attachments": {},
   "cell_type": "markdown",
   "metadata": {},
   "source": [
    "2261. K Divisible Elements Subarrays\n",
    "User Accepted:3217\n",
    "User Tried:4398\n",
    "Total Accepted:3373\n",
    "Total Submissions:9511\n",
    "Difficulty:Medium\n",
    "Given an integer array nums and two integers k and p, return the number of distinct subarrays which have at most k elements divisible by p.\n",
    "\n",
    "Two arrays nums1 and nums2 are said to be distinct if:\n",
    "\n",
    "They are of different lengths, or\n",
    "There exists at least one index i where nums1[i] != nums2[i].\n",
    "A subarray is defined as a non-empty contiguous sequence of elements in an array.\n",
    "\n",
    " \n",
    "\n",
    "Example 1:\n",
    "\n",
    "Input: nums = [2,3,3,2,2], k = 2, p = 2\n",
    "Output: 11\n",
    "Explanation:\n",
    "The elements at indices 0, 3, and 4 are divisible by p = 2.\n",
    "The 11 distinct subarrays which have at most k = 2 elements divisible by 2 are:\n",
    "[2], [2,3], [2,3,3], [2,3,3,2], [3], [3,3], [3,3,2], [3,3,2,2], [3,2], [3,2,2], and [2,2].\n",
    "Note that the subarrays [2] and [3] occur more than once in nums, but they should each be counted only once.\n",
    "The subarray [2,3,3,2,2] should not be counted because it has 3 elements that are divisible by 2.\n",
    "Example 2:\n",
    "\n",
    "Input: nums = [1,2,3,4], k = 4, p = 1\n",
    "Output: 10\n",
    "Explanation:\n",
    "All element of nums are divisible by p = 1.\n",
    "Also, every subarray of nums will have at most 4 elements that are divisible by 1.\n",
    "Since all subarrays are distinct, the total number of subarrays satisfying all the constraints is 10.\n",
    " \n",
    "\n",
    "Constraints:\n",
    "\n",
    "1 <= nums.length <= 200\n",
    "1 <= nums[i], p <= 200\n",
    "1 <= k <= nums.length\n",
    " \n",
    "\n",
    "Follow up:\n",
    "\n",
    "Can you solve this problem in O(n2) time complexity?"
   ]
  },
  {
   "cell_type": "code",
   "execution_count": 4,
   "metadata": {},
   "outputs": [
    {
     "name": "stdout",
     "output_type": "stream",
     "text": [
      "11\n"
     ]
    }
   ],
   "source": [
    "# 重写 重新使用Trie树\n",
    "# 重写经验 记得cur=newcur这一步要写上，而且一定放到if外面\n",
    "from typing import List\n",
    "from collections import defaultdict\n",
    "class Solution:\n",
    "    def countDistinct(self,nums:List[int],k:int,p:int)->int:\n",
    "        empty_dict={}\n",
    "        result=0\n",
    "        for i in range(len(nums)):# 左边边界\n",
    "            cur_trie=empty_dict\n",
    "            cnt=0\n",
    "            for j in range(i,len(nums)):# 右边边界\n",
    "                if nums[j]%p==0:#计数 \n",
    "                    cnt+=1\n",
    "                if cnt>k:# 计数\n",
    "                    break\n",
    "                if nums[j] not in cur_trie:# 如果重复则可以直接跳过，累积所有i开头j[0,len-1]结尾的子字符串\n",
    "                    cur_trie[nums[j]]={}\n",
    "                    result+=1\n",
    "                cur_trie=cur_trie[nums[j]]        \n",
    "        return result\n",
    "solution=Solution()\n",
    "print(solution.countDistinct([2,3,3,2,2],2,2))"
   ]
  },
  {
   "cell_type": "code",
   "execution_count": null,
   "metadata": {},
   "outputs": [],
   "source": [
    "#官方正解 Trie樹判定重複 計數總和\n",
    "class Solution:\n",
    "    def countDistinct(self, nums: List[int], k: int, p: int) -> int:\n",
    "        # Trie樹去除數組重複，每次字典樹的更新都可以更新distinct數組\n",
    "        # using trie\n",
    "        root = {}\n",
    "        res = 0\n",
    "        for i in range(len(nums)):\n",
    "            cur = root# 每次清空{}\n",
    "            lives = k + 1#lives記錄的是最多元素的個數\n",
    "            for j in range(i, len(nums)):#從左邊到右邊遍歷\n",
    "                n = nums[j]\n",
    "                if n % p == 0:#如果有整除的數lives-1\n",
    "                    lives -= 1\n",
    "                if not lives:#live==0退出 \n",
    "                    break\n",
    "                if n not in cur:#n 這個元素從來沒有出現過\n",
    "                    cur[n] = {}#更新字典樹\n",
    "                    res += 1\n",
    "                cur = cur[n]\n",
    "\n",
    "        return res"
   ]
  },
  {
   "cell_type": "code",
   "execution_count": 8,
   "metadata": {},
   "outputs": [
    {
     "name": "stdout",
     "output_type": "stream",
     "text": [
      "[2]\n",
      "[2, 3]\n",
      "[2, 3, 3]\n",
      "[2, 3, 3, 2]\n",
      "[3]\n",
      "[3, 3]\n",
      "[3, 3, 2]\n",
      "[3, 3, 2, 2]\n",
      "[3, 2]\n",
      "[3, 2, 2]\n",
      "[2, 2]\n",
      "[[0, 1, 1, 1, 2, 3], [0, 0, 0, 0, 1, 2], [0, 0, 0, 0, 1, 2], [0, 0, 0, 0, 1, 2], [0, 0, 0, 0, 0, 1], [0, 0, 0, 0, 0, 0]]\n",
      "11\n",
      "[1]\n",
      "[1, 2]\n",
      "[1, 2, 3]\n",
      "[1, 2, 3, 4]\n",
      "[2]\n",
      "[2, 3]\n",
      "[2, 3, 4]\n",
      "[3]\n",
      "[3, 4]\n",
      "[4]\n",
      "[[0, 1, 2, 3, 4], [0, 0, 1, 2, 3], [0, 0, 0, 1, 2], [0, 0, 0, 0, 1], [0, 0, 0, 0, 0]]\n",
      "10\n"
     ]
    }
   ],
   "source": [
    "from collections import defaultdict\n",
    "from typing import List\n",
    "class Solution:\n",
    "    def countDistinct(self, nums: List[int], k: int, p: int) -> int:\n",
    "        LEN=len(nums)\n",
    "        # 特判\n",
    "        dp=[[0 for _ in range(LEN+1)]for _ in range(LEN+1)]\n",
    "        isdiv=[]\n",
    "        for val in nums:\n",
    "            if val %p==0:\n",
    "                isdiv.append(True)\n",
    "            else:\n",
    "                isdiv.append(False)\n",
    "        len_dict=defaultdict(set)\n",
    "        result=0\n",
    "        for i in range(0,LEN+1):#left\n",
    "            for j in range(i+1,LEN+1):#right\n",
    "                if isdiv[j-1]:\n",
    "                    dp[i][j]=dp[i][j-1]+1\n",
    "                else:\n",
    "                    dp[i][j]=dp[i][j-1]\n",
    "                if dp[i][j]>k:\n",
    "                    break #1！！#@#！！!@!!！@!!!\n",
    "                # i==j 为0\n",
    "                sub=str(nums[i:j])\n",
    "                sub_len=len(sub)\n",
    "                if sub not in len_dict[sub_len]:\n",
    "                    if dp[i][j]<=k:\n",
    "                        result+=1\n",
    "                        # print(sub)\n",
    "                    len_dict[sub_len].add(sub)\n",
    "                else:\n",
    "                    continue\n",
    "        # print(dp)\n",
    "        return result\n",
    "solution=Solution()\n",
    "print(solution.countDistinct([2,3,3,2,2],2,2))\n",
    "print(solution.countDistinct([1,2,3,4],4,1))\n",
    "                "
   ]
  },
  {
   "cell_type": "code",
   "execution_count": 27,
   "metadata": {},
   "outputs": [
    {
     "name": "stdout",
     "output_type": "stream",
     "text": [
      "False\n",
      "False\n",
      "True\n",
      "False\n",
      "True\n",
      "[1, 2, 3, 5]\n"
     ]
    }
   ],
   "source": [
    "from collections import defaultdict\n",
    "nums1=[1,2,3,5]\n",
    "nums2=[1,2,3,4]\n",
    "test=defaultdict()\n",
    "test[str(nums1)]=1\n",
    "print(str(nums2) in test)\n",
    "print(nums1==nums2)\n",
    "nums2[3]=5\n",
    "print(nums1==nums2)\n",
    "print(str(nums2[::-1]) in test)\n",
    "print(str(nums2[:]) in test)\n",
    "print(str(nums2))"
   ]
  },
  {
   "cell_type": "code",
   "execution_count": 8,
   "metadata": {},
   "outputs": [
    {
     "name": "stdout",
     "output_type": "stream",
     "text": [
      "[[2], [3], [2], [3], [2, 3], [2, 2], [2, 3], [3, 2], [3, 3], [2, 3], [2, 3, 2], [2, 3, 3], [2, 2, 3], [3, 2, 3], [2, 3, 2, 3]] [frozenset({3}), frozenset({2}), frozenset({2, 3})] [frozenset({2}), frozenset({3}), frozenset({2}), frozenset({3}), frozenset({2, 3}), frozenset({2}), frozenset({2, 3}), frozenset({2, 3}), frozenset({3}), frozenset({2, 3}), frozenset({2, 3}), frozenset({2, 3}), frozenset({2, 3}), frozenset({2, 3}), frozenset({2, 3})]\n"
     ]
    }
   ],
   "source": [
    "from itertools import combinations\n",
    "original_list = [2, 3, 2, 3]\n",
    "sublists = []\n",
    "for r in range(1, len(original_list) + 1):\n",
    "    for comb in combinations(original_list, r):\n",
    "        sublists.append(list(comb))\n",
    "frozensets = [frozenset(l) for l in sublists]\n",
    "unique_sublists = list(set(frozensets))\n",
    "print(sublists,unique_sublists,frozensets)\n"
   ]
  },
  {
   "cell_type": "code",
   "execution_count": 15,
   "metadata": {},
   "outputs": [
    {
     "name": "stdout",
     "output_type": "stream",
     "text": [
      "[2] [[2]]\n",
      "[3] [[3]]\n",
      "[2] [[2]]\n",
      "[3] [[3]]\n",
      "[2, 3] [[2, 3]]\n",
      "[2, 2] [[2, 2]]\n",
      "[2, 3] [[2, 3]]\n",
      "[3, 2] [[3, 2]]\n",
      "[3, 3] [[3, 3]]\n",
      "[2, 3] [[2, 3]]\n",
      "[2, 3, 2] [[2, 3, 2]]\n",
      "[2, 3, 3] [[2, 3, 3]]\n",
      "[2, 2, 3] [[2, 2, 3]]\n",
      "[3, 2, 3] [[3, 2, 3]]\n",
      "[2, 3, 2, 3] [[2, 3, 2, 3]]\n"
     ]
    }
   ],
   "source": [
    "from itertools import combinations, groupby\n",
    "from collections import Counter, OrderedDict\n",
    "original_list = [2, 3, 2, 3]\n",
    "sublists = []\n",
    "for r in range(1, len(original_list) + 1):\n",
    "    for comb in combinations(original_list, r):\n",
    "        sublists.append(list(comb))\n",
    "for k, g in groupby(sublists):\n",
    "    print(k,list(g))\n",
    "\n",
    "# unique_sublists = [k for k, g in groupby(sublists)]\n",
    "# print(unique_sublists,\"\\n\",sublists)"
   ]
  }
 ],
 "metadata": {
  "kernelspec": {
   "display_name": "base",
   "language": "python",
   "name": "python3"
  },
  "language_info": {
   "codemirror_mode": {
    "name": "ipython",
    "version": 3
   },
   "file_extension": ".py",
   "mimetype": "text/x-python",
   "name": "python",
   "nbconvert_exporter": "python",
   "pygments_lexer": "ipython3",
   "version": "3.9.12 (main, Apr  4 2022, 05:22:27) [MSC v.1916 64 bit (AMD64)]"
  },
  "orig_nbformat": 4,
  "vscode": {
   "interpreter": {
    "hash": "7b93ae2ddedcfb4b7ddebf80c8c7984044339b2e43f10e14b9461f3e640893f2"
   }
  }
 },
 "nbformat": 4,
 "nbformat_minor": 2
}
