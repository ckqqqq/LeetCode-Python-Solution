{
 "cells": [
  {
   "cell_type": "code",
   "execution_count": null,
   "metadata": {},
   "outputs": [],
   "source": [
    "from typing import List\n",
    "class Solution:\n",
    "    def squareFreeSubsets(self, nums: List[int]) -> int:\n",
    "        MOD=10**9+7\n",
    "        UB=30*1000\n",
    "        nums.sort()\n",
    "        for i in range(len(nums)-1):\n",
    "            tmp_res=nums[i]# 还要一下\n",
    "            for j in range(i+1,len(nums)): #所有元素的乘积\n",
    "                "
   ]
  },
  {
   "attachments": {},
   "cell_type": "markdown",
   "metadata": {},
   "source": [
    "4*9*5\n",
    "9*(30000//9+1)\n",
    "\n",
    "^\n",
    "3*5\n",
    "3*5\n",
    "3*5*10\n",
    "2*10*35\n",
    "可以选重复的"
   ]
  },
  {
   "cell_type": "code",
   "execution_count": null,
   "metadata": {},
   "outputs": [],
   "source": [
    "4 0 2 0 \n",
    "0 3 0 1 \n",
    "2 0 2 0\n",
    "0 1 0 1\n",
    "KMP变种\n",
    "1 1 1 1\n",
    "\n",
    "4 3 2 1\n",
    "3 3 2 1\n",
    "2 2 2 1\n",
    "1 1 1 1\n",
    "\n",
    "4 3 2 1\n",
    "3 3 2 1\n",
    "2 2 2 1\n",
    "1 1 1 3\n",
    "\n",
    "如果不递减，不对称那么返回\"\"\n"
   ]
  },
  {
   "cell_type": "code",
   "execution_count": 16,
   "metadata": {},
   "outputs": [
    {
     "name": "stdout",
     "output_type": "stream",
     "text": [
      "1 j\n",
      "2 j\n",
      "[1, 1, 1, 1]\n",
      "aaaa\n"
     ]
    }
   ],
   "source": [
    "from typing import List\n",
    "class Solution:\n",
    "    def findTheString(self, lcp: List[List[int]]) -> str:\n",
    "        n=len(lcp)\n",
    "        for i in range(0,n):\n",
    "            if lcp[i][i]!=n-i:\n",
    "                return \"\"\n",
    "        for i in range(0,n-1):\n",
    "            for j in range(i+1,n):\n",
    "                if lcp[i][j]!=lcp[j][i]:\n",
    "                    return \"\"\n",
    "        ans=[1]\n",
    "        j=1\n",
    "        while j<n:\n",
    "            # print(j,\"j\")\n",
    "            cur=1\n",
    "            if lcp[0][j]==0:\n",
    "                cur=cur+1\n",
    "                ans.append(cur)\n",
    "                j+=1\n",
    "            else:#!=0\n",
    "                add_num=min(len(ans),lcp[0][j])\n",
    "                # print(lcp[0][j],,j)\n",
    "                for k in range(add_num):\n",
    "                    ans.append(ans[k])\n",
    "                j=j+add_num\n",
    "                # print(j,min(len(ans),lcp[0][j]))\n",
    "        # print(ans)\n",
    "        res_str=\"\".join([format(96+i,\"c\") for i in ans])\n",
    "        return res_str\n",
    "solution=Solution()\n",
    "print(solution.findTheString([[4,3,2,1],[3,3,2,1],[2,2,2,1],[1,1,1,1]]))\n",
    "        "
   ]
  },
  {
   "cell_type": "code",
   "execution_count": 1,
   "metadata": {},
   "outputs": [
    {
     "name": "stdout",
     "output_type": "stream",
     "text": [
      "97\n"
     ]
    }
   ],
   "source": [
    "print(ord(\"a\"))"
   ]
  },
  {
   "cell_type": "code",
   "execution_count": 2,
   "metadata": {},
   "outputs": [
    {
     "name": "stdout",
     "output_type": "stream",
     "text": [
      "a\n"
     ]
    }
   ],
   "source": [
    "print(format(97,\"c\"))"
   ]
  },
  {
   "attachments": {},
   "cell_type": "markdown",
   "metadata": {},
   "source": [
    "a a a a\n",
    "  a a a\n",
    "0 1 2\n",
    "a b a b\n",
    "4 0 2 0\n",
    "a b a c\n",
    "4 0 1 0\n",
    "\n",
    "0 1 2\n",
    "a a a a\n",
    "4 3 2 1\n",
    "\n",
    "  1 2   1\n",
    "a a a a b\n",
    "5 4 3 1 0\n",
    "\n",
    "  "
   ]
  },
  {
   "attachments": {},
   "cell_type": "markdown",
   "metadata": {},
   "source": []
  }
 ],
 "metadata": {
  "kernelspec": {
   "display_name": "base",
   "language": "python",
   "name": "python3"
  },
  "language_info": {
   "codemirror_mode": {
    "name": "ipython",
    "version": 3
   },
   "file_extension": ".py",
   "mimetype": "text/x-python",
   "name": "python",
   "nbconvert_exporter": "python",
   "pygments_lexer": "ipython3",
   "version": "3.9.12"
  },
  "orig_nbformat": 4,
  "vscode": {
   "interpreter": {
    "hash": "7b93ae2ddedcfb4b7ddebf80c8c7984044339b2e43f10e14b9461f3e640893f2"
   }
  }
 },
 "nbformat": 4,
 "nbformat_minor": 2
}
