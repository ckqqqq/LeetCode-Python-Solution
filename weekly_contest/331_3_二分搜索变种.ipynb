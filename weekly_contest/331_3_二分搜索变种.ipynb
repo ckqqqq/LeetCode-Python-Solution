{
 "cells": [
  {
   "attachments": {},
   "cell_type": "markdown",
   "metadata": {},
   "source": [
    "### 什么时候用变种二分搜索呢？\n",
    "事实上，变种二分搜索的基础二分的时间复杂度是O(logn)(或者O(logm))\n",
    "但是变种二分搜索往往需要一个judge函数，最后二分搜索完成后left和right刚好在符合条件和不符合条件中\n",
    "所以如果是变种二分搜索，关键在看judge函数的时间复杂度，如果judge函数的时间复杂度刚刚好（比如O（n））那么久使用变种二分搜索"
   ]
  },
  {
   "attachments": {},
   "cell_type": "markdown",
   "metadata": {},
   "source": [
    "2560. House Robber IV\n",
    "Medium\n",
    "161\n",
    "7\n",
    "Companies\n",
    "There are several consecutive houses along a street, each of which has some money inside. There is also a robber, who wants to steal money from the homes, but he refuses to steal from adjacent homes.\n",
    "\n",
    "The capability of the robber is the maximum amount of money he steals from one house of all the houses he robbed.\n",
    "\n",
    "You are given an integer array nums representing how much money is stashed in each house. More formally, the ith house from the left has nums[i] dollars.\n",
    "\n",
    "You are also given an integer k, representing the minimum number of houses the robber will steal from. It is always possible to steal at least k houses.\n",
    "\n",
    "Return the minimum capability of the robber out of all the possible ways to steal at least k houses.\n",
    "\n",
    " \n",
    "\n",
    "Example 1:\n",
    "\n",
    "Input: nums = [2,3,5,9], k = 2\n",
    "Output: 5\n",
    "Explanation: \n",
    "There are three ways to rob at least 2 houses:\n",
    "- Rob the houses at indices 0 and 2. Capability is max(nums[0], nums[2]) = 5.\n",
    "- Rob the houses at indices 0 and 3. Capability is max(nums[0], nums[3]) = 9.\n",
    "- Rob the houses at indices 1 and 3. Capability is max(nums[1], nums[3]) = 9.\n",
    "Therefore, we return min(5, 9, 9) = 5.\n",
    "Example 2:\n",
    "\n",
    "Input: nums = [2,7,9,3,1], k = 2\n",
    "Output: 2\n",
    "Explanation: There are 7 ways to rob the houses. The way which leads to minimum capability is to rob the house at index 0 and 4. Return max(nums[0], nums[4]) = 2.\n",
    " \n",
    "\n",
    "Constraints:\n",
    "\n",
    "1 <= nums.length <= 105\n",
    "1 <= nums[i] <= 109\n",
    "1 <= k <= (nums.length + 1)/2"
   ]
  },
  {
   "cell_type": "code",
   "execution_count": null,
   "metadata": {},
   "outputs": [],
   "source": [
    "#"
   ]
  },
  {
   "attachments": {},
   "cell_type": "markdown",
   "metadata": {},
   "source": [
    "### 题目分析 首先是 数据范围 \n",
    "nums.length=10^5\n",
    "nums[i]==10^9\n",
    "##　所以０（ｎ＾２）解法不行\n",
    "只有O(nlogn)解法可以解，\n",
    "这道题的正解是对数组进行二叉搜索，主要是在二叉搜索可行性判断的时候使用O(n)的时间复杂度。\n",
    "有两种正解 第一 不排序\n",
    "直接对范围进行二叉搜索 O(log(len)*n) (由于log之后差别不大所以推荐)\n",
    "排序 O(logn*n)外加一个O(n)的空间复杂度\n",
    "## "
   ]
  },
  {
   "cell_type": "code",
   "execution_count": 8,
   "metadata": {},
   "outputs": [
    {
     "name": "stdout",
     "output_type": "stream",
     "text": [
      "5\n",
      "2\n",
      "2\n",
      "1\n"
     ]
    }
   ],
   "source": [
    "from typing import List\n",
    "# \n",
    "class Solution:\n",
    "    def judge(self,thres,nums)->int:\n",
    "        # 由于\n",
    "        cnt=0\n",
    "        idx=0\n",
    "        while idx<len(nums):\n",
    "            if nums[idx]<=thres:\n",
    "                cnt+=1\n",
    "                idx+=2\n",
    "            else:\n",
    "                idx+=1   \n",
    "        # print(cnt,thres)\n",
    "        return cnt\n",
    "    def minCapability(self, nums: List[int], k: int) -> int:\n",
    "        # \n",
    "        left,right=min(nums),max(nums)\n",
    "        # 10^9\n",
    "        while left<=right:\n",
    "            mid=(left+right)//2\n",
    "            cnt_=self.judge(mid,nums) # O(n)\n",
    "            if cnt_>=k:# 符合条件\n",
    "                right=mid-1\n",
    "            else:#cnt_<k# 不符合条件 # 值设计得低了\n",
    "                left=mid+1\n",
    "        return left\n",
    "solution=Solution()\n",
    "print(solution.minCapability(nums = [2,3,5,9], k = 2))\n",
    "print(solution.minCapability(nums = [2,7,9,3,1], k = 2))\n",
    "print(solution.minCapability(nums = [2], k = 1))\n",
    "print(solution.minCapability(nums = [1], k = 1))\n",
    "\n",
    "            "
   ]
  }
 ],
 "metadata": {
  "kernelspec": {
   "display_name": "base",
   "language": "python",
   "name": "python3"
  },
  "language_info": {
   "codemirror_mode": {
    "name": "ipython",
    "version": 3
   },
   "file_extension": ".py",
   "mimetype": "text/x-python",
   "name": "python",
   "nbconvert_exporter": "python",
   "pygments_lexer": "ipython3",
   "version": "3.9.12"
  },
  "orig_nbformat": 4,
  "vscode": {
   "interpreter": {
    "hash": "7b93ae2ddedcfb4b7ddebf80c8c7984044339b2e43f10e14b9461f3e640893f2"
   }
  }
 },
 "nbformat": 4,
 "nbformat_minor": 2
}
