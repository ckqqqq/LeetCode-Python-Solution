{
 "cells": [
  {
   "attachments": {},
   "cell_type": "markdown",
   "metadata": {},
   "source": [
    "把等式val⊕frst=second两边同时异或frst,得到\n",
    "val⊕first⊕first=second⊕first\n",
    "由于frst⊕first=0,因此上式化简为\n",
    "val=second⊕first\n",
    "# 亦或与加法无关，所以只穷举位就行\n",
    "1^1=0\n",
    "0^1=1\n",
    "0^0=0\n",
    "1^0=1"
   ]
  },
  {
   "cell_type": "code",
   "execution_count": null,
   "metadata": {},
   "outputs": [],
   "source": []
  },
  {
   "cell_type": "code",
   "execution_count": null,
   "metadata": {},
   "outputs": [],
   "source": []
  },
  {
   "cell_type": "code",
   "execution_count": 8,
   "metadata": {},
   "outputs": [
    {
     "name": "stdout",
     "output_type": "stream",
     "text": [
      "[-1, -1, -1] 101\n",
      "[-1, -1] 11\n",
      "[[0, 2], [2, 3]]\n"
     ]
    }
   ],
   "source": [
    "from typing import List\n",
    "class Solution:\n",
    "    def kmp(self,source:str,target:str):\n",
    "        next=[-1]*len(target)\n",
    "        def initial():\n",
    "            i,j=0,-1\n",
    "            for i in range(1,len(target)-1):\n",
    "                while j!=-1 and target[j+1]!=target[i]:\n",
    "                    j=next[j]# j不断前移动\n",
    "                if target[j+1]==target[i]:\n",
    "                    j=j+1\n",
    "                next[i]=j\n",
    "        initial()\n",
    "        print(next,target)\n",
    "        i,j=0,-1\n",
    "        for i in range(0,len(source)):\n",
    "            while j!=-1 and target[j+1]!=source[i]:\n",
    "                j=next[j]\n",
    "            if target[j+1]==source[i]:\n",
    "                j=j+1\n",
    "            # print(i,j)\n",
    "            if j+1==len(target):\n",
    "                return [i-len(target)+1,i]\n",
    "        if j+1==len(target):\n",
    "            return [i-len(target)+1,i]\n",
    "        else:\n",
    "            return [-1,-1]     \n",
    "                \n",
    "    def substringXorQueries(self, s: str, queries: List[List[int]]) -> List[List[int]]:\n",
    "        ans=[]\n",
    "        targets=[]\n",
    "        for fir,sec in queries:\n",
    "            # targets.append()\n",
    "            targets.append(str(bin((fir^sec))).split(\"b\")[-1])\n",
    "        # print(targets)\n",
    "        for target in targets:\n",
    "            ans.append(self.kmp(s,target))\n",
    "        return ans\n",
    "solution=Solution()\n",
    "print(solution.substringXorQueries(s = \"101101\", queries = [[0,5],[1,2]]))"
   ]
  },
  {
   "cell_type": "code",
   "execution_count": 5,
   "metadata": {},
   "outputs": [
    {
     "name": "stdout",
     "output_type": "stream",
     "text": [
      "[[0, 2], [2, 3]]\n"
     ]
    }
   ],
   "source": [
    "from typing import List\n",
    "class Solution:\n",
    "    def substringXorQueries(self, s: str, queries: List[List[int]]) -> List[List[int]]:\n",
    "        ans=[]\n",
    "        for fir,sec in queries:\n",
    "            # target=str(bin((fir^sec))).split(\"b\")[-1] 如果加上这句会TLE\n",
    "            target=format(fir^sec,\"b\")#转化 返回\n",
    "            beg=s.find(target)# 字符串 查找 ，返回第一个序列\n",
    "            if beg==-1:\n",
    "                ans.append([-1,-1])\n",
    "            else:\n",
    "                ans.append([beg,beg+len(target)-1])\n",
    "            # ans.append(self.kmp(s,target))# TLE\n",
    "        return ans\n",
    "solution=Solution()\n",
    "print(solution.substringXorQueries(s = \"101101\", queries = [[0,5],[1,2]]))"
   ]
  },
  {
   "cell_type": "code",
   "execution_count": 19,
   "metadata": {},
   "outputs": [
    {
     "name": "stdout",
     "output_type": "stream",
     "text": [
      "1010 11110\n",
      "30 10.000000 a\n",
      "[97, 98, 99, 100]\n",
      "['a', 'b', 'c', 'd', 'e', 'f', 'g', 'h', 'i', 'j', 'k', 'l', 'm', 'n', 'o', 'p', 'q', 'r', 's', 't', 'u', 'v', 'w', 'x', 'y', 'z']\n",
      "['A', 'B', 'C', 'D', 'E', 'F', 'G', 'H', 'I', 'J', 'K', 'L', 'M', 'N', 'O', 'P', 'Q', 'R', 'S', 'T', 'U', 'V', 'W', 'X', 'Y', 'Z']\n"
     ]
    }
   ],
   "source": [
    "fir = 10\n",
    "sec = 20\n",
    "target=format(fir^sec,\"b\")\n",
    "print(format(fir,\"b\"),target)\n",
    "print(format(fir^sec,\"d\"),format(fir,\"f\"),format(97,\"c\"))# ascii码\n",
    "print([ord(ch) for ch in \"abcd\"])\n",
    "print([format(i,\"c\") for i in range(97,97+26)])\n",
    "print([format(i,\"c\") for i in range(ord(\"A\"),ord(\"A\")+26)])"
   ]
  },
  {
   "cell_type": "code",
   "execution_count": null,
   "metadata": {},
   "outputs": [],
   "source": [
    "print"
   ]
  }
 ],
 "metadata": {
  "kernelspec": {
   "display_name": "base",
   "language": "python",
   "name": "python3"
  },
  "language_info": {
   "codemirror_mode": {
    "name": "ipython",
    "version": 3
   },
   "file_extension": ".py",
   "mimetype": "text/x-python",
   "name": "python",
   "nbconvert_exporter": "python",
   "pygments_lexer": "ipython3",
   "version": "3.9.12"
  },
  "orig_nbformat": 4,
  "vscode": {
   "interpreter": {
    "hash": "7b93ae2ddedcfb4b7ddebf80c8c7984044339b2e43f10e14b9461f3e640893f2"
   }
  }
 },
 "nbformat": 4,
 "nbformat_minor": 2
}
