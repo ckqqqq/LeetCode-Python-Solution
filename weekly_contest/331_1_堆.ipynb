{
 "cells": [
  {
   "attachments": {},
   "cell_type": "markdown",
   "metadata": {},
   "source": [
    "2558. Take Gifts From the Richest Pile\n",
    "User Accepted:11403\n",
    "User Tried:12386\n",
    "Total Accepted:11706\n",
    "Total Submissions:18864\n",
    "Difficulty:Easy\n",
    "You are given an integer array gifts denoting the number of gifts in various piles. Every second, you do the following:\n",
    "\n",
    "Choose the pile with the maximum number of gifts.\n",
    "If there is more than one pile with the maximum number of gifts, choose any.\n",
    "Leave behind the floor of the square root of the number of gifts in the pile. Take the rest of the gifts.\n",
    "Return the number of gifts remaining after k seconds.\n",
    "\n",
    " \n",
    "\n",
    "Example 1:\n",
    "\n",
    "Input: gifts = [25,64,9,4,100], k = 4\n",
    "Output: 29\n",
    "Explanation: \n",
    "The gifts are taken in the following way:\n",
    "- In the first second, the last pile is chosen and 10 gifts are left behind.\n",
    "- Then the second pile is chosen and 8 gifts are left behind.\n",
    "- After that the first pile is chosen and 5 gifts are left behind.\n",
    "- Finally, the last pile is chosen again and 3 gifts are left behind.\n",
    "The final remaining gifts are [5,8,9,4,3], so the total number of gifts remaining is 29.\n",
    "Example 2:\n",
    "\n",
    "Input: gifts = [1,1,1,1], k = 4\n",
    "Output: 4\n",
    "Explanation: \n",
    "In this case, regardless which pile you choose, you have to leave behind 1 gift in each pile. \n",
    "That is, you can't take any pile with you. \n",
    "So, the total gifts remaining are 4.\n",
    " \n",
    "\n",
    "Constraints:\n",
    "\n",
    "1 <= gifts.length <= 103\n",
    "1 <= gifts[i] <= 109\n",
    "1 <= k <= 103\n"
   ]
  },
  {
   "attachments": {},
   "cell_type": "markdown",
   "metadata": {},
   "source": [
    "### 这道题的关键在于审题\n",
    "关键在于考虑开方之后的值是否要参与比较\n",
    "此外，如果是开方问题记得对1特判之后退出"
   ]
  },
  {
   "cell_type": "code",
   "execution_count": 7,
   "metadata": {},
   "outputs": [
    {
     "name": "stdout",
     "output_type": "stream",
     "text": [
      "[-71, -43, -70, -27, -12, -37, -57, -8]\n",
      "[-70, -43, -57, -27, -12, -37, -8, -8]\n",
      "[-57, -43, -37, -27, -12, -8, -8, -8]\n",
      "[-43, -27, -37, -8, -12, -8, -8, -7]\n",
      "[-37, -27, -8, -8, -12, -8, -7, -6]\n",
      "[-27, -12, -8, -8, -6, -8, -7, -6]\n",
      "[-12, -8, -8, -6, -6, -8, -7, -5]\n",
      "[-8, -8, -8, -6, -6, -5, -7, -3]\n",
      "[-8, -8, -7, -6, -6, -5, -3, -2]\n",
      "[-8, -6, -7, -6, -2, -5, -3, -2]\n",
      "[-7, -6, -5, -6, -2, -2, -3, -2]\n",
      "[-6, -6, -5, -2, -2, -2, -3, -2]\n",
      "[-6, -2, -5, -2, -2, -2, -3, -2]\n",
      "[-5, -2, -3, -2, -2, -2, -2, -2]\n",
      "[-3, -2, -2, -2, -2, -2, -2, -2]\n",
      "[-2, -2, -2, -2, -2, -2, -2, -1]\n",
      "[-2, -2, -2, -2, -2, -2, -1, -1]\n",
      "[-2, -2, -2, -2, -2, -1, -1, -1]\n",
      "[-2, -2, -1, -2, -2, -1, -1, -1]\n",
      "[-2, -2, -1, -2, -1, -1, -1, -1]\n",
      "[-2, -2, -1, -1, -1, -1, -1, -1]\n",
      "[-2, -1, -1, -1, -1, -1, -1, -1]\n",
      "[-1, -1, -1, -1, -1, -1, -1, -1]\n",
      "[-1, -1, -1, -1, -1, -1, -1, -1]\n",
      "[-1, -1, -1, -1, -1, -1, -1, -1]\n",
      "[-1, -1, -1, -1, -1, -1, -1, -1]\n",
      "[-1, -1, -1, -1, -1, -1, -1, -1]\n",
      "[-1, -1, -1, -1, -1, -1, -1, -1]\n",
      "[-1, -1, -1, -1, -1, -1, -1, -1]\n",
      "[-1, -1, -1, -1, -1, -1, -1, -1]\n",
      "[-1, -1, -1, -1, -1, -1, -1, -1]\n",
      "[-1, -1, -1, -1, -1, -1, -1, -1]\n",
      "[-1, -1, -1, -1, -1, -1, -1, -1]\n",
      "[-1, -1, -1, -1, -1, -1, -1, -1]\n",
      "[-1, -1, -1, -1, -1, -1, -1, -1]\n",
      "[-1, -1, -1, -1, -1, -1, -1, -1]\n",
      "[-1, -1, -1, -1, -1, -1, -1, -1]\n",
      "[-1, -1, -1, -1, -1, -1, -1, -1]\n",
      "[-1, -1, -1, -1, -1, -1, -1, -1]\n",
      "8\n"
     ]
    }
   ],
   "source": [
    "import heapq\n",
    "from typing import List\n",
    "import math\n",
    "class Solution:\n",
    "    def pickGifts(self, gifts: List[int], k: int) -> int:\n",
    "        heap=[-val for val in gifts]#打算对列表整体做操作\n",
    "        heapq.heapify(heap)# heapify没有返回值\n",
    "        while k!=0:\n",
    "            cur=-heapq.heappop(heap)\n",
    "            remain=int(math.sqrt(cur))\n",
    "            heapq.heappush(heap,-remain)\n",
    "            print(heap)\n",
    "            k-=1\n",
    "        return -sum(heap)# queue.PriorityQueue不能用sum\n",
    "solution=Solution()\n",
    "# print(solution.pickGifts([25,64,9,4,100],4))\n",
    "print(solution.pickGifts([71,43,70,27,71,37,57,12],39))"
   ]
  },
  {
   "cell_type": "code",
   "execution_count": 1,
   "metadata": {},
   "outputs": [
    {
     "name": "stdout",
     "output_type": "stream",
     "text": [
      "8\n"
     ]
    }
   ],
   "source": [
    "import math\n",
    "from typing import List\n",
    "from queue import PriorityQueue\n",
    "class Solution:\n",
    "    def pickGifts(self, gifts: List[int], k: int) -> int:\n",
    "        que=PriorityQueue()\n",
    "        for val in gifts:\n",
    "            que.put(-val)\n",
    "        res=0\n",
    "        i=0\n",
    "        while i<k and que.qsize()!=0:\n",
    "            cur=-que.get()\n",
    "            cur_sqrt=int(math.sqrt(cur))\n",
    "            if cur_sqrt==1:\n",
    "                res+=1\n",
    "            elif cur_sqrt>1:\n",
    "                que.put(-cur_sqrt)\n",
    "            # print(cur_sqrt,que.qsize())\n",
    "            i+=1\n",
    "        # return sum(list(que))\n",
    "        while que.qsize()!=0:\n",
    "            res+=-que.get()\n",
    "            # print(res)\n",
    "        return res\n",
    "solution=Solution()\n",
    "# print(solution.pickGifts([25,64,9,4,100],4))\n",
    "print(solution.pickGifts([71,43,70,27,71,37,57,12],39))"
   ]
  },
  {
   "attachments": {},
   "cell_type": "markdown",
   "metadata": {},
   "source": []
  }
 ],
 "metadata": {
  "kernelspec": {
   "display_name": "py38",
   "language": "python",
   "name": "python3"
  },
  "language_info": {
   "codemirror_mode": {
    "name": "ipython",
    "version": 3
   },
   "file_extension": ".py",
   "mimetype": "text/x-python",
   "name": "python",
   "nbconvert_exporter": "python",
   "pygments_lexer": "ipython3",
   "version": "3.8.13"
  },
  "orig_nbformat": 4,
  "vscode": {
   "interpreter": {
    "hash": "76c3c49e318b7c885b43daef0aa3cfe4eb22ade01aff18419595a86661fada18"
   }
  }
 },
 "nbformat": 4,
 "nbformat_minor": 2
}
