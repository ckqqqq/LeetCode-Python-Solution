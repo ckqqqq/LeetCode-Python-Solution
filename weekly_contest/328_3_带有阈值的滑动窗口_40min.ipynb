{
 "cells": [
  {
   "cell_type": "code",
   "execution_count": 17,
   "metadata": {},
   "outputs": [
    {
     "name": "stdout",
     "output_type": "stream",
     "text": [
      "0 6 2\n",
      "1 7 3\n",
      "2 7 4\n",
      "4\n",
      "0 4 4\n",
      "1 6 6\n",
      "2 6 8\n",
      "3 6 10\n",
      "4 6 12\n",
      "12\n",
      "0 5 1\n",
      "1\n",
      "0 5 2\n",
      "1 6 3\n",
      "3\n"
     ]
    }
   ],
   "source": [
    "# 分类 带有阈值的滑动窗口\n",
    "# 题目要求：\n",
    "# 连续序列， 至少大于n\n",
    "# 因为是至少大于n 所以之后right扩张的所有数都行了\n",
    "from collections import defaultdict\n",
    "from typing import List\n",
    "class Solution:\n",
    "    def countGood(self, nums: List[int], k: int) -> int:\n",
    "        left,right=0,0\n",
    "        state=defaultdict(int)# state表示当前某个值的个数\n",
    "        npair=0\n",
    "        res=0\n",
    "        while left<=right:\n",
    "            while right<len(nums)and npair<k:# npair>=k npair能加\n",
    "                if nums[right] not in state:\n",
    "                    state[nums[right]]=1#  \"2 2\" pair=1 \"2 2 2\" pair+2\n",
    "                else:\n",
    "                    state[nums[right]]=state[nums[right]]+1#0 1 2 3 4\n",
    "                # pair_increase=state[nums[right]]-1\n",
    "                npair+=state[nums[right]]-1\n",
    "                right+=1\n",
    "            if npair>=k:\n",
    "                res+=1+len(nums)-1-right+1\n",
    "                # print(1+len(nums)-1-right+1)\n",
    "            elif npair<k:\n",
    "                if right==len(nums):#npar能减啦\n",
    "                    break\n",
    "            # print(left,right,res)\n",
    "            npair-=state[nums[left]]-1\n",
    "            state[nums[left]]=state[nums[left]]-1\n",
    "            left+=1            \n",
    "            # while left<=right and npair>=k:\n",
    "            #     left+=1\n",
    "            #     npair-=state[nums[left]]-1##\"2,2,2,2\" \"2,2,2\" (3) 减去3\n",
    "            #     state[nums[left]]=state[nums[left]]-1\n",
    "            #     if npair>=k:\n",
    "            #         res+=1\n",
    "        \n",
    "        # assert left<=right,\"???\"\n",
    "        return res\n",
    "solution=Solution()\n",
    "print(solution.countGood([3,1,4,3,2,2,4],k=2))\n",
    "print(solution.countGood([3,1,4,3,2,2,4],k=1))\n",
    "print(solution.countGood([1,1,1,1,1],k=10))\n",
    "print(solution.countGood([1,1,1,1,1,1],k=10))\n",
    "        # while True:"
   ]
  }
 ],
 "metadata": {
  "kernelspec": {
   "display_name": "base",
   "language": "python",
   "name": "python3"
  },
  "language_info": {
   "codemirror_mode": {
    "name": "ipython",
    "version": 3
   },
   "file_extension": ".py",
   "mimetype": "text/x-python",
   "name": "python",
   "nbconvert_exporter": "python",
   "pygments_lexer": "ipython3",
   "version": "3.9.12"
  },
  "orig_nbformat": 4,
  "vscode": {
   "interpreter": {
    "hash": "7b93ae2ddedcfb4b7ddebf80c8c7984044339b2e43f10e14b9461f3e640893f2"
   }
  }
 },
 "nbformat": 4,
 "nbformat_minor": 2
}
