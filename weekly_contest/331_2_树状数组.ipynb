{
 "cells": [
  {
   "attachments": {},
   "cell_type": "markdown",
   "metadata": {},
   "source": [
    "2559. Count Vowel Strings in Ranges\n",
    "User Accepted:8513\n",
    "User Tried:10478\n",
    "Total Accepted:8743\n",
    "Total Submissions:18982\n",
    "Difficulty:Medium\n",
    "You are given a 0-indexed array of strings words and a 2D array of integers queries.\n",
    "\n",
    "Each query queries[i] = [li, ri] asks us to find the number of strings present in the range li to ri (both inclusive) of words that start and end with a vowel.\n",
    "\n",
    "Return an array ans of size queries.length, where ans[i] is the answer to the ith query.\n",
    "\n",
    "Note that the vowel letters are 'a', 'e', 'i', 'o', and 'u'.\n",
    "\n",
    " \n",
    "\n",
    "Example 1:\n",
    "\n",
    "Input: words = [\"aba\",\"bcb\",\"ece\",\"aa\",\"e\"], queries = [[0,2],[1,4],[1,1]]\n",
    "Output: [2,3,0]\n",
    "Explanation: The strings starting and ending with a vowel are \"aba\", \"ece\", \"aa\" and \"e\".\n",
    "The answer to the query [0,2] is 2 (strings \"aba\" and \"ece\").\n",
    "to query [1,4] is 3 (strings \"ece\", \"aa\", \"e\").\n",
    "to query [1,1] is 0.\n",
    "We return [2,3,0].\n",
    "Example 2:\n",
    "\n",
    "Input: words = [\"a\",\"e\",\"i\"], queries = [[0,2],[0,1],[2,2]]\n",
    "Output: [3,2,1]\n",
    "Explanation: Every string satisfies the conditions, so we return [3,2,1].\n",
    " \n",
    "\n",
    "Constraints:\n",
    "\n",
    "1 <= words.length <= 105\n",
    "1 <= words[i].length <= 40\n",
    "words[i] consists only of lowercase English letters.\n",
    "sum(words[i].length) <= 3 * 105\n",
    "1 <= queries.length <= 105\n",
    "0 <= li <= ri < words.length"
   ]
  },
  {
   "attachments": {},
   "cell_type": "markdown",
   "metadata": {},
   "source": [
    "### 注意区间和"
   ]
  },
  {
   "cell_type": "code",
   "execution_count": 3,
   "metadata": {},
   "outputs": [
    {
     "name": "stdout",
     "output_type": "stream",
     "text": [
      "[2, 3, 0]\n"
     ]
    }
   ],
   "source": [
    "from typing import List\n",
    "class BITree:\n",
    "    def __init__(self,LEN):\n",
    "        self.c=[0]*(LEN+1)\n",
    "        self.len=LEN+1\n",
    "    @staticmethod\n",
    "    def lowbit(x):\n",
    "        return x&-x\n",
    "    def update(self,x,delta):\n",
    "        while x<self.len:\n",
    "            self.c[x]+=delta\n",
    "            x+=self.lowbit(x)\n",
    "    def prefixSum(self,x):\n",
    "        res=0\n",
    "        while x>0:\n",
    "            res+=self.c[x]\n",
    "            x-=self.lowbit(x)\n",
    "        return res\n",
    "            \n",
    "class Solution:\n",
    "    def vowelStrings(self, words: List[str], queries: List[List[int]]) -> List[int]:\n",
    "        res=[]\n",
    "        vowel=['a','e','i','o','u']\n",
    "        bitree=BITree(len(words))\n",
    "        for idx,word in enumerate(words):\n",
    "            if word[0] in vowel and word[-1] in vowel:\n",
    "                bitree.update(idx+1,1)\n",
    "        for b,e in queries:\n",
    "            cur=bitree.prefixSum(e+1)-bitree.prefixSum(b+1-1)\n",
    "            res.append(cur)\n",
    "        return res\n",
    "solution=Solution()\n",
    "print(solution.vowelStrings([\"aba\",\"bcb\",\"ece\",\"aa\",\"e\"],[[0,2],[1,4],[1,1]]))"
   ]
  }
 ],
 "metadata": {
  "kernelspec": {
   "display_name": "base",
   "language": "python",
   "name": "python3"
  },
  "language_info": {
   "codemirror_mode": {
    "name": "ipython",
    "version": 3
   },
   "file_extension": ".py",
   "mimetype": "text/x-python",
   "name": "python",
   "nbconvert_exporter": "python",
   "pygments_lexer": "ipython3",
   "version": "3.9.12"
  },
  "orig_nbformat": 4,
  "vscode": {
   "interpreter": {
    "hash": "7b93ae2ddedcfb4b7ddebf80c8c7984044339b2e43f10e14b9461f3e640893f2"
   }
  }
 },
 "nbformat": 4,
 "nbformat_minor": 2
}
