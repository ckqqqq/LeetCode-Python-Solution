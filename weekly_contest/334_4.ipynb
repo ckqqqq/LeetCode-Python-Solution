{
 "cells": [
  {
   "attachments": {},
   "cell_type": "markdown",
   "metadata": {},
   "source": [
    "6366. Minimum Time to Visit a Cell In a Grid\n",
    "User Accepted:441\n",
    "User Tried:1577\n",
    "Total Accepted:469\n",
    "Total Submissions:2859\n",
    "Difficulty:Hard\n",
    "You are given a m x n matrix grid consisting of non-negative integers where grid[row][col] represents the minimum time required to be able to visit the cell (row, col), which means you can visit the cell (row, col) only when the time you visit it is greater than or equal to grid[row][col].\n",
    "\n",
    "You are standing in the top-left cell of the matrix in the 0th second, and you must move to any adjacent cell in the four directions: up, down, left, and right. Each move you make takes 1 second.\n",
    "\n",
    "Return the minimum time required in which you can visit the bottom-right cell of the matrix. If you cannot visit the bottom-right cell, then return -1.\n",
    "\n",
    " \n",
    "\n",
    "Example 1:\n",
    "\n",
    "\n",
    "\n",
    "Input: grid = [[0,1,3,2],[5,1,2,5],[4,3,8,6]]\n",
    "Output: 7\n",
    "Explanation: One of the paths that we can take is the following:\n",
    "- at t = 0, we are on the cell (0,0).\n",
    "- at t = 1, we move to the cell (0,1). It is possible because grid[0][1] <= 1.\n",
    "- at t = 2, we move to the cell (1,1). It is possible because grid[1][1] <= 2.\n",
    "- at t = 3, we move to the cell (1,2). It is possible because grid[1][2] <= 3.\n",
    "- at t = 4, we move to the cell (1,1). It is possible because grid[1][1] <= 4.\n",
    "- at t = 5, we move to the cell (1,2). It is possible because grid[1][2] <= 5.\n",
    "- at t = 6, we move to the cell (1,3). It is possible because grid[1][3] <= 6.\n",
    "- at t = 7, we move to the cell (2,3). It is possible because grid[1][3] <= 7.\n",
    "The final time is 7. It can be shown that it is the minimum time possible.\n",
    "Example 2:\n",
    "\n",
    "\n",
    "\n",
    "Input: grid = [[0,2,4],[3,2,1],[1,0,4]]\n",
    "Output: -1\n",
    "Explanation: There is no path from the top left to the bottom-right cell.\n",
    " \n",
    "\n",
    "Constraints:\n",
    "\n",
    "m == grid.length\n",
    "n == grid[i].length\n",
    "2 <= m, n <= 1000\n",
    "4 <= m * n <= 105\n",
    "0 <= grid[i][j] <= 105\n",
    "grid[0][0] == 0"
   ]
  },
  {
   "cell_type": "code",
   "execution_count": 10,
   "metadata": {},
   "outputs": [
    {
     "name": "stdout",
     "output_type": "stream",
     "text": [
      "0 2 0 1\n",
      "1 1 0 1\n",
      "1 2 1 1\n",
      "1 3 1 2\n",
      "1 1 1 2\n",
      "0 2 1 2\n",
      "1 1 2 1\n",
      "0 3 0 2\n",
      "1 2 0 2\n",
      "1 3 0 3\n",
      "0 2 0 3\n",
      "1 1 1 0\n",
      "2 3 1 3\n",
      "1 2 1 3\n",
      "0 3 1 3\n",
      "1 3 2 3\n",
      "2 3 2 2\n",
      "1 2 2 2\n",
      "7\n"
     ]
    }
   ],
   "source": [
    "# 正解\n",
    "# Dijstra \n",
    "from typing import List\n",
    "# 方法二\n",
    "'''\n",
    "最短路径算法那\n",
    "\n",
    "Djistra算法是计算从起点位置到每个节点的最短距离\n",
    "其关键在于，从起点开始，遍历邻接边，找最短的边，到达最近的节点\n",
    "到达最近的节点，则最近的节点到起点的最短距离确定，更新优先队列\n",
    "\n",
    "'''\n",
    "import queue\n",
    "class Solution:\n",
    "    def minimumTime(self, grid: List[List[int]]) -> int:\n",
    "        m,n=len(grid),len(grid[0])\n",
    "        if grid[0][1]!=1 and grid[1][0]!=1 or grid[0][0]!=0:\n",
    "            return -1\n",
    "        que=queue.PriorityQueue()\n",
    "        infinity=float(\"inf\")\n",
    "        dis=[[infinity for _ in range(n)]for _ in range(m)]\n",
    "        vis=[[False for _ in range(n)]for _ in range(m)]\n",
    "        dis[0][0]=0\n",
    "        vis[0][0]=True\n",
    "        que.put((0,0,0))# d,i,jis\n",
    "        while que.qsize()!=0:\n",
    "            d,i,j=que.get()\n",
    "            for x,y in (i,j+1),(i+1,j),(i,j-1),(i-1,j):\n",
    "                if 0<=x<m and 0<=y<n:\n",
    "                    # ndis=min(d+1,dis[i][j])\n",
    "                    if abs(grid[x][y]-dis[i][j])%2==0:# 同他所处的位置有关，因为d不一定\n",
    "                        newDis=max(grid[x][y]+1,d+1)# 如果相邻区块距离差为偶数，直接相加否则+1\n",
    "                        print(x,y,i,j)\n",
    "                    else:\n",
    "                        newDis=max(grid[x][y],d+1)# 满足上界\n",
    "                    if newDis<dis[x][y]:\n",
    "                        dis[x][y]=min(dis[x][y],newDis)#更新图\n",
    "                        que.put((dis[x][y],x,y))#有更小的边,加入que\n",
    "                    \n",
    "        return dis[-1][-1]\n",
    "                    # que.put((newDis,x,y))# 当前距离\n",
    "solution=Solution()\n",
    "print(solution.minimumTime([[0,1,3,2],[5,1,2,5],[4,3,8,6]]))         \n",
    "                                "
   ]
  },
  {
   "cell_type": "code",
   "execution_count": 4,
   "metadata": {},
   "outputs": [
    {
     "name": "stdout",
     "output_type": "stream",
     "text": [
      "(2, 1)\n",
      "(3, 1)\n",
      "(3, 2)\n"
     ]
    }
   ],
   "source": [
    "import queue\n",
    "que=queue.PriorityQueue()\n",
    "que.put((3,2))\n",
    "que.put((2,1))\n",
    "que.put((3,1))\n",
    "\n",
    "while que.qsize()!=0:\n",
    "    print(que.get())"
   ]
  },
  {
   "cell_type": "code",
   "execution_count": null,
   "metadata": {},
   "outputs": [],
   "source": [
    "print(\"a\")\n",
    "a=110\n",
    "b=100\n",
    "print(a+100)"
   ]
  },
  {
   "cell_type": "code",
   "execution_count": 2,
   "metadata": {},
   "outputs": [
    {
     "name": "stdout",
     "output_type": "stream",
     "text": [
      "6\n"
     ]
    }
   ],
   "source": [
    "# 这这道题一共有两种方法\n",
    "# 方法一\n",
    "#二分法\n",
    "'''\n",
    "二分法就是对答案进行二分，由答案可知，答案为从起点到终点的时间t,这个t的范围为grid时间的最大值和从开始到结束的步数\n",
    "m*n,所以我们可以对答案二分\n",
    "如果对答案进行二分，我们需要验证答案的正确性（是否有这个解），问题转化为了求True False的问题，这个也很简单 BFS从终点到起点\n",
    "找一个最小的时间去减，由于当前这个节点可以在起点处不听徘徊，所以我们只需要看最后到达起点时是不是偶数\n",
    "如果到起点之后的时间为偶数，那么证明其在起点处徘徊，求一个最小值就行\n",
    "如果到起点之后的时间为奇数，那么还要去徘徊一轮才行，其最后的答案要加一，例子：\n",
    "0 1 3\n",
    "然后计算二分就行\n",
    "# '''\n",
    "from typing import List\n",
    "import queue\n",
    "class Solution:\n",
    "    def minimumTime(self, grid: List[List[int]]) -> int:\n",
    "        m,n=len(grid),len(grid[0])\n",
    "        if grid[1][0]>1 and grid[0][1]>1:\n",
    "            return -1\n",
    "        startTime=0\n",
    "        def check(tim:int)->bool:\n",
    "            # return True\n",
    "            #time#是到达终点所花费的时间\n",
    "            vis=[[False for _ in range(n)]for _ in range(m)]\n",
    "            vis[m-1][n-1]=True\n",
    "            que=[(m-1,n-1)]\n",
    "            curTime=tim-1\n",
    "            # nonlocal startTime\n",
    "            # BFS找到的是最短路径,但是不是最短时间\n",
    "            while len(que)!=0:\n",
    "                tmp=que\n",
    "                que=[]# 独特的队列\n",
    "                # print(que,tmp,curTime,vis)\n",
    "                for i,j in tmp:#每个时间片的循环\n",
    "                    for x,y in (i-1,j),(i,j-1),(i,j+1),(i+1,j):\n",
    "                        if 0<=x<m and 0<=y<n and grid[x][y]<=curTime and vis[x][y]==False:\n",
    "                            # 可以走\n",
    "                            if x==0 and y==0:# 终点\n",
    "                                nonlocal startTime\n",
    "                                startTime=min(startTime,curTime)\n",
    "                                return True     # 如果能够抵达就返回就行了               \n",
    "                            # 起点\n",
    "                            vis[x][y]=True\n",
    "                            que.append((x,y))#\n",
    "                        \n",
    "                curTime-=1\n",
    "                         \n",
    "            # if startTime>=0:\n",
    "                # print(startTime)\n",
    "            return False# 找不到路径 提前退出了\n",
    "            # startTime<=0\n",
    "        left=max(grid[-1][-1],m+n-2)\n",
    "        right=max(map(max,grid))+m+n+2\n",
    "        while left<=right:\n",
    "            mid=(right+left)//2 \n",
    "            # print(left,right,mid)\n",
    "            if check(mid)==True:# 时间太大,剩余时间太多 # 找到路径了\n",
    "                right=mid-1\n",
    "            elif check(mid)==False:#时间太小，无法返回\n",
    "                left=mid+1      \n",
    "        print(check(left),check(right))#一个是True 一个是rIght\n",
    "        return left+(left-m-n)%2# 从初始\n",
    "solution=Solution()\n",
    "print(solution.minimumTime([[0,1,3,2],[5,1,2,5],[4,3,8,6]]))               "
   ]
  },
  {
   "cell_type": "code",
   "execution_count": null,
   "metadata": {},
   "outputs": [],
   "source": [
    "def a(b,c):\n",
    "    def d(e,f):\n",
    "        b=e\n",
    "    d(3,4)\n",
    "    print(b)\n",
    "a(1,2)"
   ]
  },
  {
   "cell_type": "code",
   "execution_count": null,
   "metadata": {},
   "outputs": [],
   "source": [
    "def a(b,c):\n",
    "    def d(e,f):\n",
    "        nonlocal b\n",
    "        b=e\n",
    "    d(3,4)\n",
    "    print(b)\n",
    "a(1,2)"
   ]
  },
  {
   "attachments": {},
   "cell_type": "markdown",
   "metadata": {},
   "source": [
    "if 开始 hasnear\n",
    "    then 更新\n",
    "\n",
    "for x\n",
    "    for y\n",
    "        for 4\n",
    "            if %2=0\n",
    "                near[x][y]=3+1min\n",
    "                \n",
    "1 1 \n",
    "\n",
    "        \n",
    "        \n",
    "    # 偶数计时间\n",
    "    \n",
    "0 1 3 2\n",
    "5 1 2 5\n"
   ]
  },
  {
   "cell_type": "code",
   "execution_count": null,
   "metadata": {},
   "outputs": [],
   "source": []
  }
 ],
 "metadata": {
  "kernelspec": {
   "display_name": "py38",
   "language": "python",
   "name": "python3"
  },
  "language_info": {
   "codemirror_mode": {
    "name": "ipython",
    "version": 3
   },
   "file_extension": ".py",
   "mimetype": "text/x-python",
   "name": "python",
   "nbconvert_exporter": "python",
   "pygments_lexer": "ipython3",
   "version": "3.8.13"
  },
  "orig_nbformat": 4,
  "vscode": {
   "interpreter": {
    "hash": "76c3c49e318b7c885b43daef0aa3cfe4eb22ade01aff18419595a86661fada18"
   }
  }
 },
 "nbformat": 4,
 "nbformat_minor": 2
}
