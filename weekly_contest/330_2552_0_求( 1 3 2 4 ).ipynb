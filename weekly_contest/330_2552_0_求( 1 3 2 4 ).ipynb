{
 "cells": [
  {
   "cell_type": "code",
   "execution_count": null,
   "metadata": {},
   "outputs": [],
   "source": []
  },
  {
   "attachments": {},
   "cell_type": "markdown",
   "metadata": {},
   "source": [
    "LeetCode Logo\n",
    "Problem List\n",
    "Premium\n",
    "0\n",
    "\n",
    "avatar\n",
    "2552. Count Increasing Quadruplets\n",
    "Hard\n",
    "119\n",
    "23\n",
    "Companies\n",
    "Given a 0-indexed integer array nums of size n containing all numbers from 1 to n, return the number of increasing quadruplets.\n",
    "\n",
    "A quadruplet (i, j, k, l) is increasing if:\n",
    "\n",
    "0 <= i < j < k < l < n, and\n",
    "nums[i] < nums[k] < nums[j] < nums[l].\n",
    " \n",
    "\n",
    "Example 1:\n",
    "\n",
    "Input: nums = [1,3,2,4,5]\n",
    "Output: 2\n",
    "Explanation: \n",
    "- When i = 0, j = 1, k = 2, and l = 3, nums[i] < nums[k] < nums[j] < nums[l].\n",
    "- When i = 0, j = 1, k = 2, and l = 4, nums[i] < nums[k] < nums[j] < nums[l]. \n",
    "There are no other quadruplets, so we return 2.\n",
    "Example 2:\n",
    "\n",
    "Input: nums = [1,2,3,4]\n",
    "Output: 0\n",
    "Explanation: There exists only one quadruplet with i = 0, j = 1, k = 2, l = 3, but since nums[j] < nums[k], we return 0.\n",
    " \n",
    "\n",
    "Constraints:\n",
    "\n",
    "4 <= nums.length <= 4000\n",
    "1 <= nums[i] <= nums.length\n",
    "All the integers of nums are unique. nums is a permutation.\n",
    "\n",
    "首先注意讀題：注意到数组中的所有数都是独一无二的，数组是一个组合数[1，N]\n",
    "其次 数据范围10**3 动归足够，这道题好像是二叉序列树的正解，但是DP也能解\n"
   ]
  },
  {
   "cell_type": "code",
   "execution_count": 7,
   "metadata": {},
   "outputs": [
    {
     "name": "stdout",
     "output_type": "stream",
     "text": [
      "(2, [0, 1, 0, 0, 0])\n",
      "(0, [0, 0, 0, 0])\n",
      "(12, [0, 0, 4, 2, 0, 5, 0])\n"
     ]
    }
   ],
   "source": [
    "# 首先注意到一个点，就是所有的数都是独一无二的\n",
    "# 这道题是一个132系列的一个变种 \n",
    "from typing import List\n",
    "class Solution:\n",
    "    def countQuadruplets(self, nums: List[int]) -> int:\n",
    "        # dp 记录如果i为第三个值 132的数量，在访问第二个值的时候更新dp\n",
    "        dp=[0 for _ in range(len(nums))]\n",
    "        res=0\n",
    "        for i in range(len(nums)):\n",
    "            prev=0# 比nums[i]小，序号在j前的数的数量\n",
    "            for j in range(i):\n",
    "                if nums[j]<nums[i]:# 3<4 dp[j]记录了j==3时 132的数量\n",
    "                    prev+=1# 记录3之前1的数量\n",
    "                    res+=dp[j]\n",
    "                elif nums[j]>nums[i]:\n",
    "                    dp[j]+=prev# prev j i 这样的132组的数量\n",
    "        return res,dp\n",
    "solution=Solution()\n",
    "print(solution.countQuadruplets( [1,3,2,4,5]))\n",
    "print(solution.countQuadruplets( [1,2,3,4]))\n",
    "print(solution.countQuadruplets([1,2,5,4,3,7,6]))#6+6\n"
   ]
  },
  {
   "cell_type": "code",
   "execution_count": null,
   "metadata": {},
   "outputs": [],
   "source": [
    "# 如果是求2431问题 那么2要记录 243的数量 最后遍历1的时候拿来比\n",
    "# 类似思想"
   ]
  },
  {
   "cell_type": "code",
   "execution_count": 8,
   "metadata": {},
   "outputs": [
    {
     "name": "stdout",
     "output_type": "stream",
     "text": [
      "[[1], [3, 3, 2], [4], [5], [6]]\n"
     ]
    }
   ],
   "source": [
    "'''class Solution:\n",
    "    def countQuadruplets(self, nums: List[int]) -> int:\n",
    "        '''\n",
    "from typing import List\n",
    "class Solution:\n",
    "    def countQuadruplets(self, nums: List[int]) -> int:\n",
    "        #LIS#\n",
    "        stacks=[]\n",
    "        for val in nums:\n",
    "            left,right=0,len(stacks)-1\n",
    "            while left<=right:\n",
    "                mid=(left+right)//2\n",
    "                if stacks[mid][-1]>val:\n",
    "                    right=mid-1\n",
    "                elif stacks[mid][-1]<val:\n",
    "                    left=mid+1\n",
    "                else:# stack ==val\n",
    "                    right=mid-1\n",
    "            if left==len(stacks):\n",
    "                stacks.append([val])\n",
    "            else:\n",
    "                assert stacks[left][-1]>=val,\"???\"\n",
    "                stacks[left].append(val)\n",
    "            for idx,sta in enumerate(stacks):\n",
    "                if len(sta)>1:\n",
    "                    for j in range(sta):\n",
    "                        \n",
    "\n",
    "        return stacks\n",
    "solution=Solution()\n",
    "print(solution.countQuadruplets( [1,3,3,2,4,5,6]))\n",
    "# 1 "
   ]
  }
 ],
 "metadata": {
  "kernelspec": {
   "display_name": "base",
   "language": "python",
   "name": "python3"
  },
  "language_info": {
   "codemirror_mode": {
    "name": "ipython",
    "version": 3
   },
   "file_extension": ".py",
   "mimetype": "text/x-python",
   "name": "python",
   "nbconvert_exporter": "python",
   "pygments_lexer": "ipython3",
   "version": "3.9.12 (main, Apr  4 2022, 05:22:27) [MSC v.1916 64 bit (AMD64)]"
  },
  "orig_nbformat": 4,
  "vscode": {
   "interpreter": {
    "hash": "7b93ae2ddedcfb4b7ddebf80c8c7984044339b2e43f10e14b9461f3e640893f2"
   }
  }
 },
 "nbformat": 4,
 "nbformat_minor": 2
}
