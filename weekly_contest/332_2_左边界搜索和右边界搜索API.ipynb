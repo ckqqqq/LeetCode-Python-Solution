{
 "cells": [
  {
   "cell_type": "code",
   "execution_count": null,
   "metadata": {},
   "outputs": [],
   "source": [
    "class Solution:\n",
    "    def findTheArrayConcVal(self, nums: List[int]) -> int:\n",
    "        ans=0\n",
    "        left=0\n",
    "        right=len(nums)-1\n",
    "        while left<right:\n",
    "            conca=int(str(nums[left])+str(nums[right]))\n",
    "            ans+=conca\n",
    "            left,right=left+1,right-1\n",
    "        if left==right:\n",
    "            ans+=nums[left]\n",
    "        return ans"
   ]
  },
  {
   "cell_type": "code",
   "execution_count": null,
   "metadata": {},
   "outputs": [],
   "source": [
    "\n",
    "class Solution:\n",
    "    def countFairPairs(self, nums: List[int], lower: int, upper: int) -> int:\n",
    "        nums.sort()\n",
    "        ans = 0\n",
    "        for i, x in enumerate(nums):\n",
    "            r = bisect_right(nums, upper-x, 0, i) # 数组，要搜索的值，开始的位置 结束的位置（总之是不包含i的位置！）\n",
    "            l = bisect_left(nums, lower-x, 0, i)\n",
    "            ans += r - l\n",
    "        return ans"
   ]
  },
  {
   "cell_type": "code",
   "execution_count": 11,
   "metadata": {},
   "outputs": [
    {
     "name": "stdout",
     "output_type": "stream",
     "text": [
      "12\n",
      "1\n",
      "15\n"
     ]
    }
   ],
   "source": [
    "from typing import List\n",
    "class Solution:\n",
    "    def countFairPairs(self, nums: List[int], lower: int, upper: int) -> int:\n",
    "        nums.sort()\n",
    "        ans=0\n",
    "        for i in range(0,len(nums)-1):\n",
    "            # 二分搜索右邊\n",
    "            nlower,nupper=lower-nums[i],upper-nums[i]\n",
    "            left,right=i+1,len(nums)-1 # 不重复\n",
    "            while left<=right:\n",
    "                mid=left+((right-left)>>1)\n",
    "                if nums[mid]>nupper:\n",
    "                    right=mid-1\n",
    "                elif nums[mid]<nupper:\n",
    "                    left=mid+1\n",
    "                else:#==:\n",
    "                    left=mid+1\n",
    "            ans_right=right # right位置是等于其大小的最后一个值\n",
    "            \n",
    "            left,right=i+1,len(nums)-1\n",
    "            while left<=right:\n",
    "                mid=left+((right-left)>>1)\n",
    "                if nums[mid]>nlower:\n",
    "                    right=mid-1\n",
    "                elif nums[mid]<nlower:\n",
    "                    left=mid+1\n",
    "                else:#==\n",
    "                    right=mid-1\n",
    "            ans_left=left\n",
    "            # print(ans_left,ans_right)\n",
    "            ans+=ans_right-ans_left+1\n",
    "        return ans\n",
    "solution=Solution()\n",
    "print(solution.countFairPairs([0,1,1,7,4,4,5,5],3,6))\n",
    "print(solution.countFairPairs(nums = [1,7,9,2,5], lower = 11, upper = 11))\n",
    "print(solution.countFairPairs([0,0,0,0,0,0],0,0))\n",
    "# nums = [0,1,7,4,4,5], lower = 3, upper = 6\n",
    "# [0,1,4,4,5,7]\n",
    "# 0 搜索區間"
   ]
  }
 ],
 "metadata": {
  "kernelspec": {
   "display_name": "base",
   "language": "python",
   "name": "python3"
  },
  "language_info": {
   "codemirror_mode": {
    "name": "ipython",
    "version": 3
   },
   "file_extension": ".py",
   "mimetype": "text/x-python",
   "name": "python",
   "nbconvert_exporter": "python",
   "pygments_lexer": "ipython3",
   "version": "3.9.12"
  },
  "orig_nbformat": 4,
  "vscode": {
   "interpreter": {
    "hash": "7b93ae2ddedcfb4b7ddebf80c8c7984044339b2e43f10e14b9461f3e640893f2"
   }
  }
 },
 "nbformat": 4,
 "nbformat_minor": 2
}
