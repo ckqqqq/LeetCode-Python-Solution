{
 "cells": [
  {
   "cell_type": "code",
   "execution_count": null,
   "metadata": {},
   "outputs": [],
   "source": [
    "# 没审题\n",
    "class Solution:\n",
    "    def makeStringsEqual(self, s: str, target: str) -> bool:\n",
    "        has0,has1=False,False\n",
    "        i=0\n",
    "        while i<len(s):\n",
    "            if s[i]==\"0\":\n",
    "                has0=True\n",
    "            elif s[i]==\"1\":\n",
    "                has1=True\n",
    "            if has0 and has1:\n",
    "                return True\n",
    "        return s==target"
   ]
  },
  {
   "cell_type": "code",
   "execution_count": 7,
   "metadata": {},
   "outputs": [
    {
     "name": "stdout",
     "output_type": "stream",
     "text": [
      "False\n",
      "True\n",
      "False\n"
     ]
    }
   ],
   "source": [
    "# 没审题\n",
    "'''\n",
    "0 1 有1有0 能把0变成1\n",
    "1 1\n",
    "\n",
    "1 0\n",
    "1 1\n",
    "\n",
    "0 0 两个\n",
    "0 0\n",
    "# i j 任意\n",
    "1 1 两个1 能出现0 11=10=01 00=00\n",
    "1 0\n",
    "\n",
    "11 10 01\n",
    "'''\n",
    "class Solution:\n",
    "    def makeStringsEqual(self, s: str, target: str) -> bool:\n",
    "        # 有1 即可\n",
    "        target_has_1=target.find(\"1\")>-1\n",
    "        s_has_1=s.find(\"1\")>-1\n",
    "        if target_has_1 and s_has_1:#有1\n",
    "            return  True\n",
    "        else:#有个人为全0\n",
    "            return not target_has_1 and not s_has_1\n",
    "solution=Solution()\n",
    "print(solution.makeStringsEqual(\"00100\",\"00000\"))\n",
    "print(solution.makeStringsEqual(\"00000\",\"00000\"))\n",
    "print(solution.makeStringsEqual(\"00000\",\"10000\"))"
   ]
  },
  {
   "cell_type": "code",
   "execution_count": 2,
   "metadata": {},
   "outputs": [
    {
     "name": "stdout",
     "output_type": "stream",
     "text": [
      "-1\n"
     ]
    }
   ],
   "source": [
    "print(\"aaaa\".find(\"b\"))"
   ]
  }
 ],
 "metadata": {
  "kernelspec": {
   "display_name": "base",
   "language": "python",
   "name": "python3"
  },
  "language_info": {
   "codemirror_mode": {
    "name": "ipython",
    "version": 3
   },
   "file_extension": ".py",
   "mimetype": "text/x-python",
   "name": "python",
   "nbconvert_exporter": "python",
   "pygments_lexer": "ipython3",
   "version": "3.9.12 (main, Apr  4 2022, 05:22:27) [MSC v.1916 64 bit (AMD64)]"
  },
  "orig_nbformat": 4,
  "vscode": {
   "interpreter": {
    "hash": "7b93ae2ddedcfb4b7ddebf80c8c7984044339b2e43f10e14b9461f3e640893f2"
   }
  }
 },
 "nbformat": 4,
 "nbformat_minor": 2
}
