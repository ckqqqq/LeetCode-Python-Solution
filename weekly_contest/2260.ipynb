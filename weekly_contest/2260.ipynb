{
 "cells": [
  {
   "cell_type": "code",
   "execution_count": 13,
   "metadata": {},
   "outputs": [
    {
     "name": "stdout",
     "output_type": "stream",
     "text": [
      "4\n",
      "-1\n"
     ]
    }
   ],
   "source": [
    "from typing import List\n",
    "from collections import defaultdict\n",
    "class Solution:\n",
    "    def minimumCardPickup(self, cards: List[int]) -> int:\n",
    "        distance=defaultdict(list)\n",
    "        ans=2**40\n",
    "        for index,val in enumerate(cards):\n",
    "            distance[val].append(index)\n",
    "        for k in distance.keys():\n",
    "            for index in range(0,len(distance[k])-1):\n",
    "                ans=min(ans,distance[k][index+1]-distance[k][index]+1)\n",
    "        if ans<2**40:\n",
    "            return ans\n",
    "        else:\n",
    "            return -1\n",
    "solution=Solution()\n",
    "print(solution.minimumCardPickup([3,4,2,3,4,7]))\n",
    "print(solution.minimumCardPickup([1,0,5,3]))"
   ]
  },
  {
   "cell_type": "code",
   "execution_count": 7,
   "metadata": {},
   "outputs": [
    {
     "name": "stdout",
     "output_type": "stream",
     "text": [
      "defaultdict(<class 'list'>, {3: [0, 2, 4], 4: [1, 5], 2: [3], 7: [6]})\n",
      "2\n",
      "3\n",
      "4\n",
      "7\n"
     ]
    }
   ],
   "source": [
    "from collections import defaultdict\n",
    "distance=defaultdict(list)\n",
    "for index,val in enumerate([3,4,3,2,3,4,7]):\n",
    "    distance[val].append(index)\n",
    "print(distance)\n",
    "for what in sorted(distance.keys()):\n",
    "    print(what)\n",
    "        "
   ]
  }
 ],
 "metadata": {
  "kernelspec": {
   "display_name": "base",
   "language": "python",
   "name": "python3"
  },
  "language_info": {
   "codemirror_mode": {
    "name": "ipython",
    "version": 3
   },
   "file_extension": ".py",
   "mimetype": "text/x-python",
   "name": "python",
   "nbconvert_exporter": "python",
   "pygments_lexer": "ipython3",
   "version": "3.9.12 (main, Apr  4 2022, 05:22:27) [MSC v.1916 64 bit (AMD64)]"
  },
  "orig_nbformat": 4,
  "vscode": {
   "interpreter": {
    "hash": "7b93ae2ddedcfb4b7ddebf80c8c7984044339b2e43f10e14b9461f3e640893f2"
   }
  }
 },
 "nbformat": 4,
 "nbformat_minor": 2
}
