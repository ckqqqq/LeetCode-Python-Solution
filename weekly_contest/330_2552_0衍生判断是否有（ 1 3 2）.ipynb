{
 "cells": [
  {
   "cell_type": "code",
   "execution_count": 3,
   "metadata": {},
   "outputs": [
    {
     "name": "stdout",
     "output_type": "stream",
     "text": [
      "([0, 0, 0, 2, 0, 0], 2)\n"
     ]
    }
   ],
   "source": [
    "# 找出132 序列的数量 时间O(N^2)\n",
    "def judge_132(nums:int):\n",
    "    dp=[0 for _ in range(len(nums))]#dp[i]记录[0:i]区间内132的数量\n",
    "    res=0\n",
    "    for i in range(len(nums)):\n",
    "        prev=0\n",
    "        for j in range(0,i):\n",
    "            if nums[j]<nums[i]:\n",
    "                prev+=1\n",
    "            elif nums[j]>nums[i]:\n",
    "                dp[i]+=prev#就是到j时累加的数量\n",
    "        res+=dp[i] # 其关键是判断中间那个值132的中间是2！\n",
    "    return dp,res\n",
    "print(judge_132([1,2,4,3,5,0]))\n",
    "                "
   ]
  }
 ],
 "metadata": {
  "kernelspec": {
   "display_name": "base",
   "language": "python",
   "name": "python3"
  },
  "language_info": {
   "codemirror_mode": {
    "name": "ipython",
    "version": 3
   },
   "file_extension": ".py",
   "mimetype": "text/x-python",
   "name": "python",
   "nbconvert_exporter": "python",
   "pygments_lexer": "ipython3",
   "version": "3.9.12"
  },
  "orig_nbformat": 4,
  "vscode": {
   "interpreter": {
    "hash": "7b93ae2ddedcfb4b7ddebf80c8c7984044339b2e43f10e14b9461f3e640893f2"
   }
  }
 },
 "nbformat": 4,
 "nbformat_minor": 2
}
