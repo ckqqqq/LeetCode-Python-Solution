{
 "cells": [
  {
   "attachments": {},
   "cell_type": "markdown",
   "metadata": {},
   "source": [
    "2547. Minimum Cost to Split an Array\n",
    "User Accepted:1695\n",
    "User Tried:3231\n",
    "Total Accepted:1959\n",
    "Total Submissions:6994\n",
    "Difficulty:Hard\n",
    "You are given an integer array nums and an integer k.\n",
    "\n",
    "Split the array into some number of non-empty subarrays. The cost of a split is the sum of the importance value of each subarray in the split.\n",
    "\n",
    "Let trimmed(subarray) be the version of the subarray where all numbers which appear only once are removed.\n",
    "\n",
    "For example, trimmed([3,1,2,4,3,4]) = [3,4,3,4].\n",
    "The importance value of a subarray is k + trimmed(subarray).length.\n",
    "\n",
    "For example, if a subarray is [1,2,3,3,3,4,4], then trimmed([1,2,3,3,3,4,4]) = [3,3,3,4,4].The importance value of this subarray will be k + 5.\n",
    "Return the minimum possible cost of a split of nums.\n",
    "\n",
    "A subarray is a contiguous non-empty sequence of elements within an array.\n",
    "\n",
    " \n",
    "\n",
    "Example 1:\n",
    "\n",
    "Input: nums = [1,2,1,2,1,3,3], k = 2\n",
    "Output: 8\n",
    "Explanation: We split nums to have two subarrays: [1,2], [1,2,1,3,3].\n",
    "The importance value of [1,2] is 2 + (0) = 2.\n",
    "The importance value of [1,2,1,3,3] is 2 + (2 + 2) = 6.\n",
    "The cost of the split is 2 + 6 = 8. It can be shown that this is the minimum possible cost among all the possible splits.\n",
    "Example 2:\n",
    "\n",
    "Input: nums = [1,2,1,2,1], k = 2\n",
    "Output: 6\n",
    "Explanation: We split nums to have two subarrays: [1,2], [1,2,1].\n",
    "The importance value of [1,2] is 2 + (0) = 2.\n",
    "The importance value of [1,2,1] is 2 + (2) = 4.\n",
    "The cost of the split is 2 + 4 = 6. It can be shown that this is the minimum possible cost among all the possible splits.\n",
    "Example 3:\n",
    "\n",
    "Input: nums = [1,2,1,2,1], k = 5\n",
    "Output: 10\n",
    "Explanation: We split nums to have one subarray: [1,2,1,2,1].\n",
    "The importance value of [1,2,1,2,1] is 5 + (3 + 2) = 10.\n",
    "The cost of the split is 10. It can be shown that this is the minimum possible cost among all the possible splits.\n",
    " \n",
    "\n",
    "Constraints:\n",
    "\n",
    "1 <= nums.length <= 1000\n",
    "0 <= nums[i] < nums.length\n",
    "1 <= k <= 109"
   ]
  },
  {
   "cell_type": "code",
   "execution_count": null,
   "metadata": {},
   "outputs": [],
   "source": []
  },
  {
   "attachments": {},
   "cell_type": "markdown",
   "metadata": {},
   "source": [
    "https://leetcode.com/contest/weekly-contest-329/problems/minimum-cost-to-split-an-array/\n",
    "\n",
    "### 题目解析\n",
    "这道题是一道一维dp，不过其关键在于其dp的顺序是第一轮正序第二轮逆序\n",
    "时间复杂度 为O(n^2)能AC 最优为使用树状数组优化O(nlogn)\n",
    "\n",
    "由于题目是求数组的某个特性trimed\n",
    "trim 代表的是数组中出现次数大于2的所有的数"
   ]
  },
  {
   "cell_type": "code",
   "execution_count": null,
   "metadata": {},
   "outputs": [],
   "source": [
    "# 看 题解之后重做# \n",
    "# 这道题的关键在于逆序，之前正序推导了好久而且出了很多bug\n",
    "class Solution:\n",
    "    def minCost(self, nums: List[int], k: int) -> int:\n",
    "        "
   ]
  },
  {
   "cell_type": "code",
   "execution_count": null,
   "metadata": {},
   "outputs": [],
   "source": [
    "class Solution:\n",
    "    def minCost(self, nums: List[int], k: int) -> int:\n",
    "\n",
    "        N = len(nums) \n",
    "        # L = [inf] * (N+1)\n",
    "        L = [0]* (N+1)\n",
    "        for i in range(1, N+1):\n",
    "            cur = inf\n",
    "            v = k\n",
    "            C = [0]*N\n",
    "            for j in reversed(range(i)):\n",
    "                n = nums[j]\n",
    "                if C[n] == 0:\n",
    "                    C[n] = 1\n",
    "                elif C[n] == 1:\n",
    "                    C[n] = 2\n",
    "                    v += 2 #重复计数\n",
    "                else:\n",
    "                    v += 1\n",
    "                if v + L[j] < cur:# min\n",
    "                    cur = v + L[j]\n",
    "            L[i] = cur \n",
    "        return L[-1]"
   ]
  },
  {
   "attachments": {},
   "cell_type": "markdown",
   "metadata": {},
   "source": [
    "用dp[i]表示前i个元素对应的最小代价。取一个j满足0<=j<i,那么dp[i]=min(dp[i],dp[j]+trimmed(j->i)+k\n",
    "根据上述状态转移方程，j应该正着取还是逆着取呢？肯定是逆着取鸭，正着取的话，trimmed(j+1 to i)这个区间的重要性无从得知，所以排除\n",
    "因此推出了双重循环:i走正序，j=i-1走逆序\n",
    "\n",
    "作者：demouo\n",
    "链接：https://leetcode.cn/problems/minimum-cost-to-split-an-array/solution/pu-tong-ren-bao-kan-dong-de-jian-dan-dai-b23o/\n",
    "来源：力扣（LeetCode）\n",
    "著作权归作者所有。商业转载请联系作者获得授权，非商业转载请注明出处。"
   ]
  }
 ],
 "metadata": {
  "kernelspec": {
   "display_name": "base",
   "language": "python",
   "name": "python3"
  },
  "language_info": {
   "name": "python",
   "version": "3.9.12 (main, Apr  4 2022, 05:22:27) [MSC v.1916 64 bit (AMD64)]"
  },
  "orig_nbformat": 4,
  "vscode": {
   "interpreter": {
    "hash": "7b93ae2ddedcfb4b7ddebf80c8c7984044339b2e43f10e14b9461f3e640893f2"
   }
  }
 },
 "nbformat": 4,
 "nbformat_minor": 2
}
