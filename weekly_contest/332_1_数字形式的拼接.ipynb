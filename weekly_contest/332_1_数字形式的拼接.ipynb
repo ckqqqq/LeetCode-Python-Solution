{
 "cells": [
  {
   "attachments": {},
   "cell_type": "markdown",
   "metadata": {},
   "source": [
    "6354. 找出数组的串联值\n",
    "给你一个下标从 0 开始的整数数组 nums 。\n",
    "\n",
    "现定义两个数字的 串联 是由这两个数值串联起来形成的新数字。\n",
    "\n",
    "例如，15 和 49 的串联是 1549 。\n",
    "nums 的 串联值 最初等于 0 。执行下述操作直到 nums 变为空：\n",
    "\n",
    "如果 nums 中存在不止一个数字，分别选中 nums 中的第一个元素和最后一个元素，将二者串联得到的值加到 nums 的 串联值 上，然后从 nums 中删除第一个和最后一个元素。\n",
    "如果仅存在一个元素，则将该元素的值加到 nums 的串联值上，然后删除这个元素。\n",
    "返回执行完所有操作后 nums 的串联值"
   ]
  },
  {
   "cell_type": "code",
   "execution_count": null,
   "metadata": {},
   "outputs": [],
   "source": [
    "class Solution:\n",
    "    def findTheArrayConcVal(self, nums: List[int]) -> int:\n",
    "        ans, i, j = 0, 0, len(nums) - 1\n",
    "        while i < j:\n",
    "            x, y = nums[i], nums[j]\n",
    "            while y:# 计算位数\n",
    "                x *= 10\n",
    "                y //= 10\n",
    "            ans += x + nums[j]#数字形式的拼接 相当于int(str(x)+str(j))\n",
    "            i += 1\n",
    "            j -= 1\n",
    "        if i == j: ans += nums[i]\n",
    "        return ans\n",
    "solution=Solution()\n",
    "print(solution.findTheArrayConcVal())"
   ]
  }
 ],
 "metadata": {
  "kernelspec": {
   "display_name": "base",
   "language": "python",
   "name": "python3"
  },
  "language_info": {
   "name": "python",
   "version": "3.9.12"
  },
  "orig_nbformat": 4,
  "vscode": {
   "interpreter": {
    "hash": "7b93ae2ddedcfb4b7ddebf80c8c7984044339b2e43f10e14b9461f3e640893f2"
   }
  }
 },
 "nbformat": 4,
 "nbformat_minor": 2
}
