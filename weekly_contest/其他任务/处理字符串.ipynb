{
 "cells": [
  {
   "attachments": {},
   "cell_type": "markdown",
   "metadata": {},
   "source": [
    "搜狗打出音标"
   ]
  },
  {
   "cell_type": "code",
   "execution_count": null,
   "metadata": {},
   "outputs": [],
   "source": [
    "ckqstr=\"ii,1=ɑii,1=æii,1=ɐii,1=ɑ̃ii,1=βii,1=ɓii,1=ʙii,1=ɕii,1=çii,1=ðii,1=d͡ʒii,1=ɖii,1=ɗii,1=əii,1=ɚii,1=ɵii,1=ɘii,1=ɛii,1=ɜii,1=ɝii,1=ɛ̃ii,1=ɞii,1=ɠii,1=ɢii,1=ʛii,1=ɥii,1=ɦii,1=ħii,1=ɧii,1=ʜii,1=ɪii,1=ɪ̈ii,1=ɨii,1=ʝii,1=ɟii,1=ʄii,1=ɫii,1=ɬii,1=ʟii,1=ɭii,1=ɮii,1=ɱii,1=ŋii,1=ɲii,1=ɴii,1=ɳii,1=ɔii,1=œii,1=øii,1=ɒii,1=ɔ̃ii,1=ɶii,1=ɸii,1=ɾii,1=ʁii,1=ɹii,1=ɻii,1=ʀii,1=ɽii,1=ɺii,1=ʃii,1=ʂii,1=θii,1=t͡ʃii,1=t͡sii,1=ʈii,1=ʊii,1=ʊ̈ii,1=ʉii,1=ʌii,1=ʋii,1=ⱱii,1=ʍii,1=ɯii,1=ɰii,1=χii,1=ʎii,1=ɣii,1=ʏii,1=ɤii,1=ʒii,1=ʐii,1=ʑii,1=ʔii,1=ʕii,1=ʢii,1=ʡii,1=ᵊii,1=ʳii,1=˞ii,1=ʷii,1=ʲii,1=ˠii,1=ˤii,1=ˀii,1=ⁿii,1=ˡii,1=ʱii,1=ᵗ\"\n",
    "prev=0\n",
    "ans=[]\n",
    "for i in range(len(ckqstr)+1):\n",
    "    if i==len(ckqstr) or i+2<=len(ckqstr) and ckqstr[i:i+2]==\"ii\":\n",
    "        ans.append(ckqstr[prev:i])\n",
    "        prev=i\n",
    "for st in ans:\n",
    "    print(st)   "
   ]
  },
  {
   "cell_type": "code",
   "execution_count": 2,
   "metadata": {},
   "outputs": [
    {
     "name": "stdout",
     "output_type": "stream",
     "text": [
      "[1, 2, 3, 4, 5]\n",
      "[1, 2, 3, 4, 5, 65, 6, 7, 78, 8]\n",
      "[1, 2, 3, 4, 5]\n"
     ]
    }
   ],
   "source": [
    "test_list=[1,2,3,4,5]\n",
    "test_list2=[1,2,3,4,5,65,6,7,78,8,9,0,1,10,12]\n",
    "print(test_list[:10])\n",
    "print(test_list2[:10])\n",
    "print(test_list[:10])"
   ]
  },
  {
   "cell_type": "markdown",
   "metadata": {},
   "source": []
  }
 ],
 "metadata": {
  "kernelspec": {
   "display_name": "py38",
   "language": "python",
   "name": "python3"
  },
  "language_info": {
   "codemirror_mode": {
    "name": "ipython",
    "version": 3
   },
   "file_extension": ".py",
   "mimetype": "text/x-python",
   "name": "python",
   "nbconvert_exporter": "python",
   "pygments_lexer": "ipython3",
   "version": "3.8.13"
  },
  "orig_nbformat": 4
 },
 "nbformat": 4,
 "nbformat_minor": 2
}
