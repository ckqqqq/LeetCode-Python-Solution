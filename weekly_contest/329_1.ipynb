{
 "cells": [
  {
   "cell_type": "code",
   "execution_count": 4,
   "metadata": {},
   "outputs": [
    {
     "name": "stdout",
     "output_type": "stream",
     "text": [
      "-1\n",
      "1\n",
      "1\n"
     ]
    }
   ],
   "source": [
    "class Solution:\n",
    "    def alternateDigitSum(self, n: int) -> int:\n",
    "        ans=0\n",
    "        flag=1\n",
    "        while n>0:\n",
    "            ans+=(n%10)*flag\n",
    "            flag*=-1\n",
    "            n=n//10\n",
    "        if flag==-1:\n",
    "            return ans\n",
    "        else:\n",
    "            return -ans\n",
    "solution=Solution()\n",
    "print(solution.alternateDigitSum(786996))\n",
    "print(solution.alternateDigitSum(1))\n",
    "print(solution.alternateDigitSum(10**9))\n"
   ]
  }
 ],
 "metadata": {
  "kernelspec": {
   "display_name": "base",
   "language": "python",
   "name": "python3"
  },
  "language_info": {
   "codemirror_mode": {
    "name": "ipython",
    "version": 3
   },
   "file_extension": ".py",
   "mimetype": "text/x-python",
   "name": "python",
   "nbconvert_exporter": "python",
   "pygments_lexer": "ipython3",
   "version": "3.9.12"
  },
  "orig_nbformat": 4,
  "vscode": {
   "interpreter": {
    "hash": "7b93ae2ddedcfb4b7ddebf80c8c7984044339b2e43f10e14b9461f3e640893f2"
   }
  }
 },
 "nbformat": 4,
 "nbformat_minor": 2
}
