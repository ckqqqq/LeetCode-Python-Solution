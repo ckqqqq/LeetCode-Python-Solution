{
 "cells": [
  {
   "cell_type": "code",
   "execution_count": 2,
   "metadata": {},
   "outputs": [],
   "source": [
    "# 正解-后半部分双指针\n",
    "# 2 2 4 4\n",
    "# 2 2 2 4 5\n",
    "# 1 2 3 3 3 4\n",
    "# 左边只能匹配右边，没必要左左匹配\n",
    "from typing import List\n",
    "class Solution:\n",
    "    def maxNumOfMarkedIndices(self, nums: List[int]) -> int:\n",
    "        if len(nums)<=1:\n",
    "            return 0\n",
    "        nums.sort()\n",
    "        ans=0\n",
    "        i=0\n",
    "        for j in range((len(nums)+1)//2,len(nums)):# i可以不变，等待j往后走\n",
    "            if nums[i]*2<=nums[j]:\n",
    "                ans+=2\n",
    "                i+=1\n",
    "            #else j+=1\n",
    "        return ans\n",
    "solution=Solution()\n",
    "print(solution.maxNumOfMarkedIndices( [1,2,3,3,3,4]))\n",
    "print(solution.maxNumOfMarkedIndices( [2,4,4,5,8,64,19,32,9]))"
   ]
  },
  {
   "cell_type": "code",
   "execution_count": 45,
   "metadata": {},
   "outputs": [
    {
     "name": "stdout",
     "output_type": "stream",
     "text": [
      "8\n"
     ]
    }
   ],
   "source": [
    "# 正解-二分\n",
    "# 2 2 4 4\n",
    "# 2 2 2 4 5\n",
    "# 1 2 3 3 3 4\n",
    "# 左边只能匹配右边，没必要左左匹配\n",
    "class Solution:\n",
    "    def maxNumOfMarkedIndices(self, nums: List[int]) -> int:\n",
    "        if len(nums)<=1:\n",
    "            return 0\n",
    "        nums.sort()\n",
    "        ans=0\n",
    "        j=(len(nums)+1)//2\n",
    "        for i in range(0,len(nums)//2):\n",
    "            while j<len(nums) and nums[i]*2>nums[j]:\n",
    "                j+=1 # 匹配过了 这里改成二分\n",
    "            if nums[i]*2<=nums[j]:\n",
    "                ans+=2\n",
    "                j+=1\n",
    "            #else# > 无法匹配需要更大\n",
    "        return ans\n",
    "solution=Solution()\n",
    "print(solution.maxNumOfMarkedIndices( [1,2,3,3,3,4]))\n",
    "print(solution.maxNumOfMarkedIndices( [2,4,4,5,8,64,19,32,9]))"
   ]
  },
  {
   "cell_type": "code",
   "execution_count": 39,
   "metadata": {},
   "outputs": [
    {
     "name": "stdout",
     "output_type": "stream",
     "text": [
      "8\n"
     ]
    }
   ],
   "source": [
    "from bisect import bisect_left\n",
    "from typing import List\n",
    "class Solution:\n",
    "    def maxNumOfMarkedIndices(self, nums: List[int]) -> int:\n",
    "        if len(nums)<=1:\n",
    "            return 0\n",
    "        nums.sort()\n",
    "        beg=0\n",
    "        ans=0\n",
    "        for i in range(0,len(nums)//2):\n",
    "            target=nums[i]*2\n",
    "            index=bisect_left(nums,target,beg,len(nums))\n",
    "            # print(index,target,nums[index])\n",
    "            while index<len(nums) and target>nums[index] :\n",
    "                index+=1\n",
    "            if index>=len(nums):\n",
    "                # print(\"out\",index)\n",
    "                break\n",
    "            #>=\n",
    "            ans+=2\n",
    "            beg=index+1\n",
    "        return ans\n",
    "solution=Solution()\n",
    "print(solution.maxNumOfMarkedIndices( [2,4,4,5,8,64,19,32,9]))"
   ]
  },
  {
   "cell_type": "code",
   "execution_count": 41,
   "metadata": {},
   "outputs": [
    {
     "name": "stdout",
     "output_type": "stream",
     "text": [
      "8\n"
     ]
    }
   ],
   "source": [
    "from bisect import bisect_left\n",
    "from typing import List\n",
    "# 双指针算法 不需要二分！！！！\n",
    "# 2 2 4 4\n",
    "# 2 2 2 4 5\n",
    "\n",
    "class Solution:\n",
    "    def maxNumOfMarkedIndices(self, nums: List[int]) -> int:\n",
    "        if len(nums)<=1:\n",
    "            return 0\n",
    "        nums.sort()\n",
    "        j=len(nums)//2\n",
    "        ans=0\n",
    "        for i in range(0,len(nums)//2):\n",
    "            target=nums[i]*2\n",
    "            \n",
    "            # print(index,target,nums[index])\n",
    "            index=j\n",
    "            while index<len(nums) and target>nums[index] :\n",
    "                index+=1\n",
    "            if index>=len(nums):\n",
    "                # print(\"out\",index)\n",
    "                break\n",
    "            #>=\n",
    "            ans+=2\n",
    "            j=index+1\n",
    "        return ans\n",
    "solution=Solution()\n",
    "print(solution.maxNumOfMarkedIndices( [2,4,4,5,8,64,19,32,9]))"
   ]
  },
  {
   "cell_type": "code",
   "execution_count": 19,
   "metadata": {},
   "outputs": [
    {
     "name": "stdout",
     "output_type": "stream",
     "text": [
      "3\n",
      "0\n",
      "4\n",
      "3\n",
      "2\n"
     ]
    }
   ],
   "source": [
    "from bisect import bisect, bisect_left, bisect_right\n",
    "\n",
    "\n",
    "print(bisect_left([1,1,2,3],1,3,3))\n",
    "print(bisect_left([1,1,2,3],0))\n",
    "print(bisect_left([1,1,2,3],4))\n",
    "print(bisect_right([2,3,40,100],50))\n",
    "print(bisect_right([1,1,2,3],1))\n"
   ]
  },
  {
   "attachments": {},
   "cell_type": "markdown",
   "metadata": {},
   "source": [
    "1 2 3 3 4 5\n",
    "1 2 3 1000\n",
    "2 3 4 5 6\n",
    "    2\n",
    "        6  \n",
    "\n",
    "2 4 5 8\n",
    "2 \n",
    "2 4 4 5 8\n",
    "\n",
    "\n",
    "2 3 3 4 6\n",
    "2 3 3 4 6\n",
    "      2\n",
    "        3\n",
    "2 4 \n"
   ]
  },
  {
   "cell_type": "code",
   "execution_count": null,
   "metadata": {},
   "outputs": [],
   "source": [
    "1 3 \n",
    "2 4\n",
    "\n",
    "1 4\n",
    "2*2>3\n",
    "\n",
    "  1 2 3 4\n",
    "1 0 1 0 0 \n",
    "2 1 0 0 0\n",
    "3 0 0 0 0 \n",
    "4 0 0 0 0"
   ]
  }
 ],
 "metadata": {
  "kernelspec": {
   "display_name": "py38",
   "language": "python",
   "name": "python3"
  },
  "language_info": {
   "codemirror_mode": {
    "name": "ipython",
    "version": 3
   },
   "file_extension": ".py",
   "mimetype": "text/x-python",
   "name": "python",
   "nbconvert_exporter": "python",
   "pygments_lexer": "ipython3",
   "version": "3.8.13"
  },
  "orig_nbformat": 4,
  "vscode": {
   "interpreter": {
    "hash": "76c3c49e318b7c885b43daef0aa3cfe4eb22ade01aff18419595a86661fada18"
   }
  }
 },
 "nbformat": 4,
 "nbformat_minor": 2
}
