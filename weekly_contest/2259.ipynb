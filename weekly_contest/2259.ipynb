{
 "cells": [
  {
   "cell_type": "code",
   "execution_count": 17,
   "metadata": {},
   "outputs": [
    {
     "name": "stdout",
     "output_type": "stream",
     "text": [
      "12\n",
      "231\n",
      "51\n",
      "551\n"
     ]
    }
   ],
   "source": [
    "class Solution:\n",
    "    def removeDigit(self, number: str, digit: str) -> str:\n",
    "        for i,val in enumerate(number):\n",
    "            if val==digit:\n",
    "                prev=i\n",
    "            \n",
    "                if  i==len(number)-1 or number[i+1]>digit:\n",
    "                    return number[0:i]+number[i+1:]\n",
    "                    \n",
    "                # if number[i+1]==digit:\n",
    "                #     continue\n",
    "        return number[0:prev]+number[prev+1:]        \n",
    "solution=Solution()\n",
    "print(solution.removeDigit(\"123\",\"3\"))\n",
    "print(solution.removeDigit(\"1231\",\"1\"))\n",
    "print(solution.removeDigit(\"551\",\"5\"))\n",
    "print(solution.removeDigit(\"5515\",\"5\"))\n",
    "\n",
    "# 5515 515 551 \n"
   ]
  },
  {
   "cell_type": "code",
   "execution_count": 8,
   "metadata": {},
   "outputs": [
    {
     "name": "stdout",
     "output_type": "stream",
     "text": [
      "True\n",
      "23\n"
     ]
    }
   ],
   "source": [
    "print(\"5\">\"4\")\n",
    "test=\"01234\"\n",
    "print(test[2:4]+test[5:])"
   ]
  }
 ],
 "metadata": {
  "kernelspec": {
   "display_name": "base",
   "language": "python",
   "name": "python3"
  },
  "language_info": {
   "codemirror_mode": {
    "name": "ipython",
    "version": 3
   },
   "file_extension": ".py",
   "mimetype": "text/x-python",
   "name": "python",
   "nbconvert_exporter": "python",
   "pygments_lexer": "ipython3",
   "version": "3.9.12 (main, Apr  4 2022, 05:22:27) [MSC v.1916 64 bit (AMD64)]"
  },
  "orig_nbformat": 4,
  "vscode": {
   "interpreter": {
    "hash": "7b93ae2ddedcfb4b7ddebf80c8c7984044339b2e43f10e14b9461f3e640893f2"
   }
  }
 },
 "nbformat": 4,
 "nbformat_minor": 2
}
