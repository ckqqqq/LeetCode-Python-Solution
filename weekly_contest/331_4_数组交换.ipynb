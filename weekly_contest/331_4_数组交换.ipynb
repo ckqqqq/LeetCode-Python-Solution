{
 "cells": [
  {
   "attachments": {},
   "cell_type": "markdown",
   "metadata": {},
   "source": [
    "2561. Rearranging Fruits\n",
    "User Accepted:928\n",
    "User Tried:2319\n",
    "Total Accepted:1020\n",
    "Total Submissions:5466\n",
    "Difficulty:Hard\n",
    "You have two fruit baskets containing n fruits each. You are given two 0-indexed integer arrays basket1 and basket2 representing the cost of fruit in each basket. You want to make both baskets equal. To do so, you can use the following operation as many times as you want:\n",
    "\n",
    "Chose two indices i and j, and swap the ith fruit of basket1 with the jth fruit of basket2.\n",
    "The cost of the swap is min(basket1[i],basket2[j]).\n",
    "Two baskets are considered equal if sorting them according to the fruit cost makes them exactly the same baskets.\n",
    "\n",
    "Return the minimum cost to make both the baskets equal or -1 if impossible.\n",
    "\n",
    " \n",
    "\n",
    "Example 1:\n",
    "\n",
    "Input: basket1 = [4,2,2,2], basket2 = [1,4,1,2]\n",
    "Output: 1\n",
    "Explanation: Swap index 1 of basket1 with index 0 of basket2, which has cost 1. Now basket1 = [4,1,2,2] and basket2 = [2,4,1,2]. Rearranging both the arrays makes them equal.\n",
    "Example 2:\n",
    "\n",
    "Input: basket1 = [2,3,4,1], basket2 = [3,2,5,1]\n",
    "Output: -1\n",
    "Explanation: It can be shown that it is impossible to make both the baskets equal.\n",
    " \n",
    "\n",
    "Constraints:\n",
    "\n",
    "basket1.length == bakste2.length\n",
    "1 <= basket1.length <= 105\n",
    "1 <= basket1[i],basket2[i] <= 109"
   ]
  },
  {
   "cell_type": "code",
   "execution_count": null,
   "metadata": {},
   "outputs": [],
   "source": [
    "# 从来没见过 非常巧妙的解法\n",
    "这道题的关键在于,每次交换都由交换过去的最小值所决定，如下面这个式子\n",
    "[1,100,100]\n",
    "[200,200]\n",
    "最划算的交换为，200换1，\n",
    "[100,100,200]\n",
    "[1,200]\n",
    "然后把1换回来\n",
    "[1,100,200]\n",
    "[100,200]\n",
    "这样就完成了100和200的交换\n",
    "[1,1,3]\n",
    "[2,2,3]# 这样直接换只需要1\n",
    "# 最后的答案肯定在1 和1*\n",
    "1,1\n",
    "2,2\n",
    "\n",
    "1,1,20,20 \n",
    "2,2 30 30\n",
    "\n",
    "1 1 2 3\n",
    "1 1 2 3\n",
    "\n",
    "1 1\n",
    "2 3"
   ]
  },
  {
   "cell_type": "code",
   "execution_count": 11,
   "metadata": {},
   "outputs": [
    {
     "name": "stdout",
     "output_type": "stream",
     "text": [
      "2\n",
      "-1\n",
      "6\n"
     ]
    }
   ],
   "source": [
    "from typing import List\n",
    "from collections import Counter\n",
    "class Solution:\n",
    "    def minCost(self, basket1: List[int], basket2: List[int]) -> int:\n",
    "        b1c=dict(Counter(basket1))\n",
    "        b2c=dict(Counter(basket2))# 转换为dict 能够直接调用\n",
    "        both=Counter(basket1+basket2)# counter这种可以做迭代器\n",
    "        more1=[]\n",
    "        more2=[]\n",
    "        min_v=10**10\n",
    "        for key,cnt in both.items():# items 之後才是迭代器\n",
    "            if min_v>key:\n",
    "                min_v=key# 顺带记录最小值\n",
    "            if cnt%2!=0:# 如果不够平分的\n",
    "                return -1\n",
    "            # 如果够平分,统计各自basket中的计数器\n",
    "            cnt1=b1c.get(key,0)# 如果没这个值返回0\n",
    "            cnt2=b2c.get(key,0)# \n",
    "            if cnt1>cnt2:# 计算成对数多的\n",
    "                for i in range((cnt1-cnt2)//2):\n",
    "                    more1.append(key)\n",
    "            elif cnt2>cnt1:\n",
    "                for i in range((cnt2-cnt1)//2):\n",
    "                    more2.append(key)\n",
    "            else:\n",
    "                pass\n",
    "        more1.sort()\n",
    "        more2.sort(reverse=True)\n",
    "        res=0\n",
    "        # print(more1,more2,min_v)\n",
    "        for small,big in zip(more1,more2):\n",
    "            res+=min(small,big,2*min_v)# 直接交换或者间接交换\n",
    "        return res \n",
    "solution=Solution()\n",
    "print(solution.minCost(basket1 = [4,2,2,2], basket2 = [1,4,1,2]))\n",
    "print(solution.minCost(basket1 = [2,3,4,1], basket2 = [3,2,5,1]))\n",
    "print(solution.minCost([1,1,20,20],[2,2,30,30]))"
   ]
  },
  {
   "cell_type": "code",
   "execution_count": null,
   "metadata": {},
   "outputs": [],
   "source": []
  },
  {
   "cell_type": "code",
   "execution_count": null,
   "metadata": {},
   "outputs": [],
   "source": [
    "[4,2,2,2], basket2 = [1,4,1,2]\n",
    "\n",
    "\n",
    "各自排序,\n",
    "a1 a2 a3 a4 1 2 3 4 1+2\n",
    "b1 b2 b3 b4 1 1 2 4\n",
    "\n",
    "2 2 2 4\n",
    "4 2 1 1\n",
    "\n",
    "1 2 4 1\n",
    "2 1 1 4\n",
    "\n",
    "1 2 4 4\n",
    "1 1 1 2\n",
    "\n"
   ]
  }
 ],
 "metadata": {
  "kernelspec": {
   "display_name": "base",
   "language": "python",
   "name": "python3"
  },
  "language_info": {
   "codemirror_mode": {
    "name": "ipython",
    "version": 3
   },
   "file_extension": ".py",
   "mimetype": "text/x-python",
   "name": "python",
   "nbconvert_exporter": "python",
   "pygments_lexer": "ipython3",
   "version": "3.9.12"
  },
  "orig_nbformat": 4,
  "vscode": {
   "interpreter": {
    "hash": "7b93ae2ddedcfb4b7ddebf80c8c7984044339b2e43f10e14b9461f3e640893f2"
   }
  }
 },
 "nbformat": 4,
 "nbformat_minor": 2
}
