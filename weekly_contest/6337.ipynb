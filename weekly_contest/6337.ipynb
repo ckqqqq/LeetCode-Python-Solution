{
 "cells": [
  {
   "cell_type": "code",
   "execution_count": null,
   "metadata": {},
   "outputs": [],
   "source": [
    "class Solution:\n",
    "    def distinctIntegers(self, n: int) -> int:\n",
    "        return n-2"
   ]
  },
  {
   "cell_type": "code",
   "execution_count": 1,
   "metadata": {},
   "outputs": [
    {
     "name": "stdout",
     "output_type": "stream",
     "text": [
      "0\n"
     ]
    }
   ],
   "source": [
    "print(1%1)"
   ]
  },
  {
   "cell_type": "code",
   "execution_count": 26,
   "metadata": {},
   "outputs": [
    {
     "name": "stdout",
     "output_type": "stream",
     "text": [
      "6\n",
      "6\n",
      "221645998\n",
      "221645998\n"
     ]
    }
   ],
   "source": []
  },
  {
   "cell_type": "code",
   "execution_count": 22,
   "metadata": {},
   "outputs": [
    {
     "name": "stdout",
     "output_type": "stream",
     "text": [
      "6\n",
      "1180591620717411303423\n"
     ]
    }
   ],
   "source": [
    "class Solution:\n",
    "    def monkeyMove(self, n: int) -> int:\n",
    "        if n<=65:\n",
    "            return ((1<<n)-2)%1000000007\n",
    "        else:\n",
    "            return (((1<<70)-2))|1000000007\n",
    "solution=Solution()\n",
    "print(solution.monkeyMove(3))\n",
    "print(solution.monkeyMove(994641619))"
   ]
  },
  {
   "cell_type": "code",
   "execution_count": null,
   "metadata": {},
   "outputs": [],
   "source": [
    "6%3\n",
    "14%3=2"
   ]
  },
  {
   "attachments": {},
   "cell_type": "markdown",
   "metadata": {},
   "source": [
    "6337. Count Distinct Numbers on Board\n",
    "User Accepted:0\n",
    "User Tried:2\n",
    "Total Accepted:0\n",
    "Total Submissions:2\n",
    "Difficulty:Easy\n",
    "You are given a positive integer n, that is initially placed on a board. Every day, for 109 days, you perform the following procedure:\n",
    "\n",
    "For each number x present on the board, find all numbers 1 <= i <= n such that x % i == 1.\n",
    "Then, place those numbers on the board.\n",
    "Return the number of distinct integers present on the board after 109 days have elapsed.\n",
    "\n",
    "Note:\n",
    "\n",
    "Once a number is placed on the board, it will remain on it until the end.\n",
    "% stands for the modulo operation. For example, 14 % 3 is 2.\n",
    " \n",
    "\n",
    "Example 1:\n",
    "\n",
    "Input: n = 5\n",
    "Output: 4\n",
    "Explanation: Initially, 5 is present on the board. \n",
    "The next day, 2 and 4 will be added since 5 % 2 == 1 and 5 % 4 == 1. \n",
    "After that day, 3 will be added to the board because 4 % 3 == 1. \n",
    "At the end of a billion days, the distinct numbers on the board will be 2, 3, 4, and 5. \n",
    "Example 2:\n",
    "\n",
    "Input: n = 3\n",
    "Output: 2\n",
    "Explanation: \n",
    "Since 3 % 2 == 1, 2 will be added to the board. \n",
    "After a billion days, the only two distinct numbers on the board are 2 and 3. \n",
    " \n",
    "\n",
    "Constraints:\n",
    "\n",
    "1 <= n <= 100"
   ]
  }
 ],
 "metadata": {
  "kernelspec": {
   "display_name": "base",
   "language": "python",
   "name": "python3"
  },
  "language_info": {
   "codemirror_mode": {
    "name": "ipython",
    "version": 3
   },
   "file_extension": ".py",
   "mimetype": "text/x-python",
   "name": "python",
   "nbconvert_exporter": "python",
   "pygments_lexer": "ipython3",
   "version": "3.9.12 (main, Apr  4 2022, 05:22:27) [MSC v.1916 64 bit (AMD64)]"
  },
  "orig_nbformat": 4,
  "vscode": {
   "interpreter": {
    "hash": "7b93ae2ddedcfb4b7ddebf80c8c7984044339b2e43f10e14b9461f3e640893f2"
   }
  }
 },
 "nbformat": 4,
 "nbformat_minor": 2
}
