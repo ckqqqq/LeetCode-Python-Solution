{
 "cells": [
  {
   "cell_type": "code",
   "execution_count": null,
   "metadata": {},
   "outputs": [],
   "source": [
    "class Solution:\n",
    "    def minimumScore(self, s: str, t: str) -> int:\n",
    "        stack=[]\n",
    "        i,j=len(s)-1,len(t)-1\n",
    "        while i!=-1 and j!=-1:\n",
    "            if s[i]==t[j]:\n",
    "                stack.append(i)\n",
    "                j=j-1# stack中的是后半段\n",
    "            i=i-1\n",
    "        i,j=0,0 #j是前半段匹配的\n",
    "        # stack.pop是后半段匹配的\n",
    "        res=2**40\n",
    "        while i<len(s) and j<len(t):\n",
    "            if s[i]==t[j]:\n",
    "                # 确保 stack中不能和前半段重合,确保其值大于前半段\n",
    "                while len(stack)!=0 and stack[-1]<=i:\n",
    "                    stack.pop()\n",
    "                j+=1\n",
    "            del_len=len(t)-(j)-len(stack)#后缀的长度\n",
    "            # print(del_len,stack,j)\n",
    "            if del_len>=0:\n",
    "                res=min(del_len,res)\n",
    "            #j 中是严格匹配的前半段\n",
    "            i=i+1\n",
    "        return res if res!=2**40 else 0\n",
    "            "
   ]
  }
 ],
 "metadata": {
  "language_info": {
   "name": "python"
  },
  "orig_nbformat": 4
 },
 "nbformat": 4,
 "nbformat_minor": 2
}
