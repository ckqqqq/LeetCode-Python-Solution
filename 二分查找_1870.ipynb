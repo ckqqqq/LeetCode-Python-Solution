{
 "cells": [
  {
   "cell_type": "markdown",
   "metadata": {},
   "source": [
    "### https://leetcode.com/problems/minimum-speed-to-arrive-on-time/\n",
    "# [1870. 准时到达的列车最小时速](https://leetcode.cn/problems/minimum-speed-to-arrive-on-time)\n",
    "\n",
    "[English Version](/solution/1800-1899/1870.Minimum%20Speed%20to%20Arrive%20on%20Time/README_EN.md)\n",
    "\n",
    "## 题目描述\n",
    "\n",
    "<!-- 这里写题目描述 -->\n",
    "\n",
    "<p>给你一个浮点数 <code>hour</code> ，表示你到达办公室可用的总通勤时间。要到达办公室，你必须按给定次序乘坐 <code>n</code> 趟列车。另给你一个长度为 <code>n</code> 的整数数组 <code>dist</code> ，其中 <code>dist[i]</code> 表示第 <code>i</code> 趟列车的行驶距离（单位是千米）。</p>\n",
    "\n",
    "<p>每趟列车均只能在整点发车，所以你可能需要在两趟列车之间等待一段时间。</p>\n",
    "\n",
    "<ul>\n",
    "\t<li>例如，第 <code>1</code> 趟列车需要 <code>1.5</code> 小时，那你必须再等待 <code>0.5</code> 小时，搭乘在第 2 小时发车的第 <code>2</code> 趟列车。</li>\n",
    "</ul>\n",
    "\n",
    "<p>返回能满足你准时到达办公室所要求全部列车的<strong> 最小正整数 </strong>时速（单位：千米每小时），如果无法准时到达，则返回 <code>-1</code> 。</p>\n",
    "\n",
    "<p>生成的测试用例保证答案不超过 <code>10<sup>7</sup></code> ，且 <code>hour</code> 的 <strong>小数点后最多存在两位数字</strong> 。</p>\n",
    "\n",
    "<p> </p>\n",
    "\n",
    "<p><strong>示例 1：</strong></p>\n",
    "\n",
    "<pre>\n",
    "<strong>输入：</strong>dist = [1,3,2], hour = 6\n",
    "<strong>输出：</strong>1\n",
    "<strong>解释：</strong>速度为 1 时：\n",
    "- 第 1 趟列车运行需要 1/1 = 1 小时。\n",
    "- 由于是在整数时间到达，可以立即换乘在第 1 小时发车的列车。第 2 趟列车运行需要 3/1 = 3 小时。\n",
    "- 由于是在整数时间到达，可以立即换乘在第 4 小时发车的列车。第 3 趟列车运行需要 2/1 = 2 小时。\n",
    "- 你将会恰好在第 6 小时到达。\n",
    "</pre>\n",
    "6-（3-1）=4\n",
    "2/4=0.5\n",
    "max_dist\n",
    "\n",
    "\n",
    "<p><strong>示例 2：</strong></p>\n",
    "\n",
    "<pre>\n",
    "<strong>输入：</strong>dist = [1,3,2], hour = 2.7\n",
    "<strong>输出：</strong>3\n",
    "<strong>解释：</strong>速度为 3 时：\n",
    "- 第 1 趟列车运行需要 1/3 = 0.33333 小时。\n",
    "- 由于不是在整数时间到达，故需要等待至第 1 小时才能搭乘列车。第 2 趟列车运行需要 3/3 = 1 小时。\n",
    "- 由于是在整数时间到达，可以立即换乘在第 2 小时发车的列车。第 3 趟列车运行需要 2/3 = 0.66667 小时。\n",
    "- 你将会在第 2.66667 小时到达。</pre>\n",
    "2.7-(n-1)=0.7\n",
    "0.7>0\n",
    "2/0.7\n",
    "<p><strong>示例 3：</strong></p>\n",
    "\n",
    "<pre>\n",
    "<strong>输入：</strong>dist = [1,3,2], hour = 1.9\n",
    "<strong>输出：</strong>-1\n",
    "<strong>解释：</strong>不可能准时到达，因为第 3 趟列车最早是在第 2 小时发车。</pre>\n",
    "\n",
    "<p> </p>\n",
    "\n",
    "<p><strong>提示：</strong></p>\n",
    "\n",
    "<ul>\n",
    "\t<li><code>n == dist.length</code></li>\n",
    "\t<li><code>1 <= n <= 10<sup>5</sup></code></li>\n",
    "\t<li><code>1 <= dist[i] <= 10<sup>5</sup></code></li>\n",
    "\t<li><code>1 <= hour <= 10<sup>9</sup></code></li>\n",
    "\t<li><code>hours</code> 中，小数点后最多存在两位数字</li>\n",
    "</ul>\n",
    "\n"
   ]
  },
  {
   "cell_type": "markdown",
   "metadata": {},
   "source": [
    "## 分析\n",
    "首先构造例子\n",
    "dist[1,3,2]\n",
    "hour=2.1\n",
    "ans=20\n",
    "2.1-（n-1）=0.1\n",
    "2/0.1=20"
   ]
  },
  {
   "cell_type": "code",
   "execution_count": 9,
   "metadata": {},
   "outputs": [
    {
     "name": "stdout",
     "output_type": "stream",
     "text": [
      "0.10000000000000009\n"
     ]
    }
   ],
   "source": [
    "print(2.1-2)\n"
   ]
  },
  {
   "cell_type": "markdown",
   "metadata": {},
   "source": [
    "### python 中四舍五入的问题\n",
    "python中会有一些奇怪的问题\n",
    "比如2.1-2=0.10000000000000009\n",
    "最方便的四舍五入 int(X+0.5)\n",
    "其他的工具round\n",
    "http://www.zglg.work/data-analysis-passages/Pandas%20%E4%B8%AD%20nan%2C%20extract%2C%20round%20%E4%BD%BF%E7%94%A8%E6%80%BB%E7%BB%93/\n",
    "### python中向上"
   ]
  },
  {
   "cell_type": "code",
   "execution_count": 18,
   "metadata": {},
   "outputs": [
    {
     "name": "stdout",
     "output_type": "stream",
     "text": [
      "2.1 0.10000000000000009 0.10000000000000009\n",
      "20\n",
      "2.7 0.7000000000000002 0.7000000000000002\n",
      "3\n",
      "6 4.0 4\n",
      "1\n",
      "1.9 -0.10000000000000009 -0.10000000000000009\n",
      "-1\n"
     ]
    }
   ],
   "source": [
    "from typing import List\n",
    "import math\n",
    "class Solution:\n",
    "    def minSpeedOnTime(self, dist: List[int], hour: float) -> int:\n",
    "        def getMaxSpeed()->int:#自带dist可以使用共有变量\n",
    "            MaxSpeedPerHour=max(dist)\n",
    "            MaxSpeedLastTrain=0\n",
    "            lastTime=hour-(len(dist)-1)\n",
    "            print(hour,hour-float(2),lastTime)\n",
    "            if lastTime<=0:\n",
    "                return -1\n",
    "            else:\n",
    "                MaxSpeedLastTrain=int(dist[-1]/lastTime+0.5)#注意这里有除磷错\n",
    "                return max(MaxSpeedLastTrain,MaxSpeedPerHour)\n",
    "        # print(getMaxSpeed())\n",
    "        def check(speed:int):\n",
    "            CostTime=0\n",
    "            for i_dist in dist[:-1]:\n",
    "                CostTime+=math.ceil(i_dist/speed)\n",
    "            CostTime+=dist[-1]/speed\n",
    "            return CostTime\n",
    "        left,right=1,getMaxSpeed()\n",
    "        if right==-1:\n",
    "            return -1\n",
    "        else:\n",
    "            while left<=right:\n",
    "                mid=left+((right-left)>>1)\n",
    "                CostTime=check(mid)\n",
    "                if CostTime>hour:#提速\n",
    "                    left=mid+1\n",
    "                elif CostTime<hour:\n",
    "                    right=mid-1#降速\n",
    "                elif CostTime==hour:\n",
    "                    right=mid-1\n",
    "            return left\n",
    "            \n",
    "\n",
    "# if __name__==\"__main__\":\n",
    "if __name__==\"__main__\":\n",
    "    solution=Solution()\n",
    "    print(solution.minSpeedOnTime([1,3,2],2.1))\n",
    "    print(solution.minSpeedOnTime([1,3,2],2.7))\n",
    "    print(solution.minSpeedOnTime([1,3,2],6))\n",
    "    print(solution.minSpeedOnTime([1,3,2],1.9))\n",
    "    \n",
    "    "
   ]
  },
  {
   "cell_type": "code",
   "execution_count": null,
   "metadata": {},
   "outputs": [],
   "source": [
    "#另一种解法\n",
    "class Solution:\n",
    "    def minSpeedOnTime(self, dist: List[int], hour: float) -> int:\n",
    "        if hour <= len(dist)-1:\n",
    "            return -1\n",
    "        l=1\n",
    "        '''Here r is set to 10**7 instead of max(r) only to satisfy the edge testcases'''\n",
    "        r=10**7\n",
    "        \n",
    "        while(l<r):\n",
    "            mid= l+ (r-l)//2\n",
    "            sums=0\n",
    "            for i in dist:\n",
    "                '''Apply math.ceil to the previous value of sum because the question tells us that if a train ride takes 1.5 hours we have to wait an additional 0.5 hours'''\n",
    "                sums=math.ceil(sums)+ (i)/mid\n",
    "            if sums<=hour:\n",
    "                r=mid\n",
    "            else:\n",
    "                l=mid+1\n",
    "        return l"
   ]
  }
 ],
 "metadata": {
  "kernelspec": {
   "display_name": "Python 3.9.12 ('base')",
   "language": "python",
   "name": "python3"
  },
  "language_info": {
   "codemirror_mode": {
    "name": "ipython",
    "version": 3
   },
   "file_extension": ".py",
   "mimetype": "text/x-python",
   "name": "python",
   "nbconvert_exporter": "python",
   "pygments_lexer": "ipython3",
   "version": "3.9.12 (main, Apr  4 2022, 05:22:27) [MSC v.1916 64 bit (AMD64)]"
  },
  "orig_nbformat": 4,
  "vscode": {
   "interpreter": {
    "hash": "7b93ae2ddedcfb4b7ddebf80c8c7984044339b2e43f10e14b9461f3e640893f2"
   }
  }
 },
 "nbformat": 4,
 "nbformat_minor": 2
}
