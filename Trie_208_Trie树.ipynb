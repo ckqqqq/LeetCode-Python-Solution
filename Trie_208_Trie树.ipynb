{
 "cells": [
  {
   "cell_type": "code",
   "execution_count": null,
   "metadata": {},
   "outputs": [],
   "source": [
    "class TrieNode:\n",
    "    def __init__(self):\n",
    "        # * Stores a key-value pair where the key is a character and value is an array of TrieNodes.\n",
    "        self.children = collections.defaultdict(list)\n",
    "        # * Used to mark the end of a word.\n",
    "        self.is_word_end = False\n",
    "\n",
    "\n",
    "class Trie:\n",
    "    def __init__(self):\n",
    "        self.root = TrieNode()\n",
    "\n",
    "    def insert(self, word: str) -> None:\n",
    "        cur = self.root\n",
    "        for c in word:\n",
    "            if c not in cur.children:\n",
    "                cur.children[c] = TrieNode()\n",
    "            cur = cur.children[c]\n",
    "        cur.is_word_end = True\n",
    "\n",
    "    def search(self, word: str) -> bool:\n",
    "        return self.__find_helper(word, True)\n",
    "\n",
    "    def startsWith(self, prefix: str) -> bool:\n",
    "        return self.__find_helper(prefix, False)\n",
    "\n",
    "    def __find_helper(self, word: str, is_search: bool) -> bool:\n",
    "        \"\"\"\n",
    "        Returns if the word is in the trie or if there is any word in the trie \n",
    "        that starts with the given prefix based on the is_search flag.\n",
    "        \"\"\"\n",
    "        cur = self.root\n",
    "        for c in word:\n",
    "            if c not in cur.children:\n",
    "                return False\n",
    "\n",
    "            cur = cur.children[c]\n",
    "\n",
    "        return cur.is_word_end if is_search else True\n",
    "\n",
    "\n",
    "# Your Trie object will be instantiated and called as such:\n",
    "# obj = Trie()\n",
    "# obj.insert(word)\n",
    "# param_2 = obj.search(word)\n",
    "# param_3 = obj.startsWith(prefix)"
   ]
  },
  {
   "attachments": {},
   "cell_type": "markdown",
   "metadata": {},
   "source": [
    "![image.png](image\\Trie树原理.png)\n",
    "\n",
    "at\n",
    "attack"
   ]
  },
  {
   "attachments": {},
   "cell_type": "markdown",
   "metadata": {},
   "source": [
    "for char in word:\n",
    "            node=node.setdefault(char,{}) \n",
    "# ChatGPT\n",
    "这个代码什么意思\n",
    "这是一段 Python 代码，它执行以下操作：\n",
    "\n",
    "对于变量 word 中的每个字符 char，执行循环。\n",
    "使用 setdefault 方法在变量 node 中设置键为 char 的值，并将该值设置为空字典 {}。\n",
    "## 关于 setdefault 方法，它是字典（dict）的一个内置方法，用于获取指定键的值。如果字典中不存在该键，则使用给定的默认值设置该键，并返回默认值。\n",
    "\n",
    "例如，如果我们有一个字典 my_dict，其中包含键 \"key1\" 和值 \"value1\"，则调用 my_dict.setdefault(\"key1\", \"default_value\") 将返回 \"value1\"。但是，如果调用 my_dict.setdefault(\"key2\", \"default_value\")，则会在字典中设置键 \"key2\"，并将其值设置为 \"default_value\"，并返回 \"default_value\"。\n",
    "\n",
    "在上述 Python 代码中，该循环的作用是遍历字符串 word 中的每个字符，并使用 setdefault 方法在变量 node 中设置该字符对应的值。由于每次循环都使用 setdefault 方法，因此会在变量 node 中创建一个嵌套字典，其中包含所有字符。\n",
    "\n",
    "Regenerate respons"
   ]
  },
  {
   "cell_type": "code",
   "execution_count": null,
   "metadata": {},
   "outputs": [],
   "source": [
    "class Trie:\n",
    "    def __init__(self):\n",
    "        self.root = {}\n",
    "        self.end_char=\"#\"\n",
    "\n",
    "    def insert(self, word: str) -> None:\n",
    "        node=self.root\n",
    "        for char in word:\n",
    "            node=node.setdefault(char,{})\n",
    "            #如果char存在，返回对应的值，一个dict\n",
    "            #如果char不存在，设置一个默认值{}（空dict）\n",
    "        node[self.end_char]=self.end_char\n",
    "        #设置一个自己指向自己的闭合回路，这一步好像\n",
    "\n",
    "    def search(self, word: str) -> bool:\n",
    "        node=self.root\n",
    "        for char in word:\n",
    "            if char in node:#判断key是否在dict的字典里面\n",
    "                node[char]=node\n",
    "            else:\n",
    "                return False\n",
    "        return self.end_char in node#不同点\n",
    "    def startsWith(self, prefix: str) -> bool:\n",
    "        node=self.root\n",
    "        for char in prefix:\n",
    "            if char in node:#判断key是否在dict的字典里面\n",
    "                node[char]=node\n",
    "            else:\n",
    "                return False\n",
    "        return True\n",
    "\n",
    "\n",
    "# Your Trie object will be instantiated and called as such:\n",
    "# obj = Trie()\n",
    "# obj.insert(word)\n",
    "# param_2 = obj.search(word)\n",
    "# param_3 = obj.startsWith(prefix)"
   ]
  },
  {
   "cell_type": "code",
   "execution_count": null,
   "metadata": {},
   "outputs": [],
   "source": [
    "#探索setdefault\n",
    "a={}#大括号是指dict\n",
    "#setdefault#的作用是\n",
    "#如果原有的字典不存在当前的键，新增一个键值对\n",
    "#如果当前的字存在的话，不改变原有的键值对"
   ]
  },
  {
   "cell_type": "markdown",
   "metadata": {},
   "source": [
    "### Trie树python实现"
   ]
  }
 ],
 "metadata": {
  "kernelspec": {
   "display_name": "base",
   "language": "python",
   "name": "python3"
  },
  "language_info": {
   "name": "python",
   "version": "3.9.12 (main, Apr  4 2022, 05:22:27) [MSC v.1916 64 bit (AMD64)]"
  },
  "orig_nbformat": 4,
  "vscode": {
   "interpreter": {
    "hash": "7b93ae2ddedcfb4b7ddebf80c8c7984044339b2e43f10e14b9461f3e640893f2"
   }
  }
 },
 "nbformat": 4,
 "nbformat_minor": 2
}
