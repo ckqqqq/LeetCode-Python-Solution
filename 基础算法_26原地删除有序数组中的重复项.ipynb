{
 "cells": [
  {
   "cell_type": "code",
   "execution_count": 10,
   "metadata": {},
   "outputs": [
    {
     "name": "stdout",
     "output_type": "stream",
     "text": [
      "4 [1, 2, 3, 4, 2, 3, 4]\n",
      "1 [1]\n",
      "1 [2, 2, 2]\n",
      "1 [2, 2, 2]\n"
     ]
    }
   ],
   "source": [
    "\n",
    "class Solution(object):\n",
    "    def removeDuplicates(self, nums):#ps 原地修改\n",
    "        offset=0\n",
    "        LEN=len(nums)\n",
    "        if LEN<=1:\n",
    "            return LEN\n",
    "        for i in range(1,LEN):\n",
    "            if nums[i]==nums[i-1]:# python 中要特别注意-1这个数组索引，因为其不会报错\n",
    "               offset+=1#代表重复字符的个数\n",
    "               continue\n",
    "            else:\n",
    "                nums[i-offset]=nums[i]\n",
    "        return LEN-offset\n",
    "solution=Solution()\n",
    "test=[1,1,2,2,2,3,4]\n",
    "print(solution.removeDuplicates(test),test)\n",
    "test=[1]\n",
    "print(solution.removeDuplicates(test),test)\n",
    "test=[2,2,2]\n",
    "print(solution.removeDuplicates(test),test)\n",
    "print(solution.removeDuplicates(test),test)"
   ]
  }
 ],
 "metadata": {
  "kernelspec": {
   "display_name": "base",
   "language": "python",
   "name": "python3"
  },
  "language_info": {
   "codemirror_mode": {
    "name": "ipython",
    "version": 3
   },
   "file_extension": ".py",
   "mimetype": "text/x-python",
   "name": "python",
   "nbconvert_exporter": "python",
   "pygments_lexer": "ipython3",
   "version": "3.9.12 (main, Apr  4 2022, 05:22:27) [MSC v.1916 64 bit (AMD64)]"
  },
  "orig_nbformat": 4,
  "vscode": {
   "interpreter": {
    "hash": "7b93ae2ddedcfb4b7ddebf80c8c7984044339b2e43f10e14b9461f3e640893f2"
   }
  }
 },
 "nbformat": 4,
 "nbformat_minor": 2
}
