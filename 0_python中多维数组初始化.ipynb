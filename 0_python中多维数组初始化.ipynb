{
 "cells": [
  {
   "cell_type": "code",
   "execution_count": 1,
   "metadata": {},
   "outputs": [
    {
     "name": "stdout",
     "output_type": "stream",
     "text": [
      "[[], [], [], [], [], [], [], [], []]\n",
      "[]\n"
     ]
    }
   ],
   "source": [
    "print([[] for _ in range(9)])\n",
    "print([])\n",
    "print()"
   ]
  },
  {
   "cell_type": "code",
   "execution_count": null,
   "metadata": {},
   "outputs": [],
   "source": [
    "apiVersion: \"kubeflow.org/v1\"\n",
    "kind: PyTorchJob\n",
    "metadata:\n",
    "  name: belle-dist-torchrun\n",
    "  namespace: mlops-gomall\n",
    "spec:\n",
    "  pytorchReplicaSpecs:\n",
    "    Master: #一个机子两张40GA100 共一个master\n",
    "      replicas: 1\n",
    "      restartPolicy: OnFailure\n",
    "      template:\n",
    "        metadata:\n",
    "          annotations:\n",
    "            sidecar.istio.io/inject: \"false\"\n",
    "            #到此为止不用改\n",
    "        spec:\n",
    "          volumes:\n",
    "            - name: modelpv #好像也不用改\n",
    "              persistentVolumeClaim:\n",
    "                claimName: pretrained-models-volume\n",
    "            - name: codepv\n",
    "              persistentVolumeClaim:\n",
    "                claimName: code-belle-volume\n",
    "          containers:\n",
    "            - name: pytorch\n",
    "              image: registry-ccloud.conestore.cn:8443/chatgpt/torch:v0.0.3 #镜像也不用改\n",
    "              imagePullPolicy: Always\n",
    "              volumeMounts:\n",
    "                - mountPath: /model #卷的位置\n",
    "                  name: modelpv #将模型挂载到卷的位置\n",
    "                - mountPath: /code #代码同理\n",
    "                  name: codepv\n",
    "              resources:\n",
    "                limits:\n",
    "                  cpu: 16\n",
    "                  nvidia.com/gpu: 2\n",
    "              command:\n",
    "                - \"sh\"\n",
    "                - \"/code/stanford_alpaca/train_belle.sh\"\n",
    "    Worker: #一个机子两张40GA100 共4个worker\n",
    "      replicas: 2\n",
    "      restartPolicy: OnFailure\n",
    "      template:\n",
    "        metadata:\n",
    "          annotations:\n",
    "            sidecar.istio.io/inject: \"false\"\n",
    "        spec:\n",
    "          volumes:\n",
    "            - name: modelpv\n",
    "              persistentVolumeClaim:\n",
    "                claimName: pretrained-models-volume\n",
    "            - name: codepv\n",
    "              persistentVolumeClaim:\n",
    "                claimName: code-belle-volume\n",
    "          containers:\n",
    "            - name: pytorch\n",
    "              image: registry-ccloud.conestore.cn:8443/chatgpt/torch:v0.0.3\n",
    "              imagePullPolicy: Always\n",
    "              volumeMounts:\n",
    "                - mountPath: /model\n",
    "                  name: modelpv\n",
    "                - mountPath: /code\n",
    "                  name: codepv\n",
    "              resources:\n",
    "                limits:\n",
    "                  cpu: 16\n",
    "                  nvidia.com/gpu: 2\n",
    "              command: #运行的命令\n",
    "                - \"sh\"\n",
    "                - \"/code/stanford_alpaca/train_belle.sh\"\n"
   ]
  }
 ],
 "metadata": {
  "kernelspec": {
   "display_name": "base",
   "language": "python",
   "name": "python3"
  },
  "language_info": {
   "codemirror_mode": {
    "name": "ipython",
    "version": 3
   },
   "file_extension": ".py",
   "mimetype": "text/x-python",
   "name": "python",
   "nbconvert_exporter": "python",
   "pygments_lexer": "ipython3",
   "version": "3.9.12 (main, Apr  4 2022, 05:22:27) [MSC v.1916 64 bit (AMD64)]"
  },
  "orig_nbformat": 4,
  "vscode": {
   "interpreter": {
    "hash": "7b93ae2ddedcfb4b7ddebf80c8c7984044339b2e43f10e14b9461f3e640893f2"
   }
  }
 },
 "nbformat": 4,
 "nbformat_minor": 2
}
