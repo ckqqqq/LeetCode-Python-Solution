{
 "cells": [
  {
   "cell_type": "code",
   "execution_count": null,
   "metadata": {},
   "outputs": [],
   "source": []
  },
  {
   "attachments": {},
   "cell_type": "markdown",
   "metadata": {},
   "source": [
    "57. Insert Interval\n",
    "Medium\n",
    "7.9K\n",
    "538\n",
    "Companies\n",
    "You are given an array of non-overlapping intervals intervals where intervals[i] = [starti, endi] represent the start and the end of the ith interval and intervals is sorted in ascending order by starti. You are also given an interval newInterval = [start, end] that represents the start and end of another interval.\n",
    "\n",
    "Insert newInterval into intervals such that intervals is still sorted in ascending order by starti and intervals still does not have any overlapping intervals (merge overlapping intervals if necessary).\n",
    "\n",
    "Return intervals after the insertion.\n",
    "\n",
    " \n",
    "\n",
    "Example 1:\n",
    "\n",
    "Input: intervals = [[1,3],[6,9]], newInterval = [2,5]\n",
    "Output: [[1,5],[6,9]]\n",
    "Example 2:\n",
    "\n",
    "Input: intervals = [[1,2],[3,5],[6,7],[8,10],[12,16]], newInterval = [4,8]\n",
    "Output: [[1,2],[3,10],[12,16]]\n",
    "Explanation: Because the new interval [4,8] overlaps with [3,5],[6,7],[8,10].\n",
    " \n",
    "\n",
    "Constraints:\n",
    "\n",
    "0 <= intervals.length <= 104\n",
    "intervals[i].length == 2\n",
    "0 <= starti <= endi <= 105\n",
    "intervals is sorted by starti in ascending order.\n",
    "newInterval.length == 2\n",
    "0 <= start <= end <= 105"
   ]
  },
  {
   "cell_type": "code",
   "execution_count": null,
   "metadata": {},
   "outputs": [],
   "source": [
    "# 男生一定要长高\n",
    "from typing import List\n",
    "class Solution:\n",
    "    def insert(self, intervals: List[List[int]], newInterval: List[int]) -> List[List[int]]:\n",
    "        def bisearch():\n",
    "            target=newInterval[0]\n",
    "            left,right=0,len(intervals)-1\n",
    "            while left<=right:\n",
    "                mid=left+(right-left)//2\n",
    "                if intervals[mid][0]<target:\n",
    "                    left=mid+1\n",
    "                elif intervals[mid][0]>target:\n",
    "                    right=mid-1\n",
    "                else:# intervals[mid][0]==target:\n",
    "                    # return mid\n",
    "                    left=mid+1\n",
    "            return right # 在这里插入 最大右边边界\n",
    "            # 2 4 3\n",
    "        # PS：已经order by first\n",
    "        # main first Bisearch+insert\n",
    "        insert_index=bisearch()\n",
    "        intervals.insert(insert_index,newInterval)\n",
    "        # second merge\n",
    "        res=[intervals[0]]\n",
    "        for i in range(1,len(intervals)):\n",
    "            if res[-1][-1]>=intervals[i][0]:\n",
    "                res[-1][-1]=max(res[-1][-1],intervals[i][0])\n",
    "            else:\n",
    "                res.append(intervals[i])\n",
    "        return res\n",
    "         \n",
    "                    \n",
    "                        "
   ]
  },
  {
   "cell_type": "code",
   "execution_count": 1,
   "metadata": {},
   "outputs": [
    {
     "name": "stdout",
     "output_type": "stream",
     "text": [
      "0\n",
      "1\n",
      "2\n",
      "2\n"
     ]
    }
   ],
   "source": [
    "for i in range(0,3):\n",
    "    print(i)\n",
    "print(i)"
   ]
  },
  {
   "attachments": {},
   "cell_type": "markdown",
   "metadata": {},
   "source": [
    "        # 出去玩不代表要那个啥！！！ 时机不对出去玩上床（?）\n",
    "        # 一定不要撒谎\n",
    "        # 谈了很多个男朋友 \n",
    "        # [1,2] [3,5]4 8\n",
    "        # 朋友同学介绍的对象相对的  97年  95 \n",
    "        # 朋友的对象 堂弟很帅没有对象 \n",
    "        # 96着急什么 \n",
    "        # 不太喜欢\n",
    "        # 1米8 不高\n",
    "        # 看起来高不高\n",
    "        # 健身\n",
    "        # 男朋友善良，丑不丑 \n",
    "        # 男生应该工作，\n",
    "        # 发表情包\n",
    "        # 工作完一天\n",
    "        # 嫌弃\n",
    "        # 外貌协会\n",
    "        # 老姐# 抑郁症\n",
    "        # 结婚，\n",
    "        # 把它的渣给伪装得很好\n",
    "        # 给她该给的东西（笑死）\n",
    "        # 那个傻逼看了我一眼\n",
    "        # 从来没有女朋友的背景，把女朋友的照片作为背景\n",
    "        # 找了一影子而已\n",
    "        # 故意和XX拍照 工作上的微信很奇怪\n",
    "        # 傻逼爹爹女：头像很多年没换，小女孩\n",
    "        # 橙色有：结婚很麻烦\n",
    "        # 黑丝：\n",
    "        # 考雅思\n",
    "        # 周末：周末\n",
    "        # 美甲\n",
    "        # 理科班 初六走：同座\n",
    "        # 三个人去学校\n",
    "        # 物业\n",
    "        # 改变世界\n",
    "        # 傻逼女：生病没有出国\n",
    "        # 三个傻逼都不喜欢小孩\n",
    "        # 妈的\n",
    "        # 探讨生活 笑死了\n",
    "        # 赶紧探讨男生啊\n",
    "        # 妈的 外貌协会\n",
    "        # 以前：学校封校\n",
    "        # 这几个傻逼早就毕业了\n",
    "        # 大学生活到处玩\n",
    "        # 优待\n",
    "        # 哥伦比亚大学的研究生，海南的资源少，北上广昂贵"
   ]
  },
  {
   "cell_type": "code",
   "execution_count": 9,
   "metadata": {},
   "outputs": [
    {
     "name": "stdout",
     "output_type": "stream",
     "text": [
      "[[0, 0], [1, 5], [6, 9]]\n"
     ]
    }
   ],
   "source": [
    "'''0 <= intervals.length <= 104\n",
    "intervals[i].length == 2\n",
    "0 <= starti <= endi <= 105\n",
    "intervals is sorted by starti in ascending order.\n",
    "newInterval.length == 2\n",
    "0 <= start <= end <= 105'''\n",
    "# 辛苦 \n",
    "class Solution:\n",
    "    def insert(self, intervals: List[List[int]], newInterval: List[int]) -> List[List[int]]:\n",
    "        hi = len(intervals) - 1\n",
    "        lo = 0\n",
    "        # \n",
    "        while lo <= hi:\n",
    "            mid = (hi + lo) // 2\n",
    "\n",
    "            if intervals[mid][0] == newInterval[0]:\n",
    "                lo = mid\n",
    "                break\n",
    "            elif intervals[mid][0] > newInterval[0]:\n",
    "                hi = mid - 1\n",
    "            else:# 二分查找右边边界\n",
    "                lo = mid + 1\n",
    "        \n",
    "        insInd = lo\n",
    "\n",
    "        intervals.insert(insInd, newInterval)# 搜索\n",
    "    \n",
    "        output = [ intervals[0]  ]# 寻找\n",
    "\n",
    "        #if insInd == 0:\n",
    "        #    output = [ newInterval ]\n",
    "\n",
    "        for i in range(1, len(intervals)):\n",
    "            if output[-1][1] >= intervals[i][0]:# 如果上一个的结尾比这个的开头更大（对非目标也是这样）\n",
    "                output[-1][1] = max(intervals[i][1], output[-1][1])\n",
    "            else:\n",
    "                output.append(intervals[i])#否则直接加\n",
    "        \n",
    "        return output\n",
    "        # while insInd < len(intervals) and intervals[insInd - 1][1] >= intervals[insInd][0]:\n",
    "        #     intervals[insInd - 1][1] = max(intervals[insInd][1], intervals[insInd - 1][1])\n",
    "        #     intervals.pop(insInd)\n",
    "        \n",
    "solution=Solution()\n",
    "print(solution.insert([[1,3],[6,9],[0,0]],[2,5]))\n",
    "        \n"
   ]
  },
  {
   "cell_type": "code",
   "execution_count": null,
   "metadata": {},
   "outputs": [],
   "source": [
    "[1,2][3,4]  [6,7] [8 10]\n",
    "\n",
    "[4,8]\n",
    "\n",
    "\n"
   ]
  }
 ],
 "metadata": {
  "kernelspec": {
   "display_name": "base",
   "language": "python",
   "name": "python3"
  },
  "language_info": {
   "codemirror_mode": {
    "name": "ipython",
    "version": 3
   },
   "file_extension": ".py",
   "mimetype": "text/x-python",
   "name": "python",
   "nbconvert_exporter": "python",
   "pygments_lexer": "ipython3",
   "version": "3.9.12"
  },
  "orig_nbformat": 4,
  "vscode": {
   "interpreter": {
    "hash": "7b93ae2ddedcfb4b7ddebf80c8c7984044339b2e43f10e14b9461f3e640893f2"
   }
  }
 },
 "nbformat": 4,
 "nbformat_minor": 2
}
