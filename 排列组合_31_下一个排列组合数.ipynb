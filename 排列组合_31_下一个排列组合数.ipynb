{
 "cells": [
  {
   "attachments": {},
   "cell_type": "markdown",
   "metadata": {},
   "source": [
    "31. Next Permutation\n",
    "Medium\n",
    "14K\n",
    "4K\n",
    "Companies\n",
    "A permutation of an array of integers is an arrangement of its members into a sequence or linear order.\n",
    "\n",
    "For example, for arr = [1,2,3], the following are all the permutations of arr: [1,2,3], [1,3,2], [2, 1, 3], [2, 3, 1], [3,1,2], [3,2,1].\n",
    "The next permutation of an array of integers is the next lexicographically greater permutation of its integer. More formally, if all the permutations of the array are sorted in one container according to their lexicographical order, then the next permutation of that array is the permutation that follows it in the sorted container. If such arrangement is not possible, the array must be rearranged as the lowest possible order (i.e., sorted in ascending order).\n",
    "\n",
    "For example, the next permutation of arr = [1,2,3] is [1,3,2].\n",
    "Similarly, the next permutation of arr = [2,3,1] is [3,1,2].\n",
    "While the next permutation of arr = [3,2,1] is [1,2,3] because [3,2,1] does not have a lexicographical larger rearrangement.\n",
    "Given an array of integers nums, find the next permutation of nums.\n",
    "\n",
    "The replacement must be in place and use only constant extra memory.\n",
    "\n",
    " \n",
    "\n",
    "Example 1:\n",
    "\n",
    "Input: nums = [1,2,3]\n",
    "Output: [1,3,2]\n",
    "Example 2:\n",
    "\n",
    "Input: nums = [3,2,1]\n",
    "Output: [1,2,3]\n",
    "Example 3:\n",
    "\n",
    "Input: nums = [1,1,5]\n",
    "Output: [1,5,1]\n",
    " \n",
    "\n",
    "Constraints:\n",
    "\n",
    "1 <= nums.length <= 100\n",
    "0 <= nums[i] <= 100\n",
    "Accepted\n",
    "976.1K\n",
    "Submissions\n",
    "2.6M\n",
    "Acceptance Rate\n",
    "37.3%"
   ]
  },
  {
   "cell_type": "code",
   "execution_count": null,
   "metadata": {},
   "outputs": [],
   "source": [
    "# 不会这道题\n",
    "# [1,2,3]\n",
    "# [1,3,2]\n",
    "# [2,1,3]\n",
    "# [2,3,1]\n",
    "# [3,1,2] \n",
    "# [3,2,1]\n",
    "\n"
   ]
  },
  {
   "cell_type": "code",
   "execution_count": null,
   "metadata": {},
   "outputs": [],
   "source": [
    "#  总结思路 从小到大\n",
    "\n",
    "1 2 3 4\n",
    "1 2 4 3 # 2<4\n",
    "1 3 2 4 # 2<4\n",
    "1 3 4 2 # 3<4\n",
    "1 4 2 3 # 2<3\n",
    "1 4 3 2\n",
    "2 4 3 1 # 交換\n",
    "2 1 3 2 # 依次將最小的放到前面\n",
    "\n",
    "2 4 3 1\n",
    "\n",
    "\n",
    "\n",
    "\n",
    "\n",
    "\n"
   ]
  },
  {
   "attachments": {},
   "cell_type": "markdown",
   "metadata": {},
   "source": [
    "![Next Permutation](https://ckqqqq-qiker-image-service.oss-cn-beijing.aliyuncs.com/typora-image/31_Next_Permutation.gif)"
   ]
  },
  {
   "cell_type": "code",
   "execution_count": 2,
   "metadata": {},
   "outputs": [],
   "source": [
    "# 尋找下一個排列序列\n",
    "from typing import List\n",
    "class Solution:\n",
    "    def reversed(self,i,j,a:List[int]):\n",
    "        while i<j:\n",
    "            a[i],a[j]=a[j],a[i]\n",
    "            i,j=i+1,j-1\n",
    "    def swap(self,i,j,a):# 忘记加self\n",
    "        if i!=j:\n",
    "            a[i],a[j]=a[j],a[i]\n",
    "    def nextPermutation(self, nums: List[int]) -> None:\n",
    "        LEN=len(nums)\n",
    "        i=LEN-1-1\n",
    "        while i>-1 and nums[i]>=nums[i+1]:\n",
    "            i-=1\n",
    "        if i==-1:\n",
    "            self.reversed(0,LEN-1,nums)# \n",
    "        else:\n",
    "            j=LEN-1\n",
    "            while j>i and nums[j]<=nums[i]: # 这里循环写了for （不简洁容易错）\n",
    "                j-=1\n",
    "            self.swap(i,j,nums)\n",
    "            # print(nums)\n",
    "            self.reversed(i+1,LEN-1,nums)\n",
    "        \"\"\"\n",
    "        Do not return anything, modify nums in-place instead.\n",
    "        \"\"\"\n",
    "        \n"
   ]
  },
  {
   "cell_type": "code",
   "execution_count": 3,
   "metadata": {},
   "outputs": [
    {
     "name": "stdout",
     "output_type": "stream",
     "text": [
      "10\n",
      "9\n",
      "8\n",
      "7\n",
      "6\n",
      "5\n",
      "4\n",
      "3\n",
      "2\n",
      "1\n",
      "0\n"
     ]
    }
   ],
   "source": [
    "for i in range(10,-1,-1):\n",
    "    print(i)"
   ]
  },
  {
   "attachments": {},
   "cell_type": "markdown",
   "metadata": {},
   "source": [
    "在 Python 中，可以使用 range() 函数来遍历一个序列。如果需要遍历序列的逆序，可以使用 range(start, stop, step) 函数，其中 step 为负数。\n"
   ]
  }
 ],
 "metadata": {
  "kernelspec": {
   "display_name": "base",
   "language": "python",
   "name": "python3"
  },
  "language_info": {
   "codemirror_mode": {
    "name": "ipython",
    "version": 3
   },
   "file_extension": ".py",
   "mimetype": "text/x-python",
   "name": "python",
   "nbconvert_exporter": "python",
   "pygments_lexer": "ipython3",
   "version": "3.9.12 (main, Apr  4 2022, 05:22:27) [MSC v.1916 64 bit (AMD64)]"
  },
  "orig_nbformat": 4,
  "vscode": {
   "interpreter": {
    "hash": "7b93ae2ddedcfb4b7ddebf80c8c7984044339b2e43f10e14b9461f3e640893f2"
   }
  }
 },
 "nbformat": 4,
 "nbformat_minor": 2
}
