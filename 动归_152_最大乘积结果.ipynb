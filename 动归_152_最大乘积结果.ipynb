{
 "cells": [
  {
   "cell_type": "code",
   "execution_count": null,
   "metadata": {},
   "outputs": [],
   "source": [
    "#你对状态压缩还不熟悉，建议先画出dp方程来，不要一步到位\n",
    "#此外推导方程时候最好举两个简单例子，不然dp方程可能是错误的\n",
    "#最后变量命名时尽量取首字母不同\n",
    "class Solution:\n",
    "    def maxProduct(self, nums: List[int]) -> int:\n",
    "        if len(nums)==0:\n",
    "            return 0\n",
    "        if len(nums)==1:\n",
    "            return nums[0]\n",
    "        maxp=[0,0]\n",
    "        minp=[0,0]\n",
    "        maxp[0],minp[0]=nums[0],nums[0]\n",
    "        ans=maxp[0]\n",
    "        for i in range(1,len(nums)):\n",
    "            maxp[1]=max(maxp[0]*nums[i],minp[0]*nums[i],nums[i])\n",
    "            minp[1]=min(minp[0]*nums[i],maxp[0]*nums[i],nums[i])\n",
    "            maxp[0]=maxp[1]\n",
    "            minp[0]=minp[1]\n",
    "            ans=max(ans,maxp[1])\n",
    "\n",
    "        return ans"
   ]
  },
  {
   "attachments": {},
   "cell_type": "markdown",
   "metadata": {},
   "source": [
    "152. Maximum Product Subarray\n",
    "Medium\n",
    "14.7K\n",
    "436\n",
    "Companies\n",
    "Given an integer array nums, find a \n",
    "subarray\n",
    " that has the largest product, and return the product.\n",
    "\n",
    "The test cases are generated so that the answer will fit in a 32-bit integer.\n",
    "\n",
    " \n",
    "\n",
    "Example 1:\n",
    "\n",
    "Input: nums = [2,3,-2,4]\n",
    "Output: 6\n",
    "Explanation: [2,3] has the largest product 6.\n",
    "Example 2:\n",
    "\n",
    "Input: nums = [-2,0,-1]\n",
    "Output: 0\n",
    "Explanation: The result cannot be 2, because [-2,-1] is not a subarray.\n",
    " \n",
    "\n",
    "Constraints:\n",
    "\n",
    "1 <= nums.length <= 2 * 104\n",
    "-10 <= nums[i] <= 10\n",
    "The product of any prefix or suffix of nums is guaranteed to fit in a 32-bit integer."
   ]
  },
  {
   "cell_type": "code",
   "execution_count": null,
   "metadata": {},
   "outputs": [],
   "source": [
    "152. Maximum Product Subarray\n",
    "Medium\n",
    "\n",
    "Add to List\n",
    "\n",
    "Share\n",
    "Given an integer array nums, find a contiguous non-empty subarray within the array that has the largest product, and return the product.\n",
    "\n",
    "The test cases are generated so that the answer will fit in a 32-bit integer.\n",
    "\n",
    "A subarray is a contiguous subsequence of the array.\n",
    "\n",
    " \n",
    "\n",
    "Example 1:\n",
    "\n",
    "Input: nums = [2,3,-2,4]\n",
    "Output: 6\n",
    "Explanation: [2,3] has the largest product 6.\n",
    "Example 2:\n",
    "\n",
    "Input: nums = [-2,0,-1]\n",
    "Output: 0\n",
    "Explanation: The result cannot be 2, because [-2,-1] is not a subarray.\n"
   ]
  },
  {
   "cell_type": "code",
   "execution_count": null,
   "metadata": {},
   "outputs": [],
   "source": [
    "dp[i][1]=max(nums[i][1],dp[i-1][1]*nums[i],dp[i-1][0]*nums[i])\n",
    "dp[i][0]=min(nums[i][0],dp[i-1][1]*nums[i],dp[i-1][1]*nums[i])"
   ]
  },
  {
   "cell_type": "markdown",
   "metadata": {},
   "source": [
    "[2,3,-2,0,4,5]\n",
    "20\n",
    "无法预判后面，无法贪心解决，只能动归\n",
    "如果动归选择有两种，乘上它或者重新开始,一个最大值肯定是多个最小值与多个最大值相乘\n",
    "如果要判断数组位置如何解决？标识，再来一个维度绑定，一个开始的位置和结束的位置\n",
    "max\n",
    "2 6 -2  0 4 5\n",
    "min\n",
    "2 3 -12 0 0 0\n",
    "[-2,3,-2]\n",
    "-2 3  \n",
    "-2 -6\n",
    "max[i]=max(min[i-1]*num[i],max[i]*num[i],num[i])\n",
    "min[i]=min(min[i-1]*num[i],min[i]*num[i],num[i])\n",
    "如果要求打印子数组位置\n",
    "2     6     -2  0 4 5\n",
    "[0,0] [0,1] [2,2]"
   ]
  }
 ],
 "metadata": {
  "kernelspec": {
   "display_name": "base",
   "language": "python",
   "name": "python3"
  },
  "language_info": {
   "name": "python",
   "version": "3.9.12 (main, Apr  4 2022, 05:22:27) [MSC v.1916 64 bit (AMD64)]"
  },
  "orig_nbformat": 4,
  "vscode": {
   "interpreter": {
    "hash": "7b93ae2ddedcfb4b7ddebf80c8c7984044339b2e43f10e14b9461f3e640893f2"
   }
  }
 },
 "nbformat": 4,
 "nbformat_minor": 2
}
