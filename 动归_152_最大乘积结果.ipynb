{
 "cells": [
  {
   "cell_type": "code",
   "execution_count": null,
   "metadata": {},
   "outputs": [],
   "source": [
    "#你对状态压缩还不熟悉，建议先画出dp方程来，不要一步到位\n",
    "#此外推导方程时候最好举两个简单例子，不然dp方程可能是错误的\n",
    "#最后变量命名时尽量取首字母不同\n",
    "class Solution:\n",
    "    def maxProduct(self, nums: List[int]) -> int:\n",
    "        if len(nums)==0:\n",
    "            return 0\n",
    "        if len(nums)==1:\n",
    "            return nums[0]\n",
    "        maxp=[0,0]\n",
    "        minp=[0,0]\n",
    "        maxp[0],minp[0]=nums[0],nums[0]\n",
    "        ans=maxp[0]\n",
    "        for i in range(1,len(nums)):\n",
    "            maxp[1]=max(maxp[0]*nums[i],minp[0]*nums[i],nums[i])\n",
    "            minp[1]=min(minp[0]*nums[i],maxp[0]*nums[i],nums[i])\n",
    "            maxp[0]=maxp[1]\n",
    "            minp[0]=minp[1]\n",
    "            ans=max(ans,maxp[1])\n",
    "\n",
    "        return ans"
   ]
  },
  {
   "cell_type": "code",
   "execution_count": null,
   "metadata": {},
   "outputs": [],
   "source": [
    "152. Maximum Product Subarray\n",
    "Medium\n",
    "\n",
    "Add to List\n",
    "\n",
    "Share\n",
    "Given an integer array nums, find a contiguous non-empty subarray within the array that has the largest product, and return the product.\n",
    "\n",
    "The test cases are generated so that the answer will fit in a 32-bit integer.\n",
    "\n",
    "A subarray is a contiguous subsequence of the array.\n",
    "\n",
    " \n",
    "\n",
    "Example 1:\n",
    "\n",
    "Input: nums = [2,3,-2,4]\n",
    "Output: 6\n",
    "Explanation: [2,3] has the largest product 6.\n",
    "Example 2:\n",
    "\n",
    "Input: nums = [-2,0,-1]\n",
    "Output: 0\n",
    "Explanation: The result cannot be 2, because [-2,-1] is not a subarray."
   ]
  },
  {
   "cell_type": "markdown",
   "metadata": {},
   "source": [
    "[2,3,-2,0,4,5]\n",
    "20\n",
    "无法预判后面，无法贪心解决，只能动归\n",
    "如果动归选择有两种，乘上它或者重新开始,一个最大值肯定是多个最小值与多个最大值相乘\n",
    "如果要判断数组位置如何解决？标识，再来一个维度绑定，一个开始的位置和结束的位置\n",
    "max\n",
    "2 6 -2  0 4 5\n",
    "min\n",
    "2 3 -12 0 0 0\n",
    "[-2,3,-2]\n",
    "-2 3  \n",
    "-2 -6\n",
    "max[i]=max(min[i-1]*num[i],max[i]*num[i],num[i])\n",
    "min[i]=min(min[i-1]*num[i],min[i]*num[i],num[i])\n",
    "如果要求打印子数组位置\n",
    "2     6     -2  0 4 5\n",
    "[0,0] [0,1] [2,2]"
   ]
  }
 ],
 "metadata": {
  "language_info": {
   "name": "python"
  },
  "orig_nbformat": 4
 },
 "nbformat": 4,
 "nbformat_minor": 2
}
