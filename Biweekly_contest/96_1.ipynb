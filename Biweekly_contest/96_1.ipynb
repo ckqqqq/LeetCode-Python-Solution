{
 "cells": [
  {
   "cell_type": "code",
   "execution_count": null,
   "metadata": {},
   "outputs": [],
   "source": [
    "from typing import List\n",
    "class Solution:\n",
    "    def getCommon(self, nums1: List[int], nums2: List[int]) -> int:\n",
    "        i,j=0,0\n",
    "        while i<len(nums1) and j<len(nums2):\n",
    "            if nums1[i]<nums2[j]:\n",
    "                i+=1\n",
    "            elif nums1[i]>nums2[j]:\n",
    "                j+=1\n",
    "            else:#nums1[i]==nums2[j]\n",
    "                return nums1[i]\n",
    "        return -1    "
   ]
  }
 ],
 "metadata": {
  "language_info": {
   "name": "python"
  },
  "orig_nbformat": 4
 },
 "nbformat": 4,
 "nbformat_minor": 2
}
