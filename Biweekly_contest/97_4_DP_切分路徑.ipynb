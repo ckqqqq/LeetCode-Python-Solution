{
 "cells": [
  {
   "attachments": {},
   "cell_type": "markdown",
   "metadata": {},
   "source": [
    "这道题好难\n"
   ]
  },
  {
   "attachments": {},
   "cell_type": "markdown",
   "metadata": {},
   "source": [
    "Intuition\n",
    "If there exist a point (i, j) which is not (0, 0) or (m-1, n-1), such that the number of the paths from (0, 0) to (m-1, n-1) go through (i, j)equals the number of paths from (0, 0) to (m-1, n-1) without any constraint, return True.\n",
    "\n",
    "Approach\n",
    "To count the numbers of paths go through (i, j). We just calculate number of paths from (0, 0) to (i, j) and number of paths from (i, j) to (m-1, n-1), then multiply them up.\n",
    "\n",
    "Complexity\n",
    "Time complexity:\n",
    "O(n∗m)O(n*m)O(n∗m)\n",
    "Space complexity:\n",
    "O(n∗m)O(n*m)O(n∗m)"
   ]
  },
  {
   "attachments": {},
   "cell_type": "markdown",
   "metadata": {},
   "source": [
    "### 我打算称呼这个定理为神奇力扣定理\n",
    "### 前提条件 ，如果节点只能往右下移动\n",
    "假设从0,0到达dp[row-1][col-1]的路径有 target条\n",
    "如果存在i,j  \n",
    "如果有 从0,0到达i,j的路径的条数*从i,j到达row-1，col-1的路径条数=target\n",
    "#那么这个点就是能分隔两边的点，"
   ]
  },
  {
   "cell_type": "code",
   "execution_count": 9,
   "metadata": {},
   "outputs": [
    {
     "name": "stdout",
     "output_type": "stream",
     "text": [
      "True\n",
      "True\n",
      "True\n",
      "True\n"
     ]
    }
   ],
   "source": [
    "class Solution:\n",
    "    def isPossibleToCutPath(self, grid: List[List[int]]) -> bool:\n",
    "        m, n = len(grid), len(grid[0])\n",
    "\n",
    "        #  number of paths from (0, 0) to (i, j)\n",
    "        dp1 = [[0] * (n+1) for _ in range(m + 1)]\n",
    "        dp1[1][1] = 1\n",
    "        for i in range(1, m + 1):\n",
    "            for j in range(1, n + 1):\n",
    "                if grid[i-1][j-1]:\n",
    "                    dp1[i][j] += dp1[i-1][j] + dp1[i][j-1]\n",
    "                    # 映射关系dp[i+1][j+1]对应 grid[i][j]\n",
    "        #  number of paths from (i, j) to (m-1, n-1)      \n",
    "        dp2 = [[0] * (n+1) for _ in range(m + 1)]\n",
    "        dp2[-2][-2] = 1\n",
    "        for i in range(m - 1, -1, -1):\n",
    "            for j in range(n - 1, -1, -1):\n",
    "                if grid[i][j]:# 路径\n",
    "                    dp2[i][j] += dp2[i+1][j] + dp2[i][j+1]\n",
    "                    #映射关系[i][j]一一对应\n",
    "        # number of paths from (0, 0) to (m-1, n-1)     \n",
    "        target = dp1[-1][-1]\n",
    "\n",
    "        for i in range(m):\n",
    "            for j in range(n):\n",
    "                if (i!=0 or j!=0) and (i!=m-1 or j!=n-1):\n",
    "                    if dp1[i+1][j+1] * dp2[i][j] == target: \n",
    "                        return True\n",
    "        return False\n",
    "solution=Solution()\n",
    "print(solution.isPossibleToCutPath([\n",
    "[1,1,1,1,1,0],\n",
    "[1,0,1,1,1,0],\n",
    "[1,1,1,0,1,1],\n",
    "[1,0,0,0,1,1],\n",
    "[1,1,1,0,1,1]]))\n",
    "print(solution.isPossibleToCutPath([[1,1,1,0,1],[0,1,1,0,1],[0,1,1,0,1],[0,0,1,1,1],[0,0,1,1,1],[0,0,1,1,1]]))\n",
    "print(solution.isPossibleToCutPath( \n",
    "                                   [[1,1,1],\n",
    "                                    [1,1,0],\n",
    "                                    [1,1,1]]))"
   ]
  },
  {
   "cell_type": "code",
   "execution_count": 6,
   "metadata": {},
   "outputs": [
    {
     "name": "stdout",
     "output_type": "stream",
     "text": [
      "True\n",
      "True\n",
      "True\n"
     ]
    }
   ],
   "source": [
    "# 最快的解法 ，但是看不懂\n",
    "from typing import List\n",
    "class Solution:\n",
    "    def isPossibleToCutPath(self, grid: List[List[int]]) -> bool:\n",
    "        m, n = len(grid), len(grid[0])\n",
    "        for i in range(m): \n",
    "            for j in range(n): \n",
    "                if (i or j) and grid[i][j] and (i == 0 or grid[i-1][j] == 0) and (j == 0 or grid[i][j-1] == 0):\n",
    "                    grid[i][j] = 0\n",
    "        for i in range(m-1, -1, -1): \n",
    "            for j in range(n-1, -1, -1): \n",
    "                if (i < m-1 or j < n-1) and grid[i][j] and (i == m-1 or grid[i+1][j] == 0) and (j == n-1 or grid[i][j+1] == 0):\n",
    "                    grid[i][j] = 0\n",
    "        prefix = [[0]*(n+1) for _ in range(m+1)]\n",
    "        for i in range(m): \n",
    "            for j in range(n): \n",
    "                prefix[i+1][j+1] = prefix[i+1][j] + prefix[i][j+1] - prefix[i][j] + grid[i][j]\n",
    "        for i in range(m): \n",
    "            for j in range(n): \n",
    "                if (i, j) not in ((0, 0), (m-1, n-1)): \n",
    "                    left = prefix[m][j] - prefix[i+1][j] - prefix[0][j] + prefix[i+1][0]\n",
    "                    right = prefix[i][n] - prefix[i][j+1] - prefix[0][n] + prefix[0][j+1]\n",
    "                    if left == right == 0: return True \n",
    "        return False \n",
    "solution=Solution()\n",
    "print(solution.isPossibleToCutPath([\n",
    "[1,1,1,1,1,0],\n",
    "[1,0,1,1,1,0],\n",
    "[1,1,1,0,1,1],\n",
    "[1,0,0,0,1,1],\n",
    "[1,1,1,0,1,1]]))\n",
    "print(solution.isPossibleToCutPath([[1,1,1,0,1],[0,1,1,0,1],[0,1,1,0,1],[0,0,1,1,1],[0,0,1,1,1],[0,0,1,1,1]]))\n",
    "print(solution.isPossibleToCutPath( \n",
    "                                   [[1,1,1],\n",
    "                                    [1,1,0],\n",
    "                                    [1,1,1]]))"
   ]
  },
  {
   "cell_type": "code",
   "execution_count": null,
   "metadata": {},
   "outputs": [],
   "source": [
    "# 这道题题目有问题\n",
    "# 理论上BFS过不了，但是由于题目不包含下面那个案例所以实际上BFS可以过\n",
    "https://leetcode.com/problems/disconnect-path-in-a-binary-matrix-by-at-most-one-flip/solutions/3141835/simple-bfs-o-n-m-detailed-explanation/?orderBy=most_votes"
   ]
  },
  {
   "cell_type": "code",
   "execution_count": null,
   "metadata": {},
   "outputs": [],
   "source": [
    "1 1 1\n",
    "2 0 0 \n",
    "2 2 3\n",
    "2 3 2\n",
    "\n",
    "1 1 1 1 1 0\n",
    "1 1 0 0 1 0\n",
    "0 1 1 0 1 1\n",
    "0 1 0 0 1 1\n",
    "0 1 1 0 1 1\n",
    "[1,1,1,1,1,0],\n",
    "[1,1,1,1,1,0],\n",
    "[1,1,1,0,1,1],\n",
    "[1,0,0,0,1,1],\n",
    "[1,1,1,0,1,1],"
   ]
  },
  {
   "attachments": {},
   "cell_type": "markdown",
   "metadata": {},
   "source": [
    "https://leetcode.com/contest/biweekly-contest-97/problems/disconnect-path-in-a-binary-matrix-by-at-most-one-flip/"
   ]
  },
  {
   "cell_type": "code",
   "execution_count": null,
   "metadata": {},
   "outputs": [],
   "source": [
    "# from typing import List\n",
    "# import queue\n",
    "# class Solution:\n",
    "#     def isPossibleToCutPath(self, grid: List[List[int]]) -> bool:\n",
    "#         # 尝试用BFS做，因为原图中只能向下或者向上\n",
    "#         # 所以无论如何 距离都是一样的\n",
    "#         row,col=len(grid),len(grid[0])\n",
    "#         if row==1 and col==1:\n",
    "#             return True \n",
    "#         if grid[0][0]==0 or grid[row-1][col-1]==0:\n",
    "#             return False\n",
    "#         dx=[0,1]\n",
    "#         dy=[1,0]\n",
    "#         que=queue()\n",
    "#         que.put((0,0))\n",
    "#         is_begging=True\n",
    "#         while que.qsize()!=0:\n",
    "#             level_size=que.qsize()\n",
    "#             while level_size!=0:\n",
    "#                 level_size-=1# \n",
    "#                 n_has_child=0\n",
    "#                 cx,cy=que.get()\n",
    "#                 is_has_child=0\n",
    "#                 for i in range(0,2):\n",
    "#                     nx,ny=cx+dx[i],cy+dy[i]\n",
    "#                     if 0<=nx<row and 0<=ny<=col and grid[nx][ny]!=0:\n",
    "#                         grid[nx][ny]+=1\n",
    "#                         if nx!=row-1 and ny!=col-1:#并非最后的节点\n",
    "#                             que.put((nx,ny))\n",
    "#                             is_has_child=1\n",
    "#                 n_has_child+=is_has_child\n",
    "#             if n_has_child<=1 and not is_begging:# 层只有一节点有效子根\n",
    "#                 return True\n",
    "#             is_begging=False\n",
    "#         return grid[row-1][col-1]==1# ==1证明没有路\n",
    "# solution=Solution()\n",
    "print(solution.isPossibleToCutPath([1,1,1,1,1,0],\n",
    "                                   [1,1,1,1,1,0],\n",
    "                                   [1,1,1,0,1,1],\n",
    "                                   [1,0,0,0,1,1],\n",
    "                                   [1,1,1,0,1,1],\n",
    "                                   ))\n",
    "                        \n",
    "                        \n",
    "'''\n",
    "1 1 1 1 1 0\n",
    "1 1 0 0 1 0\n",
    "0 1 1 0 1 1\n",
    "0 1 0 0 1 1\n",
    "0 1 1 0 1 1\n",
    "'''\n",
    "               "
   ]
  }
 ],
 "metadata": {
  "kernelspec": {
   "display_name": "base",
   "language": "python",
   "name": "python3"
  },
  "language_info": {
   "codemirror_mode": {
    "name": "ipython",
    "version": 3
   },
   "file_extension": ".py",
   "mimetype": "text/x-python",
   "name": "python",
   "nbconvert_exporter": "python",
   "pygments_lexer": "ipython3",
   "version": "3.9.12"
  },
  "orig_nbformat": 4,
  "vscode": {
   "interpreter": {
    "hash": "7b93ae2ddedcfb4b7ddebf80c8c7984044339b2e43f10e14b9461f3e640893f2"
   }
  }
 },
 "nbformat": 4,
 "nbformat_minor": 2
}
