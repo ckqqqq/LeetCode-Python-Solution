{
 "cells": [
  {
   "attachments": {},
   "cell_type": "markdown",
   "metadata": {},
   "source": [
    "2542. Maximum Subsequence Score\n",
    "User Accepted:1134\n",
    "User Tried:3732\n",
    "Total Accepted:1169\n",
    "Total Submissions:7281\n",
    "Difficulty:Medium\n",
    "You are given two 0-indexed integer arrays nums1 and nums2 of equal length n and a positive integer k. You must choose a subsequence of indices from nums1 of length k.\n",
    "\n",
    "For chosen indices i0, i1, ..., ik - 1, your score is defined as:\n",
    "\n",
    "The sum of the selected elements from nums1 multiplied with the minimum of the selected elements from nums2.\n",
    "It can defined simply as: (nums1[i0] + nums1[i1] +...+ nums1[ik - 1]) * min(nums2[i0] , nums2[i1], ... ,nums2[ik - 1]).\n",
    "Return the maximum possible score.\n",
    "\n",
    "A subsequence of indices of an array is a set that can be derived from the set {0, 1, ..., n-1} by deleting some or no elements.\n",
    "\n",
    " \n",
    "\n",
    "Example 1:\n",
    "\n",
    "Input: nums1 = [1,3,3,2], nums2 = [2,1,3,4], k = 3\n",
    "Output: 12\n",
    "Explanation: \n",
    "The four possible subsequence scores are:\n",
    "- We choose the indices 0, 1, and 2 with score = (1+3+3) * min(2,1,3) = 7.\n",
    "- We choose the indices 0, 1, and 3 with score = (1+3+2) * min(2,1,4) = 6. \n",
    "- We choose the indices 0, 2, and 3 with score = (1+3+2) * min(2,3,4) = 12. \n",
    "- We choose the indices 1, 2, and 3 with score = (3+3+2) * min(1,3,4) = 8.\n",
    "Therefore, we return the max score, which is 12.\n",
    "Example 2:\n",
    "\n",
    "Input: nums1 = [4,2,3,1,1], nums2 = [7,5,10,9,6], k = 1\n",
    "Output: 30\n",
    "Explanation: \n",
    "Choosing index 2 is optimal: nums1[2] * nums2[2] = 3 * 10 = 30 is the maximum possible score.\n",
    " \n",
    "\n",
    "Constraints:\n",
    "\n",
    "n == nums1.length == nums2.length\n",
    "1 <= n <= 10^5\n",
    "0 <= nums1[i], nums2[j] <= 10^5\n",
    "1 <= k <= n"
   ]
  },
  {
   "cell_type": "code",
   "execution_count": 16,
   "metadata": {},
   "outputs": [
    {
     "name": "stdout",
     "output_type": "stream",
     "text": [
      "2 1\n",
      "1 300\n",
      "305\n"
     ]
    }
   ],
   "source": [
    "# 看了题解之后重新写\n",
    "from typing import List\n",
    "import queue\n",
    "class Solution:\n",
    "    def maxScore(self, nums1: List[int], nums2: List[int], k: int) -> int:\n",
    "        que=queue.PriorityQueue()\n",
    "        nums=list(zip(nums1,nums2))\n",
    "        nums.sort(reverse=True,key=lambda ab:ab[1])\n",
    "        res=0\n",
    "        total=0 #一个维护队列和的方法 \n",
    "        for a,b in nums:\n",
    "            que.put(a)\n",
    "            # 非常巧妙的一个维护队列和的方法\n",
    "            total+=a\n",
    "            if que.qsize()>k:\n",
    "                total=total-(que.get())\n",
    "            if que.qsize()==k:\n",
    "                print(b,a)\n",
    "                res=max(b*total,res)\n",
    "        return res\n",
    "solution=Solution()\n",
    "print(solution.maxScore([1,300,3,2],[2,1,3,4],3))"
   ]
  },
  {
   "cell_type": "code",
   "execution_count": 9,
   "metadata": {},
   "outputs": [
    {
     "name": "stdout",
     "output_type": "stream",
     "text": [
      "2\n",
      "-3\n"
     ]
    }
   ],
   "source": [
    "import queue\n",
    "\n",
    "que=queue.PriorityQueue(11)\n",
    "que.put(9)\n",
    "que.put(-3)\n",
    "print(que.qsize())\n",
    "print(que.get())"
   ]
  },
  {
   "cell_type": "code",
   "execution_count": 6,
   "metadata": {},
   "outputs": [
    {
     "name": "stdout",
     "output_type": "stream",
     "text": [
      "168\n"
     ]
    },
    {
     "ename": "AssertionError",
     "evalue": "??逻辑错误1,9",
     "output_type": "error",
     "traceback": [
      "\u001b[1;31m---------------------------------------------------------------------------\u001b[0m",
      "\u001b[1;31mAssertionError\u001b[0m                            Traceback (most recent call last)",
      "\u001b[1;32md:\\Code\\Python\\Leetcode\\Biweekly_contest\\96_3.ipynb Cell 1\u001b[0m in \u001b[0;36m<cell line: 25>\u001b[1;34m()\u001b[0m\n\u001b[0;32m     <a href='vscode-notebook-cell:/d%3A/Code/Python/Leetcode/Biweekly_contest/96_3.ipynb#W3sZmlsZQ%3D%3D?line=22'>23</a>\u001b[0m solution\u001b[39m=\u001b[39mSolution()\n\u001b[0;32m     <a href='vscode-notebook-cell:/d%3A/Code/Python/Leetcode/Biweekly_contest/96_3.ipynb#W3sZmlsZQ%3D%3D?line=23'>24</a>\u001b[0m \u001b[39mprint\u001b[39m(solution\u001b[39m.\u001b[39mmaxScore([\u001b[39m14\u001b[39m,\u001b[39m2\u001b[39m,\u001b[39m1\u001b[39m,\u001b[39m12\u001b[39m],[\u001b[39m13\u001b[39m,\u001b[39m11\u001b[39m,\u001b[39m7\u001b[39m,\u001b[39m6\u001b[39m],\u001b[39m3\u001b[39m))\n\u001b[1;32m---> <a href='vscode-notebook-cell:/d%3A/Code/Python/Leetcode/Biweekly_contest/96_3.ipynb#W3sZmlsZQ%3D%3D?line=24'>25</a>\u001b[0m \u001b[39mprint\u001b[39m(solution\u001b[39m.\u001b[39;49mmaxScore(\n\u001b[0;32m     <a href='vscode-notebook-cell:/d%3A/Code/Python/Leetcode/Biweekly_contest/96_3.ipynb#W3sZmlsZQ%3D%3D?line=25'>26</a>\u001b[0m [\u001b[39m4\u001b[39;49m,\u001b[39m2\u001b[39;49m,\u001b[39m3\u001b[39;49m,\u001b[39m1\u001b[39;49m,\u001b[39m1\u001b[39;49m],\n\u001b[0;32m     <a href='vscode-notebook-cell:/d%3A/Code/Python/Leetcode/Biweekly_contest/96_3.ipynb#W3sZmlsZQ%3D%3D?line=26'>27</a>\u001b[0m [\u001b[39m7\u001b[39;49m,\u001b[39m5\u001b[39;49m,\u001b[39m10\u001b[39;49m,\u001b[39m9\u001b[39;49m,\u001b[39m6\u001b[39;49m],\n\u001b[0;32m     <a href='vscode-notebook-cell:/d%3A/Code/Python/Leetcode/Biweekly_contest/96_3.ipynb#W3sZmlsZQ%3D%3D?line=27'>28</a>\u001b[0m \u001b[39m1\u001b[39;49m))\n",
      "\u001b[1;32md:\\Code\\Python\\Leetcode\\Biweekly_contest\\96_3.ipynb Cell 1\u001b[0m in \u001b[0;36mSolution.maxScore\u001b[1;34m(self, nums1, nums2, k)\u001b[0m\n\u001b[0;32m     <a href='vscode-notebook-cell:/d%3A/Code/Python/Leetcode/Biweekly_contest/96_3.ipynb#W3sZmlsZQ%3D%3D?line=11'>12</a>\u001b[0m \u001b[39mif\u001b[39;00m \u001b[39mlen\u001b[39m(h) \u001b[39m>\u001b[39m k:\u001b[39m# 如果优先数组满了\u001b[39;00m\n\u001b[0;32m     <a href='vscode-notebook-cell:/d%3A/Code/Python/Leetcode/Biweekly_contest/96_3.ipynb#W3sZmlsZQ%3D%3D?line=12'>13</a>\u001b[0m     smal\u001b[39m=\u001b[39mheappop(h)\u001b[39m#弹出最小值# 那如果total减去的是对应的nums1的值怎么办？？？\u001b[39;00m\n\u001b[1;32m---> <a href='vscode-notebook-cell:/d%3A/Code/Python/Leetcode/Biweekly_contest/96_3.ipynb#W3sZmlsZQ%3D%3D?line=13'>14</a>\u001b[0m     \u001b[39massert\u001b[39;00m smal\u001b[39m<\u001b[39ma,\u001b[39mf\u001b[39m\u001b[39m\"\u001b[39m\u001b[39m??逻辑错误\u001b[39m\u001b[39m{\u001b[39;00ma\u001b[39m}\u001b[39;00m\u001b[39m,\u001b[39m\u001b[39m{\u001b[39;00mb\u001b[39m}\u001b[39;00m\u001b[39m\"\u001b[39m\n\u001b[0;32m     <a href='vscode-notebook-cell:/d%3A/Code/Python/Leetcode/Biweekly_contest/96_3.ipynb#W3sZmlsZQ%3D%3D?line=14'>15</a>\u001b[0m     total \u001b[39m-\u001b[39m\u001b[39m=\u001b[39m smal\n\u001b[0;32m     <a href='vscode-notebook-cell:/d%3A/Code/Python/Leetcode/Biweekly_contest/96_3.ipynb#W3sZmlsZQ%3D%3D?line=15'>16</a>\u001b[0m \u001b[39mif\u001b[39;00m \u001b[39mlen\u001b[39m(h) \u001b[39m==\u001b[39m k:\n",
      "\u001b[1;31mAssertionError\u001b[0m: ??逻辑错误1,9"
     ]
    }
   ],
   "source": [
    "# 非常巧妙的遍历# 比我想的算法优秀很多\n",
    "# 这个算法中蕴含了一个巧妙的不等遍历 \n",
    "# 先将b数组从大到小排列\n",
    "# 对应a数组\n",
    "# 如果  aj+1>aj 那 \n",
    "from heapq import heappop, heappush\n",
    "from typing import List\n",
    "class Solution:\n",
    "    def maxScore(self, nums1: List[int], nums2: List[int], k: int) -> int:\n",
    "        total = res = 0\n",
    "        h = []\n",
    "        # 只要有一个排序，你后面想怎么遍历都无所谓\n",
    "        for a,b in sorted(list(zip(nums1, nums2)),reverse=True, key=lambda ab: ab[1]):#使用b的倒序\n",
    "            heappush(h, a)# 压入当前b对应的nums1的值 4 3 2 1  1 1 1 1000 (但是1000会出现在前面)\n",
    "            total += a\n",
    "            if len(h) > k:# 如果优先数组满了\n",
    "                smal=heappop(h)#弹出最小值# 那如果total减去的是对应的nums1的值怎么办？？？\n",
    "                # assert smal<a,f\"??逻辑错误{a},{b}\"\n",
    "                # 结论是不可能，因为 \n",
    "                total -= smal\n",
    "            if len(h) == k:\n",
    "                res = max(res, total * b)# 找b的最大值\n",
    "        return res\n",
    "'''\n",
    "100 99 98  1000(不可能是优先队列中的最小值)\n",
    "10  9   8  7\n",
    "'''\n",
    "'''\n",
    "14 2  1 12 10000\n",
    "13 11 7 6 1\n",
    "'''\n",
    "solution=Solution()\n",
    "print(solution.maxScore([14,2,1,12],[13,11,7,6],3))\n",
    "print(solution.maxScore(\n",
    "[4,2,3,1,1],\n",
    "[7,5,10,9,6],\n",
    "1))"
   ]
  },
  {
   "cell_type": "code",
   "execution_count": null,
   "metadata": {},
   "outputs": [],
   "source": [
    "from typing import List\n",
    "class Solution:\n",
    "    def maxScore(self, nums1: List[int], nums2: List[int], k: int) -> int:\n",
    "        nums1.sort(reverse=True)\n",
    "        "
   ]
  },
  {
   "cell_type": "code",
   "execution_count": null,
   "metadata": {},
   "outputs": [],
   "source": [
    "from typing import List\n",
    "class Solution:\n",
    "    def maxScore(self, nums1: List[int], nums2: List[int], k: int) -> int:\n",
    "        LEN=len(nums1)\n",
    "        infinity=2**40\n",
    "        test1=[*zip(nums1,nums2)]\n",
    "        test2=[*zip(nums2,nums1)]\n",
    "        test1.sort(reverse=True)\n",
    "        test2.sort(reverse=True)\n",
    "        res=0\n",
    "        sum_1,min_1=sum([x[0] for x in range(k-1) ]),min([x[1] for x in range(k-1) ])\n",
    "        sum_2,min_2=sum([x[1] for x in range(k-1)]),min([x[0] for x in range(k-1)])\n",
    "        # right=k-1\n",
    "        for left in range(0,len(nums1)-k):\n",
    "            right=left+k-1\n",
    "            sum_1,min_1=sum_1+test1[right][0],test1[right][1]\n",
    "            sum_2,min_2=sum_2+test2[right][1],test2[right][0]\n",
    "            res=max(sum_1*min_1,sum_2*min_2,res)\n",
    "            # left\n",
    "            \n",
    "            \n",
    "            "
   ]
  },
  {
   "cell_type": "code",
   "execution_count": 1,
   "metadata": {},
   "outputs": [
    {
     "name": "stdout",
     "output_type": "stream",
     "text": [
      "(1, 2) (2, 3) (3, 1)\n"
     ]
    }
   ],
   "source": [
    "t1=[1,2,3]\n",
    "t2=[2,3,1]\n",
    "print(*zip(t1,t2))"
   ]
  }
 ],
 "metadata": {
  "kernelspec": {
   "display_name": "base",
   "language": "python",
   "name": "python3"
  },
  "language_info": {
   "codemirror_mode": {
    "name": "ipython",
    "version": 3
   },
   "file_extension": ".py",
   "mimetype": "text/x-python",
   "name": "python",
   "nbconvert_exporter": "python",
   "pygments_lexer": "ipython3",
   "version": "3.9.12"
  },
  "orig_nbformat": 4,
  "vscode": {
   "interpreter": {
    "hash": "7b93ae2ddedcfb4b7ddebf80c8c7984044339b2e43f10e14b9461f3e640893f2"
   }
  }
 },
 "nbformat": 4,
 "nbformat_minor": 2
}
