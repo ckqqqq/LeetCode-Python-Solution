{
 "cells": [
  {
   "cell_type": "code",
   "execution_count": null,
   "metadata": {},
   "outputs": [],
   "source": [
    "from typing import List\n",
    "class Solution:\n",
    "    def minimizeSum(self, nums: List[int]) -> int:\n",
    "        ans=2**40\n",
    "        minque,maxque=[],[]\n",
    "        mark=set()\n",
    "        \n",
    "solution=Solution()\n",
    "print(solution.minimizeSum([1,4,3]))\n",
    "print(solution.minimizeSum([1,4,7,8,5]))"
   ]
  },
  {
   "cell_type": "code",
   "execution_count": 8,
   "metadata": {},
   "outputs": [
    {
     "name": "stdout",
     "output_type": "stream",
     "text": [
      "0\n",
      "39\n",
      "39\n",
      "3\n"
     ]
    }
   ],
   "source": [
    "from typing import List\n",
    "class Solution:\n",
    "    def minimizeSum(self, nums: List[int]) -> int:\n",
    "        ans=2**40\n",
    "        LEN=len(nums)\n",
    "        if LEN<=3:\n",
    "            return 0\n",
    "        inord=sorted(nums)\n",
    "        low=2**40\n",
    "        for i in range(0,len(inord)-1):\n",
    "            if inord[i+1]-inord[i]<low:\n",
    "                low=inord[i+1]-inord[i]\n",
    "        i,j=0,LEN-1\n",
    "        ans=min(ans,inord[j]-inord[i]+low,inord[LEN-1]-inord[2],inord[LEN-3]-inord[0])#high\n",
    "        for _ in range(2):\n",
    "            # print(i,j,inord)\n",
    "            if inord[i+1]-inord[i]<inord[j]-inord[j-1]:\n",
    "                j-=1\n",
    "            else: #inord[i+1]-inord[i]>inord[j]-inord[j-1]:\n",
    "                i+=1\n",
    "            ans=min(ans,inord[j]-inord[i])#high\n",
    "        return ans\n",
    "solution=Solution()\n",
    "print(solution.minimizeSum([1,4,3]))\n",
    "print(solution.minimizeSum([21,77,82,30,94,55,76]))\n",
    "print(solution.minimizeSum([21,13,21,72,35,52,74]))\n",
    "print(solution.minimizeSum([1,4,7,8,5]))\n",
    "        "
   ]
  }
 ],
 "metadata": {
  "kernelspec": {
   "display_name": "base",
   "language": "python",
   "name": "python3"
  },
  "language_info": {
   "codemirror_mode": {
    "name": "ipython",
    "version": 3
   },
   "file_extension": ".py",
   "mimetype": "text/x-python",
   "name": "python",
   "nbconvert_exporter": "python",
   "pygments_lexer": "ipython3",
   "version": "3.9.12"
  },
  "orig_nbformat": 4,
  "vscode": {
   "interpreter": {
    "hash": "7b93ae2ddedcfb4b7ddebf80c8c7984044339b2e43f10e14b9461f3e640893f2"
   }
  }
 },
 "nbformat": 4,
 "nbformat_minor": 2
}
