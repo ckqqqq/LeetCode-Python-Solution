{
 "cells": [
  {
   "cell_type": "code",
   "execution_count": 15,
   "metadata": {},
   "outputs": [
    {
     "name": "stdout",
     "output_type": "stream",
     "text": [
      "-1\n",
      "2\n",
      "-1\n",
      "0\n"
     ]
    }
   ],
   "source": [
    "# \n",
    "''''\n",
    "n == nums1.length == nums2.length\n",
    "2 <= n <= 105\n",
    "0 <= nums1[i], nums2[j] <= 109\n",
    "0 <= k <= 105\n",
    "'''\n",
    "from typing import List # 重做！！！\n",
    "class Solution:\n",
    "    def minOperations(self, nums1: List[int], nums2: List[int], k: int) -> int:\n",
    "        if nums1==nums2:# 如果完全相等\n",
    "            return 0\n",
    "        if k==0:#不等\n",
    "            return -1\n",
    "        dis,op=0,0\n",
    "        for idx in range(len(nums1)):\n",
    "            diff=nums1[idx]- nums2[idx]\n",
    "            if diff!=0 and diff%k==0:\n",
    "                dis+=diff\n",
    "                if diff>0:\n",
    "                    op+=diff//k\n",
    "            elif diff!=0 and diff%k!=0:#and diff%k!=0\n",
    "                return -1\n",
    "        # print(op)\n",
    "        return op if dis==0 and op!=0 else -1\n",
    "solution=Solution()\n",
    "print(solution.minOperations([4,3,1,4],[1,3,7,0],3))\n",
    "print(solution.minOperations([4,3,1,4],[1,3,7,1],3))\n",
    "print(solution.minOperations([3,8,5,2],[2,4,1,6],3))\n",
    "print(solution.minOperations([2,4,1,6],[2,4,1,6],3))\n",
    "\n",
    "            "
   ]
  },
  {
   "cell_type": "code",
   "execution_count": 7,
   "metadata": {},
   "outputs": [
    {
     "name": "stdout",
     "output_type": "stream",
     "text": [
      "0\n",
      "True\n"
     ]
    }
   ],
   "source": [
    "print(-3%3)\n",
    "print([1,2,3]==[1,2,3])"
   ]
  }
 ],
 "metadata": {
  "kernelspec": {
   "display_name": "base",
   "language": "python",
   "name": "python3"
  },
  "language_info": {
   "codemirror_mode": {
    "name": "ipython",
    "version": 3
   },
   "file_extension": ".py",
   "mimetype": "text/x-python",
   "name": "python",
   "nbconvert_exporter": "python",
   "pygments_lexer": "ipython3",
   "version": "3.9.12"
  },
  "orig_nbformat": 4,
  "vscode": {
   "interpreter": {
    "hash": "7b93ae2ddedcfb4b7ddebf80c8c7984044339b2e43f10e14b9461f3e640893f2"
   }
  }
 },
 "nbformat": 4,
 "nbformat_minor": 2
}
