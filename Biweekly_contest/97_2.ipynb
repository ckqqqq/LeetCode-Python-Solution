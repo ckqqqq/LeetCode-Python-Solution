{
 "cells": [
  {
   "cell_type": "code",
   "execution_count": 5,
   "metadata": {},
   "outputs": [
    {
     "name": "stdout",
     "output_type": "stream",
     "text": [
      "Counter({2: 2, 1: 1, 3: 1})\n",
      "<class 'dict'>\n",
      "{1: 1, 2: 2, 3: 1} 1\n"
     ]
    }
   ],
   "source": [
    "from collections import Counter\n",
    "test=[1,2,2,3]\n",
    "b=Counter(test)\n",
    "print(Counter(test))\n",
    "print(type(dict(b)))\n",
    "print(dict(b),b[1])"
   ]
  },
  {
   "cell_type": "code",
   "execution_count": null,
   "metadata": {},
   "outputs": [],
   "source": [
    "class Solution:\n",
    "    def maxCount(self, banned: List[int], n: int, maxSum: int) -> int:\n",
    "        banned=set(banned)\n",
    "        res=0\n",
    "        for i in range(1,n):\n",
    "            if i not in banned:\n",
    "                maxSum-=i\n",
    "                if maxSum<0:\n",
    "                    return res\n",
    "                else:\n",
    "                    res+=1  \n",
    "            "
   ]
  }
 ],
 "metadata": {
  "kernelspec": {
   "display_name": "base",
   "language": "python",
   "name": "python3"
  },
  "language_info": {
   "codemirror_mode": {
    "name": "ipython",
    "version": 3
   },
   "file_extension": ".py",
   "mimetype": "text/x-python",
   "name": "python",
   "nbconvert_exporter": "python",
   "pygments_lexer": "ipython3",
   "version": "3.9.12"
  },
  "orig_nbformat": 4,
  "vscode": {
   "interpreter": {
    "hash": "7b93ae2ddedcfb4b7ddebf80c8c7984044339b2e43f10e14b9461f3e640893f2"
   }
  }
 },
 "nbformat": 4,
 "nbformat_minor": 2
}
