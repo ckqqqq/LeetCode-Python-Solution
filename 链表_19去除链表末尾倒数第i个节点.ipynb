{
 "cells": [
  {
   "cell_type": "code",
   "execution_count": null,
   "metadata": {},
   "outputs": [],
   "source": [
    "# Definition for singly-linked list.\n",
    "# class ListNode:\n",
    "#     def __init__(self, val=0, next=None):\n",
    "#         self.val = val\n",
    "#         self.next = next\n",
    "class Solution:\n",
    "    def removeNthFromEnd(self, head: Optional[ListNode], n: int):# 修改了很多次，有几个问题\n",
    "        if not head.next and n==1:\n",
    "            return None\n",
    "        counter=0\n",
    "        pioneer,follower=head,ListNode(666,head)#第一：要确定一个概念: follower.next代表要被删除的节点,可以为头节点\n",
    "        while pioneer!=None:# 其次 我建议不要取pioneer pioneer pioneer pioneer #容易打错 #pioneer pioneer pioneer pioneer pioneer \n",
    "            pioneer=pioneer.next\n",
    "            counter+=1\n",
    "            if counter>n:#这样就是同步的啦\n",
    "                # print(follower.val,pioneer.val)\n",
    "                follower=follower.next\n",
    "        if head==follower.next:#\n",
    "            return head.next\n",
    "        follower.next=follower.next.next#\n",
    "        return head "
   ]
  }
 ],
 "metadata": {
  "kernelspec": {
   "display_name": "base",
   "language": "python",
   "name": "python3"
  },
  "language_info": {
   "name": "python",
   "version": "3.9.12 (main, Apr  4 2022, 05:22:27) [MSC v.1916 64 bit (AMD64)]"
  },
  "orig_nbformat": 4,
  "vscode": {
   "interpreter": {
    "hash": "7b93ae2ddedcfb4b7ddebf80c8c7984044339b2e43f10e14b9461f3e640893f2"
   }
  }
 },
 "nbformat": 4,
 "nbformat_minor": 2
}
