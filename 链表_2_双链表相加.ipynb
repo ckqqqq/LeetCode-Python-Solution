{
 "cells": [
  {
   "cell_type": "code",
   "execution_count": null,
   "metadata": {},
   "outputs": [
    {
     "name": "stdout",
     "output_type": "stream",
     "text": [
      "0\n",
      "1\n",
      "2\n",
      "3\n",
      "4\n",
      "5\n",
      "6\n",
      "7\n",
      "0 1 2\n",
      "0 0 1 1 1 1 "
     ]
    }
   ],
   "source": [
    "# Definition for singly-linked list.\n",
    "from typing import Optional\n",
    "class ListNode:\n",
    "    def __init__(self, val=0, next=None):\n",
    "        self.val = val\n",
    "        self.next = next\n",
    "class Solution:\n",
    "    def addTwoNumbers(self, l1: Optional[ListNode], l2: Optional[ListNode]) -> Optional[ListNode]:\n",
    "        # 注意是逆序的链表\n",
    "        carry=0  # 进位\n",
    "        beg=ListNode()  # 创建一个虚拟头节点\n",
    "        prev=beg  # 指向虚拟头节点\n",
    "        while l1!=None or l2!=None or carry!=0:  # 当l1、l2不为空或者进位不为0时，继续循环\n",
    "            val1=l1.val if l1!=None else 0  # 如果l1不为空，则取l1的值，否则取0\n",
    "            val2=l2.val if l2!=None else 0  # 如果l2不为空，则取l2的值，否则取0\n",
    "            val_sum,carry=divmod(val1+val2+carry,10)  # 计算两个数的和以及进位\n",
    "            prev.next=ListNode(val_sum,None)  # 创建一个新的节点，值为sum，并指向下一个节点\n",
    "            prev=prev.next  # 指向下一个节点\n",
    "            l1=l1.next if l1!=None else None  # l1指向下一个节点\n",
    "            l2=l2.next if l2!=None else None  # l2指向下一个节点\n",
    "        return beg.next\n",
    "if __name__ == \"__main__\":\n",
    "    solution = Solution()\n",
    "    head=ListNode(0,None)\n",
    "    l1=head\n",
    "    for i in range(1,4):\n",
    "        print(head.val)\n",
    "        head.next=ListNode(i,None)\n",
    "        head=head.next\n",
    "    head=head.next\n",
    "    head=ListNode(3,None)\n",
    "    l2=head   \n",
    "    for i in range(4,9):\n",
    "        print(head.val)\n",
    "        \n",
    "        head.next=ListNode(i,None)\n",
    "        head=head.next\n",
    "        \n",
    "    print(l1.val,l1.next.val,l1.next.next.val)\n",
    "    res=solution.addTwoNumbers(l1,l2)\n",
    "    while res!=None:\n",
    "        print(res.val,end=\" \")\n",
    "        res=res.next\n",
    "    \n",
    "        "
   ]
  },
  {
   "cell_type": "code",
   "execution_count": null,
   "metadata": {},
   "outputs": [],
   "source": []
  }
 ],
 "metadata": {
  "kernelspec": {
   "display_name": "py38",
   "language": "python",
   "name": "python3"
  },
  "language_info": {
   "codemirror_mode": {
    "name": "ipython",
    "version": 3
   },
   "file_extension": ".py",
   "mimetype": "text/x-python",
   "name": "python",
   "nbconvert_exporter": "python",
   "pygments_lexer": "ipython3",
   "version": "3.8.13"
  },
  "orig_nbformat": 4
 },
 "nbformat": 4,
 "nbformat_minor": 2
}
