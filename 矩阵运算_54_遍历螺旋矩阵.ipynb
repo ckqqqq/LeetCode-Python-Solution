{
 "cells": [
  {
   "cell_type": "code",
   "execution_count": 8,
   "metadata": {},
   "outputs": [
    {
     "name": "stdout",
     "output_type": "stream",
     "text": [
      "[1, 2, 3, 4, 8, 12, 11, 10, 9, 5, 6, 7]\n"
     ]
    }
   ],
   "source": [
    "from typing import List\n",
    "class Solution:\n",
    "    def spiralOrder(self, matrix: List[List[int]]) -> List[int]:\n",
    "        LENX=len(matrix)\n",
    "        LENY=len(matrix[0])\n",
    "        dx=[0,1,0,-1]\n",
    "        dy=[1,0,-1,0]\n",
    "        x,y=0,0\n",
    "        flag=0\n",
    "        res=[matrix[0][0]]\n",
    "        matrix[0][0]=-10086 # 初始化时要注意将【0】【0】做mark\n",
    "        idx=0\n",
    "        while flag<4:\n",
    "            while 0<=x+dx[idx]<LENX and 0<=y+dy[idx]<LENY and -10086!=matrix[x+dx[idx]][y+dy[idx]]:\n",
    "                x,y=x+dx[idx],y+dy[idx]\n",
    "                res.append(matrix[x][y])\n",
    "                matrix[x][y]=-10086\n",
    "                flag=0\n",
    "            flag+=1# flag用于控制寻找方向的次数 防止出现[[2][3]]的情况\n",
    "            idx=0 if idx+1>=4 else idx+1\n",
    "        return res\n",
    "solution=Solution()\n",
    "print(solution.spiralOrder(matrix = [[1,2,3,4],[5,6,7,8],[9,10,11,12]]))"
   ]
  },
  {
   "cell_type": "code",
   "execution_count": 17,
   "metadata": {},
   "outputs": [
    {
     "name": "stdout",
     "output_type": "stream",
     "text": [
      "[1, 2, 3, 4] [5, 6, 7, 8] [9, 10, 11, 12] [1, 2, 3, 4] [(8, 12), (7, 11), (6, 10), (5, 9)]\n"
     ]
    }
   ],
   "source": [
    "matrix = [[1,2,3,4],[5,6,7,8],[9,10,11,12]]\n",
    "print(*matrix,[*matrix.pop(0)],[*zip(*matrix)][::-1])# 元祖等同于列表"
   ]
  },
  {
   "cell_type": "code",
   "execution_count": 18,
   "metadata": {},
   "outputs": [
    {
     "name": "stdout",
     "output_type": "stream",
     "text": [
      "[(1, 5, 9), (2, 6, 10), (3, 7, 11), (4, 8, 12)]\n"
     ]
    }
   ],
   "source": [
    "matrix = [[1,2,3,4],\n",
    "          [5,6,7,8],\n",
    "          [9,10,11,12]]\n",
    "print([*zip(*matrix)])# 转"
   ]
  },
  {
   "cell_type": "code",
   "execution_count": 15,
   "metadata": {},
   "outputs": [
    {
     "name": "stdout",
     "output_type": "stream",
     "text": [
      "[1, 2, 3, 4, 8, 12, 11, 10, 9, 5, 6, 7]\n"
     ]
    }
   ],
   "source": [
    "matrix = [[1,2,3,4],[5,6,7,8],[9,10,11,12]]\n",
    "def spiralOrder(matrix: List[List[int]]) -> List[int]:\n",
    "      return matrix and [*matrix.pop(0)] + spiralOrder([*zip(*matrix)][::-1])\n",
    "print(spiralOrder(matrix))"
   ]
  },
  {
   "cell_type": "code",
   "execution_count": null,
   "metadata": {},
   "outputs": [],
   "source": [
    "# 一个相当灵巧的解决方案\n",
    "class Solution:\n",
    "    def spiralOrder(self, matrix: List[List[int]]) -> List[int]:\n",
    "        res = []\n",
    "        left, right = 0, len(matrix[0])\n",
    "        top, bottom = 0, len(matrix)\n",
    "        while left < right and top < bottom: # 相当于\n",
    "            for i in range(left,right):\n",
    "                res.append(matrix[top][i])\n",
    "            top += 1\n",
    "            for i in range(top,bottom):\n",
    "                res.append(matrix[i][right - 1])\n",
    "            right -= 1\n",
    "            if not (left < right and top < bottom):\n",
    "                break\n",
    "            for i in range(right -1, left -1, -1):#注意是倒着遍历的\n",
    "                res.append(matrix[bottom - 1][i])\n",
    "            bottom -= 1\n",
    "            for i in range(bottom -1, top - 1, -1):\n",
    "                res.append(matrix[i][left])\n",
    "            left += 1\n",
    "        return res\n"
   ]
  }
 ],
 "metadata": {
  "kernelspec": {
   "display_name": "base",
   "language": "python",
   "name": "python3"
  },
  "language_info": {
   "codemirror_mode": {
    "name": "ipython",
    "version": 3
   },
   "file_extension": ".py",
   "mimetype": "text/x-python",
   "name": "python",
   "nbconvert_exporter": "python",
   "pygments_lexer": "ipython3",
   "version": "3.9.12"
  },
  "orig_nbformat": 4,
  "vscode": {
   "interpreter": {
    "hash": "7b93ae2ddedcfb4b7ddebf80c8c7984044339b2e43f10e14b9461f3e640893f2"
   }
  }
 },
 "nbformat": 4,
 "nbformat_minor": 2
}
