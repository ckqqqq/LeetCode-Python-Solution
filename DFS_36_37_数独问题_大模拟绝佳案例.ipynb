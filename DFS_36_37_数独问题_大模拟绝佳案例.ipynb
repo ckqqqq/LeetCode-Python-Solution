{
 "cells": [
  {
   "cell_type": "code",
   "execution_count": 7,
   "metadata": {},
   "outputs": [
    {
     "name": "stdout",
     "output_type": "stream",
     "text": [
      "[[14, 4, 4], [13, 0, 2], [13, 4, 1], [13, 4, 2], [13, 4, 6], [13, 4, 7], [13, 8, 6], [12, 0, 3], [12, 0, 5], [12, 1, 1], [12, 1, 2], [12, 7, 6], [12, 7, 7], [12, 8, 3], [12, 8, 5], [10, 3, 3], [10, 3, 5], [10, 5, 3], [10, 5, 5], [9, 0, 6], [9, 0, 7], [9, 0, 8], [9, 2, 0], [9, 3, 1], [9, 3, 2], [9, 3, 6], [9, 3, 7], [9, 5, 1], [9, 5, 2], [9, 5, 6], [9, 5, 7], [9, 6, 8], [9, 8, 0], [9, 8, 1], [9, 8, 2], [8, 1, 6], [8, 1, 7], [8, 1, 8], [8, 2, 3], [8, 2, 4], [8, 2, 5], [8, 6, 3], [8, 6, 4], [8, 6, 5], [8, 7, 0], [8, 7, 1], [8, 7, 2], [5, 2, 6], [5, 2, 8], [5, 6, 0], [5, 6, 2]]\n",
      "[['5', '3', '4', '6', '7', '8', '9', '1', '2'], ['6', '7', '2', '1', '9', '5', '3', '4', '8'], ['1', '9', '8', '3', '4', '2', '5', '6', '7'], ['8', '5', '9', '7', '6', '1', '4', '2', '3'], ['4', '2', '6', '8', '5', '3', '7', '9', '1'], ['7', '1', '3', '9', '2', '4', '8', '5', '6'], ['9', '6', '1', '5', '3', '7', '2', '8', '4'], ['2', '8', '7', '4', '1', '9', '6', '3', '5'], ['3', '4', '5', '2', '8', '6', '1', '7', '9']]\n"
     ]
    }
   ],
   "source": [
    "\n",
    "from ast import Lambda\n",
    "from typing import List \n",
    "\n",
    "class Solution:\n",
    "    def solveSudoku(self, board: List[List[str]]) -> None:\n",
    "        row=[set() for i in range(9)]\n",
    "        col=[set() for j in range(9)]\n",
    "        gong=[[set() for i in range(3)] for j in range(3)]\n",
    "        #这种两重循环记得要里面加【】\n",
    "        for i in range(0,len(board)):\n",
    "            for j in range(0,len(board[0])):\n",
    "                if board[i][j]!='.':\n",
    "                     ch=board[i][j]\n",
    "                     row[i].add(ch)\n",
    "                     col[j].add(ch)\n",
    "                     gong[i//3][j//3].add(ch)\n",
    "                     #对应行和列\n",
    "        self.myLoc=[]\n",
    "        for i in range(0,len(board)):\n",
    "            for j in range(0,len(board[0])):\n",
    "                if board[i][j]=='.':\n",
    "                    self.myLoc.append([len(row[i])+len(col[i])+len(gong[i//3][j//3]),i,j])\n",
    "        self.myLoc=sorted(self.myLoc,key=lambda p: p[0],reverse=True)\n",
    "        self.isFind=False\n",
    "        self.ans=None\n",
    "        print(self.myLoc)\n",
    "        def dfs(board:List[List[str]],index:int,row,col,gong)->bool:\n",
    "            if index>=len(self.myLoc):\n",
    "                self.ans=board\n",
    "                return True\n",
    "            i=self.myLoc[index][1]\n",
    "            j=self.myLoc[index][2]\n",
    "            for number in range(1,10):\n",
    "                ch=str(number)\n",
    "                if ch not in row[i] and ch not in col[j] and ch not in gong[i//3][j//3]:\n",
    "                    row[i].add(ch)\n",
    "                    col[j].add(ch)#写成i\n",
    "                    gong[i//3][j//3].add(ch)\n",
    "                    board[i][j]=ch\n",
    "                    if dfs(board,index+1,row,col,gong):\n",
    "                        return True\n",
    "                    board[i][j]='.'\n",
    "                    row[i].remove(ch)\n",
    "                    col[j].remove(ch)\n",
    "                    gong[i//3][j//3].remove(ch)\n",
    "            return False\n",
    "        dfs(board,0,row,col,gong)\n",
    "        return self.ans\n",
    "        \n",
    "if __name__==\"__main__\":\n",
    "    solution=Solution()\n",
    "    print(solution.solveSudoku([[\"5\",\"3\",\".\",\".\",\"7\",\".\",\".\",\".\",\".\"],[\"6\",\".\",\".\",\"1\",\"9\",\"5\",\".\",\".\",\".\"],[\".\",\"9\",\"8\",\".\",\".\",\".\",\".\",\"6\",\".\"],[\"8\",\".\",\".\",\".\",\"6\",\".\",\".\",\".\",\"3\"],[\"4\",\".\",\".\",\"8\",\".\",\"3\",\".\",\".\",\"1\"],[\"7\",\".\",\".\",\".\",\"2\",\".\",\".\",\".\",\"6\"],[\".\",\"6\",\".\",\".\",\".\",\".\",\"2\",\"8\",\".\"],[\".\",\".\",\".\",\"4\",\"1\",\"9\",\".\",\".\",\"5\"],[\".\",\".\",\".\",\".\",\"8\",\".\",\".\",\"7\",\"9\"]]))"
   ]
  },
  {
   "cell_type": "code",
   "execution_count": 39,
   "metadata": {},
   "outputs": [
    {
     "name": "stdout",
     "output_type": "stream",
     "text": [
      "[['5', '3', '4', '6', '7', '8', '9', '1', '2'], ['6', '7', '2', '1', '9', '5', '3', '4', '8'], ['1', '9', '8', '3', '4', '2', '5', '6', '7'], ['8', '5', '9', '7', '6', '1', '4', '2', '3'], ['4', '2', '6', '8', '5', '3', '7', '9', '1'], ['7', '1', '3', '9', '2', '4', '8', '5', '6'], ['9', '6', '1', '5', '3', '7', '2', '8', '4'], ['2', '8', '7', '4', '1', '9', '6', '3', '5'], ['3', '4', '5', '2', '8', '6', '1', '7', '9']]\n"
     ]
    }
   ],
   "source": [
    "#由于你做大模拟题极高的错误率，你必须先尝试最简单的解法\n",
    "from ast import Lambda\n",
    "from typing import List \n",
    "\n",
    "class Solution:\n",
    "    def solveSudoku(self, board: List[List[str]]) -> None:\n",
    "        row=[set() for i in range(9)]\n",
    "        col=[set() for j in range(9)]\n",
    "        gong=[[set() for i in range(3)] for j in range(3)]\n",
    "        #这种两重循环记得要里面加【】\n",
    "        for i in range(0,len(board)):\n",
    "            for j in range(0,len(board[0])):\n",
    "                if board[i][j]!='.':\n",
    "                     c=board[i][j]\n",
    "                     row[i].add(int(c))\n",
    "                     col[j].add(int(c))\n",
    "                     gong[i//3][j//3].add(int(c))\n",
    "                     #对应行和\n",
    "        #这种小规模的set可以用位运算代替\n",
    "        self.isFind=False\n",
    "        self.ans=None\n",
    "        n=9\n",
    "        def get_empty_position(board,i,j):#大模拟细节，专门负责跳转的函数\n",
    "            #如果没重名，可以获取母函数的n\n",
    "            for i in range(n):\n",
    "                for j in range(n):\n",
    "                    if board[i][j] == '.':\n",
    "                        return i, j\n",
    "            return None, None\n",
    "        def dfs(board:List[List[str]],row,col,gong,i,j):\n",
    "            i,j=get_empty_position(board,i,j)\n",
    "            if i==j==None: ### 大模拟细节一如何提前退出，返回True/False即可\n",
    "                self.ans=board\n",
    "                return True\n",
    "            for number in range(1,10):\n",
    "                #尽量使用一层if，不要continue\n",
    "                if number not in row[i] and number not in col[j] and number not in gong[i//3][j//3]:\n",
    "                    row[i].add(number)#### 大模拟错误一，将c和number混用\n",
    "                    col[j].add(number)#### 大模拟错误二，将j写成i\n",
    "                    gong[i//3][j//3].add(number)\n",
    "                    board[i][j]=str(number)##### 大模拟细节一，最后更改\n",
    "                    if dfs(board,row,col,gong,i,j):\n",
    "                        return True\n",
    "                    board[i][j]='.'\n",
    "                    row[i].remove(number)\n",
    "                    col[j].remove(number)\n",
    "                    gong[i//3][j//3].remove(number)\n",
    "            return False\n",
    "        dfs(board,row,col,gong,0,0)\n",
    "        return self.ans\n",
    "if __name__==\"__main__\":\n",
    "    solution=Solution()\n",
    "    print(solution.solveSudoku([[\"5\",\"3\",\".\",\".\",\"7\",\".\",\".\",\".\",\".\"],[\"6\",\".\",\".\",\"1\",\"9\",\"5\",\".\",\".\",\".\"],[\".\",\"9\",\"8\",\".\",\".\",\".\",\".\",\"6\",\".\"],[\"8\",\".\",\".\",\".\",\"6\",\".\",\".\",\".\",\"3\"],[\"4\",\".\",\".\",\"8\",\".\",\"3\",\".\",\".\",\"1\"],[\"7\",\".\",\".\",\".\",\"2\",\".\",\".\",\".\",\"6\"],[\".\",\"6\",\".\",\".\",\".\",\".\",\"2\",\"8\",\".\"],[\".\",\".\",\".\",\"4\",\"1\",\"9\",\".\",\".\",\"5\"],[\".\",\".\",\".\",\".\",\"8\",\".\",\".\",\"7\",\"9\"]]))"
   ]
  },
  {
   "cell_type": "code",
   "execution_count": 4,
   "metadata": {},
   "outputs": [
    {
     "name": "stdout",
     "output_type": "stream",
     "text": [
      "0\n"
     ]
    }
   ],
   "source": [
    "def fun():\n",
    "    i=0\n",
    "    def infun():\n",
    "        print(i)\n",
    "    infun()\n",
    "fun()"
   ]
  },
  {
   "cell_type": "code",
   "execution_count": 8,
   "metadata": {},
   "outputs": [
    {
     "name": "stdout",
     "output_type": "stream",
     "text": [
      "0\n",
      "1\n"
     ]
    }
   ],
   "source": [
    "#只要有self就必须 \n",
    "class Solution:\n",
    "    def fun(self):\n",
    "        self.i=0\n",
    "        def infun():\n",
    "           print(self.i)\n",
    "           self.i=self.i+1\n",
    "        infun()\n",
    "        return self.i\n",
    "        \n",
    "solution=Solution()\n",
    "print(solution.fun())"
   ]
  },
  {
   "cell_type": "code",
   "execution_count": 23,
   "metadata": {},
   "outputs": [
    {
     "name": "stdout",
     "output_type": "stream",
     "text": [
      "{'11'}\n",
      "[{'11'}]\n"
     ]
    }
   ],
   "source": [
    "#只要有self就必须 \n",
    "class Solution:\n",
    "    def fun(self):\n",
    "        i=[set()]\n",
    "        i[0].add(\"11\")\n",
    "        i[0].add(\"11\")\n",
    "        \n",
    "        def infun(i):\n",
    "            print(i[0])\n",
    "        infun(i)\n",
    "        return i\n",
    "        \n",
    "solution=Solution()\n",
    "print(solution.fun())"
   ]
  },
  {
   "cell_type": "markdown",
   "metadata": {},
   "source": [
    "hard\n",
    "37. Sudoku Solver\n",
    "Hard\n",
    "\n",
    "6368\n",
    "\n",
    "173\n",
    "\n",
    "Add to List\n",
    "\n",
    "Share\n",
    "Write a program to solve a Sudoku puzzle by filling the empty cells.\n",
    "\n",
    "A sudoku solution must satisfy all of the following rules:\n",
    "\n",
    "Each of the digits 1-9 must occur exactly once in each row.\n",
    "Each of the digits 1-9 must occur exactly once in each column.\n",
    "Each of the digits 1-9 must occur exactly once in each of the 9 3x3 sub-boxes of the grid.\n",
    "The '.' character indicates empty cells.\n",
    "\n",
    " \n",
    "\n",
    "Example 1:\n",
    "\n",
    "\n",
    "Input: board = [[\"5\",\"3\",\".\",\".\",\"7\",\".\",\".\",\".\",\".\"],[\"6\",\".\",\".\",\"1\",\"9\",\"5\",\".\",\".\",\".\"],[\".\",\"9\",\"8\",\".\",\".\",\".\",\".\",\"6\",\".\"],[\"8\",\".\",\".\",\".\",\"6\",\".\",\".\",\".\",\"3\"],[\"4\",\".\",\".\",\"8\",\".\",\"3\",\".\",\".\",\"1\"],[\"7\",\".\",\".\",\".\",\"2\",\".\",\".\",\".\",\"6\"],[\".\",\"6\",\".\",\".\",\".\",\".\",\"2\",\"8\",\".\"],[\".\",\".\",\".\",\"4\",\"1\",\"9\",\".\",\".\",\"5\"],[\".\",\".\",\".\",\".\",\"8\",\".\",\".\",\"7\",\"9\"]]\n",
    "Output: [[\"5\",\"3\",\"4\",\"6\",\"7\",\"8\",\"9\",\"1\",\"2\"],[\"6\",\"7\",\"2\",\"1\",\"9\",\"5\",\"3\",\"4\",\"8\"],[\"1\",\"9\",\"8\",\"3\",\"4\",\"2\",\"5\",\"6\",\"7\"],[\"8\",\"5\",\"9\",\"7\",\"6\",\"1\",\"4\",\"2\",\"3\"],[\"4\",\"2\",\"6\",\"8\",\"5\",\"3\",\"7\",\"9\",\"1\"],[\"7\",\"1\",\"3\",\"9\",\"2\",\"4\",\"8\",\"5\",\"6\"],[\"9\",\"6\",\"1\",\"5\",\"3\",\"7\",\"2\",\"8\",\"4\"],[\"2\",\"8\",\"7\",\"4\",\"1\",\"9\",\"6\",\"3\",\"5\"],[\"3\",\"4\",\"5\",\"2\",\"8\",\"6\",\"1\",\"7\",\"9\"]]\n",
    "Explanation: The input board is shown above and the only valid solution is shown below:\n",
    "\n",
    "\n",
    " \n",
    "\n",
    "Constraints:\n",
    "\n",
    "board.length == 9\n",
    "board[i].length == 9\n",
    "board[i][j] is a digit or '.'.\n",
    "It is guaranteed that the input board has only one solution."
   ]
  }
 ],
 "metadata": {
  "kernelspec": {
   "display_name": "Python 3.8.13 ('py38')",
   "language": "python",
   "name": "python3"
  },
  "language_info": {
   "codemirror_mode": {
    "name": "ipython",
    "version": 3
   },
   "file_extension": ".py",
   "mimetype": "text/x-python",
   "name": "python",
   "nbconvert_exporter": "python",
   "pygments_lexer": "ipython3",
   "version": "3.8.13"
  },
  "orig_nbformat": 4,
  "vscode": {
   "interpreter": {
    "hash": "76c3c49e318b7c885b43daef0aa3cfe4eb22ade01aff18419595a86661fada18"
   }
  }
 },
 "nbformat": 4,
 "nbformat_minor": 2
}
