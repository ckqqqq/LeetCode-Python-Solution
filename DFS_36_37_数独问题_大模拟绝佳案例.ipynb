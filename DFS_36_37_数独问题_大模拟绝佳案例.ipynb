{
 "cells": [
  {
   "cell_type": "code",
   "execution_count": null,
   "metadata": {},
   "outputs": [],
   "source": [
    "## 原来的\n",
    "from ast import Lambda\n",
    "from typing import List \n",
    "\n",
    "class Solution:\n",
    "    def solveSudoku(self, board: List[List[str]]) -> None:\n",
    "        row=[set() for i in range(9)]\n",
    "        col=[set() for j in range(9)]\n",
    "        gong=[[set() for i in range(3)] for j in range(3)]\n",
    "        #这种两重循环记得要里面加【】\n",
    "        for i in range(0,len(board)):\n",
    "            for j in range(0,len(board[0])):\n",
    "                if board[i][j]!='.':\n",
    "                     ch=board[i][j]\n",
    "                     row[i].add(ch)\n",
    "                     col[j].add(ch)\n",
    "                     gong[i//3][j//3].add(ch)\n",
    "                     #对应行和列\n",
    "        self.myLoc=[]\n",
    "        for i in range(0,len(board)):\n",
    "            for j in range(0,len(board[0])):\n",
    "                if board[i][j]=='.':\n",
    "                    self.myLoc.append([len(row[i])+len(col[i])+len(gong[i//3][j//3]),i,j])\n",
    "        self.myLoc=sorted(self.myLoc,key=lambda p: p[0],reverse=True)\n",
    "        self.isFind=False\n",
    "        self.ans=None\n",
    "        print(self.myLoc)\n",
    "        def dfs(board:List[List[str]],index:int,row,col,gong)->bool:\n",
    "            if index>=len(self.myLoc):\n",
    "                self.ans=board\n",
    "                return True\n",
    "            i=self.myLoc[index][1]\n",
    "            j=self.myLoc[index][2]\n",
    "            for number in range(1,10):\n",
    "                ch=str(number)\n",
    "                if ch not in row[i] and ch not in col[j] and ch not in gong[i//3][j//3]:\n",
    "                    row[i].add(ch)\n",
    "                    col[j].add(ch)#写成i\n",
    "                    gong[i//3][j//3].add(ch)\n",
    "                    board[i][j]=ch\n",
    "                    if dfs(board,index+1,row,col,gong):\n",
    "                        return True\n",
    "                    board[i][j]='.'\n",
    "                    row[i].remove(ch)\n",
    "                    col[j].remove(ch)\n",
    "                    gong[i//3][j//3].remove(ch)\n",
    "            return False\n",
    "        dfs(board,0,row,col,gong)\n",
    "        return self.ans\n",
    "        \n",
    "if __name__==\"__main__\":\n",
    "    solution=Solution()\n",
    "    print(solution.solveSudoku([[\"5\",\"3\",\".\",\".\",\"7\",\".\",\".\",\".\",\".\"],[\"6\",\".\",\".\",\"1\",\"9\",\"5\",\".\",\".\",\".\"],[\".\",\"9\",\"8\",\".\",\".\",\".\",\".\",\"6\",\".\"],[\"8\",\".\",\".\",\".\",\"6\",\".\",\".\",\".\",\"3\"],[\"4\",\".\",\".\",\"8\",\".\",\"3\",\".\",\".\",\"1\"],[\"7\",\".\",\".\",\".\",\"2\",\".\",\".\",\".\",\"6\"],[\".\",\"6\",\".\",\".\",\".\",\".\",\"2\",\"8\",\".\"],[\".\",\".\",\".\",\"4\",\"1\",\"9\",\".\",\".\",\"5\"],[\".\",\".\",\".\",\".\",\"8\",\".\",\".\",\"7\",\"9\"]]))"
   ]
  },
  {
   "cell_type": "code",
   "execution_count": 11,
   "metadata": {},
   "outputs": [
    {
     "name": "stdout",
     "output_type": "stream",
     "text": [
      "[['5', '3', '4', '6', '7', '8', '9', '1', '2'], ['6', '7', '2', '1', '9', '5', '3', '4', '8'], ['1', '9', '8', '3', '4', '2', '5', '6', '7'], ['8', '5', '9', '7', '6', '1', '4', '2', '3'], ['4', '2', '6', '8', '5', '3', '7', '9', '1'], ['7', '1', '3', '9', '2', '4', '8', '5', '6'], ['9', '6', '1', '5', '3', '7', '2', '8', '4'], ['2', '8', '7', '4', '1', '9', '6', '3', '5'], ['3', '4', '5', '2', '8', '6', '1', '7', '9']]\n"
     ]
    }
   ],
   "source": [
    "## 37题重新做 \n",
    "# 击败了 96%的人，牛B吧\n",
    "from typing import List \n",
    "\n",
    "class Solution:\n",
    "    def solveSudoku(self, board: List[List[str]]) -> None:\n",
    "        row=[set() for _ in  range(9)]\n",
    "        col=[set() for _ in range(9)]\n",
    "        grid=[set() for _ in range(9)]\n",
    "        empty=[]\n",
    "        for x in range(9):\n",
    "            for y in range(9):\n",
    "                if board[x][y]!=\".\":\n",
    "                    c=board[x][y]\n",
    "                    row[x].add(c)\n",
    "                    col[y].add(c)\n",
    "                    grid[3*(x//3)+(y//3)].add(c)\n",
    "                else:\n",
    "                    empty.append((x,y))\n",
    "        c_list=(\"1\",\"2\",\"3\",\"4\",\"5\",\"6\",\"7\",\"8\",\"9\")\n",
    "        def dfs(index)->bool:\n",
    "            if index==len(empty):\n",
    "                return True\n",
    "            # 找到答案\n",
    "            x,y=empty[index]\n",
    "            # print(index,empty)\n",
    "            for c in c_list:\n",
    "                if c not in row[x] and c not in col[y] and c not in grid[3*(x//3)+(y//3)]:\n",
    "                    row[x].add(c)\n",
    "                    col[y].add(c)\n",
    "                    grid[3*(x//3)+(y//3)].add(c)\n",
    "                    board[x][y]=c\n",
    "                    if dfs(index+1):#更进一步\n",
    "                        return True\n",
    "                    #找不到答案就要还原\n",
    "                    row[x].remove(c)\n",
    "                    col[y].remove(c)\n",
    "                    grid[3*(x//3)+(y//3)].remove(c)\n",
    "                    board[x][y]=\".\"\n",
    "            #如果一直找不到答案\n",
    "            return False\n",
    "        if not dfs(0):\n",
    "            print(\"无解\")   \n",
    "        return board\n",
    "        \n",
    "if __name__==\"__main__\":\n",
    "    solution=Solution()\n",
    "    print(solution.solveSudoku([[\"5\",\"3\",\".\",\".\",\"7\",\".\",\".\",\".\",\".\"],[\"6\",\".\",\".\",\"1\",\"9\",\"5\",\".\",\".\",\".\"],[\".\",\"9\",\"8\",\".\",\".\",\".\",\".\",\"6\",\".\"],[\"8\",\".\",\".\",\".\",\"6\",\".\",\".\",\".\",\"3\"],[\"4\",\".\",\".\",\"8\",\".\",\"3\",\".\",\".\",\"1\"],[\"7\",\".\",\".\",\".\",\"2\",\".\",\".\",\".\",\"6\"],[\".\",\"6\",\".\",\".\",\".\",\".\",\"2\",\"8\",\".\"],[\".\",\".\",\".\",\"4\",\"1\",\"9\",\".\",\".\",\"5\"],[\".\",\".\",\".\",\".\",\"8\",\".\",\".\",\"7\",\"9\"]]))"
   ]
  },
  {
   "cell_type": "code",
   "execution_count": null,
   "metadata": {},
   "outputs": [],
   "source": []
  },
  {
   "cell_type": "code",
   "execution_count": 19,
   "metadata": {},
   "outputs": [
    {
     "name": "stdout",
     "output_type": "stream",
     "text": [
      "True\n",
      "False\n"
     ]
    }
   ],
   "source": [
    "# 36 题目 判断是否有效\n",
    "from ast import Lambda\n",
    "from typing import List \n",
    "\n",
    "class Solution:\n",
    "    def isValidSudoku(self, board: List[List[str]]) -> bool:\n",
    "        row=[set() for _ in  range(9)]\n",
    "        col=[set() for _ in range(9)]\n",
    "        grid=[set() for _ in range(9)]\n",
    "        empty=[]\n",
    "        for x in range(9):\n",
    "            for y in range(9):\n",
    "                if board[x][y]!=\".\":\n",
    "                    c=board[x][y]\n",
    "                    if c in row[x] or c in col[y] or c in grid[3*(x//3)+(y//3)]:#初始数独矛盾\n",
    "                        return False\n",
    "                    else:\n",
    "                        row[x].add(c)\n",
    "                        col[y].add(c)\n",
    "                        grid[3*(x//3)+(y//3)].add(c)\n",
    "        return True\n",
    "if __name__==\"__main__\":\n",
    "    solution=Solution()\n",
    "    print(solution.isValidSudoku([[\".\",\"8\",\"7\",\"6\",\"5\",\"4\",\"3\",\"2\",\"1\"],\n",
    "                                [\"2\",\".\",\".\",\".\",\".\",\".\",\".\",\".\",\".\"],\n",
    "                                [\"3\",\".\",\".\",\".\",\".\",\".\",\".\",\".\",\".\"],\n",
    "                                [\"4\",\".\",\".\",\".\",\".\",\".\",\".\",\".\",\".\"],\n",
    "                                [\"5\",\".\",\".\",\".\",\".\",\".\",\".\",\".\",\".\"],\n",
    "                                [\"6\",\".\",\".\",\".\",\".\",\".\",\".\",\".\",\".\"],\n",
    "                                [\"7\",\".\",\".\",\".\",\".\",\".\",\".\",\".\",\".\"],\n",
    "                                [\"8\",\".\",\".\",\".\",\".\",\".\",\".\",\".\",\".\"],\n",
    "                                [\"9\",\".\",\".\",\".\",\".\",\".\",\".\",\".\",\".\"]]))\n",
    "    print(solution.isValidSudoku([[\"8\",\"3\",\".\",\".\",\"7\",\".\",\".\",\".\",\".\"],[\"6\",\".\",\".\",\"1\",\"9\",\"5\",\".\",\".\",\".\"],[\".\",\"9\",\"8\",\".\",\".\",\".\",\".\",\"6\",\".\"],[\"8\",\".\",\".\",\".\",\"6\",\".\",\".\",\".\",\"3\"],[\"4\",\".\",\".\",\"8\",\".\",\"3\",\".\",\".\",\"1\"],[\"7\",\".\",\".\",\".\",\"2\",\".\",\".\",\".\",\"6\"],[\".\",\"6\",\".\",\".\",\".\",\".\",\"2\",\"8\",\".\"],[\".\",\".\",\".\",\"4\",\"1\",\"9\",\".\",\".\",\"5\"],[\".\",\".\",\".\",\".\",\"8\",\".\",\".\",\"7\",\"9\"]]))"
   ]
  },
  {
   "cell_type": "code",
   "execution_count": 4,
   "metadata": {},
   "outputs": [
    {
     "name": "stdout",
     "output_type": "stream",
     "text": [
      "0\n"
     ]
    }
   ],
   "source": [
    "def fun():\n",
    "    i=0\n",
    "    def infun():\n",
    "        print(i)\n",
    "    infun()\n",
    "fun()"
   ]
  },
  {
   "cell_type": "code",
   "execution_count": 8,
   "metadata": {},
   "outputs": [
    {
     "name": "stdout",
     "output_type": "stream",
     "text": [
      "0\n",
      "1\n"
     ]
    }
   ],
   "source": [
    "#只要有self就必须 \n",
    "class Solution:\n",
    "    def fun(self):\n",
    "        self.i=0\n",
    "        def infun():\n",
    "           print(self.i)\n",
    "           self.i=self.i+1\n",
    "        infun()\n",
    "        return self.i\n",
    "        \n",
    "solution=Solution()\n",
    "print(solution.fun())"
   ]
  },
  {
   "cell_type": "code",
   "execution_count": 23,
   "metadata": {},
   "outputs": [
    {
     "name": "stdout",
     "output_type": "stream",
     "text": [
      "{'11'}\n",
      "[{'11'}]\n"
     ]
    }
   ],
   "source": [
    "#只要有self就必须 \n",
    "class Solution:\n",
    "    def fun(self):\n",
    "        i=[set()]\n",
    "        i[0].add(\"11\")\n",
    "        i[0].add(\"11\")\n",
    "        \n",
    "        def infun(i):\n",
    "            print(i[0])\n",
    "        infun(i)\n",
    "        return i\n",
    "        \n",
    "solution=Solution()\n",
    "print(solution.fun())"
   ]
  },
  {
   "cell_type": "markdown",
   "metadata": {},
   "source": [
    "hard\n",
    "37. Sudoku Solver\n",
    "Hard\n",
    "\n",
    "6368\n",
    "\n",
    "173\n",
    "\n",
    "Add to List\n",
    "\n",
    "Share\n",
    "Write a program to solve a Sudoku puzzle by filling the empty cells.\n",
    "\n",
    "A sudoku solution must satisfy all of the following rules:\n",
    "\n",
    "Each of the digits 1-9 must occur exactly once in each row.\n",
    "Each of the digits 1-9 must occur exactly once in each column.\n",
    "Each of the digits 1-9 must occur exactly once in each of the 9 3x3 sub-boxes of the grid.\n",
    "The '.' character indicates empty cells.\n",
    "\n",
    " \n",
    "\n",
    "Example 1:\n",
    "\n",
    "\n",
    "Input: board = [[\"5\",\"3\",\".\",\".\",\"7\",\".\",\".\",\".\",\".\"],[\"6\",\".\",\".\",\"1\",\"9\",\"5\",\".\",\".\",\".\"],[\".\",\"9\",\"8\",\".\",\".\",\".\",\".\",\"6\",\".\"],[\"8\",\".\",\".\",\".\",\"6\",\".\",\".\",\".\",\"3\"],[\"4\",\".\",\".\",\"8\",\".\",\"3\",\".\",\".\",\"1\"],[\"7\",\".\",\".\",\".\",\"2\",\".\",\".\",\".\",\"6\"],[\".\",\"6\",\".\",\".\",\".\",\".\",\"2\",\"8\",\".\"],[\".\",\".\",\".\",\"4\",\"1\",\"9\",\".\",\".\",\"5\"],[\".\",\".\",\".\",\".\",\"8\",\".\",\".\",\"7\",\"9\"]]\n",
    "Output: [[\"5\",\"3\",\"4\",\"6\",\"7\",\"8\",\"9\",\"1\",\"2\"],[\"6\",\"7\",\"2\",\"1\",\"9\",\"5\",\"3\",\"4\",\"8\"],[\"1\",\"9\",\"8\",\"3\",\"4\",\"2\",\"5\",\"6\",\"7\"],[\"8\",\"5\",\"9\",\"7\",\"6\",\"1\",\"4\",\"2\",\"3\"],[\"4\",\"2\",\"6\",\"8\",\"5\",\"3\",\"7\",\"9\",\"1\"],[\"7\",\"1\",\"3\",\"9\",\"2\",\"4\",\"8\",\"5\",\"6\"],[\"9\",\"6\",\"1\",\"5\",\"3\",\"7\",\"2\",\"8\",\"4\"],[\"2\",\"8\",\"7\",\"4\",\"1\",\"9\",\"6\",\"3\",\"5\"],[\"3\",\"4\",\"5\",\"2\",\"8\",\"6\",\"1\",\"7\",\"9\"]]\n",
    "Explanation: The input board is shown above and the only valid solution is shown below:\n",
    "\n",
    "\n",
    " \n",
    "\n",
    "Constraints:\n",
    "\n",
    "board.length == 9\n",
    "board[i].length == 9\n",
    "board[i][j] is a digit or '.'.\n",
    "It is guaranteed that the input board has only one solution."
   ]
  }
 ],
 "metadata": {
  "kernelspec": {
   "display_name": "py38",
   "language": "python",
   "name": "python3"
  },
  "language_info": {
   "codemirror_mode": {
    "name": "ipython",
    "version": 3
   },
   "file_extension": ".py",
   "mimetype": "text/x-python",
   "name": "python",
   "nbconvert_exporter": "python",
   "pygments_lexer": "ipython3",
   "version": "3.8.13"
  },
  "orig_nbformat": 4
 },
 "nbformat": 4,
 "nbformat_minor": 2
}
