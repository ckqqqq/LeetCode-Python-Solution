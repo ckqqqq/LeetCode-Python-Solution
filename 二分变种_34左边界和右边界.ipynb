{
 "cells": [
  {
   "attachments": {},
   "cell_type": "markdown",
   "metadata": {},
   "source": [
    "34. Find First and Last Position of Element in Sorted Array\n",
    "Medium\n",
    "15.5K\n",
    "366\n",
    "Companies\n",
    "Given an array of integers nums sorted in non-decreasing order, find the starting and ending position of a given target value.\n",
    "\n",
    "If target is not found in the array, return [-1, -1].\n",
    "\n",
    "You must write an algorithm with O(log n) runtime complexity.\n",
    "\n",
    " \n",
    "\n",
    "Example 1:\n",
    "\n",
    "Input: nums = [5,7,7,8,8,10], target = 8\n",
    "Output: [3,4]\n",
    "Example 2:\n",
    "\n",
    "Input: nums = [5,7,7,8,8,10], target = 6\n",
    "Output: [-1,-1]\n",
    "Example 3:\n",
    "\n",
    "Input: nums = [], target = 0\n",
    "Output: [-1,-1]\n",
    " \n",
    "\n",
    "Constraints:\n",
    "\n",
    "0 <= nums.length <= 105\n",
    "-109 <= nums[i] <= 109\n",
    "nums is a non-decreasing array.\n",
    "-109 <= target <= 109"
   ]
  },
  {
   "cell_type": "code",
   "execution_count": 7,
   "metadata": {},
   "outputs": [
    {
     "name": "stdout",
     "output_type": "stream",
     "text": [
      "[-1, -1]\n",
      "[1, 2]\n",
      "[-1, -1]\n"
     ]
    }
   ],
   "source": [
    "from typing import List\n",
    "class Solution:\n",
    "    def searchRange(self, nums: List[int], target: int) -> List[int]:\n",
    "        def leftSearch(nums,target):\n",
    "            left,right=0,len(nums)-1\n",
    "            while left<=right:\n",
    "                mid=left+((right-left)>>1)# 这一步要加很多括号，还是按照从前的方法来吧\n",
    "                if nums[mid]>target:\n",
    "                    right=mid-1\n",
    "                elif nums[mid]<target:\n",
    "                    left=mid+1\n",
    "                else:\n",
    "                    right=mid-1\n",
    "            if len(nums)==0 or nums[left]!=target:\n",
    "                return -1\n",
    "            else:\n",
    "                return left\n",
    "        def rightSearch(nums,target):\n",
    "            left,right=0,len(nums)-1\n",
    "            while left<=right:\n",
    "                mid=(left+right)//2\n",
    "                if nums[mid]>target:\n",
    "                    right=mid-1\n",
    "                elif nums[mid]<target:\n",
    "                    left=mid+1\n",
    "                else:\n",
    "                    left=mid+1\n",
    "            if len(nums)==0 or nums[right]!=target:\n",
    "                return -1\n",
    "            else:\n",
    "                return right\n",
    "        ans=[-1,-1]\n",
    "        \n",
    "        ans[0]=leftSearch(nums,target)\n",
    "        ans[1]=rightSearch(nums,target)\n",
    "        return ans\n",
    "solution=Solution()\n",
    "print(solution.searchRange([5,7,7,8,8,10],6))\n",
    "print(solution.searchRange([5,7,7,8,8,10],7))\n",
    "print(solution.searchRange([],0))"
   ]
  },
  {
   "cell_type": "markdown",
   "metadata": {},
   "source": []
  }
 ],
 "metadata": {
  "kernelspec": {
   "display_name": "base",
   "language": "python",
   "name": "python3"
  },
  "language_info": {
   "codemirror_mode": {
    "name": "ipython",
    "version": 3
   },
   "file_extension": ".py",
   "mimetype": "text/x-python",
   "name": "python",
   "nbconvert_exporter": "python",
   "pygments_lexer": "ipython3",
   "version": "3.9.12"
  },
  "orig_nbformat": 4,
  "vscode": {
   "interpreter": {
    "hash": "7b93ae2ddedcfb4b7ddebf80c8c7984044339b2e43f10e14b9461f3e640893f2"
   }
  }
 },
 "nbformat": 4,
 "nbformat_minor": 2
}
