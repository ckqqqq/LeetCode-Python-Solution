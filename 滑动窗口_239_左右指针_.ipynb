{
 "cells": [
  {
   "cell_type": "code",
   "execution_count": null,
   "metadata": {},
   "outputs": [],
   "source": []
  },
  {
   "cell_type": "markdown",
   "metadata": {},
   "source": [
    "239. Sliding Window Maximum\n",
    "Hard\n",
    "\n",
    "11694\n",
    "\n",
    "379\n",
    "\n",
    "Add to List\n",
    "\n",
    "Share\n",
    "You are given an array of integers nums, there is a sliding window of size k which is moving from the very left of the array to the very right_________. You can only see the k numbers in the window. Each time the sliding window moves right by one position.\n",
    "\n",
    "Return the max sliding window.\n",
    "\n",
    " \n",
    "\n",
    "Example 1:\n",
    "\n",
    "Input: nums = [1,3,-1,-3,5,3,6,7], k = 3\n",
    "Output: [3,3,5,5,6,7]\n",
    "Explanation: \n",
    "Window position                Max\n",
    "---------------               -----\n",
    "[1  3  -1] -3  5  3  6  7       3 \n",
    " 1 [3  -1  -3] 5  3  6  7       3\n",
    " 1  3 [-1  -3  5] 3  6  7       5\n",
    " 1  3  -1 [-3  5  3] 6  7       5\n",
    " 1  3  -1  -3 [5  3  6] 7       6\n",
    " 1  3  -1  -3  5 [3  6  7]      7\n",
    " 分析\n",
    "\n",
    "Example 2:\n",
    "\n",
    "Input: nums = [1], k = 1\n",
    "Output: [1]\n",
    " \n",
    "\n",
    "Constraints:\n",
    "\n",
    "1 <= nums.length <= 105\n",
    "-104 <= nums[i] <= 104\n",
    "1 <= k <= nums.length\n",
    "Accepted\n",
    "640,760\n",
    "Submissions\n",
    "1,377,713"
   ]
  },
  {
   "cell_type": "code",
   "execution_count": 7,
   "metadata": {},
   "outputs": [
    {
     "name": "stdout",
     "output_type": "stream",
     "text": [
      "[3, 3, 1, -1, -3]\n"
     ]
    }
   ],
   "source": [
    "#非正解，需要从堆中删掉消失的值\n",
    "from typing import List \n",
    "import heapq\n",
    "class Solution:\n",
    "    def maxSlidingWindow(self,nums:List[int],k:int)->List[int]:\n",
    "        heap=[-1*x for x  in nums[0:k]]\n",
    "        heapq.heapify(heap)\n",
    "        index=k\n",
    "        ans=[]\n",
    "        while index<len(nums):\n",
    "            index+=1\n",
    "        \n",
    "        return ans\n",
    "        \n",
    "if __name__==\"__main__\":\n",
    "    solution=Solution()\n",
    "    print(solution.maxSlidingWindow([1,3,-1,-3,5,3,6,7],3))"
   ]
  },
  {
   "cell_type": "markdown",
   "metadata": {},
   "source": [
    "#### 错题分析 本题的关键在于答案数组更新的时机\n",
    "正解中：答案数组每次更新的值就是（数列最左边的值）\n",
    "问题的关键在于数列的右边始终没有比最小值大的数\n",
    " 1 [3  -1] -3  5  3  6  7       3 \n",
    " 1 [3  -1  -3] 5  3  6  7       3\n",
    " 1  3  -1  -3 [5] 3  6  7       5\n",
    " 1  3  -1  -3 [5  3] 6  7       5\n",
    " 1  3  -1  -3  5  3 [6] 7       6\n",
    " 1  3  -1  -3  5  3  6  [7]      7"
   ]
  },
  {
   "cell_type": "code",
   "execution_count": 18,
   "metadata": {},
   "outputs": [
    {
     "name": "stdout",
     "output_type": "stream",
     "text": [
      "[3, 3, 5, 5, 6, 7]\n"
     ]
    }
   ],
   "source": [
    "from typing import List\n",
    "class Solution:\n",
    "    def maxSlidingWindow(self, nums: List[int], k: int) -> List[int]:\n",
    "        left,right=0,k-1-1\n",
    "        maxNum=nums[right]\n",
    "        ans=[]\n",
    "        while right<left+k:\n",
    "            maxNum=max(maxNum,nums[right])\n",
    "            right+=1\n",
    "        ans.append(maxNum)\n",
    "        while right<len(nums):\n",
    "            if right==left+k:\n",
    "                left+=1\n",
    "            while left<right and nums[left]<=nums[left+1] or nums[left]<=nums[right]:\n",
    "                left+=1\n",
    "            ans.append(nums[left])\n",
    "            right+=1\n",
    "        return ans      \n",
    "                \n",
    "if __name__==\"__main__\":\n",
    "    solution=Solution()\n",
    "    print(solution.maxSlidingWindow( [1,3,-1,-3,5,3,6,7],3))\n",
    "        "
   ]
  },
  {
   "cell_type": "code",
   "execution_count": null,
   "metadata": {},
   "outputs": [],
   "source": [
    "from typing import List\n",
    "class Solution:\n",
    "    def maxSlidingWindow(self, nums: List[int], k: int) -> List[int]:\n",
    "        left,right=0,k-1-1\n",
    "        maxNum=nums[right]\n",
    "        ans=[]\n",
    "        while right<left+k:\n",
    "            maxNum=max(maxNum,nums[right])\n",
    "            right+=1\n",
    "        ans.append(maxNum)\n",
    "        while right<len(nums):\n",
    "            if right==left+k:\n",
    "                left+=1\n",
    "            while left<right and nums[left]<=nums[left+1] or nums[left]<=nums[right]:\n",
    "                left+=1\n",
    "            ans.append(nums[left])\n",
    "            right+=1\n",
    "        return ans      \n",
    "                \n",
    "if __name__==\"__main__\":\n",
    "    solution=Solution()\n",
    "    print(solution.maxSlidingWindow( [1,3,-1,-3,5,3,6,7],3))"
   ]
  },
  {
   "cell_type": "code",
   "execution_count": 20,
   "metadata": {},
   "outputs": [
    {
     "name": "stdout",
     "output_type": "stream",
     "text": [
      "[3, 3, 5, 5, 6, 7]\n",
      "[1, -1]\n"
     ]
    }
   ],
   "source": [
    "from typing import List\n",
    "class Solution:\n",
    "    def maxSlidingWindow(self, nums: List[int], k: int) -> List[int]:\n",
    "        if not nums:\n",
    "            return []\n",
    "        #核心是基于索引的deque队列，如果超出去除队列开头的索引，最重要的一点！从后往前删除比他小的老臣，使得模型整体递增\n",
    "        window,res=[],[]\n",
    "        for i,val in enumerate(nums):\n",
    "            if i>=k and k<=i-window[0]:#如果当i到了[0，k]的窗口，或者窗口大小大于k时\n",
    "                window.pop(0)\n",
    "            #这个-1很重要！\n",
    "            while window and nums[window[-1]]<val:#去除比val小的，在window数组后面的前朝老臣全部杀掉，这里最好画图，向上凸起\n",
    "                window.pop()\n",
    "            window.append(i)#当\n",
    "            if i>=k-1:#当i到了【0，k-1】的窗口时,可以添加答案\n",
    "                res.append(nums[window[0]])  \n",
    "        return res      \n",
    "                \n",
    "if __name__==\"__main__\":\n",
    "    solution=Solution()\n",
    "    print(solution.maxSlidingWindow( [1,3,-1,-3,5,3,6,7],3))\n",
    "    print(solution.maxSlidingWindow( [1,-1],1))\n",
    "        "
   ]
  },
  {
   "cell_type": "markdown",
   "metadata": {},
   "source": []
  }
 ],
 "metadata": {
  "kernelspec": {
   "display_name": "Python 3.8.13 ('py38')",
   "language": "python",
   "name": "python3"
  },
  "language_info": {
   "name": "python",
   "version": "3.8.13"
  },
  "orig_nbformat": 4,
  "vscode": {
   "interpreter": {
    "hash": "76c3c49e318b7c885b43daef0aa3cfe4eb22ade01aff18419595a86661fada18"
   }
  }
 },
 "nbformat": 4,
 "nbformat_minor": 2
}
