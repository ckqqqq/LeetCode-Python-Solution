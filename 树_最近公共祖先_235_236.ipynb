{
 "cells": [
  {
   "cell_type": "markdown",
   "metadata": {},
   "source": [
    "##### 本次题目的思路关键\n",
    "如果当前节点不是p和q的祖先，返回空\n",
    "如果当前节点是p或者q的祖先，返回他们"
   ]
  },
  {
   "cell_type": "code",
   "execution_count": null,
   "metadata": {},
   "outputs": [],
   "source": [
    "# Definition for a binary tree node.\n",
    "import re\n",
    "from typing import Optional \n",
    "class TreeNode:\n",
    "    def __init__(self, val=0, left=None, right=None):\n",
    "        self.val = val\n",
    "        self.left = left\n",
    "        self.right = right\n",
    "class Solution:\n",
    "    ### 这道题的关键为，如果不是p和q的祖先的节点，返回空，如果是p和q的祖先，则分情况返回值\n",
    "    def lowestCommonAncestor(root:TreeNode,p:TreeNode,q:TreeNode)->TreeNode:\n",
    "        def LCADFS(root:TreeNode,p:TreeNode,q:TreeNode):\n",
    "            if root==None:\n",
    "                return None\n",
    "            if root==p or root==q:\n",
    "                return root#如果到达了p或者q，提前返回\n",
    "            leftNode=LCADFS(root.left,p,q)\n",
    "            rightNode=LCADFS(root.right,p,q)\n",
    "            if leftNode==None:#如果为叶子节点而且不是p和q，则返回None\n",
    "                return rightNode\n",
    "            if rightNode==None:#同理如果为叶子节点是p和q，则 不返回None\n",
    "                return leftNode\n",
    "            return root#两边都有则返回根，只有一边有则返回有的那一边，如果都没有则返回空\n",
    "        return LCADFS(root,p,q)\n",
    "\n",
    "             "
   ]
  },
  {
   "cell_type": "markdown",
   "metadata": {},
   "source": [
    "### "
   ]
  },
  {
   "cell_type": "markdown",
   "metadata": {},
   "source": []
  },
  {
   "cell_type": "markdown",
   "metadata": {},
   "source": [
    "### 235题如果树时二叉搜索树呢，如何找最近公共祖先\n",
    "如果是二叉搜索树，就要从区间的角度思考\n",
    "理论上根在[p,q]的区间\n",
    "我们考虑两种情况\n",
    "以实例1为例子\n",
    "如果 p q为2 4\n",
    "那么应该返回【2,4之间的值】\n",
    "如果当前值为6 他们都大于2和4 所以答案在左子树\n",
    "如果遍历到2他会返回他自己，不会遍历其他节点\n",
    "\n",
    "如果pq 为2 7 \n",
    "所以最大的公共祖先就是root自己\n",
    "\n",
    "所以只要遍历到值为第一个值为之间的节点【q,p】，就将其值返回\n"
   ]
  },
  {
   "cell_type": "code",
   "execution_count": null,
   "metadata": {},
   "outputs": [],
   "source": [
    "#\n",
    "# @lc app=leetcode id=235 lang=python3\n",
    "#\n",
    "# [235] Lowest Common Ancestor of a Binary Search Tree\n",
    "#\n",
    "\n",
    "# @lc code=start\n",
    "# Definition for a binary tree node.\n",
    "class TreeNode:\n",
    "    def __init__(self, x):\n",
    "        self.val = x\n",
    "        self.left = None\n",
    "        self.right = None\n",
    "\n",
    "class Solution:\n",
    "    def lowestCommonAncestor(self, root: 'TreeNode', p: 'TreeNode', q: 'TreeNode') -> 'TreeNode':\n",
    "        def BSTLCA(root: TreeNode,p:TreeNode,q:TreeNode):\n",
    "            if root==None:\n",
    "                return None\n",
    "            if q.val<root.val and p.val<root.val:\n",
    "                return BSTLCA(root.left,p,q)\n",
    "            if q.val>root.val and q.val>root.val:\n",
    "                return BSTLCA(root.right,p,q)\n",
    "            return root \n",
    "            \n",
    "# @lc code=end\n",
    "\n"
   ]
  },
  {
   "cell_type": "markdown",
   "metadata": {},
   "source": []
  },
  {
   "cell_type": "markdown",
   "metadata": {},
   "source": []
  }
 ],
 "metadata": {
  "kernelspec": {
   "display_name": "Python 3.9.12 ('base')",
   "language": "python",
   "name": "python3"
  },
  "language_info": {
   "codemirror_mode": {
    "name": "ipython",
    "version": 3
   },
   "file_extension": ".py",
   "mimetype": "text/x-python",
   "name": "python",
   "nbconvert_exporter": "python",
   "pygments_lexer": "ipython3",
   "version": "3.9.12"
  },
  "orig_nbformat": 4,
  "vscode": {
   "interpreter": {
    "hash": "7b93ae2ddedcfb4b7ddebf80c8c7984044339b2e43f10e14b9461f3e640893f2"
   }
  }
 },
 "nbformat": 4,
 "nbformat_minor": 2
}
