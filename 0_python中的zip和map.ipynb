{
 "cells": [
  {
   "cell_type": "code",
   "execution_count": 12,
   "metadata": {},
   "outputs": [
    {
     "name": "stdout",
     "output_type": "stream",
     "text": [
      "2\n",
      "3\n",
      "4\n",
      "5\n",
      "map迭代器 <map object at 0x000001CE86E0DAF0> []\n",
      "zip迭代器 <zip object at 0x000001CE88971580> [(1, -1), (2, -2), (3, -3), (4, -4)]\n"
     ]
    }
   ],
   "source": [
    "## 这两个函数都是用于对应关系的\n",
    "def add_one(x):\n",
    "    return x + 1\n",
    "numbers = [1, 2, 3, 4]\n",
    "result = map(add_one, numbers)\n",
    "print(\"map迭代器\",result,list(result))\n",
    "zi=zip(numbers,[-1,-2,-3,-4])\n",
    "print(\"zip迭代器\",zi,list(zi))\n",
    "for i in result:# PS list(某个迭代器的含义相当于内置了一个循环)\n",
    "    # 如果已经使用了list,无法使用for再迭代\n",
    "    print(i)\n",
    "for z in zi:\n",
    "    print(z)\n"
   ]
  },
  {
   "attachments": {},
   "cell_type": "markdown",
   "metadata": {},
   "source": [
    "map 函数是 Python 中的内置函数，它接受一个函数和一个或多个可迭代对象作为参数，并将函数应用于可迭代对象的每个元素，然后返回一个由每个函数调用的结果组成的可迭代对象。\n",
    "\n",
    "例如，假设你有以下代码：\n",
    "\n",
    "def add_one(x):\n",
    "return x + 1\n",
    "\n",
    "numbers = [1, 2, 3, 4]\n",
    "\n",
    "result = map(add_one, numbers)\n",
    "\n",
    "此时，result 是一个可迭代的对象，它包含以下元素：\n",
    "\n",
    "[2, 3, 4, 5]\n",
    "\n",
    "你可以使用 list 函数将它转换为列表：\n",
    "\n",
    "result_list = list(result)\n",
    "print(result_list) # [2, 3, 4, 5]\n",
    "\n",
    "或者你可以使用 for 循环进行迭代：\n",
    "\n",
    "for x in result:\n",
    "print(x)\n",
    "\n",
    "输出：\n",
    "\n",
    "2\n",
    "3\n",
    "4\n",
    "5\n",
    "\n",
    "在代码中，map 函数被用于将 list 函数应用于 res 中的每个元素，并返回由将每个元素转换为列表的结果组成的可迭代对象。例如，假设 res 的值为 [1, 2, 3]，则调用 list(map(list, res)) 将返回以下列表：\n",
    "\n",
    "[[1], [2], [3]]\n",
    "\n",
    "这行代码的作用是将 res 中的每个元素转换为一个单独的列表。"
   ]
  },
  {
   "attachments": {},
   "cell_type": "markdown",
   "metadata": {},
   "source": [
    "list(zip(*strs)) 这个*是这么意思呢，整个代码又是什么意思呢？\n",
    "## ChatGPT\n",
    "在 Python 中，* 在函数调用中被用作分配关键字参数（例如：*args 和 **kwargs）或将一个可迭代对象分解为单独的元素。\n",
    "***str就是拆分字符串的每个元素**\n",
    "\n",
    "在这种情况下，* 将用于将字符串列表 strs 中的每个字符串分解为单独的元素，然后将它们传递给 zip 函数。\n",
    "\n",
    "例如，假设 strs 的值为 ['abc', 'def', 'ghi']，则调用 list(zip(*strs)) 等效于调用 list(zip('abc', 'def', 'ghi'))，它将返回以下列表：\n",
    "\n",
    "[('a', 'd', 'g'), ('b', 'e', 'h'), ('c', 'f', 'i')]\n",
    "\n",
    "代码的整体意思是遍历输入的字符串列表中的每个位置的字符，如果所有字符都相同，则将其添加到结果字符串中，否则终止循环并返回结果字符串。\n",
    "```\n",
    "print(list(zip(*strs)),list(zip(strs)))\n",
    "[('a', 'a', 'a'), ('b', 'e', 'h'), ('c', 'f', 'i')] [('abc',), ('aef',), ('ahi',)]\n",
    "```\n",
    "**zip则是打包多个大小相等的元祖**\n",
    "\n",
    "zip 函数用于将多个可迭代对象中的元素打包成一个个元组，然后返回由这些元组组成的对象，这被称为“压缩”。\n",
    "例如，假设你有两个列表：\n",
    "\n",
    "names = ['Alice', 'Bob', 'Charlie']\n",
    "ages = [25, 30, 35]\n",
    "\n",
    "可以使用 zip 函数将它们“压缩”到一起：\n",
    "\n",
    "zipped = zip(names, ages)\n",
    "\n",
    "此时，zipped 是一个可迭代的对象，它包含以下元组：\n",
    "\n",
    "[('Alice', 25), ('Bob', 30), ('Charlie', 35)]"
   ]
  }
 ],
 "metadata": {
  "kernelspec": {
   "display_name": "base",
   "language": "python",
   "name": "python3"
  },
  "language_info": {
   "codemirror_mode": {
    "name": "ipython",
    "version": 3
   },
   "file_extension": ".py",
   "mimetype": "text/x-python",
   "name": "python",
   "nbconvert_exporter": "python",
   "pygments_lexer": "ipython3",
   "version": "3.9.12"
  },
  "orig_nbformat": 4,
  "vscode": {
   "interpreter": {
    "hash": "7b93ae2ddedcfb4b7ddebf80c8c7984044339b2e43f10e14b9461f3e640893f2"
   }
  }
 },
 "nbformat": 4,
 "nbformat_minor": 2
}
