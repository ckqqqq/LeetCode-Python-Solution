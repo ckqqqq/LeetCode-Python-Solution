{
 "cells": [
  {
   "cell_type": "code",
   "execution_count": null,
   "metadata": {},
   "outputs": [],
   "source": []
  },
  {
   "cell_type": "code",
   "execution_count": null,
   "metadata": {},
   "outputs": [],
   "source": [
    "\n",
    "// 找到还没有用过中的数字的第k大\n",
    "int kth(int k) {\n",
    "    int res = 0;  // res记录小于k的最后一个位置\n",
    "    for(int i = m >> 1; i; i >>= 1)   // 以2进制逼近 # 实在是巧妙！！！res+i<m是可以确定的\n",
    "        if(c[res + i] < k) {\n",
    "            k -= c[res+i];#[]这个区间 \n",
    "            res += i;# \n",
    "        }\n",
    "    return res + 1;  // 因为返回的是前一个位置\n",
    "}\n",
    "\n",
    "# 权值树状数组查询第 k 小\n",
    "// 权值树状数组查询第 k 小\n",
    "int kth(int k) {\n",
    "  int sum = 0, x = 0;\n",
    "  for (int i = log2(n); ~i; --i) { # 1<<i是上面的i\n",
    "    x += 1 << i;                      // 尝试扩展\n",
    "    if (x >= n || sum + t[x] >= k)  // 如果扩展失败\n",
    "      x -= 1 << i;\n",
    "    else\n",
    "      sum += t[x];\n",
    "  }\n",
    "  return x + 1;\n",
    "}"
   ]
  },
  {
   "attachments": {},
   "cell_type": "markdown",
   "metadata": {},
   "source": [
    "### 注意oi wiki的算法和leetcode算法不一样leetcode从1开始\n",
    "### 接下来我要实现的板子有如下功能\n",
    "### 初始化O(n)\n",
    "### 单点加update O(nlog)\n",
    "### 求前缀和 O(nlog)\n",
    "### 求kth O(nlog)\n",
    "** 默认区间和为C[i],默认原始数组为a[i] **\n",
    "最重要的公式如下，\n",
    "对于每个c存在\n",
    "c[i]=[i-lowbit+1,i]"
   ]
  },
  {
   "attachments": {},
   "cell_type": "markdown",
   "metadata": {},
   "source": [
    "https://oi-wiki.org/ds/fenwick/#__comments"
   ]
  },
  {
   "attachments": {},
   "cell_type": "markdown",
   "metadata": {},
   "source": [
    "![.\\image\\树状数组.png](.\\image\\树状数组.png)"
   ]
  },
  {
   "cell_type": "code",
   "execution_count": 13,
   "metadata": {},
   "outputs": [
    {
     "name": "stdout",
     "output_type": "stream",
     "text": [
      "a[1] 1 c[1] 1 [0,1] 1\n",
      "a[2] 1 c[2] 2 [0,2] 2\n",
      "a[3] 1 c[3] 1 [0,3] 3\n",
      "a[4] 1 c[4] 4 [0,4] 4\n",
      "a[5] 1 c[5] 1 [0,5] 5\n",
      "0 4 len6\n",
      "0 2 len6\n",
      "if:i2 c2 k4\n",
      "2 1 len6\n",
      "if:i3 c1 k2\n",
      "4\n"
     ]
    }
   ],
   "source": [
    "class Solution():\n",
    "    def __init__(self,nums:list,LEN:int,):\n",
    "        self.c=[0 for _ in range(LEN+1)]\n",
    "        self.len=LEN+1\n",
    "        self.logn=0\n",
    "        while (1<<self.logn)<LEN:# 4=(1<<2)\n",
    "            self.logn+=1\n",
    "        self.logn-=1#(1<<1)=2\n",
    "        #O(n)级别初始化的方法前缀和\n",
    "        tmpSum=[0]*(LEN+1)\n",
    "        for i in range(1,LEN+1):\n",
    "            tmpSum[i]+=nums[i-1]+tmpSum[i-1]\n",
    "        for i in range(1,LEN+1):\n",
    "            self.c[i]=tmpSum[i]-tmpSum[i-self.lowbit(i)]\n",
    "\n",
    "    @staticmethod\n",
    "    def lowbit(x:int):\n",
    "        return x&-x\n",
    "    def update(self,idx:int,delta:int):# 从1开始\n",
    "        while idx<self.len:\n",
    "            self.c[idx]+=delta\n",
    "            idx+=self.lowbit(idx)\n",
    "    def prefixSum(self,idx:int):# 从1开始\n",
    "        res=0\n",
    "        while idx>0:\n",
    "            res+=self.c[idx]\n",
    "            idx-=self.lowbit(idx)\n",
    "        return res\n",
    "    def kth(self,k:int):#k倒是从0开始\n",
    "        # 有1代表可以选\n",
    "        res=0\n",
    "        i=1<<self.logn\n",
    "        while i>0:\n",
    "            print(res,i,f\"len{self.len}\")\n",
    "            if res+i<self.len and self.c[res+i]<k:# 符合条件哪么此时的res\n",
    "                print(f\"if:i{res+i} c{self.c[res+i]} k{k}\")\n",
    "                k=k-self.c[res+i]\n",
    "                res+=i\n",
    "            i=i>>1\n",
    "            # res 最后得到的结果为 c[res]\n",
    "        return res+1\n",
    "        \n",
    "            \n",
    "        \n",
    "test=[1,1,1,1,1]\n",
    "solution=Solution(test,len(test))\n",
    "# solution.update(1+1,1)# 一切从1开始,所以要加一\n",
    "# solution.update(2+1,1)\n",
    "for i in range(len(test)):\n",
    "    print(f\"a[{i+1}]\",solution.prefixSum(i+1)-solution.prefixSum(i),\n",
    "          f\"c[{i+1}]\",solution.c[i+1],\n",
    "          f\"[0,{i+1}]\",solution.prefixSum(i+1))\n",
    "print(solution.kth(4))#+1坐标系 从1开始 返回的坐标也是"
   ]
  },
  {
   "cell_type": "code",
   "execution_count": null,
   "metadata": {},
   "outputs": [],
   "source": []
  },
  {
   "cell_type": "code",
   "execution_count": null,
   "metadata": {},
   "outputs": [],
   "source": []
  }
 ],
 "metadata": {
  "kernelspec": {
   "display_name": "py38",
   "language": "python",
   "name": "python3"
  },
  "language_info": {
   "codemirror_mode": {
    "name": "ipython",
    "version": 3
   },
   "file_extension": ".py",
   "mimetype": "text/x-python",
   "name": "python",
   "nbconvert_exporter": "python",
   "pygments_lexer": "ipython3",
   "version": "3.8.13"
  },
  "orig_nbformat": 4,
  "vscode": {
   "interpreter": {
    "hash": "76c3c49e318b7c885b43daef0aa3cfe4eb22ade01aff18419595a86661fada18"
   }
  }
 },
 "nbformat": 4,
 "nbformat_minor": 2
}
