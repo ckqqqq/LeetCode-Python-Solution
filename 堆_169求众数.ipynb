{
 "cells": [
  {
   "cell_type": "code",
   "execution_count": null,
   "metadata": {},
   "outputs": [],
   "source": [
    "#方法一 字典\n",
    "# 空间和时间都是n\n",
    "#记得审题哟，第一次做错了\n",
    "class Solution:\n",
    "    def majorityElement(self, nums: List[int]) -> int:\n",
    "        dic={}\n",
    "        numMax=0\n",
    "        ans=0\n",
    "        for i in nums:\n",
    "            dic[i]=dic.get(i,0)+1\n",
    "            if numMax<dic[i]:\n",
    "                numMax=dic[i]\n",
    "                ans=i\n",
    "        return ans\n"
   ]
  },
  {
   "cell_type": "code",
   "execution_count": null,
   "metadata": {},
   "outputs": [],
   "source": [
    "#方法二 sort之后单计数，好处是空间复杂度只有一\n",
    "n\n",
    "X"
   ]
  },
  {
   "cell_type": "code",
   "execution_count": null,
   "metadata": {},
   "outputs": [],
   "source": [
    "a=map()\n"
   ]
  }
 ],
 "metadata": {
  "language_info": {
   "name": "python"
  },
  "orig_nbformat": 4
 },
 "nbformat": 4,
 "nbformat_minor": 2
}
