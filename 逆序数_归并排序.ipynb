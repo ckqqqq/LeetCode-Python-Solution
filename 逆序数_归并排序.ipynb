{
 "cells": [
  {
   "cell_type": "code",
   "execution_count": 15,
   "metadata": {},
   "outputs": [
    {
     "name": "stdout",
     "output_type": "stream",
     "text": [
      "[1, 2, 3, 3, 4]\n",
      "3\n"
     ]
    }
   ],
   "source": [
    "# 使用归并排序求逆序数\n",
    "from typing import List\n",
    "def main_algorithm(nums:list):\n",
    "    tmp=[0 for _ in range(len(nums))]\n",
    "    inversion_cnt=div_arr(nums,tmp,0,len(nums)-1)#left和right分别是左边指针和右边指针\n",
    "    print(nums)\n",
    "    return inversion_cnt\n",
    "# [0,1] \n",
    "def merge_sort(nums:List,tmp:List,left,mid,right)->int: # 归并排序求逆序对\n",
    "    # 假设两边是有序的 [left,mid] [mid+1,right]\n",
    "    i,j=left,mid+1#这里搞错了  把j的初始值搞错了应该是mid+1不是mid\n",
    "    k=left\n",
    "    inversion_cnt=0\n",
    "    while i<=mid and j<=right:\n",
    "        if nums[i]<=nums[j]:# \n",
    "            tmp[k]=nums[i]\n",
    "            k+=1\n",
    "            i+=1\n",
    "        else:#nums[i]>=nums[j]\n",
    "            tmp[k]=nums[j]\n",
    "            k+=1\n",
    "            j+=1\n",
    "            inversion_cnt+=mid-i+1\n",
    "    while i<=mid :\n",
    "        tmp[k]=nums[i]\n",
    "        k+=1\n",
    "        i+=1\n",
    "    while j<=right:\n",
    "        tmp[k]=nums[j]\n",
    "        k+=1\n",
    "        j+=1\n",
    "    for idx in range(left,right+1):\n",
    "        nums[idx]=tmp[idx]\n",
    "    return inversion_cnt\n",
    "def div_arr(nums:list,tmp:list,left,right)->int:# 分治\n",
    "    inversion_cnt=0\n",
    "    if left<right:\n",
    "        mid=(left+right)//2\n",
    "        inversion_cnt+=div_arr(nums,tmp,left,mid)\n",
    "        inversion_cnt+=div_arr(nums,tmp,mid+1,right)\n",
    "        inversion_cnt+=merge_sort(nums,tmp,left,mid,right)\n",
    "    return inversion_cnt\n",
    "print(main_algorithm([3,2,1,3,4]))"
   ]
  }
 ],
 "metadata": {
  "kernelspec": {
   "display_name": "base",
   "language": "python",
   "name": "python3"
  },
  "language_info": {
   "codemirror_mode": {
    "name": "ipython",
    "version": 3
   },
   "file_extension": ".py",
   "mimetype": "text/x-python",
   "name": "python",
   "nbconvert_exporter": "python",
   "pygments_lexer": "ipython3",
   "version": "3.9.12"
  },
  "orig_nbformat": 4,
  "vscode": {
   "interpreter": {
    "hash": "7b93ae2ddedcfb4b7ddebf80c8c7984044339b2e43f10e14b9461f3e640893f2"
   }
  }
 },
 "nbformat": 4,
 "nbformat_minor": 2
}
