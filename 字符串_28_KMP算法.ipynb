{
 "cells": [
  {
   "cell_type": "code",
   "execution_count": 31,
   "metadata": {},
   "outputs": [
    {
     "name": "stdout",
     "output_type": "stream",
     "text": [
      "[-1, -1, 0, 1]\n",
      "i0,j-1\n",
      "i1,j-1\n",
      "i2,j-1\n",
      "i3,j0\n",
      "i4,j1\n",
      "i5,j2\n",
      "3\n"
     ]
    }
   ],
   "source": []
  },
  {
   "cell_type": "code",
   "execution_count": 11,
   "metadata": {},
   "outputs": [
    {
     "name": "stdout",
     "output_type": "stream",
     "text": [
      "0 0 p p\n",
      "1 0 p p\n",
      "2 1 i i\n",
      "1\n"
     ]
    }
   ],
   "source": [
    "def initial(sub:str):\n",
    "    LEN=len(sub)\n",
    "    next=[-1]*LEN #\n",
    "    i,j=0,-1\n",
    "    for i in range(1,LEN):# i这里重要\n",
    "        while j!=-1 and sub[i]!=sub[j+1]:# 如果不等，贪心找前面相等的\n",
    "            j=next[j]# j不断前移\n",
    "        if sub[i]==sub[j+1]:#如果当前字符相等\n",
    "            j=j+1\n",
    "        next[i]=j# 赋予其值 \n",
    "    return next\n",
    "def KMP(target:str,sub:str):\n",
    "    LEN1,LEN2=len(target),len(sub)\n",
    "    next=initial(sub)# next[j]=前面相同字符的序号\n",
    "    i,j=0,-1\n",
    "    for i in range(LEN1):\n",
    "        while j!=-1 and target[i]!=sub[j+1]:\n",
    "            j=next[j]\n",
    "        if target[i]==sub[j+1]:\n",
    "            j=j+1#下一步判断的 \n",
    "        print(i,j,target[i],sub[j])\n",
    "        if j+1==LEN2:#如果下一轮循环越界\n",
    "            break\n",
    "    if j+1==LEN2:# 此时的i还在最后一个字母\n",
    "        return i+1-LEN2\n",
    "    else:\n",
    "        return -1\n",
    "print(KMP(\"ppi\",\"pi\")) \n",
    "\n",
    "    "
   ]
  },
  {
   "cell_type": "code",
   "execution_count": 17,
   "metadata": {},
   "outputs": [
    {
     "name": "stdout",
     "output_type": "stream",
     "text": [
      "[-1, -1, -1, 0, 1, -1]\n",
      "3\n"
     ]
    }
   ],
   "source": [
    "#再次写\n",
    "class Solution():\n",
    "    def KMP(self,target:str,sub:str):\n",
    "        def initial(s):\n",
    "            next=[-1]*len(s)\n",
    "            i,j=1,-1\n",
    "            for i in range(1,len(s)):# 这里注意不能相等\n",
    "                while j!=-1 and s[i]!=s[j+1]:#如果不等\n",
    "                    j=next[j]\n",
    "                if s[i]==s[j+1]:\n",
    "                    j=j+1\n",
    "                else:\n",
    "                    j=-1\n",
    "                next[i]=j#这里要小心 j代表了最新比较之后的结果\n",
    "            return next\n",
    "        LEN1,LEN2=len(target),len(sub)\n",
    "        next=initial(sub)\n",
    "        print(next)\n",
    "        i,j=0,-1\n",
    "        for i in range(0,LEN1):\n",
    "            while j!=-1 and sub[j+1]!=target[i]:#前移\n",
    "                j=next[j]\n",
    "            if sub[j+1]==target[i]:\n",
    "                j=j+1#后移\n",
    "            if j+1==LEN2:\n",
    "                return i-LEN2+1\n",
    "        if i<LEN1:\n",
    "            return -1\n",
    "solution=Solution()\n",
    "print(solution.KMP(\"abcabcabd\",\"abcabd\"))                        "
   ]
  },
  {
   "cell_type": "code",
   "execution_count": 30,
   "metadata": {},
   "outputs": [
    {
     "name": "stdout",
     "output_type": "stream",
     "text": [
      "[-1, -1, -1, 0, 1, 2, -1]\n",
      "3\n"
     ]
    }
   ],
   "source": [
    "# 再次写\n",
    "class Solution:\n",
    "    def strStr(self, haystack: str, needle: str) -> int:\n",
    "        #KMP\n",
    "        def initial(s):\n",
    "            next=[-1]*len(s)\n",
    "            i,j=1,-1\n",
    "            for i in range(1,len(s)):\n",
    "                while j!=-1 and s[j+1]!=s[i]:#打错了\n",
    "                    j=next[j]\n",
    "                #不等 前移\n",
    "                #相等 新值\n",
    "                if s[j+1]==s[i]:\n",
    "                    j=j+1# j\n",
    "                else:\n",
    "                    assert j==-1,\"lg\"\n",
    "                next[i]=j\n",
    "            return next\n",
    "        LEN1,LEN2=len(haystack),len(needle)\n",
    "        next=initial(needle)\n",
    "        print(next)\n",
    "        i,j=0,-1\n",
    "        for i in range(LEN1):\n",
    "            #!=\n",
    "            while j!=-1 and haystack[i]!=needle[j+1]:\n",
    "                j=next[j]\n",
    "            #==\n",
    "            if haystack[i]==needle[j+1]:\n",
    "                j=j+1\n",
    "            if j+1==LEN2:\n",
    "                break\n",
    "        if j+1==LEN2:\n",
    "            return i-LEN2+1\n",
    "        else:\n",
    "            return -1            \n",
    "            #i=i+1\n",
    "solution=Solution()\n",
    "print(solution.strStr(\"abcabcabcd\",\"abcabcd\"))             "
   ]
  },
  {
   "cell_type": "code",
   "execution_count": 34,
   "metadata": {},
   "outputs": [
    {
     "name": "stdout",
     "output_type": "stream",
     "text": [
      "3\n"
     ]
    }
   ],
   "source": [
    "# 再次写 忘记返回next 忘记定义i和j\n",
    "def initial(s):\n",
    "    next=[-1]*len(s)\n",
    "    i,j=1,-1\n",
    "    for i in range(1,len(s)):\n",
    "        # != or -1\n",
    "        while j!=-1 and s[i]!=s[j+1]:\n",
    "            j=next[j]\n",
    "        #==\n",
    "        if s[i]==s[j+1]:\n",
    "            j=j+1\n",
    "        next[i]=j\n",
    "    return next\n",
    "def KMP(target,sub):\n",
    "    LEN1,LEN2=len(target),len(sub)\n",
    "    next=initial(sub)\n",
    "    i,j=0,-1\n",
    "    for i in range(LEN1):\n",
    "        #!=\n",
    "        while j!=-1 and target[i]!=sub[j+1]:\n",
    "            j=next[j]\n",
    "        #==\n",
    "        if target[i]==sub[j+1]:\n",
    "            j=j+1 #i=i+1\n",
    "        if j+1==LEN2:\n",
    "            break\n",
    "    if j+1==LEN2:\n",
    "        return i-LEN2+1\n",
    "    else:\n",
    "        return -1\n",
    "print(KMP(\"abcabcabd\",\"abcabd\"))             "
   ]
  },
  {
   "cell_type": "code",
   "execution_count": 18,
   "metadata": {},
   "outputs": [
    {
     "name": "stdout",
     "output_type": "stream",
     "text": [
      "3\n"
     ]
    }
   ],
   "source": [
    "for i in range(4):\n",
    "    pass\n",
    "print(i)"
   ]
  },
  {
   "cell_type": "code",
   "execution_count": null,
   "metadata": {},
   "outputs": [],
   "source": [
    "def KMP(text, pattern):\n",
    "    n, m = len(text), len(pattern)\n",
    "    # 预处理next数组\n",
    "    next = [-1] * m\n",
    "    j = -1\n",
    "    for i in range(1, m):\n",
    "        # 如果不匹配，则j回溯到next[j]\n",
    "        while j != -1 and pattern[j + 1] != pattern[i]:\n",
    "            j = next[j]\n",
    "        # 如果匹配，则j加1\n",
    "        if pattern[j + 1] == pattern[i]:\n",
    "            j += 1\n",
    "        next[i] = j\n",
    "    # 匹配\n",
    "    j = -1\n",
    "    for i in range(n):\n",
    "        # 如果不匹配，则j回溯到next[j]\n",
    "        while j != -1 and pattern[j + 1] != text[i]:\n",
    "            j = next[j]\n",
    "        # 如果匹配，则j加1\n",
    "        if pattern[j + 1] == text[i]:\n",
    "            j += 1\n",
    "        if j == m - 1:\n",
    "            #如果整个模式串都匹配上了，返回第一个匹配的位置\n",
    "            return i - m + 1\n",
    "    #没有匹配到\n",
    "    return -1\n"
   ]
  },
  {
   "cell_type": "code",
   "execution_count": null,
   "metadata": {},
   "outputs": [],
   "source": [
    "class Solution:# python hhhhh 这个方法在实践中还比KMP快点 O(mn) kmpO(m+n)\n",
    "    def strStr(self, haystack: str, needle: str) -> int:\n",
    "        l, r = 0, len(needle) - 1\n",
    "\n",
    "        while r < len(haystack):\n",
    "            if haystack[l : r + 1] == needle:\n",
    "                return l\n",
    "            else:\n",
    "                l += 1\n",
    "                r += 1\n",
    "        return -1\n",
    "        # Time: \n",
    "        # Space:"
   ]
  },
  {
   "attachments": {},
   "cell_type": "markdown",
   "metadata": {},
   "source": [
    "**为什么next数组要初始化为-1而不是0啊**\n",
    "\n",
    "next数组在KMP算法中表示的是当前字符之前的最长公共前后缀的长度。在预处理next数组时，初始化为-1是因为在匹配过程中，如果匹配失败，j会回到next[j]的位置继续匹配，如果next[j]初始化为0，那么j会回到0位置，这样会增加不必要的回溯次数，影响算法效率。而初始化为-1，那么在匹配失败时，j会回到-1位置，这样就能够避免不必要的回溯。\n",
    "\n",
    "另外，在KMP算法中，next数组初始化为-1也有其他含义，当j = -1时，表示不存在公共前后缀，在匹配过程中，j会从-1开始匹配，这样可以保证每个字符都能被匹配。\n",
    "\n",
    "这个代码是 KMP 算法的标准实现之一，next数组初始化为-1是为了避免不必要的回溯，这也是 KMP 算法的核心思想。\n",
    "\n",
    "有一种实现方式是 next 数组初始化为0。\n",
    "实现方式是在预处理next数组时初始化为0, 如果匹配失败，则j会回到next[j]的位置继续匹配，如果next[j]初始化为0，那么j会回到0位置，这样会增加不必要的回溯次数，影响算法效率。但是实际上这样的实现方式是可以的，并且在部分情况下更加简单易懂。\n",
    "\n",
    "总之，KMP算法的实现方式有很多种，不同的实现方式有不同的优缺点，根据具体需求来选择最合适的实现方式。"
   ]
  },
  {
   "cell_type": "code",
   "execution_count": null,
   "metadata": {},
   "outputs": [],
   "source": [
    "def KMP(text, pattern): #GPT生成的\n",
    "    n, m = len(text), len(pattern)\n",
    "    # 预处理next数组\n",
    "    next = [-1] * m\n",
    "    j = -1\n",
    "    for i in range(1, m):\n",
    "        # 如果不匹配，则j回溯到next[j]\n",
    "        while j != -1 and pattern[j + 1] != pattern[i]:# 最长公共后缀的长度\n",
    "            #next数组在KMP算法中表示的是当前字符之前的最长公共前后缀的长度\n",
    "            j = next[j]\n",
    "        # 如果匹配，则j加1\n",
    "        if pattern[j + 1] == pattern[i]:# 这个值代表j+1==i\n",
    "            j = j+1\n",
    "        next[i] = j\n",
    "    print(next)\n",
    "    # 匹配\n",
    "    j,i= -1,0\n",
    "    while i<n and j+1<m:\n",
    "        print(f\"i{i},j{j}\")\n",
    "        # 如果不匹配，则j回溯到next[j],j+1代表当前匹配的字符\n",
    "        while j != -1 and pattern[j + 1] != text[i]:# 从长到短找相同的子串\n",
    "            j = next[j] #之前已经匹配的回到与j相同的序号那里\n",
    "            # 如果匹配，则j加1\n",
    "        if pattern[j + 1] == text[i]:\n",
    "            j,i=j+1,i+1\n",
    "        elif j==-1:\n",
    "            j,i=-1,i+1\n",
    "        #否则就是j==-1\n",
    "    if j+1 == m:# \n",
    "        #如果整个模式串都匹配上了，返回第一个匹配的位置\n",
    "        return i - m + 1\n",
    "    #没有匹配到\n",
    "    else:\n",
    "        return -1\n",
    "print(KMP(\"ppipip\",\"ipip\"))"
   ]
  },
  {
   "cell_type": "code",
   "execution_count": 9,
   "metadata": {},
   "outputs": [
    {
     "name": "stdout",
     "output_type": "stream",
     "text": [
      "[0, 0, 0, 0, 0, 0]\n",
      "(False, 10, 0, 10)\n",
      "[0, 0]\n",
      "(True, 3, 2, 1)\n",
      "[0, 0, 0, 0, 0, 0, 0]\n",
      "(False, 11, 0, 11)\n"
     ]
    }
   ],
   "source": [
    "def initial(sub,nums):\n",
    "    i,j,LEN=0,0,len(nums)\n",
    "    while i<LEN:\n",
    "        if sub[i]!=sub[j]:\n",
    "            if j!=0:\n",
    "                nums[i]=nums[j]\n",
    "            i,j=i+1,0\n",
    "        elif sub[i]==sub[j] and j<i:# 這一步是bug\n",
    "            i,j=i+1,j+1\n",
    "        elif sub[i]==sub[j] and j==i:# 忘記判斷這裏,如果I=J那么就不太行\n",
    "            i,j=i+1,0\n",
    "    print(nums)\n",
    "def KMP(target:str,sub:str):\n",
    "    TLEN,SLEN=len(target),len(sub)\n",
    "    nums=[0 for _ in range(SLEN)]\n",
    "    initial(sub,nums)\n",
    "    i,j=0,0\n",
    "    while i<TLEN and j<SLEN:\n",
    "        # print(f\"i:{i} j:{j}\")\n",
    "        if target[i]==sub[j]:\n",
    "            i,j=i+1,j+1\n",
    "        elif target[i]!=sub[j]:\n",
    "            if j==0:\n",
    "                i,j=i+1,0\n",
    "            else:\n",
    "                i,j=i,nums[j]\n",
    "                # print(i,target[i],j,nums)\n",
    "    if j>=SLEN:\n",
    "        return True,i,j,i-j\n",
    "    else:\n",
    "        return False,i,j,i-j\n",
    "print(KMP(\"dabcabcabd\",\"abcabd\"))\n",
    "print(KMP(\"PPI\",\"PI\"))\n",
    "print(KMP(\"aabaaabaaac\",\"aabaaac\"))"
   ]
  },
  {
   "cell_type": "code",
   "execution_count": null,
   "metadata": {},
   "outputs": [],
   "source": []
  }
 ],
 "metadata": {
  "kernelspec": {
   "display_name": "base",
   "language": "python",
   "name": "python3"
  },
  "language_info": {
   "codemirror_mode": {
    "name": "ipython",
    "version": 3
   },
   "file_extension": ".py",
   "mimetype": "text/x-python",
   "name": "python",
   "nbconvert_exporter": "python",
   "pygments_lexer": "ipython3",
   "version": "3.9.12"
  },
  "orig_nbformat": 4,
  "vscode": {
   "interpreter": {
    "hash": "7b93ae2ddedcfb4b7ddebf80c8c7984044339b2e43f10e14b9461f3e640893f2"
   }
  }
 },
 "nbformat": 4,
 "nbformat_minor": 2
}
