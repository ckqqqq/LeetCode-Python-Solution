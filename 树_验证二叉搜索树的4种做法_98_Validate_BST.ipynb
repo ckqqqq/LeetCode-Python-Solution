{
 "cells": [
  {
   "attachments": {},
   "cell_type": "markdown",
   "metadata": {},
   "source": [
    "什么是二次搜索树\n",
    "二叉搜索树就是中序遍历后从小到大的树！！！"
   ]
  },
  {
   "cell_type": "markdown",
   "metadata": {},
   "source": [
    "https://leetcode.com/problems/validate-binary-search-tree/\n",
    "98. Validate Binary Search Tree\n",
    "Medium\n",
    "\n",
    "12199\n",
    "\n",
    "991\n",
    "\n",
    "Add to List\n",
    "\n",
    "Share\n",
    "Given the root of a binary tree, determine if it is a valid binary search tree (BST).\n",
    "\n",
    "A valid BST is defined as follows:\n",
    "\n",
    "The left subtree of a node contains only nodes with keys less than the node's key.\n",
    "The right subtree of a node contains only nodes with keys greater than the node's key.\n",
    "Both the left and right subtrees must also be binary search trees.\n",
    " \n",
    "\n",
    "Example 1:\n",
    "Input: root = [2,1,3]\n",
    "Output: true\n",
    "\n",
    "Example 2:\n",
    "Input: root = [5,1,4,null,null,3,6]\n",
    "Output: false\n",
    "Explanation: The root node's value is 5 but its right child's value is 4.\n",
    "Constraints:\n",
    "The number of nodes in the tree is in the range [1, 104].\n",
    "-231 <= Node.val <= 231 - 1\n",
    "Accepted\n",
    "1,632,281\n",
    "Submissions\n",
    "5,183,286"
   ]
  },
  {
   "cell_type": "markdown",
   "metadata": {},
   "source": []
  },
  {
   "cell_type": "markdown",
   "metadata": {},
   "source": []
  },
  {
   "cell_type": "markdown",
   "metadata": {},
   "source": [
    "      2\n",
    "  1      3\n",
    "0.5 2"
   ]
  },
  {
   "cell_type": "code",
   "execution_count": null,
   "metadata": {},
   "outputs": [],
   "source": []
  },
  {
   "cell_type": "markdown",
   "metadata": {},
   "source": [
    "# 思路\n",
    "左子树的最大值小于root，右子数的最小值大于root\n",
    "# 在代码实现上还是有问题\n",
    "主要问题，让外界的flag可能赋值为true\n",
    "次要问题，没有考虑子节点和根节点相等的方法"
   ]
  },
  {
   "cell_type": "code",
   "execution_count": null,
   "metadata": {},
   "outputs": [],
   "source": [
    "# Definition for a binary tree node.\n",
    "import re\n",
    "from typing import Optional \n",
    "class TreeNode:\n",
    "    def __init__(self, val=0, left=None, right=None):\n",
    "        self.val = val\n",
    "        self.left = left\n",
    "        self.right = right\n",
    "class Solution:\n",
    "    def isValidBST(self, root: Optional[TreeNode]) -> bool:\n",
    "        self.flag=True\n",
    "        def BSTDFS(root: TreeNode):\n",
    "            if self.flag:\n",
    "                minNumLeft,maxNumRight=root.val,root.val\n",
    "                if root.left!=None:\n",
    "                    minNumLeft,maxNumLeft=BSTDFS(root.left)\n",
    "                    if maxNumLeft>=root.val:#次要问题，没有考虑子节点和根节点相等的方法，主要这个等号，这个也是不合法的\n",
    "                        self.flag=False\n",
    "                if root.right!=None:\n",
    "                    minNumRight,maxNumRight=BSTDFS(root.right)\n",
    "                    # self.flag=minNumRight>root.val#不能这样写 因为flag可能被赋值为True\n",
    "                    if root.val>=minNumRight:\n",
    "                        self.flag=False#这个flag只能赋值为false 不能赋值为true\n",
    "                return minNumLeft,maxNumRight\n",
    "            else:#not illegal\n",
    "                return root.val,root.val\n",
    "        BSTDFS(root)\n",
    "        return self.flag\n",
    "             "
   ]
  },
  {
   "cell_type": "markdown",
   "metadata": {},
   "source": [
    "###### 事实上我的写法复杂了\n",
    "如果要求左子树的最小值<root<右子树的最大值\n",
    "因为是中序遍历所以可以这样子约束\n",
    "在遍历左子树时，左子树不能大于根的值（限定上界）\n",
    "在遍历右子树时，右边的值不能小于当前根的值（限定下界）"
   ]
  },
  {
   "cell_type": "code",
   "execution_count": null,
   "metadata": {},
   "outputs": [],
   "source": [
    "# Definition for a binary tree node.\n",
    "import re\n",
    "from typing import Optional \n",
    "class TreeNode:\n",
    "    def __init__(self, val=0, left=None, right=None):\n",
    "        self.val = val\n",
    "        self.left = left\n",
    "        self.right = right\n",
    "class Solution:\n",
    "    def isValidBST(self, root: Optional[TreeNode]) -> bool:\n",
    "        self.flag=True\n",
    "        def BSTDFS(root: TreeNode):\n",
    "            if self.flag:\n",
    "                minNumLeft,maxNumRight=root.val,root.val\n",
    "                if root.left!=None:\n",
    "                    minNumLeft,maxNumLeft=BSTDFS(root.left)\n",
    "                    if maxNumLeft>=root.val:#次要问题，没有考虑子节点和根节点相等的方法，主要这个等号，这个也是不合法的\n",
    "                        self.flag=False\n",
    "                if root.right!=None:\n",
    "                    minNumRight,maxNumRight=BSTDFS(root.right)\n",
    "                    # self.flag=minNumRight>root.val#不能这样写 因为flag可能被赋值为True\n",
    "                    if root.val>=minNumRight:\n",
    "                        self.flag=False#这个flag只能赋值为false 不能赋值为true\n",
    "                return minNumLeft,maxNumRight\n",
    "            else:#not illegal\n",
    "                return root.val,root.val\n",
    "        BSTDFS(root)\n",
    "        return self.flag\n",
    "             "
   ]
  },
  {
   "cell_type": "markdown",
   "metadata": {},
   "source": [
    "###### 你这个中序遍历也写复杂了\n",
    "其实只需要在中序遍历时，判断是否是上一个节点比当前节点小就行了"
   ]
  },
  {
   "cell_type": "markdown",
   "metadata": {},
   "source": [
    "# 我一开始的写法解决思路:比较简单的写法，稍稍慢那么一点点\n",
    "直接中序遍历，中序遍历的结果是升序的\n",
    "BST 的定义之一就是中序遍历是递增数列\n",
    "空间为O（n）"
   ]
  },
  {
   "cell_type": "code",
   "execution_count": null,
   "metadata": {},
   "outputs": [],
   "source": [
    "# Definition for a binary tree node.\n",
    "import re\n",
    "from typing import Optional \n",
    "class TreeNode:\n",
    "    def __init__(self, val=0, left=None, right=None):\n",
    "        self.val = val\n",
    "        self.left = left\n",
    "        self.right = right\n",
    "class Solution:\n",
    "    def isValidBST(self, root: Optional[TreeNode]) -> bool:\n",
    "        def BSTDFS(root: TreeNode,upBound:int,lowBound:int):\n",
    "            if root==None:\n",
    "                return True\n",
    "            #写法一\n",
    "            #遍历左子树,左子树都要比当前根小\n",
    "            # if False==lowBound<root.val<upBound:#这样root的up和down就得设为无穷大和无穷小\n",
    "            #     return False \n",
    "            #如果不想让up和low设为无穷小，可以判空,不过要小心等号\n",
    "            if upBound!=None and upBound<=root.val:\n",
    "                return False\n",
    "            if lowBound!=None and lowBound>=root.val:\n",
    "                return False\n",
    "            return BSTDFS(root.left,root.val,lowBound)  and BSTDFS(root.right,upBound,root.val) \n",
    "        #直接return与之后的结果可以节省一个变量 \n",
    "        return BSTDFS(root,None,None)           \n"
   ]
  },
  {
   "cell_type": "markdown",
   "metadata": {},
   "source": [
    "#### 事实上不需要开这个O（n）的空间"
   ]
  },
  {
   "cell_type": "code",
   "execution_count": 1,
   "metadata": {},
   "outputs": [],
   "source": [
    "# Definition for a binary tree node.\n",
    "import re\n",
    "from typing import Optional \n",
    "class TreeNode:\n",
    "    def __init__(self, val=0, left=None, right=None):\n",
    "        self.val = val\n",
    "        self.left = left\n",
    "        self.right = right\n",
    "class Solution:\n",
    "    def isValidBST(self, root: Optional[TreeNode]) -> bool:\n",
    "        self.prev=None\n",
    "        def LDR_DFS(root: TreeNode):\n",
    "            if root==None:\n",
    "                return True\n",
    "            if False==LDR_DFS(root.left): \n",
    "                return False\n",
    "            if self.prev!=None and self.prev>=root.val:\n",
    "                return False\n",
    "            self.prev=root.val\n",
    "            return LDR_DFS(root.right)\n",
    "        return LDR_DFS(root)\n",
    "             "
   ]
  },
  {
   "cell_type": "code",
   "execution_count": 6,
   "metadata": {},
   "outputs": [
    {
     "name": "stdout",
     "output_type": "stream",
     "text": [
      "False\n"
     ]
    }
   ],
   "source": [
    "\n",
    "print(False==None>3)#牛逼不牛逼，所以别再这样用了！,\n",
    "#None>3==error 而error！=false"
   ]
  },
  {
   "cell_type": "code",
   "execution_count": 9,
   "metadata": {},
   "outputs": [
    {
     "name": "stdout",
     "output_type": "stream",
     "text": [
      "True True\n"
     ]
    }
   ],
   "source": [
    "print(True==1<3,True<3)"
   ]
  },
  {
   "cell_type": "code",
   "execution_count": 5,
   "metadata": {},
   "outputs": [
    {
     "ename": "TypeError",
     "evalue": "'>' not supported between instances of 'NoneType' and 'int'",
     "output_type": "error",
     "traceback": [
      "\u001b[1;31m---------------------------------------------------------------------------\u001b[0m",
      "\u001b[1;31mTypeError\u001b[0m                                 Traceback (most recent call last)",
      "\u001b[1;32md:\\Code\\Python\\Leetcode\\树_验证二叉搜索树_98_Validate_BST.ipynb Cell 15\u001b[0m in \u001b[0;36m<cell line: 1>\u001b[1;34m()\u001b[0m\n\u001b[1;32m----> <a href='vscode-notebook-cell:/d%3A/Code/Python/Leetcode/%E6%A0%91_%E9%AA%8C%E8%AF%81%E4%BA%8C%E5%8F%89%E6%90%9C%E7%B4%A2%E6%A0%91_98_Validate_BST.ipynb#X22sZmlsZQ%3D%3D?line=0'>1</a>\u001b[0m \u001b[39mprint\u001b[39m(\u001b[39mNone\u001b[39;49;00m\u001b[39m>\u001b[39;49m\u001b[39m3\u001b[39;49m)\n",
      "\u001b[1;31mTypeError\u001b[0m: '>' not supported between instances of 'NoneType' and 'int'"
     ]
    }
   ],
   "source": [
    "print(None>3)"
   ]
  }
 ],
 "metadata": {
  "kernelspec": {
   "display_name": "Python 3.8.13 ('py38')",
   "language": "python",
   "name": "python3"
  },
  "language_info": {
   "codemirror_mode": {
    "name": "ipython",
    "version": 3
   },
   "file_extension": ".py",
   "mimetype": "text/x-python",
   "name": "python",
   "nbconvert_exporter": "python",
   "pygments_lexer": "ipython3",
   "version": "3.8.13 | packaged by conda-forge | (default, Mar 25 2022, 05:59:00) [MSC v.1929 64 bit (AMD64)]"
  },
  "orig_nbformat": 4,
  "vscode": {
   "interpreter": {
    "hash": "76c3c49e318b7c885b43daef0aa3cfe4eb22ade01aff18419595a86661fada18"
   }
  }
 },
 "nbformat": 4,
 "nbformat_minor": 2
}
