{
 "cells": [
  {
   "cell_type": "code",
   "execution_count": 7,
   "metadata": {},
   "outputs": [
    {
     "name": "stdout",
     "output_type": "stream",
     "text": [
      "[[0, 1, 2, 3, 4, 0], [1, 0, 0, 0, 0, 0], [2, 0, 0, 0, 0, 0], [0, 0, 0, 0, 0, 0]]\n",
      "3\n"
     ]
    }
   ],
   "source": [
    "class Solution:\n",
    "    def minDistance(self, word1: str, word2: str) -> int:\n",
    "        if word1==word2:\n",
    "            return 0\n",
    "        dp=[[0]*(len(word1)+1) for _ in range(len(word2)+1)]\n",
    "        for i in range(1,len(word1)+1):\n",
    "            dp[0][i]=dp[0][i-1]+1\n",
    "        for i in range(1,len(word2)+1):#dp[][]代表变化到单词相等所需的变换次数\n",
    "            dp[i][0]=dp[i-1][0]+1\n",
    "        # print(dp)\n",
    "        for i in range(1,len(word2)+1):#记得这些+1，这种dp要小心超出len的部分\n",
    "            for j in range(1,len(word1)+1):\n",
    "                if word2[i-1]==word1[j-1]:#差一位\n",
    "                    dp[i][j]=dp[i-1][j-1]\n",
    "                else:\n",
    "                    dp[i][j]=min(dp[i-1][j-1],dp[i][j-1],dp[i-1][j])+1\n",
    "        return dp[len(word2)][len(word1)]\n",
    "if __name__==\"__main__\":\n",
    "    solution=Solution()\n",
    "    print(solution.minDistance(\"horse\",\"ros\"))"
   ]
  },
  {
   "cell_type": "markdown",
   "metadata": {},
   "source": [
    "     h  o  r  s  e\n",
    " [0, 1, 2, 3, 4, 5], \n",
    "o[1, 1, 2, 2, 0, 0], \n",
    "s[2, 0, 0, 0, 2, 0], \n",
    "e[3, 0, 0, 0, 0, 2],\n"
   ]
  }
 ],
 "metadata": {
  "kernelspec": {
   "display_name": "Python 3.8.13 ('py38')",
   "language": "python",
   "name": "python3"
  },
  "language_info": {
   "codemirror_mode": {
    "name": "ipython",
    "version": 3
   },
   "file_extension": ".py",
   "mimetype": "text/x-python",
   "name": "python",
   "nbconvert_exporter": "python",
   "pygments_lexer": "ipython3",
   "version": "3.8.13"
  },
  "orig_nbformat": 4,
  "vscode": {
   "interpreter": {
    "hash": "76c3c49e318b7c885b43daef0aa3cfe4eb22ade01aff18419595a86661fada18"
   }
  }
 },
 "nbformat": 4,
 "nbformat_minor": 2
}
