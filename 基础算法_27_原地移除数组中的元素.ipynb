{
 "cells": [
  {
   "cell_type": "code",
   "execution_count": 3,
   "metadata": {},
   "outputs": [
    {
     "name": "stdout",
     "output_type": "stream",
     "text": [
      "3 [1, 2, 4, 3, 4]\n"
     ]
    }
   ],
   "source": [
    "class Solution(object):\n",
    "    def removeElement(self,nums,val):#ps 原地修改\n",
    "        LEN=len(nums)\n",
    "        offset=0\n",
    "        for i in range(LEN):\n",
    "            if nums[i]==val:\n",
    "                offset+=1\n",
    "                continue\n",
    "            else:\n",
    "                nums[i-offset]=nums[i]\n",
    "        return LEN-offset"
   ]
  },
  {
   "cell_type": "code",
   "execution_count": null,
   "metadata": {},
   "outputs": [],
   "source": [
    "class Solution: # 更快的方法 \n",
    "  def removeElement(self, nums: List[int], val: int) -> int:\n",
    "    i = 0\n",
    "\n",
    "    for num in nums:\n",
    "      if num != val:\n",
    "        nums[i] = num\n",
    "        i += 1\n",
    "\n",
    "    return i"
   ]
  }
 ],
 "metadata": {
  "kernelspec": {
   "display_name": "base",
   "language": "python",
   "name": "python3"
  },
  "language_info": {
   "codemirror_mode": {
    "name": "ipython",
    "version": 3
   },
   "file_extension": ".py",
   "mimetype": "text/x-python",
   "name": "python",
   "nbconvert_exporter": "python",
   "pygments_lexer": "ipython3",
   "version": "3.9.12 (main, Apr  4 2022, 05:22:27) [MSC v.1916 64 bit (AMD64)]"
  },
  "orig_nbformat": 4,
  "vscode": {
   "interpreter": {
    "hash": "7b93ae2ddedcfb4b7ddebf80c8c7984044339b2e43f10e14b9461f3e640893f2"
   }
  }
 },
 "nbformat": 4,
 "nbformat_minor": 2
}
