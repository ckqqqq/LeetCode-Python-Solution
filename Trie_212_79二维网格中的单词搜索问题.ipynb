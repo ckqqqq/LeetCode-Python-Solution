{
 "cells": [
  {
   "cell_type": "code",
   "execution_count": 23,
   "metadata": {},
   "outputs": [
    {
     "name": "stdout",
     "output_type": "stream",
     "text": [
      "False\n"
     ]
    }
   ],
   "source": [
    "# 79 题 top1方法.\n",
    "#\n",
    "from collections import Counter, defaultdict\n",
    "from typing import List\n",
    "class Solution:\n",
    "    def exist(self, board: List[List[str]], word: str) -> bool:\n",
    "        wordEncd = Counter(word)\n",
    "        m, n = len(board), len(board[0])\n",
    "        dic = defaultdict(set)\n",
    "\n",
    "        for i in range(m):\n",
    "            for j in range(n):\n",
    "                if board[i][j] in wordEncd:# 其快速的核心在于将使用了类似Count这样的玩意+花里胡哨的减枝\n",
    "                    dic[board[i][j]].add((i, j))\n",
    "\n",
    "        if len(wordEncd) != len(dic): \n",
    "            return False#如果map中的字符不全\n",
    "\n",
    "        for ch, count in wordEncd.items():# 剪枝\n",
    "            if len(dic[ch]) < count:# 如果map中的字符不够\n",
    "                return False\n",
    "\n",
    "        if len(dic[word[-1]]) < len(dic[word[0]]):#减枝\n",
    "            word = word[::-1]# 正反处理,从较少的一端开始\n",
    "\n",
    "        length = len(word)\n",
    "        def dfs(cord, indx):\n",
    "            if indx == length: \n",
    "                return True\n",
    "            ch = word[indx]\n",
    "            i, j = cord\n",
    "            for cand in [(i - 1, j), (i, j - 1), (i, j + 1), (i + 1, j)]: #可学习的一点\n",
    "                if cand in dic[ch]:#非常巧妙,dic中存了可能的路线\n",
    "                    dic[ch].remove(cand)\n",
    "                    if dfs(cand, indx + 1):  return True\n",
    "                    dic[ch].add(cand)\n",
    "            return False\n",
    "\n",
    "        for cord in list(dic[word[0]]):\n",
    "            dic[word[0]].remove(cord)\n",
    "            if dfs(cord, 1): return True\n",
    "            dic[word[0]].add(cord)\n",
    "\n",
    "        return False\n",
    "if __name__==\"__main__\":\n",
    "    solution=Solution()\n",
    "    print(solution.exist([[\"A\",\"B\",\"C\",\"E\"],\n",
    "                          [\"S\",\"F\",\"C\",\"S\"],\n",
    "                          [\"A\",\"D\",\"E\",\"E\"]],word=\"ABCB\"))"
   ]
  },
  {
   "cell_type": "code",
   "execution_count": 22,
   "metadata": {},
   "outputs": [
    {
     "name": "stdout",
     "output_type": "stream",
     "text": [
      "False\n"
     ]
    }
   ],
   "source": [
    "# 79 题 重做\n",
    "# 二维 DFS带vis数组\n",
    "from typing import List\n",
    "class Solution:\n",
    "    def exist(self, board: List[List[str]], word: str) -> bool:\n",
    "        ROW=len(board)\n",
    "        COL=len(board[0])\n",
    "        dx=(0,0,1,-1)\n",
    "        dy=(-1,1,0,0)\n",
    "        isVis=[[0 for _ in range(COL)] for _ in range(ROW)]\n",
    "        def dfs(x,y,index):\n",
    "            if index==len(word):\n",
    "                return True\n",
    "            if x<ROW and x>=0 and y<COL and y>=0:\n",
    "                if board[x][y]==word[index] and not isVis[x][y]:\n",
    "                    isVis[x][y]=1\n",
    "                    for i in range(4):\n",
    "                        if dfs(x+dx[i],y+dy[i],index+1):#有index满足\n",
    "                            print(x,y)\n",
    "                            return True\n",
    "                    isVis[x][y]=0\n",
    "            #最后选择\n",
    "            return False\n",
    "    \n",
    "        for i in range(ROW):\n",
    "            for j in range(COL):\n",
    "                if board[i][j]==word[0]:\n",
    "                    if dfs(i,j,0):\n",
    "                        return True\n",
    "        return False\n",
    "if __name__==\"__main__\":\n",
    "    solution=Solution()\n",
    "    print(solution.exist([[\"A\",\"B\",\"C\",\"E\"],\n",
    "                          [\"S\",\"F\",\"C\",\"S\"],\n",
    "                          [\"A\",\"D\",\"E\",\"E\"]],word=\"ABCB\"))"
   ]
  },
  {
   "cell_type": "code",
   "execution_count": 1,
   "metadata": {},
   "outputs": [
    {
     "name": "stdout",
     "output_type": "stream",
     "text": [
      "['oath', 'eat']\n"
     ]
    }
   ],
   "source": [
    "# 212 题 第一次\n",
    "from typing import List\n",
    "class Trie:\n",
    "    def __init__(self):\n",
    "        self.root={}\n",
    "        self.end_char=\"#\"\n",
    "    def insert(self,word:str):\n",
    "        node=self.root\n",
    "        for char in word:\n",
    "            node=node.setdefault(char,{})\n",
    "            # print(node)\n",
    "        node[self.end_char]=\"10086\"\n",
    "        \n",
    "class Solution:\n",
    "    def findWords(self, board: List[List[str]], words: List[str]) -> List[str]:\n",
    "        trie=Trie()\n",
    "        for word in words:\n",
    "            trie.insert(word)\n",
    "        dx=[0,0,1,-1]\n",
    "        dy=[1,-1,0,0]\n",
    "        ans=[]\n",
    "        def dfs(x:int,y:int,curStr:str,curNode:dict,visited)->bool:\n",
    "            if visited[x][y]==1:\n",
    "                return False\n",
    "            visited[x][y]=1\n",
    "            if trie.end_char in curNode:\n",
    "                ans.append(curStr)#add\n",
    "                curNode.pop(trie.end_char)#del\n",
    "                #然后继续递归\n",
    "            flag=False\n",
    "            for i in range(len(dx)):#方向\n",
    "                if x+dx[i]<len(board) and y+dy[i]<len(board[0]):\n",
    "                    nextChar=board[x+dx[i]][y+dy[i]]\n",
    "                    if nextChar in curNode:\n",
    "                        flag=flag|dfs(x+dx[i],y+dy[i],curStr+nextChar,curNode[nextChar],visited)\n",
    "            visited[x][y]=0\n",
    "            return flag\n",
    "        #old\n",
    "        for x in range(len(board)):\n",
    "            for y in range(len(board[0])):####\n",
    "                if x<len(board) and y<len(board[0]) and (board[x][y] in trie.root):\n",
    "                    visited=[[0]*len(board[0]) for _ in range(len(board))]##最可怕的错误\n",
    "                    # print(x,y)\n",
    "                    dfs(x,y,board[x][y],trie.root[board[x][y]],visited)\n",
    "        return ans\n",
    "if __name__==\"__main__\":\n",
    "    solution=Solution()\n",
    "    print(solution.findWords(board = [[\"o\",\"a\",\"a\",\"n\"],[\"e\",\"t\",\"a\",\"e\"],[\"i\",\"h\",\"k\",\"r\"],[\"i\",\"f\",\"l\",\"v\"]], words = [\"oath\",\"pea\",\"eat\",\"rain\"]))\n",
    "            "
   ]
  },
  {
   "cell_type": "code",
   "execution_count": 3,
   "metadata": {},
   "outputs": [
    {
     "name": "stdout",
     "output_type": "stream",
     "text": [
      "[]\n"
     ]
    }
   ],
   "source": [
    "from typing import List\n",
    "class Trie:\n",
    "    def __init__(self):\n",
    "        self.root={}\n",
    "        self.end_char=\"#\"\n",
    "    def insert(self,word:str):\n",
    "        node=self.root\n",
    "        for char in word:\n",
    "            node=node.setdefault(char,{})\n",
    "            # print(node)\n",
    "        node[self.end_char]=\"10086\"\n",
    "        \n",
    "class Solution:\n",
    "    def findWords(self, board: List[List[str]], words: List[str]) -> List[str]:\n",
    "        trie=Trie()\n",
    "        for word in words:\n",
    "            trie.insert(word)\n",
    "        dx=[0,0,1,-1]\n",
    "        dy=[1,-1,0,0]\n",
    "        ans=[]\n",
    "        def dfs(x:int,y:int,curStr:str,curNode:dict)->bool:\n",
    "            if board[x][y]==\"#\":\n",
    "                return False\n",
    "            tmp=board[x][y]\n",
    "            board[x][y]=\"#\"\n",
    "            # visited[x][y]=1\n",
    "            # print(x,y,visited)\n",
    "            \n",
    "            if trie.end_char in curNode:\n",
    "                ans.append(curStr)#add\n",
    "                curNode.pop(trie.end_char)#del\n",
    "                #然后继续递归\n",
    "            flag=False\n",
    "            for i in range(len(dx)):#方向\n",
    "                if -1<x+dx[i]<len(board) and -1<y+dy[i]<len(board[0]):\n",
    "                    nextChar=board[x+dx[i]][y+dy[i]]\n",
    "                    if nextChar in curNode:\n",
    "                        flag=flag|dfs(x+dx[i],y+dy[i],curStr+nextChar,curNode[nextChar])\n",
    "            # visited[x][y]=0\n",
    "            board[x][y]=tmp\n",
    "            return flag\n",
    "        #old\n",
    "        for x in range(len(board)):\n",
    "            for y in range(len(board[0])):####\n",
    "                if -1<x<len(board) and -1<y<len(board[0]) and (board[x][y] in trie.root):\n",
    "                    # visited=[[0]*len(board[0]) for _ in range(len(board))]##最可怕的错误\n",
    "                    dfs(x,y,board[x][y],trie.root[board[x][y]])\n",
    "        return ans\n",
    "if __name__==\"__main__\":\n",
    "    solution=Solution()\n",
    "    print(solution.findWords(board = [[\"a\",\"b\",\"c\"],[\"a\",\"e\",\"d\"],[\"a\",\"f\",\"g\"]], words = [\"ade\"]))\n",
    "            "
   ]
  },
  {
   "cell_type": "code",
   "execution_count": null,
   "metadata": {},
   "outputs": [],
   "source": [
    "\n",
    "[[\"a\",\"b\",\"c\"],[\"a\",\"e\",\"d\"],[\"a\",\"f\",\"g\"]]"
   ]
  },
  {
   "cell_type": "code",
   "execution_count": 4,
   "metadata": {},
   "outputs": [
    {
     "name": "stdout",
     "output_type": "stream",
     "text": [
      "[[0, 0, 0, 0], [0, 0, 0, 0], [0, 0, 0, 0], [0, 0, 0, 0]]\n"
     ]
    }
   ],
   "source": [
    "print([[0]*4]*4)"
   ]
  },
  {
   "cell_type": "code",
   "execution_count": 3,
   "metadata": {},
   "outputs": [],
   "source": [
    "from typing import List\n",
    "board=[[1],[2]]\n",
    "visited=[[0]*4]*4"
   ]
  },
  {
   "cell_type": "code",
   "execution_count": 32,
   "metadata": {},
   "outputs": [
    {
     "name": "stdout",
     "output_type": "stream",
     "text": [
      "['oath', 'eat']\n"
     ]
    }
   ],
   "source": [
    "#递归方法\n",
    "class Solution(object):\n",
    "    def checkList(self, board, row, col, word, trie, rList):\n",
    "        if row<0 or row>=len(board) or col<0 or col>=len(board[0]) or board[row][col] == '.' or board[row][col] not in trie: return\n",
    "        c = board[row][col]\n",
    "        _word= word + c\n",
    "        if '#' in trie[c]: \n",
    "            rList.add(_word)\n",
    "            if len(trie[c]) == 1: return # if next node is empty, return as no there is no need to search further\n",
    "        board[row][col] = '.'\n",
    "        self.checkList(board, row-1, col, _word, trie[c], rList) #up\n",
    "        self.checkList(board, row+1, col, _word, trie[c], rList) #down\n",
    "        self.checkList(board, row, col-1, _word, trie[c], rList) #left\n",
    "        self.checkList(board, row, col+1, _word, trie[c], rList) #right\n",
    "        board[row][col] = c\n",
    "    \n",
    "    def findWords(self, board, words):\n",
    "        \"\"\"\n",
    "        :type board: List[List[str]]\n",
    "        :type words: List[str]\n",
    "        :rtype: List[str]\n",
    "        \"\"\"\n",
    "        if not board or not words: return []\n",
    "        # building Trie\n",
    "        trie, rList = {}, set()\n",
    "        for word in words:\n",
    "            t = trie\n",
    "            for c in word:\n",
    "                if c not in t: t[c] = {}\n",
    "                t = t[c]\n",
    "            t['#'] = None\n",
    "        for row in range(len(board)):\n",
    "            for col in range(len(board[0])):\n",
    "                if board[row][col] not in trie: continue\n",
    "                self.checkList(board, row, col, \"\", trie, rList)\n",
    "        return list(rList)\n",
    "if __name__==\"__main__\":\n",
    "    solution=Solution()\n",
    "    print(solution.findWords(board = [[\"o\",\"a\",\"a\",\"n\"],[\"e\",\"t\",\"a\",\"e\"],[\"i\",\"h\",\"k\",\"r\"],[\"i\",\"f\",\"l\",\"v\"]], words = [\"oath\",\"pea\",\"eat\",\"rain\"]))\n",
    "            "
   ]
  }
 ],
 "metadata": {
  "kernelspec": {
   "display_name": "Python 3.8.13 ('py38')",
   "language": "python",
   "name": "python3"
  },
  "language_info": {
   "codemirror_mode": {
    "name": "ipython",
    "version": 3
   },
   "file_extension": ".py",
   "mimetype": "text/x-python",
   "name": "python",
   "nbconvert_exporter": "python",
   "pygments_lexer": "ipython3",
   "version": "3.8.13"
  },
  "orig_nbformat": 4,
  "vscode": {
   "interpreter": {
    "hash": "76c3c49e318b7c885b43daef0aa3cfe4eb22ade01aff18419595a86661fada18"
   }
  }
 },
 "nbformat": 4,
 "nbformat_minor": 2
}
