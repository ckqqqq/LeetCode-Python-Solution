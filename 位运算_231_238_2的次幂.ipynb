{
 "cells": [
  {
   "cell_type": "code",
   "execution_count": null,
   "metadata": {},
   "outputs": [],
   "source": [
    "#统计是不是2的次幂\n",
    "class Solution:\n",
    "    def isPowerOfTwo(self, n: int) -> bool:\n",
    "        return n>0 and n&n-1\n",
    "        "
   ]
  },
  {
   "cell_type": "code",
   "execution_count": null,
   "metadata": {},
   "outputs": [],
   "source": [
    "#0-n+1统计变量名\n",
    "class Solution:\n",
    "    def countBits(self, n: int) -> List[int]:\n",
    "        ans=[]\n",
    "        for i in range(n+1):\n",
    "            count=0\n",
    "            while n!=0:#这里写成了n，有问题，注意复制黏贴的时候小心变量名\n",
    "                n=n&n-1#去除最后一个一\n",
    "                #n&-n 获取最后一个一\n",
    "                count+=1\n",
    "            ans.append(count)\n",
    "        return ans\n",
    "\n",
    "       "
   ]
  },
  {
   "cell_type": "code",
   "execution_count": null,
   "metadata": {},
   "outputs": [],
   "source": []
  }
 ],
 "metadata": {
  "language_info": {
   "name": "python"
  },
  "orig_nbformat": 4
 },
 "nbformat": 4,
 "nbformat_minor": 2
}
