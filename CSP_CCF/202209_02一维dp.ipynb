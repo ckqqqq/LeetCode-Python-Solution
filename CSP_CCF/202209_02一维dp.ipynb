{
 "cells": [
  {
   "attachments": {},
   "cell_type": "markdown",
   "metadata": {},
   "source": [
    "http://118.190.20.162/view.page?gpid=T152\n"
   ]
  },
  {
   "cell_type": "code",
   "execution_count": 7,
   "metadata": {},
   "outputs": [
    {
     "name": "stdout",
     "output_type": "stream",
     "text": [
      "[-1, 20, 90, 60, 60]\n",
      "110\n",
      "[-1, 15, 40, 30]\n",
      "30\n",
      "[-1, 50, 50]\n",
      "100\n"
     ]
    }
   ],
   "source": [
    "with open(\"202209_02.txt\",\"r\") as f:\n",
    "    for _ in range(3):\n",
    "        tmp=f.readline().strip()\n",
    "        n,x=[int(tmp) for tmp in tmp.split()]\n",
    "        a=[-1]+[-1 for _ in range(n)]\n",
    "        for i in range(1,n+1):\n",
    "            a[i]=int(f.readline().strip())\n",
    "        print(a)\n",
    "        ans=2**40\n",
    "        dp=[0 for _ in range(x+1)]\n",
    "        dp[0]=1\n",
    "        for i in range(1,n+1):\n",
    "            for j in range(x,-1,-1):\n",
    "                if dp[j]>0:\n",
    "                    if j+a[i]<x:\n",
    "                        dp[j+a[i]]=1\n",
    "                    else:#>=x\n",
    "                        if j+a[i]<ans:\n",
    "                            ans=j+a[i]\n",
    "        print(ans)    "
   ]
  },
  {
   "cell_type": "code",
   "execution_count": null,
   "metadata": {},
   "outputs": [],
   "source": [
    "tmp=input().strip()\n",
    "n,x=[int(tmp) for tmp in tmp.split()]\n",
    "a=[-1]+[-1 for _ in range(n)]\n",
    "for i in range(1,n+1):\n",
    "    a[i]=int(input())\n",
    "print(a)\n",
    "ans=2**40\n",
    "dp=[0 for _ in range(x+1)]\n",
    "dp[0]=1\n",
    "for i in range(1,n+1):\n",
    "    for j in range(x,-1,-1):\n",
    "        if dp[j]>0:\n",
    "            if j+a[i]<x:\n",
    "                dp[j+a[i]]=1\n",
    "            else:#>=x\n",
    "                if j+a[i]<ans:\n",
    "                    ans=j+a[i]\n",
    "print(ans)    "
   ]
  },
  {
   "cell_type": "code",
   "execution_count": null,
   "metadata": {},
   "outputs": [],
   "source": []
  }
 ],
 "metadata": {
  "kernelspec": {
   "display_name": "base",
   "language": "python",
   "name": "python3"
  },
  "language_info": {
   "codemirror_mode": {
    "name": "ipython",
    "version": 3
   },
   "file_extension": ".py",
   "mimetype": "text/x-python",
   "name": "python",
   "nbconvert_exporter": "python",
   "pygments_lexer": "ipython3",
   "version": "3.9.12"
  },
  "orig_nbformat": 4,
  "vscode": {
   "interpreter": {
    "hash": "7b93ae2ddedcfb4b7ddebf80c8c7984044339b2e43f10e14b9461f3e640893f2"
   }
  }
 },
 "nbformat": 4,
 "nbformat_minor": 2
}
