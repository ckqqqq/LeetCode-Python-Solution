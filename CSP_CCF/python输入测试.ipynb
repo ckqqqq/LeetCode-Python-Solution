{
 "cells": [
  {
   "cell_type": "code",
   "execution_count": 8,
   "metadata": {},
   "outputs": [
    {
     "name": "stdout",
     "output_type": "stream",
     "text": [
      "15 32767 <class 'int'> [2, 2, 2, 2, 2, 2, 2, 2, 2, 2, 2, 2, 2, 2, 2]\n"
     ]
    }
   ],
   "source": [
    "n,m=[int(i) for i in input().split()]\n",
    "a_arr=[int(a_str) for a_str in input().split()]\n",
    "print(n,m,type(n),a_arr)\n",
    "\n",
    "\n",
    "#15 32767\n",
    "#2 2 2 2 2 2 2 2 2 2 2 2 2 2 2"
   ]
  },
  {
   "cell_type": "code",
   "execution_count": null,
   "metadata": {},
   "outputs": [],
   "source": [
    "with open(\"202209_02.txt\",\"r\") as f:\n",
    "    for _ in range(3):\n",
    "        tmp=f.readline().strip()\n",
    "        print(tmp)"
   ]
  },
  {
   "attachments": {},
   "cell_type": "markdown",
   "metadata": {},
   "source": [
    "在Python中，字符串方法strip()用于去除字符串两侧的空白字符（包括空格、制表符和换行符等）。默认情况下，strip()方法会去除字符串两侧的所有空白字符，即包括开头和结尾的空格、制表符和换行符等。例如：\n",
    "\n",
    "s = \"   hello world   \\n\"\n",
    "print(s.strip())  # 输出 \"hello world\"\n",
    "\n",
    "上面的示例中，strip()方法会去除字符串s开头和结尾的所有空白字符，包括前面的空格和后面的换行符。\n",
    "\n",
    "如果想去除字符串中间的空白字符，可以使用其他字符串方法，例如replace()方法。例如："
   ]
  },
  {
   "cell_type": "code",
   "execution_count": 1,
   "metadata": {},
   "outputs": [],
   "source": [
    "# 这种智能在.py文件中跑\n",
    "import sys \n",
    "for line in sys.stdin:\n",
    "    a = line.split()\n",
    "    print(int(a[0]) + int(a[1]))"
   ]
  },
  {
   "attachments": {},
   "cell_type": "markdown",
   "metadata": {},
   "source": [
    "15 32767\n",
    "2 2 2 2 2 2 2 2 2 2 2 2 2 2 2"
   ]
  },
  {
   "cell_type": "code",
   "execution_count": 11,
   "metadata": {},
   "outputs": [
    {
     "name": "stdout",
     "output_type": "stream",
     "text": [
      "1 1 1 1 1 1 1 1 1 1 1 1 1 1 1\n",
      "0 0 0 0\n",
      "2 2 15 7 3 1 0\n"
     ]
    }
   ],
   "source": [
    "def test_1_(line0:str,line1:str):\n",
    "    n,m=[int(i) for i in line0.split()]\n",
    "    a_arr=[10086]+[int(a_str) for a_str in line1.split()]\n",
    "    c=[1 for _ in range(n+1)]\n",
    "    b=[-1 for _ in range(n+1)]\n",
    "    for i in range(1,n+1):\n",
    "        c[i]=c[i-1]*a_arr[i]\n",
    "    # print(c,a_arr)\n",
    "    sum_=0\n",
    "    for i in range(1,n+1):\n",
    "        cb=m%c[i]\n",
    "        cb-=sum_\n",
    "        b[i]=cb//c[i-1]\n",
    "        sum_+=cb\n",
    "    print(\" \".join(map(str,b[1:])))\n",
    "# print(n,m,type(n),a_arr)\n",
    "input_t=\"\"\"15 32767\n",
    "2 2 2 2 2 2 2 2 2 2 2 2 2 2 2\n",
    "4 0\n",
    "2 3 2 5\n",
    "7 23333\n",
    "3 5 20 10 4 3 10\"\"\"\n",
    "input_t=input_t.split(\"\\n\")\n",
    "for i in range(0,6,2):\n",
    "    # print(input_t[i],input_t)\n",
    "    test_1_(input_t[i],input_t[i+1])\n"
   ]
  },
  {
   "cell_type": "code",
   "execution_count": null,
   "metadata": {},
   "outputs": [],
   "source": [
    "n,m=[int(i) for i in input().split()]\n",
    "a_arr=[10086]+[int(a_str) for a_str in input().split()]\n",
    "c=[1 for _ in range(n+1)]\n",
    "b=[-1 for _ in range(n+1)]\n",
    "for i in range(1,n+1):\n",
    "    c[i]=c[i-1]*a_arr[i]\n",
    "# print(c,a_arr)\n",
    "sum_=0\n",
    "for i in range(1,n+1):\n",
    "    cb=m%c[i]\n",
    "    cb-=sum_\n",
    "    b[i]=cb//c[i-1]\n",
    "    sum_+=cb\n",
    "print(\" \".join(map(str,b[1:])))"
   ]
  }
 ],
 "metadata": {
  "kernelspec": {
   "display_name": "base",
   "language": "python",
   "name": "python3"
  },
  "language_info": {
   "codemirror_mode": {
    "name": "ipython",
    "version": 3
   },
   "file_extension": ".py",
   "mimetype": "text/x-python",
   "name": "python",
   "nbconvert_exporter": "python",
   "pygments_lexer": "ipython3",
   "version": "3.9.12"
  },
  "orig_nbformat": 4,
  "vscode": {
   "interpreter": {
    "hash": "7b93ae2ddedcfb4b7ddebf80c8c7984044339b2e43f10e14b9461f3e640893f2"
   }
  }
 },
 "nbformat": 4,
 "nbformat_minor": 2
}
