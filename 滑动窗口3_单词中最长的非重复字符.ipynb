{
 "cells": [
  {
   "cell_type": "code",
   "execution_count": null,
   "metadata": {},
   "outputs": [],
   "source": []
  },
  {
   "attachments": {},
   "cell_type": "markdown",
   "metadata": {},
   "source": [
    "Given a string, find the length of the longest substring without repeating characters.\n",
    "\n",
    "Input: \"abcabcbb\"Output: 3\n",
    "Explanation: The answer is \"abc\", with the length of 3.\n"
   ]
  },
  {
   "cell_type": "code",
   "execution_count": 9,
   "metadata": {},
   "outputs": [
    {
     "name": "stdout",
     "output_type": "stream",
     "text": [
      "3\n"
     ]
    }
   ],
   "source": [
    "# 第一次写，这道滑动窗口的题 写得不好\n",
    "class Solution:\n",
    "    def lengthOfLongestSubstring(self, s: str) -> int:\n",
    "        if len(s)==0:# 忘记特判“ ”\n",
    "            return 0\n",
    "        ch_set=set()\n",
    "        LEN=len(s)\n",
    "        left,right,ans=0,0,1\n",
    "        repeat_ch=None\n",
    "        while left<LEN:\n",
    "            while right<LEN:\n",
    "                ch=s[right]\n",
    "                if ch in ch_set:\n",
    "                    repeat_ch=ch\n",
    "                    break\n",
    "                else:\n",
    "                    ch_set.add(ch)\n",
    "                right+=1\n",
    "            ans=max(right-left+1-1,ans)#重复字符，需要放到循环外面 \n",
    "            while left<LEN:# 判断条件\n",
    "                ch=s[left]                \n",
    "                ch_set.remove(s[left])\n",
    "                left+=1\n",
    "                if ch==repeat_ch :# LEN一定要在地址前面\n",
    "                    break\n",
    "        return ans\n",
    "if __name__==\"__main__\":\n",
    "    solution=Solution()\n",
    "    print(solution.lengthOfLongestSubstring(\"abcabcbb\"))       "
   ]
  },
  {
   "cell_type": "code",
   "execution_count": null,
   "metadata": {},
   "outputs": [],
   "source": [
    "# 第一次写得太麻烦了，事实上使用集合没比使用字典慢多少\n",
    "# 第二次写\n",
    "class Solution:\n",
    "    def lengthOfLongestSubstring(self, s: str) -> int:\n",
    "        \n",
    "if __name__==\"__main__\":\n",
    "    solution=Solution()\n",
    "    print(solution.lengthOfLongestSubstring(\"abcabcbb\"))       "
   ]
  },
  {
   "cell_type": "code",
   "execution_count": 1,
   "metadata": {},
   "outputs": [
    {
     "name": "stdout",
     "output_type": "stream",
     "text": [
      "test\n"
     ]
    }
   ],
   "source": [
    "print(\"test\")"
   ]
  },
  {
   "cell_type": "code",
   "execution_count": null,
   "metadata": {},
   "outputs": [],
   "source": []
  }
 ],
 "metadata": {
  "kernelspec": {
   "display_name": "py38",
   "language": "python",
   "name": "python3"
  },
  "language_info": {
   "codemirror_mode": {
    "name": "ipython",
    "version": 3
   },
   "file_extension": ".py",
   "mimetype": "text/x-python",
   "name": "python",
   "nbconvert_exporter": "python",
   "pygments_lexer": "ipython3",
   "version": "3.8.13 | packaged by conda-forge | (default, Mar 25 2022, 05:59:00) [MSC v.1929 64 bit (AMD64)]"
  },
  "orig_nbformat": 4,
  "vscode": {
   "interpreter": {
    "hash": "76c3c49e318b7c885b43daef0aa3cfe4eb22ade01aff18419595a86661fada18"
   }
  }
 },
 "nbformat": 4,
 "nbformat_minor": 2
}
