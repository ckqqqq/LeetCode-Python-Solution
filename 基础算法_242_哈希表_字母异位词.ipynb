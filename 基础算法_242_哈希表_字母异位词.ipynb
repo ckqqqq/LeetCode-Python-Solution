{
 "cells": [
  {
   "cell_type": "markdown",
   "metadata": {},
   "source": [
    "### 题目解释\n",
    "判断两个字符串是否能通过变换字母位置判断相等"
   ]
  },
  {
   "cell_type": "code",
   "execution_count": 1,
   "metadata": {},
   "outputs": [
    {
     "name": "stdout",
     "output_type": "stream",
     "text": [
      "True\n"
     ]
    }
   ],
   "source": [
    "from typing import List \n",
    "class Solution:\n",
    "    def isAnagram3(self,s,t):\n",
    "        return sorted(s)==sorted(t)\n",
    "if __name__==\"__main__\":\n",
    "    solution=Solution()\n",
    "    print(solution.isAnagram3(\"cat\",\"tac\"))\n"
   ]
  },
  {
   "cell_type": "markdown",
   "metadata": {},
   "source": [
    "### ord 是一个返回unicode值的函数"
   ]
  },
  {
   "cell_type": "code",
   "execution_count": 8,
   "metadata": {},
   "outputs": [
    {
     "name": "stdout",
     "output_type": "stream",
     "text": [
      "True\n"
     ]
    }
   ],
   "source": [
    "from typing import List \n",
    "class Solution:\n",
    "    def isAnagram3(self,s,t):\n",
    "        myhash=[0]*26\n",
    "        for c in s:\n",
    "            myhash[ord(c)-ord('a')]+=1\n",
    "        for c in t:\n",
    "            myhash[ord(c)-ord('a')]-=1\n",
    "        for num in myhash:\n",
    "            if num!=0:\n",
    "                return False\n",
    "        return True\n",
    "if __name__==\"__main__\":\n",
    "    solution=Solution()\n",
    "    print(solution.isAnagram3(\"cat\",\"tac\"))\n"
   ]
  },
  {
   "cell_type": "code",
   "execution_count": null,
   "metadata": {},
   "outputs": [],
   "source": []
  }
 ],
 "metadata": {
  "kernelspec": {
   "display_name": "Python 3.8.13 ('py38')",
   "language": "python",
   "name": "python3"
  },
  "language_info": {
   "codemirror_mode": {
    "name": "ipython",
    "version": 3
   },
   "file_extension": ".py",
   "mimetype": "text/x-python",
   "name": "python",
   "nbconvert_exporter": "python",
   "pygments_lexer": "ipython3",
   "version": "3.8.13"
  },
  "orig_nbformat": 4,
  "vscode": {
   "interpreter": {
    "hash": "76c3c49e318b7c885b43daef0aa3cfe4eb22ade01aff18419595a86661fada18"
   }
  }
 },
 "nbformat": 4,
 "nbformat_minor": 2
}
