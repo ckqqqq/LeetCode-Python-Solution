{
 "cells": [
  {
   "cell_type": "code",
   "execution_count": 5,
   "metadata": {},
   "outputs": [
    {
     "name": "stdout",
     "output_type": "stream",
     "text": [
      "243\n",
      "0.00411522633744856\n",
      "1\n"
     ]
    }
   ],
   "source": [
    "#\n",
    "# @lc app=leetcode id=50 lang=python3\n",
    "#\n",
    "# [50] Pow(x, n)\n",
    "#\n",
    "\n",
    "# @lc code=start\n",
    "# from multiprocessing.connection import answer_challenge\n",
    "# from termios import NL0\n",
    "\n",
    "\n",
    "class Solution:\n",
    "    def myPow(self, x: float, n: int) -> float:\n",
    "        def quickPow(x:float,n:int)->float:\n",
    "            if 1==n:\n",
    "                return x\n",
    "            ans=1\n",
    "            while n:\n",
    "                if n&1==1:#奇数\n",
    "                    ans*=x\n",
    "                x=x*x\n",
    "                n=(n>>1)\n",
    "            return ans\n",
    "        if n==0:\n",
    "            return 1\n",
    "        elif n>0:\n",
    "            return quickPow(x,n)\n",
    "        elif n<0:\n",
    "            return 1/quickPow(x,-n)#注意这个负数\n",
    "                    \n",
    "if __name__==\"__main__\":\n",
    "    solution=Solution()\n",
    "    print(solution.myPow(3,5))\n",
    "    print(solution.myPow(3,-5))\n",
    "    print(solution.myPow(3,0))\n",
    "    \n",
    "    \n",
    "# @lc code=end"
   ]
  }
 ],
 "metadata": {
  "kernelspec": {
   "display_name": "Python 3.8.13 ('py38')",
   "language": "python",
   "name": "python3"
  },
  "language_info": {
   "codemirror_mode": {
    "name": "ipython",
    "version": 3
   },
   "file_extension": ".py",
   "mimetype": "text/x-python",
   "name": "python",
   "nbconvert_exporter": "python",
   "pygments_lexer": "ipython3",
   "version": "3.8.13"
  },
  "orig_nbformat": 4,
  "vscode": {
   "interpreter": {
    "hash": "76c3c49e318b7c885b43daef0aa3cfe4eb22ade01aff18419595a86661fada18"
   }
  }
 },
 "nbformat": 4,
 "nbformat_minor": 2
}
