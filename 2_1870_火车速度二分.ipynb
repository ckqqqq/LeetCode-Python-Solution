{
 "cells": [
  {
   "cell_type": "code",
   "execution_count": 1,
   "metadata": {},
   "outputs": [
    {
     "name": "stdout",
     "output_type": "stream",
     "text": [
      "2\n"
     ]
    }
   ],
   "source": [
    "print(int(2.8))"
   ]
  },
  {
   "cell_type": "code",
   "execution_count": 2,
   "metadata": {},
   "outputs": [
    {
     "name": "stdout",
     "output_type": "stream",
     "text": [
      "1\n"
     ]
    }
   ],
   "source": [
    "t=1//2\n",
    "if t%1!=1:\n",
    "    print(int(t)+1)"
   ]
  },
  {
   "cell_type": "code",
   "execution_count": null,
   "metadata": {},
   "outputs": [],
   "source": [
    "class Solution:\n",
    "    # def check)\n",
    "    def minSpeedOnTime(self, dist: List[int], hour: float) -> int:\n",
    "        def check(speed:int):\n",
    "            if speed==0:\n",
    "                return False\n",
    "            ans=0\n",
    "            for dis in dist:\n",
    "                time_=dis/speed\n",
    "                # print(time_,dis,dis/speed)\n",
    "                if ans+time_>hour:\n",
    "                    return False\n",
    "                if time_%1!=0:\n",
    "                    time_=int(time_)+1\n",
    "                ans=ans+time_\n",
    "\n",
    "                # print(time_,speed,\"ans\",ans)\n",
    "                \n",
    "            return True\n",
    "        ll,rr=1,10**7\n",
    "        while ll<=rr:\n",
    "            mid=ll+(rr-ll)//2\n",
    "            isOk=check(mid)\n",
    "            if isOk:# 速度可以\n",
    "                rr=mid-1\n",
    "            else:# 速度不行 # 加速\n",
    "                ll=mid+1\n",
    "        if ll==10**7+1:\n",
    "            return -1\n",
    "        if check(ll):\n",
    "            # print(ll,rr,check(ll),check(rr))\n",
    "            return ll\n",
    "        else:\n",
    "            return -1\n",
    "    "
   ]
  },
  {
   "cell_type": "code",
   "execution_count": 2,
   "metadata": {},
   "outputs": [
    {
     "name": "stdout",
     "output_type": "stream",
     "text": [
      "5\n",
      "0.25\n"
     ]
    }
   ],
   "source": [
    "# 第一个问题\n",
    "print(11//2) ##//是整除 /是小数除 细节w\n",
    "print(0.5/2)### 注意细节\n",
    "# 第二个问题\n",
    "#整数，考虑特殊解的问题\n",
    "#比如 2.7 和 2.666 之间相互对比 "
   ]
  },
  {
   "cell_type": "code",
   "execution_count": 4,
   "metadata": {},
   "outputs": [
    {
     "name": "stdout",
     "output_type": "stream",
     "text": [
      "0\n",
      "1\n",
      "0\n",
      "1\n"
     ]
    }
   ],
   "source": [
    "#一些浮点操作 五舍6入\n",
    "print(round(0.17))\n",
    "print(round(0.17+0.5))\n",
    "print(round(0.0+0.5))\n",
    "print(round(0.01+0.5))"
   ]
  }
 ],
 "metadata": {
  "kernelspec": {
   "display_name": "py38",
   "language": "python",
   "name": "python3"
  },
  "language_info": {
   "codemirror_mode": {
    "name": "ipython",
    "version": 3
   },
   "file_extension": ".py",
   "mimetype": "text/x-python",
   "name": "python",
   "nbconvert_exporter": "python",
   "pygments_lexer": "ipython3",
   "version": "3.8.13"
  },
  "orig_nbformat": 4
 },
 "nbformat": 4,
 "nbformat_minor": 2
}
