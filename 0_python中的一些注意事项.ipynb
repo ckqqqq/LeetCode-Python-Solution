{
 "cells": [
  {
   "cell_type": "code",
   "execution_count": 3,
   "metadata": {},
   "outputs": [
    {
     "name": "stdout",
     "output_type": "stream",
     "text": [
      "-1 0\n",
      "1 2\n",
      "2 3\n"
     ]
    }
   ],
   "source": [
    "nums=[1,1,2,3]\n",
    "LEN=len(nums)\n",
    "for i in range(LEN):# 注意这里，由于python数组中可以使用负数索引访问数组，所以不会有报错,但是会有逻辑错误\n",
    "    \n",
    "    # assert i-1>=0,\"lp\"\n",
    "    if nums[i-1]!=nums[i]:\n",
    "        print(i-1,i)"
   ]
  },
  {
   "cell_type": "code",
   "execution_count": 4,
   "metadata": {},
   "outputs": [
    {
     "ename": "AssertionError",
     "evalue": "lp",
     "output_type": "error",
     "traceback": [
      "\u001b[1;31m---------------------------------------------------------------------------\u001b[0m",
      "\u001b[1;31mAssertionError\u001b[0m                            Traceback (most recent call last)",
      "\u001b[1;32md:\\Code\\Python\\Leetcode\\0_python中的一些注意事项.ipynb Cell 2\u001b[0m in \u001b[0;36m<cell line: 3>\u001b[1;34m()\u001b[0m\n\u001b[0;32m      <a href='vscode-notebook-cell:/d%3A/Code/Python/Leetcode/0_python%E4%B8%AD%E7%9A%84%E4%B8%80%E4%BA%9B%E6%B3%A8%E6%84%8F%E4%BA%8B%E9%A1%B9.ipynb#W1sZmlsZQ%3D%3D?line=1'>2</a>\u001b[0m LEN\u001b[39m=\u001b[39m\u001b[39mlen\u001b[39m(nums)\n\u001b[0;32m      <a href='vscode-notebook-cell:/d%3A/Code/Python/Leetcode/0_python%E4%B8%AD%E7%9A%84%E4%B8%80%E4%BA%9B%E6%B3%A8%E6%84%8F%E4%BA%8B%E9%A1%B9.ipynb#W1sZmlsZQ%3D%3D?line=2'>3</a>\u001b[0m \u001b[39mfor\u001b[39;00m i \u001b[39min\u001b[39;00m \u001b[39mrange\u001b[39m(LEN):\u001b[39m# 注意这里，由于python数组中可以使用负数索引访问数组，所以不会有理论报错\u001b[39;00m\n\u001b[1;32m----> <a href='vscode-notebook-cell:/d%3A/Code/Python/Leetcode/0_python%E4%B8%AD%E7%9A%84%E4%B8%80%E4%BA%9B%E6%B3%A8%E6%84%8F%E4%BA%8B%E9%A1%B9.ipynb#W1sZmlsZQ%3D%3D?line=3'>4</a>\u001b[0m     \u001b[39massert\u001b[39;00m i\u001b[39m-\u001b[39m\u001b[39m1\u001b[39m\u001b[39m>\u001b[39m\u001b[39m=\u001b[39m\u001b[39m0\u001b[39m,\u001b[39m\"\u001b[39m\u001b[39mlp\u001b[39m\u001b[39m\"\u001b[39m\n\u001b[0;32m      <a href='vscode-notebook-cell:/d%3A/Code/Python/Leetcode/0_python%E4%B8%AD%E7%9A%84%E4%B8%80%E4%BA%9B%E6%B3%A8%E6%84%8F%E4%BA%8B%E9%A1%B9.ipynb#W1sZmlsZQ%3D%3D?line=4'>5</a>\u001b[0m     \u001b[39mif\u001b[39;00m nums[i\u001b[39m-\u001b[39m\u001b[39m1\u001b[39m]\u001b[39m!=\u001b[39mnums[i]:\n\u001b[0;32m      <a href='vscode-notebook-cell:/d%3A/Code/Python/Leetcode/0_python%E4%B8%AD%E7%9A%84%E4%B8%80%E4%BA%9B%E6%B3%A8%E6%84%8F%E4%BA%8B%E9%A1%B9.ipynb#W1sZmlsZQ%3D%3D?line=5'>6</a>\u001b[0m         \u001b[39mprint\u001b[39m(i\u001b[39m-\u001b[39m\u001b[39m1\u001b[39m,i)\n",
      "\u001b[1;31mAssertionError\u001b[0m: lp"
     ]
    }
   ],
   "source": [
    "nums=[1,1,2,3]\n",
    "LEN=len(nums)\n",
    "for i in range(LEN):# 注意这里，由于python数组中可以使用负数索引访问数组，所以不会有理论报错\n",
    "    assert i-1>=0,\"lp\"\n",
    "    if nums[i-1]!=nums[i]:\n",
    "        print(i-1,i)"
   ]
  }
 ],
 "metadata": {
  "kernelspec": {
   "display_name": "base",
   "language": "python",
   "name": "python3"
  },
  "language_info": {
   "codemirror_mode": {
    "name": "ipython",
    "version": 3
   },
   "file_extension": ".py",
   "mimetype": "text/x-python",
   "name": "python",
   "nbconvert_exporter": "python",
   "pygments_lexer": "ipython3",
   "version": "3.9.12"
  },
  "orig_nbformat": 4,
  "vscode": {
   "interpreter": {
    "hash": "7b93ae2ddedcfb4b7ddebf80c8c7984044339b2e43f10e14b9461f3e640893f2"
   }
  }
 },
 "nbformat": 4,
 "nbformat_minor": 2
}
