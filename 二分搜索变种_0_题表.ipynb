{
 "cells": [
  {
   "cell_type": "code",
   "execution_count": null,
   "metadata": {},
   "outputs": [],
   "source": []
  },
  {
   "attachments": {},
   "cell_type": "markdown",
   "metadata": {},
   "source": [
    "https://leetcode.com/problems/house-robber-iv/solutions/3143697/java-c-python-binary-search-o-1-space/"
   ]
  },
  {
   "attachments": {},
   "cell_type": "markdown",
   "metadata": {},
   "source": [
    "### 变种二分\n",
    "\n",
    "More Good Binary Search Problems\n",
    "Here are some similar binary search problems.\n",
    "Also find more explanations.\n",
    "Good luck and have fun.\n",
    "\n",
    "2226.Maximum Candies Allocated to K Children\n",
    "1802.Maximum Value at a Given Index in a Bounded Array\n",
    "1539.Kth Missing Positive Number\n",
    "1482.Minimum Number of Days to Make m Bouquets\n",
    "1283.Find the Smallest Divisor Given a Threshold\n",
    "1231.Divide Chocolate\n",
    "1011.Capacity To Ship Packages In N Days\n",
    "875.Koko Eating Bananas\n",
    "774.Minimize Max Distance to Gas Station\n",
    "410.Split Array Largest Sum"
   ]
  }
 ],
 "metadata": {
  "language_info": {
   "name": "python"
  },
  "orig_nbformat": 4
 },
 "nbformat": 4,
 "nbformat_minor": 2
}
