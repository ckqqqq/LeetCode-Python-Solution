{
 "cells": [
  {
   "attachments": {},
   "cell_type": "markdown",
   "metadata": {},
   "source": [
    "ChatGPT生成  三元字典判重"
   ]
  },
  {
   "cell_type": "code",
   "execution_count": 1,
   "metadata": {},
   "outputs": [
    {
     "name": "stdout",
     "output_type": "stream",
     "text": [
      "Triplet (0, 1, 1) appears 3 times\n"
     ]
    }
   ],
   "source": [
    "triplets = [[1, 0, 1], [0, 1, 1], [0, 1, 0], [1, 1, 0]]\n",
    "triplet_dict = {}\n",
    "for triplet in triplets:\n",
    "    triplet.sort()\n",
    "    if tuple(triplet) in triplet_dict:\n",
    "        triplet_dict[tuple(triplet)] += 1\n",
    "    else:\n",
    "        triplet_dict[tuple(triplet)] = 1\n",
    "\n",
    "for triplet, count in triplet_dict.items():\n",
    "    if count > 1:\n",
    "        print(f\"Triplet {triplet} appears {count} times\")"
   ]
  },
  {
   "cell_type": "code",
   "execution_count": 14,
   "metadata": {},
   "outputs": [
    {
     "name": "stdout",
     "output_type": "stream",
     "text": [
      "(0, 1, 1)\n",
      "(0, 1, 1)\n",
      "(0, 0, 1)\n",
      "(0, 1, 1)\n",
      "Duplicate triplets: [[0, 1, 1], [0, 1, 1]]\n"
     ]
    }
   ],
   "source": [
    "triplets = [[1, 0, 1], [0, 1, 1], [0, 1, 0], [1, 1, 0]]\n",
    "triplet_set = set()\n",
    "duplicate_triplets = []\n",
    "\n",
    "for triplet in triplets:\n",
    "    triplet.sort()\n",
    "    triplet_tuple =tuple(triplet) \n",
    "    print(triplet_tuple)\n",
    "    if tuple(triplet_tuple) in triplet_set:\n",
    "        duplicate_triplets.append(triplet)\n",
    "    triplet_set.add(tuple(triplet_tuple))\n",
    "\n",
    "print(f\"Duplicate triplets: {duplicate_triplets}\")\n"
   ]
  },
  {
   "cell_type": "code",
   "execution_count": null,
   "metadata": {},
   "outputs": [],
   "source": [
    "from typing import List\n",
    "# 官方正解\n",
    "# 没用set 使用 nums[i] != nums[i-1] 和 nums[left] == nums[left-1] 判重\n",
    "class Solution:\n",
    "    def threeSum(self, nums: List[int]) -> List[List[int]]:\n",
    "        nums.sort()\n",
    "        res = []\n",
    "        for i in range(len(nums)):\n",
    "            if nums[i]>0:\n",
    "                break\n",
    "            if i == 0 or nums[i] != nums[i-1]:# 防止第一位数值重复\n",
    "                left = i+1\n",
    "                right = len(nums)-1\n",
    "                while left < right:\n",
    "                    mysum = nums[i] + nums[left] + nums[right]\n",
    "                    if mysum == 0:\n",
    "                        res.append([nums[i], nums[left],  nums[right]])\n",
    "                        left += 1\n",
    "                        while left < len(nums)-1 and nums[left] == nums[left-1]:# 防止第二位数值重复\n",
    "                            #防止在有序数组中的重复 移动左边端点\n",
    "                            left += 1\n",
    "                    elif mysum > 0:\n",
    "                        right -= 1\n",
    "                    else:\n",
    "                        left += 1\n",
    "        return res"
   ]
  },
  {
   "cell_type": "code",
   "execution_count": null,
   "metadata": {},
   "outputs": [],
   "source": [
    "# 9月份我看教程的解\n",
    "class Solution:\n",
    "    def threeSum(self,nums:List[int])->List:\n",
    "        if len(nums)<3:\n",
    "            return []\n",
    "        nums.sort()\n",
    "        res=set()\n",
    "        for i in range(0,len(nums)-2):\n",
    "            target=-nums[i]\n",
    "            l,r=i+1,len(nums)-1\n",
    "            while l<r:\n",
    "                while nums[l]+nums[r]>target and l<r:#可这个循环可以改成if \n",
    "                    r-=1#从小到大，右边界左移\n",
    "                while nums[l]+nums[r]<target and l<r:\n",
    "                    l+=1#太小了\n",
    "                if nums[l]+nums[r]==target and l<r:#s时刻保持l<r十分重要！！！\n",
    "                    res.add((nums[i],nums[l],nums[r]))\n",
    "                    while l<r and nums[l]==nums[l+1]:#防止在有序数组中的重复,跳过重复的地方\n",
    "                        l+=1\n",
    "                    while l<r and nums[r]==nums[r-1]:\n",
    "                        r-=1\n",
    "                    l+=1\n",
    "                    r-=1#这两部十分关键,其实关键就是保持变化,否则下一次还是会动的\n",
    "        return list(map(list,res))  "
   ]
  }
 ],
 "metadata": {
  "kernelspec": {
   "display_name": "base",
   "language": "python",
   "name": "python3"
  },
  "language_info": {
   "codemirror_mode": {
    "name": "ipython",
    "version": 3
   },
   "file_extension": ".py",
   "mimetype": "text/x-python",
   "name": "python",
   "nbconvert_exporter": "python",
   "pygments_lexer": "ipython3",
   "version": "3.9.12 (main, Apr  4 2022, 05:22:27) [MSC v.1916 64 bit (AMD64)]"
  },
  "orig_nbformat": 4,
  "vscode": {
   "interpreter": {
    "hash": "7b93ae2ddedcfb4b7ddebf80c8c7984044339b2e43f10e14b9461f3e640893f2"
   }
  }
 },
 "nbformat": 4,
 "nbformat_minor": 2
}
