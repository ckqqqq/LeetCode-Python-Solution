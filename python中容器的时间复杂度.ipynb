{
 "cells": [
  {
   "cell_type": "markdown",
   "metadata": {},
   "source": [
    "# python中各个容器的时间复杂度\n",
    "链接：https://www.zhihu.com/question/24909670/answer/2238473087\n"
   ]
  },
  {
   "cell_type": "markdown",
   "metadata": {},
   "source": [
    "# python中容器相互转化\n",
    "\n",
    "# 序列->元祖 ,\n",
    "tuple()\n",
    "```python\n",
    "list1 = [10, 20, 30, 40, 50]\n",
    "set1 = {100, 200, 300, 400, 500}\n",
    "print(tuple(list1))\n",
    "# (10, 20, 30, 40, 50)\n",
    "print(tuple(set1))\n",
    "# (100, 200, 300, 400, 500)\n",
    "```\n",
    "#序列->列表  []\n",
    "```python\n",
    "set1 = {100, 200, 300, 400, 500}\n",
    "tuple1 = ('a', 'b', 'c', 'd', 'e')\n",
    "\n",
    "print(list(tuple1))\n",
    "# ['a', 'b', 'c', 'd', 'e']\n",
    "\n",
    "print(list(set1))\n",
    "[100, 200, 300, 400, 500]\n",
    "``` \n",
    "# 序列->集合\n",
    "```python \n",
    "list1 = [10, 20, 30, 40, 50, 50]\n",
    "tuple1 = ('a', 'b', 'c', 'd', 'e')\n",
    "\n",
    "print(set(list1))\n",
    "# {40, 10, 50, 20, 30}\n",
    "# 汇合有去重性能，所以把反复的50去掉了\n",
    "\n",
    "print(set(tuple1))\n",
    "# {'c', 'd', 'e', 'a', 'b'}\n",
    "```"
   ]
  },
  {
   "cell_type": "markdown",
   "metadata": {},
   "source": [
    "#List切片"
   ]
  },
  {
   "cell_type": "code",
   "execution_count": 3,
   "metadata": {},
   "outputs": [
    {
     "name": "stdout",
     "output_type": "stream",
     "text": [
      "[1, 2]\n",
      "[1, 2, 3]\n",
      "[]\n"
     ]
    }
   ],
   "source": [
    "li=[1,2,3]\n",
    "print(li[:2])#不包含切片所在索引\n",
    "print(li[:3])#不包含切片所在索引\n",
    "print(li[:0])\n"
   ]
  }
 ],
 "metadata": {
  "kernelspec": {
   "display_name": "Python 3.9.12 ('base')",
   "language": "python",
   "name": "python3"
  },
  "language_info": {
   "codemirror_mode": {
    "name": "ipython",
    "version": 3
   },
   "file_extension": ".py",
   "mimetype": "text/x-python",
   "name": "python",
   "nbconvert_exporter": "python",
   "pygments_lexer": "ipython3",
   "version": "3.9.12"
  },
  "orig_nbformat": 4,
  "vscode": {
   "interpreter": {
    "hash": "7b93ae2ddedcfb4b7ddebf80c8c7984044339b2e43f10e14b9461f3e640893f2"
   }
  }
 },
 "nbformat": 4,
 "nbformat_minor": 2
}
