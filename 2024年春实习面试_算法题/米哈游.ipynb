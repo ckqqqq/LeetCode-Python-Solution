{
 "cells": [
  {
   "cell_type": "code",
   "execution_count": null,
   "metadata": {},
   "outputs": [],
   "source": [
    "# from os import preadv\n",
    "\n",
    "\n",
    "def solution(nums):\n",
    "    max_num=-1*(10**9)\n",
    "    # prev_num=-1*(10**9)\n",
    "    # idx=[]\n",
    "    counter=0\n",
    "    nums_len=len(nums)\n",
    "    # bit_list=(1<<(nums_len+1))\n",
    "    for idx,num in nums:\n",
    "        if num>max_num:\n",
    "            counter=1\n",
    "            max_num=num# 最大的登记\n",
    "            bit_list=(1<<(nums_len+1))|(1<<(idx))\n",
    "            # 10000100 \n",
    "            # 1000000\n",
    "            # 0000001\n",
    "            # 1000001\n",
    "            # bit_list=idx\n",
    "        elif num==max_num:\n",
    "            counter+=1# 概率就是1/counter\n",
    "            bit_list=bit_list|(1<<(idx))\n",
    "            ##10100100 \n",
    "    #decode\n",
    "    # 10001& 10001&（10001-1）\n",
    "    # 10000\n",
    "            \n",
    "    # while bit_list&(bit_list-1):lgn()\n",
    "    #     baide\n",
    "    #01000001000\n",
    "    # 59\n",
    "    ## 位存储\n",
    "    ## \n",
    "    \n",
    "    \n",
    "# 1 2 3 6  ：1\n",
    "# 2 4 6  ：2\n",
    "# 9 1 3 ：1\n",
    "# 1 1 9 ：2"
   ]
  },
  {
   "cell_type": "code",
   "execution_count": null,
   "metadata": {},
   "outputs": [],
   "source": [
    "从数组A中等概率输出最大的数字，例如【1,2,6,3,4,6】中，50%概率输出第三位的6，50%概率输出第六位的6。要求: 1)空间复杂度o(1)，2）数组中的数字只能读一次（即仅仅能扫描一次）"
   ]
  },
  {
   "cell_type": "markdown",
   "metadata": {},
   "source": []
  }
 ],
 "metadata": {
  "language_info": {
   "name": "python"
  }
 },
 "nbformat": 4,
 "nbformat_minor": 2
}
