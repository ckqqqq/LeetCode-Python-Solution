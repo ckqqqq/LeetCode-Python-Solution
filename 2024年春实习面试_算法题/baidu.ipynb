{
 "cells": [
  {
   "cell_type": "code",
   "execution_count": null,
   "metadata": {},
   "outputs": [],
   "source": [
    "from typing import List\n",
    "class Solution:\n",
    "    def baidu2ndtest(self, nums: List[int]) -> int:\n",
    "        pass\n",
    "        \n",
    "solution=Solution()\n",
    "print(solution.baidu2ndtest([1,4,3]))\n",
    "print(solution.baidu2ndtest([1,4,7,8,5]))"
   ]
  },
  {
   "cell_type": "code",
   "execution_count": 16,
   "metadata": {},
   "outputs": [
    {
     "name": "stdout",
     "output_type": "stream",
     "text": [
      "{'val': 1, 'left': {'val': 2, 'left': {'val': 4, 'left': None, 'right': {'val': 7, 'left': None, 'right': None}}, 'right': None}, 'right': {'val': 3, 'left': {'val': 5, 'left': None, 'right': None}, 'right': {'val': 6, 'left': {'val': 8, 'left': None, 'right': None}, 'right': None}}}\n",
      "1\n",
      "2\n",
      "4\n",
      "7\n",
      "3\n",
      "5\n",
      "6\n",
      "8\n"
     ]
    }
   ],
   "source": [
    "from typing import List\n",
    "# class Node:\n",
    "#     def __init__(self,left,right) -> None:\n",
    "        \n",
    "class Solution:\n",
    "    def dfs(self,preorder,inorder):\n",
    "        if len(preorder)==0:\n",
    "            return None\n",
    "        cur_root={}\n",
    "        idx=0\n",
    "        for i,val in enumerate(inorder):#\n",
    "            if val==preorder[0]:\n",
    "                idx=i\n",
    "                cur_root[\"val\"]=preorder[0]\n",
    "                break\n",
    "        cur_root[\"left\"]=self.dfs(preorder[1:idx+1],inorder[:idx])\n",
    "        cur_root[\"right\"]=self.dfs(preorder[idx+1:],inorder[idx+1:])# \n",
    "        return cur_root\n",
    "    def print_dfs(self,cur_root):\n",
    "        if cur_root==None:\n",
    "            return \n",
    "        print(cur_root['val'])\n",
    "        self.print_dfs(cur_root['left'])\n",
    "        self.print_dfs(cur_root['right'])\n",
    "solution=Solution()\n",
    "tmp_ans=solution.dfs([1,2,4,7,3,5,6,8],[4,7,2,1,5,3,8,6])\n",
    "print(tmp_ans)\n",
    "solution.print_dfs(tmp_ans)\n",
    "# print()\n",
    "# print(solution.baidu2test([1,4,7,8,5]))"
   ]
  }
 ],
 "metadata": {
  "kernelspec": {
   "display_name": "py38",
   "language": "python",
   "name": "python3"
  },
  "language_info": {
   "codemirror_mode": {
    "name": "ipython",
    "version": 3
   },
   "file_extension": ".py",
   "mimetype": "text/x-python",
   "name": "python",
   "nbconvert_exporter": "python",
   "pygments_lexer": "ipython3",
   "version": "3.8.13"
  },
  "orig_nbformat": 4
 },
 "nbformat": 4,
 "nbformat_minor": 2
}
