{
 "cells": [
  {
   "cell_type": "code",
   "execution_count": 13,
   "metadata": {},
   "outputs": [
    {
     "name": "stdout",
     "output_type": "stream",
     "text": [
      "实习面试模板\n",
      "9021.000191\n",
      "实习面试模板\n",
      "9021.3212\n",
      "实习面试模板\n",
      "9021\n",
      "实习面试模板\n",
      ".9021\n"
     ]
    }
   ],
   "source": [
    "class Solution():\n",
    "    def problem1(self,input_f:str):\n",
    "        ans=[]\n",
    "        print(\"实习面试模板\")\n",
    "        input_z,input_f=input_f.split(\".\")\n",
    "        flag=False\n",
    "        # print(input_z)\n",
    "        for ch in input_z[::-1]:\n",
    "            if ch!=\"0\" :\n",
    "                flag=True\n",
    "            if flag :\n",
    "                ans.append(ch)\n",
    "        if input_f!=\"0\" and input_f!=None:\n",
    "            ans.append(\".\")   \n",
    "            for ch in input_f[::-1]:\n",
    "                ans.append(ch)\n",
    "            # for i in range(len(ans),-1,1)\n",
    "        return \"\".join(ans)\n",
    "solution=Solution()\n",
    "print(solution.problem1(\"120900.191000\"))\n",
    "print(solution.problem1(\"1209.2123\"))\n",
    "print(solution.problem1(\"1209.0\"))\n",
    "# print(solution.problem1(\"1209\"))\n",
    "\n",
    "print(solution.problem1(\"0.1209\"))\n",
    "\n"
   ]
  },
  {
   "cell_type": "code",
   "execution_count": null,
   "metadata": {},
   "outputs": [],
   "source": [
    "class Solution():\n",
    "    def checktime(i):\n",
    "        ans=0\n",
    "        while i&1!=0：\n",
    "            ans+=1        \n",
    "        return ans\n",
    "    def problem1(self,input_f:list):\n",
    "        ans=[]\n",
    "        for i in inputf:\n",
    "            ans.append(checktime(i))\n",
    "        return ans\n",
    "solution=Solution([i for i in range(1,14)])"
   ]
  },
  {
   "cell_type": "code",
   "execution_count": null,
   "metadata": {},
   "outputs": [],
   "source": [
    "class Solution():\n",
    "    def problem1(self,input_f:list):\n",
    "        count=0\n",
    "        while \n",
    "        return ans\n",
    "solution=Solution([i for i in range(1,14)])"
   ]
  },
  {
   "attachments": {},
   "cell_type": "markdown",
   "metadata": {},
   "source": [
    "1 2 3 4 5 6 7 8 9 10 11 12 13\n",
    "1   2   3   4   5    6      7\n",
    "  8       9       10    \n",
    "      11                \n",
    "                         12\n",
    "7+3+2+1"
   ]
  },
  {
   "cell_type": "code",
   "execution_count": null,
   "metadata": {},
   "outputs": [],
   "source": [
    "class Solution():\n",
    "    def problem1(self,n):\n",
    "        print(\"实习面试模板\")\n",
    "        \n",
    "solution=Solution()\n",
    "print(solution.problem1(4))\n",
    "print(solution.problem1(30))\n"
   ]
  }
 ],
 "metadata": {
  "kernelspec": {
   "display_name": "py38",
   "language": "python",
   "name": "python3"
  },
  "language_info": {
   "codemirror_mode": {
    "name": "ipython",
    "version": 3
   },
   "file_extension": ".py",
   "mimetype": "text/x-python",
   "name": "python",
   "nbconvert_exporter": "python",
   "pygments_lexer": "ipython3",
   "version": "3.8.13"
  },
  "orig_nbformat": 4
 },
 "nbformat": 4,
 "nbformat_minor": 2
}
