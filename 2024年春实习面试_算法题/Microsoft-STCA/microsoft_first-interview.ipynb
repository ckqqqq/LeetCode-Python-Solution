{
 "cells": [
  {
   "cell_type": "code",
   "execution_count": null,
   "metadata": {},
   "outputs": [],
   "source": [
    "class Solution:\n",
    "    def lengthOfLIS(self, nums: List[int]) -> int:\n",
    "        if len(nums)<=1:\n",
    "            return len(nums)\n",
    "        stack_=[]\n",
    "        for target in nums:\n",
    "            left,right=0,len(stack_)-1\n",
    "            while left<=right:\n",
    "                mid=left+((right-left)>>1)\n",
    "                if stack_[mid][-1]<target:#这里记得加那个-1\n",
    "                    left=mid+1\n",
    "                elif stack_[mid][-1]>target:\n",
    "                    right=mid-1\n",
    "                else:\n",
    "                    right=mid-1#这里用一个数试一试就行了\n",
    "            if left>len(stack_)-1 or not nums:#list没有empty，直接判断即可\n",
    "                #记得这个-1！！！代表超出数组界限\n",
    "                stack_.append([target])\n",
    "            else:\n",
    "                stack_[left].append(target)\n",
    "        return len(stack_)           "
   ]
  },
  {
   "cell_type": "code",
   "execution_count": null,
   "metadata": {},
   "outputs": [],
   "source": [
    "# for in range(start,XX) \n",
    "# 考虑多次重复使用同一种零钱的情况 重复回溯\n",
    "class Solution():\n",
    "    # DFS\n",
    "    def combination(self,candidates,target):\n",
    "        def dfs(start,remain,path):\n",
    "            if remain<=0:\n",
    "                if remain==0:\n",
    "                    result.append(path)\n",
    "                return \n",
    "            for index in range(start,len(candidates)):\n",
    "                dfs(index,remain-candidates[index],path+[candidates[index]])\n",
    "        result=[]\n",
    "        dfs(0,target,[])\n",
    "        return result\n",
    "solution=Solution()\n",
    "print(solution.combination([1,2,3,5],7))"
   ]
  }
 ],
 "metadata": {
  "language_info": {
   "name": "python"
  },
  "orig_nbformat": 4
 },
 "nbformat": 4,
 "nbformat_minor": 2
}
