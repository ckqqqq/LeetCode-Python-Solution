{
 "cells": [
  {
   "cell_type": "code",
   "execution_count": null,
   "metadata": {},
   "outputs": [],
   "source": []
  },
  {
   "attachments": {},
   "cell_type": "markdown",
   "metadata": {},
   "source": [
    "32. Longest Valid Parentheses\n",
    "Hard\n",
    "10.4K\n",
    "328\n",
    "Companies\n",
    "Given a string containing just the characters '(' and ')', return the length of the longest valid (well-formed) parentheses \n",
    "substring\n",
    ".\n",
    "\n",
    " \n",
    "\n",
    "Example 1:\n",
    "\n",
    "Input: s = \"(()\"\n",
    "Output: 2\n",
    "Explanation: The longest valid parentheses substring is \"()\".\n",
    "Example 2:\n",
    "\n",
    "Input: s = \"(()()(\"\n",
    "Output: 4\n",
    "Explanation: The longest valid parentheses substring is \"()()\".\n",
    "Example 3:\n",
    "\n",
    "\")()(()\"\n",
    "\n",
    "\"((()())()\"\n",
    "\n",
    "())()\n",
    "()(()\n",
    "()\n",
    "Input: s = \"\"\n",
    "Output: 0\n",
    " []_[]][[[]]]_]]\n",
    "\n",
    "Constraints:\n",
    "\n",
    "0 <= s.length <= 3 * 104\n",
    "s[i] is '(', or ')'.\n",
    "][[[]]][[]"
   ]
  },
  {
   "cell_type": "code",
   "execution_count": 10,
   "metadata": {},
   "outputs": [
    {
     "name": "stdout",
     "output_type": "stream",
     "text": [
      "[1, 1, 1, 1]\n",
      "4\n",
      "[0, 1, 1]\n",
      "2\n",
      "[0, 1, 1, 1, 1, 0]\n",
      "4\n",
      "[0, 1, 1, 1, 1, 1, 1, 0, 1, 1, 1, 1, 1, 1, 1, 1, 1, 1]\n",
      "10\n"
     ]
    }
   ],
   "source": [
    "\n",
    "class Solution:\n",
    "    def longestValidParentheses(self, s: str) -> int:\n",
    "        stack=[]\n",
    "        mark=[0 for _ in range(len(s))]\n",
    "        for i,ch in enumerate(s):\n",
    "            if ch==\"(\":\n",
    "                stack.append(i)\n",
    "            elif ch==\")\":\n",
    "                if len(stack)!=0:\n",
    "                    mark[stack[-1]]=1\n",
    "                    stack.pop()\n",
    "                    mark[i]=1\n",
    "        print(mark)\n",
    "        ans,count=0,0 # 忘记使用这个count 直接使用ans\n",
    "        for m in mark:\n",
    "            if m==1:\n",
    "                count+=1\n",
    "            else:\n",
    "                count=0\n",
    "            ans=max(count,ans)\n",
    "        return ans\n",
    "solution=Solution()\n",
    "print(solution.longestValidParentheses(\"()()\"))\n",
    "print(solution.longestValidParentheses(\"(()\"))\n",
    "print(solution.longestValidParentheses(\")()())\"))\n",
    "print(solution.longestValidParentheses(\")(()())((()()()())\"))\n"
   ]
  },
  {
   "cell_type": "code",
   "execution_count": null,
   "metadata": {},
   "outputs": [],
   "source": [
    "class Solution:\n",
    "    def longestValidParentheses(self, s: str) -> int:\n",
    "        stack=[]\n",
    "        l=['0']*len(s)\n",
    "        for ind,i in enumerate(s):\n",
    "            if i=='(':\n",
    "                stack.append(ind)\n",
    "            else:\n",
    "                if stack:\n",
    "                    l[stack.pop()]='1'\n",
    "                    l[ind]='1'\n",
    "        return max(len(i) for i in ''.join(l).split('0'))"
   ]
  },
  {
   "cell_type": "code",
   "execution_count": null,
   "metadata": {},
   "outputs": [],
   "source": [
    "# 记录最长连续段的错误做法\n"
   ]
  }
 ],
 "metadata": {
  "kernelspec": {
   "display_name": "base",
   "language": "python",
   "name": "python3"
  },
  "language_info": {
   "codemirror_mode": {
    "name": "ipython",
    "version": 3
   },
   "file_extension": ".py",
   "mimetype": "text/x-python",
   "name": "python",
   "nbconvert_exporter": "python",
   "pygments_lexer": "ipython3",
   "version": "3.9.12 (main, Apr  4 2022, 05:22:27) [MSC v.1916 64 bit (AMD64)]"
  },
  "orig_nbformat": 4,
  "vscode": {
   "interpreter": {
    "hash": "7b93ae2ddedcfb4b7ddebf80c8c7984044339b2e43f10e14b9461f3e640893f2"
   }
  }
 },
 "nbformat": 4,
 "nbformat_minor": 2
}
