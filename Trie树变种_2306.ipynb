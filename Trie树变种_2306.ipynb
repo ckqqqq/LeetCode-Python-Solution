{
 "cells": [
  {
   "cell_type": "code",
   "execution_count": null,
   "metadata": {},
   "outputs": [],
   "source": [
    "2306. Naming a Company\n",
    "Hard\n",
    "1K\n",
    "49\n",
    "Companies\n",
    "You are given an array of strings ideas that represents a list of names to be used in the process of naming a company. The process of naming a company is as follows:\n",
    "\n",
    "Choose 2 distinct names from ideas, call them ideaA and ideaB.\n",
    "Swap the first letters of ideaA and ideaB with each other.\n",
    "If both of the new names are not found in the original ideas, then the name ideaA ideaB (the concatenation of ideaA and ideaB, separated by a space) is a valid company name.\n",
    "Otherwise, it is not a valid name.\n",
    "Return the number of distinct valid names for the company.\n",
    "\n",
    " \n",
    "\n",
    "Example 1:\n",
    "\n",
    "Input: ideas = [\"coffee\",\"donuts\",\"time\",\"toffee\"]\n",
    "Output: 6\n",
    "Explanation: The following selections are valid:\n",
    "- (\"coffee\", \"donuts\"): The company name created is \"doffee conuts\".\n",
    "- (\"donuts\", \"coffee\"): The company name created is \"conuts doffee\".\n",
    "- (\"donuts\", \"time\"): The company name created is \"tonuts dime\".\n",
    "- (\"donuts\", \"toffee\"): The company name created is \"tonuts doffee\".\n",
    "- (\"time\", \"donuts\"): The company name created is \"dime tonuts\".\n",
    "- (\"toffee\", \"donuts\"): The company name created is \"doffee tonuts\".\n",
    "Therefore, there are a total of 6 distinct company names.\n",
    "\n",
    "The following are some examples of invalid selections:\n",
    "- (\"coffee\", \"time\"): The name \"toffee\" formed after swapping already exists in the original array.\n",
    "- (\"time\", \"toffee\"): Both names are still the same after swapping and exist in the original array.\n",
    "- (\"coffee\", \"toffee\"): Both names formed after swapping already exist in the original array.\n",
    "Example 2:\n",
    "\n",
    "Input: ideas = [\"lack\",\"back\"]\n",
    "Output: 0\n",
    "Explanation: There are no valid selections. Therefore, 0 is returned.\n",
    " \n",
    "\n",
    "Constraints:\n",
    "\n",
    "2 <= ideas.length <= 5 * 104\n",
    "1 <= ideas[i].length <= 10\n",
    "ideas[i] consists of lowercase English letters.\n",
    "All the strings in ideas are unique."
   ]
  },
  {
   "cell_type": "markdown",
   "metadata": {},
   "source": []
  },
  {
   "cell_type": "code",
   "execution_count": null,
   "metadata": {},
   "outputs": [],
   "source": [
    "from typing import List\n",
    "class Solution:\n",
    "    def distinctNames(self, ideas: List[str]) -> int:\n",
    "        "
   ]
  }
 ],
 "metadata": {
  "language_info": {
   "name": "python"
  },
  "orig_nbformat": 4
 },
 "nbformat": 4,
 "nbformat_minor": 2
}
