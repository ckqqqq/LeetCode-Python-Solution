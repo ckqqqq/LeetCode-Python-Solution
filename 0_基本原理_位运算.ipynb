{
 "cells": [
  {
   "cell_type": "code",
   "execution_count": 2,
   "metadata": {},
   "outputs": [
    {
     "name": "stdout",
     "output_type": "stream",
     "text": [
      "-0b10\n"
     ]
    }
   ],
   "source": [
    "print(bin(~1))"
   ]
  },
  {
   "cell_type": "code",
   "execution_count": 15,
   "metadata": {},
   "outputs": [
    {
     "name": "stdout",
     "output_type": "stream",
     "text": [
      "[0, 1, 2, 3, 4, 5, 6, 7, 8, 9, 10, 11, 12, 13, 14, 15]\n",
      "[1, 1, 1, 1, 1, 1, 1, 1, 1, 1, 1, 1, 1, 1, 1, 1]\n",
      "[2, 1, 1, 1, 1, 1, 1, 1, 1, 1, 1, 1, 1, 1, 1, 1]\n",
      "[3, 1, 1, 0, 1, 1, 0, 1, 1, 0, 1, 1, 0, 0, 1, 0]\n",
      "[4, 1, 1, 1, 1, 1, 1, 1, 1, 1, 1, 1, 1, 1, 1, 1]\n",
      "[5, 1, 1, 1, 1, 0, 1, 1, 1, 1, 0, 0, 1, 0, 1, 0]\n",
      "[6, 1, 1, 0, 1, 1, 0, 1, 1, 0, 1, 1, 0, 0, 1, 0]\n",
      "[7, 1, 1, 1, 1, 1, 1, 0, 1, 0, 1, 0, 1, 0, 0, 0]\n",
      "[8, 1, 1, 1, 1, 1, 1, 1, 1, 1, 1, 1, 1, 1, 1, 1]\n",
      "[9, 1, 1, 0, 1, 1, 0, 0, 1, 0, 1, 0, 0, 0, 0, 0]\n",
      "[10, 1, 1, 1, 1, 0, 1, 1, 1, 1, 0, 0, 1, 0, 1, 0]\n",
      "[11, 1, 1, 1, 1, 0, 1, 0, 1, 0, 0, 0, 1, 0, 0, 0]\n",
      "[12, 1, 1, 0, 1, 1, 0, 1, 1, 0, 1, 1, 0, 0, 1, 0]\n",
      "[13, 1, 1, 0, 1, 0, 0, 0, 1, 0, 0, 0, 0, 0, 0, 0]\n",
      "[14, 1, 1, 1, 1, 1, 1, 0, 1, 0, 1, 0, 1, 0, 0, 0]\n",
      "[15, 1, 1, 0, 1, 0, 0, 0, 1, 0, 0, 0, 0, 0, 0, 0]\n"
     ]
    }
   ],
   "source": [
    "import queue\n",
    "def dptest(n):\n",
    "    dp=[[0 for _ in range(n+1)] for _ in range(n+1)]\n",
    "    que=queue.Queue()\n",
    "    for i in range(0,n+1):\n",
    "        dp[0][i]=i\n",
    "        dp[i][0]=i\n",
    "    for i in range(0,n+1):\n",
    "        dp[1][i]=1\n",
    "        que.put((1,i))\n",
    "        dp[i][1]=1\n",
    "        que.put((i,1))\n",
    "    def test(x,y,que):\n",
    "        if 0<x<=n and 0<y<=n and dp[x][y]!=1:\n",
    "            dp[x][y]=1\n",
    "            que.put((x,y))\n",
    "    while que.qsize()>0:\n",
    "        x,y=que.get()\n",
    "        test(2*x,y,que)\n",
    "        test(x,y*2,que)\n",
    "        test(x,y-x,que)\n",
    "        test(x-y,y,que)\n",
    "    for lis in dp:\n",
    "        print(lis)\n",
    "dptest(15)\n",
    "        \n",
    "    # 这种数学题先生成样例图像比较好\n",
    "            "
   ]
  },
  {
   "cell_type": "code",
   "execution_count": null,
   "metadata": {},
   "outputs": [
    {
     "name": "stdout",
     "output_type": "stream",
     "text": [
      "0b1000\n",
      "-0b1000\n",
      "0b1000\n"
     ]
    }
   ],
   "source": [
    "a=8\n",
    "print(bin(a))\n",
    "# a=1000 一个数的补码是一个数取反再加上一\n",
    "\n",
    "# -a=0001+1=0010\n",
    "# 1<(0-1)\n",
    "print(bin(-a))\n",
    "print(bin(a&(-a)))"
   ]
  },
  {
   "cell_type": "code",
   "execution_count": null,
   "metadata": {},
   "outputs": [],
   "source": [
    "# 最基本的操作\n",
    "x&x-1#去除最低位置的1\n",
    "x&-x #得到最低位的1"
   ]
  },
  {
   "cell_type": "code",
   "execution_count": null,
   "metadata": {},
   "outputs": [],
   "source": [
    "# 复杂操作\n",
    "x&(1<<(n-1))#获取2^n次幂的值\n",
    "x=x|(1<<(n-1))#将2^n次幂设为1\n",
    "x=x&(~(1<<(n-1))))将将2^n次幂设为0"
   ]
  },
  {
   "cell_type": "code",
   "execution_count": 7,
   "metadata": {},
   "outputs": [
    {
     "name": "stdout",
     "output_type": "stream",
     "text": [
      "-0b1\n",
      "0b111\n"
     ]
    }
   ],
   "source": [
    "# 一个容易错的点 所以在八皇后问题中，需要确保正数\n",
    "~(000)!=(111)\n",
    "x=0\n",
    "print(bin(~x))\n",
    "print(bin(~x&((1<<3)-1)))"
   ]
  },
  {
   "cell_type": "code",
   "execution_count": 3,
   "metadata": {},
   "outputs": [
    {
     "name": "stdout",
     "output_type": "stream",
     "text": [
      "0b1000\n"
     ]
    }
   ],
   "source": [
    "# 打印二进制\n",
    "print(bin(8))"
   ]
  },
  {
   "attachments": {},
   "cell_type": "markdown",
   "metadata": {},
   "source": [
    "![](image\\八皇后位运算原理.png)"
   ]
  },
  {
   "cell_type": "code",
   "execution_count": null,
   "metadata": {},
   "outputs": [],
   "source": [
    "# 重写：位运算八皇后问题\n",
    "# 八皇后问题的关键就在于\n",
    "# pie=row+col \n",
    "# na=row-col 或者 na=col-row\n",
    "注意的是加的左移动减的右边移动\n",
    "（撇和捺的本质都是00000000（八个0），撇的话窗口向左，捺的话窗口向右，两者具有对称性）\n",
    "\n",
    "看上面那张图\n",
    "撇的话下一行y=上一行y+1（<<1）\n",
    "捺的话下一行y=上一行y-1（>>1）\n",
    "两者其实是对称的\n"
   ]
  },
  {
   "cell_type": "code",
   "execution_count": 20,
   "metadata": {},
   "outputs": [
    {
     "name": "stdout",
     "output_type": "stream",
     "text": [
      "[[['.', 'Q', '.', '.'], ['.', '.', '.', 'Q'], ['Q', '.', '.', '.'], ['.', '.', 'Q', '.']], [['.', '.', 'Q', '.'], ['Q', '.', '.', '.'], ['.', '.', '.', 'Q'], ['.', 'Q', '.', '.']]]\n"
     ]
    }
   ],
   "source": [
    "#n皇后问题最快的方法其实是暴力打表法\n",
    "#n皇后问题\n",
    "#\n",
    "#n皇后问题最快的方法其实是暴力打表法\n",
    "#n皇后问题\n",
    "#\n",
    "import copy\n",
    "class Solution:\n",
    "    def totalNQueens(self, n: int) -> int:\n",
    "        def get_one_bit_num(one_bit):# 输入100 输出2 输入 10 输出 1\n",
    "            '''一个获取是2的几次幂级的函数'''\n",
    "            if one_bit==0:\n",
    "                print(\"0\")\n",
    "            col=0\n",
    "            while one_bit>1:\n",
    "                one_bit=one_bit>>1\n",
    "                col+=1\n",
    "            return col\n",
    "        board=[[\".\" for _ in range(n)] for _ in range(n) ]\n",
    "        ans=[]\n",
    "        def dfs(row_num,col,pie,na):\n",
    "            if row_num==n:\n",
    "                ans.append(copy.deepcopy(board))\n",
    "                return\n",
    "            zero_bits=(~col&~pie&~na)&((1<<n)-1)\n",
    "            while zero_bits>0:\n",
    "                one_bit=zero_bits&-zero_bits#取最后一位1\n",
    "                board[row_num][get_one_bit_num(one_bit)]=\"Q\"#注意这里是one_bit作为列\n",
    "                dfs(row_num+1,col|one_bit,(pie|one_bit)<<1,(na|one_bit)>>1)\n",
    "                board[row_num][get_one_bit_num(one_bit)]=\".\"\n",
    "                zero_bits=zero_bits&(zero_bits-1)#去除最后一位1\n",
    "        dfs(0,0,0,0)\n",
    "        return ans\n",
    "if __name__==\"__main__\":\n",
    "    solution=Solution()\n",
    "    print(solution.totalNQueens(4))\n",
    "\n",
    "    \n",
    "    #这种位运算不具备可复原性"
   ]
  }
 ],
 "metadata": {
  "kernelspec": {
   "display_name": "base",
   "language": "python",
   "name": "python3"
  },
  "language_info": {
   "codemirror_mode": {
    "name": "ipython",
    "version": 3
   },
   "file_extension": ".py",
   "mimetype": "text/x-python",
   "name": "python",
   "nbconvert_exporter": "python",
   "pygments_lexer": "ipython3",
   "version": "3.9.12"
  },
  "orig_nbformat": 4,
  "vscode": {
   "interpreter": {
    "hash": "7b93ae2ddedcfb4b7ddebf80c8c7984044339b2e43f10e14b9461f3e640893f2"
   }
  }
 },
 "nbformat": 4,
 "nbformat_minor": 2
}
