{
 "cells": [
  {
   "cell_type": "code",
   "execution_count": null,
   "metadata": {},
   "outputs": [],
   "source": []
  },
  {
   "cell_type": "markdown",
   "metadata": {},
   "source": [
    "## two sum \n",
    "[2,7,11,15] 9\n",
    " 0 1 "
   ]
  },
  {
   "cell_type": "code",
   "execution_count": 7,
   "metadata": {},
   "outputs": [
    {
     "name": "stdout",
     "output_type": "stream",
     "text": [
      "0 1\n",
      "None\n",
      "None\n",
      "2 3\n",
      "3 2\n",
      "None\n"
     ]
    }
   ],
   "source": [
    "from typing import List \n",
    "class Solution:\n",
    "    def twoSum(self,nums:List,target:int):\n",
    "        myhash={}\n",
    "        for i,val in enumerate(nums):\n",
    "            myhash[val]=i\n",
    "        for i,val in enumerate(nums):\n",
    "            if myhash.get(target-val) and myhash[target-val]!=i:\n",
    "                \n",
    "        \n",
    "if __name__==\"__main__\":\n",
    "    solution=Solution()\n",
    "    print(solution.twoSum([2,7,11,15],9))\n",
    "    print(solution.twoSum([2,7,11,15],10))\n",
    "    print(solution.twoSum([2,7,11,15],26))\n",
    "    "
   ]
  },
  {
   "cell_type": "code",
   "execution_count": null,
   "metadata": {},
   "outputs": [],
   "source": [
    "### three Sum"
   ]
  }
 ],
 "metadata": {
  "kernelspec": {
   "display_name": "Python 3.8.13 ('py38')",
   "language": "python",
   "name": "python3"
  },
  "language_info": {
   "codemirror_mode": {
    "name": "ipython",
    "version": 3
   },
   "file_extension": ".py",
   "mimetype": "text/x-python",
   "name": "python",
   "nbconvert_exporter": "python",
   "pygments_lexer": "ipython3",
   "version": "3.8.13"
  },
  "orig_nbformat": 4,
  "vscode": {
   "interpreter": {
    "hash": "76c3c49e318b7c885b43daef0aa3cfe4eb22ade01aff18419595a86661fada18"
   }
  }
 },
 "nbformat": 4,
 "nbformat_minor": 2
}
