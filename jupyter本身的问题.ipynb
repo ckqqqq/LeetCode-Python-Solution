{
 "cells": [
  {
   "cell_type": "markdown",
   "metadata": {},
   "source": [
    "### python list import name 'List' is not defined\n",
    "解决方法 https://www.baidu.com/link?url=N3so0OMSLDr0-A8BVf_Zz-zvzhiZkB1HuuVGsamuf2EK1Uz2IgSRHhbVAlyFLrg4wzO_A4J3gVrLuH2pLefGDve9qQL0NGQZqqhb6NR7ruS&wd=&eqid=81f7fe6a000487770000000362df976c\n"
   ]
  },
  {
   "cell_type": "code",
   "execution_count": null,
   "metadata": {},
   "outputs": [],
   "source": [
    "print(\\u6211\\u672c\\u662f\\u663e\\u8d6b\\u4e16\\u5bb6\\u7684\\u5965\\u7279\\u66fc\\uff0c\\u5374\\u88ab\\u8be1\\u8ba1\\u591a\\u7aef\\u7684\\u602a\\u517d\\u6240\\u5bb3\\uff01\\u5965\\u7279\\u66fc\\u5bb6\\u65cf\\u5f03\\u6211\\u91cd\\u751f\\u4e00\\u4e16\\uff0c\\u4eca\\u5929\\u80af\\u5fb7\\u57fa\\u75af\\u72c2\\u661f\\u671f\\u56db\\uff01\\u8c01\\u8bf7\\u6211\\u5403\\uff1f)"
   ]
  },
  {
   "cell_type": "code",
   "execution_count": null,
   "metadata": {},
   "outputs": [],
   "source": [
    "print(\\u6211\\u672c\\u662f\\u663e\\u8d6b\\u4e16\\u5bb6\\u7684\\u5965\\u7279\\u66fc\\uff0c\\u5374\\u88ab\\u8be1\\u8ba1\\u591a\\u7aef\\u7684\\u602a\\u517d\\u6240\\u5bb3\\uff01\\u5965\\u7279\\u66fc\\u5bb6\\u65cf\\u5f03\\u6211\\u91cd\\u751f\\u4e00\\u4e16\\uff0c\\u4eca\\u5929\\u80af\\u5fb7\\u57fa\\u75af\\u72c2\\u661f\\u671f\\u56db\\uff01\\u8c01\\u8bf7\\u6211\\u5403\\uff1f)"
   ]
  },
  {
   "cell_type": "markdown",
   "metadata": {},
   "source": [
    "### Python vscode 运行 jupyter notebook 报错Error loading preloads: Could not find renderer\n",
    "解决方法 https://blog.csdn.net/weixin_43145361/article/details/124037923"
   ]
  }
 ],
 "metadata": {
  "kernelspec": {
   "display_name": "base",
   "language": "python",
   "name": "python3"
  },
  "language_info": {
   "name": "python",
   "version": "3.9.12"
  },
  "orig_nbformat": 4
 },
 "nbformat": 4,
 "nbformat_minor": 2
}
