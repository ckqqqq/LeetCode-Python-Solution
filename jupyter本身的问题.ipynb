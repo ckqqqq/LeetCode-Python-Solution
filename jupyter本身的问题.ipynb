{
 "cells": [
  {
   "cell_type": "markdown",
   "metadata": {},
   "source": [
    "### python list import name 'List' is not defined\n",
    "解决方法 https://www.baidu.com/link?url=N3so0OMSLDr0-A8BVf_Zz-zvzhiZkB1HuuVGsamuf2EK1Uz2IgSRHhbVAlyFLrg4wzO_A4J3gVrLuH2pLefGDve9qQL0NGQZqqhb6NR7ruS&wd=&eqid=81f7fe6a000487770000000362df976c\n"
   ]
  },
  {
   "cell_type": "markdown",
   "metadata": {},
   "source": [
    "### Python vscode 运行 jupyter notebook 报错Error loading preloads: Could not find renderer\n",
    "解决方法 https://blog.csdn.net/weixin_43145361/article/details/124037923"
   ]
  }
 ],
 "metadata": {
  "language_info": {
   "name": "python"
  },
  "orig_nbformat": 4
 },
 "nbformat": 4,
 "nbformat_minor": 2
}
