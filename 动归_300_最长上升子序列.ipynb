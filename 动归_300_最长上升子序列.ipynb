{
 "cells": [
  {
   "cell_type": "code",
   "execution_count": null,
   "metadata": {},
   "outputs": [],
   "source": [
    "class Solution:\n",
    "    def lengthOfLIS(self, nums: List[int]) -> int:\n",
    "        if len(nums)<=1:\n",
    "            return len(nums)\n",
    "        stack_=[]\n",
    "        for target in nums:\n",
    "            left,right=0,len(stack_)-1\n",
    "            while left<=right:\n",
    "                mid=left+((right-left)>>1)\n",
    "                if stack_[mid][-1]<target:#这里记得加那个-1\n",
    "                    left=mid+1\n",
    "                elif stack_[mid][-1]>target:\n",
    "                    right=mid-1\n",
    "                else:\n",
    "                    right=mid-1#这里用一个数试一试就行了\n",
    "            if left>len(stack_)-1 or not nums:#list没有empty，直接判断即可\n",
    "                #记得这个-1！！！代表超出数组界限\n",
    "                stack_.append([target])\n",
    "            else:\n",
    "                stack_[left].append(target)\n",
    "        return len(stack_)           "
   ]
  },
  {
   "cell_type": "markdown",
   "metadata": {},
   "source": [
    "nums = [10,9,2,5,3,7,101,18]\n",
    "Output: 4\n",
    "10 5 7 101\n",
    "9  3   18\n",
    "2\n",
    "\n",
    "[7]\n",
    "7\n",
    "7\n",
    "\n",
    "[[9]]\n",
    "7"
   ]
  }
 ],
 "metadata": {
  "language_info": {
   "name": "python"
  },
  "orig_nbformat": 4
 },
 "nbformat": 4,
 "nbformat_minor": 2
}
