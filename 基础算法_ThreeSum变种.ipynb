{
 "cells": [
  {
   "cell_type": "code",
   "execution_count": null,
   "metadata": {},
   "outputs": [],
   "source": []
  },
  {
   "attachments": {},
   "cell_type": "markdown",
   "metadata": {},
   "source": [
    "16. 3Sum Closest\n",
    "Medium\n",
    "8.4K\n",
    "462\n",
    "Companies\n",
    "Given an integer array nums of length n and an integer target, find three integers in nums such that the sum is closest to target.\n",
    "\n",
    "Return the sum of the three integers.\n",
    "\n",
    "You may assume that each input would have exactly one solution.\n",
    "\n",
    " \n",
    "\n",
    "Example 1:\n",
    "\n",
    "Input: nums = [-1,2,1,-4], target = 1\n",
    "Output: 2\n",
    "Explanation: The sum that is closest to the target is 2. (-1 + 2 + 1 = 2).\n",
    "Example 2:\n",
    "\n",
    "Input: nums = [0,0,0], target = 1\n",
    "Output: 0\n",
    "Explanation: The sum that is closest to the target is 0. (0 + 0 + 0 = 0).\n",
    " \n",
    "\n",
    "Constraints:\n",
    "\n",
    "3 <= nums.length <= 500\n",
    "-1000 <= nums[i] <= 1000\n",
    "-104 <= target <= 104"
   ]
  },
  {
   "cell_type": "code",
   "execution_count": null,
   "metadata": {},
   "outputs": [],
   "source": [
    "from typing import List\n",
    "class Solution:\n",
    "    def threeSumClosest(self, nums: List[int], atarget: int) -> int:\n",
    "        LEN=len(nums)\n",
    "        nums.sort()#特判\n",
    "        for i,val in range(LEN):\n",
    "            targ=atarget-nums[i]\n",
    "            if i!=0 and nums[i-1]==nums[i]:#防止重复i，前面应该考虑到了\n",
    "                continue\n",
    "            else:\n",
    "                left,right=i+1,LEN-1# PS\n",
    "                while right>left:\n",
    "                    \n",
    "                \n",
    "                \n",
    "            \n",
    "            \n",
    "solution=Solution()\n",
    "print(solution.threeSumClosest([-1,2,1,-4],1))"
   ]
  }
 ],
 "metadata": {
  "language_info": {
   "name": "python"
  },
  "orig_nbformat": 4
 },
 "nbformat": 4,
 "nbformat_minor": 2
}
