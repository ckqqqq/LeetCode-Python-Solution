{
 "cells": [
  {
   "cell_type": "code",
   "execution_count": null,
   "metadata": {},
   "outputs": [],
   "source": []
  },
  {
   "attachments": {},
   "cell_type": "markdown",
   "metadata": {},
   "source": [
    "16. 3Sum Closest\n",
    "Medium\n",
    "8.4K\n",
    "462\n",
    "Companies\n",
    "Given an integer array nums of length n and an integer target, find three integers in nums such that the sum is closest to target.\n",
    "\n",
    "Return the sum of the three integers.\n",
    "\n",
    "You may assume that each input would have exactly one solution.\n",
    "\n",
    " \n",
    "\n",
    "Example 1:\n",
    "\n",
    "Input: nums = [-1,2,1,-4], target = 1\n",
    "Output: 2\n",
    "Explanation: The sum that is closest to the target is 2. (-1 + 2 + 1 = 2).\n",
    "Example 2:\n",
    "\n",
    "Input: nums = [0,0,0], target = 1\n",
    "Output: 0\n",
    "Explanation: The sum that is closest to the target is 0. (0 + 0 + 0 = 0).\n",
    " \n",
    "\n",
    "Constraints:\n",
    "\n",
    "3 <= nums.length <= 500\n",
    "-1000 <= nums[i] <= 1000\n",
    "-104 <= target <= 104"
   ]
  },
  {
   "cell_type": "code",
   "execution_count": 8,
   "metadata": {},
   "outputs": [
    {
     "name": "stdout",
     "output_type": "stream",
     "text": [
      "0 1 3\n",
      "0 2 3\n",
      "1 2 3\n",
      "2\n"
     ]
    }
   ],
   "source": [
    "from typing import List\n",
    "class Solution:\n",
    "    def threeSumClosest(self, nums: List[int], atarget: int) -> int:\n",
    "        LEN,infinity=len(nums),2**40\n",
    "        nums.sort()#特判\n",
    "        mindiff,res=infinity,0\n",
    "        for i in range(LEN):# O（n方）\n",
    "            targ=atarget-nums[i]\n",
    "            if i!=0 and nums[i-1]==nums[i]:#防止重复i，前面应该考虑到了\n",
    "                continue\n",
    "            else:\n",
    "                left,right=i+1,LEN-1# PS\n",
    "                while left<right:\n",
    "                    # 判定距离\n",
    "                    diff=abs(nums[left]+nums[right]-targ)\n",
    "                    if mindiff>diff :# 记录答案# 当diff比\n",
    "                        mindiff,res=diff,nums[left]+nums[right]+nums[i]\n",
    "                    if targ>nums[left]+nums[right]:# 小了 # 如果要去重这里要加一个while\n",
    "                        left+=1\n",
    "                    elif targ<nums[left]+nums[right]:# 大了\n",
    "                        right-=1\n",
    "                    else:# 相等？？！！\n",
    "                        return nums[left]+nums[right]+nums[i]\n",
    "        return res\n",
    "solution=Solution()\n",
    "print(solution.threeSumClosest([-1,2,1,-4],1))\n",
    "# print(so'==)"
   ]
  },
  {
   "cell_type": "code",
   "execution_count": null,
   "metadata": {},
   "outputs": [],
   "source": [
    "# 排名第一最快的方法 快了大概10倍\n",
    "class Solution:\n",
    "    def threeSumClosest(self, nums: List[int], target: int) -> int:\n",
    "        assert len(nums) >= 3, \"Unexcepted output\"\n",
    "        if len(nums) == 3:\n",
    "            return sum(nums)\n",
    "        nums.sort()\n",
    "        return self.kSumCLosest(nums, 3, target)\n",
    "\n",
    "    def kSumCLosest(self, nums: List[int], k: int, target: int) -> int:\n",
    "        n = len(nums)\n",
    "        assert k <= n, f\"What?! {k}, {n}\"\n",
    "        if n == k: # 特判一 n==k\n",
    "            return sum(nums)\n",
    "        \n",
    "        if sum(nums[:k]) >= target: # 特判二 倒数第k个\n",
    "            return sum(nums[:k])\n",
    "        \n",
    "        if sum(nums[-k:]) <= target:# 特判三 前k个\n",
    "            return sum(nums[-k:])\n",
    "        \n",
    "        if k == 1: # 那就是max的\n",
    "            return min(\n",
    "                [(x, abs(target - x)) for x in nums], key = lambda x: x[1]\n",
    "            )[0]\n",
    "\n",
    "        closest = sum(nums[:k]) # 如果符合\n",
    "        if closest == target:\n",
    "            return target\n",
    "\n",
    "        for i, v in enumerate(nums): #       \n",
    "            if i > 0 and nums[i] == nums[i - 1]:\n",
    "                # avoid duplicates \n",
    "                continue\n",
    "            if n - i < k:\n",
    "                # It's left elements less than we need\n",
    "                break# 其实他的时间复杂度是n*n*n,但是由于加上了一堆特判所以其实还挺快\n",
    "            current = self.kSumCLosest(nums[i + 1:], k - 1, target - nums[i]) + nums[i] # 递归找k个最小的\n",
    "            if current == target:\n",
    "                return target\n",
    "            if abs(target - current) < abs(target - closest):\n",
    "                closest = current\n",
    "        return closest #返回和\n",
    "                "
   ]
  }
 ],
 "metadata": {
  "kernelspec": {
   "display_name": "base",
   "language": "python",
   "name": "python3"
  },
  "language_info": {
   "codemirror_mode": {
    "name": "ipython",
    "version": 3
   },
   "file_extension": ".py",
   "mimetype": "text/x-python",
   "name": "python",
   "nbconvert_exporter": "python",
   "pygments_lexer": "ipython3",
   "version": "3.9.12 (main, Apr  4 2022, 05:22:27) [MSC v.1916 64 bit (AMD64)]"
  },
  "orig_nbformat": 4,
  "vscode": {
   "interpreter": {
    "hash": "7b93ae2ddedcfb4b7ddebf80c8c7984044339b2e43f10e14b9461f3e640893f2"
   }
  }
 },
 "nbformat": 4,
 "nbformat_minor": 2
}
