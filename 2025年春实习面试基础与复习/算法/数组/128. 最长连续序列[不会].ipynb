{
 "cells": [
  {
   "cell_type": "code",
   "execution_count": null,
   "metadata": {},
   "outputs": [],
   "source": []
  },
  {
   "cell_type": "markdown",
   "metadata": {},
   "source": [
    "# 这道题的思维比较独特，如果哈希需要维护上界和下界，则比较困难\n",
    "* 但是如果将数组直接哈希化，由于上界和下界是有逻辑关系的（相互间隔为1，所以可以借助递归或者循环求最大值）"
   ]
  },
  {
   "cell_type": "code",
   "execution_count": null,
   "metadata": {},
   "outputs": [],
   "source": [
    "class Solution(object):\n",
    "    def longestConsecutive(self, nums):\n",
    "        \"\"\"\n",
    "        :type nums: List[int]\n",
    "        :rtype: int\n",
    "        \"\"\"\n",
    "        ## 更优秀的解法，在明白逻辑关系的情况下可以直接取下界的\n",
    "        n_hash=set(nums)\n",
    "        final_res=0# 注意是0不是1，可以避免空列表的情况\n",
    "        for i in n_hash:\n",
    "            if i-1 in n_hash:\n",
    "                continue# 这样就直接取到了下界\n",
    "            next_i=i+1\n",
    "            counter=1\n",
    "            while next_i in n_hash:\n",
    "                counter+=1\n",
    "                next_i+=1\n",
    "            final_res=max(counter,final_res)\n",
    "        return final_res\n",
    "                "
   ]
  },
  {
   "cell_type": "code",
   "execution_count": null,
   "metadata": {},
   "outputs": [],
   "source": [
    "class Solution(object):\n",
    "    def longestConsecutive(self, nums):\n",
    "        \"\"\"\n",
    "        :type nums: List[int]\n",
    "        :rtype: int\n",
    "        \"\"\"\n",
    "        ## 及其优秀的哈希链表的案例\n",
    "        n_hash=set(nums)\n",
    "        res_final=1\n",
    "        for i in n_hash:\n",
    "            next_i=i+1\n",
    "            counter=1\n",
    "            while next_i in n_hash:\n",
    "                next_i=next_i+1 # 其实任意逻辑关系的题都可以这样做\n",
    "                counter+=1\n",
    "            res_final=max(counter,res_final)\n",
    "            \n",
    "        return res_final"
   ]
  },
  {
   "cell_type": "code",
   "execution_count": null,
   "metadata": {},
   "outputs": [],
   "source": [
    "class Solution(object):\n",
    "    def longestConsecutive(self, nums):\n",
    "        \"\"\"\n",
    "        :type nums: List[int]\n",
    "        :rtype: int\n",
    "        \"\"\"\n",
    "        ## 及其优秀的哈希链表的案例\n",
    "        n_hash=dict(zip(nums,[0]*len(nums)))\n",
    "        res_final=1\n",
    "        for i in n_hash.keys():\n",
    "            if n_hash[i]==1:\n",
    "                continue\n",
    "            else:\n",
    "                n_hash[i]==1\n",
    "            next_i=i+1\n",
    "            counter=1\n",
    "            while next_i in n_hash:\n",
    "                next_i=next_i+1 # 其实任意逻辑关系的题都可以这样做\n",
    "                n_hash[next_i]==1\n",
    "                counter+=1\n",
    "            last_i=i-1\n",
    "            while last_i in n_hash:\n",
    "                last_i=last_i-1 # 其实任意逻辑关系的题都可以这样做\n",
    "                n_hash[last_i]==1\n",
    "                counter+=1\n",
    "            res_final=max(counter,res_final)\n",
    "            \n",
    "        return res_final"
   ]
  },
  {
   "cell_type": "code",
   "execution_count": null,
   "metadata": {},
   "outputs": [],
   "source": [
    "class Solution(object):\n",
    "    def longestConsecutive(self, nums):\n",
    "        \"\"\"\n",
    "        :type nums: List[int]\n",
    "        :rtype: int\n",
    "        \"\"\"\n",
    "        "
   ]
  }
 ],
 "metadata": {
  "kernelspec": {
   "display_name": "py38",
   "language": "python",
   "name": "python3"
  },
  "language_info": {
   "name": "python",
   "version": "3.8.13"
  }
 },
 "nbformat": 4,
 "nbformat_minor": 2
}
