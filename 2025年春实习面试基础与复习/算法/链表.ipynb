{
 "cells": [
  {
   "cell_type": "code",
   "execution_count": null,
   "id": "d8202e99",
   "metadata": {},
   "outputs": [],
   "source": [
    "# Definition for singly-linked list.\n",
    "# class ListNode(object):\n",
    "#     def __init__(self, x):\n",
    "#         self.val = x\n",
    "#         self.next = None\n",
    "\n",
    "class Solution(object):\n",
    "    def getIntersectionNode(self, headA, headB):\n",
    "        \"\"\"\n",
    "        :type head1, head1: ListNode\n",
    "        :rtype: ListNode\n",
    "        \"\"\"\n",
    "        if headA==None or headB==None:\n",
    "            return 0\n",
    "        if headA:\n",
    "            headA.next==headB\n",
    "            return headB\n",
    "        while headA and headB:\n",
    "            if headA:\n",
    "                headB.next==headA\n",
    "                return headA\n",
    "                headA=headA.Next\n",
    "            if headB:\n",
    "                headA.next=headB\n",
    "                return headB\n",
    "                headB.next=headB\n",
    "        return None\n",
    "                "
   ]
  }
 ],
 "metadata": {
  "language_info": {
   "name": "python"
  }
 },
 "nbformat": 4,
 "nbformat_minor": 5
}
