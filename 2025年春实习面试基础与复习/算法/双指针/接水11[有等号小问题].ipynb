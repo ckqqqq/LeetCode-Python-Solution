{
 "cells": [
  {
   "cell_type": "markdown",
   "metadata": {},
   "source": [
    "### 等号等号等号等号等号！！！！！！！！！\n"
   ]
  },
  {
   "cell_type": "code",
   "execution_count": 3,
   "metadata": {},
   "outputs": [
    {
     "name": "stdout",
     "output_type": "stream",
     "text": [
      "b\n",
      "a\n",
      "a\n",
      "a\n",
      "b\n",
      "6\n"
     ]
    }
   ],
   "source": [
    "class Solution(object):\n",
    "    def maxArea(self, height):\n",
    "        \"\"\"\n",
    "        :type height: List[int]\n",
    "        :rtype: int\n",
    "        \"\"\"\n",
    "        left,right=0,len(height)-1\n",
    "        res_final=0\n",
    "        while left<right:\n",
    "            while height[left]<height[right] and left<right:\n",
    "                res_final=max(height[left]*(right-left),res_final)\n",
    "                print(\"a\")\n",
    "                left+=1\n",
    "            while height[left]>=height[right] and left<right:\n",
    "                res_final=max(height[right]*(right-left),res_final)\n",
    "                print(\"b\")\n",
    "                right-=1\n",
    "            # left<right\n",
    "            # left+=1\n",
    "        return res_final\n",
    "solution=Solution()\n",
    "\n",
    "print(solution.maxArea([1,2,3,5,4,1]))"
   ]
  },
  {
   "cell_type": "markdown",
   "metadata": {},
   "source": []
  },
  {
   "cell_type": "code",
   "execution_count": null,
   "metadata": {},
   "outputs": [],
   "source": []
  },
  {
   "cell_type": "code",
   "execution_count": null,
   "metadata": {},
   "outputs": [],
   "source": []
  }
 ],
 "metadata": {
  "kernelspec": {
   "display_name": "base",
   "language": "python",
   "name": "python3"
  },
  "language_info": {
   "codemirror_mode": {
    "name": "ipython",
    "version": 3
   },
   "file_extension": ".py",
   "mimetype": "text/x-python",
   "name": "python",
   "nbconvert_exporter": "python",
   "pygments_lexer": "ipython3",
   "version": "3.9.12"
  }
 },
 "nbformat": 4,
 "nbformat_minor": 2
}
