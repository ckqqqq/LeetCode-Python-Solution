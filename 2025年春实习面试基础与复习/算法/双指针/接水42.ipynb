{
 "cells": [
  {
   "cell_type": "markdown",
   "metadata": {},
   "source": [
    "给定 n 个非负整数表示每个宽度为 1 的柱子的高度图，计算按此排列的柱子，下雨之后能接多少雨水。"
   ]
  },
  {
   "cell_type": "code",
   "execution_count": 3,
   "metadata": {},
   "outputs": [
    {
     "data": {
      "text/plain": [
       "1"
      ]
     },
     "execution_count": 3,
     "metadata": {},
     "output_type": "execute_result"
    }
   ],
   "source": [
    "class Solution(object):\n",
    "    def trap(self, height):\n",
    "        \"\"\"\n",
    "        :type height: List[int]\n",
    "        :rtype: int\n",
    "        \"\"\"\n",
    "        left,right=0,len(height)-1\n",
    "        l_record,r_record=height[left],height[right]\n",
    "        res_final=0\n",
    "        while left<right:\n",
    "            while height[left]<height[right] and left<right:\n",
    "                if height[left]<l_record:\n",
    "                    res_final+=(l_record-height[left])\n",
    "                elif height[left]>=l_record:\n",
    "                    l_record=height[left]\n",
    "                # print(\"a\")\n",
    "                left+=1\n",
    "            while height[left]>=height[right] and left<right:\n",
    "                if height[right]<r_record:\n",
    "                    res_final+=(r_record-height[right])\n",
    "                elif height[right]>=r_record:\n",
    "                    r_record=height[right]\n",
    "                # print(\"b\")\n",
    "                right-=1\n",
    "        return res_final\n",
    "solution=Solution()\n",
    "solution.trap([1,2,6,5,6])\n",
    "        "
   ]
  }
 ],
 "metadata": {
  "kernelspec": {
   "display_name": "base",
   "language": "python",
   "name": "python3"
  },
  "language_info": {
   "codemirror_mode": {
    "name": "ipython",
    "version": 3
   },
   "file_extension": ".py",
   "mimetype": "text/x-python",
   "name": "python",
   "nbconvert_exporter": "python",
   "pygments_lexer": "ipython3",
   "version": "3.9.12"
  }
 },
 "nbformat": 4,
 "nbformat_minor": 2
}
