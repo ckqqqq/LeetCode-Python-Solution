{
 "cells": [
  {
   "cell_type": "markdown",
   "metadata": {},
   "source": [
    "### 强制要求，在二叉树遍历的时候，左右子树的返回值要是r_res和l_res，不能命名为left和Right否则会导致混乱，有时返回right_res是对但是返回r.right是错误的"
   ]
  },
  {
   "cell_type": "code",
   "execution_count": null,
   "metadata": {},
   "outputs": [
    {
     "ename": "",
     "evalue": "",
     "output_type": "error",
     "traceback": [
      "\u001b[1;31mFailed to start the Kernel. \n",
      "\u001b[1;31mAttributeError: 'SelectIOLoop' object has no attribute 'asyncio_loop'. \n",
      "\u001b[1;31mView Jupyter <a href='command:jupyter.viewOutput'>log</a> for further details."
     ]
    }
   ],
   "source": [
    "class Solution(object):\n",
    "    def lowestCommonAncestor(self, root, p, q):\n",
    "        \"\"\"\n",
    "        :type root: TreeNode\n",
    "        :type p: TreeNode\n",
    "        :type q: TreeNode\n",
    "        :rtype: TreeNode\n",
    "        \"\"\"\n",
    "        def dfs_LCA(r):\n",
    "            if r==None:\n",
    "                return None\n",
    "            if r.val==p.val or r.val==q.val:\n",
    "                return r\n",
    "            left=dfs_LCA(r.left)\n",
    "            right=dfs_LCA(r.right)\n",
    "            # print(r.val)\n",
    "            \n",
    "            if left and right:\n",
    "                return r# 两边取中间\n",
    "            if left==None and right==None:\n",
    "                return None\n",
    "            if right==None and left!=None:\n",
    "                return left\n",
    "            if right!=None and left==None:\n",
    "                return right\n",
    "        \n",
    "        return dfs_LCA(root)\n",
    "    \n",
    "    ## "
   ]
  },
  {
   "cell_type": "code",
   "execution_count": null,
   "metadata": {},
   "outputs": [],
   "source": []
  }
 ],
 "metadata": {
  "kernelspec": {
   "display_name": "py38",
   "language": "python",
   "name": "python3"
  },
  "language_info": {
   "name": "python",
   "version": "3.8.13"
  }
 },
 "nbformat": 4,
 "nbformat_minor": 2
}
