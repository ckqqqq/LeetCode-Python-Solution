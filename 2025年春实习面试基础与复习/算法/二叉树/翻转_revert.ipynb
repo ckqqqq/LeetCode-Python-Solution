{
 "cells": [
  {
   "cell_type": "code",
   "execution_count": null,
   "metadata": {},
   "outputs": [],
   "source": [
    "class Solution(object):\n",
    "    def invertTree(self, root):\n",
    "        \"\"\"\n",
    "        :type root: Optional[TreeNode]\n",
    "        :rtype: Optional[TreeNode]\n",
    "        \"\"\"\n",
    "        def dfs_invert(root):\n",
    "            if root==None:\n",
    "                return None\n",
    "            left_l=dfs_invert(root.left)\n",
    "            root.left=dfs_invert(root.right)\n",
    "            root.right=left_l\n",
    "            return root\n",
    "        # dfs_invert(root)\n",
    "        return dfs_invert(root)\n",
    "        "
   ]
  }
 ],
 "metadata": {
  "language_info": {
   "name": "python"
  }
 },
 "nbformat": 4,
 "nbformat_minor": 2
}
