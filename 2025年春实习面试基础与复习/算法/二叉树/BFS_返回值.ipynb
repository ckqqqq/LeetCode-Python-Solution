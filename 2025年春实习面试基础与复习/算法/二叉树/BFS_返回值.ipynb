{
 "cells": [
  {
   "cell_type": "markdown",
   "metadata": {},
   "source": [
    "# 这道题的关键其实有两点\n",
    "* 第一是遍历\n",
    "* 第二是审题来看返回的是不是int"
   ]
  },
  {
   "cell_type": "code",
   "execution_count": 1,
   "metadata": {},
   "outputs": [
    {
     "name": "stdout",
     "output_type": "stream",
     "text": [
      "a\n",
      "a\n",
      "1\n",
      "2\n",
      "a\n",
      "4\n",
      "5\n"
     ]
    }
   ],
   "source": [
    "# Definition for a binary tree node.\n",
    "class n(object):\n",
    "    def __init__(self, val=0, left=None, right=None):\n",
    "        self.val = val\n",
    "        self.left = left\n",
    "        self.right = right\n",
    "# from logging import root\n",
    "import copy\n",
    "\n",
    "# import cop\n",
    "\n",
    "class Solution(object):\n",
    "    def levelOrder(self, root):\n",
    "        \"\"\"\n",
    "        :type root: Optional[TreeNode]\n",
    "        :rtype: List[List[int]]\n",
    "        \"\"\"\n",
    "        if root==None:\n",
    "            return []\n",
    "        res=[]\n",
    "        que=[root]\n",
    "        while len(que)>0:\n",
    "            tmp_len=len(que)\n",
    "            vals=[]\n",
    "            for i in que[:tmp_len]:\n",
    "                # 审题，首先要看清是否要打印None,其次，要明白是否是返回值\n",
    "                vals.append(i.val)\n",
    "                if i.left!=None:\n",
    "                    que.append(i.left)\n",
    "                if i.right!=None:\n",
    "                    que.append(i.right)\n",
    "            que=que[tmp_len:]\n",
    "            res.append(vals)# 不会被垃圾回收\n",
    "        return res\n",
    "if __name__==\"__main__\":\n",
    "    root=n(0)\n",
    "    root.left=n(1)\n",
    "    root.right=n(2)\n",
    "    root.right.left=n(4)\n",
    "    root.right.right=n(5)\n",
    "    solution=Solution()\n",
    "    res=solution.levelOrder(root)\n",
    "    for i in res:\n",
    "        print(\"a\")\n",
    "        for j in i:\n",
    "            if j:\n",
    "                print(j)\n",
    "\n",
    "               \n",
    "        "
   ]
  }
 ],
 "metadata": {
  "kernelspec": {
   "display_name": "py38",
   "language": "python",
   "name": "python3"
  },
  "language_info": {
   "codemirror_mode": {
    "name": "ipython",
    "version": 3
   },
   "file_extension": ".py",
   "mimetype": "text/x-python",
   "name": "python",
   "nbconvert_exporter": "python",
   "pygments_lexer": "ipython3",
   "version": "3.8.13"
  }
 },
 "nbformat": 4,
 "nbformat_minor": 2
}
