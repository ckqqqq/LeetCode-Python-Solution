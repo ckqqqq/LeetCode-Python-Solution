{
 "cells": [
  {
   "cell_type": "code",
   "execution_count": 1,
   "metadata": {},
   "outputs": [
    {
     "data": {
      "text/plain": [
       "[1]"
      ]
     },
     "execution_count": 1,
     "metadata": {},
     "output_type": "execute_result"
    }
   ],
   "source": [
    "a=[1,2]\n",
    "a[:1]"
   ]
  },
  {
   "cell_type": "code",
   "execution_count": null,
   "metadata": {},
   "outputs": [],
   "source": [
    "# Definition for a binary tree node.\n",
    "# class TreeNode(object):\n",
    "#     def __init__(self, val=0, left=None, right=None):\n",
    "#         self.val = val\n",
    "#         self.left = left\n",
    "#         self.right = right\n",
    "class Solution(object):\n",
    "    def buildTree(self, preorder, inorder):\n",
    "        \"\"\"\n",
    "        :type preorder: List[int]\n",
    "        :type inorder: List[int]\n",
    "        :rtype: Optional[TreeNode]\n",
    "        \"\"\"\n",
    "        def dfs_ip_order(pre_list,in_list):\n",
    "            if len(pre_list)==0 or pre_list==None:\n",
    "                return None\n",
    "            root=pre_list[0]\n",
    "            for i in range(len(in_list)):\n",
    "                if root==in_list[i]:\n",
    "                    break\n",
    "            left_len=i\n",
    "            right_len=len(pre_list)-left_len-1\n",
    "            \n",
    "            root.left=dfs_ip_order(pre_list[1:left_len+1],in_list[0:left_len])\n",
    "            root.right=dfs_ip_order(pre_list[i+1:],in_list[i+1:])\n",
    "            return root\n",
    "        \n",
    "        return dfs_ip_order(preorder,inorder) \n",
    "            "
   ]
  }
 ],
 "metadata": {
  "kernelspec": {
   "display_name": "py38",
   "language": "python",
   "name": "python3"
  },
  "language_info": {
   "codemirror_mode": {
    "name": "ipython",
    "version": 3
   },
   "file_extension": ".py",
   "mimetype": "text/x-python",
   "name": "python",
   "nbconvert_exporter": "python",
   "pygments_lexer": "ipython3",
   "version": "3.8.13"
  }
 },
 "nbformat": 4,
 "nbformat_minor": 2
}
