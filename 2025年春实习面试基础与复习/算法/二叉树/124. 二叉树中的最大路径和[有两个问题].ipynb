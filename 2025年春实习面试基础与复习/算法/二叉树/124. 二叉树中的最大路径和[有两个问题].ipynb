{
 "cells": [
  {
   "cell_type": "markdown",
   "metadata": {},
   "source": []
  },
  {
   "cell_type": "code",
   "execution_count": null,
   "metadata": {},
   "outputs": [],
   "source": [
    "#"
   ]
  },
  {
   "cell_type": "markdown",
   "metadata": {},
   "source": [
    "### 切记：\n",
    "* 不要画蛇添足和\n",
    "* 最大路径和，最大路径总和最大的问题是（1要有路径，所以要特判，比如是否有根节点）\n",
    "* 如果至少要有一个节点\n",
    "  * 注意在每个节点处比较一次大小\n",
    "  * 尤其是节点本身\n",
    "  * 有时候如果节点子树返回值为复数，则不如返回0，但是在根节点要注意，如果必须要有节点，则不要用根节点返回值\n",
    "* 如果是前缀和\n",
    "  * 注意从根节点开始"
   ]
  },
  {
   "cell_type": "code",
   "execution_count": null,
   "metadata": {},
   "outputs": [],
   "source": [
    "\n",
    "class Solution(object):\n",
    "    final_res=0\n",
    "    def maxPathSum(self, root):\n",
    "        \"\"\"\n",
    "        :type root: Optional[TreeNode]\n",
    "        :rtype: int\n",
    "        \"\"\"\n",
    "        if root==None:\n",
    "            return 0\n",
    "        self.final_res=root.val\n",
    "        def dfs_mps(r):\n",
    "            if r==None:\n",
    "                return 0\n",
    "            \n",
    "            left_res=dfs_mps(r.left)\n",
    "            right_res=dfs_mps(r.right)\n",
    "            # as /\\\n",
    "            val=r.val\n",
    "            router_res=r.val+left_res+right_res\n",
    "            self.final_res=max(self.final_res,router_res)\n",
    "            \n",
    "            # as |\\\n",
    "            ret_res=r.val+max(left_res,right_res)\n",
    "            if ret_res>0:\n",
    "                return ret_res\n",
    "            else:\n",
    "                return 0\n",
    "        dfs_mps(root)\n",
    "        \n",
    "        return self.final_res"
   ]
  }
 ],
 "metadata": {
  "kernelspec": {
   "display_name": "py38",
   "language": "python",
   "name": "python3"
  },
  "language_info": {
   "name": "python",
   "version": "3.8.13"
  }
 },
 "nbformat": 4,
 "nbformat_minor": 2
}
