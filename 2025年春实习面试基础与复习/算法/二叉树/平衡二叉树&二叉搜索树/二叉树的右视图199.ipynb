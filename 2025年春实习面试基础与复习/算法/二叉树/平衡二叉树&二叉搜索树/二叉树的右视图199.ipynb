{
 "cells": [
  {
   "cell_type": "code",
   "execution_count": null,
   "metadata": {},
   "outputs": [],
   "source": [
    "class Solution(object):\n",
    "    dep_res={}\n",
    "    dep_max=-1\n",
    "    def rightSideView(self, root):\n",
    "        def dfs_(r,d):\n",
    "            if r==None:\n",
    "                return \n",
    "            dfs_(r.left,d+1)\n",
    "            self.dep_res[d]=r.val\n",
    "            self.dep_max=max(self.dep_max,d)\n",
    "            dfs_(r.right,d+1)\n",
    "        dfs_(root,0)\n",
    "        res=[self.dep_res[d] for d in range(0,self.dep_max+1)]\n",
    "        return res"
   ]
  }
 ],
 "metadata": {
  "language_info": {
   "name": "python"
  }
 },
 "nbformat": 4,
 "nbformat_minor": 2
}
