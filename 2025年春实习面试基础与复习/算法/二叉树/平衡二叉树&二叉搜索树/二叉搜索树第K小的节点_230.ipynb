{
 "cells": [
  {
   "cell_type": "code",
   "execution_count": null,
   "metadata": {
    "vscode": {
     "languageId": "plaintext"
    }
   },
   "outputs": [],
   "source": [
    "# 建议 熔断最后再加上，先算对先\n"
   ]
  },
  {
   "cell_type": "code",
   "execution_count": null,
   "metadata": {},
   "outputs": [],
   "source": [
    "# Definition for a binary tree node.\n",
    "# class TreeNode(object):\n",
    "#     def __init__(self, val=0, left=None, right=None):\n",
    "#         self.val = val\n",
    "#         self.left = left\n",
    "#         self.right = right\n",
    "class Solution(object):\n",
    "    counter=0\n",
    "    ans=None\n",
    "    def kthSmallest(self, root, k):\n",
    "        \"\"\"\n",
    "        :type root: Optional[TreeNode]\n",
    "        :type k: int\n",
    "        :rtype: int\n",
    "        \"\"\"\n",
    "        def dfs_bst(root):\n",
    "            if root==None or self.ans!=None:\n",
    "                return\n",
    "            dfs_bst(root.left)\n",
    "            self.counter+=1\n",
    "            if self.ans==None and self.counter==k:\n",
    "                self.ans=root.val\n",
    "            dfs_bst(root.right)\n",
    "        dfs_bst(root)\n",
    "        return self.ans\n",
    "    \n",
    "        \n",
    "        "
   ]
  }
 ],
 "metadata": {
  "language_info": {
   "name": "python"
  }
 },
 "nbformat": 4,
 "nbformat_minor": 2
}
