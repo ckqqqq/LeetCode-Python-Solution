{
 "cells": [
  {
   "cell_type": "code",
   "execution_count": null,
   "metadata": {},
   "outputs": [],
   "source": []
  },
  {
   "cell_type": "code",
   "execution_count": null,
   "metadata": {},
   "outputs": [],
   "source": [
    "class Solution(object):\n",
    "    def inorderTraversal(self, root):\n",
    "        \"\"\"\n",
    "        :type root: Optional[TreeNode]\n",
    "        :rtype: List[int]\n",
    "        \"\"\"\n",
    "        res=[]\n",
    "        def dfs_inorder(root):\n",
    "            if root==None:\n",
    "                return\n",
    "            dfs_inorder(root.left)\n",
    "            res.append(root.val)\n",
    "            dfs_inorder(root.right)\n",
    "        dfs_inorder(root)\n",
    "        return res\n",
    "if __name__==\"__main__\":\n",
    "    solution=Solution()\n",
    "            \n",
    "            \n"
   ]
  }
 ],
 "metadata": {
  "language_info": {
   "name": "python"
  }
 },
 "nbformat": 4,
 "nbformat_minor": 2
}
