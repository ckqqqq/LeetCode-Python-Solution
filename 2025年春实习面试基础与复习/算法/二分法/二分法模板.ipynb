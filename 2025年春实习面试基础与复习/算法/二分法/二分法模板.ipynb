{
 "cells": [
  {
   "cell_type": "code",
   "execution_count": null,
   "metadata": {},
   "outputs": [
    {
     "ename": "",
     "evalue": "",
     "output_type": "error",
     "traceback": [
      "\u001b[1;31mFailed to start the Kernel. \n",
      "\u001b[1;31mAttributeError: 'SelectIOLoop' object has no attribute 'asyncio_loop'. \n",
      "\u001b[1;31mView Jupyter <a href='command:jupyter.viewOutput'>log</a> for further details."
     ]
    }
   ],
   "source": [
    "from fastapi import middleware\n",
    "\n",
    "\n",
    "class Solution():\n",
    "    def __init__():\n",
    "        pass\n",
    "    def binary_search_s(nums:list,target:int):\n",
    "        left,right=0,len(nums)-1\n",
    "        while left<=right:\n",
    "            mid=left+(right-left)//2\n",
    "            if nums[mid]<target:\n",
    "                left=mid+1\n",
    "            elif nums[mid]>target:\n",
    "                right=mid-1\n",
    "            else:\n",
    "                return mid\n",
    "        return \"No res\"\n",
    "    def binary_search_left(nums:list,target:int):\n",
    "        left,right=0,len(nums)-1\n",
    "        while left<=right:\n",
    "            mid=left+(right-left)//2\n",
    "            if nums[mid]<target:\n",
    "                left=mid+1\n",
    "            elif nums[mid]>target:\n",
    "                right=mid-1\n",
    "            else:\n",
    "                # 收缩右侧边界\n",
    "                right=mid-1\n",
    "        if left>=len(nums) or nums[left]!=target:\n",
    "            return -1\n",
    "        return left\n",
    "    # 右侧同理\n"
   ]
  },
  {
   "cell_type": "code",
   "execution_count": null,
   "metadata": {},
   "outputs": [],
   "source": []
  }
 ],
 "metadata": {
  "kernelspec": {
   "display_name": "py38",
   "language": "python",
   "name": "python3"
  },
  "language_info": {
   "name": "python",
   "version": "3.8.13"
  }
 },
 "nbformat": 4,
 "nbformat_minor": 2
}
