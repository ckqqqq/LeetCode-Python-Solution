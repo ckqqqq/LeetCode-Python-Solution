{
 "cells": [
  {
   "cell_type": "code",
   "execution_count": 2,
   "metadata": {},
   "outputs": [
    {
     "data": {
      "text/plain": [
       "-9"
      ]
     },
     "execution_count": 2,
     "metadata": {},
     "output_type": "execute_result"
    }
   ],
   "source": [
    "import heapq\n",
    "a = []\n",
    "heapq.heappush(a,-9)\n",
    "heapq.heappush(a,-2)\n",
    "heapq.heappop(a)"
   ]
  },
  {
   "cell_type": "code",
   "execution_count": 3,
   "metadata": {},
   "outputs": [
    {
     "data": {
      "text/plain": [
       "[3, 3, 5, 5, 6, 7]"
      ]
     },
     "execution_count": 3,
     "metadata": {},
     "output_type": "execute_result"
    }
   ],
   "source": [
    "\n",
    "import heapq\n",
    "class Solution(object):\n",
    "    def maxSlidingWindow(self, nums, k):\n",
    "        n = len(nums)\n",
    "        # 注意 Python 默认的优先队列是小根堆\n",
    "        q = [(-nums[i], i) for i in range(k)]\n",
    "        heapq.heapify(q)\n",
    "\n",
    "        ans = [-q[0][0]]\n",
    "        for i in range(k, n):\n",
    "            left=i-k\n",
    "            heapq.heappush(q, (-nums[i], i))\n",
    "            while q[0][1] <= left:\n",
    "                heapq.heappop(q)\n",
    "            ans.append(-q[0][0])\n",
    "        return ans\n",
    "\n",
    "\n",
    "solution=Solution()\n",
    "solution.maxSlidingWindow([1,3,-1,-3,5,3,6,7], k = 3)"
   ]
  }
 ],
 "metadata": {
  "kernelspec": {
   "display_name": "videochat-r1",
   "language": "python",
   "name": "python3"
  },
  "language_info": {
   "codemirror_mode": {
    "name": "ipython",
    "version": 3
   },
   "file_extension": ".py",
   "mimetype": "text/x-python",
   "name": "python",
   "nbconvert_exporter": "python",
   "pygments_lexer": "ipython3",
   "version": "3.11.12"
  }
 },
 "nbformat": 4,
 "nbformat_minor": 2
}
