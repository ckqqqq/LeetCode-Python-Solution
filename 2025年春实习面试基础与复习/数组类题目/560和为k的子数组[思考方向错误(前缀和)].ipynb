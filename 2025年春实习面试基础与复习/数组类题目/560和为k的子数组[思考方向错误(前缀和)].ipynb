{
 "cells": [
  {
   "cell_type": "code",
   "execution_count": null,
   "metadata": {},
   "outputs": [
    {
     "data": {
      "text/plain": [
       "(2, 3, 3)"
      ]
     },
     "execution_count": 13,
     "metadata": {},
     "output_type": "execute_result"
    }
   ],
   "source": [
    "\n",
    "from collections import Counter\n",
    "\n",
    "class Solution(object):\n",
    "    def subarraySum(self, nums, k):\n",
    "        \"\"\"\n",
    "        :type nums: List[int]\n",
    "        :type k: int\n",
    "        :rtype: int\n",
    "        \"\"\"\n",
    "        # pre_fix=len(nums)\n",
    "        counter=Counter()\n",
    "        counter[0]=1\n",
    "        pre_sum=0\n",
    "        final_res=0\n",
    "        for i in range(len(nums)):\n",
    "            pre_sum+=nums[i]\n",
    "            if pre_sum-k in counter:\n",
    "                final_res+=counter[pre_sum-k]\n",
    "            counter[pre_sum]+=1\n",
    "        return final_res\n",
    "        \n",
    "        \n",
    "solution=Solution()\n",
    "solution.subarraySum([1,2,3],3),solution.subarraySum([1,2,-3,0],0) ,solution.subarraySum([1,-1,0],0)\n"
   ]
  },
  {
   "cell_type": "code",
   "execution_count": null,
   "metadata": {},
   "outputs": [],
   "source": [
    "_f"
   ]
  }
 ],
 "metadata": {
  "kernelspec": {
   "display_name": "base",
   "language": "python",
   "name": "python3"
  },
  "language_info": {
   "codemirror_mode": {
    "name": "ipython",
    "version": 3
   },
   "file_extension": ".py",
   "mimetype": "text/x-python",
   "name": "python",
   "nbconvert_exporter": "python",
   "pygments_lexer": "ipython3",
   "version": "3.9.12"
  }
 },
 "nbformat": 4,
 "nbformat_minor": 2
}
