{
 "cells": [
  {
   "cell_type": "markdown",
   "metadata": {},
   "source": []
  },
  {
   "cell_type": "markdown",
   "metadata": {},
   "source": [
    "### 滑动窗口几乎忘光了\n",
    "* 滑动窗口中右边指针从不回访！\n",
    "* python 中最有用的桶 \n",
    "```python\n",
    "  from typing import DefualtDict\n",
    "  chdict=DefualtDict(int)\n",
    "  print(chdict[\"addd\"])# 默认计数器为0\n",
    "  chdict[\"add\"]+=1 # 1\n",
    "```\n",
    "* \n",
    "  ```python\n",
    "\n",
    "  ```\n",
    "* 右边指针遍历即可，左边指针在右边指针遍历的时候循环\n",
    "```python\n",
    "while right<len(s):\n",
    "  window[s[right]+=1\n",
    "  right++\n",
    "  while window need shrink:\n",
    "    window[s[left]]-=1\n",
    "    left++\n",
    "```"
   ]
  },
  {
   "cell_type": "markdown",
   "metadata": {},
   "source": [
    "类似的滑动窗口题目\n",
    "* 最小覆盖子串\n",
    "* 字符串排列\n",
    "* 找所有字母异位词\n",
    "* 最长无重复子串"
   ]
  },
  {
   "cell_type": "code",
   "execution_count": 4,
   "metadata": {},
   "outputs": [
    {
     "data": {
      "text/plain": [
       "1"
      ]
     },
     "execution_count": 4,
     "metadata": {},
     "output_type": "execute_result"
    }
   ],
   "source": [
    "from typing import DefaultDict\n",
    "int_dict=DefaultDict(int) \n",
    "int_dict[\"add\"]+=1\n",
    "int_dict[\"add\"]"
   ]
  },
  {
   "cell_type": "markdown",
   "metadata": {},
   "source": [
    "3 无重复字符的最大子串\n",
    "给定一个字符串 s ，请你找出其中不含有重复字符的 最长 子串 的长度。"
   ]
  },
  {
   "cell_type": "code",
   "execution_count": null,
   "metadata": {},
   "outputs": [
    {
     "name": "stdout",
     "output_type": "stream",
     "text": [
      "3\n",
      "1\n",
      "3\n",
      "4\n"
     ]
    }
   ],
   "source": [
    "#\n",
    "class Solution(object):\n",
    "    def lengthOfLongestSubstring(self, s):\n",
    "        \"\"\"\n",
    "        :type s: str\n",
    "        :rtype: int\n",
    "        \"\"\"\n",
    "        chdict={}\n",
    "        left,right=0,0\n",
    "        final_res=0\n",
    "        while left<len(s):\n",
    "            while right<len(s) and (s[right] not in chdict or chdict[s[right]]==0):\n",
    "                if s[right] not in chdict:\n",
    "                    chdict[s[right]]=1\n",
    "                else:\n",
    "                    chdict[s[right]]+=1 # add win\n",
    "                \n",
    "                right+=1\n",
    "            # 符合条件\n",
    "            # 右端点为right-1\n",
    "            final_res=max((right-1)-left+1,final_res)\n",
    "            # 非最优，开始贪心\n",
    "            chdict[s[left]]-=1\n",
    "            left+=1\n",
    "        return final_res\n",
    "solution=Solution()\n",
    "print(solution.lengthOfLongestSubstring(\"abcabcbb\"))\n",
    "print(solution.lengthOfLongestSubstring(\"aaaaaa\"))\n",
    "    # \"pwwkew\"\n",
    "print(solution.lengthOfLongestSubstring(\"pwwkew\"))\n",
    "print(solution.lengthOfLongestSubstring(\"pww    kew\"))\n",
    "    \n",
    "\n",
    "            "
   ]
  },
  {
   "cell_type": "markdown",
   "metadata": {},
   "source": [
    "438. 找到字符串中所有字母异位词\n",
    "中等\n",
    "相关标签\n",
    "相关企业\n",
    "给定两个字符串 s 和 p，找到 s 中所有 p 的 abcd异位词 的子串，返回这些子串的起始索引。不考虑答案输出的顺序"
   ]
  },
  {
   "cell_type": "markdown",
   "metadata": {},
   "source": [
    "abcdeefsee\n",
    "fsee"
   ]
  },
  {
   "cell_type": "code",
   "execution_count": 5,
   "metadata": {},
   "outputs": [
    {
     "data": {
      "text/plain": [
       "True"
      ]
     },
     "execution_count": 5,
     "metadata": {},
     "output_type": "execute_result"
    }
   ],
   "source": [
    "[0,19,3]==[0,19,3]"
   ]
  },
  {
   "cell_type": "code",
   "execution_count": null,
   "metadata": {},
   "outputs": [],
   "source": []
  },
  {
   "cell_type": "markdown",
   "metadata": {},
   "source": [
    "### 这道题的解法\n",
    "* 定长滑窗(固定长度的滑动窗口)\n",
    "* Counter()"
   ]
  },
  {
   "cell_type": "code",
   "execution_count": null,
   "metadata": {},
   "outputs": [
    {
     "data": {
      "text/plain": [
       "1"
      ]
     },
     "execution_count": 8,
     "metadata": {},
     "output_type": "execute_result"
    }
   ],
   "source": [
    "from collections import Counter\n",
    "counter=Counter() # COunter也是很好的计数器，而且似乎比DefaultDict 更好\n",
    "counter['a']\n",
    "counter['a']+=1\n",
    "counter['a']\n"
   ]
  },
  {
   "cell_type": "code",
   "execution_count": 20,
   "metadata": {},
   "outputs": [
    {
     "name": "stdout",
     "output_type": "stream",
     "text": [
      "0 0 [1, 0, 0, 0, 0, 0, 0, 0, 0, 0, 0, 0, 0, 0, 0, 0, 0, 0, 0, 0, 0, 0, 0, 0, 0, 0, 0]\n",
      "0 1 [1, 1, 0, 0, 0, 0, 0, 0, 0, 0, 0, 0, 0, 0, 0, 0, 0, 0, 0, 0, 0, 0, 0, 0, 0, 0, 0]\n",
      "1 2 [0, 1, 1, 0, 0, 0, 0, 0, 0, 0, 0, 0, 0, 0, 0, 0, 0, 0, 0, 0, 0, 0, 0, 0, 0, 0, 0]\n",
      "2 3 [0, 0, 1, 1, 0, 0, 0, 0, 0, 0, 0, 0, 0, 0, 0, 0, 0, 0, 0, 0, 0, 0, 0, 0, 0, 0, 0]\n",
      "3 4 [1, 0, 0, 1, 0, 0, 0, 0, 0, 0, 0, 0, 0, 0, 0, 0, 0, 0, 0, 0, 0, 0, 0, 0, 0, 0, 0]\n",
      "4 5 [1, 1, 0, 0, 0, 0, 0, 0, 0, 0, 0, 0, 0, 0, 0, 0, 0, 0, 0, 0, 0, 0, 0, 0, 0, 0, 0]\n",
      "5 6 [1, 1, 0, 0, 0, 0, 0, 0, 0, 0, 0, 0, 0, 0, 0, 0, 0, 0, 0, 0, 0, 0, 0, 0, 0, 0, 0]\n"
     ]
    },
    {
     "data": {
      "text/plain": [
       "[0, 4, 5]"
      ]
     },
     "execution_count": 20,
     "metadata": {},
     "output_type": "execute_result"
    }
   ],
   "source": [
    "##\n",
    "\n",
    "class Solution(object):\n",
    "    def findAnagrams(self, s, p):\n",
    "        def ord_c(i):\n",
    "            return ord(i)-ord('a')\n",
    "        \"\"\"\n",
    "        :type s: str\n",
    "        :type p: str\n",
    "        :rtype: List[int]\n",
    "        \"\"\"\n",
    "        from collections import Counter\n",
    "        target=[0]*27\n",
    "        for i in p:\n",
    "            target[ord_c(i)]+=1\n",
    "        windows=[0]*27\n",
    "        final_res=[]\n",
    "        left=0\n",
    "        for right,ch in enumerate(s):\n",
    "            windows[ord_c(ch)]+=1\n",
    "            print(left,right,windows)\n",
    "            if right>=len(p)-1 :\n",
    "                if target==windows:\n",
    "                    final_res.append(left)\n",
    "                windows[ord_c(s[left])]-=1\n",
    "                left+=1\n",
    "        return final_res\n",
    "solution=Solution()\n",
    "\n",
    "\n",
    "solution.findAnagrams(\"abcdaba\",\"ab\")        "
   ]
  }
 ],
 "metadata": {
  "kernelspec": {
   "display_name": "base",
   "language": "python",
   "name": "python3"
  },
  "language_info": {
   "codemirror_mode": {
    "name": "ipython",
    "version": 3
   },
   "file_extension": ".py",
   "mimetype": "text/x-python",
   "name": "python",
   "nbconvert_exporter": "python",
   "pygments_lexer": "ipython3",
   "version": "3.9.12"
  }
 },
 "nbformat": 4,
 "nbformat_minor": 2
}
