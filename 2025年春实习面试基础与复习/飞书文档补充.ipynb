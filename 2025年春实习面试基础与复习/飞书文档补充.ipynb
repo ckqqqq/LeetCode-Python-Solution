{
 "cells": [
  {
   "cell_type": "markdown",
   "metadata": {},
   "source": [
    "## 手写 MHA"
   ]
  },
  {
   "cell_type": "markdown",
   "metadata": {},
   "source": [
    "import "
   ]
  },
  {
   "cell_type": "code",
   "execution_count": null,
   "metadata": {},
   "outputs": [],
   "source": [
    "import torch\n",
    "import torch.nn as nn\n",
    "import einops\n",
    "\n",
    "class MHA(nn.module):\n",
    "    def __init__(self,embed_dim,num_head,head_dim):\n",
    "        self.num_head=num_head\n",
    "        self.head_dim=embed_dim\n",
    "        self.embed_dim=embed_dim\n",
    "        self.q_linear=nn.Linear(embed_dim,embed_dim)\n",
    "        self.k_linear=nn.linear(embed_dim,embed_dim)\n",
    "        self.v_linear=nn.linear(embed_dim,embed_dim)\n",
    "        self.o_linear=nn.linear(embed_dim,embed_dim)\n",
    "    def forward(self,hidden_state,atten_mask=None):\n",
    "        q,k,v=self.q_linear(hidden_state),self.k_linear(hidden_state),self.v_linear(hidden_state)\n",
    "        q=einops.rearrange(\"b s (h d) -> b h s d\",h=self.num_head)\n",
    "        k=einops.rearrange(\"b s (h d) -> b h s d\",h=self.num_head)\n",
    "        v=einops.rearrange(\"b s (h d) -> b h s d\",h=self.num_head)\n",
    "        \n",
    "        atten_score=torch.matmul(q,k.transpose(-1,-2))/torch.sqrt(self.head_dim)\n",
    "        \n",
    "        ## mask\n",
    "        if atten_mask==None:\n",
    "            atten_score+=atten_mask*(-1e9)# 城市一个非常大的负数\n",
    "        atten_probs=torch.softmax(atten_score)\n",
    "        output=torch.matmul(atten_probs,v)\n",
    "        output=einops.rearrange(\"b h s d -> b s (h d)\",h=self.num_head)\n",
    "        output=self.o_linear(output)\n",
    "        return output\n",
    "            \n"
   ]
  }
 ],
 "metadata": {
  "kernelspec": {
   "display_name": "py38",
   "language": "python",
   "name": "python3"
  },
  "language_info": {
   "name": "python",
   "version": "3.8.13"
  }
 },
 "nbformat": 4,
 "nbformat_minor": 2
}
