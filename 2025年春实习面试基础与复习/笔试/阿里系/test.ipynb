{
 "cells": [
  {
   "cell_type": "code",
   "execution_count": null,
   "metadata": {},
   "outputs": [],
   "source": [
    "input_m = [[1, 2, 3, 4], [2, 3, 4, 5], [3, 4, 5, 6], [4, 5, 6, 7]]\n",
    "\n",
    "lin,col=len(input_m),len(input_m[0])\n",
    "ken=[(-1,1),(1,-1),(1,1),(-1,-1)]\n",
    "record={}\n",
    "for i in range(1,lin-1):\n",
    "    for j in range(1,col-1):\n",
    "        res=0\n",
    "        for dx,dy in ken:\n",
    "            x,y=i+dx,j+dy\n",
    "            if (x,y) in record:\n",
    "                res+=record[(x,y)]\n",
    "            else:           \n",
    "                res+=input_m[x][y]\n",
    "        record[(i,j)]=input_m[i][j]\n",
    "        input_m[i][j]=res\n",
    "print(input_m)\n",
    "# 卷积的做法需要定义矩阵乘"
   ]
  },
  {
   "cell_type": "code",
   "execution_count": 6,
   "metadata": {},
   "outputs": [
    {
     "name": "stdout",
     "output_type": "stream",
     "text": [
      "[[1, 2, 3, 4], [2, 12, 16, 5], [3, 16, 20, 6], [4, 5, 6, 7]]\n"
     ]
    }
   ],
   "source": [
    "input_m = [[1, 2, 3, 4], [2, 3, 4, 5], [3, 4, 5, 6], [4, 5, 6, 7]]\n",
    "lin,col=len(input_m),len(input_m[0])\n",
    "ken=[(0,-1),(1,0),(0,1),(-1,0)]\n",
    "\n",
    "last_line_record=[i for i in input_m[0]]\n",
    "for i in range(1,lin-1):\n",
    "    last_col=input_m[i][0]\n",
    "    for j in range(1,col-1):\n",
    "        res=0\n",
    "        for dx,dy in ken:\n",
    "            x,y=i+dx,j+dy\n",
    "            if dx==-1:\n",
    "                res+=last_line_record[y]\n",
    "            elif dy==-1:\n",
    "                res+=last_col\n",
    "            else:           \n",
    "                res+=input_m[x][y]\n",
    "        last_col=input_m[i][j]\n",
    "        last_line_record[j]=input_m[i][j]\n",
    "        input_m[i][j]=res\n",
    "print(input_m)\n",
    "# 朴素的做法"
   ]
  },
  {
   "cell_type": "code",
   "execution_count": null,
   "metadata": {},
   "outputs": [],
   "source": [
    "写一个python函数，对于一个n*m的矩阵，对于矩阵里面的每一个元素，如果存在上下左右4个值，则把上下左右相加，如果缺一个或多个值，就直接拷贝该数值。\n",
    "input_m = [[1, 2, 3, 4], \n",
    "           [2, 3, 4, 5], \n",
    "           [3, 4, 5, 6], \n",
    "           [4, 5, 6, 7]]\n",
    "output_m = [[1, 2, 3, 4], \n",
    "            [2, 12, 16, 5], \n",
    "            [3, 16, 20, 6], \n",
    "            [4, 5, 6, 7]]\n",
    "额外空间复杂度尽可能低"
   ]
  }
 ],
 "metadata": {
  "kernelspec": {
   "display_name": "torchok",
   "language": "python",
   "name": "python3"
  },
  "language_info": {
   "codemirror_mode": {
    "name": "ipython",
    "version": 3
   },
   "file_extension": ".py",
   "mimetype": "text/x-python",
   "name": "python",
   "nbconvert_exporter": "python",
   "pygments_lexer": "ipython3",
   "version": "3.11.11"
  }
 },
 "nbformat": 4,
 "nbformat_minor": 2
}
