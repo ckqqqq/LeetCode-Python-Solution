{
 "cells": [
  {
   "cell_type": "code",
   "execution_count": 2,
   "metadata": {},
   "outputs": [
    {
     "name": "stdout",
     "output_type": "stream",
     "text": [
      "5\n"
     ]
    }
   ],
   "source": [
    "def count_unique_arrays(arr, M):\n",
    "    n = len(arr)\n",
    "    memo = {}\n",
    "    \n",
    "    def dp(start):\n",
    "        if start in memo:\n",
    "            return memo[start]\n",
    "        \n",
    "        if start >= n:\n",
    "            return {()}  # 空数组\n",
    "        \n",
    "        result = set()\n",
    "        for end in range(start + 2, n + 1):  # 每个子数组至少2个元素\n",
    "            product = 1\n",
    "            for i in range(start, end):\n",
    "                product = (product * arr[i]) % M\n",
    "            \n",
    "            sub_arrays = dp(end)\n",
    "            for sub in sub_arrays:\n",
    "                result.add((product,) + sub)\n",
    "        \n",
    "        memo[start] = result\n",
    "        return result\n",
    "    \n",
    "    arrays = dp(0)\n",
    "    return len(arrays) % M\n",
    "\n",
    "# 读取输入\n",
    "# n = int(input())\n",
    "# arr = list(map(int, input().split()))\n",
    "arr=[4,2,1,1,2,4,4]\n",
    "n =len(arr)\n",
    "M = int(999)\n",
    "print(count_unique_arrays(arr, M))"
   ]
  }
 ],
 "metadata": {
  "kernelspec": {
   "display_name": "torchok",
   "language": "python",
   "name": "python3"
  },
  "language_info": {
   "codemirror_mode": {
    "name": "ipython",
    "version": 3
   },
   "file_extension": ".py",
   "mimetype": "text/x-python",
   "name": "python",
   "nbconvert_exporter": "python",
   "pygments_lexer": "ipython3",
   "version": "3.11.11"
  }
 },
 "nbformat": 4,
 "nbformat_minor": 2
}
