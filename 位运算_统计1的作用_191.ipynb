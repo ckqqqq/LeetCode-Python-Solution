{
 "cells": [
  {
   "cell_type": "code",
   "execution_count": null,
   "metadata": {},
   "outputs": [],
   "source": [
    "# 统计1的个数\n",
    "class Solution:\n",
    "    def hammingWeight(self, n: int) -> int:\n",
    "        count=0\n",
    "        while n!=0:\n",
    "            n=n&n-1#去除最后一个一\n",
    "            #n&-n 获取最后一个一\n",
    "            count+=1\n",
    "        return count"
   ]
  }
 ],
 "metadata": {
  "language_info": {
   "name": "python"
  },
  "orig_nbformat": 4
 },
 "nbformat": 4,
 "nbformat_minor": 2
}
