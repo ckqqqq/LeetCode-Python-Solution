{
 "cells": [
  {
   "attachments": {},
   "cell_type": "markdown",
   "metadata": {},
   "source": [
    "# top 1 的方法"
   ]
  },
  {
   "cell_type": "code",
   "execution_count": null,
   "metadata": {},
   "outputs": [],
   "source": [
    "# Definition for a binary tree node.\n",
    "# class TreeNode:\n",
    "#     def __init__(self, val=0, left=None, right=None):\n",
    "#         self.val = val\n",
    "#         self.left = left\n",
    "#         self.right = right\n",
    "class Solution:\n",
    "    def levelOrder(self, root: Optional[TreeNode]) -> List[List[int]]:\n",
    "        if not root:\n",
    "            return []\n",
    "        level = [root] # 用的list\n",
    "        res = []\n",
    "        while len(level) > 0:# 直接判定 \n",
    "            length = len(level)# 每层固定len\n",
    "            tmp_list = []# 使用list作为stack\n",
    "            for _ in range(length):\n",
    "                node = level.pop(0)\n",
    "                tmp_list.append(node.val)\n",
    "                if node.left:\n",
    "                    level.append(node.left)\n",
    "                if node.right:\n",
    "                    level.append(node.right)\n",
    "            res.append(tmp_list)\n",
    "        return res"
   ]
  },
  {
   "attachments": {},
   "cell_type": "markdown",
   "metadata": {},
   "source": [
    "## 这道题看似是层次遍历，实际上正解是披着BFS皮的DFS\n",
    "## 这道题其实也可以用BFS解，不过需要将每一层queue的大小固定下来"
   ]
  },
  {
   "cell_type": "code",
   "execution_count": 3,
   "metadata": {},
   "outputs": [
    {
     "name": "stdout",
     "output_type": "stream",
     "text": [
      "[]\n"
     ]
    }
   ],
   "source": [
    "#正解、\n",
    "# #其实这题可以用DFS还更快！\n",
    "from queue import Queue\n",
    "from typing import Optional\n",
    "from typing import List\n",
    "class TreeNode:\n",
    "    def __init__(self, val=0, left=None, right=None):\n",
    "        self.val = val\n",
    "        self.left = left\n",
    "        self.right = right\n",
    "\n",
    "class Solution:\n",
    "    def levelOrder(self, root: Optional[TreeNode]) -> List[List[int]]:\n",
    "        ans=[]\n",
    "        def dfs(root,height:int):\n",
    "            if root!=None:\n",
    "                if len(ans)-1<height:\n",
    "                    ans.append([root.val])\n",
    "                else:\n",
    "                    ans[height].append(root.val)\n",
    "                dfs(root.left,height+1)\n",
    "                dfs(root.right,height+1)\n",
    "        dfs(root,0)\n",
    "        return ans\n",
    "        \n",
    "if __name__==\"__main__\":\n",
    "    solution=Solution()\n",
    "    \n",
    "    print(solution.levelOrder(None))\n",
    "        "
   ]
  },
  {
   "attachments": {},
   "cell_type": "markdown",
   "metadata": {},
   "source": [
    "## 次优解解BFS 固定每层大小后循环遍历\n"
   ]
  },
  {
   "cell_type": "code",
   "execution_count": 4,
   "metadata": {},
   "outputs": [
    {
     "name": "stdout",
     "output_type": "stream",
     "text": [
      "[]\n"
     ]
    }
   ],
   "source": [
    "#层次遍历 空间N 次优解\n",
    "from queue import Queue\n",
    "from typing import Optional\n",
    "from typing import List\n",
    "class TreeNode:\n",
    "    def __init__(self, val=0, left=None, right=None):\n",
    "        self.val = val\n",
    "        self.left = left\n",
    "        self.right = right\n",
    "\n",
    "class Solution:\n",
    "    def levelOrder(self, root: Optional[TreeNode]) -> List[List[int]]:\n",
    "        que=Queue()\n",
    "        ans=[]\n",
    "        if root!=None:\n",
    "            que.put(root)\n",
    "        while not que.empty():\n",
    "            size=que.qsize()\n",
    "            # 获取当前层节点大小\n",
    "            level=[]\n",
    "            for _ in range(size):\n",
    "                cur=que.get()\n",
    "                if cur.left!=None:\n",
    "                    que.put(cur.left)\n",
    "                if cur.right!=None:\n",
    "                    que.put(cur.right)\n",
    "                level.append(cur.val)\n",
    "            ans.append(level)\n",
    "        return ans\n",
    "                \n",
    "if __name__==\"__main__\":\n",
    "    solution=Solution()\n",
    "    print(solution.levelOrder(None))\n",
    "        "
   ]
  },
  {
   "cell_type": "code",
   "execution_count": null,
   "metadata": {},
   "outputs": [],
   "source": [
    "#层次遍历 空间N 以前的错误解\n",
    "from queue import Queue\n",
    "from typing import Optional\n",
    "from typing import List\n",
    "class TreeNode:\n",
    "    def __init__(self, val=0, left=None, right=None):\n",
    "        self.val = val\n",
    "        self.left = left\n",
    "        self.right = right\n",
    "\n",
    "class Solution:\n",
    "    def levelOrder(self, root: Optional[TreeNode]) -> List[List[int]]:\n",
    "        if root==None:\n",
    "            #如果不特判，会造成可怕的死循环\n",
    "            return []\n",
    "        que=Queue() \n",
    "        que.put(root)\n",
    "        que.put(None)\n",
    "        ans=[]\n",
    "        curLevel=[]\n",
    "        while False!=que.empty():\n",
    "            node=que.get()\n",
    "            if node==None:\n",
    "                if False!=que.empty():\n",
    "                    que.put(None)\n",
    "                ans.append(curLevel)\n",
    "                curLevel.clear()\n",
    "            else:\n",
    "                curLevel.append(node.val) \n",
    "                if node.left:\n",
    "                    que.put(node.left)\n",
    "                if node.right:\n",
    "                    que.put(node.right)\n",
    "        return ans\n",
    "if __name__==\"__main__\":\n",
    "    solution=Solution()\n",
    "    print(solution.levelOrder(None))\n",
    "        "
   ]
  },
  {
   "cell_type": "code",
   "execution_count": null,
   "metadata": {},
   "outputs": [],
   "source": [
    "#层次遍历 空间2N 方法不好\n",
    "from queue import Queue\n",
    "from typing import Optional\n",
    "from typing import List\n",
    "class TreeNode:\n",
    "    def __init__(self, val=0, left=None, right=None):\n",
    "        self.val = val\n",
    "        self.left = left\n",
    "        self.right = right\n",
    "\n",
    "class Solution:\n",
    "    def levelOrder(self, root: Optional[TreeNode]) -> List[List[int]]:\n",
    "        que,num=Queue(),Queue() \n",
    "        if root!=None:\n",
    "            que.put(root)\n",
    "            num.put(0)\n",
    "        ans=[]\n",
    "        curLevel=[]\n",
    "        before=0\n",
    "        while que.empty()!=False:\n",
    "            curNode=que.get()\n",
    "            curNum=num.get()\n",
    "            if before!=curNum:\n",
    "                ans.append(curLevel)\n",
    "            else:\n",
    "                curLevel.append(curNode.val)\n",
    "                if curNode.left:\n",
    "                    que.put(curNode.left)\n",
    "                    num.put(curNum+1)\n",
    "                if curNode.right:\n",
    "                    que.put(curNode.right)\n",
    "                    num.put(curNum+1)\n",
    "        return ans\n",
    "if __name__==\"__main__\":\n",
    "    solution=Solution()\n",
    "    print(solution.levelOrder(None))\n",
    "        "
   ]
  },
  {
   "cell_type": "code",
   "execution_count": 1,
   "metadata": {},
   "outputs": [
    {
     "data": {
      "text/plain": [
       "True"
      ]
     },
     "execution_count": 1,
     "metadata": {},
     "output_type": "execute_result"
    }
   ],
   "source": [
    "from queue import Queue\n",
    "que=Queue()\n",
    "que.put(1)\n",
    "que.get()\n",
    "que.empty()"
   ]
  },
  {
   "cell_type": "markdown",
   "metadata": {},
   "source": []
  },
  {
   "cell_type": "code",
   "execution_count": null,
   "metadata": {},
   "outputs": [],
   "source": []
  }
 ],
 "metadata": {
  "kernelspec": {
   "display_name": "Python 3.8.13 ('py38')",
   "language": "python",
   "name": "python3"
  },
  "language_info": {
   "codemirror_mode": {
    "name": "ipython",
    "version": 3
   },
   "file_extension": ".py",
   "mimetype": "text/x-python",
   "name": "python",
   "nbconvert_exporter": "python",
   "pygments_lexer": "ipython3",
   "version": "3.8.13 | packaged by conda-forge | (default, Mar 25 2022, 05:59:00) [MSC v.1929 64 bit (AMD64)]"
  },
  "orig_nbformat": 4,
  "vscode": {
   "interpreter": {
    "hash": "76c3c49e318b7c885b43daef0aa3cfe4eb22ade01aff18419595a86661fada18"
   }
  }
 },
 "nbformat": 4,
 "nbformat_minor": 2
}
