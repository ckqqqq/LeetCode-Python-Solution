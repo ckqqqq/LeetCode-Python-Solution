{
 "cells": [
  {
   "cell_type": "code",
   "execution_count": 5,
   "metadata": {},
   "outputs": [
    {
     "name": "stdout",
     "output_type": "stream",
     "text": [
      "None\n"
     ]
    }
   ],
   "source": [
    "#层次遍历 空间N\n",
    "from queue import Queue\n",
    "from typing import Optional\n",
    "from typing import List\n",
    "class TreeNode:\n",
    "    def __init__(self, val=0, left=None, right=None):\n",
    "        self.val = val\n",
    "        self.left = left\n",
    "        self.right = right\n",
    "\n",
    "class Solution:\n",
    "    def levelOrder(self, root: Optional[TreeNode]) -> List[List[int]]:\n",
    "        if root==None:\n",
    "            #如果不特判，会造成可怕的死循环\n",
    "            return []\n",
    "        que=Queue() \n",
    "        que.put(root)\n",
    "        que.put(None)\n",
    "        ans=[]\n",
    "        curLevel=[]\n",
    "        while False!=que.empty():\n",
    "            node=que.get()\n",
    "            if node==None:\n",
    "                if False!=que.empty():\n",
    "                    que.put(None)\n",
    "                ans.append(curLevel)\n",
    "                curLevel.clear()\n",
    "            else:\n",
    "                curLevel.append(node.val) \n",
    "                if node.left:\n",
    "                    que.put(node.left)\n",
    "                if node.right:\n",
    "                    que.put(node.right)\n",
    "        return ans\n",
    "if __name__==\"__main__\":\n",
    "    solution=Solution()\n",
    "    print(solution.levelOrder(None))\n",
    "        "
   ]
  },
  {
   "cell_type": "code",
   "execution_count": null,
   "metadata": {},
   "outputs": [],
   "source": [
    "#层次遍历 空间2N\n",
    "from queue import Queue\n",
    "from typing import Optional\n",
    "from typing import List\n",
    "class TreeNode:\n",
    "    def __init__(self, val=0, left=None, right=None):\n",
    "        self.val = val\n",
    "        self.left = left\n",
    "        self.right = right\n",
    "\n",
    "class Solution:\n",
    "    def levelOrder(self, root: Optional[TreeNode]) -> List[List[int]]:\n",
    "        que,num=Queue(),Queue() \n",
    "        if root!=None:\n",
    "            que.put(root)\n",
    "            num.put(0)\n",
    "        ans=[]\n",
    "        curLevel=[]\n",
    "        before=0\n",
    "        while que.empty()!=False:\n",
    "            curNode=que.get()\n",
    "            curNum=num.get()\n",
    "            if before!=curNum:\n",
    "                ans.append(curLevel)\n",
    "            else:\n",
    "                curLevel.append(curNode.val)\n",
    "                if curNode.left:\n",
    "                    que.put(curNode.left)\n",
    "                    num.put(curNum+1)\n",
    "                if curNode.right:\n",
    "                    que.put(curNode.right)\n",
    "                    num.put(curNum+1)\n",
    "        return ans\n",
    "if __name__==\"__main__\":\n",
    "    solution=Solution()\n",
    "    print(solution.levelOrder(None))\n",
    "        "
   ]
  },
  {
   "cell_type": "code",
   "execution_count": 1,
   "metadata": {},
   "outputs": [
    {
     "data": {
      "text/plain": [
       "True"
      ]
     },
     "execution_count": 1,
     "metadata": {},
     "output_type": "execute_result"
    }
   ],
   "source": [
    "from queue import Queue\n",
    "que=Queue()\n",
    "que.put(1)\n",
    "que.get()\n",
    "que.empty()"
   ]
  }
 ],
 "metadata": {
  "kernelspec": {
   "display_name": "Python 3.8.13 ('py38')",
   "language": "python",
   "name": "python3"
  },
  "language_info": {
   "codemirror_mode": {
    "name": "ipython",
    "version": 3
   },
   "file_extension": ".py",
   "mimetype": "text/x-python",
   "name": "python",
   "nbconvert_exporter": "python",
   "pygments_lexer": "ipython3",
   "version": "3.8.13"
  },
  "orig_nbformat": 4,
  "vscode": {
   "interpreter": {
    "hash": "76c3c49e318b7c885b43daef0aa3cfe4eb22ade01aff18419595a86661fada18"
   }
  }
 },
 "nbformat": 4,
 "nbformat_minor": 2
}
