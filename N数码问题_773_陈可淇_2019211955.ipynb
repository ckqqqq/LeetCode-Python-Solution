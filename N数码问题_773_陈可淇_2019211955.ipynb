{
 "cells": [
  {
   "attachments": {},
   "cell_type": "markdown",
   "metadata": {},
   "source": [
    "课程 ：人工智能原理  \n",
    "学号：2019211955 （大四）  \n",
    "姓名：陈可淇  \n",
    "教师： 谭咏梅  \n",
    "题目：对于n*n数码问题的任意一个排列是否有解？有解的条件是什么？  \n",
    "~~~~\n"
   ]
  },
  {
   "cell_type": "code",
   "execution_count": null,
   "metadata": {},
   "outputs": [],
   "source": []
  },
  {
   "attachments": {},
   "cell_type": "markdown",
   "metadata": {},
   "source": [
    "老师你好，我认为N数码问题是否有解取决于这个排列的逆序对数的奇偶性，逆序数对奇偶性要和目标状态奇偶性( 0 )相同，否则无解。关于n数码问题的详细分析和代码实现可见附件中的.ipynb文件（需要用jupyter notebook打开）。\n",
    "不过我认为课堂上的讲解稍微缺乏代码实践，我建议将n数码问题同具体代码实现相结合，这是n数码问题的OJ题目网址 https://leetcode.cn/problems/sliding-puzzle/ ，附件中包含我对N数码问题的分析和可通过的代码。"
   ]
  },
  {
   "attachments": {},
   "cell_type": "markdown",
   "metadata": {},
   "source": [
    "对于n*n数码问题的任意一个排列，不一定都有解。是否有解取决于这个排列的逆序对数的奇偶性。  \n",
    "\n",
    "\n",
    "对于一个n*n数码问题的排列，将所有大于该数码的数（不包括空格）统计出来，称为该数码的逆序对数。  \n",
    "例如，对于排列 2 4 3 1  \n",
    "\n",
    "2的逆序对数为0，4的逆序对数为1（因为3比4小），3的逆序对数为1（因为1比3小），1的逆序对数为0。\n",
    "因此，该排列的逆序对数为2。  \n",
    "\n",
    "如果一个排列的逆序对数为偶数，那么它是有解的，否则无解。这是因为每一步移动都会改变逆序对数的奇偶性，而最终的目标状态的逆序对数是0，所以如果初始状态的逆序对数是偶数，那么可以通过一系列合法移动到达目标状态，否则无法到达目标状态。\n",
    "  \n",
    "以8数码问题为例，假设初始状态为：\n",
    "  \n",
    "\n",
    "1 2 3  \n",
    "4 5 6  \n",
    "8 7\n",
    "  \n",
    "这个排列的逆序对数为5，是奇数，因此无解。无论怎样移动，逆序对数始终为奇数，无法到达目标状态：\n",
    "  \n",
    "1 2 3  \n",
    "4 5 6  \n",
    "7 8  \n",
    "\n",
    "再举一个例子，对于4*4数码问题，假设初始状态为：\n",
    "\n",
    "1 2 3 4  \n",
    "5 6 7 8  \n",
    "9 10 11 12  \n",
    "13 15 14  \n",
    "\n",
    "这个排列的逆序对数为15，是奇数，因此无解。无论怎样移动，逆序对数始终为奇数，无法到达目标状态：  \n",
    "\n",
    "1 2 3 4  \n",
    "5 6 7 8  \n",
    "9 10 11 12  \n",
    "13 14 15  \n",
    "\n",
    "因此，对于n为偶数的n*n数码问题的任意一个排列，有解的条件仍然是它的逆序对数为偶数。  \n",
    "  \n",
    "综上，对于n*n数码问题的任意一个排列，有解的条件是它的**逆序对数为偶数**。  "
   ]
  },
  {
   "attachments": {},
   "cell_type": "markdown",
   "metadata": {},
   "source": [
    "### 代码实现n数码问题"
   ]
  },
  {
   "attachments": {},
   "cell_type": "markdown",
   "metadata": {},
   "source": [
    "题目信息：https://leetcode.cn/problems/sliding-puzzle/"
   ]
  },
  {
   "cell_type": "code",
   "execution_count": null,
   "metadata": {},
   "outputs": [],
   "source": [
    "题目分析：\n",
    "这道题不仅需要判断是否有解，还需要找到最短的移动次数\n"
   ]
  },
  {
   "attachments": {},
   "cell_type": "markdown",
   "metadata": {},
   "source": [
    "## 判断是否有解： \n",
    "逆序对的数量是否为偶数，而对于通用的 N∗N 数码问题，判定有解的一个充要条件是：「逆序对」数量为偶数，如果不满足，必然无解，直接返回-1"
   ]
  },
  {
   "attachments": {},
   "cell_type": "markdown",
   "metadata": {},
   "source": [
    "## 选择最短路径： A * 算法\n",
    "选择最短路的过程中我们可以使用A*算法进行剪枝。A * 算法的原理就是用一个估值函数去估计当前状态的价值。\n",
    "所谓A *算法其实和强化学习有异曲同工之处。A * 算法由四个函数组成。\n",
    "假设起点为s，重点为t，当前状态为X。\n",
    "G（x）为从起点s到x已经花费的代价 。\n",
    "H（x）为从当前状态x到重点t的**估计**代价。\n",
    "那么此时此刻，对起点s到终点t的函数F（x）=G（x）+ H（x） \n",
    " F（x）函数为从s到t的代价估计，将F（x）放到优先队列中从小到大排名，就可有效减少搜索空间\n",
    "\n",
    "## 如何估计H（x）\n",
    "H（x）是在x状态对未来的估计，H函数要求如下\n",
    "* 好计算\n",
    "* 当到达目标状态之后，所有位置的H（x）之和应当为最小值，最好为0\n",
    "1 2 3  \n",
    "4 5 6  \n",
    "7 8  \n",
    "* H（x）应当大于等于最优（最小）需要移动的值 H*（x）\n",
    "即在x状态对x到t的估计应当大于x状态从x到t的最小解。\n",
    "这里，我们选择当前位置x和x的目标位置x'的曼哈顿距离作为H（x）函数。  \n",
    "目标状态\n",
    "1 2 3  \n",
    "4 5 6  \n",
    "7 8  \n",
    "当前状态\n",
    "1 2 3  \n",
    "4 6 5 \n",
    "  7 8\n",
    "H（x）函数的值，曼哈顿距离\n",
    "0 0 0\n",
    "0 1 1\n",
    "  1 1\n",
    "曼哈顿距离的和为4\n",
    "\n",
    "在一个操作中，我们如果想交换空格和某个数字x的位置，那么交换的次数就等于两者之间的曼哈顿距离。  \n",
    "诶，我们注意到曼哈顿距离是一个很好的启发式函数，所以：\n",
    "State表示当前节点：\n",
    "将曼哈顿距离作为H(x) 就是代码中的 self.h\n",
    "记录节点从s（start）到x所花费的代价G(x)（self.g）\n",
    "记录节点对从s（start）到t（terminal）的估计F（x）=G（x）+ H（x）  (self.f)\n",
    "根据self.f从小到大排序（堆），从小的开始遍历，该算法就是启发式搜索。 \n"
   ]
  },
  {
   "cell_type": "code",
   "execution_count": 7,
   "metadata": {},
   "outputs": [
    {
     "ename": "SyntaxError",
     "evalue": "unexpected EOF while parsing (796833037.py, line 11)",
     "output_type": "error",
     "traceback": [
      "\u001b[1;36m  Input \u001b[1;32mIn [7]\u001b[1;36m\u001b[0m\n\u001b[1;33m    def slidingPuzzle(self, board: List[List[int]]) -> int:\u001b[0m\n\u001b[1;37m                                                           ^\u001b[0m\n\u001b[1;31mSyntaxError\u001b[0m\u001b[1;31m:\u001b[0m unexpected EOF while parsing\n"
     ]
    }
   ],
   "source": [
    "# 代码\n",
    "from queue import PriorityQueue\n",
    "class Solution:\n",
    "    def isValid(self,board:List[List[int]]) ->int:\n",
    "        myboard=[board[i][j] for i in range(2) for j in range(3)]\n",
    "        # 直接序列化 逆序数对的个数\n",
    "        num_inverse=sum(1 for i in range(6) \n",
    "                    for j in range(i+1, 6) \n",
    "                        if myboard[j] and myboard[i] > myboard[j])\n",
    "        if num_inverse%2==1:# 如果逆序数对的个数为偶数,那么这道题无解\n",
    "            return -1\n",
    "        else:\n",
    "            return 1\n",
    "    def slidingPuzzle(self, board: List[List[int]]) -> int:\n",
    "        \n",
    "        "
   ]
  },
  {
   "cell_type": "code",
   "execution_count": null,
   "metadata": {},
   "outputs": [],
   "source": [
    "## 代码实现\n",
    "import heapq\n",
    "from typing import List\n",
    "\n",
    "\n",
    "class Solution:\n",
    "    def slidingPuzzle(self, board: List[List[int]]) -> int:\n",
    "        # 邻近点\n",
    "        neighbors = {0: (1, 3), 1: (0, 2, 4), 2: (1, 5), 3: (0, 4), 4: (1, 3, 5), 5: (2, 4)}\n",
    "\n",
    "        # 曼哈顿距离\n",
    "        def ManhattanDist(p1, p2):\n",
    "            return abs(p2[0] - p1[0]) + abs(p2[1] - p1[1])\n",
    "\n",
    "        # State状态\n",
    "        class State:\n",
    "            def __init__(self, b=None, cost=0):\n",
    "                self.board = b\n",
    "                self.h = self.heuristic()\n",
    "                self.g = cost\n",
    "                # A*, f=h+g\n",
    "                self.f = self.h + self.g\n",
    "                self.hash = hash(tuple(self.board))\n",
    "\n",
    "            def __lt__(self, other):\n",
    "                return self.f < other.f\n",
    "\n",
    "            def __eq__(self, other):\n",
    "                return self.hash == other.hash or self.board == other.board\n",
    "\n",
    "            def __hash__(self):\n",
    "                return self.hash\n",
    "\n",
    "            # 两种启发式\n",
    "            def heuristic(self):\n",
    "                return sum(\n",
    "                    ManhattanDist((i // 3, i % 3), ((num - 1) // 3, (num - 1) % 3))\n",
    "                    for i, num in enumerate(self.board) if num)\n",
    "\n",
    "            # 下一个状态为和0的各种交换\n",
    "            def successor(self):\n",
    "                idx = self.board.index(0)\n",
    "                successors = []\n",
    "                for ng in neighbors[idx]:\n",
    "                    temp = self.board[:]\n",
    "                    temp[idx] = temp[ng]\n",
    "                    temp[ng] = 0\n",
    "                    successors.append(State(temp, self.g + 1))\n",
    "                return successors\n",
    "\n",
    "        board = board[0] + board[1]\n",
    "        # n*m puzzle中，m为奇数时,逆序数对奇偶性要和最终奇偶性相同，否则无解\n",
    "        if sum(1 for i in range(6) for j in range(i+1, 6) if board[j] and board[i] > board[j]) % 2 == 1:\n",
    "            return -1\n",
    "        initState = State(board)\n",
    "        pq = [initState]\n",
    "        explored = {initState}\n",
    "        # 优先队列以f=h+g进行了排序\n",
    "        while pq:\n",
    "            state = heapq.heappop(pq)\n",
    "            if state.board == [1, 2, 3, 4, 5, 0]:\n",
    "                return state.g\n",
    "            for successor in state.successor():\n",
    "                if successor not in explored:\n",
    "                    explored.add(successor)\n",
    "                    heapq.heappush(pq, successor)\n",
    "        return -1\n",
    "solution=Solution()\n",
    "board = [[1,2,3],[4,0,5]]\n",
    "print(solution.slidingPuzzle(board))\n",
    "board = [[1,2,3],[5,4,0]]\n",
    "print(solution.slidingPuzzle(board))\n",
    "board = [[4,1,2],[5,0,3]]\n",
    "print(solution.slidingPuzzle(board))\n",
    "\n"
   ]
  },
  {
   "cell_type": "code",
   "execution_count": 17,
   "metadata": {},
   "outputs": [
    {
     "name": "stdout",
     "output_type": "stream",
     "text": [
      "1\n"
     ]
    }
   ],
   "source": [
    "from typing import List\n",
    "def isValid(board:List[List[int]]) ->int:\n",
    "    # 计算逆序数对\n",
    "    myboard=[board[i][j] for i in range(2) for j in range(3)]\n",
    "    # 直接序列化\n",
    "    inverpair=sum(1 for i in range(6) \n",
    "                for j in range(i+1, 6) \n",
    "                    if myboard[j] and myboard[i] > myboard[j]) \n",
    "    #计算逆序数对\n",
    "    if inverpair% 2 == 1:# 计算逆序数对\n",
    "        return -1\n",
    "    else:\n",
    "        return 1\n",
    "board = [[1,2,3],[4,0,5]]\n",
    "board = [[1,2,3],[5,4,0]]\n",
    "board = [[4,1,2],[5,0,3]]\n",
    "print(\"本次6数码问题是否有解\"，isValid(board))\n"
   ]
  }
 ],
 "metadata": {
  "kernelspec": {
   "display_name": "py38",
   "language": "python",
   "name": "python3"
  },
  "language_info": {
   "codemirror_mode": {
    "name": "ipython",
    "version": 3
   },
   "file_extension": ".py",
   "mimetype": "text/x-python",
   "name": "python",
   "nbconvert_exporter": "python",
   "pygments_lexer": "ipython3",
   "version": "3.8.13"
  },
  "orig_nbformat": 4
 },
 "nbformat": 4,
 "nbformat_minor": 2
}
