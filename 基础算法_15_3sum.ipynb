{
 "cells": [
  {
   "cell_type": "markdown",
   "metadata": {},
   "source": []
  },
  {
   "cell_type": "markdown",
   "metadata": {},
   "source": [
    "15. 3Sum\n",
    "Medium\n",
    "\n",
    "20738\n",
    "\n",
    "1939\n",
    "\n",
    "Add to List\n",
    "\n",
    "Share\n",
    "Given an integer array nums, return all the triplets [nums[i], nums[j], nums[k]] such that i != j, i != k, and j != k, and nums[i] + nums[j] + nums[k] == 0.\n",
    "\n",
    "Notice that the solution set must not contain duplicate triplets.\n",
    "\n",
    " \n",
    "\n",
    "Example 1:\n",
    "\n",
    "Input: nums = [-1,0,1,2,-1,-4]\n",
    "Output: [[-1,-1,2],[-1,0,1]]\n",
    "Explanation: \n",
    "nums[0] + nums[1] + nums[2] = (-1) + 0 + 1 = 0.\n",
    "nums[1] + nums[2] + nums[4] = 0 + 1 + (-1) = 0.\n",
    "nums[0] + nums[3] + nums[4] = (-1) + 2 + (-1) = 0.\n",
    "The distinct triplets are [-1,0,1] and [-1,-1,2].\n",
    "Notice that the order of the output and the order of the triplets does not matter.\n",
    "Example 2:\n",
    "\n",
    "Input: nums = [0,1,1]\n",
    "Output: []\n",
    "Explanation: The only possible triplet does not sum up to 0.\n",
    "Example 3:\n",
    "\n",
    "Input: nums = [0,0,0]\n",
    "Output: [[0,0,0]]\n",
    "Explanation: The only possible triplet sums up to 0.\n",
    " \n",
    "\n",
    "Constraints:\n",
    "\n",
    "3 <= nums.length <= 3000\n",
    "-105 <= nums[i] <= 105\n",
    "Accepted\n",
    "2,201,829\n",
    "Submissions\n",
    "6,897,553"
   ]
  },
  {
   "cell_type": "code",
   "execution_count": null,
   "metadata": {},
   "outputs": [],
   "source": []
  },
  {
   "cell_type": "code",
   "execution_count": 20,
   "metadata": {},
   "outputs": [
    {
     "name": "stdout",
     "output_type": "stream",
     "text": [
      "-1 -1 2\n",
      "-1 0 1\n",
      "-1 0 1\n",
      "[[-1, 0, 1], [-1, -1, 2]]\n"
     ]
    }
   ],
   "source": [
    "##我的解法的问题：无法判断重复，可见后面的数组[[-1, 0, 1], [-1, 2, -1], [0, 1, -1]]\n",
    "from typing import List \n",
    "class Solution:\n",
    "    def threeSum(self,nums:List[int])->List:\n",
    "        arrSet={}\n",
    "        res=set()\n",
    "        nums.sort()\n",
    "        for index,val in enumerate(nums):\n",
    "            arrSet[val]=index\n",
    "        for i in range(len(nums)-1):\n",
    "            for j in range(i+1,len(nums)):\n",
    "                twoSum=-nums[i]-nums[j]\n",
    "                if arrSet.get(twoSum)!=None and j<arrSet[twoSum] :\n",
    "                    print(nums[i],nums[j],nums[arrSet[twoSum]])\n",
    "                    res.add((nums[i],nums[j],nums[arrSet[twoSum]]))#注意里面是圆括号，目的是为了去重\n",
    "        return list(map(list,res))#一种比较阴间的去重方法\n",
    "if __name__==\"__main__\":\n",
    "    solution=Solution()\n",
    "    print(solution.threeSum([-1,0,1,2,-1,-4]))\n",
    "    ###\n",
    "    "
   ]
  },
  {
   "cell_type": "code",
   "execution_count": 19,
   "metadata": {},
   "outputs": [
    {
     "name": "stdout",
     "output_type": "stream",
     "text": [
      "[-1, 0, 1]\n",
      "[-1, -1, 2]\n",
      "[-1, 0, 1]\n",
      "[[-1, 0, 1], [-1, -1, 2]]\n"
     ]
    }
   ],
   "source": [
    "##官方写法# 好像没啥区别\n",
    "from typing import List \n",
    "class Solution:\n",
    "    def threeSum(self,nums:List[int])->List:\n",
    "        if len(nums)<3:\n",
    "            return []\n",
    "        nums.sort()\n",
    "        res=set()#上面这两步是为了对值去重\n",
    "        for i in range(0,len(nums)-1):\n",
    "            dic={} \n",
    "            for j in range(i+1,len(nums)):#最大的一个数\n",
    "                if nums[j] not in dic:#j可能是序号次大的那个数\n",
    "                    dic[-nums[i]-nums[j]]=1\n",
    "                else:#j是最大的那个数,其中的序号为\n",
    "                    print([nums[i],-nums[i]-nums[j],nums[j]])\n",
    "                    res.add((nums[i],-nums[i]-nums[j],nums[j]))\n",
    "        return list(map(list,res))#那个list是空的\n",
    "if __name__==\"__main__\":\n",
    "    solution=Solution()\n",
    "    print(solution.threeSum([-1,0,1,2,-1,-4]))\n",
    "    ###\n",
    "    "
   ]
  },
  {
   "cell_type": "code",
   "execution_count": 27,
   "metadata": {},
   "outputs": [
    {
     "name": "stdout",
     "output_type": "stream",
     "text": [
      "-1 -1 2\n",
      "1 2 5\n",
      "-1 0 1\n",
      "1 3 4\n",
      "-1 0 1\n",
      "2 3 4\n",
      "[[-1, 0, 1], [-1, -1, 2]]\n"
     ]
    }
   ],
   "source": [
    "##官方写法# 好像没啥区别\n",
    "from typing import List \n",
    "class Solution:\n",
    "    def threeSum(self,nums:List[int])->List:\n",
    "        if len(nums)<3:\n",
    "            return []\n",
    "        nums.sort()\n",
    "        res=set()\n",
    "        for i in range(0,len(nums)-2):\n",
    "            target=-nums[i]\n",
    "            l,r=i+1,len(nums)-1\n",
    "            while l<r:\n",
    "                while nums[l]+nums[r]>target and l<r:#可这个循环可以改成if \n",
    "                    r-=1#从小到大，右边界左移\n",
    "                while nums[l]+nums[r]<target and l<r:\n",
    "                    l+=1#太小了\n",
    "                if nums[l]+nums[r]==target and l<r:#s时刻保持l<r十分重要！！！\n",
    "                    # print(nums[i],nums[l],nums[r])\n",
    "                    # print(i,l,r)s时刻保持l<r十分重要！！！#否则这里有可能重复\n",
    "                    \n",
    "                    res.add((nums[i],nums[l],nums[r]))\n",
    "                    while l<r and nums[l]==nums[l+1]:#防止在有序数组中的重复,跳过重复的地方\n",
    "                        l+=1\n",
    "                    while l<r and nums[r]==nums[r-1]:\n",
    "                        r-=1\n",
    "                    l+=1\n",
    "                    r-=1#这两部十分关键,其实关键就是保持变化\n",
    "                    #否则任意一方变化最终还是会动的\n",
    "                    \n",
    "                    \n",
    "        return list(map(list,res))   \n",
    "        \n",
    "if __name__==\"__main__\":\n",
    "    solution=Solution()\n",
    "    print(solution.threeSum([-1,0,1,2,-1,-4]))\n",
    "    ###\n",
    "    "
   ]
  }
 ],
 "metadata": {
  "kernelspec": {
   "display_name": "Python 3.8.13 ('py38')",
   "language": "python",
   "name": "python3"
  },
  "language_info": {
   "codemirror_mode": {
    "name": "ipython",
    "version": 3
   },
   "file_extension": ".py",
   "mimetype": "text/x-python",
   "name": "python",
   "nbconvert_exporter": "python",
   "pygments_lexer": "ipython3",
   "version": "3.8.13 | packaged by conda-forge | (default, Mar 25 2022, 05:59:00) [MSC v.1929 64 bit (AMD64)]"
  },
  "orig_nbformat": 4,
  "vscode": {
   "interpreter": {
    "hash": "76c3c49e318b7c885b43daef0aa3cfe4eb22ade01aff18419595a86661fada18"
   }
  }
 },
 "nbformat": 4,
 "nbformat_minor": 2
}
